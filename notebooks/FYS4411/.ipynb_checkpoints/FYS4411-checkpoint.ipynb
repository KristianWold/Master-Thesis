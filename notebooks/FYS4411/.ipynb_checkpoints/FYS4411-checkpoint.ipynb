{
 "cells": [
  {
   "cell_type": "code",
   "execution_count": 18,
   "metadata": {},
   "outputs": [
    {
     "name": "stdout",
     "output_type": "stream",
     "text": [
      "The autoreload extension is already loaded. To reload it, use:\n",
      "  %reload_ext autoreload\n"
     ]
    }
   ],
   "source": [
    "import numpy as np\n",
    "import qiskit as qk\n",
    "import matplotlib.pyplot as plt\n",
    "\n",
    "from qiskit import Aer\n",
    "from tqdm.notebook import tqdm\n",
    "from sklearn.datasets import load_iris\n",
    "from sklearn.datasets import load_breast_cancer\n",
    "from sklearn.model_selection import train_test_split\n",
    "from sklearn.decomposition import PCA\n",
    "from sklearn.linear_model import LogisticRegression\n",
    "\n",
    "import sys\n",
    "sys.path.insert(0, '../../src/')\n",
    "from neuralnetwork import *\n",
    "from analysis import *\n",
    "\n",
    "#%matplotlib notebook\n",
    "%matplotlib inline\n",
    "%load_ext autoreload\n",
    "%autoreload 2"
   ]
  },
  {
   "cell_type": "markdown",
   "metadata": {},
   "source": [
    "# Iris Data"
   ]
  },
  {
   "cell_type": "markdown",
   "metadata": {},
   "source": [
    "## Data Preparation"
   ]
  },
  {
   "cell_type": "code",
   "execution_count": 19,
   "metadata": {},
   "outputs": [],
   "source": [
    "iris = load_iris()"
   ]
  },
  {
   "cell_type": "code",
   "execution_count": 20,
   "metadata": {},
   "outputs": [],
   "source": [
    "x = iris.data\n",
    "y = iris.target"
   ]
  },
  {
   "cell_type": "markdown",
   "metadata": {},
   "source": [
    "### Only first two classes"
   ]
  },
  {
   "cell_type": "code",
   "execution_count": 21,
   "metadata": {},
   "outputs": [
    {
     "name": "stdout",
     "output_type": "stream",
     "text": [
      "(100, 4) (100, 1)\n"
     ]
    }
   ],
   "source": [
    "x = x[y != 2]\n",
    "y = y[y != 2].reshape(-1,1)\n",
    "print(x.shape, y.shape)"
   ]
  },
  {
   "cell_type": "markdown",
   "metadata": {},
   "source": [
    "### Normalize Input Data"
   ]
  },
  {
   "cell_type": "code",
   "execution_count": 26,
   "metadata": {},
   "outputs": [],
   "source": [
    "x = scaler(x, a=0, b=np.pi)"
   ]
  },
  {
   "cell_type": "markdown",
   "metadata": {},
   "source": [
    "## Train Model"
   ]
  },
  {
   "cell_type": "code",
   "execution_count": 33,
   "metadata": {},
   "outputs": [],
   "source": [
    "backend = Aer.get_backend('qasm_simulator')"
   ]
  },
  {
   "cell_type": "code",
   "execution_count": 34,
   "metadata": {},
   "outputs": [],
   "source": [
    "np.random.seed(42)\n",
    "layer = QLayer(n_qubits=4, \n",
    "               n_features=4, \n",
    "               n_targets=1, \n",
    "               encoder=Encoder(mode=\"z\"), \n",
    "               ansatz=Ansatz(blocks = [\"entangle\", \"ry\"], reps=2), \n",
    "               sampler=LastBit(), \n",
    "               backend=backend, \n",
    "               shots=10000)\n",
    "\n",
    "network1 = NeuralNetwork([layer], cost=MSE(), optimizer = GD(lr=1))"
   ]
  },
  {
   "cell_type": "code",
   "execution_count": 35,
   "metadata": {},
   "outputs": [
    {
     "data": {
      "application/vnd.jupyter.widget-view+json": {
       "model_id": "85ae9af98cb24a7fa27ee8b8a6a7fd4c",
       "version_major": 2,
       "version_minor": 0
      },
      "text/plain": [
       "  0%|          | 0/100 [00:00<?, ?it/s]"
      ]
     },
     "metadata": {},
     "output_type": "display_data"
    },
    {
     "name": "stdout",
     "output_type": "stream",
     "text": [
      "epoch: 0, loss: 0.6153816215999999\n",
      "epoch: 1, loss: 0.5546076669000001\n",
      "epoch: 2, loss: 0.4852138490999999\n",
      "epoch: 3, loss: 0.41593587199999993\n",
      "epoch: 4, loss: 0.35355288169999993\n",
      "epoch: 5, loss: 0.3007889168\n",
      "epoch: 6, loss: 0.2583871232\n",
      "epoch: 7, loss: 0.2249753973\n",
      "epoch: 8, loss: 0.19780162050000002\n",
      "epoch: 9, loss: 0.17507396600000003\n",
      "epoch: 10, loss: 0.15663664509999997\n",
      "epoch: 11, loss: 0.14163088049999997\n",
      "epoch: 12, loss: 0.1274868191\n",
      "epoch: 13, loss: 0.11561843120000002\n",
      "epoch: 14, loss: 0.10573698310000001\n",
      "epoch: 15, loss: 0.09686760879999998\n",
      "epoch: 16, loss: 0.08933661609999997\n",
      "epoch: 17, loss: 0.08352963020000001\n",
      "epoch: 18, loss: 0.077485259\n",
      "epoch: 19, loss: 0.07270774120000001\n",
      "epoch: 20, loss: 0.0678919434\n",
      "epoch: 21, loss: 0.06466005979999999\n",
      "epoch: 22, loss: 0.061130286499999985\n",
      "epoch: 23, loss: 0.0584456166\n",
      "epoch: 24, loss: 0.05566014009999999\n",
      "epoch: 25, loss: 0.0530034846\n",
      "epoch: 26, loss: 0.0515149915\n",
      "epoch: 27, loss: 0.04962479969999999\n",
      "epoch: 28, loss: 0.04826547399999999\n",
      "epoch: 29, loss: 0.04679311009999999\n",
      "epoch: 30, loss: 0.04517426560000001\n",
      "epoch: 31, loss: 0.0441990586\n",
      "epoch: 32, loss: 0.04304556260000001\n",
      "epoch: 33, loss: 0.0424854059\n",
      "epoch: 34, loss: 0.04164972339999999\n",
      "epoch: 35, loss: 0.04057179519999999\n",
      "epoch: 36, loss: 0.0403104999\n",
      "epoch: 37, loss: 0.039209160900000005\n",
      "epoch: 38, loss: 0.038700320200000006\n",
      "epoch: 39, loss: 0.03815292879999999\n",
      "epoch: 40, loss: 0.0378216505\n",
      "epoch: 41, loss: 0.036864146699999996\n",
      "epoch: 42, loss: 0.0366873287\n",
      "epoch: 43, loss: 0.0368099448\n",
      "epoch: 44, loss: 0.0361340795\n",
      "epoch: 45, loss: 0.0357911269\n",
      "epoch: 46, loss: 0.03559538469999999\n",
      "epoch: 47, loss: 0.035068125900000004\n",
      "epoch: 48, loss: 0.034868807200000004\n",
      "epoch: 49, loss: 0.0344986595\n",
      "epoch: 50, loss: 0.03445183710000001\n",
      "epoch: 51, loss: 0.0343014336\n",
      "epoch: 52, loss: 0.0341601778\n",
      "epoch: 53, loss: 0.0338733559\n",
      "epoch: 54, loss: 0.033550828\n",
      "epoch: 55, loss: 0.0336906486\n",
      "epoch: 56, loss: 0.033254775\n",
      "epoch: 57, loss: 0.033179056400000004\n",
      "epoch: 58, loss: 0.032702938\n",
      "epoch: 59, loss: 0.033014079300000006\n",
      "epoch: 60, loss: 0.0328231329\n",
      "epoch: 61, loss: 0.032282258099999996\n",
      "epoch: 62, loss: 0.032449569100000006\n",
      "epoch: 63, loss: 0.0326588497\n",
      "epoch: 64, loss: 0.0325062924\n",
      "epoch: 65, loss: 0.032209736899999994\n",
      "epoch: 66, loss: 0.032101922699999993\n",
      "epoch: 67, loss: 0.0320278125\n",
      "epoch: 68, loss: 0.0320159269\n",
      "epoch: 69, loss: 0.031933888800000004\n",
      "epoch: 70, loss: 0.0319660752\n",
      "epoch: 71, loss: 0.032120454699999995\n",
      "epoch: 72, loss: 0.032049127\n",
      "epoch: 73, loss: 0.0314577229\n",
      "epoch: 74, loss: 0.031783586600000004\n",
      "epoch: 75, loss: 0.031479035\n",
      "epoch: 76, loss: 0.031471502400000004\n",
      "epoch: 77, loss: 0.0316015848\n",
      "epoch: 78, loss: 0.0315915431\n",
      "epoch: 79, loss: 0.031208349200000006\n",
      "epoch: 80, loss: 0.031309844999999996\n",
      "epoch: 81, loss: 0.0315902167\n",
      "epoch: 82, loss: 0.031285165100000005\n",
      "epoch: 83, loss: 0.0312549378\n",
      "epoch: 84, loss: 0.031136593600000005\n",
      "epoch: 85, loss: 0.0311003337\n",
      "epoch: 86, loss: 0.030883688100000004\n",
      "epoch: 87, loss: 0.031238426000000007\n",
      "epoch: 88, loss: 0.0310693017\n",
      "epoch: 89, loss: 0.0308992035\n",
      "epoch: 90, loss: 0.0309977993\n",
      "epoch: 91, loss: 0.030876390200000003\n",
      "epoch: 92, loss: 0.0310339666\n",
      "epoch: 93, loss: 0.030965286200000004\n",
      "epoch: 94, loss: 0.03089159139999999\n",
      "epoch: 95, loss: 0.0306977582\n",
      "epoch: 96, loss: 0.030508728599999993\n",
      "epoch: 97, loss: 0.0310843845\n",
      "epoch: 98, loss: 0.030830075199999998\n",
      "epoch: 99, loss: 0.030783826800000004\n"
     ]
    }
   ],
   "source": [
    "network1.train(x, y, epochs = 100, verbose = True)"
   ]
  },
  {
   "cell_type": "code",
   "execution_count": 40,
   "metadata": {},
   "outputs": [],
   "source": [
    "y_pred = np.round(network1.predict(x)).astype(int)"
   ]
  },
  {
   "cell_type": "code",
   "execution_count": 41,
   "metadata": {},
   "outputs": [
    {
     "name": "stdout",
     "output_type": "stream",
     "text": [
      "[0 0 0 0 0 0 0 0 0 0 0 0 0 0 0 0 0 0 0 0 0 0 0 0 0 0 0 0 0 0 0 0 0 0 0 0 0\n",
      " 0 0 0 0 0 0 0 0 0 0 0 0 0 1 1 1 1 1 1 1 1 1 1 1 1 1 1 1 1 1 1 1 1 1 1 1 1\n",
      " 1 1 1 1 1 1 1 1 1 1 1 1 1 1 1 1 1 1 1 1 1 1 1 1 1 1]\n",
      "[0 0 0 0 0 0 0 0 0 0 0 0 0 0 0 0 0 0 0 0 0 0 0 0 0 0 0 0 0 0 0 0 0 0 0 0 0\n",
      " 0 0 0 0 0 0 0 0 0 0 0 0 0 1 1 1 1 1 1 1 1 1 1 1 1 1 1 1 1 1 1 1 1 1 1 1 1\n",
      " 1 1 1 1 1 1 1 1 1 1 1 1 1 1 1 1 1 1 1 1 1 1 1 1 1 1]\n"
     ]
    }
   ],
   "source": [
    "print(y_pred.flatten())\n",
    "print(y.flatten())"
   ]
  },
  {
   "cell_type": "code",
   "execution_count": 42,
   "metadata": {},
   "outputs": [
    {
     "name": "stdout",
     "output_type": "stream",
     "text": [
      "1.0\n"
     ]
    }
   ],
   "source": [
    "print(np.mean(y_pred == y))"
   ]
  },
  {
   "cell_type": "markdown",
   "metadata": {},
   "source": [
    "## Breast Cancer Data"
   ]
  },
  {
   "cell_type": "code",
   "execution_count": 44,
   "metadata": {},
   "outputs": [],
   "source": [
    "data = load_breast_cancer()\n",
    "x = data.data\n",
    "y = data.target.reshape(-1, 1)\n",
    "\n",
    "np.random.seed(42)\n",
    "x, _, y, _ = train_test_split(x, y, train_size=100)\n",
    "x = scaler(x[:,:4], a=0, b=np.pi)"
   ]
  },
  {
   "cell_type": "code",
   "execution_count": 45,
   "metadata": {},
   "outputs": [],
   "source": [
    "np.random.seed(42)\n",
    "layer = QLayer(n_qubits=4, \n",
    "               n_features=4, \n",
    "               n_targets=1, \n",
    "               encoder=Encoder(mode=\"z\"), \n",
    "               ansatz=Ansatz(blocks = [\"entangle\", \"ry\"], reps=2), \n",
    "               sampler=LastBit(), \n",
    "               backend=backend, \n",
    "               shots=10000)\n",
    "\n",
    "network2 = NeuralNetwork([layer], cost=CrossEntropy(), optimizer = GD(lr=1))"
   ]
  },
  {
   "cell_type": "code",
   "execution_count": null,
   "metadata": {},
   "outputs": [
    {
     "data": {
      "application/vnd.jupyter.widget-view+json": {
       "model_id": "be36b918c79146a093ca9eaff2b59221",
       "version_major": 2,
       "version_minor": 0
      },
      "text/plain": [
       "  0%|          | 0/100 [00:00<?, ?it/s]"
      ]
     },
     "metadata": {},
     "output_type": "display_data"
    },
    {
     "name": "stdout",
     "output_type": "stream",
     "text": [
      "epoch: 0, loss: 0.2020240342\n",
      "epoch: 1, loss: 0.20234306319999998\n",
      "epoch: 2, loss: 0.20133099989999995\n",
      "epoch: 3, loss: 0.20232321349999993\n",
      "epoch: 4, loss: 0.20249107979999997\n",
      "epoch: 5, loss: 0.20215664229999994\n",
      "epoch: 6, loss: 0.2019007321\n",
      "epoch: 7, loss: 0.20149482240000002\n",
      "epoch: 8, loss: 0.2020979412\n",
      "epoch: 9, loss: 0.20148213540000004\n",
      "epoch: 10, loss: 0.2014062908\n",
      "epoch: 11, loss: 0.20132199550000002\n",
      "epoch: 12, loss: 0.20051587049999997\n",
      "epoch: 13, loss: 0.20130059349999999\n",
      "epoch: 14, loss: 0.20159643800000002\n",
      "epoch: 15, loss: 0.2009727314\n"
     ]
    }
   ],
   "source": [
    "network2.train(x, y, epochs = 100, verbose = True)"
   ]
  },
  {
   "cell_type": "code",
   "execution_count": null,
   "metadata": {},
   "outputs": [],
   "source": [
    "y_pred = np.round(network2.predict(x)).astype(int)"
   ]
  },
  {
   "cell_type": "code",
   "execution_count": null,
   "metadata": {},
   "outputs": [],
   "source": [
    "print(np.mean(y_pred == y))"
   ]
  },
  {
   "cell_type": "code",
   "execution_count": null,
   "metadata": {},
   "outputs": [],
   "source": []
  }
 ],
 "metadata": {
  "kernelspec": {
   "display_name": "env_qiskit",
   "language": "python",
   "name": "env_qiskit"
  },
  "language_info": {
   "codemirror_mode": {
    "name": "ipython",
    "version": 3
   },
   "file_extension": ".py",
   "mimetype": "text/x-python",
   "name": "python",
   "nbconvert_exporter": "python",
   "pygments_lexer": "ipython3",
   "version": "3.9.1"
  }
 },
 "nbformat": 4,
 "nbformat_minor": 4
}
