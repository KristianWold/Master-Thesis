{
 "cells": [
  {
   "cell_type": "code",
   "execution_count": 1,
   "metadata": {},
   "outputs": [],
   "source": [
    "import numpy as np\n",
    "import qiskit as qk\n",
    "import matplotlib.pyplot as plt\n",
    "\n",
    "from qiskit import Aer\n",
    "from tqdm.notebook import tqdm\n",
    "from sklearn.datasets import load_iris\n",
    "from sklearn.datasets import load_breast_cancer\n",
    "from sklearn.model_selection import train_test_split\n",
    "from sklearn.decomposition import PCA\n",
    "from sklearn.linear_model import LogisticRegression\n",
    "\n",
    "import sys\n",
    "sys.path.insert(0, '../../src/')\n",
    "from neuralnetwork import *\n",
    "from analysis import *\n",
    "\n",
    "#%matplotlib notebook\n",
    "%matplotlib inline\n",
    "%load_ext autoreload\n",
    "%autoreload 2"
   ]
  },
  {
   "cell_type": "code",
   "execution_count": 2,
   "metadata": {},
   "outputs": [],
   "source": [
    "class QuantumKernel:\n",
    "    def __init__(self, n_qubits, reps, shots):\n",
    "        self.n_qubits = n_qubits\n",
    "        self.shots = shots\n",
    "        self.reps = reps #number of times to repeat the ansatz\n",
    "        \n",
    "        self.n_params = self.reps*self.n_qubits + 1\n",
    "        self.params = np.random.uniform(-np.pi, np.pi, self.n_params)\n",
    "        \n",
    "        \n",
    "    def encoder(self, circuit, storage, x):\n",
    "        \"\"\"Encodes the data set to a quantum state\"\"\"\n",
    "        for i, _x in enumerate(x):\n",
    "            circuit.rx(_x, storage[i])\n",
    "        \n",
    "        return circuit\n",
    "        \n",
    "        \n",
    "    def ansatz(self, circuit, storage, params):\n",
    "        \"\"\"Encodes the parameters and adds entanglement to transform the state\"\"\"\n",
    "        for i, param in enumerate(params):\n",
    "            circuit.ry(param, storage[i])\n",
    "            \n",
    "        for i in range(self.n_qubits-1):\n",
    "            circuit.cx(storage[i], storage[i+1])\n",
    "            \n",
    "        return circuit\n",
    "    \n",
    "    \n",
    "    def ansatz_bias(self, circuit, storage, param):\n",
    "        \"\"\"One last rotation on the last qubit that is to be measured\"\"\"\n",
    "        circuit.ry(param, storage[-1])\n",
    "        \n",
    "        return circuit\n",
    "    \n",
    "    \n",
    "    def evaluate(self, data):\n",
    "        outputs = []\n",
    "        for x in data:\n",
    "            storage = qk.QuantumRegister(self.n_qubits)\n",
    "            clas_reg = qk.ClassicalRegister(1)\n",
    "            circuit = qk.QuantumCircuit(storage, clas_reg)\n",
    "            \n",
    "            #encode the data to the quantum state\n",
    "            circuit = self.encoder(circuit, storage, x)\n",
    "            \n",
    "            #indicies for parameter slices\n",
    "            idx_start = 0\n",
    "            idx_end = self.n_qubits\n",
    "            \n",
    "            for i in range(self.reps):\n",
    "                #apply the ansatz\n",
    "                circuit = self.ansatz(circuit, storage, self.params[idx_start:idx_end])\n",
    "                idx_start = idx_end\n",
    "                idx_end += self.n_qubits\n",
    "            \n",
    "            \n",
    "            circuit = self.ansatz_bias(circuit, storage, self.params[-1])\n",
    "            circuit.measure(storage[-1], clas_reg)\n",
    "            \n",
    "            job = qk.execute(circuit, backend=qk.Aer.get_backend(\n",
    "                'qasm_simulator'), shots=self.shots)\n",
    "            \n",
    "            counts = job.result().get_counts(circuit)\n",
    "            \n",
    "            output = 0\n",
    "            for bitstring, samples in counts.items():\n",
    "                if bitstring == \"1\":\n",
    "                    output += samples\n",
    "\n",
    "            output = output / self.shots\n",
    "            \n",
    "            outputs.append(output)\n",
    "        \n",
    "        return np.array(outputs).reshape(-1,1)\n",
    "    \n",
    "    def gradient(self, data, y_pred, y):\n",
    "        eps = 1e-8 #add small value to derivative of cross entropy to avoid division by zero\n",
    "        n_samples = data.shape[0]\n",
    "        \n",
    "        #cost_deriv = (y_pred - y) #mse derivative\n",
    "        cost_deriv = (y_pred - y)/(y_pred*(1-y_pred) + eps) #cross entropy derivative\n",
    "        partial_grad = np.zeros((self.n_params, data.shape[0]))\n",
    "        \n",
    "        for i in range(self.n_params):\n",
    "            #parameter shift rule\n",
    "            self.params[i] += np.pi/2\n",
    "            shift_plus = self.evaluate(data)\n",
    "            \n",
    "            self.params[i] -= np.pi\n",
    "            shift_minus = self.evaluate(data)\n",
    "            \n",
    "            self.params[i] += np.pi/2\n",
    "            \n",
    "            partial_grad[i] = 0.5*(shift_plus - shift_minus).flatten()\n",
    "            \n",
    "        \n",
    "        gradients = 1/n_samples * partial_grad@cost_deriv #chain rule\n",
    "        \n",
    "        return gradients.flatten()\n",
    "    \n",
    "    def train(self, data, y, epochs=100, lr = 1):\n",
    "        eps = 1e-8\n",
    "        for i in tqdm(range(epochs)):\n",
    "            y_pred = self.evaluate(data)\n",
    "            gradient = self.gradient(data, y_pred, y)\n",
    "            self.params = self.params - lr*gradient #update parameters\n",
    "            \n",
    "            print(f\"CE: {-np.mean(y*np.log(y_pred + eps) + (1-y)*np.log(1 - y_pred + eps)):.4f}, accuracy: {np.mean(np.round(y_pred).astype(int) == y):.4f}\")\n",
    "      "
   ]
  },
  {
   "cell_type": "markdown",
   "metadata": {},
   "source": [
    "# Iris Data"
   ]
  },
  {
   "cell_type": "markdown",
   "metadata": {},
   "source": [
    "## Data Preparation"
   ]
  },
  {
   "cell_type": "code",
   "execution_count": 3,
   "metadata": {},
   "outputs": [],
   "source": [
    "iris = load_iris()"
   ]
  },
  {
   "cell_type": "markdown",
   "metadata": {},
   "source": [
    "### Only first two classes"
   ]
  },
  {
   "cell_type": "code",
   "execution_count": 4,
   "metadata": {},
   "outputs": [
    {
     "name": "stdout",
     "output_type": "stream",
     "text": [
      "(100, 4) (100, 1)\n"
     ]
    }
   ],
   "source": [
    "x = iris.data\n",
    "y = iris.target\n",
    "\n",
    "x = x[y != 2]\n",
    "y = y[y != 2].reshape(-1,1)\n",
    "y = scaler(y, a=0, b=1)\n",
    "\n",
    "print(x.shape, y.shape)"
   ]
  },
  {
   "cell_type": "markdown",
   "metadata": {},
   "source": [
    "### Normalize Input Data"
   ]
  },
  {
   "cell_type": "code",
   "execution_count": 5,
   "metadata": {},
   "outputs": [],
   "source": [
    "x = scaler(x, a=0, b=np.pi)"
   ]
  },
  {
   "cell_type": "markdown",
   "metadata": {},
   "source": [
    "## Train Model"
   ]
  },
  {
   "cell_type": "code",
   "execution_count": 6,
   "metadata": {},
   "outputs": [],
   "source": [
    "np.random.seed(44)\n",
    "model1 = QuantumKernel(n_qubits = 4, reps = 2, shots=1000)"
   ]
  },
  {
   "cell_type": "code",
   "execution_count": 7,
   "metadata": {},
   "outputs": [
    {
     "data": {
      "application/vnd.jupyter.widget-view+json": {
       "model_id": "f60f6df9c79c4631b098dca186c0321c",
       "version_major": 2,
       "version_minor": 0
      },
      "text/plain": [
       "  0%|          | 0/20 [00:00<?, ?it/s]"
      ]
     },
     "metadata": {},
     "output_type": "display_data"
    },
    {
     "name": "stdout",
     "output_type": "stream",
     "text": [
      "CE: 1.1399, accuracy: 0.0300\n",
      "CE: 1.0215, accuracy: 0.0500\n",
      "CE: 0.9096, accuracy: 0.0800\n",
      "CE: 0.8092, accuracy: 0.1500\n",
      "CE: 0.7211, accuracy: 0.3000\n",
      "CE: 0.6474, accuracy: 0.6200\n",
      "CE: 0.5820, accuracy: 0.8600\n",
      "CE: 0.5269, accuracy: 0.9400\n",
      "CE: 0.4753, accuracy: 0.9200\n",
      "CE: 0.4319, accuracy: 0.9600\n",
      "CE: 0.3970, accuracy: 0.9500\n",
      "CE: 0.3595, accuracy: 0.9700\n",
      "CE: 0.3342, accuracy: 0.9700\n",
      "CE: 0.3122, accuracy: 0.9600\n",
      "CE: 0.2883, accuracy: 0.9700\n",
      "CE: 0.2686, accuracy: 0.9700\n",
      "CE: 0.2526, accuracy: 0.9700\n",
      "CE: 0.2368, accuracy: 0.9600\n",
      "CE: 0.2273, accuracy: 0.9700\n",
      "CE: 0.2130, accuracy: 0.9800\n"
     ]
    }
   ],
   "source": [
    "model1.train(x, y, epochs = 20, lr=0.1)"
   ]
  },
  {
   "cell_type": "markdown",
   "metadata": {},
   "source": [
    "### Breast Cancer Data"
   ]
  },
  {
   "cell_type": "code",
   "execution_count": 8,
   "metadata": {},
   "outputs": [],
   "source": [
    "data = load_breast_cancer()\n",
    "x = data.data\n",
    "y = data.target.reshape(-1, 1)\n",
    "\n",
    "np.random.seed(42)\n",
    "x, _, y, _ = train_test_split(x, y, train_size=100)\n",
    "x = scaler(x[:,:4], a=0, b=np.pi) #4 first feature of the breast cancer data set(not the best to pick?)"
   ]
  },
  {
   "cell_type": "code",
   "execution_count": 9,
   "metadata": {},
   "outputs": [],
   "source": [
    "np.random.seed(42)\n",
    "model2 = QuantumKernel(n_qubits = 4, reps = 2, shots=1000)"
   ]
  },
  {
   "cell_type": "code",
   "execution_count": 10,
   "metadata": {},
   "outputs": [
    {
     "data": {
      "application/vnd.jupyter.widget-view+json": {
       "model_id": "47eecbc45d174cddb69a7a1634453ec5",
       "version_major": 2,
       "version_minor": 0
      },
      "text/plain": [
       "  0%|          | 0/20 [00:00<?, ?it/s]"
      ]
     },
     "metadata": {},
     "output_type": "display_data"
    },
    {
     "name": "stdout",
     "output_type": "stream",
     "text": [
      "CE: 0.8067, accuracy: 0.3200\n",
      "CE: 0.7824, accuracy: 0.3300\n",
      "CE: 0.7603, accuracy: 0.3400\n",
      "CE: 0.7527, accuracy: 0.3400\n",
      "CE: 0.7254, accuracy: 0.4200\n",
      "CE: 0.7134, accuracy: 0.4500\n",
      "CE: 0.6925, accuracy: 0.4900\n",
      "CE: 0.6787, accuracy: 0.5300\n",
      "CE: 0.6597, accuracy: 0.5800\n",
      "CE: 0.6469, accuracy: 0.6200\n",
      "CE: 0.6357, accuracy: 0.6800\n",
      "CE: 0.6244, accuracy: 0.7100\n",
      "CE: 0.6100, accuracy: 0.7400\n",
      "CE: 0.6016, accuracy: 0.7500\n",
      "CE: 0.5942, accuracy: 0.7900\n",
      "CE: 0.5826, accuracy: 0.7800\n",
      "CE: 0.5753, accuracy: 0.7900\n",
      "CE: 0.5702, accuracy: 0.8100\n",
      "CE: 0.5641, accuracy: 0.8000\n",
      "CE: 0.5568, accuracy: 0.8200\n"
     ]
    }
   ],
   "source": [
    "model2.train(x, y, epochs = 20, lr=0.1)"
   ]
  },
  {
   "cell_type": "markdown",
   "metadata": {},
   "source": [
    "Can we change the encoder/ansatz to get higher accuracy?"
   ]
  }
 ],
 "metadata": {
  "kernelspec": {
   "display_name": "env_qiskit",
   "language": "python",
   "name": "env_qiskit"
  },
  "language_info": {
   "codemirror_mode": {
    "name": "ipython",
    "version": 3
   },
   "file_extension": ".py",
   "mimetype": "text/x-python",
   "name": "python",
   "nbconvert_exporter": "python",
   "pygments_lexer": "ipython3",
   "version": "3.9.1"
  }
 },
 "nbformat": 4,
 "nbformat_minor": 4
}
