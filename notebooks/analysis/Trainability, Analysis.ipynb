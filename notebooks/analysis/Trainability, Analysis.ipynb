{
 "cells": [
  {
   "cell_type": "code",
   "execution_count": 1,
   "metadata": {},
   "outputs": [],
   "source": [
    "import numpy as np\n",
    "import qiskit as qk\n",
    "import matplotlib.pyplot as plt\n",
    "from qiskit import Aer\n",
    "from sklearn.decomposition import PCA\n",
    "from tqdm.notebook import tqdm\n",
    "\n",
    "import sys\n",
    "sys.path.insert(0, '../../src/')\n",
    "#from neuralnetwork import *\n",
    "from analysis import *\n",
    "from utils import *\n",
    "\n",
    "#%matplotlib notebook\n",
    "%matplotlib inline\n",
    "%load_ext autoreload\n",
    "%autoreload 2"
   ]
  },
  {
   "cell_type": "markdown",
   "metadata": {},
   "source": [
    "# Trainability"
   ]
  },
  {
   "cell_type": "markdown",
   "metadata": {},
   "source": [
    "## 1D, Constant Function"
   ]
  },
  {
   "cell_type": "code",
   "execution_count": 2,
   "metadata": {},
   "outputs": [
    {
     "ename": "AttributeError",
     "evalue": "Can't get attribute 'Ansatz' on <module 'parametrizations' from '../../src/parametrizations.py'>",
     "output_type": "error",
     "traceback": [
      "\u001b[0;31m---------------------------------------------------------------------------\u001b[0m",
      "\u001b[0;31mAttributeError\u001b[0m                            Traceback (most recent call last)",
      "\u001b[0;32m<ipython-input-2-e5c1f7b3541d>\u001b[0m in \u001b[0;36m<module>\u001b[0;34m\u001b[0m\n\u001b[0;32m----> 1\u001b[0;31m \u001b[0mqnn_list\u001b[0m \u001b[0;34m=\u001b[0m \u001b[0mloader\u001b[0m\u001b[0;34m(\u001b[0m\u001b[0mdata_path\u001b[0m\u001b[0;34m(\u001b[0m\u001b[0;34m\"trainability_qnn_1D_reps_1_constant\"\u001b[0m\u001b[0;34m)\u001b[0m\u001b[0;34m)\u001b[0m\u001b[0;34m\u001b[0m\u001b[0;34m\u001b[0m\u001b[0m\n\u001b[0m\u001b[1;32m      2\u001b[0m \u001b[0mdnn_list\u001b[0m \u001b[0;34m=\u001b[0m \u001b[0mloader\u001b[0m\u001b[0;34m(\u001b[0m\u001b[0mdata_path\u001b[0m\u001b[0;34m(\u001b[0m\u001b[0;34m\"trainability_dnn_1D_constant\"\u001b[0m\u001b[0;34m)\u001b[0m\u001b[0;34m)\u001b[0m\u001b[0;34m\u001b[0m\u001b[0;34m\u001b[0m\u001b[0m\n",
      "\u001b[0;32m~/Documents/Master-Thesis/src/utils.py\u001b[0m in \u001b[0;36mloader\u001b[0;34m(filename)\u001b[0m\n\u001b[1;32m     33\u001b[0m \u001b[0;34m\u001b[0m\u001b[0m\n\u001b[1;32m     34\u001b[0m \u001b[0;32mdef\u001b[0m \u001b[0mloader\u001b[0m\u001b[0;34m(\u001b[0m\u001b[0mfilename\u001b[0m\u001b[0;34m)\u001b[0m\u001b[0;34m:\u001b[0m\u001b[0;34m\u001b[0m\u001b[0;34m\u001b[0m\u001b[0m\n\u001b[0;32m---> 35\u001b[0;31m     \u001b[0mobject\u001b[0m \u001b[0;34m=\u001b[0m \u001b[0mpickle\u001b[0m\u001b[0;34m.\u001b[0m\u001b[0mload\u001b[0m\u001b[0;34m(\u001b[0m\u001b[0mopen\u001b[0m\u001b[0;34m(\u001b[0m\u001b[0mfilename\u001b[0m\u001b[0;34m,\u001b[0m \u001b[0;34m\"rb\"\u001b[0m\u001b[0;34m)\u001b[0m\u001b[0;34m)\u001b[0m\u001b[0;34m\u001b[0m\u001b[0;34m\u001b[0m\u001b[0m\n\u001b[0m\u001b[1;32m     36\u001b[0m \u001b[0;34m\u001b[0m\u001b[0m\n\u001b[1;32m     37\u001b[0m     \u001b[0;32mreturn\u001b[0m \u001b[0mobject\u001b[0m\u001b[0;34m\u001b[0m\u001b[0;34m\u001b[0m\u001b[0m\n",
      "\u001b[0;31mAttributeError\u001b[0m: Can't get attribute 'Ansatz' on <module 'parametrizations' from '../../src/parametrizations.py'>"
     ]
    }
   ],
   "source": [
    "qnn_list = loader(data_path(\"trainability_qnn_1D_reps_1_constant\"))\n",
    "dnn_list = loader(data_path(\"trainability_dnn_1D_constant\"))"
   ]
  },
  {
   "cell_type": "code",
   "execution_count": null,
   "metadata": {},
   "outputs": [],
   "source": [
    "loss1 = np.array([model.loss for model in qnn_list])\n",
    "std1 = np.std(loss1, axis=0)\n",
    "avg1 = np.mean(loss1, axis=0)\n",
    "\n",
    "loss2 = np.array([model.loss for model in dnn_list])\n",
    "std2 = np.std(loss2, axis=0)\n",
    "avg2 = np.mean(loss2, axis=0)"
   ]
  },
  {
   "cell_type": "code",
   "execution_count": null,
   "metadata": {},
   "outputs": [],
   "source": [
    "start = 0\n",
    "stop = 101\n",
    "alpha = 0.5\n",
    "spacing1 = list(range(101))\n",
    "spacing2 = list(range(stop))\n",
    "\n",
    "fig=plt.figure(figsize=(6,4), dpi= 130, facecolor='w', edgecolor='k')\n",
    "\n",
    "plt.fill_between(spacing1, avg1 - std1, avg1 + std1, alpha=alpha)\n",
    "plt.fill_between(spacing2, (avg2 - std2)[:stop], (avg2 + std2)[:stop], alpha=alpha)\n",
    "plt.plot(spacing1, avg1)\n",
    "plt.plot(spacing2, avg2[:stop])\n",
    "\n",
    "plt.xlabel(\"Iterations\")\n",
    "plt.ylabel(\"MSE\")\n",
    "plt.legend([\"QKN, 1 repetitions\", \"DNN\"])\n",
    "plt.show()"
   ]
  },
  {
   "cell_type": "markdown",
   "metadata": {},
   "source": [
    "## 1D, Gaussian Function"
   ]
  },
  {
   "cell_type": "code",
   "execution_count": null,
   "metadata": {},
   "outputs": [],
   "source": [
    "np.random.seed(42)\n",
    "n = 100\n",
    "x = np.linspace(0, 1, n).reshape(-1,1)\n",
    "y = gaussian(x, 0.3, 0.02) - gaussian(x, 0.7, 0.02) \n",
    "\n",
    "x = scaler(x, a=0, b=np.pi)\n",
    "y = scaler(y, a=0.1, b=0.9)"
   ]
  },
  {
   "cell_type": "code",
   "execution_count": null,
   "metadata": {},
   "outputs": [],
   "source": [
    "fig=plt.figure(figsize=(6,4), dpi=130, facecolor='w', edgecolor='k')\n",
    "plt.plot(x, y, 'o')\n",
    "plt.xlabel(\"x\")\n",
    "plt.ylabel(\"y\")\n",
    "plt.legend([\"Generated Data\"])\n",
    "\n",
    "plt.grid()\n",
    "plt.show()\n",
    "\n",
    "\n",
    "fig.savefig(image_path(\"1D_gaussian_data.pdf\"), bbox_inches='tight')"
   ]
  },
  {
   "cell_type": "code",
   "execution_count": null,
   "metadata": {},
   "outputs": [],
   "source": [
    "qnn_list1 = loader(data_path(\"trainability_qnn_1D_reps_1\"))\n",
    "qnn_list2 = loader(data_path(\"trainability_qnn_1D_reps_2\"))\n",
    "dnn_list = loader(data_path(\"trainability_dnn_1D\"))"
   ]
  },
  {
   "cell_type": "code",
   "execution_count": null,
   "metadata": {},
   "outputs": [],
   "source": [
    "loss1 = np.array([qnn.loss for qnn in qnn_list1])\n",
    "std1 = np.std(loss1, axis=0)\n",
    "avg1 = np.mean(loss1, axis=0)\n",
    "\n",
    "loss2 = np.array([qnn.loss for qnn in qnn_list2])\n",
    "std2 = np.std(loss2, axis=0)\n",
    "avg2 = np.mean(loss2, axis=0)\n",
    "\n",
    "loss3 = np.array([dnn.loss for dnn in dnn_list])\n",
    "std3 = np.std(loss3, axis=0)\n",
    "avg3 = np.mean(loss3, axis=0)"
   ]
  },
  {
   "cell_type": "code",
   "execution_count": null,
   "metadata": {},
   "outputs": [],
   "source": [
    "start = 0\n",
    "stop = 101\n",
    "alpha = 0.5\n",
    "spacing1 = list(range(101))\n",
    "spacing2 = list(range(stop))\n",
    "\n",
    "fig=plt.figure(figsize=(6,4), dpi=130, facecolor='w', edgecolor='k')\n",
    "\n",
    "plt.fill_between(spacing1, avg1 - std1, avg1 + std1, alpha=alpha)\n",
    "plt.fill_between(spacing1, avg2 - std2, avg2 + std2, alpha=alpha)\n",
    "plt.fill_between(spacing2, (avg3 - std3)[:stop], (avg3 + std3)[:stop], alpha=alpha)\n",
    "plt.plot(spacing1, avg1)\n",
    "plt.plot(spacing1, avg2)\n",
    "plt.plot(spacing2, avg3[:stop])\n",
    "\n",
    "plt.xlabel(\"Iterations\")\n",
    "plt.ylabel(\"MSE\")\n",
    "plt.legend([\"QKN, reps = 1\", \"QKN, reps=2\", \"DNN\"])\n",
    "plt.grid()\n",
    "plt.show()\n",
    "\n",
    "fig.savefig(image_path(\"1D_gaussian_data_fit.pdf\"), bbox_inches='tight')"
   ]
  },
  {
   "cell_type": "code",
   "execution_count": null,
   "metadata": {},
   "outputs": [],
   "source": [
    "print(f\"{avg1[-1]:.4f}, {avg2[-1]:.4f}, {avg3[-1]:.4f}\")"
   ]
  },
  {
   "cell_type": "code",
   "execution_count": null,
   "metadata": {},
   "outputs": [],
   "source": [
    "y_pred1 = np.mean(np.array([model.predict(x) for model in qnn_list1]), axis=0)\n",
    "y_pred2 = np.mean(np.array([model.predict(x) for model in qnn_list2]), axis=0)\n",
    "y_pred3 = np.mean(np.array([model.predict(x) for model in dnn_list]), axis=0)"
   ]
  },
  {
   "cell_type": "code",
   "execution_count": null,
   "metadata": {},
   "outputs": [],
   "source": [
    "fig=plt.figure(figsize=(6,4), dpi= 130, facecolor='w', edgecolor='k')\n",
    "\n",
    "plt.plot(x, y)\n",
    "plt.plot(x, y_pred1)\n",
    "plt.plot(x, y_pred2)\n",
    "plt.plot(x, y_pred3)\n",
    "plt.legend([\"True\", \"QNN, circuit depth 1\", \"QNN, circuit depth 2\", \"DNN\"])\n",
    "\n",
    "plt.show()"
   ]
  },
  {
   "cell_type": "markdown",
   "metadata": {},
   "source": [
    "### Interpolation"
   ]
  },
  {
   "cell_type": "code",
   "execution_count": null,
   "metadata": {},
   "outputs": [],
   "source": [
    "x = np.linspace(0, np.pi, 200).reshape(-1,1)"
   ]
  },
  {
   "cell_type": "code",
   "execution_count": null,
   "metadata": {},
   "outputs": [],
   "source": [
    "y_pred3 = qnn_list2[0].predict(x)"
   ]
  },
  {
   "cell_type": "code",
   "execution_count": null,
   "metadata": {},
   "outputs": [],
   "source": [
    "fig=plt.figure(figsize=(6,4), dpi= 130, facecolor='w', edgecolor='k')\n",
    "\n",
    "plt.plot(x, y_pred3, \"o\")\n",
    "\n",
    "plt.show()"
   ]
  },
  {
   "cell_type": "markdown",
   "metadata": {},
   "source": [
    "## 2D"
   ]
  },
  {
   "cell_type": "code",
   "execution_count": null,
   "metadata": {},
   "outputs": [],
   "source": [
    "np.random.seed(42)\n",
    "\n",
    "n = 10\n",
    "x = np.linspace(0, 1, n)\n",
    "x = generate_meshgrid([x,x])\n",
    "\n",
    "mean1 = np.array([[0.25, 0.75]])\n",
    "var1 = np.array([[0.02, 0], [0, 0.02]])\n",
    "\n",
    "mean2 = np.array([[0.75, 0.25]])\n",
    "var2 = np.array([[0.02, 0], [0, 0.02]])\n",
    "\n",
    "mean3 = np.array([[0.25, 0.25]])\n",
    "var3 = np.array([[0.02, 0], [0, 0.02]])\n",
    "\n",
    "mean4 = np.array([[0.75, 0.75]])\n",
    "var4 = np.array([[0.02, 0], [0, 0.02]])\n",
    "\n",
    "y = gaussian(x, mean1, var1) + gaussian(x, mean2, var2) - gaussian(x, mean3, var3) - gaussian(x, mean4, var4)\n",
    "\n",
    "x = scaler(x, a=0, b=np.pi)\n",
    "y = scaler(y, a=0.1, b=0.9)"
   ]
  },
  {
   "cell_type": "code",
   "execution_count": null,
   "metadata": {},
   "outputs": [],
   "source": [
    "plt.imshow(y.reshape(n,n))\n",
    "plt.show()"
   ]
  },
  {
   "cell_type": "code",
   "execution_count": null,
   "metadata": {},
   "outputs": [],
   "source": [
    "qnn_list1 = loader(data_path(\"trainability_qnn_2D_reps_1\"))\n",
    "qnn_list2 = loader(data_path(\"trainability_qnn_2D_reps_2\"))\n",
    "dnn_list = loader(data_path(\"trainability_dnn_2D\"))"
   ]
  },
  {
   "cell_type": "code",
   "execution_count": null,
   "metadata": {},
   "outputs": [],
   "source": [
    "loss1 = np.array([qnn.loss for qnn in qnn_list1])\n",
    "std1 = np.std(loss1, axis=0)\n",
    "avg1 = np.mean(loss1, axis=0)\n",
    "\n",
    "loss2 = np.array([qnn.loss for qnn in qnn_list2])\n",
    "std2 = np.std(loss2, axis=0)\n",
    "avg2 = np.mean(loss2, axis=0)\n",
    "\n",
    "loss3 = np.array([dnn.loss for dnn in dnn_list])\n",
    "std3 = np.std(loss3, axis=0)\n",
    "avg3 = np.mean(loss3, axis=0)"
   ]
  },
  {
   "cell_type": "code",
   "execution_count": null,
   "metadata": {},
   "outputs": [],
   "source": [
    "start = 0\n",
    "stop = 101\n",
    "alpha = 0.5\n",
    "spacing1 = list(range(101))\n",
    "spacing2 = list(range(stop))\n",
    "\n",
    "fig=plt.figure(figsize=(6,4), dpi= 130, facecolor='w', edgecolor='k')\n",
    "\n",
    "plt.fill_between(spacing1, avg1 - std1, avg1 + std1, alpha=alpha)\n",
    "plt.fill_between(spacing1, avg2 - std2, avg2 + std2, alpha=alpha)\n",
    "plt.fill_between(spacing2, (avg3 - std3)[:stop], (avg3 + std3)[:stop], alpha=alpha)\n",
    "plt.plot(spacing1, avg1)\n",
    "plt.plot(spacing1, avg2)\n",
    "plt.plot(spacing2, avg3[:stop])\n",
    "\n",
    "plt.xlabel(\"Iterations\")\n",
    "plt.ylabel(\"MSE\")\n",
    "plt.legend([\"QKN, reps = 1\", \"QKN, reps = 2\", \"DNN\"])\n",
    "plt.grid()\n",
    "plt.show()\n",
    "\n",
    "fig.savefig(image_path(\"2D_gaussian_data_fit.pdf\"), bbox_inches='tight')"
   ]
  },
  {
   "cell_type": "code",
   "execution_count": null,
   "metadata": {},
   "outputs": [],
   "source": [
    "print(f\"{avg1[-1]:.4f}, {avg2[-1]:.4f}, {avg3[-1]:.4f}\")"
   ]
  },
  {
   "cell_type": "code",
   "execution_count": null,
   "metadata": {},
   "outputs": [],
   "source": [
    "y_pred = qnn_list2[0].predict(x)\n",
    "print(r2(y_pred, y))"
   ]
  },
  {
   "cell_type": "code",
   "execution_count": null,
   "metadata": {},
   "outputs": [],
   "source": [
    "fig, (ax1, ax2) = plt.subplots(1,2)\n",
    "ax1.imshow(y.reshape(n,n))\n",
    "ax2.imshow(y_pred.reshape(n,n))\n",
    "plt.show()\n",
    "fig.savefig(image_path(\"2D_gaussian_data_predict.pdf\"), bbox_inches='tight')"
   ]
  },
  {
   "cell_type": "markdown",
   "metadata": {},
   "source": [
    "## 3D"
   ]
  },
  {
   "cell_type": "code",
   "execution_count": null,
   "metadata": {},
   "outputs": [],
   "source": [
    "np.random.seed(42)\n",
    "\n",
    "n = 5\n",
    "x = np.linspace(0, 1, n)\n",
    "x = generate_meshgrid([x, x, x])\n",
    "\n",
    "mean1 = np.array([[0.25, 0.25, 0.25]])\n",
    "mean2 = np.array([[0.25, 0.25, 0.75]])\n",
    "mean3 = np.array([[0.25, 0.75, 0.75]])\n",
    "mean4 = np.array([[0.25, 0.75, 0.25]])\n",
    "\n",
    "mean5 = np.array([[0.75, 0.25, 0.25]])\n",
    "mean6 = np.array([[0.75, 0.25, 0.75]])\n",
    "mean7 = np.array([[0.75, 0.75, 0.75]])\n",
    "mean8 = np.array([[0.75, 0.75, 0.25]])\n",
    "\n",
    "var = np.array([[0.02, 0, 0], [0, 0.02, 0], [0, 0, 0.02]])\n",
    "\n",
    "y = gaussian(x, mean1, var) - gaussian(x, mean2, var) + gaussian(x, mean3, var) - gaussian(x, mean4, var) - gaussian(x, mean5, var) + gaussian(x, mean6, var) - gaussian(x, mean7, var) + gaussian(x, mean8, var)\n",
    "\n",
    "x = scaler(x, a=0, b=np.pi)\n",
    "y = scaler(y, a=0.1, b=0.9)"
   ]
  },
  {
   "cell_type": "code",
   "execution_count": null,
   "metadata": {},
   "outputs": [],
   "source": [
    "qnn_list1 = loader(data_path(\"trainability_qnn_3D_reps_1\"))\n",
    "qnn_list2 = loader(data_path(\"trainability_qnn_3D_reps_2\"))\n",
    "dnn_list = loader(data_path(\"trainability_dnn_3D\"))"
   ]
  },
  {
   "cell_type": "code",
   "execution_count": null,
   "metadata": {},
   "outputs": [],
   "source": [
    "loss1 = np.array([qnn.loss for qnn in qnn_list1])\n",
    "std1 = np.std(loss1, axis=0)\n",
    "avg1 = np.mean(loss1, axis=0)\n",
    "\n",
    "loss2 = np.array([qnn.loss for qnn in qnn_list2])\n",
    "std2 = np.std(loss2, axis=0)\n",
    "avg2 = np.mean(loss2, axis=0)\n",
    "\n",
    "loss3 = np.array([dnn.loss for dnn in dnn_list])\n",
    "std3 = np.std(loss3, axis=0)\n",
    "avg3 = np.mean(loss3, axis=0)"
   ]
  },
  {
   "cell_type": "code",
   "execution_count": null,
   "metadata": {},
   "outputs": [],
   "source": [
    "start = 20\n",
    "stop = 100\n",
    "alpha = 0.5\n",
    "spacing1 = list(range(101))\n",
    "spacing2 = list(range(stop))\n",
    "\n",
    "fig=plt.figure(figsize=(6,4), dpi= 130, facecolor='w', edgecolor='k')\n",
    "\n",
    "plt.fill_between(spacing1, avg1 - std1, avg1 + std1, alpha=alpha)\n",
    "plt.fill_between(spacing1, avg2 - std2, avg2 + std2, alpha=alpha)\n",
    "plt.fill_between(spacing2, (avg3 - std3)[:stop], (avg3 + std3)[:stop], alpha=alpha)\n",
    "plt.plot(spacing1, avg1)\n",
    "plt.plot(spacing1, avg2)\n",
    "plt.plot(spacing2, avg3[:stop])\n",
    "\n",
    "plt.xlabel(\"Iterations\")\n",
    "plt.ylabel(\"MSE\")\n",
    "plt.legend([\"QKN, reps = 1\", \"QKN, reps = 2\", \"DNN\"])\n",
    "plt.grid()\n",
    "plt.show()\n",
    "\n",
    "fig.savefig(image_path(\"3D_gaussian_data_fit.pdf\"), bbox_inches='tight')"
   ]
  },
  {
   "cell_type": "code",
   "execution_count": null,
   "metadata": {},
   "outputs": [],
   "source": [
    "print(avg1[-1], avg2[-1], avg3[-1])"
   ]
  },
  {
   "cell_type": "markdown",
   "metadata": {},
   "source": [
    "### Deep Quantum Kernel Network"
   ]
  },
  {
   "cell_type": "code",
   "execution_count": null,
   "metadata": {},
   "outputs": [],
   "source": [
    "np.random.seed(42)\n",
    "\n",
    "n = 8\n",
    "x = np.linspace(0, 1, n)\n",
    "x = generate_meshgrid([x, x, x])\n",
    "\n",
    "mean1 = np.array([[0.25, 0.25, 0.25]])\n",
    "mean2 = np.array([[0.25, 0.25, 0.75]])\n",
    "mean3 = np.array([[0.25, 0.75, 0.75]])\n",
    "mean4 = np.array([[0.25, 0.75, 0.25]])\n",
    "\n",
    "mean5 = np.array([[0.75, 0.25, 0.25]])\n",
    "mean6 = np.array([[0.75, 0.25, 0.75]])\n",
    "mean7 = np.array([[0.75, 0.75, 0.75]])\n",
    "mean8 = np.array([[0.75, 0.75, 0.25]])\n",
    "\n",
    "var = np.array([[0.02, 0, 0], [0, 0.02, 0], [0, 0, 0.02]])\n",
    "\n",
    "y = gaussian(x, mean1, var) - gaussian(x, mean2, var) + gaussian(x, mean3, var) - gaussian(x, mean4, var) - gaussian(x, mean5, var) + gaussian(x, mean6, var) - gaussian(x, mean7, var) + gaussian(x, mean8, var)\n",
    "\n",
    "x = scaler(x, a=0, b=np.pi)\n",
    "y = scaler(y, a=0.1, b=0.9)"
   ]
  },
  {
   "cell_type": "code",
   "execution_count": null,
   "metadata": {},
   "outputs": [],
   "source": [
    "qnn_list1 = loader(data_path(\"trainability_qnn_3D_reps_1_moredata\"))\n",
    "qnn_list2 = loader(data_path(\"trainability_qnn_3D_reps_2_moredata\"))\n",
    "dnn_list = loader(data_path(\"trainability_dnn_3D_moredata\"))"
   ]
  },
  {
   "cell_type": "code",
   "execution_count": null,
   "metadata": {},
   "outputs": [],
   "source": [
    "loss1 = np.array([qnn.loss for qnn in qnn_list1])\n",
    "std1 = np.std(loss1, axis=0)\n",
    "avg1 = np.mean(loss1, axis=0)\n",
    "\n",
    "loss2 = np.array([qnn.loss for qnn in qnn_list2])\n",
    "std2 = np.std(loss2, axis=0)\n",
    "avg2 = np.mean(loss2, axis=0)\n",
    "\n",
    "loss3 = np.array([dnn.loss for dnn in dnn_list])\n",
    "std3 = np.std(loss3, axis=0)\n",
    "avg3 = np.mean(loss3, axis=0)"
   ]
  },
  {
   "cell_type": "code",
   "execution_count": null,
   "metadata": {},
   "outputs": [],
   "source": [
    "start = 20\n",
    "stop = 101\n",
    "alpha = 0.5\n",
    "spacing1 = list(range(101))\n",
    "spacing2 = list(range(stop))\n",
    "\n",
    "fig=plt.figure(figsize=(6,4), dpi= 130, facecolor='w', edgecolor='k')\n",
    "\n",
    "plt.fill_between(spacing1, avg1 - std1, avg1 + std1, alpha=alpha)\n",
    "plt.fill_between(spacing1, avg2 - std2, avg2 + std2, alpha=alpha)\n",
    "plt.fill_between(spacing2, (avg3 - std3)[:stop], (avg3 + std3)[:stop], alpha=alpha)\n",
    "\n",
    "plt.plot(spacing1, avg1)\n",
    "plt.plot(spacing1, avg2)\n",
    "plt.plot(spacing2, avg3[:stop])\n",
    "\n",
    "plt.xlabel(\"Iterations\")\n",
    "plt.ylabel(\"MSE\")\n",
    "plt.legend([\"QKN, reps = 1\", \"QKN, reps=2\", \"DNN\"])\n",
    "plt.grid()\n",
    "plt.show()"
   ]
  },
  {
   "cell_type": "code",
   "execution_count": null,
   "metadata": {},
   "outputs": [],
   "source": [
    "print(avg1[-1], avg2[-1], avg3[-1])"
   ]
  },
  {
   "cell_type": "code",
   "execution_count": null,
   "metadata": {},
   "outputs": [],
   "source": []
  }
 ],
 "metadata": {
  "kernelspec": {
   "display_name": "env_qiskit",
   "language": "python",
   "name": "env_qiskit"
  },
  "language_info": {
   "codemirror_mode": {
    "name": "ipython",
    "version": 3
   },
   "file_extension": ".py",
   "mimetype": "text/x-python",
   "name": "python",
   "nbconvert_exporter": "python",
   "pygments_lexer": "ipython3",
   "version": "3.7.10"
  }
 },
 "nbformat": 4,
 "nbformat_minor": 4
}
