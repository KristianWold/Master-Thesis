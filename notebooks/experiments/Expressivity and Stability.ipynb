{
 "cells": [
  {
   "cell_type": "code",
   "execution_count": 1,
   "metadata": {},
   "outputs": [],
   "source": [
    "import numpy as np\n",
    "import qiskit as qk\n",
    "import matplotlib.pyplot as plt\n",
    "from qiskit import Aer\n",
    "from sklearn.decomposition import PCA\n",
    "from tqdm.notebook import tqdm\n",
    "from mpl_toolkits.axes_grid1 import make_axes_locatable\n",
    "\n",
    "import sys\n",
    "sys.path.insert(0, '../../src/')\n",
    "from neuralnetwork import *\n",
    "from analysis import *\n",
    "from utils import *\n",
    "\n",
    "#%matplotlib notebook\n",
    "%matplotlib inline\n",
    "%load_ext autoreload\n",
    "%autoreload 2"
   ]
  },
  {
   "cell_type": "markdown",
   "metadata": {},
   "source": [
    "# Expressivity of QKN vs Classic NN"
   ]
  },
  {
   "cell_type": "markdown",
   "metadata": {},
   "source": [
    "## Trajectory Length"
   ]
  },
  {
   "cell_type": "code",
   "execution_count": 2,
   "metadata": {},
   "outputs": [
    {
     "name": "stdout",
     "output_type": "stream",
     "text": [
      "(1001, 2)\n"
     ]
    }
   ],
   "source": [
    "theta = np.linspace(0, 2*np.pi, 1000)\n",
    "theta = np.append(theta, theta[0:1]).reshape(-1,1)\n",
    "\n",
    "x = np.pi*(np.cos(theta) + 1)/2\n",
    "y = np.pi*(np.sin(theta) + 1)/2\n",
    "x_qcn = np.hstack([x, y])\n",
    "print(x_qcn.shape)\n",
    "x_dnn = scaler(x_qcn, mode=\"standard\")"
   ]
  },
  {
   "cell_type": "code",
   "execution_count": 3,
   "metadata": {},
   "outputs": [
    {
     "data": {
      "image/png": "[encoded data removed]",
      "text/plain": [
       "<Figure size 432x288 with 1 Axes>"
      ]
     },
     "metadata": {
      "needs_background": "light"
     },
     "output_type": "display_data"
    }
   ],
   "source": [
    "plt.plot(x_qcn[:,0], x_qcn[:,1])\n",
    "plt.show()"
   ]
  },
  {
   "cell_type": "markdown",
   "metadata": {},
   "source": [
    "## Random Initialization"
   ]
  },
  {
   "cell_type": "markdown",
   "metadata": {},
   "source": [
    "### QCN"
   ]
  },
  {
   "cell_type": "code",
   "execution_count": null,
   "metadata": {},
   "outputs": [],
   "source": [
    "np.random.seed(42)\n",
    "\n",
    "network = sequential_qnn(n_qubits = 8*[4],\n",
    "                         dim = [2] + 7*[4],\n",
    "                         scale = 8*[[-np.pi, np.pi]],\n",
    "                         encoder = Encoder(mode=\"x\"),\n",
    "                         ansatz = Ansatz(blocks=[\"entangle\", \"ry\"], reps=2),\n",
    "                         sampler = Parity(),\n",
    "                         shots = 0)\n",
    "\n",
    "tl = TrajectoryLength(network)\n",
    "tl.fit(x_qcn)\n",
    "saver(tl, data_path(\"tl_expressivity_width_4_reps_2\"))"
   ]
  },
  {
   "cell_type": "code",
   "execution_count": null,
   "metadata": {},
   "outputs": [],
   "source": [
    "np.random.seed(42)\n",
    "\n",
    "network = sequential_qnn(n_qubits = 8*[5],\n",
    "                         dim = [2] + 7*[5],\n",
    "                         scale = 8*[[-np.pi, np.pi]],\n",
    "                         encoder = Encoder(mode=\"x\"),\n",
    "                         ansatz = Ansatz(blocks=[\"entangle\", \"ry\"], reps=2),\n",
    "                         sampler = Parity(),\n",
    "                         shots = 0)\n",
    "\n",
    "tl = TrajectoryLength(network)\n",
    "tl.fit(x_qcn)\n",
    "saver(tl, data_path(\"tl_expressivity_width_5_reps_2\"))"
   ]
  },
  {
   "cell_type": "code",
   "execution_count": null,
   "metadata": {},
   "outputs": [],
   "source": [
    "np.random.seed(42)\n",
    "\n",
    "network = sequential_qnn(n_qubits = 8*[6],\n",
    "                         dim = [2] + 7*[6],\n",
    "                         scale = 8*[[-np.pi, np.pi]],\n",
    "                         encoder = Encoder(mode=\"x\"),\n",
    "                         ansatz = Ansatz(blocks=[\"entangle\", \"ry\"], reps=2),\n",
    "                         sampler = Parity(),\n",
    "                         shots = 0)\n",
    "\n",
    "tl = TrajectoryLength(network)\n",
    "tl.fit(x_qcn)\n",
    "saver(tl, data_path(\"tl_expressivity_width_6_reps_2\"))"
   ]
  },
  {
   "cell_type": "code",
   "execution_count": null,
   "metadata": {},
   "outputs": [],
   "source": [
    "np.random.seed(42)\n",
    "\n",
    "network = sequential_qnn(n_qubits = 8*[7],\n",
    "                         dim = [2] + 7*[7],\n",
    "                         scale = 8*[[-np.pi, np.pi]],\n",
    "                         encoder = Encoder(mode=\"x\"),\n",
    "                         ansatz = Ansatz(blocks=[\"entangle\", \"ry\"], reps=2),\n",
    "                         sampler = Parity(),\n",
    "                         shots = 0)\n",
    "\n",
    "tl = TrajectoryLength(network)\n",
    "tl.fit(x_qcn)\n",
    "saver(tl, data_path(\"tl_expressivity_width_7_reps_2\"))"
   ]
  },
  {
   "cell_type": "code",
   "execution_count": null,
   "metadata": {},
   "outputs": [],
   "source": [
    "np.random.seed(42)\n",
    "\n",
    "network = sequential_qnn(n_qubits = 8*[8],\n",
    "                         dim = [2] + 7*[8],\n",
    "                         scale = 8*[[-np.pi, np.pi]],\n",
    "                         encoder = Encoder(mode=\"x\"),\n",
    "                         ansatz = Ansatz(blocks=[\"entangle\", \"ry\"], reps=2),\n",
    "                         sampler = Parity(),\n",
    "                         shots = 0)\n",
    "\n",
    "tl = TrajectoryLength(network)\n",
    "tl.fit(x_qcn)\n",
    "saver(tl, data_path(\"tl_expressivity_width_8_reps_2\"))"
   ]
  },
  {
   "cell_type": "markdown",
   "metadata": {},
   "source": [
    "### DNN"
   ]
  },
  {
   "cell_type": "code",
   "execution_count": null,
   "metadata": {},
   "outputs": [],
   "source": [
    "network = sequential_dnn(dim=[2] + 7*[10])\n",
    "\n",
    "tl = TrajectoryLength(network)\n",
    "tl.fit(x_dnn)\n",
    "\n",
    "network.predict(x_dnn, verbose=True)\n",
    "saver(tl, data_path(\"tl_expressivity_dnn\"))"
   ]
  },
  {
   "cell_type": "markdown",
   "metadata": {},
   "source": [
    "## Training"
   ]
  },
  {
   "cell_type": "code",
   "execution_count": 4,
   "metadata": {},
   "outputs": [
    {
     "name": "stdout",
     "output_type": "stream",
     "text": [
      "(100, 1)\n"
     ]
    }
   ],
   "source": [
    "np.random.seed(42)\n",
    "\n",
    "n = 10\n",
    "x = np.linspace(0, 1, n)\n",
    "x = generate_meshgrid([x,x])\n",
    "\n",
    "mean1 = np.array([[0.25, 0.75]])\n",
    "var1 = np.array([[0.02, 0], [0, 0.02]])\n",
    "\n",
    "mean2 = np.array([[0.75, 0.25]])\n",
    "var2 = np.array([[0.02, 0], [0, 0.02]])\n",
    "\n",
    "mean3 = np.array([[0.25, 0.25]])\n",
    "var3 = np.array([[0.02, 0], [0, 0.02]])\n",
    "\n",
    "mean4 = np.array([[0.75, 0.75]])\n",
    "var4 = np.array([[0.02, 0], [0, 0.02]])\n",
    "\n",
    "y = gaussian(x, mean1, var1) + gaussian(x, mean2, var2) - gaussian(x, mean3, var3) - gaussian(x, mean4, var4)\n",
    "\n",
    "\n",
    "x_train_qnn = scaler(x, a=-np.pi/2, b=np.pi/2)\n",
    "x_train_dnn = scaler(x, mode=\"standard\")\n",
    "y = scaler(y, a=0, b=1)\n",
    "print(y.shape)"
   ]
  },
  {
   "cell_type": "markdown",
   "metadata": {},
   "source": [
    "### QCN"
   ]
  },
  {
   "cell_type": "code",
   "execution_count": null,
   "metadata": {},
   "outputs": [],
   "source": [
    "np.random.seed(42)\n",
    "network = sequential_qnn(n_qubits = [5, 5, 5, 5],\n",
    "                         dim = [2, 5, 5, 5, 1] ,\n",
    "                         scale = 3*[[-np.pi, np.pi]] + [[0,1]],\n",
    "                         encoder = Encoder(mode=\"x\"),\n",
    "                         ansatz = Ansatz(blocks=[\"entangle\", \"ry\"], reps=2),\n",
    "                         sampler = Parity(),\n",
    "                         shots = 0,\n",
    "                         optimizer=Adam(lr=0.1))"
   ]
  },
  {
   "cell_type": "code",
   "execution_count": null,
   "metadata": {},
   "outputs": [],
   "source": [
    "tl = TrajectoryLength(network)\n",
    "tl.fit(x_qcn)\n",
    "saver(tl, data_path(\"tl_expressivity_epochs_0\"))"
   ]
  },
  {
   "cell_type": "code",
   "execution_count": null,
   "metadata": {},
   "outputs": [],
   "source": [
    "network.train(x_train_qnn, y, epochs = 10, verbose=True)"
   ]
  },
  {
   "cell_type": "code",
   "execution_count": null,
   "metadata": {},
   "outputs": [],
   "source": [
    "tl = TrajectoryLength(network)\n",
    "tl.fit(x_qcn)\n",
    "saver(tl, data_path(\"tl_expressivity_epochs_10\"))"
   ]
  },
  {
   "cell_type": "code",
   "execution_count": null,
   "metadata": {},
   "outputs": [],
   "source": [
    "network.train(x_train_qnn, y, epochs = 10, verbose=True)"
   ]
  },
  {
   "cell_type": "code",
   "execution_count": null,
   "metadata": {},
   "outputs": [],
   "source": [
    "tl = TrajectoryLength(network)\n",
    "tl.fit(x_qcn)\n",
    "saver(tl, data_path(\"tl_expressivity_epochs_20\"))"
   ]
  },
  {
   "cell_type": "code",
   "execution_count": null,
   "metadata": {},
   "outputs": [],
   "source": [
    "network.train(x_train_qnn, y, epochs = 10, verbose=True)"
   ]
  },
  {
   "cell_type": "code",
   "execution_count": null,
   "metadata": {},
   "outputs": [],
   "source": [
    "tl = TrajectoryLength(network)\n",
    "tl.fit(x_qcn)\n",
    "saver(tl, data_path(\"tl_expressivity_epochs_30\"))"
   ]
  },
  {
   "cell_type": "code",
   "execution_count": null,
   "metadata": {},
   "outputs": [],
   "source": [
    "network.train(x_train_qnn, y, epochs = 10, verbose=True)"
   ]
  },
  {
   "cell_type": "code",
   "execution_count": null,
   "metadata": {},
   "outputs": [],
   "source": [
    "tl = TrajectoryLength(network)\n",
    "tl.fit(x_qcn)\n",
    "saver(tl, data_path(\"tl_expressivity_epochs_40\"))"
   ]
  },
  {
   "cell_type": "markdown",
   "metadata": {},
   "source": [
    "### DNN"
   ]
  },
  {
   "cell_type": "code",
   "execution_count": 5,
   "metadata": {},
   "outputs": [],
   "source": [
    "np.random.seed(42)\n",
    "network = sequential_dnn(dim=[2, 8, 8, 8, 1],\n",
    "                         optimizer=Adam(lr=0.1))"
   ]
  },
  {
   "cell_type": "code",
   "execution_count": 6,
   "metadata": {},
   "outputs": [],
   "source": [
    "tl = TrajectoryLength(network)\n",
    "tl.fit(x_dnn)\n",
    "saver(tl, data_path(\"tl_expressivity_epochs_0_dnn\"))"
   ]
  },
  {
   "cell_type": "code",
   "execution_count": 7,
   "metadata": {},
   "outputs": [
    {
     "data": {
      "application/vnd.jupyter.widget-view+json": {
       "model_id": "eb8a1d3681a449c2a4ec62b277e04251",
       "version_major": 2,
       "version_minor": 0
      },
      "text/plain": [
       "  0%|          | 0/37 [00:00<?, ?it/s]"
      ]
     },
     "metadata": {},
     "output_type": "display_data"
    },
    {
     "name": "stdout",
     "output_type": "stream",
     "text": [
      "epoch: 0, loss: 0.053186194617715746\n",
      "epoch: 1, loss: 0.06199133622229081\n",
      "epoch: 2, loss: 0.05322642532934586\n",
      "epoch: 3, loss: 0.050674831623350756\n",
      "epoch: 4, loss: 0.05401105050340627\n",
      "epoch: 5, loss: 0.054195186009064915\n",
      "epoch: 6, loss: 0.05185497659673876\n",
      "epoch: 7, loss: 0.05040158013895526\n",
      "epoch: 8, loss: 0.05071056177397753\n",
      "epoch: 9, loss: 0.051647175983572435\n",
      "epoch: 10, loss: 0.052101267661602044\n",
      "epoch: 11, loss: 0.051819871473773996\n",
      "epoch: 12, loss: 0.05114138549426521\n",
      "epoch: 13, loss: 0.05052173644402245\n",
      "epoch: 14, loss: 0.05024711038890553\n",
      "epoch: 15, loss: 0.050340588438744074\n",
      "epoch: 16, loss: 0.05059747171372582\n",
      "epoch: 17, loss: 0.050741357683093014\n",
      "epoch: 18, loss: 0.05062626041434968\n",
      "epoch: 19, loss: 0.0503106665501665\n",
      "epoch: 20, loss: 0.04995688040426301\n",
      "epoch: 21, loss: 0.0496874545347483\n",
      "epoch: 22, loss: 0.04951909167151136\n",
      "epoch: 23, loss: 0.0493845332099185\n",
      "epoch: 24, loss: 0.049189171544573786\n",
      "epoch: 25, loss: 0.048859077511564576\n",
      "epoch: 26, loss: 0.04836923128660381\n",
      "epoch: 27, loss: 0.047748874139343284\n",
      "epoch: 28, loss: 0.04705587346804603\n",
      "epoch: 29, loss: 0.04633090593201649\n",
      "epoch: 30, loss: 0.04555284755632345\n",
      "epoch: 31, loss: 0.04464658010242202\n",
      "epoch: 32, loss: 0.04354067667122614\n",
      "epoch: 33, loss: 0.042208055942245505\n",
      "epoch: 34, loss: 0.04061090466962771\n",
      "epoch: 35, loss: 0.03859348007632517\n",
      "epoch: 36, loss: 0.03591780246935032\n"
     ]
    }
   ],
   "source": [
    "network.train(x_train_dnn, y, epochs=37, verbose=True)"
   ]
  },
  {
   "cell_type": "code",
   "execution_count": 8,
   "metadata": {},
   "outputs": [],
   "source": [
    "tl = TrajectoryLength(network)\n",
    "tl.fit(x_dnn)\n",
    "saver(tl, data_path(\"tl_expressivity_epochs_37_dnn\"))"
   ]
  },
  {
   "cell_type": "code",
   "execution_count": 9,
   "metadata": {},
   "outputs": [
    {
     "data": {
      "application/vnd.jupyter.widget-view+json": {
       "model_id": "1f4bcff0de5b43999b499d651c77e0da",
       "version_major": 2,
       "version_minor": 0
      },
      "text/plain": [
       "  0%|          | 0/51 [00:00<?, ?it/s]"
      ]
     },
     "metadata": {},
     "output_type": "display_data"
    },
    {
     "name": "stdout",
     "output_type": "stream",
     "text": [
      "epoch: 0, loss: 0.032729039893207364\n",
      "epoch: 1, loss: 0.029881662130932667\n",
      "epoch: 2, loss: 0.027432469286786828\n",
      "epoch: 3, loss: 0.02486982299976971\n",
      "epoch: 4, loss: 0.022651249258957628\n",
      "epoch: 5, loss: 0.02095799813052056\n",
      "epoch: 6, loss: 0.01938705529144624\n",
      "epoch: 7, loss: 0.01795053307236266\n",
      "epoch: 8, loss: 0.016898355740301435\n",
      "epoch: 9, loss: 0.015964227468138654\n",
      "epoch: 10, loss: 0.014917572075817585\n",
      "epoch: 11, loss: 0.014085997925997414\n",
      "epoch: 12, loss: 0.013594604695485539\n",
      "epoch: 13, loss: 0.013129662408418\n",
      "epoch: 14, loss: 0.012734845579612322\n",
      "epoch: 15, loss: 0.012631789866781429\n",
      "epoch: 16, loss: 0.012618295967364308\n",
      "epoch: 17, loss: 0.012649533689755871\n",
      "epoch: 18, loss: 0.012736870483533325\n",
      "epoch: 19, loss: 0.012661301258019423\n",
      "epoch: 20, loss: 0.012607999115140898\n",
      "epoch: 21, loss: 0.012659044243681502\n",
      "epoch: 22, loss: 0.01262427404052554\n",
      "epoch: 23, loss: 0.012559101353623174\n",
      "epoch: 24, loss: 0.012438615691063195\n",
      "epoch: 25, loss: 0.012299870569091233\n",
      "epoch: 26, loss: 0.01226474799430569\n",
      "epoch: 27, loss: 0.012205895864943974\n",
      "epoch: 28, loss: 0.012102248049899202\n",
      "epoch: 29, loss: 0.011957576014590507\n",
      "epoch: 30, loss: 0.011818558026536023\n",
      "epoch: 31, loss: 0.011744003596602479\n",
      "epoch: 32, loss: 0.011629757526460019\n",
      "epoch: 33, loss: 0.011461034217996742\n",
      "epoch: 34, loss: 0.011257377604999334\n",
      "epoch: 35, loss: 0.011111656983057367\n",
      "epoch: 36, loss: 0.010982442728294626\n",
      "epoch: 37, loss: 0.010815587067584358\n",
      "epoch: 38, loss: 0.010642529942418521\n",
      "epoch: 39, loss: 0.010523818142975499\n",
      "epoch: 40, loss: 0.010349551752657594\n",
      "epoch: 41, loss: 0.010118413435708705\n",
      "epoch: 42, loss: 0.00990866678747989\n",
      "epoch: 43, loss: 0.00971065128716415\n",
      "epoch: 44, loss: 0.009503246437227986\n",
      "epoch: 45, loss: 0.009322538895584084\n",
      "epoch: 46, loss: 0.009119282043520487\n",
      "epoch: 47, loss: 0.008910879187137878\n",
      "epoch: 48, loss: 0.00875287438799255\n",
      "epoch: 49, loss: 0.008569367620743751\n",
      "epoch: 50, loss: 0.008393184724758224\n"
     ]
    }
   ],
   "source": [
    "network.train(x_train_dnn, y, epochs=51, verbose=True)"
   ]
  },
  {
   "cell_type": "code",
   "execution_count": 10,
   "metadata": {},
   "outputs": [],
   "source": [
    "tl = TrajectoryLength(network)\n",
    "tl.fit(x_dnn)\n",
    "saver(tl, data_path(\"tl_expressivity_epochs_88_dnn\"))"
   ]
  },
  {
   "cell_type": "code",
   "execution_count": 11,
   "metadata": {},
   "outputs": [
    {
     "data": {
      "application/vnd.jupyter.widget-view+json": {
       "model_id": "ec1cd9441b084ec993192a224af315e9",
       "version_major": 2,
       "version_minor": 0
      },
      "text/plain": [
       "  0%|          | 0/33 [00:00<?, ?it/s]"
      ]
     },
     "metadata": {},
     "output_type": "display_data"
    },
    {
     "name": "stdout",
     "output_type": "stream",
     "text": [
      "epoch: 0, loss: 0.008217649895576617\n",
      "epoch: 1, loss: 0.008080776619736144\n",
      "epoch: 2, loss: 0.0079693667240942\n",
      "epoch: 3, loss: 0.007856707888340881\n",
      "epoch: 4, loss: 0.0077416066676496195\n",
      "epoch: 5, loss: 0.007629294547868699\n",
      "epoch: 6, loss: 0.0075018283941939755\n",
      "epoch: 7, loss: 0.007388082423918293\n",
      "epoch: 8, loss: 0.007353900524226913\n",
      "epoch: 9, loss: 0.0077994089408755345\n",
      "epoch: 10, loss: 0.008243475155509777\n",
      "epoch: 11, loss: 0.007044325874879537\n",
      "epoch: 12, loss: 0.007333692687576684\n",
      "epoch: 13, loss: 0.00730205026804965\n",
      "epoch: 14, loss: 0.006641332779098768\n",
      "epoch: 15, loss: 0.007125812992671114\n",
      "epoch: 16, loss: 0.006362686449767473\n",
      "epoch: 17, loss: 0.006724535502446379\n",
      "epoch: 18, loss: 0.006161860322032562\n",
      "epoch: 19, loss: 0.006322471262142411\n",
      "epoch: 20, loss: 0.0059551233297041005\n",
      "epoch: 21, loss: 0.005895086583493373\n",
      "epoch: 22, loss: 0.005720675322148202\n",
      "epoch: 23, loss: 0.005491351532694583\n",
      "epoch: 24, loss: 0.005451592783155358\n",
      "epoch: 25, loss: 0.005123760143638328\n",
      "epoch: 26, loss: 0.005126137089851636\n",
      "epoch: 27, loss: 0.004786345080618753\n",
      "epoch: 28, loss: 0.004779092470077207\n",
      "epoch: 29, loss: 0.004451751252931805\n",
      "epoch: 30, loss: 0.004417175236821261\n",
      "epoch: 31, loss: 0.0041204953826426164\n",
      "epoch: 32, loss: 0.004040856118492888\n"
     ]
    }
   ],
   "source": [
    "network.train(x_train_dnn, y, epochs=33, verbose=True)"
   ]
  },
  {
   "cell_type": "code",
   "execution_count": 12,
   "metadata": {},
   "outputs": [],
   "source": [
    "tl = TrajectoryLength(network)\n",
    "tl.fit(x_dnn)\n",
    "saver(tl, data_path(\"tl_expressivity_epochs_121_dnn\"))"
   ]
  },
  {
   "cell_type": "code",
   "execution_count": 13,
   "metadata": {},
   "outputs": [
    {
     "data": {
      "application/vnd.jupyter.widget-view+json": {
       "model_id": "f716bc71869d49bbb1970193e16438d1",
       "version_major": 2,
       "version_minor": 0
      },
      "text/plain": [
       "  0%|          | 0/39 [00:00<?, ?it/s]"
      ]
     },
     "metadata": {},
     "output_type": "display_data"
    },
    {
     "name": "stdout",
     "output_type": "stream",
     "text": [
      "epoch: 0, loss: 0.003809565110212449\n",
      "epoch: 1, loss: 0.003671124286091385\n",
      "epoch: 2, loss: 0.0035126530827247985\n",
      "epoch: 3, loss: 0.003342200856111838\n",
      "epoch: 4, loss: 0.003242600343962645\n",
      "epoch: 5, loss: 0.003065185714292144\n",
      "epoch: 6, loss: 0.003000730136264862\n",
      "epoch: 7, loss: 0.0028389869047579096\n",
      "epoch: 8, loss: 0.002777289659079728\n",
      "epoch: 9, loss: 0.0026589728073105807\n",
      "epoch: 10, loss: 0.00257270363155521\n",
      "epoch: 11, loss: 0.0025072658487167165\n",
      "epoch: 12, loss: 0.002400559099386522\n",
      "epoch: 13, loss: 0.0023594057098356163\n",
      "epoch: 14, loss: 0.002270602422147458\n",
      "epoch: 15, loss: 0.002214110556360824\n",
      "epoch: 16, loss: 0.002165484982088098\n",
      "epoch: 17, loss: 0.0020909099560134465\n",
      "epoch: 18, loss: 0.0020558050712135207\n",
      "epoch: 19, loss: 0.0019991744008838962\n",
      "epoch: 20, loss: 0.0019465980380429055\n",
      "epoch: 21, loss: 0.0019160295076916362\n",
      "epoch: 22, loss: 0.0018630381727186417\n",
      "epoch: 23, loss: 0.0018261662411104313\n",
      "epoch: 24, loss: 0.001795569498033667\n",
      "epoch: 25, loss: 0.0017497782552384686\n",
      "epoch: 26, loss: 0.001721674412066357\n",
      "epoch: 27, loss: 0.0016902584478459537\n",
      "epoch: 28, loss: 0.001652278479135979\n",
      "epoch: 29, loss: 0.0016272033238050748\n",
      "epoch: 30, loss: 0.001598437910565004\n",
      "epoch: 31, loss: 0.0015653957514430055\n",
      "epoch: 32, loss: 0.0015423467827458926\n",
      "epoch: 33, loss: 0.0015163915258047677\n",
      "epoch: 34, loss: 0.0014871349989987695\n",
      "epoch: 35, loss: 0.0014650537673127017\n",
      "epoch: 36, loss: 0.0014430446394005432\n",
      "epoch: 37, loss: 0.0014174151708822378\n",
      "epoch: 38, loss: 0.0013957163148642993\n"
     ]
    }
   ],
   "source": [
    "network.train(x_train_dnn, y, epochs=39, verbose=True)"
   ]
  },
  {
   "cell_type": "code",
   "execution_count": 14,
   "metadata": {},
   "outputs": [],
   "source": [
    "tl = TrajectoryLength(network)\n",
    "tl.fit(x_dnn)\n",
    "saver(tl, data_path(\"tl_expressivity_epochs_160_dnn\"))"
   ]
  }
 ],
 "metadata": {
  "kernelspec": {
   "display_name": "env_qiskit",
   "language": "python",
   "name": "env_qiskit"
  },
  "language_info": {
   "codemirror_mode": {
    "name": "ipython",
    "version": 3
   },
   "file_extension": ".py",
   "mimetype": "text/x-python",
   "name": "python",
   "nbconvert_exporter": "python",
   "pygments_lexer": "ipython3",
   "version": "3.9.1"
  }
 },
 "nbformat": 4,
 "nbformat_minor": 4
}
