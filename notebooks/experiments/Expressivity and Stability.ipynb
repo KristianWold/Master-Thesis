{
 "cells": [
  {
   "cell_type": "code",
   "execution_count": 1,
   "metadata": {},
   "outputs": [],
   "source": [
    "import numpy as np\n",
    "import qiskit as qk\n",
    "import matplotlib.pyplot as plt\n",
    "from qiskit import Aer\n",
    "from sklearn.decomposition import PCA\n",
    "from tqdm.notebook import tqdm\n",
    "from mpl_toolkits.axes_grid1 import make_axes_locatable\n",
    "\n",
    "import sys\n",
    "sys.path.insert(0, '../../src/')\n",
    "from neuralnetwork import *\n",
    "from analysis import *\n",
    "from utils import *\n",
    "\n",
    "#%matplotlib notebook\n",
    "%matplotlib inline\n",
    "%load_ext autoreload\n",
    "%autoreload 2"
   ]
  },
  {
   "cell_type": "markdown",
   "metadata": {},
   "source": [
    "# Expressivity of QKN vs Classic NN"
   ]
  },
  {
   "cell_type": "markdown",
   "metadata": {},
   "source": [
    "## Mapping of Randomly Initialized Models"
   ]
  },
  {
   "cell_type": "markdown",
   "metadata": {},
   "source": [
    "### QKN"
   ]
  },
  {
   "cell_type": "code",
   "execution_count": 2,
   "metadata": {},
   "outputs": [],
   "source": [
    "x = np.linspace(-1, 1, 30)\n",
    "x = generate_meshgrid([x,x])\n",
    "\n",
    "x_qnn = scaler(x, a=-np.pi/2, b=np.pi/2)\n",
    "x_dnn = scaler(x, mode=\"standard\")\n",
    "\n",
    "backend = Aer.get_backend('qasm_simulator')"
   ]
  },
  {
   "cell_type": "code",
   "execution_count": null,
   "metadata": {},
   "outputs": [],
   "source": [
    "np.random.seed(44)\n",
    "\n",
    "qkn1 = sequential_qnn(n_qubits = [2],\n",
    "                         dim = [2, 1],\n",
    "                         encoder = Encoder(),\n",
    "                         ansatz = Ansatz(blocks=[\"entangle\", \"ry\"], reps=2),\n",
    "                         sampler = Parity(),\n",
    "                         backend = backend,\n",
    "                         shots = 10000)\n",
    "\n",
    "qkn2 = sequential_qnn(n_qubits = [2, 4],\n",
    "                         dim = [2, 4, 1],\n",
    "                         encoder = Encoder(),\n",
    "                         ansatz = Ansatz(blocks=[\"entangle\", \"ry\"], reps=2),\n",
    "                         sampler = Parity(),\n",
    "                         backend = backend,\n",
    "                         shots = 10000)\n",
    "\n",
    "qkn3 = sequential_qnn(n_qubits = [2, 4, 4],\n",
    "                         dim = [2, 4, 4, 1],\n",
    "                         encoder = Encoder(),\n",
    "                         sampler = Parity(),\n",
    "                         ansatz = Ansatz(blocks=[\"entangle\", \"ry\"], reps=2),\n",
    "                         backend = backend,\n",
    "                         shots = 10000)\n",
    "\n",
    "qkn4 = sequential_qnn(n_qubits = [2, 4, 4, 4],\n",
    "                         dim = [2, 4, 4, 4, 1],\n",
    "                         encoder = Encoder(),\n",
    "                         ansatz = Ansatz(blocks=[\"entangle\", \"ry\"], reps=2),\n",
    "                         sampler = Parity(),\n",
    "                         backend = backend,\n",
    "                         shots = 10000)"
   ]
  },
  {
   "cell_type": "code",
   "execution_count": null,
   "metadata": {},
   "outputs": [],
   "source": [
    "y_pred1 = qkn1.predict(x_qnn).reshape(30,30)\n",
    "y_pred2 = qkn2.predict(x_qnn).reshape(30,30)\n",
    "y_pred3 = qkn3.predict(x_qnn).reshape(30,30)\n",
    "y_pred4 = qkn4.predict(x_qnn).reshape(30,30)"
   ]
  },
  {
   "cell_type": "code",
   "execution_count": null,
   "metadata": {},
   "outputs": [],
   "source": [
    "fig, (ax1, ax2, ax3, ax4) = plt.subplots(1, 4, figsize=(10, 10))\n",
    "\n",
    "im = ax1.imshow(y_pred1, vmin=0, vmax=1)\n",
    "ax1.axis(\"off\")\n",
    "\n",
    "ax2.imshow(y_pred2, vmin=0, vmax=1)\n",
    "ax2.axis(\"off\")\n",
    "\n",
    "ax3.imshow(y_pred3, vmin=0, vmax=1)\n",
    "ax3.axis(\"off\")\n",
    "\n",
    "ax4.imshow(y_pred4, vmin=0, vmax=1)\n",
    "ax4.axis(\"off\")\n",
    "\n",
    "cbar_ax = fig.add_axes([0.11, 0.35, 0.8, 0.03])\n",
    "\n",
    "plt.colorbar(im, orientation=\"horizontal\", cax=cbar_ax)\n",
    "\n",
    "plt.show()\n",
    "fig.savefig(image_path(\"QKN_random.pdf\"), bbox_inches='tight')"
   ]
  },
  {
   "cell_type": "code",
   "execution_count": 3,
   "metadata": {},
   "outputs": [],
   "source": [
    "qkn5 = sequential_qnn(n_qubits = [2, 8],\n",
    "                         dim = [2, 8, 1],\n",
    "                         encoder = Encoder(),\n",
    "                         ansatz = Ansatz(blocks=[\"entangle\", \"ry\"], reps=2),\n",
    "                         sampler = Parity(),\n",
    "                         backend = backend,\n",
    "                         shots = 10000)\n",
    "\n",
    "\n",
    "qkn6 = sequential_qnn(n_qubits = [2, 8, 8, 8],\n",
    "                         dim = [2, 8, 8, 8, 1],\n",
    "                         encoder = Encoder(),\n",
    "                         ansatz = Ansatz(blocks=[\"entangle\", \"ry\"], reps=2),\n",
    "                         sampler = Parity(),\n",
    "                         backend = backend,\n",
    "                         shots = 10000)"
   ]
  },
  {
   "cell_type": "code",
   "execution_count": 4,
   "metadata": {},
   "outputs": [],
   "source": [
    "y_pred5 = qkn5.predict(x_qnn).reshape(30,30)\n",
    "y_pred6 = qkn6.predict(x_qnn).reshape(30,30)"
   ]
  },
  {
   "cell_type": "code",
   "execution_count": 5,
   "metadata": {},
   "outputs": [
    {
     "data": {
      "text/plain": [
       "<matplotlib.colorbar.Colorbar at 0x7f85d9306a60>"
      ]
     },
     "execution_count": 5,
     "metadata": {},
     "output_type": "execute_result"
    },
    {
     "data": {
      "image/png": "[encoded data removed]",
      "text/plain": [
       "<Figure size 432x288 with 2 Axes>"
      ]
     },
     "metadata": {
      "needs_background": "light"
     },
     "output_type": "display_data"
    }
   ],
   "source": [
    "plt.imshow(y_pred5)\n",
    "plt.colorbar()"
   ]
  },
  {
   "cell_type": "code",
   "execution_count": 6,
   "metadata": {},
   "outputs": [
    {
     "data": {
      "text/plain": [
       "<matplotlib.colorbar.Colorbar at 0x7f85d8ecb790>"
      ]
     },
     "execution_count": 6,
     "metadata": {},
     "output_type": "execute_result"
    },
    {
     "data": {
      "image/png": "[encoded data removed]",
      "text/plain": [
       "<Figure size 432x288 with 2 Axes>"
      ]
     },
     "metadata": {
      "needs_background": "light"
     },
     "output_type": "display_data"
    }
   ],
   "source": [
    "plt.imshow(y_pred6)\n",
    "plt.colorbar()"
   ]
  },
  {
   "cell_type": "markdown",
   "metadata": {},
   "source": [
    "### DNN"
   ]
  },
  {
   "cell_type": "code",
   "execution_count": null,
   "metadata": {},
   "outputs": [],
   "source": [
    "np.random.seed(42)\n",
    "\n",
    "dnn1 = sequential_dnn(dim = [2, 1])\n",
    "dnn2 = sequential_dnn(dim = [2, 6, 1])\n",
    "dnn3 = sequential_dnn(dim = [2, 6, 6, 1])\n",
    "dnn4 = sequential_dnn(dim = [2, 6, 6, 6, 1])"
   ]
  },
  {
   "cell_type": "code",
   "execution_count": null,
   "metadata": {},
   "outputs": [],
   "source": [
    "y_pred5 = dnn1.predict(x_dnn).reshape(30,30)\n",
    "y_pred6 = dnn2.predict(x_dnn).reshape(30,30)\n",
    "y_pred7 = dnn3.predict(x_dnn).reshape(30,30)\n",
    "y_pred8 = dnn4.predict(x_dnn).reshape(30,30)"
   ]
  },
  {
   "cell_type": "code",
   "execution_count": null,
   "metadata": {},
   "outputs": [],
   "source": [
    "fig, (ax1, ax2, ax3, ax4) = plt.subplots(1, 4, figsize=(10, 10))\n",
    "\n",
    "im = ax1.imshow(y_pred5, vmin=0, vmax=1)\n",
    "ax1.axis(\"off\")\n",
    "\n",
    "ax2.imshow(y_pred6, vmin=0, vmax=1)\n",
    "ax2.axis(\"off\")\n",
    "\n",
    "ax3.imshow(y_pred7, vmin=0, vmax=1)\n",
    "ax3.axis(\"off\")\n",
    "\n",
    "ax4.imshow(y_pred8, vmin=0, vmax=1)\n",
    "ax4.axis(\"off\")\n",
    "\n",
    "cbar_ax = fig.add_axes([0.11, 0.35, 0.8, 0.03])\n",
    "\n",
    "plt.colorbar(im, orientation=\"horizontal\", cax=cbar_ax)\n",
    "\n",
    "plt.show()\n",
    "fig.savefig(image_path(\"DNN_random.pdf\"), bbox_inches='tight')"
   ]
  },
  {
   "cell_type": "markdown",
   "metadata": {},
   "source": [
    "## Single Circuit"
   ]
  },
  {
   "cell_type": "code",
   "execution_count": null,
   "metadata": {},
   "outputs": [],
   "source": [
    "x_sc = np.hstack([x[:,0], x[:,1], x[:,0]*x[:,1]]) "
   ]
  },
  {
   "cell_type": "code",
   "execution_count": null,
   "metadata": {},
   "outputs": [],
   "source": [
    "np.random.seed(44)\n",
    "backend = Aer.get_backend('qasm_simulator')\n",
    "\n",
    "sc1 = sequential_qnn(n_qubits = [4],\n",
    "                     dim = [2, 1],\n",
    "                     encoder = Encoder(),\n",
    "                     ansatz = Ansatz(blocks=[\"entangle\", \"ry\"], reps=2),\n",
    "                     sampler = Parity(),\n",
    "                     backend = backend,\n",
    "                     shots = 10000)\n",
    "\n",
    "sc2 = sequential_qnn(n_qubits = [4],\n",
    "                     dim = [2, 1],\n",
    "                     encoder = Encoder(),\n",
    "                     ansatz = Ansatz(blocks=[\"entangle\", \"ry\"], reps=4),\n",
    "                     sampler = Parity(),\n",
    "                     backend = backend,\n",
    "                     shots = 10000)\n",
    "\n",
    "sc3 = sequential_qnn(n_qubits = [4],\n",
    "                     dim = [2, 1],\n",
    "                     encoder = Encoder(),\n",
    "                     ansatz = Ansatz(blocks=[\"entangle\", \"ry\"], reps=6),\n",
    "                     sampler = Parity(),\n",
    "                     backend = backend,\n",
    "                     shots = 10000)\n",
    "\n",
    "sc4 = sequential_qnn(n_qubits = [4],\n",
    "                     dim = [2, 1],\n",
    "                     encoder = Encoder(),\n",
    "                     ansatz = Ansatz(blocks=[\"entangle\", \"ry\"], reps=8),\n",
    "                     sampler = Parity(),\n",
    "                     backend = backend,\n",
    "                     shots = 10000)"
   ]
  },
  {
   "cell_type": "code",
   "execution_count": null,
   "metadata": {},
   "outputs": [],
   "source": [
    "y_pred9 = sc1.predict(x_qnn).reshape(30,30)\n",
    "y_pred10 = sc2.predict(x_qnn).reshape(30,30)\n",
    "y_pred11 = sc3.predict(x_qnn).reshape(30,30)\n",
    "y_pred12 = sc4.predict(x_qnn).reshape(30,30)"
   ]
  },
  {
   "cell_type": "code",
   "execution_count": null,
   "metadata": {},
   "outputs": [],
   "source": [
    "fig, (ax1, ax2, ax3, ax4) = plt.subplots(1, 4, figsize=(10, 10))\n",
    "\n",
    "im = ax1.imshow(y_pred9, vmin=0, vmax=1)\n",
    "ax1.axis(\"off\")\n",
    "\n",
    "ax2.imshow(y_pred10, vmin=0, vmax=1)\n",
    "ax2.axis(\"off\")\n",
    "\n",
    "ax3.imshow(y_pred11, vmin=0, vmax=1)\n",
    "ax3.axis(\"off\")\n",
    "\n",
    "ax4.imshow(y_pred12, vmin=0, vmax=1)\n",
    "ax4.axis(\"off\")\n",
    "\n",
    "cbar_ax = fig.add_axes([0.11, 0.35, 0.8, 0.03])\n",
    "\n",
    "plt.colorbar(im, orientation=\"horizontal\", cax=cbar_ax)\n",
    "\n",
    "plt.show()\n",
    "fig.savefig(image_path(\"Single_circuit_random.pdf\"), bbox_inches='tight')"
   ]
  },
  {
   "cell_type": "markdown",
   "metadata": {},
   "source": [
    "### Screensaver"
   ]
  },
  {
   "cell_type": "code",
   "execution_count": 7,
   "metadata": {},
   "outputs": [],
   "source": [
    "x = np.linspace(-1, 1, 100)\n",
    "y = np.linspace(-1, 1, 100)\n",
    "x = generate_meshgrid([x, y])\n",
    "\n",
    "x_qnn = scaler(x, a=-np.pi/2, b=np.pi/2)\n",
    "x_dnn = scaler(x, mode=\"standard\")"
   ]
  },
  {
   "cell_type": "code",
   "execution_count": 8,
   "metadata": {},
   "outputs": [],
   "source": [
    "qkn4 = sequential_qnn(n_qubits = [2, 4, 4, 4],\n",
    "                         dim = [2, 4, 4, 4, 1],\n",
    "                         encoder = Encoder(),\n",
    "                         ansatz = Ansatz(blocks=[\"entangle\", \"ry\"], reps=2),\n",
    "                         sampler = Parity(),\n",
    "                         backend = backend,\n",
    "                         shots = 10000)"
   ]
  },
  {
   "cell_type": "code",
   "execution_count": null,
   "metadata": {},
   "outputs": [],
   "source": [
    "y_pred = qkn4.predict(x_qnn)"
   ]
  },
  {
   "cell_type": "code",
   "execution_count": null,
   "metadata": {},
   "outputs": [],
   "source": [
    "plt.imshow(y_pred.reshape(30,30))\n",
    "plt.show()"
   ]
  },
  {
   "cell_type": "markdown",
   "metadata": {},
   "source": [
    "## Trajectory Length"
   ]
  },
  {
   "cell_type": "code",
   "execution_count": null,
   "metadata": {},
   "outputs": [],
   "source": [
    "theta = np.linspace(0, 2*np.pi, 1000).reshape(-1,1)\n",
    "x = np.pi*(np.cos(theta) + 1)/2\n",
    "y = np.pi*(np.sin(theta) + 1)/2\n",
    "x = np.hstack([x, y])\n",
    "print(trajectory_length(x))"
   ]
  },
  {
   "cell_type": "code",
   "execution_count": null,
   "metadata": {},
   "outputs": [],
   "source": [
    "plt.plot(x[:,0], x[:,1])\n",
    "plt.show()"
   ]
  },
  {
   "cell_type": "markdown",
   "metadata": {},
   "source": [
    "## Quantum Neural Network"
   ]
  },
  {
   "cell_type": "markdown",
   "metadata": {},
   "source": [
    "### Increasing width"
   ]
  },
  {
   "cell_type": "code",
   "execution_count": null,
   "metadata": {},
   "outputs": [],
   "source": [
    "np.random.seed(42)\n",
    "\n",
    "network = sequential_qnn(q_bits = [2, 3, 3, 3, 3, 3, 3, 3, 3],\n",
    "                         dim = [2, 3, 3, 3, 3, 3, 3, 3, 3, 1],\n",
    "                         reps = 1,\n",
    "                         backend=backend,\n",
    "                         shots=1000000)\n",
    "\n",
    "network.predict(x, verbose=True)\n",
    "saver(network, data_path(\"network_expressivity_width_3_reps_1_shots_1mill\"))"
   ]
  },
  {
   "cell_type": "code",
   "execution_count": null,
   "metadata": {},
   "outputs": [],
   "source": [
    "np.random.seed(42)\n",
    "\n",
    "network = sequential_qnn(q_bits = [2, 4, 4, 4, 4, 4, 4, 4, 4],\n",
    "                         dim = [2, 4, 4, 4, 4, 4, 4, 4, 4, 1],\n",
    "                         reps = 1,\n",
    "                         backend=backend,\n",
    "                         shots=1000000)\n",
    "\n",
    "network.predict(x, verbose=True)\n",
    "saver(network, data_path(\"network_expressivity_width_4_reps_1_shots_1mill\"))"
   ]
  },
  {
   "cell_type": "code",
   "execution_count": null,
   "metadata": {},
   "outputs": [],
   "source": [
    "np.random.seed(42)\n",
    "\n",
    "network = sequential_qnn(q_bits = [2, 5, 5, 5, 5, 5, 5, 5, 5],\n",
    "                         dim = [2, 5, 5, 5, 5, 5, 5, 5, 5, 1],\n",
    "                         reps = 1,\n",
    "                         backend=backend,\n",
    "                         shots=1000000)\n",
    "\n",
    "network.predict(x, verbose=True)\n",
    "saver(network, data_path(\"network_expressivity_width_5_reps_1_shots_1mill\"))"
   ]
  },
  {
   "cell_type": "code",
   "execution_count": null,
   "metadata": {},
   "outputs": [],
   "source": [
    "np.random.seed(42)\n",
    "\n",
    "network = sequential_qnn(q_bits = [2, 6, 6, 6, 6, 6, 6, 6, 6],\n",
    "                         dim = [2, 6, 6, 6, 6, 6, 6, 6, 6, 1],\n",
    "                         reps = 1,\n",
    "                         backend=backend,\n",
    "                         shots=1000000)\n",
    "\n",
    "network.predict(x, verbose=True)\n",
    "saver(network, data_path(\"network_expressivity_width_6_reps_1_shots_1mill\"))"
   ]
  },
  {
   "cell_type": "code",
   "execution_count": null,
   "metadata": {},
   "outputs": [],
   "source": [
    "np.random.seed(42)\n",
    "\n",
    "network = sequential_qnn(q_bits = [2, 7, 7, 7, 7, 7, 7, 7, 7],\n",
    "                         dim = [2, 7, 7, 7, 7, 7, 7, 7, 7, 1],\n",
    "                         reps = 1,\n",
    "                         backend=backend,\n",
    "                         shots=1000000)\n",
    "\n",
    "network.predict(x, verbose=True)\n",
    "saver(network, data_path(\"network_expressivity_width_7_reps_1_shots_1mill\"))"
   ]
  },
  {
   "cell_type": "markdown",
   "metadata": {},
   "source": [
    "### Increasing reps"
   ]
  },
  {
   "cell_type": "code",
   "execution_count": null,
   "metadata": {},
   "outputs": [],
   "source": [
    "np.random.seed(42)\n",
    "\n",
    "network = sequential_qnn(q_bits = [2, 5, 5, 5, 5, 5, 5, 5, 5],\n",
    "                         dim = [2, 5, 5, 5, 5, 5, 5, 5, 5, 1],\n",
    "                         reps = 2,\n",
    "                         backend=backend,\n",
    "                         shots=1000000)\n",
    "\n",
    "network.predict(x, verbose=True)\n",
    "saver(network, data_path(\"network_expressivity_width_4_reps_2_shots_1mill\"))"
   ]
  },
  {
   "cell_type": "code",
   "execution_count": null,
   "metadata": {},
   "outputs": [],
   "source": [
    "np.random.seed(42)\n",
    "\n",
    "network = sequential_qnn(q_bits = [2, 5, 5, 5, 5, 5, 5, 5, 5],\n",
    "                         dim = [2, 5, 5, 5, 5, 5, 5, 5, 5, 1],\n",
    "                         reps = 3,\n",
    "                         backend=backend,\n",
    "                         shots=1000000)\n",
    "\n",
    "network.predict(x, verbose=True)\n",
    "saver(network, data_path(\"network_expressivity_width_4_reps_3_shots_1mill\"))"
   ]
  },
  {
   "cell_type": "code",
   "execution_count": null,
   "metadata": {},
   "outputs": [],
   "source": [
    "np.random.seed(42)\n",
    "\n",
    "network = sequential_qnn(q_bits = [2, 5, 5, 5, 5, 5, 5, 5, 5],\n",
    "                         dim = [2, 5, 5, 5, 5, 5, 5, 5, 5, 1],\n",
    "                         reps = 4,\n",
    "                         backend=backend,\n",
    "                         shots=1000000)\n",
    "\n",
    "network.predict(x, verbose=True)\n",
    "saver(network, data_path(\"network_expressivity_width_4_reps_4_shots_1mill\"))"
   ]
  },
  {
   "cell_type": "markdown",
   "metadata": {},
   "source": [
    "## Classical Neural Network"
   ]
  },
  {
   "cell_type": "code",
   "execution_count": null,
   "metadata": {},
   "outputs": [],
   "source": []
  }
 ],
 "metadata": {
  "kernelspec": {
   "display_name": "env_qiskit",
   "language": "python",
   "name": "env_qiskit"
  },
  "language_info": {
   "codemirror_mode": {
    "name": "ipython",
    "version": 3
   },
   "file_extension": ".py",
   "mimetype": "text/x-python",
   "name": "python",
   "nbconvert_exporter": "python",
   "pygments_lexer": "ipython3",
   "version": "3.9.1"
  }
 },
 "nbformat": 4,
 "nbformat_minor": 4
}
