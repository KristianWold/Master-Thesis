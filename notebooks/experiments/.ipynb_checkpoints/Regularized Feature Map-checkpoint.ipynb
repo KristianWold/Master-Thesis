{
 "cells": [
  {
   "cell_type": "code",
   "execution_count": 1,
   "metadata": {},
   "outputs": [],
   "source": [
    "import numpy as np\n",
    "import qiskit as qk\n",
    "import matplotlib.pyplot as plt\n",
    "from qiskit import Aer\n",
    "from sklearn.decomposition import PCA\n",
    "from tqdm.notebook import tqdm\n",
    "\n",
    "import sys\n",
    "sys.path.insert(0, '../../src/')\n",
    "from neuralnetwork import *\n",
    "from analysis import *\n",
    "from utils import *\n",
    "from parametrizations import *\n",
    "\n",
    "#%matplotlib notebook\n",
    "%matplotlib inline\n",
    "%load_ext autoreload\n",
    "%autoreload 2"
   ]
  },
  {
   "cell_type": "code",
   "execution_count": 2,
   "metadata": {},
   "outputs": [],
   "source": [
    "backend = Aer.get_backend('qasm_simulator')"
   ]
  },
  {
   "cell_type": "markdown",
   "metadata": {},
   "source": [
    "# Regularized Feature Map"
   ]
  },
  {
   "cell_type": "markdown",
   "metadata": {},
   "source": [
    "## Regularization"
   ]
  },
  {
   "cell_type": "code",
   "execution_count": 3,
   "metadata": {},
   "outputs": [],
   "source": [
    "np.random.seed(42)\n",
    "\n",
    "n = 200\n",
    "n_features = 4\n",
    "epochs = 100\n",
    "x = np.random.uniform(0, np.pi, (n, n_features))\n",
    "\n",
    "y = np.sin(2*x[:,2])\n",
    "y = scaler(y, a=0.1, b=0.9).reshape(-1, 1)\n",
    "\n",
    "x_train, y_train = x[:100,:], y[:100,:]"
   ]
  },
  {
   "cell_type": "code",
   "execution_count": 4,
   "metadata": {},
   "outputs": [
    {
     "data": {
      "image/png": "[encoded data removed]",
      "text/plain": [
       "<Figure size 432x288 with 1 Axes>"
      ]
     },
     "metadata": {
      "needs_background": "light"
     },
     "output_type": "display_data"
    }
   ],
   "source": [
    "plt.plot(x_train[:,2], y_train,\"o\")\n",
    "plt.show()"
   ]
  },
  {
   "cell_type": "markdown",
   "metadata": {},
   "source": [
    "### No Penalty"
   ]
  },
  {
   "cell_type": "code",
   "execution_count": null,
   "metadata": {},
   "outputs": [
    {
     "data": {
      "application/vnd.jupyter.widget-view+json": {
       "model_id": "5ce0ef358b184c4fa995fc4db50bb104",
       "version_major": 2,
       "version_minor": 0
      },
      "text/plain": [
       "  0%|          | 0/1 [00:00<?, ?it/s]"
      ]
     },
     "metadata": {},
     "output_type": "display_data"
    },
    {
     "data": {
      "application/vnd.jupyter.widget-view+json": {
       "model_id": "5ba991eb942e4797b36f6220034f0919",
       "version_major": 2,
       "version_minor": 0
      },
      "text/plain": [
       "  0%|          | 0/100 [00:00<?, ?it/s]"
      ]
     },
     "metadata": {},
     "output_type": "display_data"
    }
   ],
   "source": [
    "np.random.seed(42)\n",
    "model_list = []\n",
    "for i in tqdm(range(1)):\n",
    "    optimizer = Adam(lr=0.1)\n",
    "    model = RegularizedModel(n_features=n_features, \n",
    "                             n_targets=1, \n",
    "                             reps=2,\n",
    "                             alpha=0.00,\n",
    "                             backend=backend, \n",
    "                             shots=0, \n",
    "                             optimizer=optimizer)\n",
    "    \n",
    "    model.train(x_train, y_train, epochs=epochs, verbose=True) \n",
    "    model_list.append(model)\n",
    "    print(model.loss[-1])\n",
    "\n",
    "saver(model_list, data_path(\"sparse_reg_model_no_penalty\"))"
   ]
  },
  {
   "cell_type": "markdown",
   "metadata": {},
   "source": [
    "### Low penalty"
   ]
  },
  {
   "cell_type": "code",
   "execution_count": null,
   "metadata": {},
   "outputs": [],
   "source": [
    "np.random.seed(42)\n",
    "model_list = []\n",
    "for i in tqdm(range(1)):\n",
    "    optimizer = Adam(lr=0.1)\n",
    "    model = RegularizedModel(n_features=n_features, \n",
    "                             n_targets=1, \n",
    "                             reps=2,\n",
    "                             alpha=0.01,\n",
    "                             backend=backend, \n",
    "                             shots=10000, \n",
    "                             optimizer=optimizer)\n",
    "    \n",
    "    model.train(x_train, y_train, epochs=epochs, verbose=True) \n",
    "    model_list.append(model)\n",
    "    print(model.loss[-1])\n",
    "\n",
    "saver(model_list, data_path(\"sparse_reg_model_low_penalty\"))"
   ]
  },
  {
   "cell_type": "markdown",
   "metadata": {},
   "source": [
    "### No-Regularized Model"
   ]
  },
  {
   "cell_type": "code",
   "execution_count": null,
   "metadata": {},
   "outputs": [],
   "source": [
    "np.random.seed(42)\n",
    "model_list = []\n",
    "for i in tqdm(range(1)):\n",
    "    optimizer = Adam(lr=0.1)\n",
    "    model = RegularizedModel(n_features=n_features, \n",
    "                             n_targets=1, \n",
    "                             reps=2,\n",
    "                             alpha=0.00,\n",
    "                             backend=backend, \n",
    "                             shots=0, \n",
    "                             optimizer=optimizer)\n",
    "    \n",
    "    model.encoder.reg = False\n",
    "    model.train(x_train, y_train, epochs=epochs, verbose=True) \n",
    "    model_list.append(model)\n",
    "    print(model.loss[-1])\n",
    "\n",
    "saver(model_list, data_path(\"sparse_no_reg_model\"))"
   ]
  },
  {
   "cell_type": "markdown",
   "metadata": {},
   "source": [
    "### Dense Input"
   ]
  },
  {
   "cell_type": "code",
   "execution_count": null,
   "metadata": {},
   "outputs": [],
   "source": [
    "x_train[:,0] = np.pi/2\n",
    "x_train[:,1] = np.pi/2\n",
    "x_train[:,3] = np.pi/2\n",
    "\n",
    "np.random.seed(42)\n",
    "model_list = []\n",
    "for i in tqdm(range(1)):\n",
    "    optimizer = Adam(lr=0.1)\n",
    "    model = RegularizedModel(n_features=n_features, \n",
    "                             n_targets=1, \n",
    "                             reps=2,\n",
    "                             alpha=0.00,\n",
    "                             backend=backend, \n",
    "                             shots=0, \n",
    "                             optimizer=optimizer)\n",
    "    \n",
    "    model.encoder.reg = False\n",
    "    model.train(x_train, y_train, epochs=epochs, verbose=True) \n",
    "    model_list.append(model)\n",
    "    print(model.loss[-1])\n",
    "\n",
    "saver(model_list, data_path(\"dense_no_reg_model\"))"
   ]
  },
  {
   "cell_type": "markdown",
   "metadata": {},
   "source": [
    "### Alternative Data"
   ]
  },
  {
   "cell_type": "code",
   "execution_count": null,
   "metadata": {},
   "outputs": [],
   "source": [
    "np.random.seed(42)\n",
    "\n",
    "n = 200\n",
    "n_features = 4\n",
    "epochs = 100\n",
    "x = np.random.uniform(0, 1, (n, n_features))\n",
    "\n",
    "y = -gaussian(x[:,2].reshape(-1,1), 0.2, 0.01) + gaussian(x[:,2].reshape(-1,1), 0.5, 0.02) - gaussian(x[:,2].reshape(-1,1), 0.8, 0.01) \n",
    "\n",
    "x = scaler(x, a=0, b=np.pi)\n",
    "y = scaler(y, a=0.1, b=0.9)\n",
    "\n",
    "x_train, y_train = x[:100,:], y[:100,:]\n",
    "\n",
    "x_train[:,0] = np.pi/2\n",
    "x_train[:,1] = np.pi/2\n",
    "x_train[:,3] = np.pi/2"
   ]
  },
  {
   "cell_type": "code",
   "execution_count": null,
   "metadata": {},
   "outputs": [],
   "source": [
    "plt.plot(x_train[:,2], y_train, \"o\")"
   ]
  },
  {
   "cell_type": "code",
   "execution_count": null,
   "metadata": {},
   "outputs": [],
   "source": [
    "optimizer = Adam(lr=0.1)\n",
    "model = RegularizedModel(n_features=n_features, \n",
    "                             n_targets=1, \n",
    "                             reps=2,\n",
    "                             alpha=0.00,\n",
    "                             backend=backend, \n",
    "                             shots=10000, \n",
    "                             optimizer=optimizer)\n",
    "    \n",
    "model.encoder.reg = False\n",
    "model.train(x_train, y_train, epochs=epochs, verbose=True) "
   ]
  },
  {
   "cell_type": "code",
   "execution_count": null,
   "metadata": {},
   "outputs": [],
   "source": [
    "y_pred3 = model.predict(x_train)"
   ]
  },
  {
   "cell_type": "code",
   "execution_count": null,
   "metadata": {},
   "outputs": [],
   "source": [
    "plt.plot(x_train[:,2], y_train, \"o\")\n",
    "plt.plot(x_train[:,2], y_pred3, \"o\")\n",
    "plt.show()"
   ]
  },
  {
   "cell_type": "code",
   "execution_count": null,
   "metadata": {},
   "outputs": [],
   "source": []
  }
 ],
 "metadata": {
  "kernelspec": {
   "display_name": "env_qiskit",
   "language": "python",
   "name": "env_qiskit"
  },
  "language_info": {
   "codemirror_mode": {
    "name": "ipython",
    "version": 3
   },
   "file_extension": ".py",
   "mimetype": "text/x-python",
   "name": "python",
   "nbconvert_exporter": "python",
   "pygments_lexer": "ipython3",
   "version": "3.9.1"
  }
 },
 "nbformat": 4,
 "nbformat_minor": 4
}
