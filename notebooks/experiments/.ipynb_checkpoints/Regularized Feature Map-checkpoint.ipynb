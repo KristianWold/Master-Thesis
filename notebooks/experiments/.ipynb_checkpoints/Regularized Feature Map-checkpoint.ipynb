{
 "cells": [
  {
   "cell_type": "code",
   "execution_count": 7,
   "metadata": {},
   "outputs": [
    {
     "name": "stdout",
     "output_type": "stream",
     "text": [
      "The autoreload extension is already loaded. To reload it, use:\n",
      "  %reload_ext autoreload\n"
     ]
    }
   ],
   "source": [
    "import numpy as np\n",
    "import qiskit as qk\n",
    "import matplotlib.pyplot as plt\n",
    "from qiskit import Aer\n",
    "from sklearn.decomposition import PCA\n",
    "from tqdm.notebook import tqdm\n",
    "\n",
    "import sys\n",
    "sys.path.insert(0, '../../src/')\n",
    "from neuralnetwork import *\n",
    "from analysis import *\n",
    "from utils import *\n",
    "\n",
    "#%matplotlib notebook\n",
    "%matplotlib inline\n",
    "%load_ext autoreload\n",
    "%autoreload 2"
   ]
  },
  {
   "cell_type": "code",
   "execution_count": 8,
   "metadata": {},
   "outputs": [],
   "source": [
    "backend = Aer.get_backend('qasm_simulator')"
   ]
  },
  {
   "cell_type": "markdown",
   "metadata": {},
   "source": [
    "# Regularized Feature Map"
   ]
  },
  {
   "cell_type": "markdown",
   "metadata": {},
   "source": [
    "## Regularization"
   ]
  },
  {
   "cell_type": "code",
   "execution_count": 9,
   "metadata": {},
   "outputs": [],
   "source": [
    "np.random.seed(42)\n",
    "\n",
    "n = 200\n",
    "n_features = 4\n",
    "epochs = 100\n",
    "x = np.random.uniform(0, np.pi, (n, n_features))\n",
    "\n",
    "std = 0.2\n",
    "y = np.sin(2*x[:,2])\n",
    "y = scaler(y, a=0.1, b=0.9).reshape(-1, 1)\n",
    "\n",
    "x_train, y_train = x[:100,:], y[:100,:]"
   ]
  },
  {
   "cell_type": "code",
   "execution_count": 10,
   "metadata": {},
   "outputs": [
    {
     "data": {
      "image/png": "[encoded data removed]",
      "text/plain": [
       "<Figure size 432x288 with 1 Axes>"
      ]
     },
     "metadata": {
      "needs_background": "light"
     },
     "output_type": "display_data"
    }
   ],
   "source": [
    "plt.plot(x_train[:,2], y_train,\"o\")\n",
    "plt.show()"
   ]
  },
  {
   "cell_type": "markdown",
   "metadata": {},
   "source": [
    "### No Penalty"
   ]
  },
  {
   "cell_type": "code",
   "execution_count": null,
   "metadata": {},
   "outputs": [],
   "source": [
    "np.random.seed(42)\n",
    "model_list = []\n",
    "for i in tqdm(range(1)):\n",
    "    optimizer = Adam(lr=0.1)\n",
    "    model = RegularizedModel(n_features=n_features, \n",
    "                             n_targets=1, \n",
    "                             reps=2,\n",
    "                             alpha=0.00,\n",
    "                             backend=backend, \n",
    "                             shots=10000, \n",
    "                             optimizer=optimizer)\n",
    "    \n",
    "    model.train(x_train, y_train, epochs=epochs, verbose=True) \n",
    "    model_list.append(model)\n",
    "    print(model.loss[-1])\n",
    "\n",
    "saver(model_list, data_path(\"sparse_regularisation_model_no_penalty\"))"
   ]
  },
  {
   "cell_type": "markdown",
   "metadata": {},
   "source": [
    "### Low Penalty"
   ]
  },
  {
   "cell_type": "code",
   "execution_count": null,
   "metadata": {},
   "outputs": [],
   "source": [
    "np.random.seed(42)\n",
    "model_list = []\n",
    "for i in tqdm(range(10)):\n",
    "    optimizer = Adam(lr=0.1)\n",
    "    model = RegularizedModel(n_features=n_features, \n",
    "                             n_targets=1, \n",
    "                             reps=2,\n",
    "                             alpha=0.001,\n",
    "                             backend=backend, \n",
    "                             shots=10000, \n",
    "                             optimizer=optimizer)\n",
    "    \n",
    "    model.train(x_train, y_train, epochs=epochs, verbose=True) \n",
    "    model_list.append(model)\n",
    "    print(model.loss[-1])\n",
    "\n",
    "saver(model_list, data_path(\"sparse_regularisation_model_low_penalty\"))"
   ]
  },
  {
   "cell_type": "markdown",
   "metadata": {},
   "source": [
    "### High Penalty"
   ]
  },
  {
   "cell_type": "code",
   "execution_count": null,
   "metadata": {},
   "outputs": [],
   "source": [
    "np.random.seed(42)\n",
    "model_list = []\n",
    "for i in tqdm(range(10)):\n",
    "    optimizer = Adam(lr=0.1)\n",
    "    model = RegularizedModel(n_features=n_features, \n",
    "                             n_targets=1, \n",
    "                             reps=2,\n",
    "                             alpha=0.01,\n",
    "                             backend=backend, \n",
    "                             shots=10000, \n",
    "                             optimizer=optimizer)\n",
    "    \n",
    "    model.train(x_train, y_train, epochs=epochs) \n",
    "    model_list.append(model)\n",
    "    print(model.loss[-1])\n",
    "\n",
    "saver(model_list, data_path(\"sparse_regularisation_model_high_penalty\"))"
   ]
  },
  {
   "cell_type": "markdown",
   "metadata": {},
   "source": [
    "### No-Train Model"
   ]
  },
  {
   "cell_type": "code",
   "execution_count": 5,
   "metadata": {},
   "outputs": [
    {
     "data": {
      "application/vnd.jupyter.widget-view+json": {
       "model_id": "4ad3e93d82254aa0957b0989bbecf60e",
       "version_major": 2,
       "version_minor": 0
      },
      "text/plain": [
       "  0%|          | 0/1 [00:00<?, ?it/s]"
      ]
     },
     "metadata": {},
     "output_type": "display_data"
    },
    {
     "data": {
      "application/vnd.jupyter.widget-view+json": {
       "model_id": "bdaf1e3f1a5445c9a27a8b18a9f85f86",
       "version_major": 2,
       "version_minor": 0
      },
      "text/plain": [
       "  0%|          | 0/100 [00:00<?, ?it/s]"
      ]
     },
     "metadata": {},
     "output_type": "display_data"
    },
    {
     "name": "stdout",
     "output_type": "stream",
     "text": [
      "epoch: 0, loss: 0.09559016166388344\n",
      "epoch: 1, loss: 0.07763653804795972\n",
      "epoch: 2, loss: 0.06629940140997256\n",
      "epoch: 3, loss: 0.06203183274140439\n",
      "epoch: 4, loss: 0.05990754040036295\n",
      "epoch: 5, loss: 0.05719841942748674\n",
      "epoch: 6, loss: 0.05407732645957505\n",
      "epoch: 7, loss: 0.05062937609841777\n",
      "epoch: 8, loss: 0.048127324652284205\n",
      "epoch: 9, loss: 0.046095605139456985\n",
      "epoch: 10, loss: 0.0445095401012463\n",
      "epoch: 11, loss: 0.042749125092228724\n",
      "epoch: 12, loss: 0.04112803683534045\n",
      "epoch: 13, loss: 0.03852382583364874\n",
      "epoch: 14, loss: 0.03667331181233971\n",
      "epoch: 15, loss: 0.03580967507223566\n",
      "epoch: 16, loss: 0.03525546279810853\n",
      "epoch: 17, loss: 0.034896913366402\n",
      "epoch: 18, loss: 0.034577043636941106\n",
      "epoch: 19, loss: 0.034754696712709955\n",
      "epoch: 20, loss: 0.03469440292913434\n",
      "epoch: 21, loss: 0.03428808717270867\n",
      "epoch: 22, loss: 0.03338297982681935\n",
      "epoch: 23, loss: 0.032508781918724756\n",
      "epoch: 24, loss: 0.03171774864643913\n",
      "epoch: 25, loss: 0.031123518023918374\n",
      "epoch: 26, loss: 0.030497675689803688\n",
      "epoch: 27, loss: 0.029924409767834507\n",
      "epoch: 28, loss: 0.02892505034680657\n",
      "epoch: 29, loss: 0.028754514589277705\n",
      "epoch: 30, loss: 0.027810233637303266\n",
      "epoch: 31, loss: 0.02715397479620117\n",
      "epoch: 32, loss: 0.026576546729326352\n",
      "epoch: 33, loss: 0.025488800646499152\n",
      "epoch: 34, loss: 0.024595733047276733\n",
      "epoch: 35, loss: 0.02339129427643341\n",
      "epoch: 36, loss: 0.02280297469512338\n",
      "epoch: 37, loss: 0.02228435986523766\n",
      "epoch: 38, loss: 0.02184168072484341\n",
      "epoch: 39, loss: 0.0216941840545636\n",
      "epoch: 40, loss: 0.021353733803649112\n",
      "epoch: 41, loss: 0.021160419209913562\n",
      "epoch: 42, loss: 0.020897091392849863\n",
      "epoch: 43, loss: 0.020311635366359968\n",
      "epoch: 44, loss: 0.020033595879354903\n",
      "epoch: 45, loss: 0.019816898762272654\n",
      "epoch: 46, loss: 0.01904258212722862\n",
      "epoch: 47, loss: 0.019087401681697865\n",
      "epoch: 48, loss: 0.018925637769211794\n",
      "epoch: 49, loss: 0.018925246811315525\n",
      "epoch: 50, loss: 0.018953388095083002\n",
      "epoch: 51, loss: 0.018599109685453263\n",
      "epoch: 52, loss: 0.018669898481030286\n",
      "epoch: 53, loss: 0.01887437870821302\n",
      "epoch: 54, loss: 0.018771787565643083\n",
      "epoch: 55, loss: 0.01901990496823512\n",
      "epoch: 56, loss: 0.01859805955188637\n",
      "epoch: 57, loss: 0.018708607261792097\n",
      "epoch: 58, loss: 0.018776934286986794\n",
      "epoch: 59, loss: 0.01889397223691539\n",
      "epoch: 60, loss: 0.018600646005309803\n",
      "epoch: 61, loss: 0.01882033552857558\n",
      "epoch: 62, loss: 0.01857636191464297\n",
      "epoch: 63, loss: 0.018692909098271402\n",
      "epoch: 64, loss: 0.018395080327110815\n",
      "epoch: 65, loss: 0.018532621415564013\n",
      "epoch: 66, loss: 0.0183286141352655\n",
      "epoch: 67, loss: 0.018548922957004454\n",
      "epoch: 68, loss: 0.01836714760960866\n",
      "epoch: 69, loss: 0.018399497488864273\n",
      "epoch: 70, loss: 0.018427011522356512\n",
      "epoch: 71, loss: 0.018452798329973524\n",
      "epoch: 72, loss: 0.01835617334049949\n",
      "epoch: 73, loss: 0.018406624423233105\n",
      "epoch: 74, loss: 0.018434850504281248\n",
      "epoch: 75, loss: 0.01853546695618873\n",
      "epoch: 76, loss: 0.018151620735412297\n",
      "epoch: 77, loss: 0.018588080973299274\n",
      "epoch: 78, loss: 0.018114515767304672\n",
      "epoch: 79, loss: 0.018573955192677735\n",
      "epoch: 80, loss: 0.018378423955061677\n",
      "epoch: 81, loss: 0.0183264320785306\n",
      "epoch: 82, loss: 0.018284529084983753\n",
      "epoch: 83, loss: 0.018243518520526\n",
      "epoch: 84, loss: 0.018241453810646808\n",
      "epoch: 85, loss: 0.018183845072971782\n",
      "epoch: 86, loss: 0.01817256528953233\n",
      "epoch: 87, loss: 0.018332558887008715\n",
      "epoch: 88, loss: 0.018368132492322484\n",
      "epoch: 89, loss: 0.018505598520540224\n",
      "epoch: 90, loss: 0.018222487649998467\n",
      "epoch: 91, loss: 0.018278173038264768\n",
      "epoch: 92, loss: 0.01832435364577337\n",
      "epoch: 93, loss: 0.018196872355359998\n",
      "epoch: 94, loss: 0.018469872659750145\n",
      "epoch: 95, loss: 0.018182152928315133\n",
      "epoch: 96, loss: 0.01842627662426255\n",
      "epoch: 97, loss: 0.018373519369342926\n",
      "epoch: 98, loss: 0.018132178830666618\n",
      "epoch: 99, loss: 0.018348682878884467\n",
      "0.01849067201651418\n"
     ]
    }
   ],
   "source": [
    "np.random.seed(42)\n",
    "model_list = []\n",
    "for i in tqdm(range(1)):\n",
    "    optimizer = Adam(lr=0.1)\n",
    "    model = RegularizedModel(n_features=n_features, \n",
    "                             n_targets=1, \n",
    "                             reps=3,\n",
    "                             alpha=0,\n",
    "                             train_map=False,\n",
    "                             backend=backend, \n",
    "                             shots=10000, \n",
    "                             optimizer=optimizer)\n",
    "    \n",
    "    model.train(x_train, y_train, epochs=epochs, verbose=True) \n",
    "    model_list.append(model)\n",
    "    print(model.loss[-1])\n",
    "\n",
    "saver(model_list, data_path(\"sparse_no_train_model\"))"
   ]
  },
  {
   "cell_type": "markdown",
   "metadata": {},
   "source": [
    "### Dense Input"
   ]
  },
  {
   "cell_type": "code",
   "execution_count": 6,
   "metadata": {},
   "outputs": [
    {
     "data": {
      "application/vnd.jupyter.widget-view+json": {
       "model_id": "3629ba9b167243f3ba8632db78b4d392",
       "version_major": 2,
       "version_minor": 0
      },
      "text/plain": [
       "  0%|          | 0/1 [00:00<?, ?it/s]"
      ]
     },
     "metadata": {},
     "output_type": "display_data"
    },
    {
     "data": {
      "application/vnd.jupyter.widget-view+json": {
       "model_id": "1b8683686f7e480a9398084c4caf5c3e",
       "version_major": 2,
       "version_minor": 0
      },
      "text/plain": [
       "  0%|          | 0/100 [00:00<?, ?it/s]"
      ]
     },
     "metadata": {},
     "output_type": "display_data"
    },
    {
     "name": "stdout",
     "output_type": "stream",
     "text": [
      "epoch: 0, loss: 0.07328912082325022\n",
      "epoch: 1, loss: 0.05286396906682561\n",
      "epoch: 2, loss: 0.03411853532170011\n",
      "epoch: 3, loss: 0.02280312044248059\n",
      "epoch: 4, loss: 0.017530109288133054\n",
      "epoch: 5, loss: 0.015368532687874713\n",
      "epoch: 6, loss: 0.015404735474853735\n",
      "epoch: 7, loss: 0.016538601820326862\n",
      "epoch: 8, loss: 0.016922415853440915\n",
      "epoch: 9, loss: 0.0163536833966227\n",
      "epoch: 10, loss: 0.014544288212475246\n",
      "epoch: 11, loss: 0.013030017421520967\n",
      "epoch: 12, loss: 0.011730829593906745\n",
      "epoch: 13, loss: 0.011196526561296742\n",
      "epoch: 14, loss: 0.010938221404598296\n",
      "epoch: 15, loss: 0.010495193927367086\n",
      "epoch: 16, loss: 0.01011845079242857\n",
      "epoch: 17, loss: 0.009867746021174273\n",
      "epoch: 18, loss: 0.00935788424658885\n",
      "epoch: 19, loss: 0.00896251510219976\n",
      "epoch: 20, loss: 0.008746769033286665\n",
      "epoch: 21, loss: 0.008289528519211437\n",
      "epoch: 22, loss: 0.007728695223402655\n",
      "epoch: 23, loss: 0.007089212633676623\n",
      "epoch: 24, loss: 0.006670371564314399\n",
      "epoch: 25, loss: 0.005992601817855877\n",
      "epoch: 26, loss: 0.005481413071249277\n",
      "epoch: 27, loss: 0.005357270399127383\n",
      "epoch: 28, loss: 0.004958400065802826\n",
      "epoch: 29, loss: 0.0049713235308395266\n",
      "epoch: 30, loss: 0.004779967290571524\n",
      "epoch: 31, loss: 0.004804923241288117\n",
      "epoch: 32, loss: 0.004740563288421098\n",
      "epoch: 33, loss: 0.004709152145497361\n",
      "epoch: 34, loss: 0.004678772750754294\n",
      "epoch: 35, loss: 0.004417456687331037\n",
      "epoch: 36, loss: 0.004367022306829498\n",
      "epoch: 37, loss: 0.004364553059091743\n",
      "epoch: 38, loss: 0.0042564906988754245\n",
      "epoch: 39, loss: 0.004119289352115904\n",
      "epoch: 40, loss: 0.0040512097058864995\n",
      "epoch: 41, loss: 0.0039053795932365142\n",
      "epoch: 42, loss: 0.003911205559109514\n",
      "epoch: 43, loss: 0.003957307125294679\n",
      "epoch: 44, loss: 0.003820172785502478\n",
      "epoch: 45, loss: 0.0038278142220767924\n",
      "epoch: 46, loss: 0.0038205784335223186\n",
      "epoch: 47, loss: 0.00391323571993966\n",
      "epoch: 48, loss: 0.003723210847674967\n",
      "epoch: 49, loss: 0.0037896821362927153\n",
      "epoch: 50, loss: 0.003942021223912723\n",
      "epoch: 51, loss: 0.0039034157746728965\n",
      "epoch: 52, loss: 0.003843147289423709\n",
      "epoch: 53, loss: 0.0038698455458323956\n",
      "epoch: 54, loss: 0.0037927292965600754\n",
      "epoch: 55, loss: 0.00369259788221379\n",
      "epoch: 56, loss: 0.0037480741567401093\n",
      "epoch: 57, loss: 0.0037733051653917136\n",
      "epoch: 58, loss: 0.003870434682107232\n",
      "epoch: 59, loss: 0.0037431794790008144\n",
      "epoch: 60, loss: 0.0038459125111793423\n",
      "epoch: 61, loss: 0.0038415873248959483\n",
      "epoch: 62, loss: 0.0037410184892569293\n",
      "epoch: 63, loss: 0.0037617016180123935\n",
      "epoch: 64, loss: 0.00381087034116087\n",
      "epoch: 65, loss: 0.003674634940930869\n",
      "epoch: 66, loss: 0.0037802728705826068\n",
      "epoch: 67, loss: 0.0037326697022454377\n",
      "epoch: 68, loss: 0.0038074016241314945\n",
      "epoch: 69, loss: 0.003801207744195167\n",
      "epoch: 70, loss: 0.003743516586916184\n",
      "epoch: 71, loss: 0.0038055084053055526\n",
      "epoch: 72, loss: 0.003715662125319838\n",
      "epoch: 73, loss: 0.0037376760194503507\n",
      "epoch: 74, loss: 0.0038181263513766602\n",
      "epoch: 75, loss: 0.0038062532774185776\n",
      "epoch: 76, loss: 0.0037776995710919687\n",
      "epoch: 77, loss: 0.0037149166784673105\n",
      "epoch: 78, loss: 0.00378556965419319\n",
      "epoch: 79, loss: 0.0037460384956586566\n",
      "epoch: 80, loss: 0.0037879931938624685\n",
      "epoch: 81, loss: 0.003693101162318247\n",
      "epoch: 82, loss: 0.0037623655809150146\n",
      "epoch: 83, loss: 0.0037560686840535664\n",
      "epoch: 84, loss: 0.0037482300896612393\n",
      "epoch: 85, loss: 0.003762645521179511\n",
      "epoch: 86, loss: 0.003715786512522933\n",
      "epoch: 87, loss: 0.003733734568198794\n",
      "epoch: 88, loss: 0.0037356747495454184\n",
      "epoch: 89, loss: 0.003726783067811129\n",
      "epoch: 90, loss: 0.003668373622690812\n",
      "epoch: 91, loss: 0.0037562082454267853\n",
      "epoch: 92, loss: 0.0037304936868107668\n",
      "epoch: 93, loss: 0.0036543785115001324\n",
      "epoch: 94, loss: 0.0035840834799090882\n",
      "epoch: 95, loss: 0.0036690150788789553\n",
      "epoch: 96, loss: 0.0037131896062523395\n",
      "epoch: 97, loss: 0.00357023209563773\n",
      "epoch: 98, loss: 0.003658274765485572\n",
      "epoch: 99, loss: 0.0037887530795541304\n",
      "0.0036846426414865875\n"
     ]
    }
   ],
   "source": [
    "x_train[:,0] = np.pi/2\n",
    "x_train[:,1] = np.pi/2\n",
    "x_train[:,3] = np.pi/2\n",
    "\n",
    "np.random.seed(42)\n",
    "model_list = []\n",
    "for i in tqdm(range(1)):\n",
    "    optimizer = Adam(lr=0.1)\n",
    "    model = RegularizedModel(n_features=n_features, \n",
    "                             n_targets=1, \n",
    "                             reps=3,\n",
    "                             alpha=0,\n",
    "                             train_map=False,\n",
    "                             backend=backend, \n",
    "                             shots=10000, \n",
    "                             optimizer=optimizer)\n",
    "    \n",
    "    model.train(x_train, y_train, epochs=epochs, verbose=True) \n",
    "    model_list.append(model)\n",
    "    print(model.loss[-1])\n",
    "\n",
    "saver(model_list, data_path(\"sparse_no_train_model_dense\"))"
   ]
  },
  {
   "cell_type": "markdown",
   "metadata": {},
   "source": [
    "## Standard Single Circuit"
   ]
  },
  {
   "cell_type": "markdown",
   "metadata": {},
   "source": [
    "### Sparse Input"
   ]
  },
  {
   "cell_type": "code",
   "execution_count": null,
   "metadata": {},
   "outputs": [],
   "source": [
    "np.random.seed(42)\n",
    "model_list = []\n",
    "for i in tqdm(range(1)):\n",
    "    model = sequential_qnn(q_bits = [n_features+1],\n",
    "                     dim = [n_features, 1],\n",
    "                     reps = 3,\n",
    "                     backend=backend,\n",
    "                     shots=10000,\n",
    "                     lr = 0.1)\n",
    "    \n",
    "    model.train(x_train, y_train, epochs=epochs, verbose=True) \n",
    "    model_list.append(model)\n",
    "    print(model.loss[-1])\n",
    "\n",
    "saver(model_list, data_path(\"sparse_standard_model\"))"
   ]
  }
 ],
 "metadata": {
  "kernelspec": {
   "display_name": "env_qiskit",
   "language": "python",
   "name": "env_qiskit"
  },
  "language_info": {
   "codemirror_mode": {
    "name": "ipython",
    "version": 3
   },
   "file_extension": ".py",
   "mimetype": "text/x-python",
   "name": "python",
   "nbconvert_exporter": "python",
   "pygments_lexer": "ipython3",
   "version": "3.9.1"
  }
 },
 "nbformat": 4,
 "nbformat_minor": 4
}
