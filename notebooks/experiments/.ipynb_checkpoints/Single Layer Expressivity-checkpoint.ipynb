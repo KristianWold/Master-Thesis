{
 "cells": [
  {
   "cell_type": "code",
   "execution_count": 2,
   "metadata": {},
   "outputs": [],
   "source": [
    "import numpy as np\n",
    "import qiskit as qk\n",
    "import matplotlib.pyplot as plt\n",
    "from qiskit import Aer\n",
    "from tqdm.notebook import tqdm\n",
    "\n",
    "import sys\n",
    "sys.path.insert(0, '../../src/')\n",
    "from neuralnetwork import *\n",
    "from samplers import *\n",
    "\n",
    "#%matplotlib notebook\n",
    "%matplotlib inline\n",
    "%load_ext autoreload\n",
    "%autoreload 2"
   ]
  },
  {
   "cell_type": "markdown",
   "metadata": {},
   "source": [
    "## QNN"
   ]
  },
  {
   "cell_type": "markdown",
   "metadata": {},
   "source": [
    "#### Sigmoid"
   ]
  },
  {
   "cell_type": "code",
   "execution_count": 21,
   "metadata": {},
   "outputs": [
    {
     "data": {
      "image/png": "[encoded data removed]",
      "text/plain": [
       "<Figure size 432x288 with 1 Axes>"
      ]
     },
     "metadata": {
      "needs_background": "light"
     },
     "output_type": "display_data"
    }
   ],
   "source": [
    "np.random.seed(42)\n",
    "x = np.random.uniform(-np.pi/2, np.pi/2, (100, 3))\n",
    "beta = np.array([1,1,1]).reshape(-1,1)\n",
    "\n",
    "z = x@beta\n",
    "y = 1/(1+np.exp(-2*z))\n",
    "y = scaler(y, a=0.1, b=0.9)\n",
    "\n",
    "\n",
    "plt.plot(z, y, \"o\")\n",
    "plt.show()"
   ]
  },
  {
   "cell_type": "code",
   "execution_count": 22,
   "metadata": {},
   "outputs": [
    {
     "data": {
      "application/vnd.jupyter.widget-view+json": {
       "model_id": "a1ebae87ba7b44c4ac465b207311e17b",
       "version_major": 2,
       "version_minor": 0
      },
      "text/plain": [
       "  0%|          | 0/100 [00:00<?, ?it/s]"
      ]
     },
     "metadata": {},
     "output_type": "display_data"
    },
    {
     "name": "stdout",
     "output_type": "stream",
     "text": [
      "epoch: 0, loss: 0.17896076206062403\n",
      "epoch: 1, loss: 0.15342217868705876\n",
      "epoch: 2, loss: 0.12918709783024482\n",
      "epoch: 3, loss: 0.11322542294601855\n",
      "epoch: 4, loss: 0.10792121824891918\n",
      "epoch: 5, loss: 0.10848535970164144\n",
      "epoch: 6, loss: 0.10935017444595393\n",
      "epoch: 7, loss: 0.10823914030953179\n",
      "epoch: 8, loss: 0.10532610015656799\n",
      "epoch: 9, loss: 0.10084499754305647\n",
      "epoch: 10, loss: 0.09632493102140258\n",
      "epoch: 11, loss: 0.09176947271021627\n",
      "epoch: 12, loss: 0.08756469504092984\n",
      "epoch: 13, loss: 0.08525348697731033\n",
      "epoch: 14, loss: 0.08329089582495262\n",
      "epoch: 15, loss: 0.08124680129275025\n",
      "epoch: 16, loss: 0.0788812087867247\n",
      "epoch: 17, loss: 0.07534998223943322\n",
      "epoch: 18, loss: 0.06984223493975646\n",
      "epoch: 19, loss: 0.06423462787864011\n",
      "epoch: 20, loss: 0.05842006867153833\n",
      "epoch: 21, loss: 0.05213979610814132\n",
      "epoch: 22, loss: 0.04607140457404206\n",
      "epoch: 23, loss: 0.03993473826741311\n",
      "epoch: 24, loss: 0.03364658579025745\n",
      "epoch: 25, loss: 0.026844455753087207\n",
      "epoch: 26, loss: 0.020303810277220936\n",
      "epoch: 27, loss: 0.014893033185255034\n",
      "epoch: 28, loss: 0.011126699885343684\n",
      "epoch: 29, loss: 0.009595816734801053\n",
      "epoch: 30, loss: 0.009665166463957181\n",
      "epoch: 31, loss: 0.009862024081433239\n",
      "epoch: 32, loss: 0.010026542847904118\n",
      "epoch: 33, loss: 0.00933683136150694\n",
      "epoch: 34, loss: 0.008674294551868415\n",
      "epoch: 35, loss: 0.008359145694009407\n",
      "epoch: 36, loss: 0.008522207936398834\n",
      "epoch: 37, loss: 0.009279223681752864\n",
      "epoch: 38, loss: 0.009904399543096212\n",
      "epoch: 39, loss: 0.010568775958369778\n",
      "epoch: 40, loss: 0.01058624905907724\n",
      "epoch: 41, loss: 0.009821795467144392\n",
      "epoch: 42, loss: 0.009186603336374192\n",
      "epoch: 43, loss: 0.008229617804292605\n",
      "epoch: 44, loss: 0.0074745926511339995\n",
      "epoch: 45, loss: 0.006487713043842498\n",
      "epoch: 46, loss: 0.006111909816715239\n",
      "epoch: 47, loss: 0.005930156513004745\n",
      "epoch: 48, loss: 0.0057660311069842795\n",
      "epoch: 49, loss: 0.005761830676752521\n",
      "epoch: 50, loss: 0.005707719813647539\n",
      "epoch: 51, loss: 0.0057662382634058994\n",
      "epoch: 52, loss: 0.005538881929165781\n",
      "epoch: 53, loss: 0.005685609888012108\n",
      "epoch: 54, loss: 0.00578156041249213\n",
      "epoch: 55, loss: 0.005998000746679634\n",
      "epoch: 56, loss: 0.005797372922068622\n",
      "epoch: 57, loss: 0.0057915094319613844\n",
      "epoch: 58, loss: 0.005594968119536514\n",
      "epoch: 59, loss: 0.005512408360383472\n",
      "epoch: 60, loss: 0.005113896130207454\n",
      "epoch: 61, loss: 0.00508820801129285\n",
      "epoch: 62, loss: 0.004882811338430954\n",
      "epoch: 63, loss: 0.004900015201272231\n",
      "epoch: 64, loss: 0.004846066400255169\n",
      "epoch: 65, loss: 0.005060454617010553\n",
      "epoch: 66, loss: 0.00487987108781322\n",
      "epoch: 67, loss: 0.004907855714447464\n",
      "epoch: 68, loss: 0.004853014692929366\n",
      "epoch: 69, loss: 0.004803981702933329\n",
      "epoch: 70, loss: 0.004712829630020527\n",
      "epoch: 71, loss: 0.0048643424065933465\n",
      "epoch: 72, loss: 0.004778401504795226\n",
      "epoch: 73, loss: 0.004840831307307331\n",
      "epoch: 74, loss: 0.004717835304023684\n",
      "epoch: 75, loss: 0.0048432526173658634\n",
      "epoch: 76, loss: 0.004692217056017124\n",
      "epoch: 77, loss: 0.004798174928670993\n",
      "epoch: 78, loss: 0.004671395351085325\n",
      "epoch: 79, loss: 0.004579316961302039\n",
      "epoch: 80, loss: 0.0046969080618881305\n",
      "epoch: 81, loss: 0.004652061794369531\n",
      "epoch: 82, loss: 0.004670999309020266\n",
      "epoch: 83, loss: 0.004695058798206105\n",
      "epoch: 84, loss: 0.004635217472990092\n",
      "epoch: 85, loss: 0.004680554401262112\n",
      "epoch: 86, loss: 0.004630940622317243\n",
      "epoch: 87, loss: 0.004664679025786711\n",
      "epoch: 88, loss: 0.004606980803937202\n",
      "epoch: 89, loss: 0.004622120635469084\n",
      "epoch: 90, loss: 0.0046052169123705355\n",
      "epoch: 91, loss: 0.004609153985042557\n",
      "epoch: 92, loss: 0.0046027252197630986\n",
      "epoch: 93, loss: 0.004609249946600087\n",
      "epoch: 94, loss: 0.00469245287431653\n",
      "epoch: 95, loss: 0.004683439557273108\n",
      "epoch: 96, loss: 0.004596802727605548\n",
      "epoch: 97, loss: 0.004649937264086552\n",
      "epoch: 98, loss: 0.004663653550030406\n",
      "epoch: 99, loss: 0.004672074990149818\n"
     ]
    }
   ],
   "source": [
    "np.random.seed(42)\n",
    "backend = Aer.get_backend('qasm_simulator')\n",
    "\n",
    "model = sequential_qnn(q_bits = [3],\n",
    "                     dim = [3, 1],\n",
    "                     reps = 2,\n",
    "                     backend=backend,\n",
    "                     shots=10000,\n",
    "                     lr = 0.1)\n",
    "\n",
    "model.train(x, y, epochs=100, verbose=True)"
   ]
  },
  {
   "cell_type": "code",
   "execution_count": 23,
   "metadata": {},
   "outputs": [],
   "source": [
    "y_pred = model.predict(x)"
   ]
  },
  {
   "cell_type": "code",
   "execution_count": 24,
   "metadata": {},
   "outputs": [
    {
     "data": {
      "image/png": "[encoded data removed]",
      "text/plain": [
       "<Figure size 432x288 with 1 Axes>"
      ]
     },
     "metadata": {
      "needs_background": "light"
     },
     "output_type": "display_data"
    }
   ],
   "source": [
    "plt.plot(z, y, \"o\")\n",
    "plt.plot(z, y_pred, \"o\")\n",
    "plt.show()"
   ]
  },
  {
   "cell_type": "markdown",
   "metadata": {},
   "source": [
    "#### Radial Basis"
   ]
  },
  {
   "cell_type": "code",
   "execution_count": 42,
   "metadata": {},
   "outputs": [
    {
     "data": {
      "image/png": "[encoded data removed]",
      "text/plain": [
       "<Figure size 432x288 with 1 Axes>"
      ]
     },
     "metadata": {
      "needs_background": "light"
     },
     "output_type": "display_data"
    }
   ],
   "source": [
    "np.random.seed(42)\n",
    "x = np.random.uniform(-np.pi/2, np.pi/2, (20, 3))\n",
    "beta = np.array([1/3,-2/3,1/3]).reshape(-1,1)\n",
    "z = x@beta\n",
    "y = np.exp(-(z**2)/0.2)\n",
    "y = scaler(y, a=0.1, b=0.9)\n",
    "\n",
    "plt.plot(z, y, \"o\")\n",
    "plt.show()"
   ]
  },
  {
   "cell_type": "code",
   "execution_count": null,
   "metadata": {},
   "outputs": [
    {
     "data": {
      "application/vnd.jupyter.widget-view+json": {
       "model_id": "4c10861fdbd445cca3484ec31a089662",
       "version_major": 2,
       "version_minor": 0
      },
      "text/plain": [
       "  0%|          | 0/100 [00:00<?, ?it/s]"
      ]
     },
     "metadata": {},
     "output_type": "display_data"
    },
    {
     "name": "stdout",
     "output_type": "stream",
     "text": [
      "epoch: 0, loss: 0.1073370944850873\n",
      "epoch: 1, loss: 0.10256491411792157\n",
      "epoch: 2, loss: 0.10086020150239179\n",
      "epoch: 3, loss: 0.09838961273843017\n",
      "epoch: 4, loss: 0.09751330193192023\n"
     ]
    }
   ],
   "source": [
    "np.random.seed(42)\n",
    "backend = Aer.get_backend('qasm_simulator')\n",
    "\n",
    "model = sequential_qnn(q_bits = [3],\n",
    "                     dim = [3, 1],\n",
    "                     reps = 2,\n",
    "                     backend=backend,\n",
    "                     shots=10000,\n",
    "                     lr = 0.1)\n",
    "\n",
    "model.train(x, y, epochs=100, verbose=True)"
   ]
  },
  {
   "cell_type": "code",
   "execution_count": 27,
   "metadata": {},
   "outputs": [],
   "source": [
    "y_pred = model.predict(x)"
   ]
  },
  {
   "cell_type": "code",
   "execution_count": 28,
   "metadata": {},
   "outputs": [
    {
     "data": {
      "image/png": "[encoded data removed]",
      "text/plain": [
       "<Figure size 432x288 with 1 Axes>"
      ]
     },
     "metadata": {
      "needs_background": "light"
     },
     "output_type": "display_data"
    }
   ],
   "source": [
    "plt.plot(z, y, \"o\")\n",
    "plt.plot(z, y_pred, \"o\")\n",
    "plt.show()"
   ]
  },
  {
   "cell_type": "markdown",
   "metadata": {},
   "source": [
    "#### Step Function"
   ]
  },
  {
   "cell_type": "code",
   "execution_count": 35,
   "metadata": {},
   "outputs": [
    {
     "data": {
      "image/png": "[encoded data removed]",
      "text/plain": [
       "<Figure size 432x288 with 1 Axes>"
      ]
     },
     "metadata": {
      "needs_background": "light"
     },
     "output_type": "display_data"
    }
   ],
   "source": [
    "np.random.seed(42)\n",
    "x = np.random.uniform(-np.pi/2, np.pi/2, (100, 3))\n",
    "z = np.sum(x, axis=1)\n",
    "y = np.array(z > 0, dtype=np.float32).reshape(-1,1)\n",
    "y = scaler(y, a=0.1, b=0.9)\n",
    "\n",
    "plt.plot(z, y, \"o\")\n",
    "plt.show()"
   ]
  },
  {
   "cell_type": "code",
   "execution_count": 39,
   "metadata": {},
   "outputs": [
    {
     "data": {
      "application/vnd.jupyter.widget-view+json": {
       "model_id": "ef2fadbc4a0a40de83f125338e9ed84b",
       "version_major": 2,
       "version_minor": 0
      },
      "text/plain": [
       "  0%|          | 0/100 [00:00<?, ?it/s]"
      ]
     },
     "metadata": {},
     "output_type": "display_data"
    },
    {
     "name": "stdout",
     "output_type": "stream",
     "text": [
      "epoch: 0, loss: 0.2543161557191027\n",
      "epoch: 1, loss: 0.22643978587126784\n",
      "epoch: 2, loss: 0.19913528543274572\n",
      "epoch: 3, loss: 0.180749997135955\n",
      "epoch: 4, loss: 0.17381577307014376\n",
      "epoch: 5, loss: 0.17323293427302303\n",
      "epoch: 6, loss: 0.17363111414327695\n",
      "epoch: 7, loss: 0.1716857929471266\n",
      "epoch: 8, loss: 0.16873810456040148\n",
      "epoch: 9, loss: 0.16281872838626643\n",
      "epoch: 10, loss: 0.15805564529499427\n",
      "epoch: 11, loss: 0.15185581804770304\n",
      "epoch: 12, loss: 0.14747358973355074\n",
      "epoch: 13, loss: 0.14334516521875476\n",
      "epoch: 14, loss: 0.1402266305074945\n",
      "epoch: 15, loss: 0.13591594311535807\n",
      "epoch: 16, loss: 0.12992893285804652\n",
      "epoch: 17, loss: 0.1233298097665947\n",
      "epoch: 18, loss: 0.11563408487597993\n",
      "epoch: 19, loss: 0.10871659168519654\n",
      "epoch: 20, loss: 0.10135976259446514\n",
      "epoch: 21, loss: 0.09661459959155227\n",
      "epoch: 22, loss: 0.09263558905989502\n",
      "epoch: 23, loss: 0.09045126662359197\n",
      "epoch: 24, loss: 0.08847050620067916\n",
      "epoch: 25, loss: 0.08682238404516897\n",
      "epoch: 26, loss: 0.08566882013476455\n",
      "epoch: 27, loss: 0.08455261241942064\n",
      "epoch: 28, loss: 0.08438555827551583\n",
      "epoch: 29, loss: 0.08330301875393895\n",
      "epoch: 30, loss: 0.08234734811522575\n",
      "epoch: 31, loss: 0.08202632735358134\n",
      "epoch: 32, loss: 0.08158717221452537\n",
      "epoch: 33, loss: 0.0811140034251976\n",
      "epoch: 34, loss: 0.08121052189557705\n",
      "epoch: 35, loss: 0.08091762205092724\n",
      "epoch: 36, loss: 0.08060161016675355\n",
      "epoch: 37, loss: 0.08021540166578328\n",
      "epoch: 38, loss: 0.0804503781110245\n",
      "epoch: 39, loss: 0.07951700519038171\n",
      "epoch: 40, loss: 0.07943555560953397\n",
      "epoch: 41, loss: 0.07898517486972105\n",
      "epoch: 42, loss: 0.0775705634665633\n",
      "epoch: 43, loss: 0.07674030303279429\n",
      "epoch: 44, loss: 0.0756428671775229\n",
      "epoch: 45, loss: 0.07394556358234618\n",
      "epoch: 46, loss: 0.07276289665715728\n",
      "epoch: 47, loss: 0.07089578591362501\n",
      "epoch: 48, loss: 0.06880885867493991\n",
      "epoch: 49, loss: 0.06663501649427993\n",
      "epoch: 50, loss: 0.06490543048409776\n",
      "epoch: 51, loss: 0.06281371774862535\n",
      "epoch: 52, loss: 0.060604447906211965\n",
      "epoch: 53, loss: 0.05811283277925239\n",
      "epoch: 54, loss: 0.056182557066001865\n",
      "epoch: 55, loss: 0.05416643929434943\n",
      "epoch: 56, loss: 0.05242866197513249\n",
      "epoch: 57, loss: 0.05091568391428339\n",
      "epoch: 58, loss: 0.04958491735013219\n",
      "epoch: 59, loss: 0.048110128065596225\n",
      "epoch: 60, loss: 0.047016516438626414\n",
      "epoch: 61, loss: 0.046308191935257044\n",
      "epoch: 62, loss: 0.04563836698356492\n",
      "epoch: 63, loss: 0.04468596544020254\n",
      "epoch: 64, loss: 0.04379809956265093\n",
      "epoch: 65, loss: 0.04334399734303205\n",
      "epoch: 66, loss: 0.043151933020412106\n",
      "epoch: 67, loss: 0.04223160844870473\n",
      "epoch: 68, loss: 0.042102388319176585\n",
      "epoch: 69, loss: 0.04152071261377046\n",
      "epoch: 70, loss: 0.04127434588834311\n",
      "epoch: 71, loss: 0.040529883071933955\n",
      "epoch: 72, loss: 0.04072726119522148\n",
      "epoch: 73, loss: 0.04013418781749573\n",
      "epoch: 74, loss: 0.03984023276686032\n",
      "epoch: 75, loss: 0.0391878762856924\n",
      "epoch: 76, loss: 0.03927006995443742\n",
      "epoch: 77, loss: 0.038698831876509014\n",
      "epoch: 78, loss: 0.038435616632698316\n",
      "epoch: 79, loss: 0.03849173288511762\n",
      "epoch: 80, loss: 0.03830907450347287\n",
      "epoch: 81, loss: 0.03810224608252482\n",
      "epoch: 82, loss: 0.03841628621574249\n",
      "epoch: 83, loss: 0.03838851422038867\n",
      "epoch: 84, loss: 0.03825721530876577\n",
      "epoch: 85, loss: 0.03836729085759219\n",
      "epoch: 86, loss: 0.038257024967611734\n",
      "epoch: 87, loss: 0.038311401430188956\n",
      "epoch: 88, loss: 0.03800101209481956\n",
      "epoch: 89, loss: 0.038654945017525956\n",
      "epoch: 90, loss: 0.038451919877492496\n",
      "epoch: 91, loss: 0.038321385541071076\n",
      "epoch: 92, loss: 0.0379828592221019\n",
      "epoch: 93, loss: 0.037767460992076056\n",
      "epoch: 94, loss: 0.038241221738290525\n",
      "epoch: 95, loss: 0.03790003281396288\n",
      "epoch: 96, loss: 0.03804832926378938\n",
      "epoch: 97, loss: 0.03804306445380859\n",
      "epoch: 98, loss: 0.03761548493246715\n",
      "epoch: 99, loss: 0.03769690204538049\n"
     ]
    }
   ],
   "source": [
    "np.random.seed(42)\n",
    "\n",
    "model3 = sequential_qnn(q_bits = [3],\n",
    "                     dim = [3, 1],\n",
    "                     reps = 2,\n",
    "                     backend=backend,\n",
    "                     shots=10000,\n",
    "                     lr = 0.1)\n",
    "\n",
    "model3.train(x, y, epochs=100, verbose=True)"
   ]
  },
  {
   "cell_type": "code",
   "execution_count": 40,
   "metadata": {},
   "outputs": [],
   "source": [
    "y_pred = model3.predict(x)"
   ]
  },
  {
   "cell_type": "code",
   "execution_count": 41,
   "metadata": {},
   "outputs": [
    {
     "data": {
      "image/png": "[encoded data removed]",
      "text/plain": [
       "<Figure size 432x288 with 1 Axes>"
      ]
     },
     "metadata": {
      "needs_background": "light"
     },
     "output_type": "display_data"
    }
   ],
   "source": [
    "plt.plot(z, y, \"o\")\n",
    "plt.plot(z, y_pred, \"o\")\n",
    "plt.show()"
   ]
  },
  {
   "cell_type": "code",
   "execution_count": null,
   "metadata": {},
   "outputs": [],
   "source": []
  }
 ],
 "metadata": {
  "kernelspec": {
   "display_name": "env_qiskit",
   "language": "python",
   "name": "env_qiskit"
  },
  "language_info": {
   "codemirror_mode": {
    "name": "ipython",
    "version": 3
   },
   "file_extension": ".py",
   "mimetype": "text/x-python",
   "name": "python",
   "nbconvert_exporter": "python",
   "pygments_lexer": "ipython3",
   "version": "3.9.1"
  }
 },
 "nbformat": 4,
 "nbformat_minor": 4
}
