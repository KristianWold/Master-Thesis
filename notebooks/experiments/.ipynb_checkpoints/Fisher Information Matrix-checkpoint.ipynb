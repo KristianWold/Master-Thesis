{
 "cells": [
  {
   "cell_type": "code",
   "execution_count": 1,
   "metadata": {},
   "outputs": [],
   "source": [
    "import numpy as np\n",
    "import qiskit as qk\n",
    "import matplotlib.pyplot as plt\n",
    "from qiskit import Aer\n",
    "from tqdm.notebook import tqdm\n",
    "\n",
    "import sys\n",
    "sys.path.insert(0, '../../src/')\n",
    "from neuralnetwork import *\n",
    "from analysis import *\n",
    "\n",
    "#%matplotlib notebook\n",
    "%matplotlib inline\n",
    "%load_ext autoreload\n",
    "%autoreload 2"
   ]
  },
  {
   "cell_type": "markdown",
   "metadata": {},
   "source": [
    "# Fisher Information Matrix, Data Generation"
   ]
  },
  {
   "cell_type": "code",
   "execution_count": 3,
   "metadata": {},
   "outputs": [],
   "source": [
    "backend = Aer.get_backend('qasm_simulator')\n",
    "\n",
    "np.random.seed(42)\n",
    "x = np.random.uniform(0, np.pi, (100, 10))\n",
    "x_dnn = scaler(x, mode=\"standard\")"
   ]
  },
  {
   "cell_type": "markdown",
   "metadata": {},
   "source": [
    "## Quantum Neural Network"
   ]
  },
  {
   "cell_type": "markdown",
   "metadata": {},
   "source": [
    "### Depth 2"
   ]
  },
  {
   "cell_type": "code",
   "execution_count": 3,
   "metadata": {},
   "outputs": [],
   "source": [
    "np.random.seed(42)\n",
    "\n",
    "network = sequential_qnn(q_bits = [5, 5],\n",
    "                         dim = [5, 5, 1],\n",
    "                         reps = 1,\n",
    "                         backend=backend,\n",
    "                         shots=100000)\n",
    "\n",
    "fim = FIM(network)\n",
    "fim.fit(x[:,:5])\n",
    "saver(fim, data_path(\"fim_QNN_depth_2_width_5_reps_1_shots_100k\"))"
   ]
  },
  {
   "cell_type": "code",
   "execution_count": 4,
   "metadata": {},
   "outputs": [],
   "source": [
    "np.random.seed(42)\n",
    "\n",
    "network = sequential_qnn(q_bits = [5, 5],\n",
    "                         dim = [5, 5, 1],\n",
    "                         reps = 2,\n",
    "                         backend=backend,\n",
    "                         shots=100000)\n",
    "\n",
    "fim = FIM(network)\n",
    "fim.fit(x[:,:5])\n",
    "saver(fim, data_path(\"fim_QNN_depth_2_width_5_reps_2_shots_100k\"))"
   ]
  },
  {
   "cell_type": "markdown",
   "metadata": {},
   "source": [
    "### Depth 3"
   ]
  },
  {
   "cell_type": "code",
   "execution_count": 5,
   "metadata": {},
   "outputs": [],
   "source": [
    "np.random.seed(42)\n",
    "\n",
    "network = sequential_qnn(q_bits = [5, 5, 5],\n",
    "                         dim = [5, 5, 5, 1],\n",
    "                         reps = 1,\n",
    "                         backend=backend,\n",
    "                         shots=100000)\n",
    "\n",
    "fim = FIM(network)\n",
    "fim.fit(x[:,:5])\n",
    "saver(fim, data_path(\"fim_QNN_depth_3_width_5_reps_1_shots_100k\"))"
   ]
  },
  {
   "cell_type": "code",
   "execution_count": 6,
   "metadata": {},
   "outputs": [],
   "source": [
    "np.random.seed(42)\n",
    "\n",
    "network = sequential_qnn(q_bits = [5, 5, 5],\n",
    "                         dim = [5, 5, 5, 1],\n",
    "                         reps = 2,\n",
    "                         backend=backend,\n",
    "                         shots=100000)\n",
    "\n",
    "fim = FIM(network)\n",
    "fim.fit(x[:,:5])\n",
    "saver(fim, data_path(\"fim_QNN_depth_3_width_5_reps_2_shots_100k\"))"
   ]
  },
  {
   "cell_type": "markdown",
   "metadata": {},
   "source": [
    "### Depth 4"
   ]
  },
  {
   "cell_type": "code",
   "execution_count": 12,
   "metadata": {},
   "outputs": [],
   "source": [
    "np.random.seed(42)\n",
    "\n",
    "network = sequential_qnn(q_bits = [5, 5, 5, 5],\n",
    "                         dim = [5, 5, 5, 5, 1],\n",
    "                         reps = 1,\n",
    "                         backend=backend,\n",
    "                         shots=100000)\n",
    "\n",
    "fim = FIM(network)\n",
    "fim.fit(x[:,:5])\n",
    "saver(fim, data_path(\"fim_QNN_depth_4_width_5_reps_1_shots_100k\"))"
   ]
  },
  {
   "cell_type": "code",
   "execution_count": 13,
   "metadata": {},
   "outputs": [],
   "source": [
    "np.random.seed(42)\n",
    "\n",
    "network = sequential_qnn(q_bits = [5, 5, 5, 5],\n",
    "                         dim = [5, 5, 5, 5, 1],\n",
    "                         reps = 2,\n",
    "                         backend=backend,\n",
    "                         shots=100000)\n",
    "\n",
    "fim = FIM(network)\n",
    "fim.fit(x[:,:5])\n",
    "saver(fim, data_path(\"fim_QNN_depth_4_width_5_reps_2_shots_100k\"))"
   ]
  },
  {
   "cell_type": "markdown",
   "metadata": {},
   "source": [
    "### Depth 5"
   ]
  },
  {
   "cell_type": "code",
   "execution_count": 16,
   "metadata": {},
   "outputs": [],
   "source": [
    "np.random.seed(42)\n",
    "\n",
    "network = sequential_qnn(q_bits = [5, 5, 5, 5, 5],\n",
    "                         dim = [5, 5, 5, 5, 5, 1],\n",
    "                         reps = 1,\n",
    "                         backend=backend,\n",
    "                         shots=100000)\n",
    "\n",
    "fim = FIM(network)\n",
    "fim.fit(x[:,:5])\n",
    "saver(fim, data_path(\"fim_QNN_depth_5_width_5_reps_1_shots_100k\"))"
   ]
  },
  {
   "cell_type": "code",
   "execution_count": 17,
   "metadata": {},
   "outputs": [],
   "source": [
    "np.random.seed(42)\n",
    "\n",
    "network = sequential_qnn(q_bits = [5, 5, 5, 5, 5],\n",
    "                         dim = [5, 5, 5, 5, 5, 1],\n",
    "                         reps = 2,\n",
    "                         backend=backend,\n",
    "                         shots=100000)\n",
    "\n",
    "fim = FIM(network)\n",
    "fim.fit(x[:,:5])\n",
    "saver(fim, data_path(\"fim_QNN_depth_5_width_5_reps_2_shots_100k\"))"
   ]
  },
  {
   "cell_type": "markdown",
   "metadata": {},
   "source": [
    "## Dense Neural Network"
   ]
  },
  {
   "cell_type": "code",
   "execution_count": 4,
   "metadata": {},
   "outputs": [],
   "source": [
    "np.random.seed(42)\n",
    "\n",
    "network = sequential_dnn(dim = [5, 5, 1], bias=False)\n",
    "\n",
    "fim = FIM(network)\n",
    "fim.fit(x_dnn[:,:5])\n",
    "saver(fim, data_path(\"fim_DNN_depth_2_width_5\"))"
   ]
  },
  {
   "cell_type": "code",
   "execution_count": 5,
   "metadata": {},
   "outputs": [],
   "source": [
    "np.random.seed(42)\n",
    "\n",
    "network = sequential_dnn(dim = [5, 5, 5, 1], bias=False)\n",
    "\n",
    "fim = FIM(network)\n",
    "fim.fit(x_dnn[:,:5])\n",
    "saver(fim, data_path(\"fim_DNN_depth_3_width_5\"))"
   ]
  },
  {
   "cell_type": "code",
   "execution_count": 6,
   "metadata": {},
   "outputs": [],
   "source": [
    "np.random.seed(42)\n",
    "\n",
    "network = sequential_dnn(dim = [5, 5, 5, 5, 1], bias=False)\n",
    "\n",
    "fim = FIM(network)\n",
    "fim.fit(x_dnn[:,:5])\n",
    "saver(fim, data_path(\"fim_DNN_depth_4_width_5\"))"
   ]
  },
  {
   "cell_type": "code",
   "execution_count": 7,
   "metadata": {},
   "outputs": [],
   "source": [
    "np.random.seed(42)\n",
    "\n",
    "network = sequential_dnn(dim = [5, 5, 5, 5, 5, 1], bias=False)\n",
    "\n",
    "fim = FIM(network)\n",
    "fim.fit(x_dnn[:,:5])\n",
    "saver(fim, data_path(\"fim_DNN_depth_5_width_5\"))"
   ]
  },
  {
   "cell_type": "markdown",
   "metadata": {},
   "source": [
    "## Sensitivity wrt Shots"
   ]
  },
  {
   "cell_type": "code",
   "execution_count": 7,
   "metadata": {},
   "outputs": [],
   "source": [
    "np.random.seed(42)\n",
    "\n",
    "network = sequential_qnn(q_bits = [5, 5],\n",
    "                         dim = [5, 5, 1],\n",
    "                         reps = 1,\n",
    "                         backend=backend,\n",
    "                         shots=1000)\n",
    "\n",
    "fim = FIM(network)\n",
    "fim.fit(x[:,:5])\n",
    "saver(fim, data_path(\"fim_QNN_depth_2_width_5_reps_1_shots_1k\"))"
   ]
  },
  {
   "cell_type": "code",
   "execution_count": 8,
   "metadata": {},
   "outputs": [],
   "source": [
    "np.random.seed(42)\n",
    "\n",
    "network = sequential_qnn(q_bits = [5, 5],\n",
    "                         dim = [5, 5, 1],\n",
    "                         reps = 1,\n",
    "                         backend=backend,\n",
    "                         shots=10000)\n",
    "\n",
    "fim = FIM(network)\n",
    "fim.fit(x[:,:5])\n",
    "saver(fim, data_path(\"fim_QNN_depth_2_width_5_reps_1_shots_10k\"))"
   ]
  },
  {
   "cell_type": "code",
   "execution_count": 9,
   "metadata": {},
   "outputs": [],
   "source": [
    "np.random.seed(42)\n",
    "\n",
    "network = sequential_qnn(q_bits = [5, 5],\n",
    "                         dim = [5, 5, 1],\n",
    "                         reps = 1,\n",
    "                         backend=backend,\n",
    "                         shots=1000000)\n",
    "\n",
    "fim = FIM(network)\n",
    "fim.fit(x[:,:5])\n",
    "saver(fim, data_path(\"fim_QNN_depth_2_width_5_reps_1_shots_1mill\"))"
   ]
  },
  {
   "cell_type": "code",
   "execution_count": null,
   "metadata": {},
   "outputs": [],
   "source": []
  }
 ],
 "metadata": {
  "kernelspec": {
   "display_name": "env_qiskit",
   "language": "python",
   "name": "env_qiskit"
  },
  "language_info": {
   "codemirror_mode": {
    "name": "ipython",
    "version": 3
   },
   "file_extension": ".py",
   "mimetype": "text/x-python",
   "name": "python",
   "nbconvert_exporter": "python",
   "pygments_lexer": "ipython3",
   "version": "3.9.1"
  }
 },
 "nbformat": 4,
 "nbformat_minor": 4
}
