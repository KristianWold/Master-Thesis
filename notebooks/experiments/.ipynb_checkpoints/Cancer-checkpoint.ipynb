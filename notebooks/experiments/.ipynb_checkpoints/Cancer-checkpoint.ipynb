{
 "cells": [
  {
   "cell_type": "code",
   "execution_count": 73,
   "metadata": {},
   "outputs": [
    {
     "name": "stdout",
     "output_type": "stream",
     "text": [
      "The autoreload extension is already loaded. To reload it, use:\n",
      "  %reload_ext autoreload\n"
     ]
    }
   ],
   "source": [
    "import numpy as np\n",
    "import qiskit as qk\n",
    "import matplotlib.pyplot as plt\n",
    "\n",
    "from qiskit import Aer\n",
    "from tqdm.notebook import tqdm\n",
    "from sklearn.datasets import load_breast_cancer\n",
    "from sklearn.model_selection import train_test_split\n",
    "from sklearn.decomposition import PCA\n",
    "from sklearn.linear_model import LogisticRegression\n",
    "\n",
    "import sys\n",
    "sys.path.insert(0, '../../src/')\n",
    "from neuralnetwork import *\n",
    "from analysis import *\n",
    "\n",
    "#%matplotlib notebook\n",
    "%matplotlib inline\n",
    "%load_ext autoreload\n",
    "%autoreload 2\n",
    "\n",
    "np.set_printoptions(precision=4, suppress=None)"
   ]
  },
  {
   "cell_type": "markdown",
   "metadata": {},
   "source": [
    "# Breast Cancer Data"
   ]
  },
  {
   "cell_type": "markdown",
   "metadata": {},
   "source": [
    "### Load Data"
   ]
  },
  {
   "cell_type": "code",
   "execution_count": 74,
   "metadata": {},
   "outputs": [],
   "source": [
    "data = load_breast_cancer()\n",
    "x = data.data\n",
    "y = data.target.reshape(-1, 1)\n",
    "\n",
    "np.random.seed(42)\n",
    "x_train, x_test, y_train, y_test = train_test_split(x, y, train_size=100, test_size=100)"
   ]
  },
  {
   "cell_type": "markdown",
   "metadata": {},
   "source": [
    "## PCA"
   ]
  },
  {
   "cell_type": "code",
   "execution_count": 75,
   "metadata": {},
   "outputs": [],
   "source": [
    "#x_train_scaled = scaler(x_train, mode=\"standard\")\n",
    "pca = PCA(n_components=4)\n",
    "x_train_pca = pca.fit_transform(x_train)\n",
    "x_test_pca = pca.transform(x_test)"
   ]
  },
  {
   "cell_type": "code",
   "execution_count": 87,
   "metadata": {},
   "outputs": [],
   "source": [
    "x_train_qcn = scaler(x_train_pca, mode=\"uniform\", a=-np.pi/2, b=np.pi/2)\n",
    "x_train_dnn = scaler(x_train_pca, mode=\"standard\")\n",
    "\n",
    "x_test_qcn = scaler(x_test_pca, mode=\"uniform\", a=-np.pi/2, b=np.pi/2)\n",
    "x_test_dnn = scaler(x_test_pca, mode=\"standard\")"
   ]
  },
  {
   "cell_type": "code",
   "execution_count": 88,
   "metadata": {},
   "outputs": [
    {
     "data": {
      "text/plain": [
       "[<matplotlib.lines.Line2D at 0x7ff977579bb0>]"
      ]
     },
     "execution_count": 88,
     "metadata": {},
     "output_type": "execute_result"
    },
    {
     "data": {
      "image/png": "[encoded data removed]",
      "text/plain": [
       "<Figure size 432x288 with 1 Axes>"
      ]
     },
     "metadata": {
      "needs_background": "light"
     },
     "output_type": "display_data"
    }
   ],
   "source": [
    "plt.plot(x_train_qcn[:,3], y_train_dnn,\"o\")"
   ]
  },
  {
   "cell_type": "code",
   "execution_count": 89,
   "metadata": {},
   "outputs": [
    {
     "data": {
      "application/vnd.jupyter.widget-view+json": {
       "model_id": "fb7a97b689da457c99d167c04a0b6af3",
       "version_major": 2,
       "version_minor": 0
      },
      "text/plain": [
       "  0%|          | 0/10 [00:00<?, ?it/s]"
      ]
     },
     "metadata": {},
     "output_type": "display_data"
    },
    {
     "data": {
      "image/png": "[encoded data removed]",
      "text/plain": [
       "<Figure size 432x288 with 1 Axes>"
      ]
     },
     "metadata": {
      "needs_background": "light"
     },
     "output_type": "display_data"
    },
    {
     "name": "stdout",
     "output_type": "stream",
     "text": [
      "0.006063210373796974\n"
     ]
    }
   ],
   "source": [
    "np.random.seed(42)\n",
    "\n",
    "dnn_list = []\n",
    "for i in tqdm(range(10)):\n",
    "    dnn = sequential_dnn(dim = [4, 5, 1])\n",
    "    dnn.train(x_train_dnn, y_train, epochs = 100)\n",
    "    dnn_list.append(dnn)\n",
    "    \n",
    "saver(dnn_list, data_path(\"cancer_dnn_pca\"))\n",
    "plt.plot(dnn_list[0].loss)\n",
    "plt.show()\n",
    "print(dnn_list[7].loss[-1])"
   ]
  },
  {
   "cell_type": "code",
   "execution_count": 93,
   "metadata": {},
   "outputs": [
    {
     "name": "stdout",
     "output_type": "stream",
     "text": [
      "0.028894029497670976\n"
     ]
    }
   ],
   "source": [
    "y_pred = dnn_list[0].predict(x_test_dnn)\n",
    "loss = np.mean((y_pred - y_test)**2)\n",
    "print(loss)"
   ]
  },
  {
   "cell_type": "code",
   "execution_count": null,
   "metadata": {},
   "outputs": [
    {
     "data": {
      "application/vnd.jupyter.widget-view+json": {
       "model_id": "5d045d36206f41cd868307e72463f385",
       "version_major": 2,
       "version_minor": 0
      },
      "text/plain": [
       "  0%|          | 0/1 [00:00<?, ?it/s]"
      ]
     },
     "metadata": {},
     "output_type": "display_data"
    },
    {
     "data": {
      "application/vnd.jupyter.widget-view+json": {
       "model_id": "6a3218938d5b43208cc0abeb007785c0",
       "version_major": 2,
       "version_minor": 0
      },
      "text/plain": [
       "  0%|          | 0/100 [00:00<?, ?it/s]"
      ]
     },
     "metadata": {},
     "output_type": "display_data"
    }
   ],
   "source": [
    "np.random.seed(42)\n",
    "\n",
    "qcn_list = []\n",
    "for i in tqdm(range(1)):\n",
    "    qcn = sequential_qnn(n_qubits = [4, 4],\n",
    "                         dim = [4, 4, 1],\n",
    "                         ansatz = Ansatz(blocks=[\"entangle\", \"ry\"], reps=2),\n",
    "                         shots=0)\n",
    "    \n",
    "    qcn.train(x_train_qcn, y_train, epochs=100, verbose=True)\n",
    "    qcn_list.append(qcn)\n",
    "\n",
    "saver(qcn_list, data_path(\"cancer_qnn_pca\"))"
   ]
  },
  {
   "cell_type": "code",
   "execution_count": 56,
   "metadata": {},
   "outputs": [],
   "source": [
    "qcn = sequential_qnn(n_qubits = [4,],\n",
    "                         dim = [4, 1],\n",
    "                         ansatz = Ansatz(blocks=[\"entangle\", \"ry\"], reps=4),\n",
    "                         shots=0)"
   ]
  },
  {
   "cell_type": "code",
   "execution_count": 57,
   "metadata": {},
   "outputs": [
    {
     "data": {
      "application/vnd.jupyter.widget-view+json": {
       "model_id": "99a1bc7275934a43944974b54fde6146",
       "version_major": 2,
       "version_minor": 0
      },
      "text/plain": [
       "  0%|          | 0/100 [00:00<?, ?it/s]"
      ]
     },
     "metadata": {},
     "output_type": "display_data"
    },
    {
     "name": "stdout",
     "output_type": "stream",
     "text": [
      "epoch: 0, loss: 0.23130401897659414\n",
      "epoch: 1, loss: 0.19675844048804397\n",
      "epoch: 2, loss: 0.17497011184957428\n",
      "epoch: 3, loss: 0.16056825637753305\n",
      "epoch: 4, loss: 0.15000657234754824\n",
      "epoch: 5, loss: 0.14274348779083507\n",
      "epoch: 6, loss: 0.13894508224989532\n",
      "epoch: 7, loss: 0.13790595106797796\n",
      "epoch: 8, loss: 0.13805031203590942\n",
      "epoch: 9, loss: 0.13820365122971648\n",
      "epoch: 10, loss: 0.1378706774931859\n",
      "epoch: 11, loss: 0.136760998273358\n",
      "epoch: 12, loss: 0.13475403534499383\n",
      "epoch: 13, loss: 0.13200041368463641\n",
      "epoch: 14, loss: 0.12882496368502358\n",
      "epoch: 15, loss: 0.1255699234042707\n",
      "epoch: 16, loss: 0.12249960422124398\n",
      "epoch: 17, loss: 0.11975718024066642\n",
      "epoch: 18, loss: 0.11736184374181001\n",
      "epoch: 19, loss: 0.11525829240441593\n",
      "epoch: 20, loss: 0.11340238599001841\n",
      "epoch: 21, loss: 0.11182369451291599\n",
      "epoch: 22, loss: 0.11060949743103407\n",
      "epoch: 23, loss: 0.10980777339293236\n",
      "epoch: 24, loss: 0.1093293082048599\n",
      "epoch: 25, loss: 0.1089693557834851\n",
      "epoch: 26, loss: 0.10855379604266574\n",
      "epoch: 27, loss: 0.10806659146075885\n",
      "epoch: 28, loss: 0.10764086603227688\n",
      "epoch: 29, loss: 0.10743349499476532\n",
      "epoch: 30, loss: 0.10751225130827213\n",
      "epoch: 31, loss: 0.10781918036950651\n",
      "epoch: 32, loss: 0.10817218620444162\n",
      "epoch: 33, loss: 0.10836451142544973\n",
      "epoch: 34, loss: 0.10832331307770396\n",
      "epoch: 35, loss: 0.1081153203149573\n",
      "epoch: 36, loss: 0.10784215426225138\n",
      "epoch: 37, loss: 0.10757411228082782\n",
      "epoch: 38, loss: 0.10733388005839137\n",
      "epoch: 39, loss: 0.10709253851561938\n",
      "epoch: 40, loss: 0.10680159673649302\n",
      "epoch: 41, loss: 0.10646082256856747\n",
      "epoch: 42, loss: 0.1061339473374223\n",
      "epoch: 43, loss: 0.10588034170875968\n",
      "epoch: 44, loss: 0.10568973462097504\n",
      "epoch: 45, loss: 0.10549338823185929\n",
      "epoch: 46, loss: 0.10522373071738406\n",
      "epoch: 47, loss: 0.10485861451780146\n",
      "epoch: 48, loss: 0.1044244263631272\n",
      "epoch: 49, loss: 0.10396588792357439\n",
      "epoch: 50, loss: 0.103507088554696\n",
      "epoch: 51, loss: 0.10303478723473916\n",
      "epoch: 52, loss: 0.10251620427966728\n",
      "epoch: 53, loss: 0.10192999884336429\n",
      "epoch: 54, loss: 0.10127933727259694\n",
      "epoch: 55, loss: 0.10057990693163621\n",
      "epoch: 56, loss: 0.09984187030929574\n",
      "epoch: 57, loss: 0.09906505626015948\n",
      "epoch: 58, loss: 0.09824672841087184\n",
      "epoch: 59, loss: 0.09738800351060303\n",
      "epoch: 60, loss: 0.0964917335997121\n",
      "epoch: 61, loss: 0.09555791878356963\n",
      "epoch: 62, loss: 0.09458580717842889\n",
      "epoch: 63, loss: 0.09358381569684149\n",
      "epoch: 64, loss: 0.09257879850734638\n",
      "epoch: 65, loss: 0.09161432042885455\n",
      "epoch: 66, loss: 0.0907360807668888\n",
      "epoch: 67, loss: 0.08997409108474703\n",
      "epoch: 68, loss: 0.08933412711021672\n",
      "epoch: 69, loss: 0.088802901871534\n",
      "epoch: 70, loss: 0.08836101664396169\n",
      "epoch: 71, loss: 0.0879938867784379\n",
      "epoch: 72, loss: 0.08769486813943267\n",
      "epoch: 73, loss: 0.08746181063859265\n",
      "epoch: 74, loss: 0.08729226038796817\n",
      "epoch: 75, loss: 0.08718129498748352\n",
      "epoch: 76, loss: 0.08712208094640704\n",
      "epoch: 77, loss: 0.08710675166505392\n",
      "epoch: 78, loss: 0.08712587044743383\n",
      "epoch: 79, loss: 0.08716722118213464\n",
      "epoch: 80, loss: 0.08721622048789957\n",
      "epoch: 81, loss: 0.08725914550189871\n",
      "epoch: 82, loss: 0.0872875649336194\n",
      "epoch: 83, loss: 0.08730068411059691\n",
      "epoch: 84, loss: 0.08730362550924951\n",
      "epoch: 85, loss: 0.08730285054935875\n",
      "epoch: 86, loss: 0.08730202512132092\n",
      "epoch: 87, loss: 0.0873008435105777\n",
      "epoch: 88, loss: 0.08729667403190343\n",
      "epoch: 89, loss: 0.08728693956519225\n",
      "epoch: 90, loss: 0.08727037758891452\n",
      "epoch: 91, loss: 0.08724694441431642\n",
      "epoch: 92, loss: 0.08721730704535932\n",
      "epoch: 93, loss: 0.08718270407414008\n",
      "epoch: 94, loss: 0.0871450838752133\n",
      "epoch: 95, loss: 0.08710697705648746\n",
      "epoch: 96, loss: 0.08707089759661098\n",
      "epoch: 97, loss: 0.08703862741984024\n",
      "epoch: 98, loss: 0.0870108782513812\n",
      "epoch: 99, loss: 0.08698749344249744\n"
     ]
    }
   ],
   "source": [
    "qcn.train(x_train_qcn, y_train, epochs=100, verbose=True)"
   ]
  },
  {
   "cell_type": "code",
   "execution_count": 58,
   "metadata": {},
   "outputs": [],
   "source": [
    "qcn1 = sequential_qnn(n_qubits = [4],\n",
    "                         dim = [4, 1],\n",
    "                         encoder = RZZEncoder(),\n",
    "                         ansatz = Ansatz(blocks=[\"entangle\", \"ry\"], reps=4),\n",
    "                         shots=0)"
   ]
  },
  {
   "cell_type": "code",
   "execution_count": 59,
   "metadata": {},
   "outputs": [
    {
     "data": {
      "application/vnd.jupyter.widget-view+json": {
       "model_id": "1840721f5b52407ebb233ce78a99153d",
       "version_major": 2,
       "version_minor": 0
      },
      "text/plain": [
       "  0%|          | 0/100 [00:00<?, ?it/s]"
      ]
     },
     "metadata": {},
     "output_type": "display_data"
    },
    {
     "name": "stdout",
     "output_type": "stream",
     "text": [
      "epoch: 0, loss: 0.2623850726122279\n",
      "epoch: 1, loss: 0.24721152586456982\n",
      "epoch: 2, loss: 0.23279861887739853\n",
      "epoch: 3, loss: 0.2201226505264337\n",
      "epoch: 4, loss: 0.21009950635154775\n",
      "epoch: 5, loss: 0.20296654063516922\n",
      "epoch: 6, loss: 0.1979729758817781\n",
      "epoch: 7, loss: 0.19449827835641315\n",
      "epoch: 8, loss: 0.19240913046948857\n",
      "epoch: 9, loss: 0.1912401552552501\n",
      "epoch: 10, loss: 0.19004361623818178\n",
      "epoch: 11, loss: 0.1883699666188947\n",
      "epoch: 12, loss: 0.18650789131173506\n",
      "epoch: 13, loss: 0.18499910008714082\n",
      "epoch: 14, loss: 0.18408915280678403\n",
      "epoch: 15, loss: 0.18357962722413895\n",
      "epoch: 16, loss: 0.1832008975805395\n",
      "epoch: 17, loss: 0.18284898164048805\n",
      "epoch: 18, loss: 0.1825183647823506\n",
      "epoch: 19, loss: 0.18218878559678886\n",
      "epoch: 20, loss: 0.1817727892356849\n",
      "epoch: 21, loss: 0.18116528970352294\n",
      "epoch: 22, loss: 0.18036240576456822\n",
      "epoch: 23, loss: 0.17950115763977187\n",
      "epoch: 24, loss: 0.17874396251998664\n",
      "epoch: 25, loss: 0.17814353712330377\n",
      "epoch: 26, loss: 0.17763984182066203\n",
      "epoch: 27, loss: 0.1771229282432494\n",
      "epoch: 28, loss: 0.17648827718657642\n",
      "epoch: 29, loss: 0.17569916133817717\n",
      "epoch: 30, loss: 0.17482660144192383\n",
      "epoch: 31, loss: 0.1740240853976915\n",
      "epoch: 32, loss: 0.17344340143186568\n",
      "epoch: 33, loss: 0.17313877428721047\n",
      "epoch: 34, loss: 0.17302185412490004\n",
      "epoch: 35, loss: 0.17291259662826253\n",
      "epoch: 36, loss: 0.17266411563762746\n",
      "epoch: 37, loss: 0.1722590923830698\n",
      "epoch: 38, loss: 0.17178985421246618\n",
      "epoch: 39, loss: 0.17135342310964538\n",
      "epoch: 40, loss: 0.1709688275755132\n",
      "epoch: 41, loss: 0.17058359569571457\n",
      "epoch: 42, loss: 0.1701437176228269\n",
      "epoch: 43, loss: 0.16965323093969384\n",
      "epoch: 44, loss: 0.16917744510268146\n",
      "epoch: 45, loss: 0.16879656053774117\n",
      "epoch: 46, loss: 0.16854628652969583\n",
      "epoch: 47, loss: 0.16838800231261783\n",
      "epoch: 48, loss: 0.16823390837476412\n",
      "epoch: 49, loss: 0.16800877480470805\n",
      "epoch: 50, loss: 0.1676959544473343\n",
      "epoch: 51, loss: 0.1673351736403498\n",
      "epoch: 52, loss: 0.16698616940039354\n",
      "epoch: 53, loss: 0.16669049942004588\n",
      "epoch: 54, loss: 0.16645209162972538\n",
      "epoch: 55, loss: 0.16624286613911426\n",
      "epoch: 56, loss: 0.16602732326220626\n",
      "epoch: 57, loss: 0.16578792291590383\n",
      "epoch: 58, loss: 0.16553406753620167\n",
      "epoch: 59, loss: 0.1652920918109781\n",
      "epoch: 60, loss: 0.16508685436971116\n",
      "epoch: 61, loss: 0.16492945528640976\n",
      "epoch: 62, loss: 0.1648178717849429\n",
      "epoch: 63, loss: 0.16474384943594284\n",
      "epoch: 64, loss: 0.16469715976242505\n",
      "epoch: 65, loss: 0.1646669852651797\n",
      "epoch: 66, loss: 0.16464464443632124\n",
      "epoch: 67, loss: 0.16462801683596734\n",
      "epoch: 68, loss: 0.16462204004438072\n",
      "epoch: 69, loss: 0.1646316112660624\n",
      "epoch: 70, loss: 0.16465352279190404\n",
      "epoch: 71, loss: 0.1646775647076048\n",
      "epoch: 72, loss: 0.16469584881994082\n",
      "epoch: 73, loss: 0.16470839667792833\n",
      "epoch: 74, loss: 0.16471860881829087\n",
      "epoch: 75, loss: 0.16472626847513416\n",
      "epoch: 76, loss: 0.16472771364796263\n",
      "epoch: 77, loss: 0.1647214578971356\n",
      "epoch: 78, loss: 0.16471046584237375\n",
      "epoch: 79, loss: 0.16469833448105542\n",
      "epoch: 80, loss: 0.16468535559684772\n",
      "epoch: 81, loss: 0.16466979711407603\n",
      "epoch: 82, loss: 0.16465184357520887\n",
      "epoch: 83, loss: 0.1646341658613827\n",
      "epoch: 84, loss: 0.16461873911429772\n",
      "epoch: 85, loss: 0.16460497516053949\n",
      "epoch: 86, loss: 0.1645914209842843\n",
      "epoch: 87, loss: 0.16457793871268314\n",
      "epoch: 88, loss: 0.16456562126822402\n",
      "epoch: 89, loss: 0.16455546229690743\n",
      "epoch: 90, loss: 0.16454780814505757\n",
      "epoch: 91, loss: 0.16454272145315207\n",
      "epoch: 92, loss: 0.16454011743020788\n",
      "epoch: 93, loss: 0.16453935999448238\n",
      "epoch: 94, loss: 0.16453930529180752\n",
      "epoch: 95, loss: 0.1645392744090734\n",
      "epoch: 96, loss: 0.16453972975819944\n",
      "epoch: 97, loss: 0.16454150265550338\n",
      "epoch: 98, loss: 0.1645444556776495\n",
      "epoch: 99, loss: 0.16454729582688862\n"
     ]
    }
   ],
   "source": [
    "qcn1.train(x_train_qcn, y_train, epochs=100, verbose=True)"
   ]
  },
  {
   "cell_type": "code",
   "execution_count": null,
   "metadata": {},
   "outputs": [],
   "source": []
  }
 ],
 "metadata": {
  "kernelspec": {
   "display_name": "env_qiskit",
   "language": "python",
   "name": "env_qiskit"
  },
  "language_info": {
   "codemirror_mode": {
    "name": "ipython",
    "version": 3
   },
   "file_extension": ".py",
   "mimetype": "text/x-python",
   "name": "python",
   "nbconvert_exporter": "python",
   "pygments_lexer": "ipython3",
   "version": "3.9.1"
  }
 },
 "nbformat": 4,
 "nbformat_minor": 4
}
