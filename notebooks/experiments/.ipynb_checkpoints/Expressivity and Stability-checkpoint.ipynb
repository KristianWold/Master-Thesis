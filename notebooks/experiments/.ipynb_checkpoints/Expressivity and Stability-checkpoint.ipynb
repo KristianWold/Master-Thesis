{
 "cells": [
  {
   "cell_type": "code",
   "execution_count": 48,
   "metadata": {},
   "outputs": [
    {
     "name": "stdout",
     "output_type": "stream",
     "text": [
      "The autoreload extension is already loaded. To reload it, use:\n",
      "  %reload_ext autoreload\n"
     ]
    }
   ],
   "source": [
    "import numpy as np\n",
    "import qiskit as qk\n",
    "import matplotlib.pyplot as plt\n",
    "from qiskit import Aer\n",
    "from sklearn.decomposition import PCA\n",
    "from tqdm.notebook import tqdm\n",
    "from mpl_toolkits.axes_grid1 import make_axes_locatable\n",
    "\n",
    "import sys\n",
    "sys.path.insert(0, '../../src/')\n",
    "from neuralnetwork import *\n",
    "from analysis import *\n",
    "from utils import *\n",
    "\n",
    "#%matplotlib notebook\n",
    "%matplotlib inline\n",
    "%load_ext autoreload\n",
    "%autoreload 2"
   ]
  },
  {
   "cell_type": "markdown",
   "metadata": {},
   "source": [
    "# Expressivity of QKN vs Classic NN"
   ]
  },
  {
   "cell_type": "markdown",
   "metadata": {},
   "source": [
    "## Mapping of Randomly Initialized Models"
   ]
  },
  {
   "cell_type": "markdown",
   "metadata": {},
   "source": [
    "### QKN"
   ]
  },
  {
   "cell_type": "code",
   "execution_count": 110,
   "metadata": {},
   "outputs": [],
   "source": [
    "x = np.linspace(-1, 1, 30)\n",
    "x = generate_meshgrid([x,x])\n",
    "\n",
    "x_qnn = scaler(x, a=-np.pi/2, b=np.pi/2)\n",
    "x_dnn = scaler(x, mode=\"standard\")"
   ]
  },
  {
   "cell_type": "code",
   "execution_count": 10,
   "metadata": {},
   "outputs": [],
   "source": [
    "np.random.seed(44)\n",
    "backend = Aer.get_backend('qasm_simulator')\n",
    "\n",
    "qkn1 = sequential_qnn(n_qubits = [2],\n",
    "                         dim = [2, 1],\n",
    "                         encoder = Encoder(),\n",
    "                         ansatz = Ansatz(blocks=[\"entangle\", \"ry\"], reps=2),\n",
    "                         sampler = Parity(),\n",
    "                         backend = backend,\n",
    "                         shots = 10000)\n",
    "\n",
    "qkn2 = sequential_qnn(n_qubits = [2, 4],\n",
    "                         dim = [2, 4, 1],\n",
    "                         encoder = Encoder(),\n",
    "                         ansatz = Ansatz(blocks=[\"entangle\", \"ry\"], reps=2),\n",
    "                         sampler = Parity(),\n",
    "                         backend = backend,\n",
    "                         shots = 10000)\n",
    "\n",
    "qkn3 = sequential_qnn(n_qubits = [2, 4, 4],\n",
    "                         dim = [2, 4, 4, 1],\n",
    "                         encoder = Encoder(),\n",
    "                         sampler = Parity(),\n",
    "                         ansatz = Ansatz(blocks=[\"entangle\", \"ry\"], reps=2),\n",
    "                         backend = backend,\n",
    "                         shots = 10000)\n",
    "\n",
    "qkn4 = sequential_qnn(n_qubits = [2, 4, 4, 4],\n",
    "                         dim = [2, 4, 4, 4, 1],\n",
    "                         encoder = Encoder(),\n",
    "                         ansatz = Ansatz(blocks=[\"entangle\", \"ry\"], reps=2),\n",
    "                         sampler = Parity(),\n",
    "                         backend = backend,\n",
    "                         shots = 10000)"
   ]
  },
  {
   "cell_type": "code",
   "execution_count": 11,
   "metadata": {},
   "outputs": [],
   "source": [
    "y_pred1 = qkn1.predict(x_qnn).reshape(30,30)\n",
    "y_pred2 = qkn2.predict(x_qnn).reshape(30,30)\n",
    "y_pred3 = qkn3.predict(x_qnn).reshape(30,30)\n",
    "y_pred4 = qkn4.predict(x_qnn).reshape(30,30)"
   ]
  },
  {
   "cell_type": "code",
   "execution_count": 114,
   "metadata": {},
   "outputs": [
    {
     "data": {
      "image/png": "[encoded data removed]",
      "text/plain": [
       "<Figure size 720x720 with 5 Axes>"
      ]
     },
     "metadata": {
      "needs_background": "light"
     },
     "output_type": "display_data"
    }
   ],
   "source": [
    "fig, (ax1, ax2, ax3, ax4) = plt.subplots(1, 4, figsize=(10, 10))\n",
    "\n",
    "im = ax1.imshow(y_pred1, vmin=0, vmax=1)\n",
    "ax1.axis(\"off\")\n",
    "\n",
    "ax2.imshow(y_pred2, vmin=0, vmax=1)\n",
    "ax2.axis(\"off\")\n",
    "\n",
    "ax3.imshow(y_pred3, vmin=0, vmax=1)\n",
    "ax3.axis(\"off\")\n",
    "\n",
    "ax4.imshow(y_pred4, vmin=0, vmax=1)\n",
    "ax4.axis(\"off\")\n",
    "\n",
    "cbar_ax = fig.add_axes([0.11, 0.35, 0.8, 0.03])\n",
    "\n",
    "plt.colorbar(im, orientation=\"horizontal\", cax=cbar_ax)\n",
    "\n",
    "plt.show()\n",
    "fig.savefig(image_path(\"QKN_random.pdf\"), bbox_inches='tight')"
   ]
  },
  {
   "cell_type": "markdown",
   "metadata": {},
   "source": [
    "### DNN"
   ]
  },
  {
   "cell_type": "code",
   "execution_count": 104,
   "metadata": {},
   "outputs": [],
   "source": [
    "np.random.seed(42)\n",
    "\n",
    "dnn1 = sequential_dnn(dim = [2, 1],)\n",
    "dnn2 = sequential_dnn(dim = [2, 2, 1])\n",
    "dnn3 = sequential_dnn(dim = [2, 2, 2, 1])\n",
    "dnn4 = sequential_dnn(dim = [2, 2, 2, 2, 1])"
   ]
  },
  {
   "cell_type": "code",
   "execution_count": 105,
   "metadata": {},
   "outputs": [],
   "source": [
    "y_pred5 = dnn1.predict(x_dnn).reshape(30,30)\n",
    "y_pred6 = dnn2.predict(x_dnn).reshape(30,30)\n",
    "y_pred7 = dnn3.predict(x_dnn).reshape(30,30)\n",
    "y_pred8 = dnn4.predict(x_dnn).reshape(30,30)"
   ]
  },
  {
   "cell_type": "code",
   "execution_count": 106,
   "metadata": {},
   "outputs": [
    {
     "data": {
      "image/png": "[encoded data removed]",
      "text/plain": [
       "<Figure size 720x720 with 5 Axes>"
      ]
     },
     "metadata": {
      "needs_background": "light"
     },
     "output_type": "display_data"
    }
   ],
   "source": [
    "fig, (ax1, ax2, ax3, ax4) = plt.subplots(1, 4, figsize=(10, 10))\n",
    "\n",
    "im = ax1.imshow(y_pred5, vmin=0, vmax=1)\n",
    "ax1.axis(\"off\")\n",
    "\n",
    "ax2.imshow(y_pred6, vmin=0, vmax=1)\n",
    "ax2.axis(\"off\")\n",
    "\n",
    "ax3.imshow(y_pred7, vmin=0, vmax=1)\n",
    "ax3.axis(\"off\")\n",
    "\n",
    "ax4.imshow(y_pred8, vmin=0, vmax=1)\n",
    "ax4.axis(\"off\")\n",
    "\n",
    "cbar_ax = fig.add_axes([0.11, 0.35, 0.8, 0.03])\n",
    "\n",
    "plt.colorbar(im, orientation=\"horizontal\", cax=cbar_ax)\n",
    "\n",
    "plt.show()\n",
    "fig.savefig(image_path(\"DNN_random.pdf\"), bbox_inches='tight')"
   ]
  },
  {
   "cell_type": "markdown",
   "metadata": {},
   "source": [
    "## Trajectory Length"
   ]
  },
  {
   "cell_type": "code",
   "execution_count": 7,
   "metadata": {},
   "outputs": [
    {
     "name": "stdout",
     "output_type": "stream",
     "text": [
      "9.869588133730431\n"
     ]
    }
   ],
   "source": [
    "theta = np.linspace(0, 2*np.pi, 1000).reshape(-1,1)\n",
    "x = np.pi*(np.cos(theta) + 1)/2\n",
    "y = np.pi*(np.sin(theta) + 1)/2\n",
    "x = np.hstack([x, y])\n",
    "print(trajectory_length(x))"
   ]
  },
  {
   "cell_type": "code",
   "execution_count": 8,
   "metadata": {},
   "outputs": [
    {
     "data": {
      "image/png": "[encoded data removed]",
      "text/plain": [
       "<Figure size 432x288 with 1 Axes>"
      ]
     },
     "metadata": {
      "needs_background": "light"
     },
     "output_type": "display_data"
    }
   ],
   "source": [
    "plt.plot(x[:,0], x[:,1])\n",
    "plt.show()"
   ]
  },
  {
   "cell_type": "markdown",
   "metadata": {},
   "source": [
    "## Quantum Neural Network"
   ]
  },
  {
   "cell_type": "markdown",
   "metadata": {},
   "source": [
    "### Increasing width"
   ]
  },
  {
   "cell_type": "code",
   "execution_count": 9,
   "metadata": {},
   "outputs": [
    {
     "data": {
      "application/vnd.jupyter.widget-view+json": {
       "model_id": "bb2c032b3bda494495dcda24750f7c0b",
       "version_major": 2,
       "version_minor": 0
      },
      "text/plain": [
       "  0%|          | 0/9 [00:00<?, ?it/s]"
      ]
     },
     "metadata": {},
     "output_type": "display_data"
    }
   ],
   "source": [
    "np.random.seed(42)\n",
    "\n",
    "network = sequential_qnn(q_bits = [2, 3, 3, 3, 3, 3, 3, 3, 3],\n",
    "                         dim = [2, 3, 3, 3, 3, 3, 3, 3, 3, 1],\n",
    "                         reps = 1,\n",
    "                         backend=backend,\n",
    "                         shots=1000000)\n",
    "\n",
    "network.predict(x, verbose=True)\n",
    "saver(network, data_path(\"network_expressivity_width_3_reps_1_shots_1mill\"))"
   ]
  },
  {
   "cell_type": "code",
   "execution_count": null,
   "metadata": {},
   "outputs": [],
   "source": [
    "np.random.seed(42)\n",
    "\n",
    "network = sequential_qnn(q_bits = [2, 4, 4, 4, 4, 4, 4, 4, 4],\n",
    "                         dim = [2, 4, 4, 4, 4, 4, 4, 4, 4, 1],\n",
    "                         reps = 1,\n",
    "                         backend=backend,\n",
    "                         shots=1000000)\n",
    "\n",
    "network.predict(x, verbose=True)\n",
    "saver(network, data_path(\"network_expressivity_width_4_reps_1_shots_1mill\"))"
   ]
  },
  {
   "cell_type": "code",
   "execution_count": 10,
   "metadata": {},
   "outputs": [
    {
     "data": {
      "application/vnd.jupyter.widget-view+json": {
       "model_id": "69b3f0a572ec4ec799d19410e8abb746",
       "version_major": 2,
       "version_minor": 0
      },
      "text/plain": [
       "  0%|          | 0/9 [00:00<?, ?it/s]"
      ]
     },
     "metadata": {},
     "output_type": "display_data"
    }
   ],
   "source": [
    "np.random.seed(42)\n",
    "\n",
    "network = sequential_qnn(q_bits = [2, 5, 5, 5, 5, 5, 5, 5, 5],\n",
    "                         dim = [2, 5, 5, 5, 5, 5, 5, 5, 5, 1],\n",
    "                         reps = 1,\n",
    "                         backend=backend,\n",
    "                         shots=1000000)\n",
    "\n",
    "network.predict(x, verbose=True)\n",
    "saver(network, data_path(\"network_expressivity_width_5_reps_1_shots_1mill\"))"
   ]
  },
  {
   "cell_type": "code",
   "execution_count": null,
   "metadata": {},
   "outputs": [],
   "source": [
    "np.random.seed(42)\n",
    "\n",
    "network = sequential_qnn(q_bits = [2, 6, 6, 6, 6, 6, 6, 6, 6],\n",
    "                         dim = [2, 6, 6, 6, 6, 6, 6, 6, 6, 1],\n",
    "                         reps = 1,\n",
    "                         backend=backend,\n",
    "                         shots=1000000)\n",
    "\n",
    "network.predict(x, verbose=True)\n",
    "saver(network, data_path(\"network_expressivity_width_6_reps_1_shots_1mill\"))"
   ]
  },
  {
   "cell_type": "code",
   "execution_count": null,
   "metadata": {},
   "outputs": [],
   "source": [
    "np.random.seed(42)\n",
    "\n",
    "network = sequential_qnn(q_bits = [2, 7, 7, 7, 7, 7, 7, 7, 7],\n",
    "                         dim = [2, 7, 7, 7, 7, 7, 7, 7, 7, 1],\n",
    "                         reps = 1,\n",
    "                         backend=backend,\n",
    "                         shots=1000000)\n",
    "\n",
    "network.predict(x, verbose=True)\n",
    "saver(network, data_path(\"network_expressivity_width_7_reps_1_shots_1mill\"))"
   ]
  },
  {
   "cell_type": "markdown",
   "metadata": {},
   "source": [
    "### Increasing reps"
   ]
  },
  {
   "cell_type": "code",
   "execution_count": 11,
   "metadata": {},
   "outputs": [
    {
     "data": {
      "application/vnd.jupyter.widget-view+json": {
       "model_id": "be053963eb4f428f86e15a5f552e4136",
       "version_major": 2,
       "version_minor": 0
      },
      "text/plain": [
       "  0%|          | 0/9 [00:00<?, ?it/s]"
      ]
     },
     "metadata": {},
     "output_type": "display_data"
    }
   ],
   "source": [
    "np.random.seed(42)\n",
    "\n",
    "network = sequential_qnn(q_bits = [2, 5, 5, 5, 5, 5, 5, 5, 5],\n",
    "                         dim = [2, 5, 5, 5, 5, 5, 5, 5, 5, 1],\n",
    "                         reps = 2,\n",
    "                         backend=backend,\n",
    "                         shots=1000000)\n",
    "\n",
    "network.predict(x, verbose=True)\n",
    "saver(network, data_path(\"network_expressivity_width_4_reps_2_shots_1mill\"))"
   ]
  },
  {
   "cell_type": "code",
   "execution_count": null,
   "metadata": {},
   "outputs": [],
   "source": [
    "np.random.seed(42)\n",
    "\n",
    "network = sequential_qnn(q_bits = [2, 5, 5, 5, 5, 5, 5, 5, 5],\n",
    "                         dim = [2, 5, 5, 5, 5, 5, 5, 5, 5, 1],\n",
    "                         reps = 3,\n",
    "                         backend=backend,\n",
    "                         shots=1000000)\n",
    "\n",
    "network.predict(x, verbose=True)\n",
    "saver(network, data_path(\"network_expressivity_width_4_reps_3_shots_1mill\"))"
   ]
  },
  {
   "cell_type": "code",
   "execution_count": null,
   "metadata": {},
   "outputs": [],
   "source": [
    "np.random.seed(42)\n",
    "\n",
    "network = sequential_qnn(q_bits = [2, 5, 5, 5, 5, 5, 5, 5, 5],\n",
    "                         dim = [2, 5, 5, 5, 5, 5, 5, 5, 5, 1],\n",
    "                         reps = 4,\n",
    "                         backend=backend,\n",
    "                         shots=1000000)\n",
    "\n",
    "network.predict(x, verbose=True)\n",
    "saver(network, data_path(\"network_expressivity_width_4_reps_4_shots_1mill\"))"
   ]
  },
  {
   "cell_type": "markdown",
   "metadata": {},
   "source": [
    "## Classical Neural Network"
   ]
  },
  {
   "cell_type": "code",
   "execution_count": null,
   "metadata": {},
   "outputs": [],
   "source": []
  }
 ],
 "metadata": {
  "kernelspec": {
   "display_name": "env_qiskit",
   "language": "python",
   "name": "env_qiskit"
  },
  "language_info": {
   "codemirror_mode": {
    "name": "ipython",
    "version": 3
   },
   "file_extension": ".py",
   "mimetype": "text/x-python",
   "name": "python",
   "nbconvert_exporter": "python",
   "pygments_lexer": "ipython3",
   "version": "3.9.1"
  }
 },
 "nbformat": 4,
 "nbformat_minor": 4
}
