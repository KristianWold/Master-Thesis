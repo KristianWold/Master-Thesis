{
 "cells": [
  {
   "cell_type": "code",
   "execution_count": 2,
   "metadata": {},
   "outputs": [],
   "source": [
    "import numpy as np\n",
    "import qiskit as qk\n",
    "import matplotlib.pyplot as plt\n",
    "from qiskit import Aer\n",
    "from sklearn.decomposition import PCA\n",
    "from tqdm.notebook import tqdm\n",
    "from mpl_toolkits.axes_grid1 import make_axes_locatable\n",
    "\n",
    "import sys\n",
    "sys.path.insert(0, '../../src/')\n",
    "from neuralnetwork import *\n",
    "from analysis import *\n",
    "from utils import *\n",
    "\n",
    "#%matplotlib notebook\n",
    "%matplotlib inline\n",
    "%load_ext autoreload\n",
    "%autoreload 2"
   ]
  },
  {
   "cell_type": "markdown",
   "metadata": {},
   "source": [
    "# Expressivity of QKN vs Classic NN"
   ]
  },
  {
   "cell_type": "markdown",
   "metadata": {},
   "source": [
    "## Trajectory Length"
   ]
  },
  {
   "cell_type": "code",
   "execution_count": 3,
   "metadata": {},
   "outputs": [],
   "source": [
    "theta = np.linspace(0, 2*np.pi, 1000)\n",
    "theta = np.append(theta, theta[0:1]).reshape(-1,1)\n",
    "\n",
    "x1 = np.pi*(np.cos(theta)+1)/2\n",
    "x2 = np.pi*(np.sin(theta)+1)/2\n",
    "x_qcn = np.hstack([x1, x2])\n",
    "x_dnn = scaler(x_qcn, mode=\"standard\")"
   ]
  },
  {
   "cell_type": "code",
   "execution_count": 4,
   "metadata": {},
   "outputs": [
    {
     "data": {
      "image/png": "[encoded data removed]",
      "text/plain": [
       "<Figure size 432x288 with 1 Axes>"
      ]
     },
     "metadata": {
      "needs_background": "light"
     },
     "output_type": "display_data"
    }
   ],
   "source": [
    "plt.plot(x_qcn[:,0], x_qcn[:,1])\n",
    "plt.show()"
   ]
  },
  {
   "cell_type": "markdown",
   "metadata": {},
   "source": [
    "## Random Initialization"
   ]
  },
  {
   "cell_type": "markdown",
   "metadata": {},
   "source": [
    "### QCN"
   ]
  },
  {
   "cell_type": "code",
   "execution_count": 87,
   "metadata": {},
   "outputs": [],
   "source": [
    "np.random.seed(42)\n",
    "\n",
    "network = sequential_qnn(n_qubits = 8*[4],\n",
    "                         dim = [2] + 7*[4],\n",
    "                         scale = 8*[[-np.pi, np.pi]],\n",
    "                         encoder = Encoder(mode=\"x\"),\n",
    "                         ansatz = Ansatz(blocks=[\"entangle\", \"ry\"], reps=2),\n",
    "                         sampler = Parity(),\n",
    "                         shots = 0)\n",
    "\n",
    "tl = TrajectoryLength(network)\n",
    "tl.fit(x_qcn)\n",
    "saver(tl, data_path(\"tl_expressivity_width_4_reps_2\"))"
   ]
  },
  {
   "cell_type": "code",
   "execution_count": 88,
   "metadata": {},
   "outputs": [],
   "source": [
    "np.random.seed(42)\n",
    "\n",
    "network = sequential_qnn(n_qubits = 8*[5],\n",
    "                         dim = [2] + 7*[5],\n",
    "                         scale = 8*[[-np.pi, np.pi]],\n",
    "                         encoder = Encoder(mode=\"x\"),\n",
    "                         ansatz = Ansatz(blocks=[\"entangle\", \"ry\"], reps=2),\n",
    "                         sampler = Parity(),\n",
    "                         shots = 0)\n",
    "\n",
    "tl = TrajectoryLength(network)\n",
    "tl.fit(x_qcn)\n",
    "saver(tl, data_path(\"tl_expressivity_width_5_reps_2\"))"
   ]
  },
  {
   "cell_type": "code",
   "execution_count": 89,
   "metadata": {},
   "outputs": [],
   "source": [
    "np.random.seed(42)\n",
    "\n",
    "network = sequential_qnn(n_qubits = 8*[6],\n",
    "                         dim = [2] + 7*[6],\n",
    "                         scale = 8*[[-np.pi, np.pi]],\n",
    "                         encoder = Encoder(mode=\"x\"),\n",
    "                         ansatz = Ansatz(blocks=[\"entangle\", \"ry\"], reps=2),\n",
    "                         sampler = Parity(),\n",
    "                         shots = 0)\n",
    "\n",
    "tl = TrajectoryLength(network)\n",
    "tl.fit(x_qcn)\n",
    "saver(tl, data_path(\"tl_expressivity_width_6_reps_2\"))"
   ]
  },
  {
   "cell_type": "code",
   "execution_count": 90,
   "metadata": {},
   "outputs": [],
   "source": [
    "np.random.seed(42)\n",
    "\n",
    "network = sequential_qnn(n_qubits = 8*[7],\n",
    "                         dim = [2] + 7*[7],\n",
    "                         scale = 8*[[-np.pi, np.pi]],\n",
    "                         encoder = Encoder(mode=\"x\"),\n",
    "                         ansatz = Ansatz(blocks=[\"entangle\", \"ry\"], reps=2),\n",
    "                         sampler = Parity(),\n",
    "                         shots = 0)\n",
    "\n",
    "tl = TrajectoryLength(network)\n",
    "tl.fit(x_qcn)\n",
    "saver(tl, data_path(\"tl_expressivity_width_7_reps_2\"))"
   ]
  },
  {
   "cell_type": "code",
   "execution_count": 91,
   "metadata": {},
   "outputs": [],
   "source": [
    "np.random.seed(42)\n",
    "\n",
    "network = sequential_qnn(n_qubits = 8*[8],\n",
    "                         dim = [2] + 7*[8],\n",
    "                         scale = 8*[[-np.pi, np.pi]],\n",
    "                         encoder = Encoder(mode=\"x\"),\n",
    "                         ansatz = Ansatz(blocks=[\"entangle\", \"ry\"], reps=2),\n",
    "                         sampler = Parity(),\n",
    "                         shots = 0)\n",
    "\n",
    "tl = TrajectoryLength(network)\n",
    "tl.fit(x_qcn)\n",
    "saver(tl, data_path(\"tl_expressivity_width_8_reps_2\"))"
   ]
  },
  {
   "cell_type": "markdown",
   "metadata": {},
   "source": [
    "### DNN"
   ]
  },
  {
   "cell_type": "code",
   "execution_count": 92,
   "metadata": {},
   "outputs": [
    {
     "data": {
      "application/vnd.jupyter.widget-view+json": {
       "model_id": "170f1b8679614bf49ed14a9f3310c9da",
       "version_major": 2,
       "version_minor": 0
      },
      "text/plain": [
       "  0%|          | 0/7 [00:00<?, ?it/s]"
      ]
     },
     "metadata": {},
     "output_type": "display_data"
    }
   ],
   "source": [
    "network = sequential_dnn(dim=[2] + 7*[10])\n",
    "\n",
    "tl = TrajectoryLength(network)\n",
    "tl.fit(x_dnn)\n",
    "\n",
    "network.predict(x_dnn, verbose=True)\n",
    "saver(tl, data_path(\"tl_expressivity_dnn\"))"
   ]
  },
  {
   "cell_type": "markdown",
   "metadata": {},
   "source": [
    "## Training"
   ]
  },
  {
   "cell_type": "code",
   "execution_count": 5,
   "metadata": {},
   "outputs": [],
   "source": [
    "np.random.seed(42)\n",
    "\n",
    "n = 12\n",
    "x = np.linspace(0, 1, n)\n",
    "x = generate_meshgrid([x,x])\n",
    "\n",
    "mean1 = np.array([[0.2, 0.8]])\n",
    "var1 = np.array([[0.01, 0], [0, 0.01]])\n",
    "\n",
    "mean2 = np.array([[0.5, 0.8]])\n",
    "var2 = np.array([[0.01, 0], [0, 0.01]])\n",
    "\n",
    "mean3 = np.array([[0.8, 0.8]])\n",
    "var3 = np.array([[0.01, 0], [0, 0.01]])\n",
    "\n",
    "mean4 = np.array([[0.2, 0.5]])\n",
    "var4 = np.array([[0.01, 0], [0, 0.01]])\n",
    "\n",
    "mean5 = np.array([[0.5, 0.5]])\n",
    "var5 = np.array([[0.01, 0], [0, 0.01]])\n",
    "\n",
    "mean6 = np.array([[0.8, 0.5]])\n",
    "var6 = np.array([[0.01, 0], [0, 0.01]])\n",
    "\n",
    "mean7 = np.array([[0.2, 0.2]])\n",
    "var7 = np.array([[0.01, 0], [0, 0.01]])\n",
    "\n",
    "mean8 = np.array([[0.5, 0.2]])\n",
    "var8 = np.array([[0.01, 0], [0, 0.01]])\n",
    "\n",
    "mean9 = np.array([[0.8, 0.2]])\n",
    "var9 = np.array([[0.01, 0], [0, 0.01]])\n",
    "\n",
    "\n",
    "y = gaussian(x, mean1, var1) - gaussian(x, mean2, var2) + gaussian(x, mean3, var3) - gaussian(x, mean4, var4) +\\\n",
    "gaussian(x, mean5, var5) - gaussian(x, mean6, var6) + gaussian(x, mean7, var7) - gaussian(x, mean8, var8) +\\\n",
    "gaussian(x, mean9, var9)\n",
    "\n",
    "\n",
    "x_train_qcn = scaler(x, a=-np.pi/2, b=np.pi/2)\n",
    "x_train_dnn = scaler(x, mode=\"standard\")\n",
    "y = scaler(y, a=0, b=1)"
   ]
  },
  {
   "cell_type": "code",
   "execution_count": 6,
   "metadata": {},
   "outputs": [
    {
     "data": {
      "image/png": "[encoded data removed]",
      "text/plain": [
       "<Figure size 432x288 with 1 Axes>"
      ]
     },
     "metadata": {
      "needs_background": "light"
     },
     "output_type": "display_data"
    }
   ],
   "source": [
    "plt.imshow(y.reshape(n,n))\n",
    "plt.show()"
   ]
  },
  {
   "cell_type": "markdown",
   "metadata": {},
   "source": [
    "### QCN"
   ]
  },
  {
   "cell_type": "markdown",
   "metadata": {},
   "source": [
    "### 5 Qubits"
   ]
  },
  {
   "cell_type": "code",
   "execution_count": 24,
   "metadata": {},
   "outputs": [],
   "source": [
    "np.random.seed(42)\n",
    "network = sequential_qnn(n_qubits = [5, 5, 5, 5],\n",
    "                         dim = [2, 5, 5, 5, 1] ,\n",
    "                         scale = 3*[[-np.pi, np.pi]] + [[0,1]],\n",
    "                         encoder = Encoder(mode=\"x\"),\n",
    "                         ansatz = Ansatz(blocks=[\"entangle\", \"ry\"], reps=2),\n",
    "                         sampler = Parity(),\n",
    "                         shots = 0,\n",
    "                         optimizer=Adam(lr=0.1))"
   ]
  },
  {
   "cell_type": "code",
   "execution_count": 25,
   "metadata": {},
   "outputs": [],
   "source": [
    "tl = TrajectoryLength(network)\n",
    "tl.fit(x_qcn)\n",
    "saver(tl, data_path(\"tl_expressivity_qubit_5_epochs_0\"))"
   ]
  },
  {
   "cell_type": "code",
   "execution_count": 26,
   "metadata": {},
   "outputs": [
    {
     "data": {
      "application/vnd.jupyter.widget-view+json": {
       "model_id": "a92eac2344284c38a35b7fab661be09c",
       "version_major": 2,
       "version_minor": 0
      },
      "text/plain": [
       "  0%|          | 0/10 [00:00<?, ?it/s]"
      ]
     },
     "metadata": {},
     "output_type": "display_data"
    },
    {
     "name": "stdout",
     "output_type": "stream",
     "text": [
      "epoch: 0, loss: 0.10753750855339678\n",
      "epoch: 1, loss: 0.05469373487535791\n",
      "epoch: 2, loss: 0.06194648418692619\n",
      "epoch: 3, loss: 0.05358460329241951\n",
      "epoch: 4, loss: 0.05378873103479949\n",
      "epoch: 5, loss: 0.05388694821995833\n",
      "epoch: 6, loss: 0.05364019949536528\n",
      "epoch: 7, loss: 0.05283920363719211\n",
      "epoch: 8, loss: 0.052077703096661675\n",
      "epoch: 9, loss: 0.05157267528178281\n"
     ]
    }
   ],
   "source": [
    "network.train(x_train_qcn, y, epochs = 10, verbose=True)\n",
    "\n",
    "tl = TrajectoryLength(network)\n",
    "tl.fit(x_qcn)\n",
    "saver(tl, data_path(\"tl_expressivity_qubit_5_epochs_10\"))"
   ]
  },
  {
   "cell_type": "code",
   "execution_count": 27,
   "metadata": {},
   "outputs": [
    {
     "data": {
      "application/vnd.jupyter.widget-view+json": {
       "model_id": "4395903dafcf4fe594abff1abc7fd546",
       "version_major": 2,
       "version_minor": 0
      },
      "text/plain": [
       "  0%|          | 0/10 [00:00<?, ?it/s]"
      ]
     },
     "metadata": {},
     "output_type": "display_data"
    },
    {
     "name": "stdout",
     "output_type": "stream",
     "text": [
      "epoch: 0, loss: 0.05060743389569197\n",
      "epoch: 1, loss: 0.0499388478173374\n",
      "epoch: 2, loss: 0.04799817186332259\n",
      "epoch: 3, loss: 0.045554830316214844\n",
      "epoch: 4, loss: 0.04091426128932548\n",
      "epoch: 5, loss: 0.03847438209158517\n",
      "epoch: 6, loss: 0.03564557133516782\n",
      "epoch: 7, loss: 0.03814066640740307\n",
      "epoch: 8, loss: 0.028661446243289885\n",
      "epoch: 9, loss: 0.02914614204075895\n"
     ]
    }
   ],
   "source": [
    "network.train(x_train_qcn, y, epochs = 10, verbose=True)\n",
    "\n",
    "tl = TrajectoryLength(network)\n",
    "tl.fit(x_qcn)\n",
    "saver(tl, data_path(\"tl_expressivity_qubit_5_epochs_20\"))"
   ]
  },
  {
   "cell_type": "code",
   "execution_count": 28,
   "metadata": {},
   "outputs": [
    {
     "data": {
      "application/vnd.jupyter.widget-view+json": {
       "model_id": "939162905f74402caa02364b67c996ea",
       "version_major": 2,
       "version_minor": 0
      },
      "text/plain": [
       "  0%|          | 0/10 [00:00<?, ?it/s]"
      ]
     },
     "metadata": {},
     "output_type": "display_data"
    },
    {
     "name": "stdout",
     "output_type": "stream",
     "text": [
      "epoch: 0, loss: 0.03817022812221903\n",
      "epoch: 1, loss: 0.02626776343782878\n",
      "epoch: 2, loss: 0.030543742422384595\n",
      "epoch: 3, loss: 0.0248334215038493\n",
      "epoch: 4, loss: 0.030885032494114475\n",
      "epoch: 5, loss: 0.024074534095583706\n",
      "epoch: 6, loss: 0.025654146420673207\n",
      "epoch: 7, loss: 0.021622691826322572\n",
      "epoch: 8, loss: 0.023409098374442296\n",
      "epoch: 9, loss: 0.019499462888387675\n"
     ]
    }
   ],
   "source": [
    "network.train(x_train_qcn, y, epochs = 10, verbose=True)\n",
    "\n",
    "tl = TrajectoryLength(network)\n",
    "tl.fit(x_qcn)\n",
    "saver(tl, data_path(\"tl_expressivity_qubit_5_epochs_30\"))"
   ]
  },
  {
   "cell_type": "code",
   "execution_count": 29,
   "metadata": {},
   "outputs": [
    {
     "data": {
      "application/vnd.jupyter.widget-view+json": {
       "model_id": "9256e38d0e144136af517c75ed39ea9e",
       "version_major": 2,
       "version_minor": 0
      },
      "text/plain": [
       "  0%|          | 0/10 [00:00<?, ?it/s]"
      ]
     },
     "metadata": {},
     "output_type": "display_data"
    },
    {
     "name": "stdout",
     "output_type": "stream",
     "text": [
      "epoch: 0, loss: 0.019259825996106778\n",
      "epoch: 1, loss: 0.01545549785570197\n",
      "epoch: 2, loss: 0.015872797803214194\n",
      "epoch: 3, loss: 0.012221755331321011\n",
      "epoch: 4, loss: 0.012623849971247873\n",
      "epoch: 5, loss: 0.010095911990899495\n",
      "epoch: 6, loss: 0.010732578006679353\n",
      "epoch: 7, loss: 0.009253446980001745\n",
      "epoch: 8, loss: 0.008777549505998353\n",
      "epoch: 9, loss: 0.008229580223710042\n"
     ]
    }
   ],
   "source": [
    "network.train(x_train_qcn, y, epochs = 10, verbose=True)\n",
    "\n",
    "tl = TrajectoryLength(network)\n",
    "tl.fit(x_qcn)\n",
    "saver(tl, data_path(\"tl_expressivity_qubit_5_epochs_40\"))"
   ]
  },
  {
   "cell_type": "markdown",
   "metadata": {},
   "source": [
    "### 6 Qubits"
   ]
  },
  {
   "cell_type": "code",
   "execution_count": 30,
   "metadata": {},
   "outputs": [],
   "source": [
    "np.random.seed(42)\n",
    "network = sequential_qnn(n_qubits = [6, 6, 6, 6],\n",
    "                         dim = [2, 6, 6, 6, 1] ,\n",
    "                         scale = 3*[[-np.pi, np.pi]] + [[0,1]],\n",
    "                         encoder = Encoder(mode=\"x\"),\n",
    "                         ansatz = Ansatz(blocks=[\"entangle\", \"ry\"], reps=2),\n",
    "                         sampler = Parity(),\n",
    "                         shots = 0,\n",
    "                         optimizer=Adam(lr=0.1))"
   ]
  },
  {
   "cell_type": "code",
   "execution_count": 31,
   "metadata": {},
   "outputs": [],
   "source": [
    "tl = TrajectoryLength(network)\n",
    "tl.fit(x_qcn)\n",
    "saver(tl, data_path(\"tl_expressivity_qubit_6_epochs_0\"))"
   ]
  },
  {
   "cell_type": "code",
   "execution_count": 32,
   "metadata": {},
   "outputs": [
    {
     "data": {
      "application/vnd.jupyter.widget-view+json": {
       "model_id": "356e1b1ee4104339b4823906618a8922",
       "version_major": 2,
       "version_minor": 0
      },
      "text/plain": [
       "  0%|          | 0/10 [00:00<?, ?it/s]"
      ]
     },
     "metadata": {},
     "output_type": "display_data"
    },
    {
     "name": "stdout",
     "output_type": "stream",
     "text": [
      "epoch: 0, loss: 0.08630832338085878\n",
      "epoch: 1, loss: 0.05709119811722255\n",
      "epoch: 2, loss: 0.05400108420612014\n",
      "epoch: 3, loss: 0.053064641330191814\n",
      "epoch: 4, loss: 0.05272043035916593\n",
      "epoch: 5, loss: 0.05242343407293984\n",
      "epoch: 6, loss: 0.05192663486242562\n",
      "epoch: 7, loss: 0.05143327711198853\n",
      "epoch: 8, loss: 0.05056431601586434\n",
      "epoch: 9, loss: 0.04848666015700506\n"
     ]
    }
   ],
   "source": [
    "network.train(x_train_qcn, y, epochs = 10, verbose=True)\n",
    "\n",
    "tl = TrajectoryLength(network)\n",
    "tl.fit(x_qcn)\n",
    "saver(tl, data_path(\"tl_expressivity_qubit_6_epochs_10\"))"
   ]
  },
  {
   "cell_type": "code",
   "execution_count": 33,
   "metadata": {},
   "outputs": [
    {
     "data": {
      "application/vnd.jupyter.widget-view+json": {
       "model_id": "1a329077a07c44b68e4feabd1e7b30ef",
       "version_major": 2,
       "version_minor": 0
      },
      "text/plain": [
       "  0%|          | 0/10 [00:00<?, ?it/s]"
      ]
     },
     "metadata": {},
     "output_type": "display_data"
    },
    {
     "name": "stdout",
     "output_type": "stream",
     "text": [
      "epoch: 0, loss: 0.046085691928983596\n",
      "epoch: 1, loss: 0.04216105602885562\n",
      "epoch: 2, loss: 0.03933682122375527\n",
      "epoch: 3, loss: 0.033096270329572755\n",
      "epoch: 4, loss: 0.029905018560120948\n",
      "epoch: 5, loss: 0.025008015753748412\n",
      "epoch: 6, loss: 0.023873648413097626\n",
      "epoch: 7, loss: 0.01912223392860887\n",
      "epoch: 8, loss: 0.018102093622113735\n",
      "epoch: 9, loss: 0.016987040080188906\n"
     ]
    }
   ],
   "source": [
    "network.train(x_train_qcn, y, epochs = 10, verbose=True)\n",
    "\n",
    "tl = TrajectoryLength(network)\n",
    "tl.fit(x_qcn)\n",
    "saver(tl, data_path(\"tl_expressivity_qubit_6_epochs_20\"))"
   ]
  },
  {
   "cell_type": "code",
   "execution_count": 34,
   "metadata": {},
   "outputs": [
    {
     "data": {
      "application/vnd.jupyter.widget-view+json": {
       "model_id": "0aa33fec16ec4a95a34578769026cf58",
       "version_major": 2,
       "version_minor": 0
      },
      "text/plain": [
       "  0%|          | 0/10 [00:00<?, ?it/s]"
      ]
     },
     "metadata": {},
     "output_type": "display_data"
    },
    {
     "name": "stdout",
     "output_type": "stream",
     "text": [
      "epoch: 0, loss: 0.014431676708826693\n",
      "epoch: 1, loss: 0.015146095178957958\n",
      "epoch: 2, loss: 0.01958366631535198\n",
      "epoch: 3, loss: 0.023683495859406364\n",
      "epoch: 4, loss: 0.013991335944048496\n",
      "epoch: 5, loss: 0.023104201418871942\n",
      "epoch: 6, loss: 0.01735866745447305\n",
      "epoch: 7, loss: 0.015321837058061338\n",
      "epoch: 8, loss: 0.015234180419374506\n",
      "epoch: 9, loss: 0.016139233828695164\n"
     ]
    }
   ],
   "source": [
    "network.train(x_train_qcn, y, epochs = 10, verbose=True)\n",
    "\n",
    "l = TrajectoryLength(network)\n",
    "tl.fit(x_qcn)\n",
    "saver(tl, data_path(\"tl_expressivity_qubit_6_epochs_30\"))"
   ]
  },
  {
   "cell_type": "code",
   "execution_count": 35,
   "metadata": {},
   "outputs": [
    {
     "data": {
      "application/vnd.jupyter.widget-view+json": {
       "model_id": "6dff041a65754e83bb6eaf6a57a9c7e2",
       "version_major": 2,
       "version_minor": 0
      },
      "text/plain": [
       "  0%|          | 0/10 [00:00<?, ?it/s]"
      ]
     },
     "metadata": {},
     "output_type": "display_data"
    },
    {
     "name": "stdout",
     "output_type": "stream",
     "text": [
      "epoch: 0, loss: 0.010671422827442977\n",
      "epoch: 1, loss: 0.015154134450343828\n",
      "epoch: 2, loss: 0.0105531579237618\n",
      "epoch: 3, loss: 0.011381035644690236\n",
      "epoch: 4, loss: 0.009408233004157955\n",
      "epoch: 5, loss: 0.010199279856411392\n",
      "epoch: 6, loss: 0.007658636808282448\n",
      "epoch: 7, loss: 0.00994797983224541\n",
      "epoch: 8, loss: 0.0064721261233679035\n",
      "epoch: 9, loss: 0.008191681451436804\n"
     ]
    }
   ],
   "source": [
    "network.train(x_train_qcn, y, epochs = 10, verbose=True)\n",
    "\n",
    "tl = TrajectoryLength(network)\n",
    "tl.fit(x_qcn)\n",
    "saver(tl, data_path(\"tl_expressivity_qubit_6_epochs_40\"))"
   ]
  },
  {
   "cell_type": "code",
   "execution_count": 36,
   "metadata": {},
   "outputs": [
    {
     "data": {
      "application/vnd.jupyter.widget-view+json": {
       "model_id": "f40264534226436ab3b47486a1cc1a8b",
       "version_major": 2,
       "version_minor": 0
      },
      "text/plain": [
       "  0%|          | 0/10 [00:00<?, ?it/s]"
      ]
     },
     "metadata": {},
     "output_type": "display_data"
    },
    {
     "name": "stdout",
     "output_type": "stream",
     "text": [
      "epoch: 0, loss: 0.006783865885317551\n",
      "epoch: 1, loss: 0.006475650362592383\n",
      "epoch: 2, loss: 0.0054668203653854865\n",
      "epoch: 3, loss: 0.00683297434565143\n",
      "epoch: 4, loss: 0.004526863409948825\n",
      "epoch: 5, loss: 0.005537339670382462\n",
      "epoch: 6, loss: 0.00436582598421782\n",
      "epoch: 7, loss: 0.004155034803544259\n",
      "epoch: 8, loss: 0.00417155589913147\n",
      "epoch: 9, loss: 0.003284353725829367\n"
     ]
    }
   ],
   "source": [
    "network.train(x_train_qcn, y, epochs = 10, verbose=True)\n",
    "\n",
    "tl = TrajectoryLength(network)\n",
    "tl.fit(x_qcn)\n",
    "saver(tl, data_path(\"tl_expressivity_qubit_6_epochs_50\"))"
   ]
  },
  {
   "cell_type": "code",
   "execution_count": 37,
   "metadata": {},
   "outputs": [
    {
     "data": {
      "application/vnd.jupyter.widget-view+json": {
       "model_id": "0cde3d7334ea4cb195a77d538d9aa6e7",
       "version_major": 2,
       "version_minor": 0
      },
      "text/plain": [
       "  0%|          | 0/10 [00:00<?, ?it/s]"
      ]
     },
     "metadata": {},
     "output_type": "display_data"
    },
    {
     "name": "stdout",
     "output_type": "stream",
     "text": [
      "epoch: 0, loss: 0.0038453478504707752\n",
      "epoch: 1, loss: 0.00296567900801277\n",
      "epoch: 2, loss: 0.003108908157427461\n",
      "epoch: 3, loss: 0.0030866851477173735\n",
      "epoch: 4, loss: 0.0023864519975515803\n",
      "epoch: 5, loss: 0.002524318273437375\n",
      "epoch: 6, loss: 0.002691676825104915\n",
      "epoch: 7, loss: 0.002311849065869853\n",
      "epoch: 8, loss: 0.0017002807361710154\n",
      "epoch: 9, loss: 0.002058991681969347\n"
     ]
    }
   ],
   "source": [
    "network.train(x_train_qcn, y, epochs = 10, verbose=True)\n",
    "\n",
    "tl = TrajectoryLength(network)\n",
    "tl.fit(x_qcn)\n",
    "saver(tl, data_path(\"tl_expressivity_qubit_6_epochs_60\"))"
   ]
  },
  {
   "cell_type": "code",
   "execution_count": 38,
   "metadata": {},
   "outputs": [
    {
     "data": {
      "application/vnd.jupyter.widget-view+json": {
       "model_id": "231297acac144757b6ba4b8c18c2fdb5",
       "version_major": 2,
       "version_minor": 0
      },
      "text/plain": [
       "  0%|          | 0/10 [00:00<?, ?it/s]"
      ]
     },
     "metadata": {},
     "output_type": "display_data"
    },
    {
     "name": "stdout",
     "output_type": "stream",
     "text": [
      "epoch: 0, loss: 0.002356001331843218\n",
      "epoch: 1, loss: 0.0022743652006216486\n",
      "epoch: 2, loss: 0.002186556486717349\n",
      "epoch: 3, loss: 0.0019316922780747278\n",
      "epoch: 4, loss: 0.0015763981769627204\n",
      "epoch: 5, loss: 0.0015174827470473451\n",
      "epoch: 6, loss: 0.0013429803637499756\n",
      "epoch: 7, loss: 0.0013554341176107917\n",
      "epoch: 8, loss: 0.0013081970214949249\n",
      "epoch: 9, loss: 0.001724320138235086\n"
     ]
    }
   ],
   "source": [
    "network.train(x_train_qcn, y, epochs = 10, verbose=True)\n",
    "\n",
    "tl = TrajectoryLength(network)\n",
    "tl.fit(x_qcn)\n",
    "saver(tl, data_path(\"tl_expressivity_qubit_6_epochs_70\"))"
   ]
  },
  {
   "cell_type": "code",
   "execution_count": 39,
   "metadata": {},
   "outputs": [
    {
     "data": {
      "application/vnd.jupyter.widget-view+json": {
       "model_id": "ba2244e8d1fe4344aa2c9fb0eaa30a5d",
       "version_major": 2,
       "version_minor": 0
      },
      "text/plain": [
       "  0%|          | 0/10 [00:00<?, ?it/s]"
      ]
     },
     "metadata": {},
     "output_type": "display_data"
    },
    {
     "name": "stdout",
     "output_type": "stream",
     "text": [
      "epoch: 0, loss: 0.0034581825898862164\n",
      "epoch: 1, loss: 0.009492497513711472\n",
      "epoch: 2, loss: 0.009415565467820372\n",
      "epoch: 3, loss: 0.0018026710178850008\n",
      "epoch: 4, loss: 0.005899212312531957\n",
      "epoch: 5, loss: 0.0025240704981994012\n",
      "epoch: 6, loss: 0.00393041844128431\n",
      "epoch: 7, loss: 0.0022490506657733347\n",
      "epoch: 8, loss: 0.0033260044921717778\n",
      "epoch: 9, loss: 0.0023106501794766966\n"
     ]
    }
   ],
   "source": [
    "network.train(x_train_qcn, y, epochs = 10, verbose=True)\n",
    "\n",
    "tl = TrajectoryLength(network)\n",
    "tl.fit(x_qcn)\n",
    "saver(tl, data_path(\"tl_expressivity_qubit_6_epochs_80\"))"
   ]
  },
  {
   "cell_type": "markdown",
   "metadata": {},
   "source": [
    "### DNN"
   ]
  },
  {
   "cell_type": "markdown",
   "metadata": {},
   "source": [
    "#### 8 Nodes"
   ]
  },
  {
   "cell_type": "code",
   "execution_count": 63,
   "metadata": {},
   "outputs": [],
   "source": [
    "np.random.seed(42)\n",
    "network = sequential_dnn(dim=[2, 8, 8, 8, 1],\n",
    "                         optimizer=Adam(lr=0.1))"
   ]
  },
  {
   "cell_type": "code",
   "execution_count": 64,
   "metadata": {},
   "outputs": [],
   "source": [
    "tl = TrajectoryLength(network)\n",
    "tl.fit(x_dnn)\n",
    "saver(tl, data_path(\"tl_expressivity_epochs_0_dnn\"))"
   ]
  },
  {
   "cell_type": "code",
   "execution_count": 65,
   "metadata": {},
   "outputs": [],
   "source": [
    "network.train(x_train_dnn, y, epochs=66)\n",
    "\n",
    "tl = TrajectoryLength(network)\n",
    "tl.fit(x_dnn)\n",
    "saver(tl, data_path(\"tl_expressivity_epochs_66_dnn\"))"
   ]
  },
  {
   "cell_type": "code",
   "execution_count": 66,
   "metadata": {},
   "outputs": [],
   "source": [
    "network.train(x_train_dnn, y, epochs=46)\n",
    "\n",
    "tl = TrajectoryLength(network)\n",
    "tl.fit(x_dnn)\n",
    "saver(tl, data_path(\"tl_expressivity_epochs_112_dnn\"))"
   ]
  },
  {
   "cell_type": "code",
   "execution_count": 67,
   "metadata": {},
   "outputs": [],
   "source": [
    "network.train(x_train_dnn, y, epochs=45)\n",
    "\n",
    "tl = TrajectoryLength(network)\n",
    "tl.fit(x_dnn)\n",
    "saver(tl, data_path(\"tl_expressivity_epochs_157_dnn\"))"
   ]
  },
  {
   "cell_type": "code",
   "execution_count": 68,
   "metadata": {},
   "outputs": [],
   "source": [
    "network.train(x_train_dnn, y, epochs=376)\n",
    "\n",
    "tl = TrajectoryLength(network)\n",
    "tl.fit(x_dnn)\n",
    "saver(tl, data_path(\"tl_expressivity_epochs_533_dnn\"))"
   ]
  },
  {
   "cell_type": "markdown",
   "metadata": {},
   "source": [
    "#### 9 Nodes"
   ]
  },
  {
   "cell_type": "code",
   "execution_count": null,
   "metadata": {},
   "outputs": [],
   "source": [
    "0.04848666015700506\n",
    "0.016139233828695164\n",
    "0.003284353725829367\n",
    "0.002058991681969347"
   ]
  },
  {
   "cell_type": "code",
   "execution_count": 23,
   "metadata": {},
   "outputs": [],
   "source": [
    "np.random.seed(42)\n",
    "network = sequential_dnn(dim=[2, 9, 9, 9, 1],\n",
    "                         optimizer=Adam(lr=0.1))"
   ]
  },
  {
   "cell_type": "code",
   "execution_count": 24,
   "metadata": {},
   "outputs": [],
   "source": [
    "tl = TrajectoryLength(network)\n",
    "tl.fit(x_dnn)\n",
    "saver(tl, data_path(\"tl_expressivity_epochs_0_dnn_9_nodes\"))"
   ]
  },
  {
   "cell_type": "code",
   "execution_count": 25,
   "metadata": {},
   "outputs": [
    {
     "data": {
      "application/vnd.jupyter.widget-view+json": {
       "model_id": "b2d34171e4394c79b079c69b4b92a684",
       "version_major": 2,
       "version_minor": 0
      },
      "text/plain": [
       "  0%|          | 0/72 [00:00<?, ?it/s]"
      ]
     },
     "metadata": {},
     "output_type": "display_data"
    },
    {
     "name": "stdout",
     "output_type": "stream",
     "text": [
      "epoch: 0, loss: 0.05993721742985571\n",
      "epoch: 1, loss: 0.06501206684502787\n",
      "epoch: 2, loss: 0.057736839905299174\n",
      "epoch: 3, loss: 0.05362294283117229\n",
      "epoch: 4, loss: 0.056239575025647665\n",
      "epoch: 5, loss: 0.05762808103905383\n",
      "epoch: 6, loss: 0.05604302062088107\n",
      "epoch: 7, loss: 0.05409676083594415\n",
      "epoch: 8, loss: 0.05365388151967762\n",
      "epoch: 9, loss: 0.054486433333276046\n",
      "epoch: 10, loss: 0.05527965839276099\n",
      "epoch: 11, loss: 0.0552164336945919\n",
      "epoch: 12, loss: 0.054513135817509856\n",
      "epoch: 13, loss: 0.05383487949070592\n",
      "epoch: 14, loss: 0.05360239664651471\n",
      "epoch: 15, loss: 0.05378686632939146\n",
      "epoch: 16, loss: 0.05410655802433405\n",
      "epoch: 17, loss: 0.05429661325692822\n",
      "epoch: 18, loss: 0.05425610105449975\n",
      "epoch: 19, loss: 0.054046311856170294\n",
      "epoch: 20, loss: 0.053801986402693944\n",
      "epoch: 21, loss: 0.053637975343443015\n",
      "epoch: 22, loss: 0.0536002029182141\n",
      "epoch: 23, loss: 0.053664555171920314\n",
      "epoch: 24, loss: 0.053766052793128835\n",
      "epoch: 25, loss: 0.05383847568383087\n",
      "epoch: 26, loss: 0.05384580966512607\n",
      "epoch: 27, loss: 0.05379212076251074\n",
      "epoch: 28, loss: 0.05370937526939057\n",
      "epoch: 29, loss: 0.05363522665758791\n",
      "epoch: 30, loss: 0.05359477470619342\n",
      "epoch: 31, loss: 0.053593277922722976\n",
      "epoch: 32, loss: 0.0536191065142609\n",
      "epoch: 33, loss: 0.05365246246554251\n",
      "epoch: 34, loss: 0.053674994397200054\n",
      "epoch: 35, loss: 0.05367662188690865\n",
      "epoch: 36, loss: 0.05365773939591914\n",
      "epoch: 37, loss: 0.05362697444346692\n",
      "epoch: 38, loss: 0.05359621827722177\n",
      "epoch: 39, loss: 0.05357528185224056\n",
      "epoch: 40, loss: 0.05356823994534579\n",
      "epoch: 41, loss: 0.053572608975434304\n",
      "epoch: 42, loss: 0.05358132292833002\n",
      "epoch: 43, loss: 0.053586380229412034\n",
      "epoch: 44, loss: 0.053582412719008495\n",
      "epoch: 45, loss: 0.053568588596202255\n",
      "epoch: 46, loss: 0.053548177297260385\n",
      "epoch: 47, loss: 0.05352628780133898\n",
      "epoch: 48, loss: 0.053507084712345804\n",
      "epoch: 49, loss: 0.053491820394174\n",
      "epoch: 50, loss: 0.05347842152111727\n",
      "epoch: 51, loss: 0.053462558290059685\n",
      "epoch: 52, loss: 0.053439500488732944\n",
      "epoch: 53, loss: 0.05340583650488231\n",
      "epoch: 54, loss: 0.053360320100553534\n",
      "epoch: 55, loss: 0.053303547993643854\n",
      "epoch: 56, loss: 0.05323660067600747\n",
      "epoch: 57, loss: 0.05315911812711116\n",
      "epoch: 58, loss: 0.05306763199730487\n",
      "epoch: 59, loss: 0.05295537638104035\n",
      "epoch: 60, loss: 0.05281402671276335\n",
      "epoch: 61, loss: 0.052636462079915916\n",
      "epoch: 62, loss: 0.05241981070414978\n",
      "epoch: 63, loss: 0.052165896811415785\n",
      "epoch: 64, loss: 0.051878963868211725\n",
      "epoch: 65, loss: 0.05156260697193877\n",
      "epoch: 66, loss: 0.05121427002089591\n",
      "epoch: 67, loss: 0.05082771123407584\n",
      "epoch: 68, loss: 0.05040391232718059\n",
      "epoch: 69, loss: 0.04995353603763746\n",
      "epoch: 70, loss: 0.049477035190635524\n",
      "epoch: 71, loss: 0.04895282158933012\n"
     ]
    }
   ],
   "source": [
    "network.train(x_train_dnn, y, epochs=72, verbose=True)\n",
    "\n",
    "tl = TrajectoryLength(network)\n",
    "tl.fit(x_dnn)\n",
    "saver(tl, data_path(\"tl_expressivity_epochs_72_dnn_9_nodes\"))"
   ]
  },
  {
   "cell_type": "code",
   "execution_count": 26,
   "metadata": {},
   "outputs": [
    {
     "data": {
      "application/vnd.jupyter.widget-view+json": {
       "model_id": "9888b158a59f438099b1cfa7eda98501",
       "version_major": 2,
       "version_minor": 0
      },
      "text/plain": [
       "  0%|          | 0/122 [00:00<?, ?it/s]"
      ]
     },
     "metadata": {},
     "output_type": "display_data"
    },
    {
     "name": "stdout",
     "output_type": "stream",
     "text": [
      "epoch: 0, loss: 0.04835065558742931\n",
      "epoch: 1, loss: 0.047648065482059784\n",
      "epoch: 2, loss: 0.046838722461521175\n",
      "epoch: 3, loss: 0.045915404311156184\n",
      "epoch: 4, loss: 0.0448122834228092\n",
      "epoch: 5, loss: 0.04360102042017292\n",
      "epoch: 6, loss: 0.0424460061563434\n",
      "epoch: 7, loss: 0.04145604233582537\n",
      "epoch: 8, loss: 0.040690470989853046\n",
      "epoch: 9, loss: 0.04012133576847207\n",
      "epoch: 10, loss: 0.03967223588187924\n",
      "epoch: 11, loss: 0.039362194985538154\n",
      "epoch: 12, loss: 0.039164157462300744\n",
      "epoch: 13, loss: 0.03905209539349275\n",
      "epoch: 14, loss: 0.03893987082603199\n",
      "epoch: 15, loss: 0.0387869904048537\n",
      "epoch: 16, loss: 0.03863957436801924\n",
      "epoch: 17, loss: 0.03851674162596329\n",
      "epoch: 18, loss: 0.03837429766268913\n",
      "epoch: 19, loss: 0.03816450378490951\n",
      "epoch: 20, loss: 0.03788748813144293\n",
      "epoch: 21, loss: 0.037702479599868825\n",
      "epoch: 22, loss: 0.03758215115795988\n",
      "epoch: 23, loss: 0.03747242288565068\n",
      "epoch: 24, loss: 0.03753865856183555\n",
      "epoch: 25, loss: 0.03760966109744615\n",
      "epoch: 26, loss: 0.03713428109155902\n",
      "epoch: 27, loss: 0.037092174783136214\n",
      "epoch: 28, loss: 0.037293827430692206\n",
      "epoch: 29, loss: 0.03694400536052426\n",
      "epoch: 30, loss: 0.03710787482875186\n",
      "epoch: 31, loss: 0.036944817785926655\n",
      "epoch: 32, loss: 0.03687485462786706\n",
      "epoch: 33, loss: 0.03693971780238256\n",
      "epoch: 34, loss: 0.036739781833008266\n",
      "epoch: 35, loss: 0.03684262561958302\n",
      "epoch: 36, loss: 0.03665720901591144\n",
      "epoch: 37, loss: 0.03667386829569185\n",
      "epoch: 38, loss: 0.036577722780813275\n",
      "epoch: 39, loss: 0.03651704888037011\n",
      "epoch: 40, loss: 0.036503570357413376\n",
      "epoch: 41, loss: 0.03639154963685265\n",
      "epoch: 42, loss: 0.036376610951846716\n",
      "epoch: 43, loss: 0.03625027617435258\n",
      "epoch: 44, loss: 0.036235925151377225\n",
      "epoch: 45, loss: 0.03612526433809357\n",
      "epoch: 46, loss: 0.03609231556005559\n",
      "epoch: 47, loss: 0.036016636531159114\n",
      "epoch: 48, loss: 0.03594610618395317\n",
      "epoch: 49, loss: 0.03589083882718083\n",
      "epoch: 50, loss: 0.03579293766246532\n",
      "epoch: 51, loss: 0.035718684971098785\n",
      "epoch: 52, loss: 0.03562279000306065\n",
      "epoch: 53, loss: 0.035528444262496954\n",
      "epoch: 54, loss: 0.0354342744283013\n",
      "epoch: 55, loss: 0.03532325191654858\n",
      "epoch: 56, loss: 0.03521305160183244\n",
      "epoch: 57, loss: 0.035106500837567625\n",
      "epoch: 58, loss: 0.03498096148571203\n",
      "epoch: 59, loss: 0.03486933655060571\n",
      "epoch: 60, loss: 0.03472124925892037\n",
      "epoch: 61, loss: 0.03456781324397305\n",
      "epoch: 62, loss: 0.034397166761855745\n",
      "epoch: 63, loss: 0.03420273289996601\n",
      "epoch: 64, loss: 0.034020634808623794\n",
      "epoch: 65, loss: 0.03382370374158509\n",
      "epoch: 66, loss: 0.03360239834726683\n",
      "epoch: 67, loss: 0.033344951454406004\n",
      "epoch: 68, loss: 0.03304761411842532\n",
      "epoch: 69, loss: 0.03269822814238757\n",
      "epoch: 70, loss: 0.032283669308657344\n",
      "epoch: 71, loss: 0.03179210023108113\n",
      "epoch: 72, loss: 0.0313292023387765\n",
      "epoch: 73, loss: 0.0315393764662395\n",
      "epoch: 74, loss: 0.03233821599202219\n",
      "epoch: 75, loss: 0.03142318082799199\n",
      "epoch: 76, loss: 0.030090130825951942\n",
      "epoch: 77, loss: 0.03100643649448799\n",
      "epoch: 78, loss: 0.029234258447110736\n",
      "epoch: 79, loss: 0.0293386853956143\n",
      "epoch: 80, loss: 0.029650127247983785\n",
      "epoch: 81, loss: 0.028102841777091398\n",
      "epoch: 82, loss: 0.028628078156955825\n",
      "epoch: 83, loss: 0.02791241028317553\n",
      "epoch: 84, loss: 0.027308073098880243\n",
      "epoch: 85, loss: 0.027466041900585745\n",
      "epoch: 86, loss: 0.026322787097238485\n",
      "epoch: 87, loss: 0.026234312640680515\n",
      "epoch: 88, loss: 0.025253368399412373\n",
      "epoch: 89, loss: 0.02445846200968073\n",
      "epoch: 90, loss: 0.023926338945578187\n",
      "epoch: 91, loss: 0.0225901814989701\n",
      "epoch: 92, loss: 0.021864340946310387\n",
      "epoch: 93, loss: 0.021159633482212396\n",
      "epoch: 94, loss: 0.020277321964821314\n",
      "epoch: 95, loss: 0.019898334027709307\n",
      "epoch: 96, loss: 0.01964387794530645\n",
      "epoch: 97, loss: 0.0193274197448956\n",
      "epoch: 98, loss: 0.01927364744854285\n",
      "epoch: 99, loss: 0.019364585262468703\n",
      "epoch: 100, loss: 0.019061775277848962\n",
      "epoch: 101, loss: 0.01874857591429038\n",
      "epoch: 102, loss: 0.018644720208700016\n",
      "epoch: 103, loss: 0.01841139329540097\n",
      "epoch: 104, loss: 0.01821425332283924\n",
      "epoch: 105, loss: 0.01818750035507814\n",
      "epoch: 106, loss: 0.018047712026136076\n",
      "epoch: 107, loss: 0.017874526143531827\n",
      "epoch: 108, loss: 0.017789093468955738\n",
      "epoch: 109, loss: 0.01766231791674705\n",
      "epoch: 110, loss: 0.017579512283835235\n",
      "epoch: 111, loss: 0.01750388523874164\n",
      "epoch: 112, loss: 0.01737253962944043\n",
      "epoch: 113, loss: 0.017269412736480774\n",
      "epoch: 114, loss: 0.01711103805982726\n",
      "epoch: 115, loss: 0.016971508869442112\n",
      "epoch: 116, loss: 0.016852185424304614\n",
      "epoch: 117, loss: 0.01671009276343708\n",
      "epoch: 118, loss: 0.01659975034729182\n",
      "epoch: 119, loss: 0.016477779616904054\n",
      "epoch: 120, loss: 0.016360155515457355\n",
      "epoch: 121, loss: 0.016258201841426456\n"
     ]
    }
   ],
   "source": [
    "network.train(x_train_dnn, y, epochs=122, verbose=True)\n",
    "\n",
    "tl = TrajectoryLength(network)\n",
    "tl.fit(x_dnn)\n",
    "saver(tl, data_path(\"tl_expressivity_epochs_194_dnn_9_nodes\"))"
   ]
  },
  {
   "cell_type": "code",
   "execution_count": 27,
   "metadata": {},
   "outputs": [
    {
     "data": {
      "application/vnd.jupyter.widget-view+json": {
       "model_id": "786afb5901ba4201a728eb86fc5ca6ed",
       "version_major": 2,
       "version_minor": 0
      },
      "text/plain": [
       "  0%|          | 0/577 [00:00<?, ?it/s]"
      ]
     },
     "metadata": {},
     "output_type": "display_data"
    },
    {
     "name": "stdout",
     "output_type": "stream",
     "text": [
      "epoch: 0, loss: 0.01613345151848344\n",
      "epoch: 1, loss: 0.016015165338110857\n",
      "epoch: 2, loss: 0.01592050171967663\n",
      "epoch: 3, loss: 0.015824066311189083\n",
      "epoch: 4, loss: 0.015745392335414235\n",
      "epoch: 5, loss: 0.01567390063337755\n",
      "epoch: 6, loss: 0.015580518210839575\n",
      "epoch: 7, loss: 0.015494992230975453\n",
      "epoch: 8, loss: 0.015411305804976398\n",
      "epoch: 9, loss: 0.0153178624510629\n",
      "epoch: 10, loss: 0.015227624792476444\n",
      "epoch: 11, loss: 0.015135465866034167\n",
      "epoch: 12, loss: 0.015044348446712381\n",
      "epoch: 13, loss: 0.014961815589698176\n",
      "epoch: 14, loss: 0.014888525138438278\n",
      "epoch: 15, loss: 0.014812475767282483\n",
      "epoch: 16, loss: 0.01473491787411738\n",
      "epoch: 17, loss: 0.014655931889841649\n",
      "epoch: 18, loss: 0.01457187332685357\n",
      "epoch: 19, loss: 0.014488504058871813\n",
      "epoch: 20, loss: 0.014406922898464378\n",
      "epoch: 21, loss: 0.014326799034152701\n",
      "epoch: 22, loss: 0.01424658936602123\n",
      "epoch: 23, loss: 0.014169941676793918\n",
      "epoch: 24, loss: 0.014095889992566779\n",
      "epoch: 25, loss: 0.014022477051928963\n",
      "epoch: 26, loss: 0.01394902681657491\n",
      "epoch: 27, loss: 0.013878063030696528\n",
      "epoch: 28, loss: 0.013810519780358296\n",
      "epoch: 29, loss: 0.01374445701979319\n",
      "epoch: 30, loss: 0.013679648682990396\n",
      "epoch: 31, loss: 0.013616803000450916\n",
      "epoch: 32, loss: 0.01355679795285961\n",
      "epoch: 33, loss: 0.013499646774828344\n",
      "epoch: 34, loss: 0.013445199499443512\n",
      "epoch: 35, loss: 0.013391378789238972\n",
      "epoch: 36, loss: 0.013338248510380858\n",
      "epoch: 37, loss: 0.013286759367162325\n",
      "epoch: 38, loss: 0.013237489737986224\n",
      "epoch: 39, loss: 0.013190786942792469\n",
      "epoch: 40, loss: 0.013145837401383954\n",
      "epoch: 41, loss: 0.013101792584311232\n",
      "epoch: 42, loss: 0.013058155428627694\n",
      "epoch: 43, loss: 0.013015144669611432\n",
      "epoch: 44, loss: 0.012972816288236398\n",
      "epoch: 45, loss: 0.01293369543525397\n",
      "epoch: 46, loss: 0.012902544410524667\n",
      "epoch: 47, loss: 0.01289531619820812\n",
      "epoch: 48, loss: 0.012956283924468327\n",
      "epoch: 49, loss: 0.013207900267839183\n",
      "epoch: 50, loss: 0.013849759427089478\n",
      "epoch: 51, loss: 0.014700302088750708\n",
      "epoch: 52, loss: 0.014292019986924448\n",
      "epoch: 53, loss: 0.012804284125587602\n",
      "epoch: 54, loss: 0.012882072610144863\n",
      "epoch: 55, loss: 0.013786255434317527\n",
      "epoch: 56, loss: 0.013065286321503408\n",
      "epoch: 57, loss: 0.012475340315757802\n",
      "epoch: 58, loss: 0.013183120904477806\n",
      "epoch: 59, loss: 0.012910087259449353\n",
      "epoch: 60, loss: 0.012317492055187323\n",
      "epoch: 61, loss: 0.012800865587019308\n",
      "epoch: 62, loss: 0.012670565352019322\n",
      "epoch: 63, loss: 0.01218778746600358\n",
      "epoch: 64, loss: 0.012542487517282694\n",
      "epoch: 65, loss: 0.0124308737034379\n",
      "epoch: 66, loss: 0.012040255154531915\n",
      "epoch: 67, loss: 0.012289778112953917\n",
      "epoch: 68, loss: 0.012211029315197235\n",
      "epoch: 69, loss: 0.011885718638379953\n",
      "epoch: 70, loss: 0.012045047931823467\n",
      "epoch: 71, loss: 0.01202632014494653\n",
      "epoch: 72, loss: 0.011735755273374178\n",
      "epoch: 73, loss: 0.01178494109576194\n",
      "epoch: 74, loss: 0.011834543450297916\n",
      "epoch: 75, loss: 0.011607565913958832\n",
      "epoch: 76, loss: 0.011534438032180298\n",
      "epoch: 77, loss: 0.011615711234148283\n",
      "epoch: 78, loss: 0.011507710778062421\n",
      "epoch: 79, loss: 0.011346120225161365\n",
      "epoch: 80, loss: 0.011351833060917364\n",
      "epoch: 81, loss: 0.011373338403902934\n",
      "epoch: 82, loss: 0.011269183404133095\n",
      "epoch: 83, loss: 0.011144852025930147\n",
      "epoch: 84, loss: 0.01112454108459341\n",
      "epoch: 85, loss: 0.011144267101500377\n",
      "epoch: 86, loss: 0.011093901898560674\n",
      "epoch: 87, loss: 0.010992879264546772\n",
      "epoch: 88, loss: 0.010911652936511716\n",
      "epoch: 89, loss: 0.01088903887530747\n",
      "epoch: 90, loss: 0.010893200624243368\n",
      "epoch: 91, loss: 0.010878990366093515\n",
      "epoch: 92, loss: 0.010835844825682277\n",
      "epoch: 93, loss: 0.010766393213578652\n",
      "epoch: 94, loss: 0.010698910656301703\n",
      "epoch: 95, loss: 0.010641478728720776\n",
      "epoch: 96, loss: 0.01059882130882717\n",
      "epoch: 97, loss: 0.01056658885474978\n",
      "epoch: 98, loss: 0.01054396454558946\n",
      "epoch: 99, loss: 0.010533958016725945\n",
      "epoch: 100, loss: 0.010547882762650904\n",
      "epoch: 101, loss: 0.010621199645827833\n",
      "epoch: 102, loss: 0.01080696386328382\n",
      "epoch: 103, loss: 0.011251228934910694\n",
      "epoch: 104, loss: 0.011822717265160423\n",
      "epoch: 105, loss: 0.012168819030325915\n",
      "epoch: 106, loss: 0.011277558282347121\n",
      "epoch: 107, loss: 0.010335902316484435\n",
      "epoch: 108, loss: 0.010535152328329911\n",
      "epoch: 109, loss: 0.011189048621899721\n",
      "epoch: 110, loss: 0.011050269220335307\n",
      "epoch: 111, loss: 0.010279297801264685\n",
      "epoch: 112, loss: 0.010365158646369702\n",
      "epoch: 113, loss: 0.010904201455561773\n",
      "epoch: 114, loss: 0.010640655531724014\n",
      "epoch: 115, loss: 0.010121485926154753\n",
      "epoch: 116, loss: 0.010258452420651341\n",
      "epoch: 117, loss: 0.010553445541207296\n",
      "epoch: 118, loss: 0.010341432693319642\n",
      "epoch: 119, loss: 0.009998299179609114\n",
      "epoch: 120, loss: 0.01015378653490133\n",
      "epoch: 121, loss: 0.010328845692537504\n",
      "epoch: 122, loss: 0.01009981178551561\n",
      "epoch: 123, loss: 0.009912628891788308\n",
      "epoch: 124, loss: 0.010042275373737412\n",
      "epoch: 125, loss: 0.01012388915520689\n",
      "epoch: 126, loss: 0.009963119803404955\n",
      "epoch: 127, loss: 0.00982101329961135\n",
      "epoch: 128, loss: 0.009901053735370762\n",
      "epoch: 129, loss: 0.009980128001789117\n",
      "epoch: 130, loss: 0.009892204567671084\n",
      "epoch: 131, loss: 0.009750774855181237\n",
      "epoch: 132, loss: 0.009737772168263758\n",
      "epoch: 133, loss: 0.00980789314129845\n",
      "epoch: 134, loss: 0.009830516894932573\n",
      "epoch: 135, loss: 0.009746481286581114\n",
      "epoch: 136, loss: 0.009649776530271105\n",
      "epoch: 137, loss: 0.009615571231917905\n",
      "epoch: 138, loss: 0.009647100997276581\n",
      "epoch: 139, loss: 0.009677234630428416\n",
      "epoch: 140, loss: 0.009671103368977403\n",
      "epoch: 141, loss: 0.009619058791383044\n",
      "epoch: 142, loss: 0.009556140341669232\n",
      "epoch: 143, loss: 0.009501978314522017\n",
      "epoch: 144, loss: 0.009473353663833717\n",
      "epoch: 145, loss: 0.009465230399999266\n",
      "epoch: 146, loss: 0.009470245540719997\n",
      "epoch: 147, loss: 0.00948941149800065\n",
      "epoch: 148, loss: 0.009524567977385413\n",
      "epoch: 149, loss: 0.009589260326321002\n",
      "epoch: 150, loss: 0.009704793925378777\n",
      "epoch: 151, loss: 0.009887809693446107\n",
      "epoch: 152, loss: 0.010162226480852937\n",
      "epoch: 153, loss: 0.01037572233747717\n",
      "epoch: 154, loss: 0.010372861146910748\n",
      "epoch: 155, loss: 0.009963277889185402\n",
      "epoch: 156, loss: 0.009480035895255761\n",
      "epoch: 157, loss: 0.009265826456310916\n",
      "epoch: 158, loss: 0.009412718554036073\n",
      "epoch: 159, loss: 0.009703530171649497\n",
      "epoch: 160, loss: 0.009812255995049606\n",
      "epoch: 161, loss: 0.009642445925269761\n",
      "epoch: 162, loss: 0.009339450809229407\n",
      "epoch: 163, loss: 0.009184344549997978\n",
      "epoch: 164, loss: 0.00924776467712021\n",
      "epoch: 165, loss: 0.009413329797841853\n",
      "epoch: 166, loss: 0.009521817235405869\n",
      "epoch: 167, loss: 0.009459120725800187\n",
      "epoch: 168, loss: 0.009293105911402403\n",
      "epoch: 169, loss: 0.00914277956317945\n",
      "epoch: 170, loss: 0.009096937830669758\n",
      "epoch: 171, loss: 0.009149439972992952\n",
      "epoch: 172, loss: 0.00923736016327767\n",
      "epoch: 173, loss: 0.009299437260477085\n",
      "epoch: 174, loss: 0.009293761937554759\n",
      "epoch: 175, loss: 0.009235645787997175\n",
      "epoch: 176, loss: 0.0091451246920819\n",
      "epoch: 177, loss: 0.009063410817752637\n",
      "epoch: 178, loss: 0.009008750272536413\n",
      "epoch: 179, loss: 0.008986699365267541\n",
      "epoch: 180, loss: 0.008990530131873611\n",
      "epoch: 181, loss: 0.00901324166951444\n",
      "epoch: 182, loss: 0.009053463813034335\n",
      "epoch: 183, loss: 0.00911252394437563\n",
      "epoch: 184, loss: 0.009207444106571781\n",
      "epoch: 185, loss: 0.009338560822386432\n",
      "epoch: 186, loss: 0.009533524308005106\n",
      "epoch: 187, loss: 0.00971759935291476\n",
      "epoch: 188, loss: 0.009855182439012908\n",
      "epoch: 189, loss: 0.009736224135113027\n",
      "epoch: 190, loss: 0.009439186125136423\n",
      "epoch: 191, loss: 0.009064729152764546\n",
      "epoch: 192, loss: 0.00886552364019967\n",
      "epoch: 193, loss: 0.008898886875002423\n",
      "epoch: 194, loss: 0.009080043398305414\n",
      "epoch: 195, loss: 0.009274826522486866\n",
      "epoch: 196, loss: 0.009325123944204317\n",
      "epoch: 197, loss: 0.00922836308657463\n",
      "epoch: 198, loss: 0.009018392934020193\n",
      "epoch: 199, loss: 0.008844635837785783\n",
      "epoch: 200, loss: 0.008778954870564558\n",
      "epoch: 201, loss: 0.008823636061344833\n",
      "epoch: 202, loss: 0.008927019381482576\n",
      "epoch: 203, loss: 0.009019076335270838\n",
      "epoch: 204, loss: 0.009064522483155778\n",
      "epoch: 205, loss: 0.00902686572343621\n",
      "epoch: 206, loss: 0.008941222094826042\n",
      "epoch: 207, loss: 0.008830736072769059\n",
      "epoch: 208, loss: 0.008743734879631933\n",
      "epoch: 209, loss: 0.008696768674369243\n",
      "epoch: 210, loss: 0.00868997476545761\n",
      "epoch: 211, loss: 0.008713034523266968\n",
      "epoch: 212, loss: 0.008755367470571977\n",
      "epoch: 213, loss: 0.008814803373650166\n",
      "epoch: 214, loss: 0.008885738099375219\n",
      "epoch: 215, loss: 0.008981057191473298\n",
      "epoch: 216, loss: 0.009079059917421625\n",
      "epoch: 217, loss: 0.009193089366600233\n",
      "epoch: 218, loss: 0.009243810509864657\n",
      "epoch: 219, loss: 0.009241960639490355\n",
      "epoch: 220, loss: 0.00909951764490028\n",
      "epoch: 221, loss: 0.008908320327703645\n",
      "epoch: 222, loss: 0.008705866976942986\n",
      "epoch: 223, loss: 0.00857978746641325\n",
      "epoch: 224, loss: 0.008545983510459744\n",
      "epoch: 225, loss: 0.008588431223306502\n",
      "epoch: 226, loss: 0.008681544229081482\n",
      "epoch: 227, loss: 0.008799412242070296\n",
      "epoch: 228, loss: 0.008941179600285197\n",
      "epoch: 229, loss: 0.009062158629427471\n",
      "epoch: 230, loss: 0.00916023943039232\n",
      "epoch: 231, loss: 0.009130790341294166\n",
      "epoch: 232, loss: 0.009007246836041953\n",
      "epoch: 233, loss: 0.008772887016006516\n",
      "epoch: 234, loss: 0.00855979198383319\n",
      "epoch: 235, loss: 0.008429268541544792\n",
      "epoch: 236, loss: 0.008408572395371256\n",
      "epoch: 237, loss: 0.008472719910978317\n",
      "epoch: 238, loss: 0.008581397476639933\n",
      "epoch: 239, loss: 0.008711818985661653\n",
      "epoch: 240, loss: 0.00882464920223826\n",
      "epoch: 241, loss: 0.0089183027360883\n",
      "epoch: 242, loss: 0.008925798840061264\n",
      "epoch: 243, loss: 0.00886393300843215\n",
      "epoch: 244, loss: 0.008696149549506626\n",
      "epoch: 245, loss: 0.008507500183767787\n",
      "epoch: 246, loss: 0.008338796394235829\n",
      "epoch: 247, loss: 0.008239309763151759\n",
      "epoch: 248, loss: 0.008211121683467899\n",
      "epoch: 249, loss: 0.008239009130078797\n",
      "epoch: 250, loss: 0.008309938941824179\n",
      "epoch: 251, loss: 0.008423396139289142\n",
      "epoch: 252, loss: 0.008605092230128456\n",
      "epoch: 253, loss: 0.008869857717424144\n",
      "epoch: 254, loss: 0.009239998565930944\n",
      "epoch: 255, loss: 0.009543428431470888\n",
      "epoch: 256, loss: 0.009591017615656077\n",
      "epoch: 257, loss: 0.009081729437566423\n",
      "epoch: 258, loss: 0.00841794574638581\n",
      "epoch: 259, loss: 0.008041431006416747\n",
      "epoch: 260, loss: 0.008166675094895725\n",
      "epoch: 261, loss: 0.008562546976926329\n",
      "epoch: 262, loss: 0.008802128018472237\n",
      "epoch: 263, loss: 0.008700853711419342\n",
      "epoch: 264, loss: 0.008312972083624328\n",
      "epoch: 265, loss: 0.007988260189937126\n",
      "epoch: 266, loss: 0.007929146170597347\n",
      "epoch: 267, loss: 0.008099606493483208\n",
      "epoch: 268, loss: 0.008331460884269866\n",
      "epoch: 269, loss: 0.008443382474119285\n",
      "epoch: 270, loss: 0.008369455897218138\n",
      "epoch: 271, loss: 0.008150459954010666\n",
      "epoch: 272, loss: 0.00792481398485924\n",
      "epoch: 273, loss: 0.00780598342552504\n",
      "epoch: 274, loss: 0.007821596731925479\n",
      "epoch: 275, loss: 0.007926976106157765\n",
      "epoch: 276, loss: 0.008059343260239719\n",
      "epoch: 277, loss: 0.008182373715585778\n",
      "epoch: 278, loss: 0.008261396983182527\n",
      "epoch: 279, loss: 0.008263331337849835\n",
      "epoch: 280, loss: 0.00817828723949564\n",
      "epoch: 281, loss: 0.008025661338216658\n",
      "epoch: 282, loss: 0.007853738364534466\n",
      "epoch: 283, loss: 0.007717371452214715\n",
      "epoch: 284, loss: 0.0076440510271864786\n",
      "epoch: 285, loss: 0.007630809280922829\n",
      "epoch: 286, loss: 0.007663139640593964\n",
      "epoch: 287, loss: 0.007733960369566494\n",
      "epoch: 288, loss: 0.007850831164427483\n",
      "epoch: 289, loss: 0.008045044014732779\n",
      "epoch: 290, loss: 0.008335388336583002\n",
      "epoch: 291, loss: 0.008739842038997254\n",
      "epoch: 292, loss: 0.009039448886268096\n",
      "epoch: 293, loss: 0.00897724212726507\n",
      "epoch: 294, loss: 0.008397288307280273\n",
      "epoch: 295, loss: 0.007728142461313089\n",
      "epoch: 296, loss: 0.007504830135297018\n",
      "epoch: 297, loss: 0.00778098622050923\n",
      "epoch: 298, loss: 0.008177077264209583\n",
      "epoch: 299, loss: 0.008285925839968936\n",
      "epoch: 300, loss: 0.008012348270491125\n",
      "epoch: 301, loss: 0.007601574200224402\n",
      "epoch: 302, loss: 0.007409271465020167\n",
      "epoch: 303, loss: 0.007509219789416326\n",
      "epoch: 304, loss: 0.007742293391276217\n",
      "epoch: 305, loss: 0.00789687243297357\n",
      "epoch: 306, loss: 0.0078311324232087\n",
      "epoch: 307, loss: 0.00761514954593472\n",
      "epoch: 308, loss: 0.007394884255985061\n",
      "epoch: 309, loss: 0.0073058577922394275\n",
      "epoch: 310, loss: 0.007358063921345591\n",
      "epoch: 311, loss: 0.007479427369557794\n",
      "epoch: 312, loss: 0.007589506798635792\n",
      "epoch: 313, loss: 0.007633057462133986\n",
      "epoch: 314, loss: 0.007616143671002424\n",
      "epoch: 315, loss: 0.007526432620409216\n",
      "epoch: 316, loss: 0.0074165824949700854\n",
      "epoch: 317, loss: 0.007304333664778255\n",
      "epoch: 318, loss: 0.007216452434882206\n",
      "epoch: 319, loss: 0.007158165740660439\n",
      "epoch: 320, loss: 0.007126508185434198\n",
      "epoch: 321, loss: 0.007115327489149531\n",
      "epoch: 322, loss: 0.007120817588935182\n",
      "epoch: 323, loss: 0.007151084002914931\n",
      "epoch: 324, loss: 0.007230033135366383\n",
      "epoch: 325, loss: 0.007426901565560066\n",
      "epoch: 326, loss: 0.007846490291690468\n",
      "epoch: 327, loss: 0.008734858128675027\n",
      "epoch: 328, loss: 0.009737419000440015\n",
      "epoch: 329, loss: 0.010311315959760687\n",
      "epoch: 330, loss: 0.008929080305607372\n",
      "epoch: 331, loss: 0.00726812932348781\n",
      "epoch: 332, loss: 0.0073087730866414746\n",
      "epoch: 333, loss: 0.008480251564208409\n",
      "epoch: 334, loss: 0.008621827260649688\n",
      "epoch: 335, loss: 0.007510940118580183\n",
      "epoch: 336, loss: 0.00692821802352589\n",
      "epoch: 337, loss: 0.007526125645381618\n",
      "epoch: 338, loss: 0.008073359393956654\n",
      "epoch: 339, loss: 0.007680256653678492\n",
      "epoch: 340, loss: 0.0069418249045938435\n",
      "epoch: 341, loss: 0.006993749600727945\n",
      "epoch: 342, loss: 0.007498228952972468\n",
      "epoch: 343, loss: 0.007454614427925405\n",
      "epoch: 344, loss: 0.006945205037196939\n",
      "epoch: 345, loss: 0.006773296897812173\n",
      "epoch: 346, loss: 0.007062665117898185\n",
      "epoch: 347, loss: 0.007212014792207839\n",
      "epoch: 348, loss: 0.006924511111162179\n"
     ]
    },
    {
     "name": "stdout",
     "output_type": "stream",
     "text": [
      "epoch: 349, loss: 0.006674742308595967\n",
      "epoch: 350, loss: 0.006744017628981592\n",
      "epoch: 351, loss: 0.0069282873577084046\n",
      "epoch: 352, loss: 0.006914649844293089\n",
      "epoch: 353, loss: 0.006703366133473359\n",
      "epoch: 354, loss: 0.006551020624246807\n",
      "epoch: 355, loss: 0.006571166915588021\n",
      "epoch: 356, loss: 0.006676625785189926\n",
      "epoch: 357, loss: 0.006732619537523917\n",
      "epoch: 358, loss: 0.0066557853271038\n",
      "epoch: 359, loss: 0.006521347756465383\n",
      "epoch: 360, loss: 0.00641386556116411\n",
      "epoch: 361, loss: 0.006374501819516438\n",
      "epoch: 362, loss: 0.006394035764876825\n",
      "epoch: 363, loss: 0.006442353701354623\n",
      "epoch: 364, loss: 0.006504841571408092\n",
      "epoch: 365, loss: 0.00655449054807826\n",
      "epoch: 366, loss: 0.0066279894358565565\n",
      "epoch: 367, loss: 0.0066937530930713755\n",
      "epoch: 368, loss: 0.006795749400247814\n",
      "epoch: 369, loss: 0.006858965753036874\n",
      "epoch: 370, loss: 0.006947621902033269\n",
      "epoch: 371, loss: 0.00694232283611829\n",
      "epoch: 372, loss: 0.006925257511651594\n",
      "epoch: 373, loss: 0.006794953287213312\n",
      "epoch: 374, loss: 0.0066499615628581015\n",
      "epoch: 375, loss: 0.0064513760558247224\n",
      "epoch: 376, loss: 0.006287973639814194\n",
      "epoch: 377, loss: 0.006149843184960278\n",
      "epoch: 378, loss: 0.006054005355273138\n",
      "epoch: 379, loss: 0.005987588514818323\n",
      "epoch: 380, loss: 0.005942535601432155\n",
      "epoch: 381, loss: 0.005909066683473712\n",
      "epoch: 382, loss: 0.005881780950022183\n",
      "epoch: 383, loss: 0.005857734015326653\n",
      "epoch: 384, loss: 0.005835316121738716\n",
      "epoch: 385, loss: 0.005815307971281612\n",
      "epoch: 386, loss: 0.005800825097067332\n",
      "epoch: 387, loss: 0.005801426213193405\n",
      "epoch: 388, loss: 0.005847230746770201\n",
      "epoch: 389, loss: 0.0060213368338406\n",
      "epoch: 390, loss: 0.0066064554476134765\n",
      "epoch: 391, loss: 0.008124388923948678\n",
      "epoch: 392, loss: 0.011718082938815141\n",
      "epoch: 393, loss: 0.012957085476334226\n",
      "epoch: 394, loss: 0.009957184178466746\n",
      "epoch: 395, loss: 0.006063176544627775\n",
      "epoch: 396, loss: 0.008124583284805361\n",
      "epoch: 397, loss: 0.009766153971338232\n",
      "epoch: 398, loss: 0.006559111117394138\n",
      "epoch: 399, loss: 0.0064847241160495015\n",
      "epoch: 400, loss: 0.008353537445620392\n",
      "epoch: 401, loss: 0.006707950145560386\n",
      "epoch: 402, loss: 0.005946929684747314\n",
      "epoch: 403, loss: 0.00709059310272576\n",
      "epoch: 404, loss: 0.006756990703057795\n",
      "epoch: 405, loss: 0.00572415040059443\n",
      "epoch: 406, loss: 0.006308848997650329\n",
      "epoch: 407, loss: 0.006302667618205971\n",
      "epoch: 408, loss: 0.0056466988162492005\n",
      "epoch: 409, loss: 0.006022228430895604\n",
      "epoch: 410, loss: 0.006001482844245801\n",
      "epoch: 411, loss: 0.005632761089304752\n",
      "epoch: 412, loss: 0.005742510076598245\n",
      "epoch: 413, loss: 0.005895444834060769\n",
      "epoch: 414, loss: 0.005524034294696657\n",
      "epoch: 415, loss: 0.005630304564234186\n",
      "epoch: 416, loss: 0.005731396900608362\n",
      "epoch: 417, loss: 0.005534768279104838\n",
      "epoch: 418, loss: 0.005468432086048481\n",
      "epoch: 419, loss: 0.005578516992012265\n",
      "epoch: 420, loss: 0.005514698803862825\n",
      "epoch: 421, loss: 0.005348712623932439\n",
      "epoch: 422, loss: 0.005480360354036207\n",
      "epoch: 423, loss: 0.005463344350161847\n",
      "epoch: 424, loss: 0.005335460672415655\n",
      "epoch: 425, loss: 0.0053284593739624\n",
      "epoch: 426, loss: 0.005374673603287584\n",
      "epoch: 427, loss: 0.0053370520818651936\n",
      "epoch: 428, loss: 0.005218216077652072\n",
      "epoch: 429, loss: 0.005251748408823403\n",
      "epoch: 430, loss: 0.005286997808153396\n",
      "epoch: 431, loss: 0.005213237182458738\n",
      "epoch: 432, loss: 0.005158765103737115\n",
      "epoch: 433, loss: 0.005147692876539227\n",
      "epoch: 434, loss: 0.005171198949632121\n",
      "epoch: 435, loss: 0.005148286210196501\n",
      "epoch: 436, loss: 0.005080958635769895\n",
      "epoch: 437, loss: 0.005060791626620356\n",
      "epoch: 438, loss: 0.0050701098520829\n",
      "epoch: 439, loss: 0.005061517250205918\n",
      "epoch: 440, loss: 0.005038554508482764\n",
      "epoch: 441, loss: 0.004998074913322979\n",
      "epoch: 442, loss: 0.004964753916531069\n",
      "epoch: 443, loss: 0.004961743876920587\n",
      "epoch: 444, loss: 0.004960976784510288\n",
      "epoch: 445, loss: 0.0049454825108107\n",
      "epoch: 446, loss: 0.004924979591058121\n",
      "epoch: 447, loss: 0.004896690604780223\n",
      "epoch: 448, loss: 0.004866717045847454\n",
      "epoch: 449, loss: 0.0048476983586606065\n",
      "epoch: 450, loss: 0.004837806058093089\n",
      "epoch: 451, loss: 0.004827534471308926\n",
      "epoch: 452, loss: 0.004815921783032629\n",
      "epoch: 453, loss: 0.0048065088924524315\n",
      "epoch: 454, loss: 0.004794669898027265\n",
      "epoch: 455, loss: 0.004779761566188707\n",
      "epoch: 456, loss: 0.004766949303478803\n",
      "epoch: 457, loss: 0.004760329282473886\n",
      "epoch: 458, loss: 0.004757319755760299\n",
      "epoch: 459, loss: 0.00476521474674125\n",
      "epoch: 460, loss: 0.0047904785646289425\n",
      "epoch: 461, loss: 0.004856973331979742\n",
      "epoch: 462, loss: 0.004987631724884326\n",
      "epoch: 463, loss: 0.005257246375493395\n",
      "epoch: 464, loss: 0.005723648766077085\n",
      "epoch: 465, loss: 0.0065688653629648345\n",
      "epoch: 466, loss: 0.007367362928697643\n",
      "epoch: 467, loss: 0.00784502085073888\n",
      "epoch: 468, loss: 0.006690961470073493\n",
      "epoch: 469, loss: 0.005141419221991156\n",
      "epoch: 470, loss: 0.004690631662848252\n",
      "epoch: 471, loss: 0.005489380043811889\n",
      "epoch: 472, loss: 0.006178757434518783\n",
      "epoch: 473, loss: 0.005641563074572208\n",
      "epoch: 474, loss: 0.004747792924257416\n",
      "epoch: 475, loss: 0.004667424043849725\n",
      "epoch: 476, loss: 0.005154060402315058\n",
      "epoch: 477, loss: 0.0053913221732121664\n",
      "epoch: 478, loss: 0.0050917244128678\n",
      "epoch: 479, loss: 0.004682924647075701\n",
      "epoch: 480, loss: 0.004530472687130662\n",
      "epoch: 481, loss: 0.0048654288698805085\n",
      "epoch: 482, loss: 0.00505057021860077\n",
      "epoch: 483, loss: 0.004651092867899422\n",
      "epoch: 484, loss: 0.004445037529497197\n",
      "epoch: 485, loss: 0.00457234018462814\n",
      "epoch: 486, loss: 0.004647700607952883\n",
      "epoch: 487, loss: 0.004650087715414437\n",
      "epoch: 488, loss: 0.004594107733430485\n",
      "epoch: 489, loss: 0.004446225242627031\n",
      "epoch: 490, loss: 0.004329459530642103\n",
      "epoch: 491, loss: 0.004385873528024063\n",
      "epoch: 492, loss: 0.004508584782628967\n",
      "epoch: 493, loss: 0.004492260260426116\n",
      "epoch: 494, loss: 0.004374773498890016\n",
      "epoch: 495, loss: 0.00429400284848802\n",
      "epoch: 496, loss: 0.004270984229267967\n",
      "epoch: 497, loss: 0.004264125882168725\n",
      "epoch: 498, loss: 0.004286988212910818\n",
      "epoch: 499, loss: 0.00432668399872154\n",
      "epoch: 500, loss: 0.004323539960344397\n",
      "epoch: 501, loss: 0.00426628919380599\n",
      "epoch: 502, loss: 0.0041945912334012975\n",
      "epoch: 503, loss: 0.004158295514634098\n",
      "epoch: 504, loss: 0.004144096680262112\n",
      "epoch: 505, loss: 0.004126129624025333\n",
      "epoch: 506, loss: 0.004112254274806302\n",
      "epoch: 507, loss: 0.00411769612381498\n",
      "epoch: 508, loss: 0.0041432728660949015\n",
      "epoch: 509, loss: 0.0041756417610855565\n",
      "epoch: 510, loss: 0.004213636385556869\n",
      "epoch: 511, loss: 0.004269427702760861\n",
      "epoch: 512, loss: 0.004375805721822246\n",
      "epoch: 513, loss: 0.004548042402565961\n",
      "epoch: 514, loss: 0.004831579859970292\n",
      "epoch: 515, loss: 0.005170227111267311\n",
      "epoch: 516, loss: 0.0055667643157973675\n",
      "epoch: 517, loss: 0.005686836047906935\n",
      "epoch: 518, loss: 0.00544768900583937\n",
      "epoch: 519, loss: 0.004768554760900936\n",
      "epoch: 520, loss: 0.00414490410086738\n",
      "epoch: 521, loss: 0.003935131463706737\n",
      "epoch: 522, loss: 0.004158363862356709\n",
      "epoch: 523, loss: 0.004534423388818798\n",
      "epoch: 524, loss: 0.004722950293775359\n",
      "epoch: 525, loss: 0.0046304728482186265\n",
      "epoch: 526, loss: 0.0042921023613879125\n",
      "epoch: 527, loss: 0.003980912217157093\n",
      "epoch: 528, loss: 0.003845118520737389\n",
      "epoch: 529, loss: 0.0039351794605193635\n",
      "epoch: 530, loss: 0.0041427642985717205\n",
      "epoch: 531, loss: 0.004292440951351788\n",
      "epoch: 532, loss: 0.004321785768654827\n",
      "epoch: 533, loss: 0.004205509591222028\n",
      "epoch: 534, loss: 0.004051381370348731\n",
      "epoch: 535, loss: 0.003914472323142629\n",
      "epoch: 536, loss: 0.0038247406130986236\n",
      "epoch: 537, loss: 0.003773647730406114\n",
      "epoch: 538, loss: 0.0037442224645182634\n",
      "epoch: 539, loss: 0.00374711656638082\n",
      "epoch: 540, loss: 0.003783423395589128\n",
      "epoch: 541, loss: 0.003849760860187525\n",
      "epoch: 542, loss: 0.0039270113287424545\n",
      "epoch: 543, loss: 0.003990586735555673\n",
      "epoch: 544, loss: 0.004009745363354435\n",
      "epoch: 545, loss: 0.003993009160078948\n",
      "epoch: 546, loss: 0.003955800173105666\n",
      "epoch: 547, loss: 0.003937042168906\n",
      "epoch: 548, loss: 0.003924034719401983\n",
      "epoch: 549, loss: 0.003915269796296225\n",
      "epoch: 550, loss: 0.0038666677406626027\n",
      "epoch: 551, loss: 0.003805838011464394\n",
      "epoch: 552, loss: 0.0037336998712977926\n",
      "epoch: 553, loss: 0.003690071384358737\n",
      "epoch: 554, loss: 0.0036819411090365534\n",
      "epoch: 555, loss: 0.0037097438272358845\n",
      "epoch: 556, loss: 0.00375747417923623\n",
      "epoch: 557, loss: 0.0038135960282582853\n",
      "epoch: 558, loss: 0.003867919377579945\n",
      "epoch: 559, loss: 0.003926338711100209\n",
      "epoch: 560, loss: 0.003997504327931625\n",
      "epoch: 561, loss: 0.004149799919291254\n",
      "epoch: 562, loss: 0.00439332763066232\n",
      "epoch: 563, loss: 0.004776097083844127\n",
      "epoch: 564, loss: 0.005033888947731239\n",
      "epoch: 565, loss: 0.005114445483748231\n",
      "epoch: 566, loss: 0.004636746103045694\n",
      "epoch: 567, loss: 0.004059039920580743\n",
      "epoch: 568, loss: 0.0036814100096597227\n",
      "epoch: 569, loss: 0.0035729930093337603\n",
      "epoch: 570, loss: 0.0036684868305474844\n",
      "epoch: 571, loss: 0.0038249605870097\n",
      "epoch: 572, loss: 0.004036777943707147\n",
      "epoch: 573, loss: 0.0041188794945482\n",
      "epoch: 574, loss: 0.003975574414148804\n",
      "epoch: 575, loss: 0.0036192222233688317\n",
      "epoch: 576, loss: 0.0033179586372360636\n"
     ]
    }
   ],
   "source": [
    "network.train(x_train_dnn, y, epochs=577, verbose=True)\n",
    "\n",
    "tl = TrajectoryLength(network)\n",
    "tl.fit(x_dnn)\n",
    "saver(tl, data_path(\"tl_expressivity_epochs_831_dnn_9_nodes\"))"
   ]
  },
  {
   "cell_type": "code",
   "execution_count": 21,
   "metadata": {},
   "outputs": [
    {
     "data": {
      "application/vnd.jupyter.widget-view+json": {
       "model_id": "dac33f9e662a49caad5ad3264e3fd61d",
       "version_major": 2,
       "version_minor": 0
      },
      "text/plain": [
       "  0%|          | 0/218 [00:00<?, ?it/s]"
      ]
     },
     "metadata": {},
     "output_type": "display_data"
    },
    {
     "name": "stdout",
     "output_type": "stream",
     "text": [
      "epoch: 0, loss: 0.005686836047906935\n",
      "epoch: 1, loss: 0.00544768900583937\n",
      "epoch: 2, loss: 0.004768554760900936\n",
      "epoch: 3, loss: 0.00414490410086738\n",
      "epoch: 4, loss: 0.003935131463706737\n",
      "epoch: 5, loss: 0.004158363862356709\n",
      "epoch: 6, loss: 0.004534423388818798\n",
      "epoch: 7, loss: 0.004722950293775359\n",
      "epoch: 8, loss: 0.0046304728482186265\n",
      "epoch: 9, loss: 0.0042921023613879125\n",
      "epoch: 10, loss: 0.003980912217157093\n",
      "epoch: 11, loss: 0.003845118520737389\n",
      "epoch: 12, loss: 0.0039351794605193635\n",
      "epoch: 13, loss: 0.0041427642985717205\n",
      "epoch: 14, loss: 0.004292440951351788\n",
      "epoch: 15, loss: 0.004321785768654827\n",
      "epoch: 16, loss: 0.004205509591222028\n",
      "epoch: 17, loss: 0.004051381370348731\n",
      "epoch: 18, loss: 0.003914472323142629\n",
      "epoch: 19, loss: 0.0038247406130986236\n",
      "epoch: 20, loss: 0.003773647730406114\n",
      "epoch: 21, loss: 0.0037442224645182634\n",
      "epoch: 22, loss: 0.00374711656638082\n",
      "epoch: 23, loss: 0.003783423395589128\n",
      "epoch: 24, loss: 0.003849760860187525\n",
      "epoch: 25, loss: 0.0039270113287424545\n",
      "epoch: 26, loss: 0.003990586735555673\n",
      "epoch: 27, loss: 0.004009745363354435\n",
      "epoch: 28, loss: 0.003993009160078948\n",
      "epoch: 29, loss: 0.003955800173105666\n",
      "epoch: 30, loss: 0.003937042168906\n",
      "epoch: 31, loss: 0.003924034719401983\n",
      "epoch: 32, loss: 0.003915269796296225\n",
      "epoch: 33, loss: 0.0038666677406626027\n",
      "epoch: 34, loss: 0.003805838011464394\n",
      "epoch: 35, loss: 0.0037336998712977926\n",
      "epoch: 36, loss: 0.003690071384358737\n",
      "epoch: 37, loss: 0.0036819411090365534\n",
      "epoch: 38, loss: 0.0037097438272358845\n",
      "epoch: 39, loss: 0.00375747417923623\n",
      "epoch: 40, loss: 0.0038135960282582853\n",
      "epoch: 41, loss: 0.003867919377579945\n",
      "epoch: 42, loss: 0.003926338711100209\n",
      "epoch: 43, loss: 0.003997504327931625\n",
      "epoch: 44, loss: 0.004149799919291254\n",
      "epoch: 45, loss: 0.00439332763066232\n",
      "epoch: 46, loss: 0.004776097083844127\n",
      "epoch: 47, loss: 0.005033888947731239\n",
      "epoch: 48, loss: 0.005114445483748231\n",
      "epoch: 49, loss: 0.004636746103045694\n",
      "epoch: 50, loss: 0.004059039920580743\n",
      "epoch: 51, loss: 0.0036814100096597227\n",
      "epoch: 52, loss: 0.0035729930093337603\n",
      "epoch: 53, loss: 0.0036684868305474844\n",
      "epoch: 54, loss: 0.0038249605870097\n",
      "epoch: 55, loss: 0.004036777943707147\n",
      "epoch: 56, loss: 0.0041188794945482\n",
      "epoch: 57, loss: 0.003975574414148804\n",
      "epoch: 58, loss: 0.0036192222233688317\n",
      "epoch: 59, loss: 0.0033179586372360636\n",
      "epoch: 60, loss: 0.003252600926504404\n",
      "epoch: 61, loss: 0.0034004035452631872\n",
      "epoch: 62, loss: 0.003609618132411694\n",
      "epoch: 63, loss: 0.003715341825367697\n",
      "epoch: 64, loss: 0.0036751322401399325\n",
      "epoch: 65, loss: 0.00352994764634802\n",
      "epoch: 66, loss: 0.0034020453998254894\n",
      "epoch: 67, loss: 0.0033103261101554505\n",
      "epoch: 68, loss: 0.0032510364817827583\n",
      "epoch: 69, loss: 0.003196172143502548\n",
      "epoch: 70, loss: 0.0031829765366482095\n",
      "epoch: 71, loss: 0.0032176619477806\n",
      "epoch: 72, loss: 0.0032844678246197133\n",
      "epoch: 73, loss: 0.0033626046179866162\n",
      "epoch: 74, loss: 0.003407758176135657\n",
      "epoch: 75, loss: 0.003437409881606483\n",
      "epoch: 76, loss: 0.0034219214076850624\n",
      "epoch: 77, loss: 0.0034025619896874064\n",
      "epoch: 78, loss: 0.003375269780975405\n",
      "epoch: 79, loss: 0.0033739414470627216\n",
      "epoch: 80, loss: 0.0033888446633052838\n",
      "epoch: 81, loss: 0.0034122487200889426\n",
      "epoch: 82, loss: 0.0034026859509100576\n",
      "epoch: 83, loss: 0.003354232099758717\n",
      "epoch: 84, loss: 0.0032627822580610704\n",
      "epoch: 85, loss: 0.003180348486167692\n",
      "epoch: 86, loss: 0.003135852973415194\n",
      "epoch: 87, loss: 0.0031447734257797357\n",
      "epoch: 88, loss: 0.0031819572967142257\n",
      "epoch: 89, loss: 0.003249353750768172\n",
      "epoch: 90, loss: 0.003264577542388542\n",
      "epoch: 91, loss: 0.0032789505917696737\n",
      "epoch: 92, loss: 0.003233936029098867\n",
      "epoch: 93, loss: 0.0032245600773955496\n",
      "epoch: 94, loss: 0.0032692366956020035\n",
      "epoch: 95, loss: 0.003417991456907778\n",
      "epoch: 96, loss: 0.003650447369055824\n",
      "epoch: 97, loss: 0.003919809494872013\n",
      "epoch: 98, loss: 0.004036815080979159\n",
      "epoch: 99, loss: 0.0039640077683639795\n",
      "epoch: 100, loss: 0.003742795758056592\n",
      "epoch: 101, loss: 0.0035919113228578903\n",
      "epoch: 102, loss: 0.0034353583616503623\n",
      "epoch: 103, loss: 0.003302124148180734\n",
      "epoch: 104, loss: 0.0029919369341069603\n",
      "epoch: 105, loss: 0.0028470012715574445\n",
      "epoch: 106, loss: 0.0029666507172608062\n",
      "epoch: 107, loss: 0.003232880980417186\n",
      "epoch: 108, loss: 0.0034811367320752296\n",
      "epoch: 109, loss: 0.0034276133995570215\n",
      "epoch: 110, loss: 0.003240128950405951\n",
      "epoch: 111, loss: 0.0029737123865959244\n",
      "epoch: 112, loss: 0.0028748043024393022\n",
      "epoch: 113, loss: 0.0029304456098683427\n",
      "epoch: 114, loss: 0.00294042099293822\n",
      "epoch: 115, loss: 0.0028633430703203944\n",
      "epoch: 116, loss: 0.0027321323381203563\n",
      "epoch: 117, loss: 0.0027090228262576736\n",
      "epoch: 118, loss: 0.0027991461680533375\n",
      "epoch: 119, loss: 0.002897612974384507\n",
      "epoch: 120, loss: 0.002912800382039993\n",
      "epoch: 121, loss: 0.0028211175701467603\n",
      "epoch: 122, loss: 0.0027236892856747235\n",
      "epoch: 123, loss: 0.00269440018172746\n",
      "epoch: 124, loss: 0.0027158580949190473\n",
      "epoch: 125, loss: 0.0027297769796174403\n",
      "epoch: 126, loss: 0.0026827965465220905\n",
      "epoch: 127, loss: 0.0026174847123720205\n",
      "epoch: 128, loss: 0.002567847990729015\n",
      "epoch: 129, loss: 0.00256126586943394\n",
      "epoch: 130, loss: 0.002586628961595301\n",
      "epoch: 131, loss: 0.0026119544730985236\n",
      "epoch: 132, loss: 0.00262208441278044\n",
      "epoch: 133, loss: 0.002605773340821853\n",
      "epoch: 134, loss: 0.0025902237380375846\n",
      "epoch: 135, loss: 0.0025905391617630363\n",
      "epoch: 136, loss: 0.0026307753297120286\n",
      "epoch: 137, loss: 0.0027307948552572725\n",
      "epoch: 138, loss: 0.0029187567937181166\n",
      "epoch: 139, loss: 0.0032003703713066657\n",
      "epoch: 140, loss: 0.003585451704505143\n",
      "epoch: 141, loss: 0.003962690038148747\n",
      "epoch: 142, loss: 0.004319231636100564\n",
      "epoch: 143, loss: 0.004483058383169659\n",
      "epoch: 144, loss: 0.004399100933090035\n",
      "epoch: 145, loss: 0.003619408030311076\n",
      "epoch: 146, loss: 0.00277688773561558\n",
      "epoch: 147, loss: 0.002485047975890371\n",
      "epoch: 148, loss: 0.0028892820158918702\n",
      "epoch: 149, loss: 0.0034013993756252794\n",
      "epoch: 150, loss: 0.003407796673201428\n",
      "epoch: 151, loss: 0.00311250961252458\n",
      "epoch: 152, loss: 0.0028017015352823508\n",
      "epoch: 153, loss: 0.002662174970207113\n",
      "epoch: 154, loss: 0.002630256043310103\n",
      "epoch: 155, loss: 0.0025942329674422454\n",
      "epoch: 156, loss: 0.002658082564399066\n",
      "epoch: 157, loss: 0.002791996425590665\n",
      "epoch: 158, loss: 0.0028083985966336177\n",
      "epoch: 159, loss: 0.002612530107125723\n",
      "epoch: 160, loss: 0.0023934689772958737\n",
      "epoch: 161, loss: 0.0023777042997581246\n",
      "epoch: 162, loss: 0.0025151513317515036\n",
      "epoch: 163, loss: 0.0026005484565188287\n",
      "epoch: 164, loss: 0.0025538285375635034\n",
      "epoch: 165, loss: 0.002457629703147995\n",
      "epoch: 166, loss: 0.002408820827048813\n",
      "epoch: 167, loss: 0.0023990104669270548\n",
      "epoch: 168, loss: 0.002373945675326947\n",
      "epoch: 169, loss: 0.0023559887443450125\n",
      "epoch: 170, loss: 0.0023768680266904344\n",
      "epoch: 171, loss: 0.0024239423421917694\n",
      "epoch: 172, loss: 0.002445294954088638\n",
      "epoch: 173, loss: 0.0024061253470043114\n",
      "epoch: 174, loss: 0.002340692009731393\n",
      "epoch: 175, loss: 0.0022899572193920076\n",
      "epoch: 176, loss: 0.002272219169625048\n",
      "epoch: 177, loss: 0.0022743539428338793\n",
      "epoch: 178, loss: 0.0022730007915359677\n",
      "epoch: 179, loss: 0.0022650620497828293\n",
      "epoch: 180, loss: 0.0022593587376777257\n",
      "epoch: 181, loss: 0.0022657829026473974\n",
      "epoch: 182, loss: 0.0022813962386808713\n",
      "epoch: 183, loss: 0.0022971646359904265\n",
      "epoch: 184, loss: 0.0023026600530684947\n",
      "epoch: 185, loss: 0.002296431097015489\n",
      "epoch: 186, loss: 0.0022847632850754493\n",
      "epoch: 187, loss: 0.0022785593552405656\n",
      "epoch: 188, loss: 0.002280786158505716\n",
      "epoch: 189, loss: 0.0022912709420810943\n",
      "epoch: 190, loss: 0.0023059103009756407\n",
      "epoch: 191, loss: 0.002325875253730477\n",
      "epoch: 192, loss: 0.0023512228456821845\n",
      "epoch: 193, loss: 0.0023934910576950156\n",
      "epoch: 194, loss: 0.0024586580799564953\n",
      "epoch: 195, loss: 0.002561025885557852\n",
      "epoch: 196, loss: 0.002697109674432252\n",
      "epoch: 197, loss: 0.002867056318544578\n",
      "epoch: 198, loss: 0.0030207547325756916\n",
      "epoch: 199, loss: 0.0031348505922959985\n",
      "epoch: 200, loss: 0.003139073368957843\n",
      "epoch: 201, loss: 0.0030436685830858108\n",
      "epoch: 202, loss: 0.002824796637617924\n",
      "epoch: 203, loss: 0.0025558951121045998\n",
      "epoch: 204, loss: 0.0022841077089044283\n",
      "epoch: 205, loss: 0.002123348531942843\n",
      "epoch: 206, loss: 0.002110457177306223\n",
      "epoch: 207, loss: 0.0022209412489472436\n",
      "epoch: 208, loss: 0.0023898617182072637\n",
      "epoch: 209, loss: 0.002541315658902876\n",
      "epoch: 210, loss: 0.0026397478148998225\n",
      "epoch: 211, loss: 0.002631728345701748\n",
      "epoch: 212, loss: 0.0025477829892528213\n",
      "epoch: 213, loss: 0.002415099047257367\n",
      "epoch: 214, loss: 0.0022931489154659527\n",
      "epoch: 215, loss: 0.002199270079093623\n",
      "epoch: 216, loss: 0.0021331340180826244\n",
      "epoch: 217, loss: 0.0020981582595523216\n"
     ]
    }
   ],
   "source": [
    "network.train(x_train_dnn, y, epochs=158, verbose=True)\n",
    "\n",
    "tl = TrajectoryLength(network)\n",
    "tl.fit(x_dnn)\n",
    "saver(tl, data_path(\"tl_expressivity_epochs_929_dnn_9_nodes\"))"
   ]
  },
  {
   "cell_type": "code",
   "execution_count": null,
   "metadata": {},
   "outputs": [],
   "source": []
  }
 ],
 "metadata": {
  "kernelspec": {
   "display_name": "env_qiskit",
   "language": "python",
   "name": "env_qiskit"
  },
  "language_info": {
   "codemirror_mode": {
    "name": "ipython",
    "version": 3
   },
   "file_extension": ".py",
   "mimetype": "text/x-python",
   "name": "python",
   "nbconvert_exporter": "python",
   "pygments_lexer": "ipython3",
   "version": "3.9.1"
  }
 },
 "nbformat": 4,
 "nbformat_minor": 4
}
