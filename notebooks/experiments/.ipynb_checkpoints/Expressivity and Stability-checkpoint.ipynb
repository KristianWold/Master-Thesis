{
 "cells": [
  {
   "cell_type": "code",
   "execution_count": 1,
   "metadata": {},
   "outputs": [],
   "source": [
    "import numpy as np\n",
    "import qiskit as qk\n",
    "import matplotlib.pyplot as plt\n",
    "from qiskit import Aer\n",
    "from sklearn.decomposition import PCA\n",
    "from tqdm.notebook import tqdm\n",
    "from mpl_toolkits.axes_grid1 import make_axes_locatable\n",
    "import multiprocessing as mp\n",
    "\n",
    "import sys\n",
    "sys.path.insert(0, '../../src/')\n",
    "from neuralnetwork import *\n",
    "from analysis import *\n",
    "from utils import *\n",
    "\n",
    "#%matplotlib notebook\n",
    "%matplotlib inline\n",
    "%load_ext autoreload\n",
    "%autoreload 2"
   ]
  },
  {
   "cell_type": "code",
   "execution_count": 2,
   "metadata": {},
   "outputs": [],
   "source": [
    "def parallel_fit(args):\n",
    "    tl = args[0]\n",
    "    x = args[1]\n",
    "    \n",
    "    tl.fit(x)\n",
    "    \n",
    "    return tl\n",
    "\n",
    "def parallel_train(args):\n",
    "    model = args[0]\n",
    "    x = args[1]\n",
    "    y = args[2]\n",
    "    verbose = args[3]\n",
    "    \n",
    "    model.train(x, y, epochs=5, verbose = verbose)\n",
    "    \n",
    "    return [model, x, y, verbose]\n",
    "\n",
    "def average_loss(network_list):\n",
    "    loss = [network[0].loss[-1] for network in network_list]\n",
    "    loss = sum(loss)/len(loss)\n",
    "    \n",
    "    return loss"
   ]
  },
  {
   "cell_type": "markdown",
   "metadata": {},
   "source": [
    "# Expressivity of QCN vs DNN"
   ]
  },
  {
   "cell_type": "markdown",
   "metadata": {},
   "source": [
    "## Node Expressivity"
   ]
  },
  {
   "cell_type": "code",
   "execution_count": 7,
   "metadata": {},
   "outputs": [],
   "source": [
    "x_qnn = np.linspace(-np.pi/2, np.pi/2, 100).reshape(-1,1)\n",
    "x_qnn_stacked = np.hstack([x_qnn,x_qnn,x_qnn,x_qnn])\n",
    "\n",
    "x_dnn = 3*x_qnn_stacked"
   ]
  },
  {
   "cell_type": "code",
   "execution_count": 8,
   "metadata": {},
   "outputs": [],
   "source": [
    "np.random.seed(42)\n",
    "qnn_1_list = []\n",
    "qnn_4_list = []\n",
    "qnn_8_list = []\n",
    "dnn_list = []\n",
    "for i in range(5):    \n",
    "    qnn_1 = sequential_qnn(n_qubits = [4],\n",
    "                          dim = [1,1],\n",
    "                          encoder = Encoder(),\n",
    "                          ansatz = Ansatz(blocks=[\"entangle\", \"ry\"], reps=2),\n",
    "                          sampler = Parity(),\n",
    "                          shots = 0)\n",
    "    \n",
    "    qnn_4 = sequential_qnn(n_qubits = [4],\n",
    "                         dim = [4,1],\n",
    "                         encoder = Encoder(),\n",
    "                         ansatz = Ansatz(blocks=[\"entangle\", \"ry\"], reps=2),\n",
    "                         sampler = Parity(),\n",
    "                         shots = 0)\n",
    "    \n",
    "    qnn_8 = sequential_qnn(n_qubits = [8],\n",
    "                         dim = [8,1],\n",
    "                         encoder = Encoder(),\n",
    "                         ansatz = Ansatz(blocks=[\"entangle\", \"ry\"], reps=2),\n",
    "                         sampler = Parity(),\n",
    "                         shots = 0)\n",
    "    \n",
    "    \n",
    "    dnn = sequential_dnn(dim = [4,1])\n",
    "    \n",
    "    qnn_1_list.append(qnn_1)\n",
    "    qnn_4_list.append(qnn_4)\n",
    "    qnn_8_list.append(qnn_8)\n",
    "    dnn_list.append(dnn)    "
   ]
  },
  {
   "cell_type": "code",
   "execution_count": 9,
   "metadata": {},
   "outputs": [],
   "source": [
    "y_pred_qnn_1 = [qnn.predict(x_qnn) for qnn in qnn_1_list]"
   ]
  },
  {
   "cell_type": "code",
   "execution_count": 10,
   "metadata": {},
   "outputs": [],
   "source": [
    "y_pred_qnn_4 = [qnn.predict(x_qnn_stacked) for qnn in qnn_4_list]"
   ]
  },
  {
   "cell_type": "code",
   "execution_count": 11,
   "metadata": {},
   "outputs": [],
   "source": [
    "y_pred_qnn_8 = [qnn.predict(x_qnn_stacked) for qnn in qnn_8_list]"
   ]
  },
  {
   "cell_type": "code",
   "execution_count": 12,
   "metadata": {},
   "outputs": [
    {
     "ename": "ValueError",
     "evalue": "matmul: Input operand 1 has a mismatch in its core dimension 0, with gufunc signature (n?,k),(k,m?)->(n?,m?) (size 4 is different from 1)",
     "output_type": "error",
     "traceback": [
      "\u001b[0;31m---------------------------------------------------------------------------\u001b[0m",
      "\u001b[0;31mValueError\u001b[0m                                Traceback (most recent call last)",
      "\u001b[0;32m<ipython-input-12-02d8a07c44c1>\u001b[0m in \u001b[0;36m<module>\u001b[0;34m\u001b[0m\n\u001b[0;32m----> 1\u001b[0;31m \u001b[0my_pred_dnn\u001b[0m \u001b[0;34m=\u001b[0m \u001b[0;34m[\u001b[0m\u001b[0mdnn\u001b[0m\u001b[0;34m.\u001b[0m\u001b[0mpredict\u001b[0m\u001b[0;34m(\u001b[0m\u001b[0mx_dnn\u001b[0m\u001b[0;34m)\u001b[0m \u001b[0;32mfor\u001b[0m \u001b[0mdnn\u001b[0m \u001b[0;32min\u001b[0m \u001b[0mdnn_list\u001b[0m\u001b[0;34m]\u001b[0m\u001b[0;34m\u001b[0m\u001b[0;34m\u001b[0m\u001b[0m\n\u001b[0m",
      "\u001b[0;32m<ipython-input-12-02d8a07c44c1>\u001b[0m in \u001b[0;36m<listcomp>\u001b[0;34m(.0)\u001b[0m\n\u001b[0;32m----> 1\u001b[0;31m \u001b[0my_pred_dnn\u001b[0m \u001b[0;34m=\u001b[0m \u001b[0;34m[\u001b[0m\u001b[0mdnn\u001b[0m\u001b[0;34m.\u001b[0m\u001b[0mpredict\u001b[0m\u001b[0;34m(\u001b[0m\u001b[0mx_dnn\u001b[0m\u001b[0;34m)\u001b[0m \u001b[0;32mfor\u001b[0m \u001b[0mdnn\u001b[0m \u001b[0;32min\u001b[0m \u001b[0mdnn_list\u001b[0m\u001b[0;34m]\u001b[0m\u001b[0;34m\u001b[0m\u001b[0;34m\u001b[0m\u001b[0m\n\u001b[0m",
      "\u001b[0;32m~/Documents/Master-Thesis/src/neuralnetwork.py\u001b[0m in \u001b[0;36mpredict\u001b[0;34m(self, x, verbose)\u001b[0m\n\u001b[1;32m     44\u001b[0m \u001b[0;34m\u001b[0m\u001b[0m\n\u001b[1;32m     45\u001b[0m     \u001b[0;32mdef\u001b[0m \u001b[0mpredict\u001b[0m\u001b[0;34m(\u001b[0m\u001b[0mself\u001b[0m\u001b[0;34m,\u001b[0m \u001b[0mx\u001b[0m\u001b[0;34m,\u001b[0m \u001b[0mverbose\u001b[0m\u001b[0;34m=\u001b[0m\u001b[0;32mFalse\u001b[0m\u001b[0;34m)\u001b[0m\u001b[0;34m:\u001b[0m\u001b[0;34m\u001b[0m\u001b[0;34m\u001b[0m\u001b[0m\n\u001b[0;32m---> 46\u001b[0;31m         \u001b[0mself\u001b[0m\u001b[0;34m(\u001b[0m\u001b[0mx\u001b[0m\u001b[0;34m,\u001b[0m \u001b[0mverbose\u001b[0m\u001b[0;34m=\u001b[0m\u001b[0mverbose\u001b[0m\u001b[0;34m)\u001b[0m\u001b[0;34m\u001b[0m\u001b[0;34m\u001b[0m\u001b[0m\n\u001b[0m\u001b[1;32m     47\u001b[0m         \u001b[0;32mreturn\u001b[0m \u001b[0mself\u001b[0m\u001b[0;34m.\u001b[0m\u001b[0ma\u001b[0m\u001b[0;34m[\u001b[0m\u001b[0;34m-\u001b[0m\u001b[0;36m1\u001b[0m\u001b[0;34m]\u001b[0m\u001b[0;34m\u001b[0m\u001b[0;34m\u001b[0m\u001b[0m\n\u001b[1;32m     48\u001b[0m \u001b[0;34m\u001b[0m\u001b[0m\n",
      "\u001b[0;32m~/Documents/Master-Thesis/src/neuralnetwork.py\u001b[0m in \u001b[0;36m__call__\u001b[0;34m(self, x, verbose)\u001b[0m\n\u001b[1;32m     40\u001b[0m         \u001b[0mself\u001b[0m\u001b[0;34m.\u001b[0m\u001b[0ma\u001b[0m\u001b[0;34m.\u001b[0m\u001b[0mappend\u001b[0m\u001b[0;34m(\u001b[0m\u001b[0mx\u001b[0m\u001b[0;34m)\u001b[0m\u001b[0;34m\u001b[0m\u001b[0;34m\u001b[0m\u001b[0m\n\u001b[1;32m     41\u001b[0m         \u001b[0;32mfor\u001b[0m \u001b[0mlayer\u001b[0m \u001b[0;32min\u001b[0m \u001b[0mdecerator\u001b[0m\u001b[0;34m(\u001b[0m\u001b[0mself\u001b[0m\u001b[0;34m.\u001b[0m\u001b[0mlayers\u001b[0m\u001b[0;34m)\u001b[0m\u001b[0;34m:\u001b[0m\u001b[0;34m\u001b[0m\u001b[0;34m\u001b[0m\u001b[0m\n\u001b[0;32m---> 42\u001b[0;31m             \u001b[0mx\u001b[0m \u001b[0;34m=\u001b[0m \u001b[0mlayer\u001b[0m\u001b[0;34m(\u001b[0m\u001b[0mx\u001b[0m\u001b[0;34m)\u001b[0m\u001b[0;34m\u001b[0m\u001b[0;34m\u001b[0m\u001b[0m\n\u001b[0m\u001b[1;32m     43\u001b[0m             \u001b[0mself\u001b[0m\u001b[0;34m.\u001b[0m\u001b[0ma\u001b[0m\u001b[0;34m.\u001b[0m\u001b[0mappend\u001b[0m\u001b[0;34m(\u001b[0m\u001b[0mx\u001b[0m\u001b[0;34m)\u001b[0m\u001b[0;34m\u001b[0m\u001b[0;34m\u001b[0m\u001b[0m\n\u001b[1;32m     44\u001b[0m \u001b[0;34m\u001b[0m\u001b[0m\n",
      "\u001b[0;32m~/Documents/Master-Thesis/src/layers.py\u001b[0m in \u001b[0;36m__call__\u001b[0;34m(self, inputs)\u001b[0m\n\u001b[1;32m     19\u001b[0m \u001b[0;34m\u001b[0m\u001b[0m\n\u001b[1;32m     20\u001b[0m     \u001b[0;32mdef\u001b[0m \u001b[0m__call__\u001b[0m\u001b[0;34m(\u001b[0m\u001b[0mself\u001b[0m\u001b[0;34m,\u001b[0m \u001b[0minputs\u001b[0m\u001b[0;34m)\u001b[0m\u001b[0;34m:\u001b[0m\u001b[0;34m\u001b[0m\u001b[0;34m\u001b[0m\u001b[0m\n\u001b[0;32m---> 21\u001b[0;31m         \u001b[0mx\u001b[0m \u001b[0;34m=\u001b[0m \u001b[0minputs\u001b[0m \u001b[0;34m@\u001b[0m \u001b[0mself\u001b[0m\u001b[0;34m.\u001b[0m\u001b[0mweight\u001b[0m\u001b[0;34m[\u001b[0m\u001b[0;34m:\u001b[0m\u001b[0mself\u001b[0m\u001b[0;34m.\u001b[0m\u001b[0mn_features\u001b[0m\u001b[0;34m]\u001b[0m\u001b[0;34m\u001b[0m\u001b[0;34m\u001b[0m\u001b[0m\n\u001b[0m\u001b[1;32m     22\u001b[0m         \u001b[0;32mif\u001b[0m \u001b[0mself\u001b[0m\u001b[0;34m.\u001b[0m\u001b[0mbias\u001b[0m\u001b[0;34m:\u001b[0m\u001b[0;34m\u001b[0m\u001b[0;34m\u001b[0m\u001b[0m\n\u001b[1;32m     23\u001b[0m             \u001b[0mx\u001b[0m \u001b[0;34m+=\u001b[0m \u001b[0mself\u001b[0m\u001b[0;34m.\u001b[0m\u001b[0mweight\u001b[0m\u001b[0;34m[\u001b[0m\u001b[0;34m-\u001b[0m\u001b[0;36m1\u001b[0m\u001b[0;34m]\u001b[0m\u001b[0;34m.\u001b[0m\u001b[0mreshape\u001b[0m\u001b[0;34m(\u001b[0m\u001b[0;36m1\u001b[0m\u001b[0;34m,\u001b[0m \u001b[0;34m-\u001b[0m\u001b[0;36m1\u001b[0m\u001b[0;34m)\u001b[0m\u001b[0;34m\u001b[0m\u001b[0;34m\u001b[0m\u001b[0m\n",
      "\u001b[0;31mValueError\u001b[0m: matmul: Input operand 1 has a mismatch in its core dimension 0, with gufunc signature (n?,k),(k,m?)->(n?,m?) (size 4 is different from 1)"
     ]
    }
   ],
   "source": [
    "y_pred_dnn = [dnn.predict(x_dnn) for dnn in dnn_list]"
   ]
  },
  {
   "cell_type": "markdown",
   "metadata": {},
   "source": [
    "### Plot"
   ]
  },
  {
   "cell_type": "code",
   "execution_count": 28,
   "metadata": {},
   "outputs": [
    {
     "data": {
      "image/png": "[encoded data removed]",
      "text/plain": [
       "<Figure size 780x520 with 1 Axes>"
      ]
     },
     "metadata": {},
     "output_type": "display_data"
    }
   ],
   "source": [
    "fig=plt.figure(figsize=(6,4), dpi = 130, facecolor='w', edgecolor='k')\n",
    "plt.plot(x_qnn, y_pred_qnn_4[0])\n",
    "plt.plot(x_qnn, y_pred_qnn_4[1])\n",
    "plt.plot(x_qnn, y_pred_qnn_4[2])\n",
    "plt.plot(x_qnn, y_pred_qnn_4[3])\n",
    "plt.plot(x_qnn, y_pred_qnn_4[4])\n",
    "plt.xlabel(\"Activation\")\n",
    "plt.ylabel(\"x\")\n",
    "plt.grid()\n",
    "plt.ylim([0,1])\n",
    "fig.savefig(image_path(\"activation_qnn_4.pdf\"), bbox_inches='tight')\n",
    "plt.show()"
   ]
  },
  {
   "cell_type": "code",
   "execution_count": 29,
   "metadata": {},
   "outputs": [
    {
     "data": {
      "image/png": "[encoded data removed]",
      "text/plain": [
       "<Figure size 780x520 with 1 Axes>"
      ]
     },
     "metadata": {},
     "output_type": "display_data"
    }
   ],
   "source": [
    "fig=plt.figure(figsize=(6,4), dpi = 130, facecolor='w', edgecolor='k')\n",
    "plt.plot(x_qnn, y_pred_qnn_8[0])\n",
    "plt.plot(x_qnn, y_pred_qnn_8[1])\n",
    "plt.plot(x_qnn, y_pred_qnn_8[2])\n",
    "plt.plot(x_qnn, y_pred_qnn_8[3])\n",
    "plt.plot(x_qnn, y_pred_qnn_8[4])\n",
    "plt.xlabel(\"Activation\")\n",
    "plt.ylabel(\"x\")\n",
    "plt.grid()\n",
    "plt.ylim([0,1])\n",
    "fig.savefig(image_path(\"activation_qnn_8.pdf\"), bbox_inches='tight')\n",
    "plt.show()"
   ]
  },
  {
   "cell_type": "code",
   "execution_count": 26,
   "metadata": {},
   "outputs": [
    {
     "data": {
      "image/png": "[encoded data removed]",
      "text/plain": [
       "<Figure size 780x520 with 1 Axes>"
      ]
     },
     "metadata": {},
     "output_type": "display_data"
    }
   ],
   "source": [
    "fig=plt.figure(figsize=(6,4), dpi = 130, facecolor='w', edgecolor='k')\n",
    "plt.plot(x_dnn, y_pred_dnn[0])\n",
    "plt.plot(x_dnn, y_pred_dnn[1])\n",
    "plt.plot(x_dnn, y_pred_dnn[2])\n",
    "plt.plot(x_dnn, y_pred_dnn[3])\n",
    "plt.plot(x_dnn, y_pred_dnn[4])\n",
    "plt.xlabel(\"Activation\")\n",
    "plt.ylabel(\"x\")\n",
    "plt.grid()\n",
    "fig.savefig(image_path(\"activation_dnn.pdf\"), bbox_inches='tight')\n",
    "plt.show()"
   ]
  },
  {
   "cell_type": "markdown",
   "metadata": {},
   "source": [
    "## Trajectory Length"
   ]
  },
  {
   "cell_type": "code",
   "execution_count": 4,
   "metadata": {},
   "outputs": [],
   "source": [
    "theta = np.linspace(0, 2*np.pi, 1000)\n",
    "theta = np.append(theta, theta[0:1]).reshape(-1,1)\n",
    "\n",
    "x1 = np.pi*np.cos(theta)/2\n",
    "x2 = np.pi*np.sin(theta)/2\n",
    "x_qcn = np.hstack([x1, x2])\n",
    "x_dnn = scaler(x_qcn, mode=\"standard\")"
   ]
  },
  {
   "cell_type": "code",
   "execution_count": 5,
   "metadata": {},
   "outputs": [
    {
     "data": {
      "image/png": "[encoded data removed]",
      "text/plain": [
       "<Figure size 432x288 with 1 Axes>"
      ]
     },
     "metadata": {
      "needs_background": "light"
     },
     "output_type": "display_data"
    }
   ],
   "source": [
    "plt.plot(x_qcn[:,0], x_qcn[:,1])\n",
    "plt.show()"
   ]
  },
  {
   "cell_type": "markdown",
   "metadata": {},
   "source": [
    "## Random Initialization"
   ]
  },
  {
   "cell_type": "markdown",
   "metadata": {},
   "source": [
    "### QCN"
   ]
  },
  {
   "cell_type": "code",
   "execution_count": 9,
   "metadata": {},
   "outputs": [
    {
     "name": "stdout",
     "output_type": "stream",
     "text": [
      "7\n"
     ]
    }
   ],
   "source": [
    "np.random.seed(42)\n",
    "\n",
    "tl_list = []\n",
    "for i in range(10):\n",
    "    qcn = sequential_qnn(n_qubits = 8*[4],\n",
    "                             dim = [2] + *[4],\n",
    "                             scale = 8*[[-np.pi, np.pi]],\n",
    "                             encoder = Encoder(),\n",
    "                             ansatz = Ansatz(blocks=[\"entangle\", \"ry\"], reps=2),\n",
    "                             sampler = Parity(),\n",
    "                             shots = 0)\n",
    "\n",
    "\n",
    "    tl = TrajectoryLength(qcn)\n",
    "    tl_list.append([tl, x_qcn])\n",
    "\n",
    "print(qcn.n_parameters)"
   ]
  },
  {
   "cell_type": "code",
   "execution_count": null,
   "metadata": {},
   "outputs": [],
   "source": [
    "with mp.Pool(10) as p:\n",
    "    tl_list = p.map(parallel_fit, tl_list)\n",
    "    \n",
    "saver(tl_list, data_path(\"tl_expressivity_width_4_reps_2\"))"
   ]
  },
  {
   "cell_type": "code",
   "execution_count": 18,
   "metadata": {},
   "outputs": [
    {
     "name": "stdout",
     "output_type": "stream",
     "text": [
      "350\n"
     ]
    }
   ],
   "source": [
    "np.random.seed(42)\n",
    "\n",
    "tl_list = []\n",
    "for i in range(10):\n",
    "    qcn = sequential_qnn(n_qubits = 8*[5],\n",
    "                             dim = [5] + 7*[5],\n",
    "                             scale = 8*[[-np.pi, np.pi]],\n",
    "                             encoder = Encoder(),\n",
    "                             ansatz = Ansatz(blocks=[\"entangle\", \"ry\"], reps=2),\n",
    "                             sampler = Parity(),\n",
    "                             shots = 0)\n",
    "\n",
    "\n",
    "    tl = TrajectoryLength(qcn)\n",
    "    tl_list.append([tl, x_qcn])\n",
    "\n",
    "print(qcn.n_parameters)"
   ]
  },
  {
   "cell_type": "code",
   "execution_count": null,
   "metadata": {},
   "outputs": [],
   "source": [
    "with mp.Pool(10) as p:\n",
    "    tl_list = p.map(parallel_fit, tl_list)\n",
    "    \n",
    "saver(tl_list, data_path(\"tl_expressivity_width_5_reps_2\"))"
   ]
  },
  {
   "cell_type": "code",
   "execution_count": 19,
   "metadata": {},
   "outputs": [
    {
     "name": "stdout",
     "output_type": "stream",
     "text": [
      "504\n"
     ]
    }
   ],
   "source": [
    "np.random.seed(42)\n",
    "\n",
    "tl_list = []\n",
    "for i in range(10):\n",
    "    qcn = sequential_qnn(n_qubits = 8*[6],\n",
    "                             dim = [2] + 7*[6],\n",
    "                             scale = 8*[[-np.pi, np.pi]],\n",
    "                             encoder = Encoder(),\n",
    "                             ansatz = Ansatz(blocks=[\"entangle\", \"ry\"], reps=2),\n",
    "                             sampler = Parity(),\n",
    "                             shots = 0)\n",
    "\n",
    "\n",
    "    tl = TrajectoryLength(qcn)\n",
    "    tl_list.append([tl, x_qcn])\n",
    "\n",
    "print(qcn.n_parameters)"
   ]
  },
  {
   "cell_type": "code",
   "execution_count": null,
   "metadata": {},
   "outputs": [],
   "source": [
    "with mp.Pool(10) as p:\n",
    "    tl_list = p.map(parallel_fit, tl_list)\n",
    "    \n",
    "saver(tl_list, data_path(\"tl_expressivity_width_6_reps_2\"))"
   ]
  },
  {
   "cell_type": "code",
   "execution_count": 20,
   "metadata": {},
   "outputs": [
    {
     "name": "stdout",
     "output_type": "stream",
     "text": [
      "686\n"
     ]
    }
   ],
   "source": [
    "np.random.seed(42)\n",
    "\n",
    "tl_list = []\n",
    "for i in range(10):\n",
    "    qcn = sequential_qnn(n_qubits = 8*[7],\n",
    "                             dim = [2] + 7*[7],\n",
    "                             scale = 8*[[-np.pi, np.pi]],\n",
    "                             encoder = Encoder(),\n",
    "                             ansatz = Ansatz(blocks=[\"entangle\", \"ry\"], reps=2),\n",
    "                             sampler = Parity(),\n",
    "                             shots = 0)\n",
    "\n",
    "\n",
    "    tl = TrajectoryLength(qcn)\n",
    "    tl_list.append([tl, x_qcn])\n",
    "\n",
    "print(qcn.n_parameters)"
   ]
  },
  {
   "cell_type": "code",
   "execution_count": null,
   "metadata": {},
   "outputs": [],
   "source": [
    "with mp.Pool(10) as p:\n",
    "    tl_list = p.map(parallel_fit, tl_list)\n",
    "    \n",
    "saver(tl_list, data_path(\"tl_expressivity_width_7_reps_2\"))"
   ]
  },
  {
   "cell_type": "code",
   "execution_count": 21,
   "metadata": {},
   "outputs": [
    {
     "name": "stdout",
     "output_type": "stream",
     "text": [
      "896\n"
     ]
    }
   ],
   "source": [
    "np.random.seed(42)\n",
    "\n",
    "tl_list = []\n",
    "for i in range(10):\n",
    "    qcn = sequential_qnn(n_qubits = 8*[8],\n",
    "                             dim = [2] + 7*[8],\n",
    "                             scale = 8*[[-np.pi, np.pi]],\n",
    "                             encoder = Encoder(),\n",
    "                             ansatz = Ansatz(blocks=[\"entangle\", \"ry\"], reps=2),\n",
    "                             sampler = Parity(),\n",
    "                             shots = 0)\n",
    "\n",
    "\n",
    "    tl = TrajectoryLength(qcn)\n",
    "    tl_list.append([tl, x_qcn])\n",
    "\n",
    "print(qcn.n_parameters)"
   ]
  },
  {
   "cell_type": "code",
   "execution_count": null,
   "metadata": {},
   "outputs": [],
   "source": [
    "with mp.Pool(10) as p:\n",
    "    tl_list = p.map(parallel_fit, tl_list)\n",
    "    \n",
    "saver(tl_list, data_path(\"tl_expressivity_width_8_reps_2\"))"
   ]
  },
  {
   "cell_type": "markdown",
   "metadata": {},
   "source": [
    "### DNN"
   ]
  },
  {
   "cell_type": "code",
   "execution_count": 25,
   "metadata": {},
   "outputs": [
    {
     "name": "stdout",
     "output_type": "stream",
     "text": [
      "825\n"
     ]
    }
   ],
   "source": [
    "np.random.seed(42)\n",
    "\n",
    "tl_list = []\n",
    "for i in range(10):\n",
    "    dnn = sequential_dnn(dim=[2] + 7*[11])\n",
    "\n",
    "\n",
    "    tl = TrajectoryLength(dnn)\n",
    "    tl_list.append([tl, x_dnn])\n",
    "\n",
    "print(dnn.n_parameters)\n",
    "    \n",
    "with mp.Pool(10) as p:\n",
    "    tl_list = p.map(parallel_fit, tl_list)\n",
    "\n",
    "saver(tl_list, data_path(\"tl_expressivity_dnn\"))"
   ]
  },
  {
   "cell_type": "markdown",
   "metadata": {},
   "source": [
    "## Training"
   ]
  },
  {
   "cell_type": "code",
   "execution_count": 26,
   "metadata": {},
   "outputs": [],
   "source": [
    "np.random.seed(42)\n",
    "\n",
    "n = 12\n",
    "x = np.linspace(0, 1, n)\n",
    "x = generate_meshgrid([x,x])\n",
    "\n",
    "mean1 = np.array([[0.2, 0.8]])\n",
    "var1 = np.array([[0.01, 0], [0, 0.01]])\n",
    "\n",
    "mean2 = np.array([[0.5, 0.8]])\n",
    "var2 = np.array([[0.01, 0], [0, 0.01]])\n",
    "\n",
    "mean3 = np.array([[0.8, 0.8]])\n",
    "var3 = np.array([[0.01, 0], [0, 0.01]])\n",
    "\n",
    "mean4 = np.array([[0.2, 0.5]])\n",
    "var4 = np.array([[0.01, 0], [0, 0.01]])\n",
    "\n",
    "mean5 = np.array([[0.5, 0.5]])\n",
    "var5 = np.array([[0.01, 0], [0, 0.01]])\n",
    "\n",
    "mean6 = np.array([[0.8, 0.5]])\n",
    "var6 = np.array([[0.01, 0], [0, 0.01]])\n",
    "\n",
    "mean7 = np.array([[0.2, 0.2]])\n",
    "var7 = np.array([[0.01, 0], [0, 0.01]])\n",
    "\n",
    "mean8 = np.array([[0.5, 0.2]])\n",
    "var8 = np.array([[0.01, 0], [0, 0.01]])\n",
    "\n",
    "mean9 = np.array([[0.8, 0.2]])\n",
    "var9 = np.array([[0.01, 0], [0, 0.01]])\n",
    "\n",
    "\n",
    "y = gaussian(x, mean1, var1) - gaussian(x, mean2, var2) + gaussian(x, mean3, var3) - gaussian(x, mean4, var4) +\\\n",
    "gaussian(x, mean5, var5) - gaussian(x, mean6, var6) + gaussian(x, mean7, var7) - gaussian(x, mean8, var8) +\\\n",
    "gaussian(x, mean9, var9)\n",
    "\n",
    "\n",
    "x_train_qcn = scaler(x, a=-np.pi/2, b=np.pi/2)\n",
    "x_train_dnn = scaler(x, mode=\"standard\")\n",
    "y = scaler(y, a=0, b=1)"
   ]
  },
  {
   "cell_type": "code",
   "execution_count": 27,
   "metadata": {},
   "outputs": [
    {
     "data": {
      "image/png": "[encoded data removed]",
      "text/plain": [
       "<Figure size 432x288 with 1 Axes>"
      ]
     },
     "metadata": {
      "needs_background": "light"
     },
     "output_type": "display_data"
    }
   ],
   "source": [
    "plt.imshow(y.reshape(n,n))\n",
    "plt.show()"
   ]
  },
  {
   "cell_type": "markdown",
   "metadata": {},
   "source": [
    "## QCN"
   ]
  },
  {
   "cell_type": "markdown",
   "metadata": {},
   "source": [
    "## 6 Qubits"
   ]
  },
  {
   "cell_type": "code",
   "execution_count": 29,
   "metadata": {},
   "outputs": [
    {
     "name": "stdout",
     "output_type": "stream",
     "text": [
      "228\n"
     ]
    }
   ],
   "source": [
    "np.random.seed(42)\n",
    "\n",
    "qcn_list = []\n",
    "for i in range(10):\n",
    "    qcn = sequential_qnn(n_qubits = [6, 6, 6, 6],\n",
    "                         dim = [2, 6, 6, 6, 1] ,\n",
    "                         scale = 3*[[-np.pi, np.pi]] + [[0,1]],\n",
    "                         encoder = Encoder(),\n",
    "                         ansatz = Ansatz(blocks=[\"entangle\", \"ry\"], reps=2),\n",
    "                         sampler = Parity(),\n",
    "                         shots = 0,\n",
    "                         optimizer=Adam(lr=0.1))\n",
    "    \n",
    "    qcn_list.append([qcn, x_train_qcn, y, False])\n",
    "\n",
    "    \n",
    "qcn_list[0][3] = True\n",
    "print(qcn_list[0][0].n_parameters)\n",
    "\n",
    "saver(qcn_list, data_path(\"network_expressivity_qubit_6_epochs_0\"))"
   ]
  },
  {
   "cell_type": "markdown",
   "metadata": {},
   "source": [
    "#### Train Incrementally"
   ]
  },
  {
   "cell_type": "code",
   "execution_count": 72,
   "metadata": {},
   "outputs": [
    {
     "name": "stdout",
     "output_type": "stream",
     "text": [
      "epoch: 0, loss: 0.05654377988058121\n",
      "epoch: 1, loss: 0.0972733490024423\n",
      "epoch: 2, loss: 0.05657048847353399\n",
      "epoch: 3, loss: 0.05031032560070944\n",
      "epoch: 4, loss: 0.04694753915535017\n"
     ]
    }
   ],
   "source": [
    "#qcn_list = loader(data_path(\"network_expressivity_qubit_6_epochs_0\"))\n",
    "with mp.Pool(10) as p:\n",
    "    qcn_list = p.map(parallel_train, qcn_list)\n",
    "    \n",
    "saver(qcn_list, data_path(\"network_expressivity_qubit_6_epochs_5\"))"
   ]
  },
  {
   "cell_type": "code",
   "execution_count": 41,
   "metadata": {},
   "outputs": [
    {
     "name": "stdout",
     "output_type": "stream",
     "text": [
      "0.04521848635951677\n"
     ]
    }
   ],
   "source": [
    "qcn_list = loader(data_path(\"network_expressivity_qubit_6_epochs_5\"))\n",
    "print(average_loss(qcn_list))"
   ]
  },
  {
   "cell_type": "code",
   "execution_count": 73,
   "metadata": {},
   "outputs": [
    {
     "name": "stdout",
     "output_type": "stream",
     "text": [
      "epoch: 0, loss: 0.0452744838285783\n",
      "epoch: 1, loss: 0.045250080065307605\n",
      "epoch: 2, loss: 0.04269749947982572\n",
      "epoch: 3, loss: 0.040177393739772665\n",
      "epoch: 4, loss: 0.036593338274931525\n"
     ]
    }
   ],
   "source": [
    "with mp.Pool(10) as p:\n",
    "    qcn_list = p.map(parallel_train, qcn_list)\n",
    "    \n",
    "saver(qcn_list, data_path(\"network_expressivity_qubit_6_epochs_10\"))"
   ]
  },
  {
   "cell_type": "code",
   "execution_count": 42,
   "metadata": {},
   "outputs": [
    {
     "name": "stdout",
     "output_type": "stream",
     "text": [
      "0.02902923578679978\n"
     ]
    }
   ],
   "source": [
    "qcn_list = loader(data_path(\"network_expressivity_qubit_6_epochs_10\"))\n",
    "print(average_loss(qcn_list))"
   ]
  },
  {
   "cell_type": "code",
   "execution_count": 74,
   "metadata": {},
   "outputs": [
    {
     "name": "stdout",
     "output_type": "stream",
     "text": [
      "epoch: 0, loss: 0.03475627989018616\n",
      "epoch: 1, loss: 0.03456850521433748\n",
      "epoch: 2, loss: 0.03180785494819913\n",
      "epoch: 3, loss: 0.030148350953935518\n",
      "epoch: 4, loss: 0.028895244601856607\n"
     ]
    }
   ],
   "source": [
    "with mp.Pool(10) as p:\n",
    "    qcn_list = p.map(parallel_train, qcn_list)\n",
    "    \n",
    "saver(qcn_list, data_path(\"network_expressivity_qubit_6_epochs_15\"))"
   ]
  },
  {
   "cell_type": "code",
   "execution_count": 43,
   "metadata": {},
   "outputs": [
    {
     "name": "stdout",
     "output_type": "stream",
     "text": [
      "0.020919204540285882\n"
     ]
    }
   ],
   "source": [
    "qcn_list = loader(data_path(\"network_expressivity_qubit_6_epochs_15\"))\n",
    "print(average_loss(qcn_list))"
   ]
  },
  {
   "cell_type": "code",
   "execution_count": 75,
   "metadata": {},
   "outputs": [
    {
     "name": "stdout",
     "output_type": "stream",
     "text": [
      "epoch: 0, loss: 0.02749442679033217\n",
      "epoch: 1, loss: 0.027417358158640735\n",
      "epoch: 2, loss: 0.0295206173147267\n",
      "epoch: 3, loss: 0.026663514786300926\n",
      "epoch: 4, loss: 0.023664468825625957\n"
     ]
    }
   ],
   "source": [
    "with mp.Pool(10) as p:\n",
    "    qcn_list = p.map(parallel_train, qcn_list)\n",
    "    \n",
    "saver(qcn_list, data_path(\"network_expressivity_qubit_6_epochs_20\"))"
   ]
  },
  {
   "cell_type": "code",
   "execution_count": 44,
   "metadata": {},
   "outputs": [
    {
     "name": "stdout",
     "output_type": "stream",
     "text": [
      "0.01622510431548737\n"
     ]
    }
   ],
   "source": [
    "qcn_list = loader(data_path(\"network_expressivity_qubit_6_epochs_20\"))\n",
    "print(average_loss(qcn_list)) "
   ]
  },
  {
   "cell_type": "code",
   "execution_count": 81,
   "metadata": {},
   "outputs": [
    {
     "name": "stdout",
     "output_type": "stream",
     "text": [
      "epoch: 0, loss: 0.0249272444138415\n",
      "epoch: 1, loss: 0.022233104905751325\n",
      "epoch: 2, loss: 0.02018659609648645\n",
      "epoch: 3, loss: 0.019993330091378228\n",
      "epoch: 4, loss: 0.01791452433879763\n"
     ]
    }
   ],
   "source": [
    "with mp.Pool(10) as p:\n",
    "    qcn_list = p.map(parallel_train, qcn_list)\n",
    "    \n",
    "saver(qcn_list, data_path(\"network_expressivity_qubit_6_epochs_25\"))"
   ]
  },
  {
   "cell_type": "code",
   "execution_count": 45,
   "metadata": {},
   "outputs": [
    {
     "name": "stdout",
     "output_type": "stream",
     "text": [
      "0.012324969577849995\n"
     ]
    }
   ],
   "source": [
    "qcn_list = loader(data_path(\"network_expressivity_qubit_6_epochs_25\"))\n",
    "print(average_loss(qcn_list)) "
   ]
  },
  {
   "cell_type": "code",
   "execution_count": 82,
   "metadata": {},
   "outputs": [
    {
     "name": "stdout",
     "output_type": "stream",
     "text": [
      "epoch: 0, loss: 0.016563952318098634\n",
      "epoch: 1, loss: 0.01578101185626488\n",
      "epoch: 2, loss: 0.014963159944658652\n",
      "epoch: 3, loss: 0.015624311526258823\n",
      "epoch: 4, loss: 0.012766855338178286\n"
     ]
    }
   ],
   "source": [
    "with mp.Pool(10) as p:\n",
    "    qcn_list = p.map(parallel_train, qcn_list)\n",
    "    \n",
    "saver(qcn_list, data_path(\"network_expressivity_qubit_6_epochs_30\"))"
   ]
  },
  {
   "cell_type": "markdown",
   "metadata": {},
   "source": [
    "#### Calculate Trajectory"
   ]
  },
  {
   "cell_type": "code",
   "execution_count": 76,
   "metadata": {},
   "outputs": [],
   "source": [
    "qcn_list = loader(data_path(\"network_expressivity_qubit_6_epochs_0\"))\n",
    "tl_list = []\n",
    "for qcn in qcn_list:\n",
    "    tl = TrajectoryLength(qcn[0])\n",
    "    tl_list.append([tl, x_qcn])\n",
    "\n",
    "with mp.Pool(10) as p:\n",
    "    tl_list = p.map(parallel_fit, tl_list)\n",
    "    \n",
    "saver(tl_list, data_path(\"tl_expressivity_qubit_6_epochs_0\"))"
   ]
  },
  {
   "cell_type": "code",
   "execution_count": 77,
   "metadata": {},
   "outputs": [],
   "source": [
    "qcn_list = loader(data_path(\"network_expressivity_qubit_6_epochs_5\"))\n",
    "tl_list = []\n",
    "for qcn in qcn_list:\n",
    "    tl = TrajectoryLength(qcn[0])\n",
    "    tl_list.append([tl, x_qcn])\n",
    "\n",
    "with mp.Pool(10) as p:\n",
    "    tl_list = p.map(parallel_fit, tl_list)\n",
    "    \n",
    "saver(tl_list, data_path(\"tl_expressivity_qubit_6_epochs_5\"))"
   ]
  },
  {
   "cell_type": "code",
   "execution_count": 78,
   "metadata": {},
   "outputs": [],
   "source": [
    "qcn_list = loader(data_path(\"network_expressivity_qubit_6_epochs_10\"))\n",
    "tl_list = []\n",
    "for qcn in qcn_list:\n",
    "    tl = TrajectoryLength(qcn[0])\n",
    "    tl_list.append([tl, x_qcn])\n",
    "\n",
    "with mp.Pool(10) as p:\n",
    "    tl_list = p.map(parallel_fit, tl_list)\n",
    "    \n",
    "saver(tl_list, data_path(\"tl_expressivity_qubit_6_epochs_10\"))"
   ]
  },
  {
   "cell_type": "code",
   "execution_count": 79,
   "metadata": {},
   "outputs": [],
   "source": [
    "qcn_list = loader(data_path(\"network_expressivity_qubit_6_epochs_15\"))\n",
    "tl_list = []\n",
    "for qcn in qcn_list:\n",
    "    tl = TrajectoryLength(qcn[0])\n",
    "    tl_list.append([tl, x_qcn])\n",
    "\n",
    "with mp.Pool(10) as p:\n",
    "    tl_list = p.map(parallel_fit, tl_list)\n",
    "    \n",
    "saver(tl_list, data_path(\"tl_expressivity_qubit_6_epochs_15\"))"
   ]
  },
  {
   "cell_type": "code",
   "execution_count": 80,
   "metadata": {},
   "outputs": [],
   "source": [
    "qcn_list = loader(data_path(\"network_expressivity_qubit_6_epochs_20\"))\n",
    "tl_list = []\n",
    "for qcn in qcn_list:\n",
    "    tl = TrajectoryLength(qcn[0])\n",
    "    tl_list.append([tl, x_qcn])\n",
    "\n",
    "with mp.Pool(10) as p:\n",
    "    tl_list = p.map(parallel_fit, tl_list)\n",
    "    \n",
    "saver(tl_list, data_path(\"tl_expressivity_qubit_6_epochs_20\"))"
   ]
  },
  {
   "cell_type": "markdown",
   "metadata": {},
   "source": [
    "## 7 Qubits"
   ]
  },
  {
   "cell_type": "code",
   "execution_count": 30,
   "metadata": {},
   "outputs": [
    {
     "name": "stdout",
     "output_type": "stream",
     "text": [
      "308\n"
     ]
    }
   ],
   "source": [
    "np.random.seed(42)\n",
    "\n",
    "qcn_list = []\n",
    "for i in range(10):\n",
    "    qcn = sequential_qnn(n_qubits = [7, 7, 7, 7],\n",
    "                         dim = [2, 7, 7, 7, 1] ,\n",
    "                         scale = 3*[[-np.pi, np.pi]] + [[0,1]],\n",
    "                         encoder = Encoder(),\n",
    "                         ansatz = Ansatz(blocks=[\"entangle\", \"ry\"], reps=2),\n",
    "                         sampler = Parity(),\n",
    "                         shots = 0,\n",
    "                         optimizer=Adam(lr=0.1))\n",
    "    \n",
    "    qcn_list.append([qcn, x_train_qcn, y, False])\n",
    "\n",
    "    \n",
    "qcn_list[0][3] = True\n",
    "print(qcn_list[0][0].n_parameters)\n",
    "\n",
    "saver(qcn_list, data_path(\"network_expressivity_qubit_7_epochs_0\"))"
   ]
  },
  {
   "cell_type": "markdown",
   "metadata": {},
   "source": [
    "#### Train Incrementally"
   ]
  },
  {
   "cell_type": "code",
   "execution_count": 51,
   "metadata": {},
   "outputs": [
    {
     "name": "stdout",
     "output_type": "stream",
     "text": [
      "epoch: 0, loss: 0.06798381801571221\n",
      "epoch: 1, loss: 0.05331816396188982\n",
      "epoch: 2, loss: 0.05125219506956683\n",
      "epoch: 3, loss: 0.05010956662531096\n",
      "epoch: 4, loss: 0.046638740414932794\n"
     ]
    }
   ],
   "source": [
    "#qcn_list = loader(data_path(\"network_expressivity_qubit_7_epochs_0\"))\n",
    "with mp.Pool(10) as p:\n",
    "    qcn_list = p.map(parallel_train, qcn_list)\n",
    "    \n",
    "saver(qcn_list, data_path(\"network_expressivity_qubit_7_epochs_5\"))"
   ]
  },
  {
   "cell_type": "code",
   "execution_count": 46,
   "metadata": {},
   "outputs": [
    {
     "name": "stdout",
     "output_type": "stream",
     "text": [
      "0.0448371297755643\n"
     ]
    }
   ],
   "source": [
    "qcn_list = loader(data_path(\"network_expressivity_qubit_7_epochs_5\"))\n",
    "print(average_loss(qcn_list))"
   ]
  },
  {
   "cell_type": "code",
   "execution_count": 52,
   "metadata": {},
   "outputs": [
    {
     "name": "stdout",
     "output_type": "stream",
     "text": [
      "epoch: 0, loss: 0.045258926882639716\n",
      "epoch: 1, loss: 0.05040398827735972\n",
      "epoch: 2, loss: 0.03898033421686162\n",
      "epoch: 3, loss: 0.04715837712448168\n",
      "epoch: 4, loss: 0.04001302184219334\n"
     ]
    }
   ],
   "source": [
    "with mp.Pool(10) as p:\n",
    "    qcn_list = p.map(parallel_train, qcn_list)\n",
    "    \n",
    "saver(qcn_list, data_path(\"network_expressivity_qubit_7_epochs_10\")) "
   ]
  },
  {
   "cell_type": "code",
   "execution_count": 47,
   "metadata": {},
   "outputs": [
    {
     "name": "stdout",
     "output_type": "stream",
     "text": [
      "0.031099033517969294\n"
     ]
    }
   ],
   "source": [
    "qcn_list = loader(data_path(\"network_expressivity_qubit_7_epochs_10\"))\n",
    "print(average_loss(qcn_list)) "
   ]
  },
  {
   "cell_type": "code",
   "execution_count": 53,
   "metadata": {},
   "outputs": [
    {
     "name": "stdout",
     "output_type": "stream",
     "text": [
      "epoch: 0, loss: 0.03985350038173262\n",
      "epoch: 1, loss: 0.03646510825342882\n",
      "epoch: 2, loss: 0.03372550911948421\n",
      "epoch: 3, loss: 0.032760676228293546\n",
      "epoch: 4, loss: 0.02651280620449857\n"
     ]
    }
   ],
   "source": [
    "with mp.Pool(10) as p:\n",
    "    qcn_list = p.map(parallel_train, qcn_list)\n",
    "    \n",
    "saver(qcn_list, data_path(\"network_expressivity_qubit_7_epochs_15\"))"
   ]
  },
  {
   "cell_type": "code",
   "execution_count": 48,
   "metadata": {},
   "outputs": [
    {
     "name": "stdout",
     "output_type": "stream",
     "text": [
      "0.02101201788804541\n"
     ]
    }
   ],
   "source": [
    "qcn_list = loader(data_path(\"network_expressivity_qubit_7_epochs_15\"))\n",
    "print(average_loss(qcn_list))"
   ]
  },
  {
   "cell_type": "code",
   "execution_count": 54,
   "metadata": {},
   "outputs": [
    {
     "name": "stdout",
     "output_type": "stream",
     "text": [
      "epoch: 0, loss: 0.028412966068602163\n",
      "epoch: 1, loss: 0.02546112254741215\n",
      "epoch: 2, loss: 0.024081145758768976\n",
      "epoch: 3, loss: 0.022976949904997133\n",
      "epoch: 4, loss: 0.023004410534974058\n"
     ]
    }
   ],
   "source": [
    "with mp.Pool(10) as p:\n",
    "    qcn_list = p.map(parallel_train, qcn_list)\n",
    "    \n",
    "saver(qcn_list, data_path(\"network_expressivity_qubit_7_epochs_20\"))"
   ]
  },
  {
   "cell_type": "code",
   "execution_count": 49,
   "metadata": {},
   "outputs": [
    {
     "name": "stdout",
     "output_type": "stream",
     "text": [
      "0.015136297398253548\n"
     ]
    }
   ],
   "source": [
    "qcn_list = loader(data_path(\"network_expressivity_qubit_7_epochs_20\"))\n",
    "print(average_loss(qcn_list)) "
   ]
  },
  {
   "cell_type": "code",
   "execution_count": 83,
   "metadata": {},
   "outputs": [
    {
     "name": "stdout",
     "output_type": "stream",
     "text": [
      "epoch: 0, loss: 0.021025870642652742\n",
      "epoch: 1, loss: 0.020157670379551892\n",
      "epoch: 2, loss: 0.019453540501119866\n",
      "epoch: 3, loss: 0.01862901602895076\n",
      "epoch: 4, loss: 0.01820542239465746\n"
     ]
    }
   ],
   "source": [
    "with mp.Pool(10) as p:\n",
    "    qcn_list = p.map(parallel_train, qcn_list)\n",
    "    \n",
    "saver(qcn_list, data_path(\"network_expressivity_qubit_7_epochs_25\"))"
   ]
  },
  {
   "cell_type": "code",
   "execution_count": 50,
   "metadata": {},
   "outputs": [
    {
     "name": "stdout",
     "output_type": "stream",
     "text": [
      "0.011465429814983979\n"
     ]
    }
   ],
   "source": [
    "qcn_list = loader(data_path(\"network_expressivity_qubit_7_epochs_25\"))\n",
    "print(average_loss(qcn_list)) "
   ]
  },
  {
   "cell_type": "code",
   "execution_count": 84,
   "metadata": {},
   "outputs": [
    {
     "name": "stdout",
     "output_type": "stream",
     "text": [
      "epoch: 0, loss: 0.018100958798135343\n",
      "epoch: 1, loss: 0.017396469469671983\n",
      "epoch: 2, loss: 0.01660622821402736\n",
      "epoch: 3, loss: 0.015445347251013843\n",
      "epoch: 4, loss: 0.015075588878551384\n"
     ]
    }
   ],
   "source": [
    "with mp.Pool(10) as p:\n",
    "    qcn_list = p.map(parallel_train, qcn_list)\n",
    "    \n",
    "saver(qcn_list, data_path(\"network_expressivity_qubit_7_epochs_30\"))"
   ]
  },
  {
   "cell_type": "markdown",
   "metadata": {},
   "source": [
    "#### Calculate Trajectory"
   ]
  },
  {
   "cell_type": "code",
   "execution_count": 49,
   "metadata": {},
   "outputs": [],
   "source": [
    "qcn_list = loader(data_path(\"network_expressivity_qubit_7_epochs_0\"))\n",
    "tl_list = []\n",
    "for qcn in qcn_list:\n",
    "    tl = TrajectoryLength(qcn[0])\n",
    "    tl_list.append([tl, x_qcn])\n",
    "\n",
    "with mp.Pool(10) as p:\n",
    "    tl_list = p.map(parallel_fit, tl_list)\n",
    "    \n",
    "saver(tl_list, data_path(\"tl_expressivity_qubit_7_epochs_0\"))"
   ]
  },
  {
   "cell_type": "code",
   "execution_count": 55,
   "metadata": {},
   "outputs": [],
   "source": [
    "qcn_list = loader(data_path(\"network_expressivity_qubit_7_epochs_5\"))\n",
    "tl_list = []\n",
    "for qcn in qcn_list:\n",
    "    tl = TrajectoryLength(qcn[0])\n",
    "    tl_list.append([tl, x_qcn])\n",
    "\n",
    "with mp.Pool(10) as p:\n",
    "    tl_list = p.map(parallel_fit, tl_list)\n",
    "    \n",
    "saver(tl_list, data_path(\"tl_expressivity_qubit_7_epochs_5\"))"
   ]
  },
  {
   "cell_type": "code",
   "execution_count": 56,
   "metadata": {},
   "outputs": [],
   "source": [
    "qcn_list = loader(data_path(\"network_expressivity_qubit_7_epochs_10\"))\n",
    "tl_list = []\n",
    "for qcn in qcn_list:\n",
    "    tl = TrajectoryLength(qcn[0])\n",
    "    tl_list.append([tl, x_qcn])\n",
    "\n",
    "with mp.Pool(10) as p:\n",
    "    tl_list = p.map(parallel_fit, tl_list)\n",
    "    \n",
    "saver(tl_list, data_path(\"tl_expressivity_qubit_7_epochs_10\"))"
   ]
  },
  {
   "cell_type": "code",
   "execution_count": 57,
   "metadata": {},
   "outputs": [],
   "source": [
    "qcn_list = loader(data_path(\"network_expressivity_qubit_7_epochs_15\"))\n",
    "tl_list = []\n",
    "for qcn in qcn_list:\n",
    "    tl = TrajectoryLength(qcn[0])\n",
    "    tl_list.append([tl, x_qcn])\n",
    "\n",
    "with mp.Pool(10) as p:\n",
    "    tl_list = p.map(parallel_fit, tl_list)\n",
    "    \n",
    "saver(tl_list, data_path(\"tl_expressivity_qubit_7_epochs_15\"))"
   ]
  },
  {
   "cell_type": "code",
   "execution_count": 58,
   "metadata": {},
   "outputs": [],
   "source": [
    "qcn_list = loader(data_path(\"network_expressivity_qubit_7_epochs_20\"))\n",
    "tl_list = []\n",
    "for qcn in qcn_list:\n",
    "    tl = TrajectoryLength(qcn[0])\n",
    "    tl_list.append([tl, x_qcn])\n",
    "\n",
    "with mp.Pool(10) as p:\n",
    "    tl_list = p.map(parallel_fit, tl_list)\n",
    "    \n",
    "saver(tl_list, data_path(\"tl_expressivity_qubit_7_epochs_20\"))"
   ]
  },
  {
   "cell_type": "markdown",
   "metadata": {},
   "source": [
    "# DNN"
   ]
  },
  {
   "cell_type": "markdown",
   "metadata": {},
   "source": [
    "## 9 Nodes"
   ]
  },
  {
   "cell_type": "code",
   "execution_count": 295,
   "metadata": {},
   "outputs": [
    {
     "name": "stdout",
     "output_type": "stream",
     "text": [
      "217\n"
     ]
    }
   ],
   "source": [
    "np.random.seed(42)\n",
    "\n",
    "dnn_list = []\n",
    "for i in range(10):\n",
    "    dnn = sequential_dnn(dim=[2, 9, 9, 9, 1],\n",
    "                         optimizer=Adam(lr=0.1))\n",
    "    \n",
    "    dnn_list.append([dnn])\n",
    "\n",
    "print(dnn_list[0][0].n_parameters)\n",
    "\n",
    "saver(dnn_list, data_path(\"network_expressivity_nodes_9_epochs_0_dnn\"))"
   ]
  },
  {
   "cell_type": "markdown",
   "metadata": {},
   "source": [
    "### Train Incrementally"
   ]
  },
  {
   "cell_type": "code",
   "execution_count": 296,
   "metadata": {},
   "outputs": [
    {
     "name": "stdout",
     "output_type": "stream",
     "text": [
      "0.04480879259893274\n"
     ]
    }
   ],
   "source": [
    "dnn_list = loader(data_path(\"network_expressivity_nodes_9_epochs_0_dnn\"))\n",
    "for dnn in dnn_list:\n",
    "    dnn[0].train(x_train_dnn, y, epochs = 33)\n",
    "    \n",
    "print(average_loss(dnn_list))\n",
    "saver(dnn_list, data_path(\"network_expressivity_nodes_9_epochs_33_dnn\"))"
   ]
  },
  {
   "cell_type": "code",
   "execution_count": 297,
   "metadata": {},
   "outputs": [
    {
     "name": "stdout",
     "output_type": "stream",
     "text": [
      "0.02886201292988692\n"
     ]
    }
   ],
   "source": [
    "dnn_list = loader(data_path(\"network_expressivity_nodes_9_epochs_33_dnn\"))\n",
    "for dnn in dnn_list:\n",
    "    dnn[0].train(x_train_dnn, y, epochs = 35)\n",
    "    \n",
    "print(average_loss(dnn_list))\n",
    "saver(dnn_list, data_path(\"network_expressivity_nodes_9_epochs_68_dnn\"))"
   ]
  },
  {
   "cell_type": "code",
   "execution_count": 298,
   "metadata": {},
   "outputs": [
    {
     "name": "stdout",
     "output_type": "stream",
     "text": [
      "0.01981984008978557\n"
     ]
    }
   ],
   "source": [
    "dnn_list = loader(data_path(\"network_expressivity_nodes_9_epochs_68_dnn\"))\n",
    "for dnn in dnn_list:\n",
    "    dnn[0].train(x_train_dnn, y, epochs = 40)\n",
    "    \n",
    "print(average_loss(dnn_list))\n",
    "saver(dnn_list, data_path(\"network_expressivity_nodes_9_epochs_108_dnn\"))"
   ]
  },
  {
   "cell_type": "code",
   "execution_count": 299,
   "metadata": {},
   "outputs": [
    {
     "name": "stdout",
     "output_type": "stream",
     "text": [
      "0.015932645429274396\n"
     ]
    }
   ],
   "source": [
    "dnn_list = loader(data_path(\"network_expressivity_nodes_9_epochs_108_dnn\"))\n",
    "for dnn in dnn_list:\n",
    "    dnn[0].train(x_train_dnn, y, epochs = 32)\n",
    "    \n",
    "print(average_loss(dnn_list))\n",
    "saver(dnn_list, data_path(\"network_expressivity_nodes_9_epochs_140_dnn\"))"
   ]
  },
  {
   "cell_type": "code",
   "execution_count": 300,
   "metadata": {},
   "outputs": [
    {
     "name": "stdout",
     "output_type": "stream",
     "text": [
      "0.012021914773925222\n"
     ]
    }
   ],
   "source": [
    "dnn_list = loader(data_path(\"network_expressivity_nodes_9_epochs_140_dnn\"))\n",
    "for dnn in dnn_list:\n",
    "    dnn[0].train(x_train_dnn, y, epochs = 30)\n",
    "    \n",
    "print(average_loss(dnn_list))\n",
    "saver(dnn_list, data_path(\"network_expressivity_nodes_9_epochs_170_dnn\"))"
   ]
  },
  {
   "cell_type": "code",
   "execution_count": 314,
   "metadata": {},
   "outputs": [
    {
     "name": "stdout",
     "output_type": "stream",
     "text": [
      "0.0007096123696234841\n"
     ]
    }
   ],
   "source": [
    "dnn_list = loader(data_path(\"network_expressivity_nodes_9_epochs_170_dnn\"))\n",
    "for dnn in dnn_list:\n",
    "    dnn[0].train(x_train_dnn, y, epochs = 1830)\n",
    "    \n",
    "print(average_loss(dnn_list))\n",
    "saver(dnn_list, data_path(\"network_expressivity_nodes_9_epochs_2000_dnn\"))"
   ]
  },
  {
   "cell_type": "markdown",
   "metadata": {},
   "source": [
    "### Calculate trajectory"
   ]
  },
  {
   "cell_type": "code",
   "execution_count": 280,
   "metadata": {},
   "outputs": [],
   "source": [
    "dnn_list = loader(data_path(\"network_expressivity_nodes_9_epochs_0_dnn\"))\n",
    "tl_list = []\n",
    "for dnn in dnn_list:\n",
    "    tl = TrajectoryLength(dnn[0])\n",
    "    tl.fit(x_dnn)\n",
    "    tl_list.append(tl)\n",
    "    \n",
    "saver(tl_list, data_path(\"tl_expressivity_nodes_9_epochs_0_dnn\"))"
   ]
  },
  {
   "cell_type": "code",
   "execution_count": 281,
   "metadata": {},
   "outputs": [],
   "source": [
    "dnn_list = loader(data_path(\"network_expressivity_nodes_9_epochs_33_dnn\"))\n",
    "tl_list = []\n",
    "for dnn in dnn_list:\n",
    "    tl = TrajectoryLength(dnn[0])\n",
    "    tl.fit(x_dnn)\n",
    "    tl_list.append(tl)\n",
    "    \n",
    "saver(tl_list, data_path(\"tl_expressivity_nodes_9_epochs_33_dnn\"))"
   ]
  },
  {
   "cell_type": "code",
   "execution_count": 282,
   "metadata": {},
   "outputs": [],
   "source": [
    "dnn_list = loader(data_path(\"network_expressivity_nodes_9_epochs_68_dnn\"))\n",
    "tl_list = []\n",
    "for dnn in dnn_list:\n",
    "    tl = TrajectoryLength(dnn[0])\n",
    "    tl.fit(x_dnn)\n",
    "    tl_list.append(tl)\n",
    "    \n",
    "saver(tl_list, data_path(\"tl_expressivity_nodes_9_epochs_68_dnn\"))"
   ]
  },
  {
   "cell_type": "code",
   "execution_count": 283,
   "metadata": {},
   "outputs": [],
   "source": [
    "dnn_list = loader(data_path(\"network_expressivity_nodes_9_epochs_108_dnn\"))\n",
    "tl_list = []\n",
    "for dnn in dnn_list:\n",
    "    tl = TrajectoryLength(dnn[0])\n",
    "    tl.fit(x_dnn)\n",
    "    tl_list.append(tl)\n",
    "    \n",
    "saver(tl_list, data_path(\"tl_expressivity_nodes_9_epochs_108_dnn\"))"
   ]
  },
  {
   "cell_type": "code",
   "execution_count": 284,
   "metadata": {},
   "outputs": [],
   "source": [
    "dnn_list = loader(data_path(\"network_expressivity_nodes_9_epochs_140_dnn\"))\n",
    "tl_list = []\n",
    "for dnn in dnn_list:\n",
    "    tl = TrajectoryLength(dnn[0])\n",
    "    tl.fit(x_dnn)\n",
    "    tl_list.append(tl)\n",
    "    \n",
    "saver(tl_list, data_path(\"tl_expressivity_nodes_9_epochs_140_dnn\"))"
   ]
  },
  {
   "cell_type": "code",
   "execution_count": 315,
   "metadata": {},
   "outputs": [],
   "source": [
    "dnn_list = loader(data_path(\"network_expressivity_nodes_9_epochs_2000_dnn\"))\n",
    "tl_list = []\n",
    "for dnn in dnn_list:\n",
    "    tl = TrajectoryLength(dnn[0])\n",
    "    tl.fit(x_dnn)\n",
    "    tl_list.append(tl)\n",
    "    \n",
    "saver(tl_list, data_path(\"tl_expressivity_nodes_9_epochs_2000_dnn\"))"
   ]
  },
  {
   "cell_type": "markdown",
   "metadata": {},
   "source": [
    "## 11 Nodes"
   ]
  },
  {
   "cell_type": "code",
   "execution_count": 303,
   "metadata": {},
   "outputs": [
    {
     "name": "stdout",
     "output_type": "stream",
     "text": [
      "309\n"
     ]
    }
   ],
   "source": [
    "np.random.seed(42)\n",
    "\n",
    "dnn_list = []\n",
    "for i in range(10):\n",
    "    dnn = sequential_dnn(dim=[2, 11, 11, 11, 1],\n",
    "                         optimizer=Adam(lr=0.1))\n",
    "    \n",
    "    dnn_list.append([dnn])\n",
    "\n",
    "print(dnn_list[0][0].n_parameters)\n",
    "\n",
    "saver(dnn_list, data_path(\"network_expressivity_nodes_11_epochs_0_dnn\"))"
   ]
  },
  {
   "cell_type": "markdown",
   "metadata": {},
   "source": [
    "### Train Incrementally"
   ]
  },
  {
   "cell_type": "code",
   "execution_count": 304,
   "metadata": {},
   "outputs": [
    {
     "name": "stdout",
     "output_type": "stream",
     "text": [
      "0.04424608559979968\n"
     ]
    }
   ],
   "source": [
    "dnn_list = loader(data_path(\"network_expressivity_nodes_11_epochs_0_dnn\"))\n",
    "for dnn in dnn_list:\n",
    "    dnn[0].train(x_train_dnn, y, epochs = 31)\n",
    "    \n",
    "print(average_loss(dnn_list))\n",
    "saver(dnn_list, data_path(\"network_expressivity_nodes_11_epochs_31_dnn\"))"
   ]
  },
  {
   "cell_type": "code",
   "execution_count": 305,
   "metadata": {},
   "outputs": [
    {
     "name": "stdout",
     "output_type": "stream",
     "text": [
      "0.031054283840129572\n"
     ]
    }
   ],
   "source": [
    "dnn_list = loader(data_path(\"network_expressivity_nodes_11_epochs_31_dnn\"))\n",
    "for dnn in dnn_list:\n",
    "    dnn[0].train(x_train_dnn, y, epochs = 39)\n",
    "    \n",
    "print(average_loss(dnn_list))\n",
    "saver(dnn_list, data_path(\"network_expressivity_nodes_11_epochs_70_dnn\"))"
   ]
  },
  {
   "cell_type": "code",
   "execution_count": 306,
   "metadata": {},
   "outputs": [
    {
     "name": "stdout",
     "output_type": "stream",
     "text": [
      "0.020969013144427506\n"
     ]
    }
   ],
   "source": [
    "dnn_list = loader(data_path(\"network_expressivity_nodes_11_epochs_70_dnn\"))\n",
    "for dnn in dnn_list:\n",
    "    dnn[0].train(x_train_dnn, y, epochs = 31)\n",
    "    \n",
    "print(average_loss(dnn_list))\n",
    "saver(dnn_list, data_path(\"network_expressivity_nodes_11_epochs_101_dnn\"))"
   ]
  },
  {
   "cell_type": "code",
   "execution_count": 307,
   "metadata": {},
   "outputs": [
    {
     "name": "stdout",
     "output_type": "stream",
     "text": [
      "0.014717744586470547\n"
     ]
    }
   ],
   "source": [
    "dnn_list = loader(data_path(\"network_expressivity_nodes_11_epochs_101_dnn\"))\n",
    "for dnn in dnn_list:\n",
    "    dnn[0].train(x_train_dnn, y, epochs = 29)\n",
    "    \n",
    "print(average_loss(dnn_list))\n",
    "saver(dnn_list, data_path(\"network_expressivity_nodes_11_epochs_130_dnn\"))"
   ]
  },
  {
   "cell_type": "code",
   "execution_count": 316,
   "metadata": {},
   "outputs": [
    {
     "name": "stdout",
     "output_type": "stream",
     "text": [
      "0.0008199251104077019\n"
     ]
    }
   ],
   "source": [
    "dnn_list = loader(data_path(\"network_expressivity_nodes_11_epochs_130_dnn\"))\n",
    "for dnn in dnn_list:\n",
    "    dnn[0].train(x_train_dnn, y, epochs = 1870)\n",
    "    \n",
    "print(average_loss(dnn_list))\n",
    "saver(dnn_list, data_path(\"network_expressivity_nodes_11_epochs_2000_dnn\"))"
   ]
  },
  {
   "cell_type": "markdown",
   "metadata": {},
   "source": [
    "### Calculate trajectory"
   ]
  },
  {
   "cell_type": "code",
   "execution_count": 290,
   "metadata": {},
   "outputs": [],
   "source": [
    "dnn_list = loader(data_path(\"network_expressivity_nodes_11_epochs_0_dnn\"))\n",
    "tl_list = []\n",
    "for dnn in dnn_list:\n",
    "    tl = TrajectoryLength(dnn[0])\n",
    "    tl.fit(x_dnn)\n",
    "    tl_list.append(tl)\n",
    "    \n",
    "saver(tl_list, data_path(\"tl_expressivity_nodes_11_epochs_0_dnn\"))"
   ]
  },
  {
   "cell_type": "code",
   "execution_count": 291,
   "metadata": {},
   "outputs": [],
   "source": [
    "dnn_list = loader(data_path(\"network_expressivity_nodes_11_epochs_31_dnn\"))\n",
    "tl_list = []\n",
    "for dnn in dnn_list:\n",
    "    tl = TrajectoryLength(dnn[0])\n",
    "    tl.fit(x_dnn)\n",
    "    tl_list.append(tl)\n",
    "    \n",
    "saver(tl_list, data_path(\"tl_expressivity_nodes_11_epochs_31_dnn\"))"
   ]
  },
  {
   "cell_type": "code",
   "execution_count": 292,
   "metadata": {},
   "outputs": [],
   "source": [
    "dnn_list = loader(data_path(\"network_expressivity_nodes_11_epochs_70_dnn\"))\n",
    "tl_list = []\n",
    "for dnn in dnn_list:\n",
    "    tl = TrajectoryLength(dnn[0])\n",
    "    tl.fit(x_dnn)\n",
    "    tl_list.append(tl)\n",
    "    \n",
    "saver(tl_list, data_path(\"tl_expressivity_nodes_11_epochs_70_dnn\"))"
   ]
  },
  {
   "cell_type": "code",
   "execution_count": 293,
   "metadata": {},
   "outputs": [],
   "source": [
    "dnn_list = loader(data_path(\"network_expressivity_nodes_11_epochs_101_dnn\"))\n",
    "tl_list = []\n",
    "for dnn in dnn_list:\n",
    "    tl = TrajectoryLength(dnn[0])\n",
    "    tl.fit(x_dnn)\n",
    "    tl_list.append(tl)\n",
    "    \n",
    "saver(tl_list, data_path(\"tl_expressivity_nodes_11_epochs_101_dnn\"))"
   ]
  },
  {
   "cell_type": "code",
   "execution_count": 294,
   "metadata": {},
   "outputs": [],
   "source": [
    "dnn_list = loader(data_path(\"network_expressivity_nodes_11_epochs_130_dnn\"))\n",
    "tl_list = []\n",
    "for dnn in dnn_list:\n",
    "    tl = TrajectoryLength(dnn[0])\n",
    "    tl.fit(x_dnn)\n",
    "    tl_list.append(tl)\n",
    "    \n",
    "saver(tl_list, data_path(\"tl_expressivity_nodes_11_epochs_130_dnn\"))"
   ]
  },
  {
   "cell_type": "code",
   "execution_count": 317,
   "metadata": {},
   "outputs": [],
   "source": [
    "dnn_list = loader(data_path(\"network_expressivity_nodes_11_epochs_2000_dnn\"))\n",
    "tl_list = []\n",
    "for dnn in dnn_list:\n",
    "    tl = TrajectoryLength(dnn[0])\n",
    "    tl.fit(x_dnn)\n",
    "    tl_list.append(tl)\n",
    "    \n",
    "saver(tl_list, data_path(\"tl_expressivity_nodes_11_epochs_2000_dnn\"))"
   ]
  },
  {
   "cell_type": "markdown",
   "metadata": {},
   "source": [
    "## Visual"
   ]
  },
  {
   "cell_type": "code",
   "execution_count": 32,
   "metadata": {},
   "outputs": [],
   "source": [
    "n = 100\n",
    "x = np.linspace(0, 1, n)\n",
    "x = generate_meshgrid([x,x])\n",
    "x = scaler(x, a=-np.pi/2, b=np.pi/2)"
   ]
  },
  {
   "cell_type": "code",
   "execution_count": 33,
   "metadata": {},
   "outputs": [],
   "source": [
    "np.random.seed(41)\n",
    "qcn = sequential_qnn(n_qubits = [4, 4, 4, 4, 4],\n",
    "                         dim = [2, 4, 4, 4, 4, 1] ,\n",
    "                         scale = 4*[[-np.pi, np.pi]] + [[0,1]],\n",
    "                         encoder = Encoder(),\n",
    "                         ansatz = Ansatz(blocks=[\"entangle\", \"ry\"], reps=2),\n",
    "                         sampler = Parity(),\n",
    "                         shots = 0,\n",
    "                         optimizer=Adam(lr=0.1))"
   ]
  },
  {
   "cell_type": "code",
   "execution_count": 34,
   "metadata": {},
   "outputs": [],
   "source": [
    "y_pred = qcn.predict(x)"
   ]
  },
  {
   "cell_type": "code",
   "execution_count": 55,
   "metadata": {},
   "outputs": [],
   "source": [
    "y_pred = qcn.a[5][:,0]"
   ]
  },
  {
   "cell_type": "code",
   "execution_count": 56,
   "metadata": {},
   "outputs": [
    {
     "data": {
      "image/png": "[encoded data removed]",
      "text/plain": [
       "<Figure size 780x780 with 1 Axes>"
      ]
     },
     "metadata": {},
     "output_type": "display_data"
    }
   ],
   "source": [
    "fig=plt.figure(figsize=(6,6), dpi = 130, facecolor='w', edgecolor='k')\n",
    "plt.imshow(y_pred.reshape(100,100))\n",
    "plt.show()"
   ]
  },
  {
   "cell_type": "code",
   "execution_count": 58,
   "metadata": {},
   "outputs": [
    {
     "data": {
      "image/png": "[encoded data removed]",
      "text/plain": [
       "<Figure size 432x288 with 2 Axes>"
      ]
     },
     "metadata": {
      "needs_background": "light"
     },
     "output_type": "display_data"
    }
   ],
   "source": [
    "fig, ax = plt.subplots(subplot_kw={\"projection\": \"3d\"})\n",
    "from matplotlib import cm\n",
    "from matplotlib.ticker import LinearLocator\n",
    "\n",
    "# Make data.\n",
    "X = np.linspace(0, 1, n)\n",
    "Y = np.linspace(0, 1, n)\n",
    "X, Y = np.meshgrid(X, Y)\n",
    "Z = y_pred.reshape(100,100)\n",
    "\n",
    "# Plot the surface.\n",
    "surf = ax.plot_surface(X, Y, Z, cmap=cm.coolwarm,\n",
    "                       linewidth=0, antialiased=False)\n",
    "\n",
    "# Customize the z axis.\n",
    "ax.set_zlim(-1.01, 1.01)\n",
    "ax.zaxis.set_major_locator(LinearLocator(10))\n",
    "# A StrMethodFormatter is used automatically\n",
    "ax.zaxis.set_major_formatter('{x:.02f}')\n",
    "\n",
    "# Add a color bar which maps values to colors.\n",
    "fig.colorbar(surf, shrink=0.5, aspect=5)\n",
    "\n",
    "plt.show()"
   ]
  },
  {
   "cell_type": "code",
   "execution_count": null,
   "metadata": {},
   "outputs": [],
   "source": []
  }
 ],
 "metadata": {
  "kernelspec": {
   "display_name": "env_qiskit",
   "language": "python",
   "name": "env_qiskit"
  },
  "language_info": {
   "codemirror_mode": {
    "name": "ipython",
    "version": 3
   },
   "file_extension": ".py",
   "mimetype": "text/x-python",
   "name": "python",
   "nbconvert_exporter": "python",
   "pygments_lexer": "ipython3",
   "version": "3.7.10"
  }
 },
 "nbformat": 4,
 "nbformat_minor": 4
}
