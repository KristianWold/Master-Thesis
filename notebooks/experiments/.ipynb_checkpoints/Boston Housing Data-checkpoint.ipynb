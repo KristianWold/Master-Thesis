{
 "cells": [
  {
   "cell_type": "code",
   "execution_count": 24,
   "metadata": {},
   "outputs": [
    {
     "name": "stdout",
     "output_type": "stream",
     "text": [
      "The autoreload extension is already loaded. To reload it, use:\n",
      "  %reload_ext autoreload\n"
     ]
    }
   ],
   "source": [
    "import numpy as np\n",
    "import qiskit as qk\n",
    "import matplotlib.pyplot as plt\n",
    "\n",
    "from qiskit import Aer\n",
    "from tqdm.notebook import tqdm\n",
    "from sklearn.datasets import load_boston\n",
    "from sklearn.model_selection import train_test_split\n",
    "from sklearn.decomposition import PCA\n",
    "from sklearn.preprocessing import StandardScaler\n",
    "import multiprocessing as mp\n",
    "\n",
    "import sys\n",
    "sys.path.insert(0, '../../src/')\n",
    "from neuralnetwork import *\n",
    "from analysis import *\n",
    "\n",
    "#%matplotlib notebook\n",
    "%matplotlib inline\n",
    "%load_ext autoreload\n",
    "%autoreload 2\n",
    "\n",
    "np.set_printoptions(precision=4, suppress=None)"
   ]
  },
  {
   "cell_type": "code",
   "execution_count": 25,
   "metadata": {},
   "outputs": [],
   "source": [
    "def parallel(args):\n",
    "    model = args[0]\n",
    "    x = args[1]\n",
    "    y = args[2]\n",
    "    verbose = args[3]\n",
    "    \n",
    "    model.train(x, y, verbose = verbose)\n",
    "    \n",
    "    return model"
   ]
  },
  {
   "cell_type": "markdown",
   "metadata": {},
   "source": [
    "# Boston Housing Data"
   ]
  },
  {
   "cell_type": "markdown",
   "metadata": {},
   "source": [
    "### Load Data"
   ]
  },
  {
   "cell_type": "code",
   "execution_count": 3,
   "metadata": {},
   "outputs": [],
   "source": [
    "data = load_boston()\n",
    "x = data.data\n",
    "x_scaled = scaler(x, mode=\"standard\")\n",
    "\n",
    "y = data.target.reshape(-1, 1)\n",
    "y = scaler(y, a=0, b=1)"
   ]
  },
  {
   "cell_type": "markdown",
   "metadata": {},
   "source": [
    "## PCA"
   ]
  },
  {
   "cell_type": "code",
   "execution_count": 4,
   "metadata": {},
   "outputs": [],
   "source": [
    "pca = PCA(n_components=4)\n",
    "x_pca = pca.fit_transform(x_scaled)"
   ]
  },
  {
   "cell_type": "code",
   "execution_count": 5,
   "metadata": {},
   "outputs": [],
   "source": [
    "x_qcn = scaler(x_pca, a=-np.pi/2, b=np.pi/2)\n",
    "x_dnn = scaler(x_pca, mode=\"standard\")\n",
    "\n",
    "np.random.seed(42)\n",
    "x_train_qcn, x_test_qcn, y_train, y_test = train_test_split(x_qcn, y, train_size=100, test_size=100)\n",
    "np.random.seed(42)\n",
    "x_train_dnn, x_test_dnn, y_train, y_test = train_test_split(x_dnn, y, train_size=100, test_size=100)"
   ]
  },
  {
   "cell_type": "markdown",
   "metadata": {},
   "source": [
    "## DNN"
   ]
  },
  {
   "cell_type": "code",
   "execution_count": 6,
   "metadata": {},
   "outputs": [
    {
     "data": {
      "application/vnd.jupyter.widget-view+json": {
       "model_id": "c809b58316694ef39024ad816a3b62e9",
       "version_major": 2,
       "version_minor": 0
      },
      "text/plain": [
       "  0%|          | 0/10 [00:00<?, ?it/s]"
      ]
     },
     "metadata": {},
     "output_type": "display_data"
    },
    {
     "data": {
      "image/png": "[encoded data removed]",
      "text/plain": [
       "<Figure size 432x288 with 1 Axes>"
      ]
     },
     "metadata": {
      "needs_background": "light"
     },
     "output_type": "display_data"
    }
   ],
   "source": [
    "np.random.seed(42)\n",
    "\n",
    "dnn_list = []\n",
    "for i in tqdm(range(10)):\n",
    "    dnn = sequential_dnn(dim = [4, 5, 1])\n",
    "    dnn.train(x_train_dnn, y_train, epochs = 100)\n",
    "    dnn_list.append(dnn)\n",
    "    \n",
    "saver(dnn_list, data_path(\"boston_dnn_pca\"))\n",
    "plt.plot(dnn_list[0].loss)\n",
    "plt.show()"
   ]
  },
  {
   "cell_type": "code",
   "execution_count": 7,
   "metadata": {},
   "outputs": [
    {
     "name": "stdout",
     "output_type": "stream",
     "text": [
      "0.005581761577952916\n",
      "0.013560693876754596\n"
     ]
    }
   ],
   "source": [
    "print(dnn_list[7].loss[-1])\n",
    "\n",
    "y_pred = dnn_list[0].predict(x_test_dnn)\n",
    "loss = np.mean((y_pred - y_test)**2)\n",
    "print(loss)"
   ]
  },
  {
   "cell_type": "markdown",
   "metadata": {},
   "source": [
    "## QCN"
   ]
  },
  {
   "cell_type": "code",
   "execution_count": 8,
   "metadata": {},
   "outputs": [
    {
     "name": "stdout",
     "output_type": "stream",
     "text": [
      "epoch: 0, loss: 0.0545936100754936\n",
      "epoch: 1, loss: 0.039335914733830524\n"
     ]
    },
    {
     "name": "stderr",
     "output_type": "stream",
     "text": [
      "Process ForkPoolWorker-9:\n",
      "Process ForkPoolWorker-8:\n",
      "Process ForkPoolWorker-10:\n"
     ]
    },
    {
     "ename": "KeyboardInterrupt",
     "evalue": "",
     "output_type": "error",
     "traceback": [
      "\u001b[0;31m---------------------------------------------------------------------------\u001b[0m",
      "\u001b[0;31mKeyboardInterrupt\u001b[0m                         Traceback (most recent call last)",
      "\u001b[0;32m<ipython-input-8-eb19f05a4174>\u001b[0m in \u001b[0;36m<module>\u001b[0;34m\u001b[0m\n\u001b[1;32m     16\u001b[0m \u001b[0;34m\u001b[0m\u001b[0m\n\u001b[1;32m     17\u001b[0m \u001b[0;32mwith\u001b[0m \u001b[0mmp\u001b[0m\u001b[0;34m.\u001b[0m\u001b[0mPool\u001b[0m\u001b[0;34m(\u001b[0m\u001b[0;36m10\u001b[0m\u001b[0;34m)\u001b[0m \u001b[0;32mas\u001b[0m \u001b[0mp\u001b[0m\u001b[0;34m:\u001b[0m\u001b[0;34m\u001b[0m\u001b[0;34m\u001b[0m\u001b[0m\n\u001b[0;32m---> 18\u001b[0;31m     \u001b[0mqcn_list\u001b[0m \u001b[0;34m=\u001b[0m \u001b[0mp\u001b[0m\u001b[0;34m.\u001b[0m\u001b[0mmap\u001b[0m\u001b[0;34m(\u001b[0m\u001b[0mparallel\u001b[0m\u001b[0;34m,\u001b[0m \u001b[0mqcn_list\u001b[0m\u001b[0;34m)\u001b[0m\u001b[0;34m\u001b[0m\u001b[0;34m\u001b[0m\u001b[0m\n\u001b[0m\u001b[1;32m     19\u001b[0m \u001b[0;34m\u001b[0m\u001b[0m\n\u001b[1;32m     20\u001b[0m \u001b[0msaver\u001b[0m\u001b[0;34m(\u001b[0m\u001b[0mqcn_list\u001b[0m\u001b[0;34m,\u001b[0m \u001b[0mdata_path\u001b[0m\u001b[0;34m(\u001b[0m\u001b[0;34m\"boston_qcn\"\u001b[0m\u001b[0;34m)\u001b[0m\u001b[0;34m)\u001b[0m\u001b[0;34m\u001b[0m\u001b[0;34m\u001b[0m\u001b[0m\n",
      "\u001b[0;32m~/anaconda3/envs/env_qiskit/lib/python3.9/multiprocessing/pool.py\u001b[0m in \u001b[0;36mmap\u001b[0;34m(self, func, iterable, chunksize)\u001b[0m\n\u001b[1;32m    362\u001b[0m         \u001b[0;32min\u001b[0m \u001b[0ma\u001b[0m \u001b[0mlist\u001b[0m \u001b[0mthat\u001b[0m \u001b[0;32mis\u001b[0m \u001b[0mreturned\u001b[0m\u001b[0;34m.\u001b[0m\u001b[0;34m\u001b[0m\u001b[0;34m\u001b[0m\u001b[0m\n\u001b[1;32m    363\u001b[0m         '''\n\u001b[0;32m--> 364\u001b[0;31m         \u001b[0;32mreturn\u001b[0m \u001b[0mself\u001b[0m\u001b[0;34m.\u001b[0m\u001b[0m_map_async\u001b[0m\u001b[0;34m(\u001b[0m\u001b[0mfunc\u001b[0m\u001b[0;34m,\u001b[0m \u001b[0miterable\u001b[0m\u001b[0;34m,\u001b[0m \u001b[0mmapstar\u001b[0m\u001b[0;34m,\u001b[0m \u001b[0mchunksize\u001b[0m\u001b[0;34m)\u001b[0m\u001b[0;34m.\u001b[0m\u001b[0mget\u001b[0m\u001b[0;34m(\u001b[0m\u001b[0;34m)\u001b[0m\u001b[0;34m\u001b[0m\u001b[0;34m\u001b[0m\u001b[0m\n\u001b[0m\u001b[1;32m    365\u001b[0m \u001b[0;34m\u001b[0m\u001b[0m\n\u001b[1;32m    366\u001b[0m     \u001b[0;32mdef\u001b[0m \u001b[0mstarmap\u001b[0m\u001b[0;34m(\u001b[0m\u001b[0mself\u001b[0m\u001b[0;34m,\u001b[0m \u001b[0mfunc\u001b[0m\u001b[0;34m,\u001b[0m \u001b[0miterable\u001b[0m\u001b[0;34m,\u001b[0m \u001b[0mchunksize\u001b[0m\u001b[0;34m=\u001b[0m\u001b[0;32mNone\u001b[0m\u001b[0;34m)\u001b[0m\u001b[0;34m:\u001b[0m\u001b[0;34m\u001b[0m\u001b[0;34m\u001b[0m\u001b[0m\n",
      "\u001b[0;32m~/anaconda3/envs/env_qiskit/lib/python3.9/multiprocessing/pool.py\u001b[0m in \u001b[0;36mget\u001b[0;34m(self, timeout)\u001b[0m\n\u001b[1;32m    763\u001b[0m \u001b[0;34m\u001b[0m\u001b[0m\n\u001b[1;32m    764\u001b[0m     \u001b[0;32mdef\u001b[0m \u001b[0mget\u001b[0m\u001b[0;34m(\u001b[0m\u001b[0mself\u001b[0m\u001b[0;34m,\u001b[0m \u001b[0mtimeout\u001b[0m\u001b[0;34m=\u001b[0m\u001b[0;32mNone\u001b[0m\u001b[0;34m)\u001b[0m\u001b[0;34m:\u001b[0m\u001b[0;34m\u001b[0m\u001b[0;34m\u001b[0m\u001b[0m\n\u001b[0;32m--> 765\u001b[0;31m         \u001b[0mself\u001b[0m\u001b[0;34m.\u001b[0m\u001b[0mwait\u001b[0m\u001b[0;34m(\u001b[0m\u001b[0mtimeout\u001b[0m\u001b[0;34m)\u001b[0m\u001b[0;34m\u001b[0m\u001b[0;34m\u001b[0m\u001b[0m\n\u001b[0m\u001b[1;32m    766\u001b[0m         \u001b[0;32mif\u001b[0m \u001b[0;32mnot\u001b[0m \u001b[0mself\u001b[0m\u001b[0;34m.\u001b[0m\u001b[0mready\u001b[0m\u001b[0;34m(\u001b[0m\u001b[0;34m)\u001b[0m\u001b[0;34m:\u001b[0m\u001b[0;34m\u001b[0m\u001b[0;34m\u001b[0m\u001b[0m\n\u001b[1;32m    767\u001b[0m             \u001b[0;32mraise\u001b[0m \u001b[0mTimeoutError\u001b[0m\u001b[0;34m\u001b[0m\u001b[0;34m\u001b[0m\u001b[0m\n",
      "\u001b[0;32m~/anaconda3/envs/env_qiskit/lib/python3.9/multiprocessing/pool.py\u001b[0m in \u001b[0;36mwait\u001b[0;34m(self, timeout)\u001b[0m\n\u001b[1;32m    760\u001b[0m \u001b[0;34m\u001b[0m\u001b[0m\n\u001b[1;32m    761\u001b[0m     \u001b[0;32mdef\u001b[0m \u001b[0mwait\u001b[0m\u001b[0;34m(\u001b[0m\u001b[0mself\u001b[0m\u001b[0;34m,\u001b[0m \u001b[0mtimeout\u001b[0m\u001b[0;34m=\u001b[0m\u001b[0;32mNone\u001b[0m\u001b[0;34m)\u001b[0m\u001b[0;34m:\u001b[0m\u001b[0;34m\u001b[0m\u001b[0;34m\u001b[0m\u001b[0m\n\u001b[0;32m--> 762\u001b[0;31m         \u001b[0mself\u001b[0m\u001b[0;34m.\u001b[0m\u001b[0m_event\u001b[0m\u001b[0;34m.\u001b[0m\u001b[0mwait\u001b[0m\u001b[0;34m(\u001b[0m\u001b[0mtimeout\u001b[0m\u001b[0;34m)\u001b[0m\u001b[0;34m\u001b[0m\u001b[0;34m\u001b[0m\u001b[0m\n\u001b[0m\u001b[1;32m    763\u001b[0m \u001b[0;34m\u001b[0m\u001b[0m\n\u001b[1;32m    764\u001b[0m     \u001b[0;32mdef\u001b[0m \u001b[0mget\u001b[0m\u001b[0;34m(\u001b[0m\u001b[0mself\u001b[0m\u001b[0;34m,\u001b[0m \u001b[0mtimeout\u001b[0m\u001b[0;34m=\u001b[0m\u001b[0;32mNone\u001b[0m\u001b[0;34m)\u001b[0m\u001b[0;34m:\u001b[0m\u001b[0;34m\u001b[0m\u001b[0;34m\u001b[0m\u001b[0m\n",
      "\u001b[0;32m~/anaconda3/envs/env_qiskit/lib/python3.9/threading.py\u001b[0m in \u001b[0;36mwait\u001b[0;34m(self, timeout)\u001b[0m\n\u001b[1;32m    572\u001b[0m             \u001b[0msignaled\u001b[0m \u001b[0;34m=\u001b[0m \u001b[0mself\u001b[0m\u001b[0;34m.\u001b[0m\u001b[0m_flag\u001b[0m\u001b[0;34m\u001b[0m\u001b[0;34m\u001b[0m\u001b[0m\n\u001b[1;32m    573\u001b[0m             \u001b[0;32mif\u001b[0m \u001b[0;32mnot\u001b[0m \u001b[0msignaled\u001b[0m\u001b[0;34m:\u001b[0m\u001b[0;34m\u001b[0m\u001b[0;34m\u001b[0m\u001b[0m\n\u001b[0;32m--> 574\u001b[0;31m                 \u001b[0msignaled\u001b[0m \u001b[0;34m=\u001b[0m \u001b[0mself\u001b[0m\u001b[0;34m.\u001b[0m\u001b[0m_cond\u001b[0m\u001b[0;34m.\u001b[0m\u001b[0mwait\u001b[0m\u001b[0;34m(\u001b[0m\u001b[0mtimeout\u001b[0m\u001b[0;34m)\u001b[0m\u001b[0;34m\u001b[0m\u001b[0;34m\u001b[0m\u001b[0m\n\u001b[0m\u001b[1;32m    575\u001b[0m             \u001b[0;32mreturn\u001b[0m \u001b[0msignaled\u001b[0m\u001b[0;34m\u001b[0m\u001b[0;34m\u001b[0m\u001b[0m\n\u001b[1;32m    576\u001b[0m \u001b[0;34m\u001b[0m\u001b[0m\n",
      "\u001b[0;32m~/anaconda3/envs/env_qiskit/lib/python3.9/threading.py\u001b[0m in \u001b[0;36mwait\u001b[0;34m(self, timeout)\u001b[0m\n\u001b[1;32m    310\u001b[0m         \u001b[0;32mtry\u001b[0m\u001b[0;34m:\u001b[0m    \u001b[0;31m# restore state no matter what (e.g., KeyboardInterrupt)\u001b[0m\u001b[0;34m\u001b[0m\u001b[0;34m\u001b[0m\u001b[0m\n\u001b[1;32m    311\u001b[0m             \u001b[0;32mif\u001b[0m \u001b[0mtimeout\u001b[0m \u001b[0;32mis\u001b[0m \u001b[0;32mNone\u001b[0m\u001b[0;34m:\u001b[0m\u001b[0;34m\u001b[0m\u001b[0;34m\u001b[0m\u001b[0m\n\u001b[0;32m--> 312\u001b[0;31m                 \u001b[0mwaiter\u001b[0m\u001b[0;34m.\u001b[0m\u001b[0macquire\u001b[0m\u001b[0;34m(\u001b[0m\u001b[0;34m)\u001b[0m\u001b[0;34m\u001b[0m\u001b[0;34m\u001b[0m\u001b[0m\n\u001b[0m\u001b[1;32m    313\u001b[0m                 \u001b[0mgotit\u001b[0m \u001b[0;34m=\u001b[0m \u001b[0;32mTrue\u001b[0m\u001b[0;34m\u001b[0m\u001b[0;34m\u001b[0m\u001b[0m\n\u001b[1;32m    314\u001b[0m             \u001b[0;32melse\u001b[0m\u001b[0;34m:\u001b[0m\u001b[0;34m\u001b[0m\u001b[0;34m\u001b[0m\u001b[0m\n",
      "\u001b[0;31mKeyboardInterrupt\u001b[0m: "
     ]
    }
   ],
   "source": [
    "np.random.seed(42)\n",
    "qcn_list = []\n",
    "for i in range(10):\n",
    "    qcn = sequential_qnn(n_qubits = [4, 4],\n",
    "                         dim = [4, 4, 1],\n",
    "                         encoder= Encoder(),\n",
    "                         ansatz = Ansatz(blocks = [\"entangle\", \"ry\"], reps=2),\n",
    "                         sampler = Parity(),\n",
    "                         cost = MSE(),\n",
    "                         optimizer = Adam(lr=0.1),\n",
    "                         shots=0)\n",
    "    \n",
    "    qcn_list.append([qcn, x_train_qcn, y_train, False])\n",
    "\n",
    "qcn_list[0][3] = True    \n",
    "    \n",
    "with mp.Pool(10) as p:\n",
    "    qcn_list = p.map(parallel, qcn_list)     \n",
    "    \n",
    "saver(qcn_list, data_path(\"boston_qcn\"))"
   ]
  },
  {
   "cell_type": "code",
   "execution_count": null,
   "metadata": {},
   "outputs": [],
   "source": [
    "qcn_list = loader(data_path(\"boston_qcn\"))\n",
    "qcn_list[4].loss[-1]"
   ]
  },
  {
   "cell_type": "code",
   "execution_count": null,
   "metadata": {},
   "outputs": [],
   "source": [
    "qcn_list = loader(data_path(\"boston_qcn\"))\n",
    "\n",
    "y_pred = qcn_list[4].predict(x_test_qcn)\n",
    "loss = np.mean((y_pred - y_test)**2)\n",
    "print(loss)"
   ]
  },
  {
   "cell_type": "markdown",
   "metadata": {},
   "source": [
    "## Hybrid"
   ]
  },
  {
   "cell_type": "code",
   "execution_count": 26,
   "metadata": {},
   "outputs": [],
   "source": [
    "data = load_boston()\n",
    "x = data.data\n",
    "x_scaled = scaler(x, mode=\"standard\")\n",
    "\n",
    "y = data.target.reshape(-1, 1)\n",
    "y = scaler(y, a=0, b=1)\n",
    "\n",
    "np.random.seed(42)\n",
    "x_train, x_test, y_train, y_test = train_test_split(x_scaled, y, train_size=100, test_size=100)"
   ]
  },
  {
   "cell_type": "code",
   "execution_count": 13,
   "metadata": {},
   "outputs": [
    {
     "name": "stdout",
     "output_type": "stream",
     "text": [
      "epoch: 0, loss: 0.08054622839778285\n",
      "epoch: 1, loss: 0.03648421725423656\n",
      "epoch: 2, loss: 0.02664986980482702\n",
      "epoch: 3, loss: 0.02573741616221421\n",
      "epoch: 4, loss: 0.027160584350608558\n",
      "epoch: 5, loss: 0.026954299145215344\n",
      "epoch: 6, loss: 0.024607320910773313\n",
      "epoch: 7, loss: 0.02258663080884999\n",
      "epoch: 8, loss: 0.02235570917595027\n",
      "epoch: 9, loss: 0.021814091533971\n",
      "epoch: 10, loss: 0.02128771022655983\n",
      "epoch: 11, loss: 0.020282384705576195\n",
      "epoch: 12, loss: 0.019100312045964588\n",
      "epoch: 13, loss: 0.018467908603662785\n",
      "epoch: 14, loss: 0.018174969909095305\n",
      "epoch: 15, loss: 0.01713637845991813\n",
      "epoch: 16, loss: 0.015918843770522963\n",
      "epoch: 17, loss: 0.015216086810700075\n",
      "epoch: 18, loss: 0.015096174866282081\n",
      "epoch: 19, loss: 0.015023975631393785\n",
      "epoch: 20, loss: 0.014630030380029403\n",
      "epoch: 21, loss: 0.01392986966246919\n",
      "epoch: 22, loss: 0.01311942788705214\n",
      "epoch: 23, loss: 0.012565013936698734\n",
      "epoch: 24, loss: 0.012614810862926358\n",
      "epoch: 25, loss: 0.012597318623892899\n",
      "epoch: 26, loss: 0.011967436352079409\n",
      "epoch: 27, loss: 0.011287390431208773\n",
      "epoch: 28, loss: 0.011056130747109079\n",
      "epoch: 29, loss: 0.011086276399317587\n",
      "epoch: 30, loss: 0.011047879316467321\n",
      "epoch: 31, loss: 0.010799649420300888\n",
      "epoch: 32, loss: 0.010486974580787956\n",
      "epoch: 33, loss: 0.010276089897772263\n",
      "epoch: 34, loss: 0.01011309184047441\n",
      "epoch: 35, loss: 0.00995067295012539\n",
      "epoch: 36, loss: 0.009813900990338081\n",
      "epoch: 37, loss: 0.009684240758820734\n",
      "epoch: 38, loss: 0.00954516188582122\n",
      "epoch: 39, loss: 0.00942275810225923\n",
      "epoch: 40, loss: 0.009321548529412287\n",
      "epoch: 41, loss: 0.00923020914537857\n",
      "epoch: 42, loss: 0.009129719573877567\n",
      "epoch: 43, loss: 0.009019356473223583\n",
      "epoch: 44, loss: 0.008926415999081725\n",
      "epoch: 45, loss: 0.008845214868236216\n",
      "epoch: 46, loss: 0.008763429384485115\n",
      "epoch: 47, loss: 0.008679603181798116\n",
      "epoch: 48, loss: 0.00859810287250798\n",
      "epoch: 49, loss: 0.008525567666019977\n",
      "epoch: 50, loss: 0.008451022860956737\n",
      "epoch: 51, loss: 0.008368744586241105\n",
      "epoch: 52, loss: 0.008272893465259983\n",
      "epoch: 53, loss: 0.008175567633161056\n",
      "epoch: 54, loss: 0.008092424583831092\n",
      "epoch: 55, loss: 0.00802406645372588\n",
      "epoch: 56, loss: 0.007952111757145169\n",
      "epoch: 57, loss: 0.007865455838939795\n",
      "epoch: 58, loss: 0.007775074339185955\n",
      "epoch: 59, loss: 0.0076934282625363256\n",
      "epoch: 60, loss: 0.00761565615603372\n",
      "epoch: 61, loss: 0.007532607079573908\n",
      "epoch: 62, loss: 0.007450382186423998\n",
      "epoch: 63, loss: 0.0073798593902283036\n",
      "epoch: 64, loss: 0.0073194870498141515\n",
      "epoch: 65, loss: 0.007261668029496023\n",
      "epoch: 66, loss: 0.007204574915128269\n",
      "epoch: 67, loss: 0.007151296892234487\n",
      "epoch: 68, loss: 0.0071018626746228875\n",
      "epoch: 69, loss: 0.007055270299436268\n",
      "epoch: 70, loss: 0.007010569188699718\n",
      "epoch: 71, loss: 0.00696818803542338\n",
      "epoch: 72, loss: 0.006928135439595508\n",
      "epoch: 73, loss: 0.006890672455567669\n",
      "epoch: 74, loss: 0.006853882422778204\n",
      "epoch: 75, loss: 0.00681664675454885\n",
      "epoch: 76, loss: 0.006780279220064835\n",
      "epoch: 77, loss: 0.006746255696788742\n",
      "epoch: 78, loss: 0.00671311046157394\n",
      "epoch: 79, loss: 0.006680005070462161\n",
      "epoch: 80, loss: 0.006647946882577352\n",
      "epoch: 81, loss: 0.006616766206807088\n",
      "epoch: 82, loss: 0.006585507211609577\n",
      "epoch: 83, loss: 0.006554541925733403\n",
      "epoch: 84, loss: 0.006524556049464368\n",
      "epoch: 85, loss: 0.006494808255885005\n",
      "epoch: 86, loss: 0.006464829270506019\n",
      "epoch: 87, loss: 0.006434643580866972\n",
      "epoch: 88, loss: 0.006404183149483613\n",
      "epoch: 89, loss: 0.0063737139346960485\n",
      "epoch: 90, loss: 0.00634282253665267\n",
      "epoch: 91, loss: 0.006310875863040897\n",
      "epoch: 92, loss: 0.006278527144946954\n",
      "epoch: 93, loss: 0.006246336048008798\n",
      "epoch: 94, loss: 0.006213598160559714\n",
      "epoch: 95, loss: 0.00617986031574992\n",
      "epoch: 96, loss: 0.006145443777762077\n",
      "epoch: 97, loss: 0.00611035010265342\n",
      "epoch: 98, loss: 0.006074336616852933\n",
      "epoch: 99, loss: 0.0060372032425220915\n"
     ]
    }
   ],
   "source": [
    "np.random.seed(42)\n",
    "hybrid_list = []\n",
    "for i in range(10):\n",
    "    layer1 = Dense(n_features = 13, \n",
    "                   n_targets = 4,\n",
    "                   activation = Tanh(),\n",
    "                   scale=np.pi)\n",
    "\n",
    "    layer2 = QLayer(n_qubits = 4,\n",
    "                    n_features = 4, \n",
    "                    n_targets = 4, \n",
    "                    encoder = Encoder(), \n",
    "                    ansatz = Ansatz(blocks = [\"entangle\", \"ry\"], reps=2),\n",
    "                    sampler=Parity(),\n",
    "                    shots=0)\n",
    "\n",
    "    layer3 = QLayer(n_qubits = 4,\n",
    "                    n_features = 4, \n",
    "                    n_targets = 1, \n",
    "                    encoder = Encoder(), \n",
    "                    ansatz = Ansatz(blocks = [\"entangle\", \"ry\"], reps=2),\n",
    "                    sampler=Parity(),\n",
    "                    shots=0)\n",
    "\n",
    "    layers = [layer1, layer2, layer3]\n",
    "    hybrid = NeuralNetwork(layers)\n",
    "    \n",
    "    hybrid_list.append([hybrid, x_train, y_train, False])\n",
    "\n",
    "hybrid_list[0][3] = True    \n",
    "    \n",
    "with mp.Pool(10) as p:\n",
    "    hybrid_list = p.map(parallel, hybrid_list)     \n",
    "    \n",
    "saver(hybrid_list, data_path(\"boston_hybrid\"))"
   ]
  },
  {
   "cell_type": "code",
   "execution_count": 23,
   "metadata": {},
   "outputs": [
    {
     "name": "stdout",
     "output_type": "stream",
     "text": [
      "0.005998660018286849\n",
      "0.01475612875546834\n"
     ]
    }
   ],
   "source": [
    "print(hybrid_list[0].loss[-1])\n",
    "y_pred = hybrid_list[0].predict(x_test)\n",
    "loss = np.mean((y_pred - y_test)**2)\n",
    "print(loss)"
   ]
  },
  {
   "cell_type": "code",
   "execution_count": 14,
   "metadata": {},
   "outputs": [
    {
     "data": {
      "application/vnd.jupyter.widget-view+json": {
       "model_id": "7b78a2628a11430393ae133baedf6f5b",
       "version_major": 2,
       "version_minor": 0
      },
      "text/plain": [
       "  0%|          | 0/10 [00:00<?, ?it/s]"
      ]
     },
     "metadata": {},
     "output_type": "display_data"
    },
    {
     "data": {
      "image/png": "[encoded data removed]",
      "text/plain": [
       "<Figure size 432x288 with 1 Axes>"
      ]
     },
     "metadata": {
      "needs_background": "light"
     },
     "output_type": "display_data"
    }
   ],
   "source": [
    "np.random.seed(42)\n",
    "\n",
    "dnn_list = []\n",
    "for i in tqdm(range(10)):\n",
    "    dnn = sequential_dnn(dim = [13, 5, 5, 1])\n",
    "    dnn.train(x_train, y_train, epochs = 100)\n",
    "    dnn_list.append(dnn)\n",
    "    \n",
    "saver(dnn_list, data_path(\"boston_dnn_full\"))\n",
    "plt.plot(dnn_list[0].loss)\n",
    "plt.show()"
   ]
  },
  {
   "cell_type": "code",
   "execution_count": 20,
   "metadata": {},
   "outputs": [
    {
     "name": "stdout",
     "output_type": "stream",
     "text": [
      "0.0036574599501761067\n",
      "0.01717406384340708\n"
     ]
    }
   ],
   "source": [
    "print(dnn_list[0].loss[-1])\n",
    "y_pred = dnn_list[0].predict(x_test)\n",
    "loss = np.mean((y_pred - y_test)**2)\n",
    "print(loss)"
   ]
  },
  {
   "cell_type": "code",
   "execution_count": null,
   "metadata": {},
   "outputs": [],
   "source": []
  }
 ],
 "metadata": {
  "kernelspec": {
   "display_name": "env_qiskit",
   "language": "python",
   "name": "env_qiskit"
  },
  "language_info": {
   "codemirror_mode": {
    "name": "ipython",
    "version": 3
   },
   "file_extension": ".py",
   "mimetype": "text/x-python",
   "name": "python",
   "nbconvert_exporter": "python",
   "pygments_lexer": "ipython3",
   "version": "3.9.1"
  }
 },
 "nbformat": 4,
 "nbformat_minor": 4
}
