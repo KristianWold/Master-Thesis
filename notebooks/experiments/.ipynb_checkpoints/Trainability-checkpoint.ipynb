{
 "cells": [
  {
   "cell_type": "code",
<<<<<<< HEAD
   "execution_count": null,
=======
   "execution_count": 3,
>>>>>>> 8041a75cd94dacb7cba9300c99019a9fa4cca415
   "metadata": {},
   "outputs": [
    {
     "name": "stdout",
     "output_type": "stream",
     "text": [
      "The autoreload extension is already loaded. To reload it, use:\n",
      "  %reload_ext autoreload\n"
     ]
    }
   ],
   "source": [
    "import numpy as np\n",
    "import qiskit as qk\n",
    "import matplotlib.pyplot as plt\n",
    "from qiskit import Aer\n",
    "from tqdm.notebook import tqdm\n",
    "import multiprocessing as mp\n",
    "\n",
    "import sys\n",
    "sys.path.insert(0, '../../src/')\n",
    "from neuralnetwork import *\n",
    "from analysis import *\n",
    "from utils import *\n",
    "\n",
    "#%matplotlib notebook\n",
    "%matplotlib inline\n",
    "%load_ext autoreload\n",
    "%autoreload 2"
   ]
  },
  {
   "cell_type": "code",
<<<<<<< HEAD
   "execution_count": null,
=======
   "execution_count": 4,
>>>>>>> 8041a75cd94dacb7cba9300c99019a9fa4cca415
   "metadata": {},
   "outputs": [],
   "source": [
    "backend = Aer.get_backend('qasm_simulator')\n",
    "\n",
    "def parallel(args):\n",
    "    model = args[0]\n",
    "    x = args[1]\n",
    "    y = args[2]\n",
    "    verbose = args[3]\n",
    "    \n",
    "    model.train(x, y, verbose = verbose)\n",
    "    \n",
    "    return model"
   ]
  },
  {
   "cell_type": "markdown",
   "metadata": {},
   "source": [
    "# Trainability, Ideal"
   ]
  },
  {
   "cell_type": "markdown",
   "metadata": {},
   "source": [
    "## 1D, Gaussian Function"
   ]
  },
  {
   "cell_type": "markdown",
   "metadata": {},
   "source": [
    "### Generate Data"
   ]
  },
  {
   "cell_type": "code",
   "execution_count": 5,
   "metadata": {},
   "outputs": [],
   "source": [
    "n = 100\n",
    "x = np.linspace(0, 1, n).reshape(-1,1)\n",
    "y = gaussian(x, 0.2, 0.01) - gaussian(x, 0.5, 0.01) + gaussian(x, 0.8, 0.01)\n",
    "\n",
    "x_qcn = scaler(x, a=-np.pi/2, b=np.pi/2)\n",
    "x_qnn = np.hstack([x_qcn, x_qcn])\n",
    "x_dnn = scaler(x, mode=\"standard\")\n",
    "y = scaler(y, a=0, b=1)\n"
   ]
  },
  {
   "cell_type": "code",
   "execution_count": 7,
   "metadata": {
    "scrolled": true
   },
   "outputs": [
    {
     "data": {
      "image/png": "iVBORw0KGgoAAAANSUhEUgAAAp8AAAHBCAYAAAAvhNASAAAAOXRFWHRTb2Z0d2FyZQBNYXRwbG90bGliIHZlcnNpb24zLjQuMSwgaHR0cHM6Ly9tYXRwbG90bGliLm9yZy/Z1A+gAAAACXBIWXMAABP+AAAT/gEHlDmEAABSQ0lEQVR4nO3de3hU9b3v8U9uMJlAgjFIDEQSUEsDBIoEsWJhH02xtoASBAu1tiLQpxY3mm53b6YltrbFWijgPq3I3lXZxYPgI3jZHo3HG1uQAHINqYUAJkQBG8kA45CEzPmDTnZCMsmsmVkza9a8X8/Tp+2atYZffrMu37XW7/f9Jni9Xq8AAACACEiMdgMAAAAQPwg+AQAAEDEEnwAAAIgYgk8AAABEDMEnAAAAIobgEwAAABFD8AkAAICIIfgEAABAxBB8AgAAIGIIPgEAABAxBJ8AAACImORoN8AM9fX1eumllzRkyBClpaVFuzkAAAC2dPbsWdXU1Ogb3/iGcnJyAtrGlsHnSy+9pAULFkS7GQAAAHHhT3/6k+bPnx/QurYMPocMGSLpQkeMHDkyyq3pzOVyadeuXRo9erTS09Oj3RxboW/NRf+ah741F/1rHvrWXFbv371792rBggVtsVcgbBl8+l61jxw5Utddd12UW9NZQ0ODPB6PioqKlJmZGe3m2Ap9ay761zz0rbnoX/PQt+aKlf41MsyRCUcAAACIGIJPAAAARAzBJwAAACKG4BMAAAARQ/AJAACAiCH4BAAAQMQQfAIAACBiCD4BAAAQMQSfAAAAiJiQKhz9+te/1s6dO7Vjxw4dPnxYgwcP1pEjRwx/z9NPP62lS5equrpa6enpmjJlin7961+rf//+oTQPUKO7Wc/tqFXFgeM67WlRX0eyiguy9dUvDtD/rfqk0/IZYwYpw5kS7WYDQFQEc84EjAop+PzJT36izMxMjRkzRqdOnQrqO5YuXaoHHnhAEydO1B/+8AfV1dXp97//vbZs2aJt27YZKtcEtLeuslZlG/fJ09LaYfnWmgY9/FJVp/W31jTo0VerVT5thGYW5UaqmQBgCcGeMx+8KV+XRqqRsIWQgs9Dhw61FZIfMWKEzpw5Y2j7Tz/9VD/72c9UVFSkN954Q0lJSZKkoqIiTZ06VX/4wx/0k5/8JJQmIo40upu1prJem/Yn6tf7duiT002Gv8PT0qoHN+zRsjc+1BWZTp6GArCt9k85P2pwq/6Ux/B3eFpaVf7qIV3SK0lD6/bra6MGcc5Ej0IKPn2BZ7BeeOEFud1uLVy4sC3wlKQpU6ZoyJAhWrNmDcEnAtLxjj1RkvHAs736Ux7Vn/LwNBSALfl7yhmsz5oStL3Wpe21VZwz0aOoTjiqrKyUJF133XWdPhs/fryqq6sNP01F/FlXWasHN+wJ20n0Yr6noesqa035fgCIJM6ZiLaQnnyGqr6+XpI0cODATp8NHDhQXq9X9fX1uvrqq/1+R21trerq6jos27t3ryTJ5XKpoaEhjC0OD5fL1eG/YYzL06JNe0/onYOfqfHzFh38uzsi/27Zxn0aN7C30h1RPWyiin3XPPStuejfC1yeFj20cV9E/q0fPb9Hq945qAxHsiZelakpI/rH9fkzWFbfd4NpV1T3Arf7QtDQu3fvTp85HI4O6/izevVqLV68uMvPdu3aJY/H+BiWSNm9e3e0mxBztp5I0PrDiWpuTYj4v+1padW0P25Tf4dXIzO9GtffK2ecnkfZd81D35orHvvX3SK9fyJB+z5L0ElPgs61ROb82eqV/nbywjV8e61Ly986rBn5rRp/mTci/77dWHXfra6uNrxNVC+dTqdTknTu3DmlpqZ2+MwXNPrW8Wfu3LmaPHlyh2V79+7VggULNHr0aBUVFYWxxeHhcrm0e/dujRo1Sunp6dFuTsx4Yc8Jrd1yKKptaGxKUGNTgg66pFfqEvWvN+Xr1sLLotqmSGLfNQ99a6547d8X9pzQbysO65xJr9iNaG5N0NpDSbrqqqFxdd4MldX3Xd/DQiOiGnzm5ORIko4dO6Yrr7yyw2fHjh1TQkJC2zr+5ObmKje360HN6enpyszMDE9jTWD19llJo7tZSyrej3YzOjj3j1mefdLS4m5gPfuueehbc8VT/66rrFX5q9G9Ye/KkjcOq2TcUGbEG2TVfTeYgDiqE458TyW3bNnS6bOtW7fqC1/4gvr06RPpZsGC1u+sM21wfKjKNu1To7s52s0AgDaN7maVRWhsp1Ge5lZt2FnX84qwrYgFnx999JGqq6vV3Pw/F+lp06YpNTVVK1eu1Pnz59uWv/jii6qpqdGcOXMi1TxY3OtVn0S7CX5xIgVgNVa+YZek16uOR7sJiKKQXrs/88wzOnr0qCTp5MmTampq0i9/+UtJ0uDBg3XnnXe2rfvtb39bb7/9tg4fPqy8vDxJUv/+/fXwww/rhz/8oW666SZ985vf1LFjx/TYY49p2LBhWrRoUSjNQ4xrnwB5V+2paDenW69XHdfdE/Kj3QwAkGTtG3ZJ2l13Sqs3HyYhfZwKKfhcvXq13n777Q7LHnroIUnSxIkTOwSf/pSWlurSSy/V0qVLdd999yk9PV0zZ87Ub37zG165x7FwJ0CWpJx+Dg3OTFNxwQAVf3GAXjtwXBVVx3W04WxQlT3a40QKINrCfcNu5jnT3XReD79EQvp4FVLw+dZbb4Vl3e985zv6zne+E0pTYCO+BMjh4khJVPnUzie3uRPyNfcfTytDDXY5kQKIpnDesEfinOnjS0gvifNmHInTLIWwqnAMkk+QV1f2T1NW31QVFwxQSQBPI2cW5Wry8Gyt31mniqrjOvzpGX3iOmf43+ZECiDSwnHDnp3uUH5WWlDnzP/aU6f6Txv18ecJ8gaZwrNs0z5NHp7Nm6M4QfAJSwnHIPk7hrbqX0pGGU5JkeFMabuzb3Q369pHKoJuCydSAJEQjht2R0qi/u/9X1FGqrHzle+ceVtBht599139PeMLQad28k3cZOx8fIhqqiXgYqEMknekJKrs5qFhqZ6R4UxR+bQRQW/PDHgAkRCOG/byqSMMB55dubXwMi0pKZQjObjQghnw8YPgE5Zy2tNiaH1HSqKuG3Kpyr5RoPd/fFNYq2bMLMrlRArA0kK9YV9SUhjWIUIzi3L1/k9u0kPfKFBaryRD27o85EuOF7x2hyX4ZmnWNrgNbfel3Eu0dv74tv/fENoEzE7aj2v6/Wt/1dmm8z1v9A+cSAGYLZgb9i/lXhLw2M5g+F7Hv171ibbWNAS83ZFPz+qOJ7aouCCbzCE2R/CJqAtl1mRxwQATWtRRsCfSdAcnTgDm6uswdhm/+IbdTMUF2YbOmWebzmtrTYO21jSQOcTmeO2OqPLN0gwm8HSkJKrkmkEmtKprxQXZhtY//I+7+NWbD1N+E0BYNbqb9eS7Nfq40djrnkjcsPvMGDMo6GFLvswh6yprw9wqWAHBJ6Im1Fma4RokHyijJ9JPXB5trWnQwy9V6dpHKjiJAgiLdZW1uvaRCv3y5QM6+vfAhypF+oY91Imb0oXMIdy82w/BJ6Im2FmaZgySD0QoJ1Lu4gGEQyhviyJ9wy6FPnGTzCH2RPCJqDE6SzPdkdw2qz1a44BCPZFyFw8gWMG+LYrWDbtP+xnw1w25VE6Ds+DJHGI/TDhC1BidpZmb6bREAuJQqiGRSBlAsIy+Lcq71KlvX5dn2qx2I9oX8fj68ne1v94V8LZkDrEfnnwiaozO0rTS7HHfiXTt/PHKy0oztC138QCCYfRt0eUZqbp7Qn7UA8+LxfK5H+FB8ImI8s3QvOOJLTry6VlD20ZylqYRRp/gchcPIBh2OdcYzRxS3/g5WUNshuATEdN+hubWmoaAX1VLkZ+laQR38QAiwS7nGqOZQ47+3U3WEJsh+EREhDJDU4rOLM1AGb2Lt+oTXADWZpdzTbCZQ8gaYh8EnzBdKPk8oz1LMxBG7uITJL2y72NeIQEISPuhSs9tr1VCQmDbWfltkRRa5hCyhsQ+ZrvDdEZnaGanO5SflWZq7eFw8t3FP7hhT4/reiVtP/KZth/5jPJxALoVSulhK78t8mmfOeSZLUd0JMCE+WQNiX08+YTpjM7QzM9K09r54y05S9OfYO7ieYUEwJ9ghyrFwtui9nyZQ7IzHIa2I2tIbOPJJ0xnlxmaPWl/F//q3o+1/ehn8gawXdmmfZo8PDtmAm0A5jIyVCkxQbp6QF9d4uwVM2+LuhIv1wlcQPAJ09llhmYgfHfxklR59LOAtuEVEoD2jAxVavVKM8fmxvz5I56uE+C1OyLALjM0jTA61IBXSAB84vH8EY/XiXhG8AnTGZkNbvUZmoHiFRKAYMXj+SMerxPxjOATpvGlCFmwZrsy+/QKaJtYmKEZCF4hAQhWPJ4/jOT+zOmXqtmrtuqOJ7aQti5GMeYTpjCaIsSRkqjyqfZJO1RckK2tNQ0G1ucVEoAL4vX84Tv/93TtqDn5P6WZt9Y0kLYuBhF8Iux8KUJ6ktPPocGZsZPP04gZYwbp0VerAwq+eYUEoL14Pn+0zxpSUXVcLk+zPE3ndejTs3638aWt820P6+O1O8LKSIqQhrNN+uO3rompfJ6BMvIKyS5DDQCER7yfP3xZQ9bOH6+/3DNex059HtB2VD6KHQSfCCsjKUJ8KYbsqqfE87GWDBpA5HD+uIBrij3x2h1hFUyKkFjPT9edrl4hpTtSVFwwQMVfHKD/W/WJ7nhii057WtTXkazigmzNsNkQBACBaXQ367kdtao4cLztnPCD/3WVEiRtPvhph/OH3YYq+cM1xZ4IPhFW8ZgipCe+V0hz250Q11XWqnjp253u6Bk8D8Qnf5M0t9Y0yJGcGLfnBK4p9kTwibCKxxQhRvU0IYvB80B84ZzgH9cUe2LMJ8KKKhXdMzIhi8HzgP1xTuge1xR7IvhEWFGlonsMngfQHueE7nFNsSeCT4TMV8nojie2aPaTW5XTLzWg7eyYIqQn8VizGYB/nBO6R+Uje2LMJ0JitJKRZL9qRkYweB5Ae5wTekblI/sh+ETQAq1kNLR/mhwpSXGXIqQrDJ4H0B7nhMBQ+cheCD4RFCOD5I+d+lzv//imuA0424vXms0AusY5IXDt09Y1upt17SMVAW1XtmmfJg/P5hpkIYz5RFAYJB8cBs8DaI9zQnC4BsU2gk8EhUHywYn3ms0AOuKcEByuQbGN4BNBYZB88KjZDKA9zgnGcQ2KbYz5RFAYJB8afzXfJ1yZJa+k5z+o01NbjlDvHbChrmq4Fxdk6/X7J+q1A8c7nBPifZKmP1yDYhvBJ4LCIPnQXVzzvbvazqQMAewhkON87fzxUWpd7OAaFNt47Y6gMEg+vHxpq/wNoPelDFlXWRvhlgEIF47z8OEaFNsIPhEUBsmHD7WdAfvjOA8vrkGxjeAThrQvpfnUliMakpWm5MSELtdlkHxgSBkC2B/Hefj1NFErOTFBQ/qn6aktRyi5aTGM+UTAuiulmZyYoMGXOqlkFIRgUobc/Y9xogBiA8e5OfxVPjra4FZLq5eSmxZF8ImA9FRKs6XVq0Mnz/KkMwikDAHsj+PcPO0nb/Z0raLkpjXw2h09YqySuUgZAtgfx7n5uFbFDoJP9IixSuYqLsg2uD4pQ4BYw3FuPq5VsYPgEz2ijJm5SBkC2B/Hufm4VsUOgk/0iLFK5iJlCGB/HOfm41oVOwg+0SPGKpmP2s6A/XGcm4trVexgtjt6RBmzyPBX7520VYB9cJybh2tV7CD4RI9mjBmkR1+tDmggN2OVQnNxvXcA9sNxbg6uVbGD4BM98o1V6i53mg9jlczR6G7WcztqVXHguE57WtTXkazigmzN4EkJYGkcu5HDtSp2EHyiS12dMKcUXq7Xqo7rXBd3lY6URJVPpWqEGfxVlqJaB2BtHLuR5+tPf9X4eicnqLggW89/UKenthzhZiBKCD7RSXdlNHsnJWhK4eX69EwTY5UigGodQGzi2I0ef+Nqs/r00mtVx/XSno87rM/NQOQRfKKDnk6Y58579eKej5mRGQFGq3VMHp7NDQBgARy70XfxuFpuBqwlpFRLra2tWrp0qYYNGyaHw6Hc3FyVlpbq7NmzAW1/5swZPfLIIxo5cqT69u2rrKwsffnLX9af//xneb3eUJqGIFCazFqo1gHEJo5da+HaZj0hBZ/333+/HnjgARUUFGjFihW6/fbbtXz5ck2ZMkWtrd0feK2trfra176mhx56SEVFRXrsscf0s5/9TOfPn9d3v/td/ehHPwqlaQgCJ0xroVoHEJs4dq2Fa5v1BP3aff/+/VqxYoWmT5+uDRs2tC3Pz8/Xfffdp2effVazZ8/2u/3777+vzZs3a9GiRVq6dGnb8u9///saNmyY/vSnP+m3v/1tsM1DEII5Yd5NqhDTUK0DiE0cu9bCtc16gn7yuXbtWnm9Xi1atKjD8nnz5snpdGrNmjXdbu9yuSRJOTk5HZb36tVLWVlZSktLC7ZpCBInTGuhWgcQmzh2rYVrm/UE/eSzsrJSiYmJGjduXIflDodDo0ePVmVlZbfbjxs3Tv369dOSJUuUl5ena6+9Vm63W0899ZR27NihP/7xj8E2DUHihGktVOsAYhPHrrVwbbOeoIPP+vp6ZWVlqXfv3p0+GzhwoN577z01NTWpV69eXW5/ySWXaNOmTbrnnns0c+bMtuV9+/bVhg0bdOuttwbUjtraWtXVdRyfsXfvXkkXnq42NAR+AogU31Nf339bxfV56YZOmNfn9bVc/1q1b4Nx45A0LUlO7DKv6sUcyYm6cUia6b+HnfrXauhbc0Wyf6147JrJ6vturF/brN6/wbQr6ODT7XZ3GXhKF55++tbxF3xKUp8+fTRixAhNnTpVX/7yl9XQ0KDHH39cs2fP1saNG1VcXNxjO1avXq3Fixd3+dmuXbvk8XgC+GuiY/fu3dFuQgdZLVJKYpKaWyUpoZs1vUpJlC49fVDvvnswQq0zxmp9G6zpgxO09lCSJK+6/k0uLL9tcLN2VW6JWLvs0r9WRN+aK1L9a9Vj10xW3Xftcm2zav9WV1cb3ibo4NPpdOrEiRNdfuYL+JxOp9/t9+7dqy9/+ctaunSpvve977Ut/+Y3v6kRI0Zo3rx5OnTokJKSkrptx9y5czV58uRO371gwQKNHj1aRUVFgf5JEeNyubR7926NGjVK6enp0W5OB59fekLlrx7qYa0E/firQzW58LKItMkIK/dtMG6QdNWeE/ptxeGuK0slJ+nBm/J1a4R+C7v1r5XQt+aKdP9a7dg1Uyzsu7F8bbN6//oeOBoRdPCZk5OjqqoqnTt3rtMT0GPHjikrK6vbp55Lly6Vx+PR7bff3mG50+nU17/+da1cuVJHjhzR0KFDu21Hbm6ucnO7Tgibnp6uzMzMAP+iyLNK+y4upTkkK00fNbjV0to512qslNG0St+Gw92TMlUybminah3RrCxlp/61GvrWXJHsXyseu2ay8r5796RM9UlL81u9LzkxQVdc6tSGPSf12oefWbLkplX7N5iAOOjgs6ioSK+99pq2bdumG264oW25x+PRrl279JWvfKXb7Y8dOyZJOn/+fKfPWlpaOvw3zNNdKc3kxAQNvtQpR0qSrU+YseDiah0AYgPHrnV0VXbT03ReR//xsKXm5P8UyKHkprmCTrU0a9YsJSQkaNmyZR2Wr1q1Sm63W3PmzGlbdujQoU5jAgoKCiRJf/7znzssP3XqlDZu3KhLLrlEV155ZbDNQwB85cb8Jd9tafXq0Mmzuuu6PK2dP153T8gn8AQAxCzfzcDa+eN113V5OvTp2S7f8kn/U3JzXWVthFtpf0E/+Rw5cqTuvfderVy5UtOnT9ctt9yiAwcOaPny5Zo4cWKHBPM33nijjh492qFk5qJFi/T000/rRz/6kfbu3avrr79eDQ0NWrVqlT7++GM9/vjjPY73RPCoPWwPFw+Z6OtItuTrIsDuOBZjC9fA6Ao6+JSkZcuWKS8vT0888YRefvllZWVlaeHChSovL1diYvcPVQcPHqxt27apvLxcb7zxhp599lmlpqZq9OjReuyxxzR9+vRQmoYeBFNujIoP1uJvyASvi4DI4liMPVwDoyuk4DMpKUmlpaUqLS3tdr0jR450uXzo0KF66qmnQmkCgkS5sdjmGzLhj+91kSQueoCJOBZjE9fA6Ap6zCdiG+XGYpfR10WNbn47wAwci7GLa2B0EXzGKcqNxa5gXhcBCD+OxdjFNTC6CD7jVHFBtsH1qT1sFcG8LgIQfhyLsYtrYHQRfMapGWMGyZEc2M/vSElUyTWDTG4RAsXrIsAaOBZjF9fA6CL4jFMZzhSVTxsR0LrlU0coI5VXDlbB6yLAGjgWYxfXwOgKabY7YktXeeimFF6u16qOd117OEZKacab4oJsba1pMLA+r4sAM3Asxjbftc1flb/eyQkqLsjW8x/U6aktR8jdGkYEn3GiuzKavZMSNKXwcn16psn2tYftYMaYQXr01eqAJjrwuggwD8di7Ouq5Ga6I0VZfXrptarjemnPxx3WJ3dreBB8xoGe8tCdO+/Vi3s+1pKSQg6mGOB7XdTdb+rD6yLAPByL9uAruTn3H3k8yd1qPsZ82hx56OxpZlGulpQU+h0w70hJ5GYCiACORXvhmhkZPPm0OUqI2Ze/10UMmQAii2PRPrhmRgbBp81RQszeLn5dBCA6OBbtgWtmZPDa3ebIQwcAQGC4ZkYGwafNkYcOAIDAcM2MDF672xx56OJPV/lcyU0HhA/HmH1xzYwMgk+bIw9dfPGXz5XcdEB4cIzZG9fMyOC1uw01upv15Ls1uuOJLZr95Fbl9EsNaDvy0MU2X246fydNX266dZW1EW4ZYA8cY/ZnpOxmZlovLXhmu1ZvPkzKJYN48mkz3VUy8ocymrHPaG66ycOzeT0IGMAxFj96KrvpU3/Ko/pTHp56B4Hg00Z6qsrgM7R/mhwpSeShsxFy0wHm4hiLLxfnbj3acFb1pzx+16fqkTG8drcJI3flx059rr/cM15r54/X3RPyCTxtIJjcdAACxzEWf3y5W//4rWvUcKYpoG2oehQYgk+bCOauHPZBbjrAXBxj8Yvra/gRfNoEd+Xxjdx0gLk4xuIX19fwI/i0Ce7K41txQbbB9clNBxjBMRa/uL6GH8GnTXBXHt9mjBkkR3JghzO56QDjOMbiF9fX8CP4tAnuyuObkdx05HMFjOMYi19cX8OP4NMmuCvHzKJcLSkp9LsfOFIStaSkkDQgQJA4xuIT19fwI89njGtfYzizT69u85D5cFduXxfnpnN5msnnCoQRx1j88T31DiSPdk6/VM1etVV9HckqLsjWDPaJLhF8xjCj1YyoZBQffLnp5pLgGjAFx1j8CbTqUc3Js23/m8pH/hF8xqhAqxnl9HNocGYad+UAAISgq6fenqbzOvTpWb/bUPmoawSfMchINaOGs036r/u+QtAJAECI2j/1bnQ369pHKgLarmzTPk0ens21+B+YcBSDqLYAAEB0cS0OHk8+Y1Aw1RbuZmxS3Gs/Oe20p4UB8UAPOGbQHa7FwSP4jEFUW4BR/ianMSAe6BrHDHrCtTh4BJ8xiGoLMKKnyWkMiAc64phBILgWB48xnzGIagsIlJHJaWWb9qnRzZ054hvHDALFtTh4BJ8xiGoLCBQD4gFjOGYQKK7FwSP4jBGN7mY9+W6N7nhii2Y/uVU5/VID2o5qRvEtmAHxQDzjmEGgfJWPApGZ1ksLntmu1ZsP87RcjPmMCUYrGUlUM8IFDIgHjOGYgRGBVj6qP+VR/SkPE9b+geDT4gKtZDS0f5ocKUnUGEYHDIgHjOGYgVEXVz462nBW9ac8ftdnwhqv3S3NyMD3Y6c+11/uGa+188fr7gn5BJ6QxIB4wCiOGQTDV/noj9+6Rg1nmgLaJp4nrBF8WhgD3xEqBsQDxnDMIBRctwND8GlhDHxHqIwMiGdyGsAxg9Bw3Q4MwaeFMfAd4TCzKFdLSgr9Ps1xpCRqSUlh3I49Ai7GMYNgcd0ODBOOLIyB7wiXiwfEuzzNTE4DusExg2Bw3Q4MwacFNbqb9dyOWn3c6H+2XFcY+I7u+AbEz52QH+2mADGBYwZGFRdka2tNQ8DrH/70rO54YouKC7I1I45uagg+LSaYnJ4SA98BAIi2GWMG6dFXqwO+hn/i8ugTV/zl/2TMp4X4cnoaDTwlBr4DABBtRiasXcyX/3NdZW2YW2U9BJ8WYSSnZ3sMfAcAwDp6mrDWk3jI/8lrd4swkhtMkvIuderb1+Ux8B0h8Y0vrjhwXKc9LerrSI67sUeAxLGA8Lp4wtrhT8/oE9e5gLb15f+828ZjjQk+LcJobrDLM1JtvWPCfP7GF8fb2COAYwFmaD9h7Y4ntgQcfEoX8n/a+RpP8GkR5AZDJPnGF/tD7WHEC44FRALX+I4Y82kR5AZDpBgZXxwPY48QvzgWEClc4zsi+Iwil6dFT75bozue2KIjn541tC05PREsag8DF3AsIFKKC7INre/L/7l682G5DD41jQUEn1Gy9USCJv/bDv3y5QPaWtNgaCwIOT0RCmoPAxdwLCBSZowZZGj2uy/358MvVWnyv+3Q1hMJJrYu8gg+o+CFPSe09lCSzgWRz1MipydCw9gj4AKOBURKKPk/z7W0au2hJL2w50SYWxU9BJ8R1uhu1m8rDkvyGt6WnJ4IB8YeARdwLCCSQsv/6dWSisO2GXfMbPcIW7+z7h9PPAN7hJ6d7lB+VpqKCwaQ0xNhYbT2MOOLYVccC4i04PN/JsjTYp/8nzz5jDCjY4zys9K0dv543T0hn8ATYWFk7BHji2FnHAuIBl/+z7XzxysvK83QtnYZd0zwGWGMMUK0GRl7xPhi2BnHAqItXmOCkILP1tZWLV26VMOGDZPD4VBubq5KS0t19mzgaYMaGhr0wx/+UFdeeaUcDof69++vf/qnf9K7774bStMsp9HdrCffrVFtg9vQdowxghl6GnvE+GLEC44FRJPRcce1DW6t3hz7Yz9DGvN5//33a/ny5brttttUWlqqAwcOaPny5frggw9UUVGhxMTuY9ujR49q0qRJOnPmjObOnaurr75ajY2N2rNnj44dOxZK0yzFX+m2QDDGCGa5eOyRy9OsdEcK44sRdzgWEC1Gxx27PC16+KWqmC/7GnTwuX//fq1YsULTp0/Xhg0b2pbn5+frvvvu07PPPqvZs2d3+x3f+ta31NLSoj179ujyyy8PtimW1lPptu4wxghma197GIhnHAuIhhljBunRV6sNP5yK9bKvQb92X7t2rbxerxYtWtRh+bx58+R0OrVmzZput3/nnXe0efNmPfjgg7r88svV3Nwst9vYK2mrM1K6rSuMMQIAwL5Cyf8pxW7Z16CffFZWVioxMVHjxo3rsNzhcGj06NGqrKzsdvtXXnlFknTFFVdoypQp+q//+i+dP39eV111lcrKyvStb30roHbU1taqrq5jybO9e/dKklwulxoaAn+cHW7/uf3joF61O5IT9eBN+bppaFpU2x+LXC5Xh/9GeNG/5qFvzUX/moe+Dc1NQ9NUdvNQ/bbisOHiM57mVj2z+UPNHhu9t8fB/O5BB5/19fXKyspS7969O302cOBAvffee2pqalKvXr263P6vf/2rpAtPSq+66io99dRTampq0mOPPaY777xTzc3N+u53v9tjO1avXq3Fixd3+dmuXbvk8XgM/FXhtXF/oow8XE5N8urm3FaN698iZ+Nf9e67fzWvcTa3e/fuaDfB1uhf89C35qJ/zUPfBu9SSb/4krTtZIJerU3U5+cDL6e5cXuNcj8/aF7jelBdXW14m6CDT7fb3WXgKV14+ulbx1/wefr0aUlS37599eabb7atd+utt2rIkCH6yU9+orvuuqvHSUtz587V5MmTOyzbu3evFixYoNGjR6uoqMjQ3xUql6dFm/ae0DsHP1Ot+4ykwO9iBl/aRw/NLDSvcXHA5XJp9+7dGjVqlNLT06PdHNuhf81D35qL/jUPfRs+kyUd+PMeVZ8IPGvQR+5kPVPXRxOvytSUEf2VbnAGfah8MZ8RQbfQ6XTqxImu64z6njY6nU6/26empkqSvvnNb3YIUC+55BJNnTpVTz/9tP7617/qi1/8YrftyM3NVW5u14Nt09PTlZmZ2e324RTKrHZJuqSPI6LttbNI//Z20+hu1nM7alVx4LhOe1rU15Gs4oJs3TjkQkJk+tc89K3Jejn1/P5TnfbtGcxqDxn7bnj069NbMhB8nmtp1fZal7bXuvT4Ox9FfBZ8MDccQQefOTk5qqqq0rlz5zo9AT127JiysrL8PvWUpEGDLszizs7O7vSZb+b7Z599FmzzIi6UWe0+pFWCFfi7idpa06AlyYmaPjhBN0SpbUAotp5I0IP/tqPTuLqtNQ0xn7oG9mE0/VJ7sTILPujZ7kVFRWptbdW2bds6LPd4PNq1a5fGjh3b7fa+iUoXTxZqv+yyyy4LtnkRFeqsdom0SrAG302Uv6f351patfZQkl7Y0/VbD8CqXthzQmsPJfmd0OG7aK+rrI1wy4COjJR99cfqs+CD/utmzZqlhIQELVu2rMPyVatWye12a86cOW3LDh061GlA6q233qq+fftqzZo1OnPmTNvyjz/+WC+88IKuvvpqXXnllcE2L6LW76wL+lW7D2mVEG2B30R5taQi9itsIH40upv124rDkrw9rmv1izbsL9T0S9KFWfAbdnZ+uGcVQQefI0eO1L333qvnn39e06dP15NPPqnS0lI98MADmjhxYocE8zfeeGOnsZuXXHKJfve73+nYsWMaP368fv/73+s3v/mNxo8fr6amJq1YsSL4vyrCXq/6JOhtKd0Gqwj8JipBnhZrn9iA9tbvrPvHE8+eZxBb/aKN+NBT2ddAvF51PIwtCq+QpkQtW7ZMeXl5euKJJ/Tyyy8rKytLCxcuVHl5eY+z1CVp/vz5ysrK0pIlS/TQQw8pMTFR1113nf7yl7/o+uuvD6VpEeGblLGnrtHQdr2TE3WFs0XTxg7RnROuZpA7LMHoTdTrVcd1N9VgEAPYtxGLfGVfn978oTZtr9FH7mRDeUB3153S6s2HLTmZLqTgMykpSaWlpSotLe12vSNHjvj9bPr06Zo+fXoozYiKUGa2j8zpozsHNuiGsZdbbodA/DrtaTG0vsvDq0nEBvZtxKoMZ4rmjL1cV3x+UM/U9dH22sATurubzlu2DnxoI1rjVE+TMnoy6UpSUcB6+hrMDZfu4MYJsYF9G3Yw8argYgcrTqYj+DQo1JntjpRETRnRP4wtAsKjuKBz2rPu1yc1GGID+zbsYMqI/iGNAbXSZDqCT4NCndlePnWE4btwIBICT+/hlSOZ1GCIHTPGDFLv5EQFMtudtHewqnRHckiz4K00mY7g06BgZ7Yzqx1WF3h6jwQ9eFM+qcEQMzKcKfrXm/IVyGx30t7BykKdBW+VGfA8gjPI6MD1tF5JKv3qF1RiwdlmwMV8N0f+JtM5khN12+Bm3VoYGwUgAJ9bCy/T3/72oZ4/mtLljGFHSqLKp1prUgbQFd8s+PU76/T71/6qs03nA97WKpPpCD4NMvrKvHBQP1J2IKa0P7FVVB2Xy9OsdEeKigsG6H8NSdPuyi3RbiIQlPGXebXg69fojZqznfZtHhAglmQ4UzR3Qr5er/rEUClOq0ymI/g0yGjNVQauIxb5TmxzL7pxamgIrt4wYBXpjuQu920gFsVqTMKYT4OM1Fxl4DoAADBLrMYkBJ8GGam5ysB1AABglliNSQg+g9DTbDNmtgMAgEiIxZiEMZ9B6m5SBgPXAQBApMRaTELwGQJ/kzIAO2p0N2tNZb027U/U/z60R/369FZxQbZmWPDEBjS6m/XcjlpVHDiu054WpSZJuUkJGuVpEQWOYUexFJMQfALo0brK2na5PxMl11npxFltrWnQo69Wq3wa+RFhHR331/+xXUl65d926GH2VyCqCD4BdGtdZa0e3LDH7+eelta2z7mgI9p62l/Psb8CUceEIwB+NbqbVbZxX0Drlm3ap0a3NapnID6xvwKxgeATgF/rd9Z1WWazK57mVm3YWWdyiwD/2F+B2EDwCcCv16s+Mbj+cZNaAvSM/RWIDQSfAPw67WkxtL7Lw2tMRA/7KxAbCD4B+NXXYWxOYrqDlEuIHvZXIDYQfALwq7gg2+D6A0xqCdAz9lcgNhB8AvBrxphBfku2XcyRkqiSawaZ3CLAP/ZXIDYQfALwK8OZovJpIwJat3zqCGWk8hoT0cP+CsQGgk8A3ZpZlKslJYV+nyg5UhK1pKSQhN2whB7312T2VyDaqHAEoEczi3I1eXi2nt78oTZtr1GSo68u6eNQccEAlVDbHRbj21/X76xTRdVxuTzNSk2WchM/0z9PLVJezmXRbiIQ1wg+AQQkw5miOWMv1xWfH9QNNxQqMzMz2k0C/MpwpmjuhHzNnZAvSWpoaNC7776rdIMz4gGEH6/dAQAAEDEEnwAAAIgYgk8AAABEDINfAISk0d2s53bUquLAcZ32tKivI1nFBdmawUQkRAj7IBBbCD4BBG1dZa3KNu6Tp6W1w/KtNQ169NVqlU8bQUobmIp9EIg9BJ8AgrKuslYPbtjj93NPS2vb51z8YQYj++BNQ9Mi1SwAPWDMJwDDXJ4WlW3cF9C6ZZv2qdHdbHKLEG8a3c2G9kGXp8XkFgEIFMEnAMNe3Hey02tOfzzNrdqws87kFiHerN9ZZ2gffGnfSZNbBCBQBJ8ADHv7bw2G1n+96rhJLUG8er3qE0Prv3XQ2D4LwDwEnwAMO3PuvKH1XR5euyO8Tht8jX7GY2yfBWAegk8AhvXpnWRo/XQH6W4QXn0Nlsns4zC2zwIwD8EnAMMmXmWsrntxwQCTWoJ4VVyQbWj9SVca22cBmIfgE4BhU0b0lyM5sNOHIyVRJdcMMrlFiDczxgwytA9OGdHf5BYBCBTBJwDD0h3JKp82IqB1y6eOUEYqr90RXhnOFEP7oNHX9ADMQ/AJICgzi3K1pKTQ79MnR0qilpQUkmAepmEfBGITt4IAgjazKFeTh2dr/c46VVQdl8vTrHRHiooLBqiEutqIAPZBIPYQfAIISYYzRXMn5GvuhPxoNwVxin0QiC28dgcAAEDEEHwCAAAgYgg+AQAAEDEEnwAAAIgYJhwBCLtGd7Oe21GrigPHddrTor6OZBUXZGsGs48RAvYrwB4IPgGE1brKWpVt3CdPS2uH5VtrGvToq9UqnzaCvIswjP0KsA+CTwBhs66yVg9u2OP3c09La9vnBAoIFPsVYC+M+QQQFo3uZpVt3BfQumWb9qnR3Wxyi2AH7FeA/RB8AgiL9TvrOr0S9cfT3KoNO+tMbhHsgP0KsB+CTwBh8XrVJwbXP25SS2An7FeA/RB8AgiL054WQ+u7PLweRc/YrwD7IfgEEBZ9HcbmL6Y7SI2DnrFfAfZD8AkgLIoLsg2uP8CklsBO2K8A+yH4BBAWM8YMkiM5sFOKIyVRJdcMMrlFsAP2K8B+CD4BhEWGM0Xl00YEtG751BHKSOX1KHrGfgXYT0jBZ2trq5YuXaphw4bJ4XAoNzdXpaWlOnv2rOHvcrvdGjJkiBISEvSDH/wglGYBiJKZRblaUlLo90mVIyVRS0oKSQQOQ9ivAHsJqcLR/fffr+XLl+u2225TaWmpDhw4oOXLl+uDDz5QRUWFEhMDj23Lysp08uTJUJoDwAJmFuVq8vBsrd9Zp4qq43J5mpXuSFFxwQCVUIMbQWK/Auwj6OBz//79WrFihaZPn64NGza0Lc/Pz9d9992nZ599VrNnzw7ou3bu3Klly5ZpyZIlKi0tDbZJACwiw5miuRPyNXdCfrSbAhthvwLsIejX7mvXrpXX69WiRYs6LJ83b56cTqfWrFkT0PecP39e8+bN080336zp06cH2xwAAADEgKCffFZWVioxMVHjxo3rsNzhcGj06NGqrKwM6HuWLl2q6urqDk9PAQAAYE9BB5/19fXKyspS7969O302cOBAvffee2pqalKvXr38fsfhw4f185//XGVlZcrLy9ORI0cMt6O2tlZ1dR1r+e7du1eS5HK51NDQYPg7zeZyuTr8N8KHvjUX/Wse+tZc9K956FtzWb1/g2lX0MGn2+3uMvCULjz99K3TXfD5ve99T0OGDNEDDzwQbDO0evVqLV68uMvPdu3aJY/HE/R3m2337t3RboJt0bfmon/NQ9+ai/41D31rLqv2b3V1teFtgg4+nU6nTpw40eVnvoDP6XT63X7NmjV6/fXX9c477yglJfhZinPnztXkyZM7LNu7d68WLFig0aNHq6ioKOjvNovL5dLu3bs1atQopaenR7s5tkLfmivU/nV5WrRp7wm9c/AznTl3Xn16J2niVZmaMqK/0g2WUbQb9t2Owr2v0L/moW/NZfX+9T1wNCLos31OTo6qqqp07ty5Tk9Ajx07pqysLL9PPc+dO6cHHnhAt9xyi7Kzs3Xw4MG27SSpsbFRBw8eVFZWlvr169dtO3Jzc5Wb23Vut/T0dGVmZhr8yyLH6u2LZfStuYLp33WVtSrbuE+eltYOy7fXuvT4Ox+pfNoI8jSKfVcyd1+hf81D35rLqv0bTEAc9Gz3oqIitba2atu2bR2Wezwe7dq1S2PHjvW77eeff66TJ0/q5Zdf1lVXXdX2n0mTJkm68FT0qquu0pNPPhls8wBYyLrKWj24YU+nYMLH09KqBzfs0brK2gi3DFbDvgLYX9BPPmfNmqVHHnlEy5Yt0w033NC2fNWqVXK73ZozZ07bskOHDqm5uVnDhg2TJKWlpem5557r9J0nT57U97//fd18882aO3euCgsLg20eAItodDerbOO+gNYt27RPk4dnkzA8TrGvAPEh6OBz5MiRuvfee7Vy5UpNnz5dt9xyS1uFo4kTJ3ZIMH/jjTfq6NGj8nq9kqSUlBTNmDGj03f6ZrsPHTq0y88BxJ71O+v8PsW6mKe5VRt21ulukojHJfYVID6EVNt92bJl+t3vfqf9+/fr3nvv1bPPPquFCxfqpZdeMlRaE4B9vV71icH1j5vUElgd+woQH0KaXpqUlKTS0tIeS2IGmr8zLy+v7ekoAHs47WkxtL7L02xSS2B17CtAfODxJABT9TWYFifdwRi+eMW+AsQHgk8ApiouyDa4/gCTWgKrY18B4gPBJwBTzRgzSI7kwE41jpRElVwzyOQWwarYV4D4QPAJwFQZzhSVTxsR0LrlU0coI5VXqfGKfQWIDwSfAEw3syhXS0oK/T7VcqQkaklJIRWOwL4CxIH4LqYMIGJmFuVq8vBsrd9Zp4qq43J5mpXuSFFxwQCVjBlEsnC0YV8B7I3gE0DEZDhTNHdCvuaSGBw9YF8B7IvX7gAAAIgYgk8AAABEDMEnAAAAIoYxnwCirtHdrOd21KriwHGd9rSoryNZxQXZmsHkEtvjtwfiD8EngKhaV1mrso375Glp7bB8a02DHn21WuXTRpBWx6b47YH4RPAJIGrWVdbqwQ17/H7uaWlt+5wgxF747YH4xZhPAFHR6G5W2cZ9Aa1btmmfGt3NJrcIkcJvD8Q3gk8AUbF+Z12n163+eJpbtWFnncktQqTw2wPxjeATQFS8XvWJwfWPm9QSRBq/PRDfCD4BRMVpT4uh9V0eXr3aBb89EN8IPgFERV+HsfmO6Q7S7tgFvz0Q3wg+AURFcUG2wfUHmNQSRBq/PRDfCD4BRMWMMYPkSA7sFORISVTJNYNMbhEihd8eiG8EnwCiIsOZovJpIwJat3zqCGWk8urVLvjtgfhG8AkgamYW5WpJSaHfp2COlEQtKSkkybgN8dsD8YsKRwCiamZRriYPz9b6nXWqqDoul6dZ6Y4UFRcMUAn1vW2N3x6ITwSfAKIuw5miuRPyNXdCfrSbggjjtwfiD6/dAQAAEDEEnwAAAIgYgk8AAABEDGM+AVhSo7tZz+2oVcWB4zrtaVFfR7KKC7I1g4koMYvfFIBE8AnAgtZV1qps4z55Wlo7LN9a06BHX61W+bQRpOCJMfymAHwIPgFYyrrKWj24YY/fzz0trW2fE6zEBn5TAO0x5hOAZTS6m1W2cV9A65Zt2qdGd7PJLUKo+E0BXIzgE4BlrN9Z1+m1rD+e5lZt2FlncosQKn5TABcj+ARgGa9XfWJw/eMmtQThwm8K4GIEnwAs47SnxdD6Lg+vaK2O3xTAxQg+AVhGX4exOZDpDtLzWB2/KYCLEXwCsIzigmyD6w8wqSUIF35TABcj+ARgGTPGDJIjObDTkiMlUSXXDDK5RQgVvymAixF8ArCMDGeKyqeNCGjd8qkjlJHKK1qr4zcFcDGCTwCWMrMoV0tKCv0+LXOkJGpJSSHJyGMIvymA9qhwBMByZhblavLwbK3fWaeKquNyeZqV7khRccEAlVAHPCbxmwLwIfgEYEkZzhTNnZCvuRPyo90UhAm/KQCJ1+4AAACIIIJPAAAARAyv3QHElEZ3s57bUauKA8d12tOivo5kFRdkawbjBi2D3whAdwg+AcSMdZW1Ktu4T56W1g7Lt9Y06NFXq1U+bQQzpqOM3whATwg+AcSEdZW1enDDHr+fe1pa2z4nuIkOfiMAgWDMJwDLa3Q3q2zjvoDWLdu0T43uZpNbhIvxGwEIFMEnAMtbv7Ou02tcfzzNrdqws87kFuFi/EYAAkXwCcDyXq/6xOD6x01qCfzhNwIQKIJPAJZ32tNiaH2Xh1e6kcZvBCBQBJ8ALK+vw9jcyHQH6Xwijd8IQKAIPgFYXnFBtsH1B5jUEvjDbwQgUASfACxvxphBciQHdrpypCSq5JpBJrcIF+M3AhAogk8AlpfhTFH5tBEBrVs+dYQyUnmlG2n8RgACRfAJICbMLMrVkpJCv0/XHCmJWlJSSPLyKOI3AhAIKhwBiBkzi3I1eXi21u+sU0XVcbk8zUp3pKi4YIBKqBtuCfxGAHpC8AkgpmQ4UzR3Qr7mTsiPdlPgB78RgO6E9Nq9tbVVS5cu1bBhw+RwOJSbm6vS0lKdPXu2x20//PBDlZWVafz48erfv7/69u2r0aNH61e/+lVA2wMAACD2hPTk8/7779fy5ct12223qbS0VAcOHNDy5cv1wQcfqKKiQomJ/mPbf//3f9fjjz+uqVOnas6cOUpJSdGbb76pn/3sZ1q3bp22bt2q1NTUUJoHIE40upv13I5aVRw4rtOeFvV1JKu4IFszeM1rOvoegFFBB5/79+/XihUrNH36dG3YsKFteX5+vu677z49++yzmj17tt/tZ8yYoR//+MfKyMhoW/a9731PV111lX71q19p9erV+sEPfhBs8wDEiXWVtSrbuK9TXfGtNQ169NVqlU8bwQQXk9D3AIIR9Gv3tWvXyuv1atGiRR2Wz5s3T06nU2vWrOl2+7Fjx3YIPH1mzZolSdq3b1+wTQMQJ9ZV1urBDXs6BT8+npZWPbhhj9ZV1ka4ZfZH3wMIVtDBZ2VlpRITEzVu3LgOyx0Oh0aPHq3Kysqgvreurk6SNGAA1S8A+NfoblbZxsBuUss27VOjm1ri4ULfAwhF0K/d6+vrlZWVpd69e3f6bODAgXrvvffU1NSkXr16Bfyd58+f18MPP6zk5ORuX9m3V1tb2xaw+uzdu1eS5HK51NDQEPC/Hykul6vDfyN86FtzWal//3P7x36ful3M09yqZzZ/qNljLze5VcGzUt/2JBb7Ppb6N9bQt+ayev8G066gg0+3291l4CldePrpW8dI8Llo0SJt2bJFjzzyiL7whS8EtM3q1au1ePHiLj/btWuXPB5PwP9+pO3evTvaTbAt+tZcVujfjfsTZeTlzcbtNcr9/KB5DQoTK/RtT2K572Ohf2MVfWsuq/ZvdXW14W2CDj6dTqdOnDjR5We+gM/pdAb8fQ899JBWrlyp+fPn68c//nHA282dO1eTJ0/usGzv3r1asGCBRo8eraKiooC/K1JcLpd2796tUaNGKT09PdrNsRX61lxW6t//fWiP5Ao8LVuSo69uuKHQxBaFxkp925NY7PtY6t9YQ9+ay+r963vgaETQwWdOTo6qqqp07ty5Tk9Ajx07pqysrICfev7iF7/QL3/5S333u9/VH//4R0PtyM3NVW5u17Mp09PTlZmZaej7Isnq7Ytl9K25rNC//fr0lk4EHgBd0scR9TYHwgp925NY7vtY6N9YRd+ay6r9G0xAHPSEo6KiIrW2tmrbtm0dlns8Hu3atUtjx44N6Ht+8YtfaPHixbrrrrv05JNPKiEhIdgmAYgjxQXZBtdnEmO40PcAQhF08Dlr1iwlJCRo2bJlHZavWrVKbrdbc+bMaVt26NChLscElJeXa/Hixbrzzjv17//+790mpQeA9maMGSRHcmDnDEdKokquGWRyi+IHfQ8gFEG/dh85cqTuvfderVy5UtOnT9ctt9zSVuFo4sSJHWar33jjjTp69Ki8Xm/bsscff1w///nPdcUVV+imm27SX/7ylw7fP2DAABUXFwfbPAA2l+FMUfm0EXpww54e1y2fOkIZqVTbCRf6HkAoQiqvuWzZMuXl5emJJ57Qyy+/rKysLC1cuFDl5eU9PsX05QH96KOPdNddd3X6fOLEiQSfALrlq57TVZUd6cJTt/KpVNkxA30PIFghBZ9JSUkqLS1VaWlpt+sdOXKk07I///nP+vOf/xzKPw8AmlmUq8nDs7V+Z50qqo7L5WlWuiNFxQUDVEJ9cVPR9wCCEVLwCQBWkOFM0dwJ+Zo7IT/aTYk79D0Ao5jhAwAAgIjhyScA22p0N+u5HbWqOHBcpz0t6utIVnFBtmbwStgw+hJAuBB8ArCldZW1XU6G2VrToEdfrVb5NCbDBIq+BBBOBJ8AbGddZW23aYA8La1tnxM0dY++BBBujPkEYCuN7maVbdwX0Lplm/ap0d1scotiF30JwAwEnwBsZf3Oui7zTnbF09yqDTvrTG5R7KIvAZiB4BOArbxe9YnB9Y+b1JLYR18CMAPBJwBbOe1pMbS+y8OrYn/oSwBmIPgEYCt9HcbmUaY7SBPkD30JwAwEnwBspbgg2+D6A0xqSeyjLwGYgeATgK3MGDNIjuTATm2OlESVXDPI5BbFLvoSgBkIPgHYSoYzReXTRgS0bvnUEcpI5VWxP/QlADMQfAKwnZlFuVpSUuj3qZ0jJVFLSgpJih4A+hJAuFHhCIAtzSzK1eTh2Vq/s04VVcfl8jQr3ZGi4oIBKqEeuSH0JYBwIvgEYFsZzhTNnZCvuRPy25Y1upv13I5aVRw4rtOeFvV1JKu4IFszCKIkdd8/F/clAASD4BNA3FhXWauyjfs6Ve3ZWtOgR1+tVvm0EXH9+pj+ARAJBJ8A4sK6ylo9uGGP3889La1tn8djgEX/AIgUJhwBsL1Gd7PKNu4LaN2yTfvU6I6vSj30D4BIIvgEYHvrd9Z1epXsj6e5VRt21pncImuhfwBEEsEnANt7veoTg+sfN6kl1kT/AIgkgk8Atnfa02JofZcnvl4r0z8AIongE4Dt9XUYm1uZ7oivlEv0D4BIIvgEYHvFBdkG1x9gUkusif4BEEkEnwBsb8aYQX7LQ17MkZKokmsGmdwia6F/AEQSwScA28twpqh82oiA1i2fOkIZqfH1Wpn+ARBJJJkHEBd8idG7quAjSb2TE1RckK3nP6jTU1uOxEXZzYtLaQ7JStNHDW61tHo7retISVT5VCocAQgdwSeAuDGzKFeTh2dr/c46VVQdl8vTrHRHirL69NJrVcf10p6PO6xv57KS/kppSlJyYoIGX+qUIyVJ6Y4UFRcMUImNg3AAkUXwCSCuZDhTNHdCvuZOyJcUn2Ule/qbW1q9OnTyrJaUFNrmbwZgHYz5BBC34rGsZDz+zQCsheATQNyKx7KS8fg3A7AWgk8AcSsey0rG498MwFoIPgHErXgsKxmPfzMAayH4BBC34rGsZDz+zQCsheATQNyKx7KS8fg3A7AWgk8AcSsey0rG498MwFoIPgHELSNlJTPTemnBM9u1evPhmEs/1Ohu1pPv1uiOJ7Zo9pNbldMvNaDtKKUJwAwkmQcQ13oqu+lTf8qj+lOemKt61F0lI38opQnATASfAOLexWU3jzacVf0pj9/1Y6XqUU+VjHyG9k+jlCaAiCH4BAD9T9nNGWMG6dpHKgLapmzTPk0enm3JQM1IJaNjpz7X+z++yZJ/BwD7YcwnALRjlwpAdvk7ANgPwScAtGOXCkB2+TsA2A/BJwC0Y5cKQHb5OwDYD8EnALRjlwpAdvk7ANgPwScAtGOXCkB2+TsA2A/BJwC0Y6QCUGKCtG57re54Yotlks/7Esr/1956JQS4DZWMAEQSqZYAoB1f1aNA8mO2eqXqT05LkiWSzweTUF6ikhGAyCL4BICLBFr16GLRTD4faEL59qhkBCAaCD4BoAsXVz36zN2kD4+fVqu3520jnXzeSEL5BElj8y7R10ZcTiUjAFHBmE8A8MNX9Wjt/PG6fWxuQIGnFPmk7UYSynslfW3E5bp7Qj6BJ4CoIPgEgABYOWm7ldsGABfjtTsABMBo0vYPaj/THU9sUXFBtmaY8Hq70d2s53bUquLAce2qPWVoWxLKA4gmgk8ACIDRpO2e5lZtrWkwZRZ8sLPafUgoDyCaeO0OAAEwmrS9Pd8s+HWVtSG3wzerPdjAUyKhPIDoIvgEgAAYST7vT9mmfSElojcyq90fEsoDiDaCTwAIgC/5fCg8za2a+vhmw9WQfFWLpj6+OaQnnhIJ5QFEH2M+ASBAwSafb+/o3916+KWqgMeBhjq+04eE8gCsguATAAy4OPn8B7WfydNsPDAMpBpSMFWL2nOkJOpLuZeouGAACeUBWEZIr91bW1u1dOlSDRs2TA6HQ7m5uSotLdXZs2cjsj0AREP75POjc/uF9F0/en6Pbl72juav3a/X6hK0ekud7nhii25e9o7+9fngA09J+lLuJVo7fzwJ5QFYSkhPPu+//34tX75ct912m0pLS3XgwAEtX75cH3zwgSoqKpSY2H1sG+r2ABBtxQXZ2lrTEPT2rV6p+pPT//h/SVJt6DPifZjVDsCKgg4+9+/frxUrVmj69OnasGFD2/L8/Hzdd999evbZZzV79mzTtgcAK5gxZpAefbU65DGZ4casdgBWFfSjxbVr18rr9WrRokUdls+bN09Op1Nr1qwxdXsAsIJwzII3A7PaAVhV0MFnZWWlEhMTNW7cuA7LHQ6HRo8ercrKSlO3BwCrmFmUqyUlhSHnAQ0HR0qilpQUMqsdgGUF/dq9vr5eWVlZ6t27d6fPBg4cqPfee09NTU3q1auXKdv71NbWqq6ursOyvXv3SpJcLpcaGoIfi2UWl8vV4b8RPvStuehf/24amqZx379GL+47qXU7P1btqXMR/fdz+zk0a0y2vjGiv9IdyZY890UT+6556FtzWb1/g2lX0MGn2+3uMnCULjy99K3jL3gMdXuf1atXa/HixV1+tmvXLnk8nm63j6bdu3dHuwm2Rd+ai/717wpJ379KKtuRpAsZmBJM/he9SkmUvn/VGTk/P6jdlQdN/vdiG/uueehbc1m1f6urqw1vE3Tw6XQ6deLEiS4/8wV8TqfTtO195s6dq8mTJ3dYtnfvXi1YsECjR49WUVFRj98RaS6XS7t379aoUaOUnp4e7ebYCn1rLvo3cJ9fekLlrx6KwL+UoB9/dagmF14WgX8rdrHvmoe+NZfV+9f3wNCIoIPPnJwcVVVV6dy5c52eYB47dkxZWVndPrUMdXuf3Nxc5eZ2PbYpPT1dmZmZAfw10WH19sUy+tZc9G/P7p6UqT5paWGpTuQPVYuMY981D31rLqv2bzABcdCj44uKitTa2qpt27Z1WO7xeLRr1y6NHTvW1O0BwOpmFuXq/Z/cpIe+UaDrhlyqYdl9lRjCW/jEBGlYdl9dN+RSlX2jQO//+CYCTwAxJ+jgc9asWUpISNCyZcs6LF+1apXcbrfmzJnTtuzQoUOdxgQY2R4AYlX7akivLvqKfjO9MOjv+s30Qr266CtULQIQ04J+7T5y5Ejde++9WrlypaZPn65bbrmlrULRxIkTOySIv/HGG3X06FF5vd6gtgcAu/A9qTTyOp7X6wDsJKTymsuWLVNeXp6eeOIJvfzyy8rKytLChQtVXl4eUGnMULcHgFg0syhXk4dna/3OOlVUHZfL06zUZGmA9zPl5eVp5zG3XJ5mpTtSVFwwQCVjBvGUE4BthBR8JiUlqbS0VKWlpd2ud+TIkZC2BwC78b2OnzshX5LU0NCgd999VzdcN0j/YsFJBQAQLjxeBAAAQMQQfAIAACBiCD4BAAAQMQSfAAAAiBiCTwAAAEQMwScAAAAihuATAAAAEUPwCQAAgIgJKcm8VZ09e1aStHfv3ii3pGsul0vV1dVyOBxKT0+PdnNshb41F/1rHvrWXPSveehbc1m9f32xli/2CoQtg8+amhpJ0oIFC6LcEgAAAPvzxV6BSPB6vV4T2xIV9fX1eumllzRkyBClpaVFuzmd7N27VwsWLNCf/vQnjRw5MtrNsRX61lz0r3noW3PRv+ahb81l9f49e/asampq9I1vfEM5OTkBbWPLJ585OTmaP39+tJvRo5EjR+q6666LdjNsib41F/1rHvrWXPSveehbc9mpf5lwBAAAgIgh+AQAAEDEEHwCAAAgYgg+o2DQoEH6+c9/rkGDBkW7KbZD35qL/jUPfWsu+tc89K257Ni/tpztDgAAAGviyScAAAAihuATAAAAEUPwCQAAgIgh+AQAAEDEEHwCAAAgYgg+AQAAEDEEnxHwpz/9SXPmzNGwYcOUlJSkhIQEw98xadIkJSQkdPmf7du3m9Dq2BGO/pWkV155RV/+8peVlpamzMxM3X777Tp8+HCYWxt7nn76aX3pS19SamqqBgwYoHvuuUcnT54MePu8vDy/++6nn35qYsujr7W1VUuXLtWwYcPkcDiUm5ur0tJSnT17NiLb212o/eNvv+zTp4/JLbe+X//617r99ts1ZMgQJSQkKC8vL6jvCfX8YUfh6NtYP6+S5zMC8vLy9Pe//11f+tKXdPjwYdXV1clot0+aNEn79+/X0qVLO312yy23KDMzM1zNjTnh6N/nn39eM2bM0KhRozRv3jw1NjZq2bJlSkpK0vbt25WTk2NS661t6dKleuCBBzRx4kTNnj1bdXV1+v3vf6/Bgwdr27ZtSktL6/E78vLylJqaqp/+9KedPrv99tvVu3dvM5puCf/8z/+s5cuX67bbbtPXvvY1HThwQCtWrNANN9ygiooKJSZ2f/8f6vZ2F2r/JCQk6IYbbtD8+fM7LE9JSdGsWbPMbLrlJSQkKDMzU2PGjNGOHTuUnp6uI0eOGPqOcJw/7CgcfRvz51UvTHf48GHv+fPnvV6v1/v1r3/dG0y3T5w40Tt48OAwt8weQu3fpqYmb05OjveKK67wnj59um35Bx984E1MTPTOmzcvrO2NFSdPnvQ6nU5vUVGRt6WlpW35pk2bvJK8v/rVrwL6nsGDB3snTpxoUiuta9++fd6EhATv9OnTOyxfvny5V5L3P//zP03d3u7C0T+SvHfddZdJLYxthw4davvfw4cPN3z9Cdf5w45C7VuvN/bPq/F92xwheXl5YXtC0draKpfLZfjJnp2F2r9vv/226uvrdc8993R43TZ69GhNmjRJ/+f//B81NzeHo6kx5YUXXpDb7dbChQuVlJTUtnzKlCkaMmSI1qxZY+j7Wlpa5HK5wt1My1q7dq28Xq8WLVrUYfm8efPkdDp77L9Qt7e7cPZPU1OTzpw5E+YWxrYhQ4aEtH24zx92Emrfther51WCzxhy7Ngx9enTRxkZGerTp4+mT5+u6urqaDcr5lVWVkqSrrvuuk6fjR8/Xi6XSx9++GGkmxV1PfVLdXV1wBfs999/X06nUxkZGerXr5/uuusu1dfXh7W9VlNZWanExESNGzeuw3KHw6HRo0e39a9Z29tduPpn/fr1cjqd6tu3ry677DItXLhQjY2NZjQ5roTz/IGuxfJ5NTnaDUBg8vPzdf3116uwsFBJSUl6//33tXLlSr3xxhvavHmzRo4cGe0mxizfwTpw4MBOn/mWHTt2TMOHD49ou6Ktp37xer2qr6/X1Vdf3e33DB8+XPfcc4+++MUvqrm5WW+99ZaefPJJvfHGG9q2bZttx9PW19crKyury7FXAwcO1Hvvvaempib16tXLlO3tLhz9M27cON1+++268sor5XK59Morr2jlypV6++239d577zHxKAThOn+ga7F+XiX4DNCpU6e0bNmygNe/7777wjoJ6D/+4z86/P8ZM2Zo6tSpmjRpkh544AG9/vrrYfu3oiGa/et2uyWpy4uYw+HosE4sCrZvw9UvL7/8cof/f8cdd+grX/mK5syZo5///OdatWpVwG2LJW632++g//b95y84CnV7uwtH/7z//vsd/v+3v/1tFRYW6qc//an+8Ic/dDmZA4Gx+3k12mL9vErwGaBTp05p8eLFAa//rW99y/QZ6DfccIO+8pWv6M0339Tnn3+u1NRUU/89M0Wzf51OpyTp3LlznT7zeDwd1olFwfZt+365eN8KtV9mz56tn/70p51OoHbidDp14sSJLj8LpP9C3d7uzOqff/mXf9HixYv18ssvE3yGwMzzB7oWS+dVxnwGKC8vT16vN+D/XHnllRFr1/nz5/XZZ59F5N8zSzT71/d64tixY50+8y3r6tVRrAi2b3vql4SEhJBe7eTl5cVEPrpg5eTk6NNPP+3ypubYsWPKysrq9qlcqNvbnVn9k5KS0vbdCJ7Z5w90LVbOqwSfMe5vf/ubkpOT4zrPZ6iKiookSVu2bOn02datW5Wenh6X45J66pcvfOELIY2JO3jwoAYMGBD09lZXVFSk1tZWbdu2rcNyj8ejXbt2aezYsaZub3dm9Y/H41FdXZ2t981IMPv8ga7FynmV4NNiPv74Y1VXV3cYC9PY2Kjz5893Wvfll1/Wf//3f6u4uLhtDA2611X/Tpw4UZdffrmefPLJDrMvd+/erbfeeku33367UlJSotHcqJo2bZpSU1O1cuXKDvvfiy++qJqaGs2ZM6fD+h999JGqq6s7pKVqaGjo8rsff/xx1dXVacqUKeY03gJmzZqlhISETuNtV61aJbfb3aH/Dh061ClzhZHt41Go/fv3v/+9y+996KGH1NLSYut9M9y6OvaNnj/QNbueV6lwFAEvvviidu/eLUlas2aN/vrXv+rhhx+WJPXr108/+MEP2tb9zne+o6eeekpvvvmmJk2aJOlCvrQHHnigLT9acnKytm3bpjVr1igzM1P//d//HZdP5nxC7V9Jeu655zRr1qy2Ckcul0tLly5VQkKCduzYEdOv3UPx2GOP6Yc//KEmTZqkb37zmzp27Jgee+wx5ebmqrKyssOTi0mTJuntt9/W4cOH28rFLVu2TKtXr9bNN9+svLw8tbS06K233tILL7ygoUOHasuWLerfv3+U/jrzLVy4UCtXrtRtt92mW265RQcOHNDy5ct1/fXX6//9v//Xlp82Ly9PR48e7ZS/N9Dt41Uo/Xv//fdr69at+qd/+iddccUVOnPmjF555RW9+eabuvbaa/Xmm2/G9Dj6UD3zzDM6evSoJGnFihVqampSaWmpJGnw4MG6884729bt6tiXjJ0/4kmofWuL86pJyevRzl133eWV1OV/Lq5s4Fv3zTffbFtWVVXlvf32271DhgzxpqWleXv16uUdMmSI9/vf/763rq4usn+MBYXavz4vvvii99prr/WmpqZ6+/Xr5y0pKfEePHgwMn+Ehf3Hf/yHt7Cw0Nu7d29v//79vd/97ne9x48f77TexIkTvZK8hw8fblu2efNm75QpU7y5ubleh8Ph7d27t3fYsGHef/3Xf/V+9tlnkfsjoqSlpcX7u9/9znv11Vd7e/Xq5c3JyfHef//9HSppeb0XqpV0dToOdPt4FUr/vvDCC96vfvWr3pycHG/v3r29TqfTO2rUKO+vfvUr7+effx7JP8OSfMdzV/+5uLJOV8e+T6Dnj3gSat/a4bzKk08AAABETHy/swEAAEBEEXwCAAAgYgg+AQAAEDEEnwAAAIgYgk8AAABEDMEnAAAAIobgEwAAABFD8AkAAICIIfgEAABAxBB8AgAAIGIIPgEAABAxBJ8AAACIGIJPAAAARAzBJwAAACKG4BMAAAARQ/AJAACAiPn/e1JPn/0BW9wAAAAASUVORK5CYII=\n",
      "text/plain": [
       "<Figure size 780x520 with 1 Axes>"
      ]
     },
     "metadata": {},
     "output_type": "display_data"
    }
   ],
   "source": [
    "fig=plt.figure(figsize=(6,4), dpi = 130, facecolor='w', edgecolor='k')\n",
    "plt.plot(x_qcn, y, 'o')\n",
    "plt.xlabel(\"x\")\n",
    "plt.ylabel(\"y\")\n",
    "plt.grid()\n",
    "fig.savefig(image_path(\"1D_Gaussian.pdf\"), bbox_inches='tight')\n",
    "plt.show()"
   ]
  },
  {
   "cell_type": "markdown",
   "metadata": {},
   "source": [
    "### Training Models"
   ]
  },
  {
   "cell_type": "code",
   "execution_count": 5,
   "metadata": {},
   "outputs": [
    {
     "name": "stdout",
     "output_type": "stream",
     "text": [
<<<<<<< HEAD
      "(100, 2)\n",
=======
>>>>>>> 8041a75cd94dacb7cba9300c99019a9fa4cca415
      "epoch: 0, loss: 0.18098806069135384\n",
      "epoch: 1, loss: 0.13212039891203478\n",
      "epoch: 2, loss: 0.10131274881126359\n",
      "epoch: 3, loss: 0.08236043495540994\n",
      "epoch: 4, loss: 0.06972596649140728\n",
      "epoch: 5, loss: 0.06138025986658722\n",
      "epoch: 6, loss: 0.05623589340456026\n",
      "epoch: 7, loss: 0.05315110684817485\n"
     ]
    },
    {
     "ename": "KeyboardInterrupt",
     "evalue": "",
     "output_type": "error",
     "traceback": [
      "\u001b[0;31m---------------------------------------------------------------------------\u001b[0m",
      "\u001b[0;31mKeyboardInterrupt\u001b[0m                         Traceback (most recent call last)",
<<<<<<< HEAD
      "\u001b[0;32m<ipython-input-5-8e325a6153bd>\u001b[0m in \u001b[0;36m<module>\u001b[0;34m\u001b[0m\n\u001b[1;32m     19\u001b[0m \u001b[0;34m\u001b[0m\u001b[0m\n\u001b[1;32m     20\u001b[0m \u001b[0;32mwith\u001b[0m \u001b[0mmp\u001b[0m\u001b[0;34m.\u001b[0m\u001b[0mPool\u001b[0m\u001b[0;34m(\u001b[0m\u001b[0;36m1\u001b[0m\u001b[0;34m)\u001b[0m \u001b[0;32mas\u001b[0m \u001b[0mp\u001b[0m\u001b[0;34m:\u001b[0m\u001b[0;34m\u001b[0m\u001b[0;34m\u001b[0m\u001b[0m\n\u001b[0;32m---> 21\u001b[0;31m     \u001b[0mqnn_list\u001b[0m \u001b[0;34m=\u001b[0m \u001b[0mp\u001b[0m\u001b[0;34m.\u001b[0m\u001b[0mmap\u001b[0m\u001b[0;34m(\u001b[0m\u001b[0mparallel\u001b[0m\u001b[0;34m,\u001b[0m \u001b[0mqnn_list\u001b[0m\u001b[0;34m)\u001b[0m\u001b[0;34m\u001b[0m\u001b[0;34m\u001b[0m\u001b[0m\n\u001b[0m\u001b[1;32m     22\u001b[0m \u001b[0;34m\u001b[0m\u001b[0m\n\u001b[1;32m     23\u001b[0m \u001b[0;34m\u001b[0m\u001b[0m\n",
=======
      "\u001b[0;32m<ipython-input-5-33cd2ab87360>\u001b[0m in \u001b[0;36m<module>\u001b[0;34m\u001b[0m\n\u001b[1;32m     18\u001b[0m \u001b[0;34m\u001b[0m\u001b[0m\n\u001b[1;32m     19\u001b[0m \u001b[0;32mwith\u001b[0m \u001b[0mmp\u001b[0m\u001b[0;34m.\u001b[0m\u001b[0mPool\u001b[0m\u001b[0;34m(\u001b[0m\u001b[0;36m1\u001b[0m\u001b[0;34m)\u001b[0m \u001b[0;32mas\u001b[0m \u001b[0mp\u001b[0m\u001b[0;34m:\u001b[0m\u001b[0;34m\u001b[0m\u001b[0;34m\u001b[0m\u001b[0m\n\u001b[0;32m---> 20\u001b[0;31m     \u001b[0mqcn_list\u001b[0m \u001b[0;34m=\u001b[0m \u001b[0mp\u001b[0m\u001b[0;34m.\u001b[0m\u001b[0mmap\u001b[0m\u001b[0;34m(\u001b[0m\u001b[0mparallel\u001b[0m\u001b[0;34m,\u001b[0m \u001b[0mqcn_list\u001b[0m\u001b[0;34m)\u001b[0m\u001b[0;34m\u001b[0m\u001b[0;34m\u001b[0m\u001b[0m\n\u001b[0m\u001b[1;32m     21\u001b[0m \u001b[0;34m\u001b[0m\u001b[0m\n\u001b[1;32m     22\u001b[0m \u001b[0;34m\u001b[0m\u001b[0m\n",
>>>>>>> 8041a75cd94dacb7cba9300c99019a9fa4cca415
      "\u001b[0;32m~/anaconda3/envs/env_qiskit/lib/python3.9/multiprocessing/pool.py\u001b[0m in \u001b[0;36mmap\u001b[0;34m(self, func, iterable, chunksize)\u001b[0m\n\u001b[1;32m    362\u001b[0m         \u001b[0;32min\u001b[0m \u001b[0ma\u001b[0m \u001b[0mlist\u001b[0m \u001b[0mthat\u001b[0m \u001b[0;32mis\u001b[0m \u001b[0mreturned\u001b[0m\u001b[0;34m.\u001b[0m\u001b[0;34m\u001b[0m\u001b[0;34m\u001b[0m\u001b[0m\n\u001b[1;32m    363\u001b[0m         '''\n\u001b[0;32m--> 364\u001b[0;31m         \u001b[0;32mreturn\u001b[0m \u001b[0mself\u001b[0m\u001b[0;34m.\u001b[0m\u001b[0m_map_async\u001b[0m\u001b[0;34m(\u001b[0m\u001b[0mfunc\u001b[0m\u001b[0;34m,\u001b[0m \u001b[0miterable\u001b[0m\u001b[0;34m,\u001b[0m \u001b[0mmapstar\u001b[0m\u001b[0;34m,\u001b[0m \u001b[0mchunksize\u001b[0m\u001b[0;34m)\u001b[0m\u001b[0;34m.\u001b[0m\u001b[0mget\u001b[0m\u001b[0;34m(\u001b[0m\u001b[0;34m)\u001b[0m\u001b[0;34m\u001b[0m\u001b[0;34m\u001b[0m\u001b[0m\n\u001b[0m\u001b[1;32m    365\u001b[0m \u001b[0;34m\u001b[0m\u001b[0m\n\u001b[1;32m    366\u001b[0m     \u001b[0;32mdef\u001b[0m \u001b[0mstarmap\u001b[0m\u001b[0;34m(\u001b[0m\u001b[0mself\u001b[0m\u001b[0;34m,\u001b[0m \u001b[0mfunc\u001b[0m\u001b[0;34m,\u001b[0m \u001b[0miterable\u001b[0m\u001b[0;34m,\u001b[0m \u001b[0mchunksize\u001b[0m\u001b[0;34m=\u001b[0m\u001b[0;32mNone\u001b[0m\u001b[0;34m)\u001b[0m\u001b[0;34m:\u001b[0m\u001b[0;34m\u001b[0m\u001b[0;34m\u001b[0m\u001b[0m\n",
      "\u001b[0;32m~/anaconda3/envs/env_qiskit/lib/python3.9/multiprocessing/pool.py\u001b[0m in \u001b[0;36mget\u001b[0;34m(self, timeout)\u001b[0m\n\u001b[1;32m    763\u001b[0m \u001b[0;34m\u001b[0m\u001b[0m\n\u001b[1;32m    764\u001b[0m     \u001b[0;32mdef\u001b[0m \u001b[0mget\u001b[0m\u001b[0;34m(\u001b[0m\u001b[0mself\u001b[0m\u001b[0;34m,\u001b[0m \u001b[0mtimeout\u001b[0m\u001b[0;34m=\u001b[0m\u001b[0;32mNone\u001b[0m\u001b[0;34m)\u001b[0m\u001b[0;34m:\u001b[0m\u001b[0;34m\u001b[0m\u001b[0;34m\u001b[0m\u001b[0m\n\u001b[0;32m--> 765\u001b[0;31m         \u001b[0mself\u001b[0m\u001b[0;34m.\u001b[0m\u001b[0mwait\u001b[0m\u001b[0;34m(\u001b[0m\u001b[0mtimeout\u001b[0m\u001b[0;34m)\u001b[0m\u001b[0;34m\u001b[0m\u001b[0;34m\u001b[0m\u001b[0m\n\u001b[0m\u001b[1;32m    766\u001b[0m         \u001b[0;32mif\u001b[0m \u001b[0;32mnot\u001b[0m \u001b[0mself\u001b[0m\u001b[0;34m.\u001b[0m\u001b[0mready\u001b[0m\u001b[0;34m(\u001b[0m\u001b[0;34m)\u001b[0m\u001b[0;34m:\u001b[0m\u001b[0;34m\u001b[0m\u001b[0;34m\u001b[0m\u001b[0m\n\u001b[1;32m    767\u001b[0m             \u001b[0;32mraise\u001b[0m \u001b[0mTimeoutError\u001b[0m\u001b[0;34m\u001b[0m\u001b[0;34m\u001b[0m\u001b[0m\n",
      "\u001b[0;32m~/anaconda3/envs/env_qiskit/lib/python3.9/multiprocessing/pool.py\u001b[0m in \u001b[0;36mwait\u001b[0;34m(self, timeout)\u001b[0m\n\u001b[1;32m    760\u001b[0m \u001b[0;34m\u001b[0m\u001b[0m\n\u001b[1;32m    761\u001b[0m     \u001b[0;32mdef\u001b[0m \u001b[0mwait\u001b[0m\u001b[0;34m(\u001b[0m\u001b[0mself\u001b[0m\u001b[0;34m,\u001b[0m \u001b[0mtimeout\u001b[0m\u001b[0;34m=\u001b[0m\u001b[0;32mNone\u001b[0m\u001b[0;34m)\u001b[0m\u001b[0;34m:\u001b[0m\u001b[0;34m\u001b[0m\u001b[0;34m\u001b[0m\u001b[0m\n\u001b[0;32m--> 762\u001b[0;31m         \u001b[0mself\u001b[0m\u001b[0;34m.\u001b[0m\u001b[0m_event\u001b[0m\u001b[0;34m.\u001b[0m\u001b[0mwait\u001b[0m\u001b[0;34m(\u001b[0m\u001b[0mtimeout\u001b[0m\u001b[0;34m)\u001b[0m\u001b[0;34m\u001b[0m\u001b[0;34m\u001b[0m\u001b[0m\n\u001b[0m\u001b[1;32m    763\u001b[0m \u001b[0;34m\u001b[0m\u001b[0m\n\u001b[1;32m    764\u001b[0m     \u001b[0;32mdef\u001b[0m \u001b[0mget\u001b[0m\u001b[0;34m(\u001b[0m\u001b[0mself\u001b[0m\u001b[0;34m,\u001b[0m \u001b[0mtimeout\u001b[0m\u001b[0;34m=\u001b[0m\u001b[0;32mNone\u001b[0m\u001b[0;34m)\u001b[0m\u001b[0;34m:\u001b[0m\u001b[0;34m\u001b[0m\u001b[0;34m\u001b[0m\u001b[0m\n",
      "\u001b[0;32m~/anaconda3/envs/env_qiskit/lib/python3.9/threading.py\u001b[0m in \u001b[0;36mwait\u001b[0;34m(self, timeout)\u001b[0m\n\u001b[1;32m    572\u001b[0m             \u001b[0msignaled\u001b[0m \u001b[0;34m=\u001b[0m \u001b[0mself\u001b[0m\u001b[0;34m.\u001b[0m\u001b[0m_flag\u001b[0m\u001b[0;34m\u001b[0m\u001b[0;34m\u001b[0m\u001b[0m\n\u001b[1;32m    573\u001b[0m             \u001b[0;32mif\u001b[0m \u001b[0;32mnot\u001b[0m \u001b[0msignaled\u001b[0m\u001b[0;34m:\u001b[0m\u001b[0;34m\u001b[0m\u001b[0;34m\u001b[0m\u001b[0m\n\u001b[0;32m--> 574\u001b[0;31m                 \u001b[0msignaled\u001b[0m \u001b[0;34m=\u001b[0m \u001b[0mself\u001b[0m\u001b[0;34m.\u001b[0m\u001b[0m_cond\u001b[0m\u001b[0;34m.\u001b[0m\u001b[0mwait\u001b[0m\u001b[0;34m(\u001b[0m\u001b[0mtimeout\u001b[0m\u001b[0;34m)\u001b[0m\u001b[0;34m\u001b[0m\u001b[0;34m\u001b[0m\u001b[0m\n\u001b[0m\u001b[1;32m    575\u001b[0m             \u001b[0;32mreturn\u001b[0m \u001b[0msignaled\u001b[0m\u001b[0;34m\u001b[0m\u001b[0;34m\u001b[0m\u001b[0m\n\u001b[1;32m    576\u001b[0m \u001b[0;34m\u001b[0m\u001b[0m\n",
      "\u001b[0;32m~/anaconda3/envs/env_qiskit/lib/python3.9/threading.py\u001b[0m in \u001b[0;36mwait\u001b[0;34m(self, timeout)\u001b[0m\n\u001b[1;32m    310\u001b[0m         \u001b[0;32mtry\u001b[0m\u001b[0;34m:\u001b[0m    \u001b[0;31m# restore state no matter what (e.g., KeyboardInterrupt)\u001b[0m\u001b[0;34m\u001b[0m\u001b[0;34m\u001b[0m\u001b[0m\n\u001b[1;32m    311\u001b[0m             \u001b[0;32mif\u001b[0m \u001b[0mtimeout\u001b[0m \u001b[0;32mis\u001b[0m \u001b[0;32mNone\u001b[0m\u001b[0;34m:\u001b[0m\u001b[0;34m\u001b[0m\u001b[0;34m\u001b[0m\u001b[0m\n\u001b[0;32m--> 312\u001b[0;31m                 \u001b[0mwaiter\u001b[0m\u001b[0;34m.\u001b[0m\u001b[0macquire\u001b[0m\u001b[0;34m(\u001b[0m\u001b[0;34m)\u001b[0m\u001b[0;34m\u001b[0m\u001b[0;34m\u001b[0m\u001b[0m\n\u001b[0m\u001b[1;32m    313\u001b[0m                 \u001b[0mgotit\u001b[0m \u001b[0;34m=\u001b[0m \u001b[0;32mTrue\u001b[0m\u001b[0;34m\u001b[0m\u001b[0;34m\u001b[0m\u001b[0m\n\u001b[1;32m    314\u001b[0m             \u001b[0;32melse\u001b[0m\u001b[0;34m:\u001b[0m\u001b[0;34m\u001b[0m\u001b[0;34m\u001b[0m\u001b[0m\n",
      "\u001b[0;31mKeyboardInterrupt\u001b[0m: "
     ]
    }
   ],
   "source": [
    "np.random.seed(42)\n",
    "\n",
    "qnn_list = []\n",
    "for i in range(1):\n",
<<<<<<< HEAD
    "    qnn = sequential_qnn(n_qubits = [4],\n",
    "                         dim = [4,1],\n",
    "                         encoder = RZZEncoder(),\n",
    "                         ansatz = Ansatz(blocks=[\"entangle\", \"ry\"], reps=4),\n",
=======
    "    qcn = sequential_qnn(n_qubits = [4],\n",
    "                         dim = [2, 1],\n",
    "                         encoder = RZZEncoder(),\n",
    "                         ansatz = Ansatz(blocks = [\"entangle\", \"ry\"], reps=4),\n",
>>>>>>> 8041a75cd94dacb7cba9300c99019a9fa4cca415
    "                         sampler = Parity(),\n",
    "                         cost = MSE(),\n",
    "                         optimizer = Adam(lr=0.1),\n",
    "                         shots = 0)\n",
    "    \n",
    "    qnn_list.append([qnn, x_qnn, y, False])\n",
    "    print(x_qnn.shape)\n",
    "\n",
    "    \n",
    "qnn_list[0][3] = True\n",
    "\n",
    "with mp.Pool(1) as p:\n",
    "    qnn_list = p.map(parallel, qnn_list) \n",
    "    \n",
    "    \n",
    "saver(qnn_list, data_path(\"trainability_qnn_1D\"))"
   ]
  },
  {
   "cell_type": "code",
   "execution_count": null,
   "metadata": {},
   "outputs": [],
   "source": [
    "y_pred = qnn_list[0][0].predict(x_qnn)"
   ]
  },
  {
   "cell_type": "code",
   "execution_count": null,
   "metadata": {},
   "outputs": [],
   "source": [
    "plt.plot(y_pred)"
   ]
  },
  {
   "cell_type": "code",
   "execution_count": null,
   "metadata": {},
   "outputs": [],
   "source": [
    "np.random.seed(42)\n",
    "\n",
    "qcn_list = []\n",
    "for i in range(10):\n",
    "    qcn = sequential_qnn(n_qubits = [4, 4],\n",
    "                         dim = [1, 4, 1],\n",
    "                         encoder = Encoder(),\n",
    "                         ansatz = Ansatz(blocks = [\"entangle\", \"ry\"], reps=1),\n",
    "                         sampler = Parity(),\n",
    "                         cost = MSE(),\n",
    "                         optimizer = Adam(lr=0.1),\n",
    "                         shots = 0)\n",
    "    \n",
    "    qcn_list.append([qcn, x_qcn, y, False])\n",
    "\n",
    "    \n",
    "qcn_list[0][3] = True\n",
    "\n",
    "with mp.Pool(10) as p:\n",
    "    qcn_list = p.map(parallel, qcn_list) \n",
    "    \n",
    "    \n",
    "saver(qcn_list, data_path(\"trainability_qcn_1D_reps_1\"))"
   ]
  },
  {
   "cell_type": "code",
   "execution_count": null,
   "metadata": {},
   "outputs": [],
   "source": [
    "np.random.seed(42)\n",
    "\n",
    "qcn_list = []\n",
    "for i in range(10):\n",
    "    qcn = sequential_qnn(n_qubits = [4, 4],\n",
    "                         dim = [1, 4, 1],\n",
    "                         encoder= Encoder(),\n",
    "                         ansatz = Ansatz(blocks = [\"entangle\", \"ry\"], reps=2),\n",
    "                         sampler = Parity(),\n",
    "                         cost = MSE(),\n",
    "                         optimizer = Adam(lr=0.1),\n",
    "                         shots=0)\n",
    "    \n",
    "    qcn_list.append([qcn, x_qcn, y, False])\n",
    "\n",
    "qcn_list[0][3] = True    \n",
    "    \n",
    "with mp.Pool(10) as p:\n",
    "    qcn_list = p.map(parallel, qcn_list)     \n",
    "    \n",
    "saver(qcn_list, data_path(\"trainability_qcn_1D_reps_2\"))"
   ]
  },
  {
   "cell_type": "code",
   "execution_count": null,
   "metadata": {},
   "outputs": [],
   "source": [
    "np.random.seed(42)\n",
    "dnn_list = []\n",
    "for i in range(10):\n",
    "    dnn = sequential_dnn(dim = [1, 5, 1],\n",
    "                         optimizer = Adam(lr=0.1))\n",
    "    \n",
    "    dnn.train(x_dnn, y, epochs=100)\n",
    "    dnn_list.append(dnn)\n",
    "\n",
    "saver(dnn_list, data_path(\"trainability_dnn_1D_epochs_100\"))"
   ]
  },
  {
   "cell_type": "code",
   "execution_count": null,
   "metadata": {},
   "outputs": [],
   "source": [
    "np.random.seed(42)\n",
    "dnn_list = []\n",
    "for i in range(10):\n",
    "    dnn = sequential_dnn(dim = [1, 5, 1],\n",
    "                         optimizer = Adam(lr=0.1))\n",
    "    \n",
    "    dnn.train(x_dnn, y, epochs=10000)\n",
    "    dnn_list.append(dnn)\n",
    "\n",
    "saver(dnn_list, data_path(\"trainability_dnn_1D_epochs_10000\"))"
   ]
  },
  {
   "cell_type": "markdown",
   "metadata": {},
   "source": [
    "## 2D function"
   ]
  },
  {
   "cell_type": "markdown",
   "metadata": {},
   "source": [
    "### Generate Data"
   ]
  },
  {
   "cell_type": "code",
   "execution_count": null,
   "metadata": {},
   "outputs": [],
   "source": [
    "np.random.seed(42)\n",
    "\n",
    "n = 12\n",
    "x = np.linspace(0, 1, n)\n",
    "x = generate_meshgrid([x,x])\n",
    "\n",
    "mean1 = np.array([[0.2, 0.8]])\n",
    "var1 = np.array([[0.01, 0], [0, 0.01]])\n",
    "\n",
    "mean2 = np.array([[0.5, 0.8]])\n",
    "var2 = np.array([[0.01, 0], [0, 0.01]])\n",
    "\n",
    "mean3 = np.array([[0.8, 0.8]])\n",
    "var3 = np.array([[0.01, 0], [0, 0.01]])\n",
    "\n",
    "mean4 = np.array([[0.2, 0.5]])\n",
    "var4 = np.array([[0.01, 0], [0, 0.01]])\n",
    "\n",
    "mean5 = np.array([[0.5, 0.5]])\n",
    "var5 = np.array([[0.01, 0], [0, 0.01]])\n",
    "\n",
    "mean6 = np.array([[0.8, 0.5]])\n",
    "var6 = np.array([[0.01, 0], [0, 0.01]])\n",
    "\n",
    "mean7 = np.array([[0.2, 0.2]])\n",
    "var7 = np.array([[0.01, 0], [0, 0.01]])\n",
    "\n",
    "mean8 = np.array([[0.5, 0.2]])\n",
    "var8 = np.array([[0.01, 0], [0, 0.01]])\n",
    "\n",
    "mean9 = np.array([[0.8, 0.2]])\n",
    "var9 = np.array([[0.01, 0], [0, 0.01]])\n",
    "\n",
    "\n",
    "y = gaussian(x, mean1, var1) - gaussian(x, mean2, var2) + gaussian(x, mean3, var3) - gaussian(x, mean4, var4) +\\\n",
    "gaussian(x, mean5, var5) - gaussian(x, mean6, var6) + gaussian(x, mean7, var7) - gaussian(x, mean8, var8) +\\\n",
    "gaussian(x, mean9, var9)\n",
    "\n",
    "\n",
    "x_qcn = scaler(x, a=-np.pi/2, b=np.pi/2)\n",
    "x_dnn = scaler(x, mode=\"standard\")\n",
    "y = scaler(y, a=0, b=1)"
   ]
  },
  {
   "cell_type": "code",
   "execution_count": null,
   "metadata": {},
   "outputs": [],
   "source": [
    "plt.imshow(y.reshape(n,n))\n",
    "plt.show()"
   ]
  },
  {
   "cell_type": "markdown",
   "metadata": {},
   "source": [
    "### Training Models"
   ]
  },
  {
   "cell_type": "code",
   "execution_count": null,
   "metadata": {},
   "outputs": [],
   "source": [
    "np.random.seed(42)\n",
    "\n",
    "qcn_list = []\n",
    "for i in range(1):\n",
    "    qcn = sequential_qnn(n_qubits = [4],\n",
    "                         dim = [2, 1],\n",
    "                         encoder = RZZEncoder(),\n",
    "                         ansatz = Ansatz(blocks = [\"entangle\", \"ry\"], reps=4),\n",
    "                         sampler = Parity(),\n",
    "                         cost = MSE(),\n",
    "                         optimizer = Adam(lr=0.1),\n",
    "                         shots = 0)\n",
    "    \n",
    "    qcn_list.append([qcn, x_qcn, y, False])\n",
    "\n",
    "    \n",
    "qcn_list[0][3] = True\n",
    "\n",
    "with mp.Pool(1) as p:\n",
    "    qcn_list = p.map(parallel, qcn_list) \n",
    "    \n",
    "    \n",
    "saver(qcn_list, data_path(\"trainability_qnn_2D\"))"
   ]
  },
  {
   "cell_type": "code",
   "execution_count": null,
   "metadata": {},
   "outputs": [],
   "source": [
    "np.random.seed(42)\n",
    "\n",
    "qcn_list = []\n",
    "for i in range(1):\n",
    "    qcn = sequential_qnn(n_qubits = [4],\n",
    "                         dim = [2, 1],\n",
    "                         encoder = Encoder(),\n",
    "                         ansatz = Ansatz(blocks = [\"entangle\", \"ry\"], reps=4),\n",
    "                         sampler = Parity(),\n",
    "                         cost = MSE(),\n",
    "                         optimizer = Adam(lr=0.1),\n",
    "                         shots = 0)\n",
    "    \n",
    "    qcn_list.append([qcn, x_qcn, y, False])\n",
    "\n",
    "    \n",
    "qcn_list[0][3] = True\n",
    "\n",
    "with mp.Pool(1) as p:\n",
    "    qcn_list = p.map(parallel, qcn_list) \n",
    "    \n",
    "    \n",
    "saver(qcn_list, data_path(\"trainability_qnn_2D_qubit_encoding\"))"
   ]
  },
  {
   "cell_type": "code",
   "execution_count": null,
   "metadata": {},
   "outputs": [],
   "source": [
    "np.random.seed(42)\n",
    "\n",
    "qcn_list = []\n",
    "for i in range(10):\n",
    "    qcn = sequential_qnn(n_qubits = [4, 4, 4],\n",
    "                         dim = [2, 4, 4, 1],\n",
    "                         encoder= Encoder(),\n",
    "                         ansatz = Ansatz(blocks = [\"entangle\", \"ry\"], reps=1),\n",
    "                         sampler = Parity(),\n",
    "                         cost = MSE(),\n",
    "                         optimizer = Adam(lr=0.1),\n",
    "                         backend=backend,\n",
    "                         shots=0)\n",
    "    qcn_list.append([qcn, x_qcn, y, False])\n",
    "    \n",
    "qcn_list[0][3] = True    \n",
    "    \n",
    "with mp.Pool(10) as p:\n",
    "    qcn_list = p.map(parallel, qcn_list)   \n",
    "\n",
    "saver(qcn_list, data_path(\"trainability_qcn_2D_reps_1\"))"
   ]
  },
  {
   "cell_type": "code",
   "execution_count": null,
   "metadata": {},
   "outputs": [],
   "source": [
    "np.random.seed(42)\n",
    "\n",
    "qcn_list = []\n",
    "for i in range(10):\n",
    "    qcn = sequential_qnn(n_qubits = [4, 4, 4],\n",
    "                         dim = [2, 4, 4, 1],\n",
    "                         encoder= Encoder(),\n",
    "                         ansatz = Ansatz(blocks = [\"entangle\", \"ry\"], reps=2),\n",
    "                         sampler = Parity(),\n",
    "                         cost = MSE(),\n",
    "                         optimizer = Adam(lr=0.1),\n",
    "                         backend=backend,\n",
    "                         shots=0)\n",
    "   \n",
    "    qcn_list.append([qcn, x_qcn, y, False])\n",
    "\n",
    "qcn_list[0][3] = True    \n",
    "    \n",
    "with mp.Pool(10) as p:\n",
    "    qcn_list = p.map(parallel, qcn_list)   \n",
    "    \n",
    "saver(qcn_list, data_path(\"trainability_qcn_2D_reps_2\"))"
   ]
  },
  {
   "cell_type": "code",
   "execution_count": null,
   "metadata": {},
   "outputs": [],
   "source": [
    "np.random.seed(42)\n",
    "dnn_list = []\n",
    "for i in range(10):\n",
    "    dnn = sequential_dnn(dim = [2, 5, 5, 1],\n",
    "                         optimizer = Adam(lr=0.1))\n",
    "    \n",
    "    dnn.train(x_dnn, y, epochs=100)\n",
    "    dnn_list.append(dnn)\n",
    "\n",
    "saver(dnn_list, data_path(\"trainability_dnn_2D_epochs_100\"))"
   ]
  },
  {
   "cell_type": "code",
   "execution_count": null,
   "metadata": {},
   "outputs": [],
   "source": [
    "np.random.seed(42)\n",
    "dnn_list = []\n",
    "for i in range(10):\n",
    "    dnn = sequential_dnn(dim = [2, 5, 5, 1],\n",
    "                         optimizer = Adam(lr=0.1))\n",
    "    \n",
    "    dnn.train(x_dnn, y, epochs=10000)\n",
    "    dnn_list.append(dnn)\n",
    "\n",
    "saver(dnn_list, data_path(\"trainability_dnn_2D_epochs_10000\"))"
   ]
  },
  {
   "cell_type": "markdown",
   "metadata": {},
   "source": [
    "## 3D function"
   ]
  },
  {
   "cell_type": "markdown",
   "metadata": {},
   "source": [
    "### Generate Data"
   ]
  },
  {
   "cell_type": "code",
   "execution_count": null,
   "metadata": {},
   "outputs": [],
   "source": [
    "np.random.seed(42)\n",
    "\n",
    "n = 6\n",
    "x = np.linspace(0, 1, n)\n",
    "x = generate_meshgrid([x, x, x])\n",
    "\n",
    "mean1 = np.array([[0.25, 0.25, 0.25]])\n",
    "mean2 = np.array([[0.25, 0.25, 0.75]])\n",
    "mean3 = np.array([[0.25, 0.75, 0.75]])\n",
    "mean4 = np.array([[0.25, 0.75, 0.25]])\n",
    "\n",
    "mean5 = np.array([[0.75, 0.25, 0.25]])\n",
    "mean6 = np.array([[0.75, 0.25, 0.75]])\n",
    "mean7 = np.array([[0.75, 0.75, 0.75]])\n",
    "mean8 = np.array([[0.75, 0.75, 0.25]])\n",
    "\n",
    "var = np.array([[0.02, 0, 0], [0, 0.02, 0], [0, 0, 0.02]])\n",
    "\n",
    "y = gaussian(x, mean1, var) - gaussian(x, mean2, var) + gaussian(x, mean3, var) - gaussian(x, mean4, var) - gaussian(x, mean5, var) + gaussian(x, mean6, var) - gaussian(x, mean7, var) + gaussian(x, mean8, var)\n",
    "\n",
    "x_qcn = scaler(x, a=-np.pi/2, b=np.pi/2)\n",
    "x_dnn = scaler(x, mode=\"standard\")\n",
    "y = scaler(y, a=0, b=1)\n",
    "print(y.shape)"
   ]
  },
  {
   "cell_type": "code",
   "execution_count": null,
   "metadata": {},
   "outputs": [],
   "source": [
    "plt.imshow(y.reshape(n,n,n)[0])\n",
    "plt.show()"
   ]
  },
  {
   "cell_type": "code",
   "execution_count": null,
   "metadata": {},
   "outputs": [],
   "source": [
    "np.random.seed(42)\n",
    "\n",
    "qcn_list = []\n",
    "for i in range(1):\n",
    "    qcn = sequential_qnn(n_qubits = [5],\n",
    "                         dim = [3, 1],\n",
    "                         encoder = RZZEncoder(),\n",
    "                         ansatz = Ansatz(blocks = [\"entangle\", \"ry\"], reps=4),\n",
    "                         sampler = Parity(),\n",
    "                         cost = MSE(),\n",
    "                         optimizer = Adam(lr=0.1),\n",
    "                         shots = 0)\n",
    "    \n",
    "    qcn_list.append([qcn, x_qcn, y, False])\n",
    "\n",
    "    \n",
    "qcn_list[0][3] = True\n",
    "\n",
    "with mp.Pool(1) as p:\n",
    "    qcn_list = p.map(parallel, qcn_list) \n",
    "    \n",
    "    \n",
    "saver(qcn_list, data_path(\"trainability_qnn_3D_RZZEncoding\"))"
   ]
  },
  {
   "cell_type": "code",
   "execution_count": null,
   "metadata": {},
   "outputs": [],
   "source": [
    "np.random.seed(42)\n",
    "\n",
    "qcn_list = []\n",
    "for i in range(10):\n",
    "    qcn = sequential_qnn(n_qubits = [5, 5, 5],\n",
    "                         dim = [3, 5, 5, 1],\n",
    "                         encoder= Encoder(),\n",
    "                         ansatz = Ansatz(blocks = [\"entangle\", \"ry\"], reps = 1),\n",
    "                         sampler = Parity(),\n",
    "                         cost = MSE(),\n",
    "                         optimizer = Adam(lr=0.1),\n",
    "                         backend = backend,\n",
    "                         shots = 0)\n",
    "\n",
    "    qcn_list.append([qcn, x_qcn, y, False])\n",
    "\n",
    "qcn_list[0][3] = True    \n",
    "    \n",
    "with mp.Pool(10) as p:\n",
    "    qcn_list = p.map(parallel, qcn_list) \n",
    "    \n",
    "saver(qcn_list, data_path(\"trainability_qcn_3D_reps_1\"))"
   ]
  },
  {
   "cell_type": "code",
   "execution_count": null,
   "metadata": {},
   "outputs": [],
   "source": [
    "np.random.seed(42)\n",
    "\n",
    "qcn_list = []\n",
    "for i in range(10):\n",
    "    qcn = sequential_qnn(n_qubits = [5, 5, 5],\n",
    "                         dim = [3, 5, 5, 1],\n",
    "                         encoder= Encoder(),\n",
    "                         ansatz = Ansatz(blocks = [\"entangle\", \"ry\"], reps = 2),\n",
    "                         sampler = Parity(),\n",
    "                         cost = MSE(),\n",
    "                         optimizer = Adam(lr=0.1),\n",
    "                         backend = backend,\n",
    "                         shots = 0)\n",
    "\n",
    "    qcn_list.append([qcn, x_qcn, y, False])\n",
    "\n",
    "qcn_list[0][3] = True    \n",
    "    \n",
    "with mp.Pool(10) as p:\n",
    "    qcn_list = p.map(parallel, qcn_list) \n",
    "    \n",
    "saver(qcn_list, data_path(\"trainability_qcn_3D_reps_2\"))"
   ]
  },
  {
   "cell_type": "code",
   "execution_count": null,
   "metadata": {},
   "outputs": [],
   "source": [
    "np.random.seed(42)\n",
    "dnn_list = []\n",
    "for i in range(10):\n",
    "    dnn = sequential_dnn(dim = [3, 8, 8, 1],\n",
    "                         optimizer = Adam(lr=0.1))\n",
    "    \n",
    "    dnn.train(x_dnn, y, epochs=100)\n",
    "    dnn_list.append(dnn)\n",
    "\n",
    "saver(dnn_list, data_path(\"trainability_dnn_3D_epochs_100\"))"
   ]
  },
  {
   "cell_type": "code",
   "execution_count": null,
   "metadata": {},
   "outputs": [],
   "source": [
    "np.random.seed(42)\n",
    "dnn_list = []\n",
    "for i in range(10):\n",
    "    dnn = sequential_dnn(dim = [3, 8, 8, 1],\n",
    "                         optimizer = Adam(lr=0.1))\n",
    "    \n",
    "    dnn.train(x_dnn, y, epochs=10000)\n",
    "    dnn_list.append(dnn)\n",
    "\n",
    "saver(dnn_list, data_path(\"trainability_dnn_3D_epochs_10000\"))"
   ]
  },
  {
   "cell_type": "markdown",
   "metadata": {},
   "source": [
    "# Trainability, Noisy"
   ]
  },
  {
   "cell_type": "code",
   "execution_count": null,
   "metadata": {},
   "outputs": [],
   "source": [
    "backend_santiago = pickle.load(open(\"backend_santiago\", \"rb\"))"
   ]
  },
  {
   "cell_type": "markdown",
   "metadata": {},
   "source": [
    "## 1D, Gaussian Data"
   ]
  },
  {
   "cell_type": "markdown",
   "metadata": {},
   "source": [
    "### Generate data"
   ]
  },
  {
   "cell_type": "code",
   "execution_count": null,
   "metadata": {},
   "outputs": [],
   "source": [
    "n = 100\n",
    "x = np.linspace(0, 1, n).reshape(-1,1)\n",
    "y = gaussian(x, 0.2, 0.01) - gaussian(x, 0.5, 0.01) + gaussian(x, 0.8, 0.01)\n",
    "\n",
    "x_qcn = scaler(x, a=-np.pi/2, b=np.pi/2)\n",
    "x_dnn = scaler(x, mode=\"standard\")\n",
    "y = scaler(y, a=0, b=1)\n",
    "print(y.shape)"
   ]
  },
  {
   "cell_type": "code",
   "execution_count": null,
   "metadata": {},
   "outputs": [],
   "source": [
    "plt.plot(x_qcn, y, 'o')\n",
    "plt.show()"
   ]
  },
  {
   "cell_type": "markdown",
   "metadata": {},
   "source": [
    "### Training models"
   ]
  },
  {
   "cell_type": "code",
   "execution_count": null,
   "metadata": {},
   "outputs": [],
   "source": [
    "np.random.seed(42)\n",
    "\n",
    "qcn_list = []\n",
    "for i in range(10):\n",
    "    qcn = sequential_qnn(n_qubits = [4, 4],\n",
    "                         dim = [1, 4, 1],\n",
    "                         encoder = Encoder(),\n",
    "                         ansatz = Ansatz(blocks = [\"entangle\", \"ry\"], reps=1),\n",
    "                         sampler = Parity(),\n",
    "                         cost = MSE(),\n",
    "                         optimizer = Adam(lr=0.1),\n",
    "                         backend = backend_santiago,\n",
    "                         shots = 8192)\n",
    "    \n",
    "    qcn_list.append([qcn, x_qcn, y, False])\n",
    "\n",
    "    \n",
    "qcn_list[0][3] = True\n",
    "\n",
    "with mp.Pool(10) as p:\n",
    "    qcn_list = p.map(parallel, qcn_list) \n",
    "    \n",
    "saver(qcn_list, data_path(\"trainability_qcn_1D_reps_1_noisy\"))"
   ]
  },
  {
   "cell_type": "code",
   "execution_count": null,
   "metadata": {},
   "outputs": [],
   "source": [
    "np.random.seed(42)\n",
    "\n",
    "qcn_list = []\n",
    "for i in range(10):\n",
    "    qcn = sequential_qnn(n_qubits = [4, 4],\n",
    "                         dim = [1, 4, 1],\n",
    "                         encoder = Encoder(),\n",
    "                         ansatz = Ansatz(blocks = [\"entangle\", \"ry\"], reps=2),\n",
    "                         sampler = Parity(),\n",
    "                         cost = MSE(),\n",
    "                         optimizer = Adam(lr=0.1),\n",
    "                         backend = backend_santiago,\n",
    "                         shots = 8192)\n",
    "    \n",
    "    qcn_list.append([qcn, x_qcn, y, False])\n",
    "\n",
    "    \n",
    "qcn_list[0][3] = True\n",
    "\n",
    "with mp.Pool(10) as p:\n",
    "    qcn_list = p.map(parallel, qcn_list) \n",
    "    \n",
    "saver(qcn_list, data_path(\"trainability_qcn_1D_reps_2_noisy\"))"
   ]
  },
  {
   "cell_type": "code",
   "execution_count": null,
   "metadata": {},
   "outputs": [],
   "source": [
    "epoch: 0, loss: 0.15239299861811456\n",
    "epoch: 1, loss: 0.08257248353374153\n",
    "epoch: 2, loss: 0.08128709729381343\n",
    "epoch: 3, loss: 0.06450038365689272\n",
    "epoch: 4, loss: 0.044012149619208435\n",
    "epoch: 5, loss: 0.032987418300738564\n",
    "epoch: 6, loss: 0.03292349602115554"
   ]
  }
 ],
 "metadata": {
  "kernelspec": {
   "display_name": "env_qiskit",
   "language": "python",
   "name": "env_qiskit"
  },
  "language_info": {
   "codemirror_mode": {
    "name": "ipython",
    "version": 3
   },
   "file_extension": ".py",
   "mimetype": "text/x-python",
   "name": "python",
   "nbconvert_exporter": "python",
   "pygments_lexer": "ipython3",
   "version": "3.7.10"
  }
 },
 "nbformat": 4,
 "nbformat_minor": 4
}
