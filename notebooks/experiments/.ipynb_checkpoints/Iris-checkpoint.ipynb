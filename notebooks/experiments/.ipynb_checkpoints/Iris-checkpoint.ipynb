{
 "cells": [
  {
   "cell_type": "code",
   "execution_count": 1,
   "metadata": {},
   "outputs": [],
   "source": [
    "import numpy as np\n",
    "import qiskit as qk\n",
    "import matplotlib.pyplot as plt\n",
    "\n",
    "from qiskit import Aer\n",
    "from tqdm.notebook import tqdm\n",
    "from sklearn.datasets import load_iris\n",
    "from sklearn.model_selection import train_test_split\n",
    "from sklearn.decomposition import PCA\n",
    "from sklearn.linear_model import LogisticRegression\n",
    "\n",
    "import sys\n",
    "sys.path.insert(0, '../../src/')\n",
    "from neuralnetwork import *\n",
    "from analysis import *\n",
    "\n",
    "#%matplotlib notebook\n",
    "%matplotlib inline\n",
    "%load_ext autoreload\n",
    "%autoreload 2\n",
    "\n",
    "np.set_printoptions(precision=4, suppress=None)"
   ]
  },
  {
   "cell_type": "markdown",
   "metadata": {},
   "source": [
    "# Breast Cancer Data"
   ]
  },
  {
   "cell_type": "markdown",
   "metadata": {},
   "source": [
    "### Load Data"
   ]
  },
  {
   "cell_type": "code",
   "execution_count": 4,
   "metadata": {},
   "outputs": [
    {
     "name": "stdout",
     "output_type": "stream",
     "text": [
      "(100, 4) (100, 1)\n"
     ]
    }
   ],
   "source": [
    "iris = load_iris()\n",
    "\n",
    "x = iris.data\n",
    "y = iris.target\n",
    "\n",
    "x = x[y != 2]\n",
    "y = y[y != 2].reshape(-1,1)\n",
    "y = scaler(y, a=0, b=1)\n",
    "\n",
    "print(x.shape, y.shape)"
   ]
  },
  {
   "cell_type": "code",
   "execution_count": null,
   "metadata": {},
   "outputs": [],
   "source": [
    "x_dnn = scaler(x, mode=\"standard\")\n",
    "x_qcn = scaler(x, a=-np.pi/2, b=np.pi/2)"
   ]
  },
  {
   "cell_type": "code",
   "execution_count": 5,
   "metadata": {},
   "outputs": [
    {
     "data": {
      "application/vnd.jupyter.widget-view+json": {
       "model_id": "e5dacfdbdcb14319a0df8d3d5456fd74",
       "version_major": 2,
       "version_minor": 0
      },
      "text/plain": [
       "  0%|          | 0/10 [00:00<?, ?it/s]"
      ]
     },
     "metadata": {},
     "output_type": "display_data"
    },
    {
     "ename": "NameError",
     "evalue": "name 'x_train_dnn' is not defined",
     "output_type": "error",
     "traceback": [
      "\u001b[0;31m---------------------------------------------------------------------------\u001b[0m",
      "\u001b[0;31mNameError\u001b[0m                                 Traceback (most recent call last)",
      "\u001b[0;32m<ipython-input-5-349f82fc7d6b>\u001b[0m in \u001b[0;36m<module>\u001b[0;34m\u001b[0m\n\u001b[1;32m      4\u001b[0m \u001b[0;32mfor\u001b[0m \u001b[0mi\u001b[0m \u001b[0;32min\u001b[0m \u001b[0mtqdm\u001b[0m\u001b[0;34m(\u001b[0m\u001b[0mrange\u001b[0m\u001b[0;34m(\u001b[0m\u001b[0;36m10\u001b[0m\u001b[0;34m)\u001b[0m\u001b[0;34m)\u001b[0m\u001b[0;34m:\u001b[0m\u001b[0;34m\u001b[0m\u001b[0;34m\u001b[0m\u001b[0m\n\u001b[1;32m      5\u001b[0m     \u001b[0mdnn\u001b[0m \u001b[0;34m=\u001b[0m \u001b[0msequential_dnn\u001b[0m\u001b[0;34m(\u001b[0m\u001b[0mdim\u001b[0m \u001b[0;34m=\u001b[0m \u001b[0;34m[\u001b[0m\u001b[0;36m4\u001b[0m\u001b[0;34m,\u001b[0m \u001b[0;36m5\u001b[0m\u001b[0;34m,\u001b[0m \u001b[0;36m1\u001b[0m\u001b[0;34m]\u001b[0m\u001b[0;34m)\u001b[0m\u001b[0;34m\u001b[0m\u001b[0;34m\u001b[0m\u001b[0m\n\u001b[0;32m----> 6\u001b[0;31m     \u001b[0mdnn\u001b[0m\u001b[0;34m.\u001b[0m\u001b[0mtrain\u001b[0m\u001b[0;34m(\u001b[0m\u001b[0mx_train_dnn\u001b[0m\u001b[0;34m,\u001b[0m \u001b[0my_train\u001b[0m\u001b[0;34m,\u001b[0m \u001b[0mepochs\u001b[0m \u001b[0;34m=\u001b[0m \u001b[0;36m100\u001b[0m\u001b[0;34m)\u001b[0m\u001b[0;34m\u001b[0m\u001b[0;34m\u001b[0m\u001b[0m\n\u001b[0m\u001b[1;32m      7\u001b[0m     \u001b[0mdnn_list\u001b[0m\u001b[0;34m.\u001b[0m\u001b[0mappend\u001b[0m\u001b[0;34m(\u001b[0m\u001b[0mdnn\u001b[0m\u001b[0;34m)\u001b[0m\u001b[0;34m\u001b[0m\u001b[0;34m\u001b[0m\u001b[0m\n\u001b[1;32m      8\u001b[0m \u001b[0;34m\u001b[0m\u001b[0m\n",
      "\u001b[0;31mNameError\u001b[0m: name 'x_train_dnn' is not defined"
     ]
    }
   ],
   "source": [
    "np.random.seed(42)\n",
    "\n",
    "dnn_list = []\n",
    "for i in tqdm(range(10)):\n",
    "    dnn = sequential_dnn(dim = [4, 5, 1])\n",
    "    dnn.train(x_train_dnn, y_train, epochs = 100)\n",
    "    dnn_list.append(dnn)\n",
    "    \n",
    "saver(dnn_list, data_path(\"cancer_dnn_pca\"))\n",
    "plt.plot(dnn_list[0].loss)\n",
    "plt.show()\n",
    "print(dnn_list[0].loss)"
   ]
  },
  {
   "cell_type": "code",
   "execution_count": 30,
   "metadata": {},
   "outputs": [
    {
     "data": {
      "application/vnd.jupyter.widget-view+json": {
       "model_id": "0c737da1ee784a4abe5155e85a76b888",
       "version_major": 2,
       "version_minor": 0
      },
      "text/plain": [
       "  0%|          | 0/1 [00:00<?, ?it/s]"
      ]
     },
     "metadata": {},
     "output_type": "display_data"
    },
    {
     "data": {
      "application/vnd.jupyter.widget-view+json": {
       "model_id": "22b91eec5d3340bb930d0ca388467989",
       "version_major": 2,
       "version_minor": 0
      },
      "text/plain": [
       "  0%|          | 0/100 [00:00<?, ?it/s]"
      ]
     },
     "metadata": {},
     "output_type": "display_data"
    },
    {
     "name": "stdout",
     "output_type": "stream",
     "text": [
      "epoch: 0, loss: 0.3168592373508303\n",
      "epoch: 1, loss: 0.2336029946840525\n",
      "epoch: 2, loss: 0.1962506577932628\n",
      "epoch: 3, loss: 0.17491345909187378\n",
      "epoch: 4, loss: 0.1615432920086097\n",
      "epoch: 5, loss: 0.15464466297675353\n",
      "epoch: 6, loss: 0.15166977247954463\n",
      "epoch: 7, loss: 0.14865983896248905\n",
      "epoch: 8, loss: 0.14268124077896063\n",
      "epoch: 9, loss: 0.1334898014591876\n",
      "epoch: 10, loss: 0.12275633893520618\n",
      "epoch: 11, loss: 0.1114015645749138\n",
      "epoch: 12, loss: 0.09977024234163742\n",
      "epoch: 13, loss: 0.08992318604497608\n",
      "epoch: 14, loss: 0.08437540403071819\n",
      "epoch: 15, loss: 0.08287110668192911\n",
      "epoch: 16, loss: 0.08012341116311955\n",
      "epoch: 17, loss: 0.07318949460535737\n",
      "epoch: 18, loss: 0.0658447341898964\n",
      "epoch: 19, loss: 0.061663154959721585\n",
      "epoch: 20, loss: 0.059958971429056304\n",
      "epoch: 21, loss: 0.05835712360538447\n",
      "epoch: 22, loss: 0.05573870973872749\n",
      "epoch: 23, loss: 0.052923972639693145\n",
      "epoch: 24, loss: 0.051696899949724484\n",
      "epoch: 25, loss: 0.05220451665379965\n",
      "epoch: 26, loss: 0.0518136393557763\n",
      "epoch: 27, loss: 0.04969219591076643\n",
      "epoch: 28, loss: 0.047962178299842784\n",
      "epoch: 29, loss: 0.04741802626165463\n",
      "epoch: 30, loss: 0.04691170549400705\n",
      "epoch: 31, loss: 0.04597937190028838\n",
      "epoch: 32, loss: 0.045461330896931926\n",
      "epoch: 33, loss: 0.045829696103279235\n",
      "epoch: 34, loss: 0.046138668861200716\n",
      "epoch: 35, loss: 0.04572726229836764\n",
      "epoch: 36, loss: 0.04533260869438778\n",
      "epoch: 37, loss: 0.04536943870892663\n",
      "epoch: 38, loss: 0.04524264158820269\n",
      "epoch: 39, loss: 0.044651724570135096\n",
      "epoch: 40, loss: 0.04412394733405032\n",
      "epoch: 41, loss: 0.04399554620055202\n",
      "epoch: 42, loss: 0.043796720489972275\n",
      "epoch: 43, loss: 0.04334817607345078\n",
      "epoch: 44, loss: 0.043136872354096537\n",
      "epoch: 45, loss: 0.043222878217656524\n",
      "epoch: 46, loss: 0.04322562069373739\n",
      "epoch: 47, loss: 0.04313666501357182\n",
      "epoch: 48, loss: 0.04322226366915045\n",
      "epoch: 49, loss: 0.04338673580468529\n",
      "epoch: 50, loss: 0.04336306907385521\n",
      "epoch: 51, loss: 0.04326438473770684\n",
      "epoch: 52, loss: 0.043259009212376125\n",
      "epoch: 53, loss: 0.04322048898143735\n",
      "epoch: 54, loss: 0.04306373372403173\n",
      "epoch: 55, loss: 0.042936830214284155\n",
      "epoch: 56, loss: 0.04291187720328076\n",
      "epoch: 57, loss: 0.04286631250214316\n",
      "epoch: 58, loss: 0.04278515593320445\n",
      "epoch: 59, loss: 0.04277469322853392\n",
      "epoch: 60, loss: 0.042803752294324454\n",
      "epoch: 61, loss: 0.04278151460402146\n",
      "epoch: 62, loss: 0.04274554452222809\n",
      "epoch: 63, loss: 0.04274869401698777\n",
      "epoch: 64, loss: 0.04273406318448507\n",
      "epoch: 65, loss: 0.04267677704650178\n",
      "epoch: 66, loss: 0.04263769010186676\n",
      "epoch: 67, loss: 0.04261747019445736\n",
      "epoch: 68, loss: 0.04257248528983018\n",
      "epoch: 69, loss: 0.04252628198911186\n",
      "epoch: 70, loss: 0.04250878661962551\n",
      "epoch: 71, loss: 0.04248736890142494\n",
      "epoch: 72, loss: 0.04245283092568655\n",
      "epoch: 73, loss: 0.04243629529055827\n",
      "epoch: 74, loss: 0.04242725455187884\n",
      "epoch: 75, loss: 0.04240431199137268\n",
      "epoch: 76, loss: 0.04238701785770103\n",
      "epoch: 77, loss: 0.042382099723129556\n",
      "epoch: 78, loss: 0.042369342327986566\n",
      "epoch: 79, loss: 0.042355675738548745\n",
      "epoch: 80, loss: 0.04235322837262057\n",
      "epoch: 81, loss: 0.042347758488348416\n",
      "epoch: 82, loss: 0.04233730460473665\n",
      "epoch: 83, loss: 0.042333563610500315\n",
      "epoch: 84, loss: 0.0423289586953967\n",
      "epoch: 85, loss: 0.042318077709991284\n",
      "epoch: 86, loss: 0.04231067850922008\n",
      "epoch: 87, loss: 0.04230439612457146\n",
      "epoch: 88, loss: 0.0422934789380196\n",
      "epoch: 89, loss: 0.04228468580744979\n",
      "epoch: 90, loss: 0.04227829897168713\n",
      "epoch: 91, loss: 0.042268871972272685\n",
      "epoch: 92, loss: 0.04226046051331872\n",
      "epoch: 93, loss: 0.042254232188475446\n",
      "epoch: 94, loss: 0.04224557389150251\n",
      "epoch: 95, loss: 0.04223664227722499\n",
      "epoch: 96, loss: 0.04222899178877663\n",
      "epoch: 97, loss: 0.04221915180732368\n",
      "epoch: 98, loss: 0.042208386622136905\n",
      "epoch: 99, loss: 0.04219836717635543\n"
     ]
    },
    {
     "ename": "NameError",
     "evalue": "name 'qnn' is not defined",
     "output_type": "error",
     "traceback": [
      "\u001b[0;31m---------------------------------------------------------------------------\u001b[0m",
      "\u001b[0;31mNameError\u001b[0m                                 Traceback (most recent call last)",
      "\u001b[0;32m<ipython-input-30-81dea7157196>\u001b[0m in \u001b[0;36m<module>\u001b[0;34m\u001b[0m\n\u001b[1;32m      9\u001b[0m \u001b[0;34m\u001b[0m\u001b[0m\n\u001b[1;32m     10\u001b[0m     \u001b[0mqcn\u001b[0m\u001b[0;34m.\u001b[0m\u001b[0mtrain\u001b[0m\u001b[0;34m(\u001b[0m\u001b[0mx_train_qcn\u001b[0m\u001b[0;34m,\u001b[0m \u001b[0my_train\u001b[0m\u001b[0;34m,\u001b[0m \u001b[0mepochs\u001b[0m\u001b[0;34m=\u001b[0m\u001b[0;36m100\u001b[0m\u001b[0;34m,\u001b[0m \u001b[0mverbose\u001b[0m\u001b[0;34m=\u001b[0m\u001b[0;32mTrue\u001b[0m\u001b[0;34m)\u001b[0m\u001b[0;34m\u001b[0m\u001b[0;34m\u001b[0m\u001b[0m\n\u001b[0;32m---> 11\u001b[0;31m     \u001b[0mqcn_list\u001b[0m\u001b[0;34m.\u001b[0m\u001b[0mappend\u001b[0m\u001b[0;34m(\u001b[0m\u001b[0mqnn\u001b[0m\u001b[0;34m)\u001b[0m\u001b[0;34m\u001b[0m\u001b[0;34m\u001b[0m\u001b[0m\n\u001b[0m\u001b[1;32m     12\u001b[0m \u001b[0;34m\u001b[0m\u001b[0m\n\u001b[1;32m     13\u001b[0m \u001b[0msaver\u001b[0m\u001b[0;34m(\u001b[0m\u001b[0mqcn_list\u001b[0m\u001b[0;34m,\u001b[0m \u001b[0mdata_path\u001b[0m\u001b[0;34m(\u001b[0m\u001b[0;34m\"cancer_qnn_pca\"\u001b[0m\u001b[0;34m)\u001b[0m\u001b[0;34m)\u001b[0m\u001b[0;34m\u001b[0m\u001b[0;34m\u001b[0m\u001b[0m\n",
      "\u001b[0;31mNameError\u001b[0m: name 'qnn' is not defined"
     ]
    }
   ],
   "source": [
    "np.random.seed(42)\n",
    "\n",
    "qcn_list = []\n",
    "for i in tqdm(range(1)):\n",
    "    qcn = sequential_qnn(n_qubits = [4, 4],\n",
    "                         dim = [4, 4, 1],\n",
    "                         ansatz = Ansatz(blocks=[\"entangle\", \"ry\"], reps=2),\n",
    "                         shots=0)\n",
    "    \n",
    "    qcn.train(x_train_qcn, y_train, epochs=100, verbose=True)\n",
    "    qcn_list.append(qcn)\n",
    "\n",
    "saver(qcn_list, data_path(\"cancer_qnn_pca\"))"
   ]
  },
  {
   "cell_type": "code",
   "execution_count": 31,
   "metadata": {},
   "outputs": [],
   "source": [
    "qcn = sequential_qnn(n_qubits = [4,],\n",
    "                         dim = [4, 1],\n",
    "                         ansatz = Ansatz(blocks=[\"entangle\", \"ry\"], reps=4),\n",
    "                         shots=0)"
   ]
  },
  {
   "cell_type": "code",
   "execution_count": 32,
   "metadata": {},
   "outputs": [
    {
     "data": {
      "application/vnd.jupyter.widget-view+json": {
       "model_id": "9da95feb539241719f6756f07d8baf73",
       "version_major": 2,
       "version_minor": 0
      },
      "text/plain": [
       "  0%|          | 0/100 [00:00<?, ?it/s]"
      ]
     },
     "metadata": {},
     "output_type": "display_data"
    },
    {
     "name": "stdout",
     "output_type": "stream",
     "text": [
      "epoch: 0, loss: 0.23130401897659414\n",
      "epoch: 1, loss: 0.19675844048804397\n",
      "epoch: 2, loss: 0.17497011184957428\n",
      "epoch: 3, loss: 0.16056825637753305\n",
      "epoch: 4, loss: 0.15000657234754824\n",
      "epoch: 5, loss: 0.14274348779083507\n",
      "epoch: 6, loss: 0.13894508224989532\n",
      "epoch: 7, loss: 0.13790595106797796\n",
      "epoch: 8, loss: 0.13805031203590942\n",
      "epoch: 9, loss: 0.13820365122971648\n",
      "epoch: 10, loss: 0.1378706774931859\n",
      "epoch: 11, loss: 0.136760998273358\n",
      "epoch: 12, loss: 0.13475403534499383\n",
      "epoch: 13, loss: 0.13200041368463641\n",
      "epoch: 14, loss: 0.12882496368502358\n",
      "epoch: 15, loss: 0.1255699234042707\n",
      "epoch: 16, loss: 0.12249960422124398\n",
      "epoch: 17, loss: 0.11975718024066642\n",
      "epoch: 18, loss: 0.11736184374181001\n",
      "epoch: 19, loss: 0.11525829240441593\n",
      "epoch: 20, loss: 0.11340238599001841\n",
      "epoch: 21, loss: 0.11182369451291599\n",
      "epoch: 22, loss: 0.11060949743103407\n",
      "epoch: 23, loss: 0.10980777339293236\n",
      "epoch: 24, loss: 0.1093293082048599\n",
      "epoch: 25, loss: 0.1089693557834851\n",
      "epoch: 26, loss: 0.10855379604266574\n",
      "epoch: 27, loss: 0.10806659146075885\n",
      "epoch: 28, loss: 0.10764086603227688\n",
      "epoch: 29, loss: 0.10743349499476532\n",
      "epoch: 30, loss: 0.10751225130827213\n",
      "epoch: 31, loss: 0.10781918036950651\n",
      "epoch: 32, loss: 0.10817218620444162\n",
      "epoch: 33, loss: 0.10836451142544973\n",
      "epoch: 34, loss: 0.10832331307770396\n",
      "epoch: 35, loss: 0.1081153203149573\n",
      "epoch: 36, loss: 0.10784215426225138\n",
      "epoch: 37, loss: 0.10757411228082782\n",
      "epoch: 38, loss: 0.10733388005839137\n",
      "epoch: 39, loss: 0.10709253851561938\n",
      "epoch: 40, loss: 0.10680159673649302\n",
      "epoch: 41, loss: 0.10646082256856747\n",
      "epoch: 42, loss: 0.1061339473374223\n",
      "epoch: 43, loss: 0.10588034170875968\n",
      "epoch: 44, loss: 0.10568973462097504\n",
      "epoch: 45, loss: 0.10549338823185929\n",
      "epoch: 46, loss: 0.10522373071738406\n",
      "epoch: 47, loss: 0.10485861451780146\n",
      "epoch: 48, loss: 0.1044244263631272\n",
      "epoch: 49, loss: 0.10396588792357439\n",
      "epoch: 50, loss: 0.103507088554696\n",
      "epoch: 51, loss: 0.10303478723473916\n",
      "epoch: 52, loss: 0.10251620427966728\n",
      "epoch: 53, loss: 0.10192999884336429\n",
      "epoch: 54, loss: 0.10127933727259694\n",
      "epoch: 55, loss: 0.10057990693163621\n",
      "epoch: 56, loss: 0.09984187030929574\n",
      "epoch: 57, loss: 0.09906505626015948\n",
      "epoch: 58, loss: 0.09824672841087184\n",
      "epoch: 59, loss: 0.09738800351060303\n",
      "epoch: 60, loss: 0.0964917335997121\n",
      "epoch: 61, loss: 0.09555791878356963\n",
      "epoch: 62, loss: 0.09458580717842889\n",
      "epoch: 63, loss: 0.09358381569684149\n",
      "epoch: 64, loss: 0.09257879850734638\n",
      "epoch: 65, loss: 0.09161432042885455\n",
      "epoch: 66, loss: 0.0907360807668888\n",
      "epoch: 67, loss: 0.08997409108474703\n",
      "epoch: 68, loss: 0.08933412711021672\n",
      "epoch: 69, loss: 0.088802901871534\n",
      "epoch: 70, loss: 0.08836101664396169\n",
      "epoch: 71, loss: 0.0879938867784379\n",
      "epoch: 72, loss: 0.08769486813943267\n",
      "epoch: 73, loss: 0.08746181063859265\n",
      "epoch: 74, loss: 0.08729226038796817\n",
      "epoch: 75, loss: 0.08718129498748352\n",
      "epoch: 76, loss: 0.08712208094640704\n",
      "epoch: 77, loss: 0.08710675166505392\n",
      "epoch: 78, loss: 0.08712587044743383\n",
      "epoch: 79, loss: 0.08716722118213464\n",
      "epoch: 80, loss: 0.08721622048789957\n",
      "epoch: 81, loss: 0.08725914550189871\n",
      "epoch: 82, loss: 0.0872875649336194\n",
      "epoch: 83, loss: 0.08730068411059691\n",
      "epoch: 84, loss: 0.08730362550924951\n",
      "epoch: 85, loss: 0.08730285054935875\n",
      "epoch: 86, loss: 0.08730202512132092\n",
      "epoch: 87, loss: 0.0873008435105777\n",
      "epoch: 88, loss: 0.08729667403190343\n",
      "epoch: 89, loss: 0.08728693956519225\n",
      "epoch: 90, loss: 0.08727037758891452\n",
      "epoch: 91, loss: 0.08724694441431642\n",
      "epoch: 92, loss: 0.08721730704535932\n",
      "epoch: 93, loss: 0.08718270407414008\n",
      "epoch: 94, loss: 0.0871450838752133\n",
      "epoch: 95, loss: 0.08710697705648746\n",
      "epoch: 96, loss: 0.08707089759661098\n",
      "epoch: 97, loss: 0.08703862741984024\n",
      "epoch: 98, loss: 0.0870108782513812\n",
      "epoch: 99, loss: 0.08698749344249744\n"
     ]
    }
   ],
   "source": [
    "qcn.train(x_train_qcn, y_train, epochs=100, verbose=True)"
   ]
  },
  {
   "cell_type": "code",
   "execution_count": 33,
   "metadata": {},
   "outputs": [],
   "source": [
    "qcn1 = sequential_qnn(n_qubits = [4,],\n",
    "                         dim = [4, 1],\n",
    "                         encoder = RZZEncoder(),\n",
    "                         ansatz = Ansatz(blocks=[\"entangle\", \"ry\"], reps=4),\n",
    "                         shots=0)"
   ]
  },
  {
   "cell_type": "code",
   "execution_count": null,
   "metadata": {},
   "outputs": [
    {
     "data": {
      "application/vnd.jupyter.widget-view+json": {
       "model_id": "94ea9b632bb640c18bbffa8be9eb35f6",
       "version_major": 2,
       "version_minor": 0
      },
      "text/plain": [
       "  0%|          | 0/100 [00:00<?, ?it/s]"
      ]
     },
     "metadata": {},
     "output_type": "display_data"
    },
    {
     "name": "stdout",
     "output_type": "stream",
     "text": [
      "epoch: 0, loss: 0.2623850726122279\n",
      "epoch: 1, loss: 0.24721152586456982\n",
      "epoch: 2, loss: 0.23279861887739853\n",
      "epoch: 3, loss: 0.2201226505264337\n",
      "epoch: 4, loss: 0.21009950635154775\n",
      "epoch: 5, loss: 0.20296654063516922\n",
      "epoch: 6, loss: 0.1979729758817781\n",
      "epoch: 7, loss: 0.19449827835641315\n",
      "epoch: 8, loss: 0.19240913046948857\n",
      "epoch: 9, loss: 0.1912401552552501\n",
      "epoch: 10, loss: 0.19004361623818178\n",
      "epoch: 11, loss: 0.1883699666188947\n",
      "epoch: 12, loss: 0.18650789131173506\n",
      "epoch: 13, loss: 0.18499910008714082\n",
      "epoch: 14, loss: 0.18408915280678403\n",
      "epoch: 15, loss: 0.18357962722413895\n",
      "epoch: 16, loss: 0.1832008975805395\n",
      "epoch: 17, loss: 0.18284898164048805\n",
      "epoch: 18, loss: 0.1825183647823506\n",
      "epoch: 19, loss: 0.18218878559678886\n",
      "epoch: 20, loss: 0.1817727892356849\n",
      "epoch: 21, loss: 0.18116528970352294\n",
      "epoch: 22, loss: 0.18036240576456822\n",
      "epoch: 23, loss: 0.17950115763977187\n",
      "epoch: 24, loss: 0.17874396251998664\n",
      "epoch: 25, loss: 0.17814353712330377\n",
      "epoch: 26, loss: 0.17763984182066203\n",
      "epoch: 27, loss: 0.1771229282432494\n",
      "epoch: 28, loss: 0.17648827718657642\n",
      "epoch: 29, loss: 0.17569916133817717\n"
     ]
    }
   ],
   "source": [
    "qcn1.train(x_train_qcn, y_train, epochs=100, verbose=True)"
   ]
  },
  {
   "cell_type": "code",
   "execution_count": null,
   "metadata": {},
   "outputs": [],
   "source": []
  }
 ],
 "metadata": {
  "kernelspec": {
   "display_name": "env_qiskit",
   "language": "python",
   "name": "env_qiskit"
  },
  "language_info": {
   "codemirror_mode": {
    "name": "ipython",
    "version": 3
   },
   "file_extension": ".py",
   "mimetype": "text/x-python",
   "name": "python",
   "nbconvert_exporter": "python",
   "pygments_lexer": "ipython3",
   "version": "3.9.1"
  }
 },
 "nbformat": 4,
 "nbformat_minor": 4
}
