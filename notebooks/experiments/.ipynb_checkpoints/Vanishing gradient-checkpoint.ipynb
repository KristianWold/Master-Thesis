{
 "cells": [
  {
   "cell_type": "code",
   "execution_count": 2,
   "metadata": {},
   "outputs": [],
   "source": [
    "import numpy as np\n",
    "import qiskit as qk\n",
    "import matplotlib.pyplot as plt\n",
    "from qiskit import Aer\n",
    "from tqdm.notebook import tqdm\n",
    "from multiprocessing import Pool\n",
    "\n",
    "\n",
    "import sys\n",
    "sys.path.insert(0, '../../src/')\n",
    "from neuralnetwork import *\n",
    "from costfunction import *\n",
    "\n",
    "#%matplotlib notebook\n",
    "%matplotlib inline\n",
    "%load_ext autoreload\n",
    "%autoreload 2\n",
    "np.set_printoptions(precision=3)"
   ]
  },
  {
   "cell_type": "markdown",
   "metadata": {},
   "source": [
    "# Vanishing Gradient, Data Generation"
   ]
  },
  {
   "cell_type": "code",
   "execution_count": 3,
   "metadata": {},
   "outputs": [],
   "source": [
    "backend = Aer.get_backend('qasm_simulator')\n",
    "\n",
    "np.random.seed(42)\n",
    "x = np.random.uniform(-np.pi/2, np.pi/2, (100, 20))\n",
    "n = 10\n",
    "d = 8\n",
    "\n",
    "def parallel(model):\n",
    "        model.backward(x[:,:n_qubits])\n",
    "        return model"
   ]
  },
  {
   "cell_type": "markdown",
   "metadata": {},
   "source": [
    "### Parity"
   ]
  },
  {
   "cell_type": "markdown",
   "metadata": {},
   "source": [
    "### 4 Qubits"
   ]
  },
  {
   "cell_type": "code",
   "execution_count": 4,
   "metadata": {},
   "outputs": [
    {
     "ename": "AssertionError",
     "evalue": "daemonic processes are not allowed to have children",
     "output_type": "error",
     "traceback": [
      "\u001b[0;31m---------------------------------------------------------------------------\u001b[0m",
      "\u001b[0;31mRemoteTraceback\u001b[0m                           Traceback (most recent call last)",
      "\u001b[0;31mRemoteTraceback\u001b[0m: \n\"\"\"\nTraceback (most recent call last):\n  File \"/home/kristian/anaconda3/envs/env_qiskit/lib/python3.9/multiprocessing/pool.py\", line 125, in worker\n    result = (True, func(*args, **kwds))\n  File \"/home/kristian/anaconda3/envs/env_qiskit/lib/python3.9/multiprocessing/pool.py\", line 48, in mapstar\n    return list(map(*args))\n  File \"<ipython-input-3-787f370bdef5>\", line 9, in parallel\n    model.backward(x[:,:n_qubits])\n  File \"../../src/neuralnetwork.py\", line 53, in backward\n    self(x)\n  File \"../../src/neuralnetwork.py\", line 42, in __call__\n    x = layer(x)\n  File \"../../src/layers.py\", line 130, in __call__\n    qobject_list = qk.assemble(circuit_list,\n  File \"/home/kristian/anaconda3/envs/env_qiskit/lib/python3.9/site-packages/qiskit/compiler/assemble.py\", line 153, in assemble\n    return assemble_circuits(circuits=bound_experiments, qobj_id=qobj_id,\n  File \"/home/kristian/anaconda3/envs/env_qiskit/lib/python3.9/site-packages/qiskit/assembler/assemble_circuits.py\", line 269, in assemble_circuits\n    experiments_and_pulse_libs = parallel_map(_assemble_circuit, circuits, [run_config])\n  File \"/home/kristian/anaconda3/envs/env_qiskit/lib/python3.9/site-packages/qiskit/tools/parallel.py\", line 135, in parallel_map\n    raise error\n  File \"/home/kristian/anaconda3/envs/env_qiskit/lib/python3.9/site-packages/qiskit/tools/parallel.py\", line 123, in parallel_map\n    future = executor.map(_task_wrapper, param)\n  File \"/home/kristian/anaconda3/envs/env_qiskit/lib/python3.9/concurrent/futures/process.py\", line 726, in map\n    results = super().map(partial(_process_chunk, fn),\n  File \"/home/kristian/anaconda3/envs/env_qiskit/lib/python3.9/concurrent/futures/_base.py\", line 589, in map\n    fs = [self.submit(fn, *args) for args in zip(*iterables)]\n  File \"/home/kristian/anaconda3/envs/env_qiskit/lib/python3.9/concurrent/futures/_base.py\", line 589, in <listcomp>\n    fs = [self.submit(fn, *args) for args in zip(*iterables)]\n  File \"/home/kristian/anaconda3/envs/env_qiskit/lib/python3.9/concurrent/futures/process.py\", line 697, in submit\n    self._adjust_process_count()\n  File \"/home/kristian/anaconda3/envs/env_qiskit/lib/python3.9/concurrent/futures/process.py\", line 675, in _adjust_process_count\n    p.start()\n  File \"/home/kristian/anaconda3/envs/env_qiskit/lib/python3.9/multiprocessing/process.py\", line 118, in start\n    assert not _current_process._config.get('daemon'), \\\nAssertionError: daemonic processes are not allowed to have children\n\"\"\"",
      "\nThe above exception was the direct cause of the following exception:\n",
      "\u001b[0;31mAssertionError\u001b[0m                            Traceback (most recent call last)",
      "\u001b[0;32m<ipython-input-4-b6f673b52f5e>\u001b[0m in \u001b[0;36m<module>\u001b[0;34m\u001b[0m\n\u001b[1;32m     20\u001b[0m \u001b[0mpool\u001b[0m \u001b[0;34m=\u001b[0m \u001b[0mPool\u001b[0m\u001b[0;34m(\u001b[0m\u001b[0mn\u001b[0m\u001b[0;34m)\u001b[0m\u001b[0;34m\u001b[0m\u001b[0;34m\u001b[0m\u001b[0m\n\u001b[1;32m     21\u001b[0m \u001b[0;32mwith\u001b[0m \u001b[0mPool\u001b[0m\u001b[0;34m(\u001b[0m\u001b[0mn\u001b[0m\u001b[0;34m)\u001b[0m \u001b[0;32mas\u001b[0m \u001b[0mp\u001b[0m\u001b[0;34m:\u001b[0m\u001b[0;34m\u001b[0m\u001b[0;34m\u001b[0m\u001b[0m\n\u001b[0;32m---> 22\u001b[0;31m         \u001b[0mmodels\u001b[0m \u001b[0;34m=\u001b[0m \u001b[0mp\u001b[0m\u001b[0;34m.\u001b[0m\u001b[0mmap\u001b[0m\u001b[0;34m(\u001b[0m\u001b[0mparallel\u001b[0m\u001b[0;34m,\u001b[0m \u001b[0mmodels\u001b[0m\u001b[0;34m)\u001b[0m\u001b[0;34m\u001b[0m\u001b[0;34m\u001b[0m\u001b[0m\n\u001b[0m\u001b[1;32m     23\u001b[0m \u001b[0;34m\u001b[0m\u001b[0m\n\u001b[1;32m     24\u001b[0m \u001b[0msaver\u001b[0m\u001b[0;34m(\u001b[0m\u001b[0mmodels\u001b[0m\u001b[0;34m,\u001b[0m \u001b[0mdata_path\u001b[0m\u001b[0;34m(\u001b[0m\u001b[0;34m\"vanishing_grad_width_4_reps_2\"\u001b[0m\u001b[0;34m)\u001b[0m\u001b[0;34m)\u001b[0m\u001b[0;34m\u001b[0m\u001b[0;34m\u001b[0m\u001b[0m\n",
      "\u001b[0;32m~/anaconda3/envs/env_qiskit/lib/python3.9/multiprocessing/pool.py\u001b[0m in \u001b[0;36mmap\u001b[0;34m(self, func, iterable, chunksize)\u001b[0m\n\u001b[1;32m    362\u001b[0m         \u001b[0;32min\u001b[0m \u001b[0ma\u001b[0m \u001b[0mlist\u001b[0m \u001b[0mthat\u001b[0m \u001b[0;32mis\u001b[0m \u001b[0mreturned\u001b[0m\u001b[0;34m.\u001b[0m\u001b[0;34m\u001b[0m\u001b[0;34m\u001b[0m\u001b[0m\n\u001b[1;32m    363\u001b[0m         '''\n\u001b[0;32m--> 364\u001b[0;31m         \u001b[0;32mreturn\u001b[0m \u001b[0mself\u001b[0m\u001b[0;34m.\u001b[0m\u001b[0m_map_async\u001b[0m\u001b[0;34m(\u001b[0m\u001b[0mfunc\u001b[0m\u001b[0;34m,\u001b[0m \u001b[0miterable\u001b[0m\u001b[0;34m,\u001b[0m \u001b[0mmapstar\u001b[0m\u001b[0;34m,\u001b[0m \u001b[0mchunksize\u001b[0m\u001b[0;34m)\u001b[0m\u001b[0;34m.\u001b[0m\u001b[0mget\u001b[0m\u001b[0;34m(\u001b[0m\u001b[0;34m)\u001b[0m\u001b[0;34m\u001b[0m\u001b[0;34m\u001b[0m\u001b[0m\n\u001b[0m\u001b[1;32m    365\u001b[0m \u001b[0;34m\u001b[0m\u001b[0m\n\u001b[1;32m    366\u001b[0m     \u001b[0;32mdef\u001b[0m \u001b[0mstarmap\u001b[0m\u001b[0;34m(\u001b[0m\u001b[0mself\u001b[0m\u001b[0;34m,\u001b[0m \u001b[0mfunc\u001b[0m\u001b[0;34m,\u001b[0m \u001b[0miterable\u001b[0m\u001b[0;34m,\u001b[0m \u001b[0mchunksize\u001b[0m\u001b[0;34m=\u001b[0m\u001b[0;32mNone\u001b[0m\u001b[0;34m)\u001b[0m\u001b[0;34m:\u001b[0m\u001b[0;34m\u001b[0m\u001b[0;34m\u001b[0m\u001b[0m\n",
      "\u001b[0;32m~/anaconda3/envs/env_qiskit/lib/python3.9/multiprocessing/pool.py\u001b[0m in \u001b[0;36mget\u001b[0;34m(self, timeout)\u001b[0m\n\u001b[1;32m    769\u001b[0m             \u001b[0;32mreturn\u001b[0m \u001b[0mself\u001b[0m\u001b[0;34m.\u001b[0m\u001b[0m_value\u001b[0m\u001b[0;34m\u001b[0m\u001b[0;34m\u001b[0m\u001b[0m\n\u001b[1;32m    770\u001b[0m         \u001b[0;32melse\u001b[0m\u001b[0;34m:\u001b[0m\u001b[0;34m\u001b[0m\u001b[0;34m\u001b[0m\u001b[0m\n\u001b[0;32m--> 771\u001b[0;31m             \u001b[0;32mraise\u001b[0m \u001b[0mself\u001b[0m\u001b[0;34m.\u001b[0m\u001b[0m_value\u001b[0m\u001b[0;34m\u001b[0m\u001b[0;34m\u001b[0m\u001b[0m\n\u001b[0m\u001b[1;32m    772\u001b[0m \u001b[0;34m\u001b[0m\u001b[0m\n\u001b[1;32m    773\u001b[0m     \u001b[0;32mdef\u001b[0m \u001b[0m_set\u001b[0m\u001b[0;34m(\u001b[0m\u001b[0mself\u001b[0m\u001b[0;34m,\u001b[0m \u001b[0mi\u001b[0m\u001b[0;34m,\u001b[0m \u001b[0mobj\u001b[0m\u001b[0;34m)\u001b[0m\u001b[0;34m:\u001b[0m\u001b[0;34m\u001b[0m\u001b[0;34m\u001b[0m\u001b[0m\n",
      "\u001b[0;31mAssertionError\u001b[0m: daemonic processes are not allowed to have children"
     ]
    }
   ],
   "source": [
    "np.random.seed(42)\n",
    "models = []\n",
    "n_qubits = 4\n",
    "\n",
    "for i in range(n):\n",
    "    network = sequential_qnn(n_qubits = d*[n_qubits],\n",
    "                             dim = d*[n_qubits] + [n_qubits],\n",
    "                             scale = (d+1)*[[-np.pi, np.pi]],\n",
    "                             encoder = Encoder(),\n",
    "                             ansatz = Ansatz(blocks=[\"entangle\", \"ry\"], reps=2),\n",
    "                             sampler = Parity(),\n",
    "                             cost = NoCost(),\n",
    "                             optimizer = Adam(lr=0.1),\n",
    "                             backend = backend,\n",
    "                             shots = 0)\n",
    "\n",
    "    models.append(network)\n",
    "\n",
    "\n",
    "pool = Pool(n) \n",
    "with Pool(n) as p:\n",
    "        models = p.map(parallel, models) \n",
    "\n",
    "saver(models, data_path(\"vanishing_grad_width_4_reps_2\"))"
   ]
  },
  {
   "cell_type": "markdown",
   "metadata": {},
   "source": [
    "### 5 Qubits"
   ]
  },
  {
   "cell_type": "code",
   "execution_count": null,
   "metadata": {},
   "outputs": [],
   "source": [
    "np.random.seed(42)\n",
    "models = []\n",
    "n_qubits = 5\n",
    "\n",
    "for i in range(n):\n",
    "    network = sequential_qnn(n_qubits = d*[n_qubits],\n",
    "                             dim = d*[n_qubits] + [n_qubits],\n",
    "                             scale = (d+1)*[[-np.pi, np.pi]],\n",
    "                             encoder = Encoder(),\n",
    "                             ansatz = Ansatz(blocks=[\"entangle\", \"ry\"], reps=2),\n",
    "                             sampler = Parity(),\n",
    "                             cost = NoCost(),\n",
    "                             optimizer = Adam(lr=0.1),\n",
    "                             backend = backend,\n",
    "                             shots = 0)\n",
    "\n",
    "    models.append(network)\n",
    "\n",
    "pool = Pool(n) \n",
    "with Pool(n) as p:\n",
    "        models = p.map(parallel, models) \n",
    "\n",
    "saver(models, data_path(\"vanishing_grad_width_5_reps_2\"))"
   ]
  },
  {
   "cell_type": "markdown",
   "metadata": {},
   "source": [
    "### 6 Qubits"
   ]
  },
  {
   "cell_type": "code",
   "execution_count": null,
   "metadata": {},
   "outputs": [],
   "source": [
    "np.random.seed(42)\n",
    "models = []\n",
    "n_qubits = 6\n",
    "\n",
    "for i in range(n):\n",
    "    network = sequential_qnn(n_qubits = d*[n_qubits],\n",
    "                             dim = d*[n_qubits] + [n_qubits],\n",
    "                             scale = (d+1)*[[-np.pi, np.pi]],\n",
    "                             encoder = Encoder(),\n",
    "                             ansatz = Ansatz(blocks=[\"entangle\", \"ry\"], reps=2),\n",
    "                             sampler = Parity(),\n",
    "                             cost = NoCost(),\n",
    "                             optimizer = Adam(lr=0.1),\n",
    "                             backend = backend,\n",
    "                             shots = 0)\n",
    "\n",
    "    models.append(network)\n",
    "\n",
    "pool = Pool(n) \n",
    "with Pool(n) as p:\n",
    "        models = p.map(parallel, models) \n",
    "\n",
    "saver(models, data_path(\"vanishing_grad_width_6_reps_2\"))"
   ]
  },
  {
   "cell_type": "markdown",
   "metadata": {},
   "source": [
    "### 7 Qubits"
   ]
  },
  {
   "cell_type": "code",
   "execution_count": null,
   "metadata": {},
   "outputs": [],
   "source": [
    "np.random.seed(42)\n",
    "models = []\n",
    "n_qubits = 7\n",
    "\n",
    "for i in range(n):\n",
    "    network = sequential_qnn(n_qubits = d*[n_qubits],\n",
    "                             dim = d*[n_qubits] + [n_qubits],\n",
    "                             scale = (d+1)*[[-np.pi, np.pi]],\n",
    "                             encoder = Encoder(),\n",
    "                             ansatz = Ansatz(blocks=[\"entangle\", \"ry\"], reps=2),\n",
    "                             sampler = Parity(),\n",
    "                             cost = NoCost(),\n",
    "                             optimizer = Adam(lr=0.1),\n",
    "                             backend = backend,\n",
    "                             shots = 0)\n",
    "\n",
    "    models.append(network)\n",
    "\n",
    "pool = Pool(n) \n",
    "with Pool(n) as p:\n",
    "        models = p.map(parallel, models) \n",
    "\n",
    "saver(models, data_path(\"vanishing_grad_width_7_reps_2\"))"
   ]
  },
  {
   "cell_type": "markdown",
   "metadata": {},
   "source": [
    "### 8 Qubits"
   ]
  },
  {
   "cell_type": "code",
   "execution_count": null,
   "metadata": {},
   "outputs": [],
   "source": [
    "np.random.seed(42)\n",
    "models = []\n",
    "n_qubits = 8\n",
    "\n",
    "for i in range(n):\n",
    "    network = sequential_qnn(n_qubits = d*[n_qubits],\n",
    "                             dim = d*[n_qubits] + [n_qubits],\n",
    "                             scale = (d+1)*[[-np.pi, np.pi]],\n",
    "                             encoder = Encoder(),\n",
    "                             ansatz = Ansatz(blocks=[\"entangle\", \"ry\"], reps=2),\n",
    "                             sampler = Parity(),\n",
    "                             cost = NoCost(),\n",
    "                             optimizer = Adam(lr=0.1),\n",
    "                             backend = backend,\n",
    "                             shots = 0)\n",
    "\n",
    "    models.append(network)\n",
    "\n",
    "pool = Pool(n) \n",
    "with Pool(n) as p:\n",
    "        models = p.map(parallel, models) \n",
    "\n",
    "saver(models, data_path(\"vanishing_grad_width_8_reps_2\"))"
   ]
  },
  {
   "cell_type": "markdown",
   "metadata": {},
   "source": [
    "## Classical Neural Network"
   ]
  },
  {
   "cell_type": "code",
   "execution_count": null,
   "metadata": {},
   "outputs": [],
   "source": [
    "np.random.seed(42)\n",
    "grad_average = np.zeros((n, d))\n",
    "\n",
    "models = []\n",
    "\n",
    "for i in tqdm(range(n)):\n",
    "    network = sequential_dnn(dim=d*[5] + [5], cost=NoCost(), optimizer=Adam(lr=0.1))\n",
    "    \n",
    "    network.backward(x[:,:5])\n",
    "    models.append(network)\n",
    "\n",
    "saver(models, data_path(\"vanishing_grad_dnn\"))"
   ]
  },
  {
   "cell_type": "markdown",
   "metadata": {},
   "source": [
    "#### LastBit"
   ]
  },
  {
   "cell_type": "code",
   "execution_count": null,
   "metadata": {},
   "outputs": [],
   "source": [
    "np.random.seed(42)\n",
    "grad_average = np.zeros((n, d))\n",
    "\n",
    "models = []\n",
    "\n",
    "for i in tqdm(range(n)):\n",
    "    network = sequential_qnn(n_qubits = d*[4],\n",
    "                             dim = d*[4] + [4],\n",
    "                             scale = (d+1)*[[-np.pi, np.pi]],\n",
    "                             encoder = Encoder(),\n",
    "                             ansatz = Ansatz(blocks=[\"entangle\", \"ry\"], reps=2),\n",
    "                             sampler = LastBit(),\n",
    "                             cost = NoCost(),\n",
    "                             optimizer = Adam(lr=0.1),\n",
    "                             backend = backend,\n",
    "                             shots = 100000)\n",
    "    \n",
    "    network.backward(x[:,:4])\n",
    "    models.append(network)\n",
    "    \n",
    "saver(models, data_path(\"vanishing_grad_width_4_reps_2_lastbit\"))"
   ]
  },
  {
   "cell_type": "code",
   "execution_count": null,
   "metadata": {},
   "outputs": [],
   "source": [
    "np.random.seed(42)\n",
    "grad_average = np.zeros((n, d))\n",
    "\n",
    "models = []\n",
    "\n",
    "for i in tqdm(range(1)):\n",
    "    network = sequential_qnn(n_qubits = d*[8],\n",
    "                             dim = d*[8] + [8],\n",
    "                             scale = (d+1)*[[-np.pi, np.pi]],\n",
    "                             encoder = Encoder(),\n",
    "                             ansatz = Ansatz(blocks=[\"entangle\", \"ry\"], reps=2),\n",
    "                             sampler = LastBit(),\n",
    "                             cost = NoCost(),\n",
    "                             optimizer = Adam(lr=0.1),\n",
    "                             backend = backend,\n",
    "                             shots = 100000)\n",
    "    \n",
    "    network.backward(x[:,:8])\n",
    "    models.append(network)\n",
    "    \n",
    "saver(models, data_path(\"vanishing_grad_width_8_reps_2_lastbit\"))"
   ]
  },
  {
   "cell_type": "code",
   "execution_count": null,
   "metadata": {},
   "outputs": [],
   "source": [
    "np.random.seed(42)\n",
    "grad_average = np.zeros((n, d))\n",
    "\n",
    "models = []\n",
    "\n",
    "for i in tqdm(range(1)):\n",
    "    network = sequential_qnn(n_qubits = d*[12],\n",
    "                             dim = d*[12] + [12],\n",
    "                             scale = (d+1)*[[-np.pi, np.pi]],\n",
    "                             encoder = Encoder(),\n",
    "                             ansatz = Ansatz(blocks=[\"entangle\", \"ry\"], reps=2),\n",
    "                             sampler = LastBit(),\n",
    "                             cost = NoCost(),\n",
    "                             optimizer = Adam(lr=0.1),\n",
    "                             backend = backend,\n",
    "                             shots = 100000)\n",
    "    \n",
    "    network.backward(x[:,:12])\n",
    "    models.append(network)\n",
    "    \n",
    "saver(models, data_path(\"vanishing_grad_width_12_reps_2_lastbit\"))"
   ]
  },
  {
   "cell_type": "code",
   "execution_count": null,
   "metadata": {},
   "outputs": [],
   "source": []
  }
 ],
 "metadata": {
  "kernelspec": {
   "display_name": "env_qiskit",
   "language": "python",
   "name": "env_qiskit"
  },
  "language_info": {
   "codemirror_mode": {
    "name": "ipython",
    "version": 3
   },
   "file_extension": ".py",
   "mimetype": "text/x-python",
   "name": "python",
   "nbconvert_exporter": "python",
   "pygments_lexer": "ipython3",
   "version": "3.9.1"
  }
 },
 "nbformat": 4,
 "nbformat_minor": 4
}
