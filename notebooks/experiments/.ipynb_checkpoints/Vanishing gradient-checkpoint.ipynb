{
 "cells": [
  {
   "cell_type": "code",
   "execution_count": 2,
   "metadata": {},
   "outputs": [
    {
     "name": "stdout",
     "output_type": "stream",
     "text": [
      "The autoreload extension is already loaded. To reload it, use:\n",
      "  %reload_ext autoreload\n"
     ]
    }
   ],
   "source": [
    "import numpy as np\n",
    "import qiskit as qk\n",
    "import matplotlib.pyplot as plt\n",
    "from qiskit import Aer\n",
    "from tqdm.notebook import tqdm\n",
    "\n",
    "\n",
    "\n",
    "import sys\n",
    "sys.path.insert(0, '../../src/')\n",
    "from neuralnetwork import *\n",
    "from costfunction import *\n",
    "\n",
    "#%matplotlib notebook\n",
    "%matplotlib inline\n",
    "%load_ext autoreload\n",
    "%autoreload 2\n",
    "np.set_printoptions(precision=3)"
   ]
  },
  {
   "cell_type": "markdown",
   "metadata": {},
   "source": [
    "# Vanishing Gradient, Data Generation"
   ]
  },
  {
   "cell_type": "code",
   "execution_count": 3,
   "metadata": {},
   "outputs": [],
   "source": [
    "backend = Aer.get_backend('qasm_simulator')\n",
    "\n",
    "np.random.seed(42)\n",
    "x = np.random.uniform(-np.pi/2, np.pi/2, (50, 20))\n",
    "n = 5\n",
    "d = 8"
   ]
  },
  {
   "cell_type": "markdown",
   "metadata": {},
   "source": [
    "### 4 Qubits"
   ]
  },
  {
   "cell_type": "code",
   "execution_count": null,
   "metadata": {},
   "outputs": [],
   "source": [
    "np.random.seed(42)\n",
    "grad_average = np.zeros((n, d))\n",
    "\n",
    "models = []\n",
    "\n",
    "for i in tqdm(range(n)):\n",
    "    network = sequential_qnn(n_qubits = d*[4],\n",
    "                             dim = d*[4] + [4],\n",
    "                             scale = (d+1)*[[-np.pi, np.pi]],\n",
    "                             encoder = Encoder(),\n",
    "                             ansatz = Ansatz(blocks=[\"entangle\", \"ry\"], reps=2),\n",
    "                             sampler = Parity(),\n",
    "                             cost = NoCost(),\n",
    "                             optimizer = Adam(lr=0.1),\n",
    "                             backend = backend,\n",
    "                             shots = 100000)\n",
    "    \n",
    "    network.backward(x[:,:4])\n",
    "    models.append(network)\n",
    "    \n",
    "saver(models, data_path(\"vanishing_grad_width_4_reps_2\"))"
   ]
  },
  {
   "cell_type": "markdown",
   "metadata": {},
   "source": [
    "### 5 Qubits"
   ]
  },
  {
   "cell_type": "code",
   "execution_count": 4,
   "metadata": {},
   "outputs": [
    {
     "data": {
      "application/vnd.jupyter.widget-view+json": {
       "model_id": "2112d518df594c3f9918ac3b5f641278",
       "version_major": 2,
       "version_minor": 0
      },
      "text/plain": [
       "  0%|          | 0/5 [00:00<?, ?it/s]"
      ]
     },
     "metadata": {},
     "output_type": "display_data"
    }
   ],
   "source": [
    "np.random.seed(42)\n",
    "grad_average = np.zeros((n, d))\n",
    "\n",
    "models = []\n",
    "\n",
    "for i in tqdm(range(n)):\n",
    "    network = sequential_qnn(n_qubits = d*[5],\n",
    "                             dim = d*[5] + [5],\n",
    "                             scale = (d+1)*[[-np.pi, np.pi]],\n",
    "                             encoder = Encoder(),\n",
    "                             ansatz = Ansatz(blocks=[\"entangle\", \"ry\"], reps=2),\n",
    "                             sampler = Parity(),\n",
    "                             cost = NoCost(),\n",
    "                             optimizer = Adam(lr=0.1),\n",
    "                             backend = backend,\n",
    "                             shots = 100000)\n",
    "    \n",
    "    network.backward(x[:,:5])\n",
    "    models.append(network)\n",
    "    \n",
    "saver(models, data_path(\"vanishing_grad_width_5_reps_2\"))"
   ]
  },
  {
   "cell_type": "markdown",
   "metadata": {},
   "source": [
    "### 6 Qubits"
   ]
  },
  {
   "cell_type": "code",
   "execution_count": null,
   "metadata": {},
   "outputs": [
    {
     "data": {
      "application/vnd.jupyter.widget-view+json": {
       "model_id": "8360f416443d4a23a5537e4e115602a1",
       "version_major": 2,
       "version_minor": 0
      },
      "text/plain": [
       "  0%|          | 0/5 [00:00<?, ?it/s]"
      ]
     },
     "metadata": {},
     "output_type": "display_data"
    }
   ],
   "source": [
    "np.random.seed(42)\n",
    "grad_average = np.zeros((n, d))\n",
    "\n",
    "models = []\n",
    "\n",
    "for i in tqdm(range(n)):\n",
    "    network = sequential_qnn(n_qubits = d*[6],\n",
    "                             dim = d*[6] + [6],\n",
    "                             scale = (d+1)*[[-np.pi, np.pi]],\n",
    "                             encoder = Encoder(),\n",
    "                             ansatz = Ansatz(blocks=[\"entangle\", \"ry\"], reps=2),\n",
    "                             sampler = Parity(),\n",
    "                             cost = NoCost(),\n",
    "                             optimizer = Adam(lr=0.1),\n",
    "                             backend = backend,\n",
    "                             shots = 100000)\n",
    "    \n",
    "    network.backward(x[:,:6])\n",
    "    models.append(network)\n",
    "    \n",
    "saver(models, data_path(\"vanishing_grad_width_6_reps_2\"))"
   ]
  },
  {
   "cell_type": "code",
   "execution_count": 5,
   "metadata": {},
   "outputs": [
    {
     "data": {
      "application/vnd.jupyter.widget-view+json": {
       "model_id": "99006c5754fb4d62a5c6da8003dfa789",
       "version_major": 2,
       "version_minor": 0
      },
      "text/plain": [
       "  0%|          | 0/5 [00:00<?, ?it/s]"
      ]
     },
     "metadata": {},
     "output_type": "display_data"
    }
   ],
   "source": [
    "np.random.seed(42)\n",
    "grad_average = np.zeros((n, d))\n",
    "\n",
    "models = []\n",
    "\n",
    "for i in tqdm(range(n)):\n",
    "    network = sequential_qnn(n_qubits = d*[7],\n",
    "                             dim = d*[7] + [7],\n",
    "                             scale = (d+1)*[[-np.pi, np.pi]],\n",
    "                             encoder = Encoder(),\n",
    "                             ansatz = Ansatz(blocks=[\"entangle\", \"ry\"], reps=2),\n",
    "                             sampler = Parity(),\n",
    "                             cost = NoCost(),\n",
    "                             optimizer = Adam(lr=0.1),\n",
    "                             backend = backend,\n",
    "                             shots = 100000)\n",
    "    \n",
    "    network.backward(x[:,:7])\n",
    "    models.append(network)\n",
    "    \n",
    "saver(models, data_path(\"vanishing_grad_width_7_reps_2\"))"
   ]
  },
  {
   "cell_type": "code",
   "execution_count": 6,
   "metadata": {},
   "outputs": [
    {
     "data": {
      "application/vnd.jupyter.widget-view+json": {
       "model_id": "79df06c2c1d14ccb91d00f9b7d2b9894",
       "version_major": 2,
       "version_minor": 0
      },
      "text/plain": [
       "  0%|          | 0/5 [00:00<?, ?it/s]"
      ]
     },
     "metadata": {},
     "output_type": "display_data"
    }
   ],
   "source": [
    "np.random.seed(42)\n",
    "grad_average = np.zeros((n, d))\n",
    "\n",
    "models = []\n",
    "\n",
    "for i in tqdm(range(n)):\n",
    "    network = sequential_qnn(n_qubits = d*[8],\n",
    "                             dim = d*[8] + [8],\n",
    "                             scale = (d+1)*[[-np.pi, np.pi]],\n",
    "                             encoder = Encoder(),\n",
    "                             ansatz = Ansatz(blocks=[\"entangle\", \"ry\"], reps=2),\n",
    "                             sampler = Parity(),\n",
    "                             cost = NoCost(),\n",
    "                             optimizer = Adam(lr=0.1),\n",
    "                             backend = backend,\n",
    "                             shots = 100000)\n",
    "    \n",
    "    network.backward(x[:,:8])\n",
    "    models.append(network)\n",
    "    \n",
    "saver(models, data_path(\"vanishing_grad_width_8_reps_2\"))"
   ]
  },
  {
   "cell_type": "markdown",
   "metadata": {},
   "source": [
    "## Classical Neural Network"
   ]
  },
  {
   "cell_type": "code",
   "execution_count": null,
   "metadata": {},
   "outputs": [],
   "source": [
    "np.random.seed(42)\n",
    "grad_average = np.zeros((n, d))\n",
    "\n",
    "models = []\n",
    "\n",
    "for i in tqdm(range(n)):\n",
    "    network = sequential_dnn(dim=d*[5] + [1], cost=NoCost(), optimizer=Adam(lr=0.1))\n",
    "    \n",
    "    network.backward(x[:,:5])\n",
    "    models.append(network)\n",
    "\n",
    "saver(models, data_path(\"vanishing_grad_dnn\"))"
   ]
  },
  {
   "cell_type": "code",
   "execution_count": null,
   "metadata": {},
   "outputs": [],
   "source": []
  }
 ],
 "metadata": {
  "kernelspec": {
   "display_name": "env_qiskit",
   "language": "python",
   "name": "env_qiskit"
  },
  "language_info": {
   "codemirror_mode": {
    "name": "ipython",
    "version": 3
   },
   "file_extension": ".py",
   "mimetype": "text/x-python",
   "name": "python",
   "nbconvert_exporter": "python",
   "pygments_lexer": "ipython3",
   "version": "3.9.1"
  }
 },
 "nbformat": 4,
 "nbformat_minor": 4
}
