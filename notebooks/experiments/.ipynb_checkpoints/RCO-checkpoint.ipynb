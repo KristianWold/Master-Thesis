{
 "cells": [
  {
   "cell_type": "code",
   "execution_count": 2,
   "metadata": {},
   "outputs": [],
   "source": [
    "import numpy as np\n",
    "import qiskit as qk\n",
    "import matplotlib.pyplot as plt\n",
    "from qiskit import Aer\n",
    "from qiskit.circuit.random import random_circuit\n",
    "from tqdm.notebook import tqdm\n",
    "\n",
    "import sys\n",
    "sys.path.insert(0, '../../src/')\n",
    "from neuralnetwork import *\n",
    "from analysis import *\n",
    "from utils import *\n",
    "from rco import *\n",
    "from data_encoders import *\n",
    "\n",
    "\n",
    "#%matplotlib notebook\n",
    "%matplotlib inline\n",
    "%load_ext autoreload\n",
    "%autoreload 2\n",
    "\n",
    "np.set_printoptions(precision=4)"
   ]
  },
  {
   "cell_type": "markdown",
   "metadata": {},
   "source": [
    "### Fitting Random Circuits"
   ]
  },
  {
   "cell_type": "code",
   "execution_count": 3,
   "metadata": {},
   "outputs": [],
   "source": [
    "np.random.seed(42)\n",
    "\n",
    "n_qubits = 4\n",
    "depth = 20\n",
    "circuit = random_circuit(n_qubits, depth)"
   ]
  },
  {
   "cell_type": "code",
   "execution_count": null,
   "metadata": {},
   "outputs": [],
   "source": [
    "np.random.seed(42)\n",
    "rco1 = RCO(ansatz = Ansatz(blocks = [\"entangle\", \"ry\", \"rz\"], reps = 4), \n",
    "           sampler = AverageBit(), \n",
    "           optimizer = Adam(lr=0.1),\n",
    "           divisor = 5, \n",
    "           shots = 100000,\n",
    "           tol = 1e-3,\n",
    "           warm_start=True)"
   ]
  },
  {
   "cell_type": "code",
   "execution_count": null,
   "metadata": {},
   "outputs": [],
   "source": [
    "np.random.seed(42)\n",
    "rco1.fit(circuit)"
   ]
  },
  {
   "cell_type": "code",
   "execution_count": null,
   "metadata": {},
   "outputs": [],
   "source": [
    "rco1.predict(circuit)"
   ]
  },
  {
   "cell_type": "code",
   "execution_count": null,
   "metadata": {},
   "outputs": [],
   "source": [
    "rco2 = RCO(ansatz = Ansatz(reps = 4), \n",
    "           sampler = ZeroBit(), \n",
    "           optimizer = Adam(lr=0.1),\n",
    "           divisor = 5, \n",
    "           shots = 100000,\n",
    "           tol = 1e-3,\n",
    "           warm_start=True)"
   ]
  },
  {
   "cell_type": "code",
   "execution_count": null,
   "metadata": {},
   "outputs": [],
   "source": [
    "np.random.seed(42)\n",
    "rco2.fit(circuit)"
   ]
  },
  {
   "cell_type": "code",
   "execution_count": null,
   "metadata": {},
   "outputs": [],
   "source": [
    "rco2.predict(circuit)"
   ]
  },
  {
   "cell_type": "markdown",
   "metadata": {},
   "source": [
    "### Fitting Amplitude Encoding"
   ]
  },
  {
   "cell_type": "markdown",
   "metadata": {},
   "source": [
    "#### 4 qubits"
   ]
  },
  {
   "cell_type": "code",
   "execution_count": null,
   "metadata": {},
   "outputs": [],
   "source": [
    "np.random.seed(42)\n",
    "x = np.random.normal(0, 1, (16))\n",
    "x = x/np.sqrt(np.sum(x**2))\n",
    "\n",
    "storage = qk.QuantumRegister(4)\n",
    "circuit = qk.QuantumCircuit(storage)\n",
    "circuit = amplitude_encoding(x, circuit, storage)\n",
    "print(len(circuit))"
   ]
  },
  {
   "cell_type": "code",
   "execution_count": null,
   "metadata": {},
   "outputs": [],
   "source": [
    "np.random.seed(42)\n",
    "rco_amplitude_encoder1 = RCO(ansatz = Ansatz(blocks = [\"entangle\", \"ry\", \"rz\"], reps = 4), \n",
    "                       sampler = AverageBit(), \n",
    "                       optimizer = Adam(lr=0.1),\n",
    "                       divisor = 1, \n",
    "                       shots = 100000,\n",
    "                       tol = 1e-3,\n",
    "                       warm_start=False)"
   ]
  },
  {
   "cell_type": "code",
   "execution_count": null,
   "metadata": {},
   "outputs": [],
   "source": [
    "rco_amplitude_encoder1.fit(circuit)"
   ]
  },
  {
   "cell_type": "code",
   "execution_count": null,
   "metadata": {},
   "outputs": [],
   "source": [
    "rco_amplitude_encoder1.predict(circuit)"
   ]
  },
  {
   "cell_type": "code",
   "execution_count": null,
   "metadata": {},
   "outputs": [],
   "source": [
    "np.random.seed(42)\n",
    "rco_amplitude_encoder2 = RCO(ansatz = Ansatz(blocks = [\"entangle\", \"ry\", \"rz\"], reps = 4), \n",
    "                       sampler = AverageBit(), \n",
    "                       optimizer = Adam(lr=0.1),\n",
    "                       divisor = 5, \n",
    "                       shots = 100000,\n",
    "                       tol = 1e-3,\n",
    "                       warm_start=False)"
   ]
  },
  {
   "cell_type": "code",
   "execution_count": null,
   "metadata": {},
   "outputs": [],
   "source": [
    "rco_amplitude_encoder2.fit(circuit)"
   ]
  },
  {
   "cell_type": "code",
   "execution_count": null,
   "metadata": {},
   "outputs": [],
   "source": [
    "rco_amplitude_encoder2.predict(circuit)"
   ]
  },
  {
   "cell_type": "markdown",
   "metadata": {},
   "source": [
    "#### 5 qubits"
   ]
  },
  {
   "cell_type": "code",
   "execution_count": 26,
   "metadata": {},
   "outputs": [
    {
     "name": "stdout",
     "output_type": "stream",
     "text": [
      "645\n",
      "[ 0.0933 -0.026   0.1217  0.2861 -0.044  -0.044   0.2966  0.1441 -0.0882\n",
      "  0.1019 -0.087  -0.0875  0.0454 -0.3594 -0.324  -0.1056 -0.1902  0.059\n",
      " -0.1706 -0.2653  0.2753 -0.0424  0.0127 -0.2676 -0.1023  0.0208 -0.2162\n",
      "  0.0706 -0.1128 -0.0548 -0.113   0.3479]\n"
     ]
    }
   ],
   "source": [
    "np.random.seed(42)\n",
    "x = np.random.normal(0, 1, (2**4))\n",
    "x = x/np.sqrt(np.sum(x**2))\n",
    "\n",
    "storage = qk.QuantumRegister(4, name=\"storage\")\n",
    "circuit = qk.QuantumCircuit(storage)\n",
    "circuit = amplitude_encoding(x, circuit, storage)\n",
    "print(len(circuit))\n",
    "print(x)"
   ]
  },
  {
   "cell_type": "code",
   "execution_count": 27,
   "metadata": {},
   "outputs": [],
   "source": [
    "np.random.seed(42)\n",
    "rco_amplitude_encoder3 = RCO(ansatz = Ansatz(blocks = [\"entangle\", \"ry\", \"rz\"], reps = 5), \n",
    "                       sampler = AverageBit(), \n",
    "                       optimizer = Adam(lr=0.1),\n",
    "                       divisor = 1, \n",
    "                       shots = 100000,\n",
    "                       tol = 1e-3,\n",
    "                       warm_start=False)"
   ]
  },
  {
   "cell_type": "code",
   "execution_count": 28,
   "metadata": {},
   "outputs": [
    {
     "name": "stdout",
     "output_type": "stream",
     "text": [
      "0/1 iterations\n",
      "1: 0.85078\n",
      "2: 0.75359\n",
      "3: 0.67483\n",
      "4: 0.62165\n",
      "5: 0.58638\n",
      "6: 0.55983\n",
      "7: 0.53962\n",
      "8: 0.5127900000000001\n",
      "9: 0.49417\n",
      "10: 0.47724\n",
      "11: 0.46962000000000004\n",
      "12: 0.46353\n",
      "13: 0.45796000000000003\n",
      "14: 0.45077\n",
      "15: 0.44506\n",
      "16: 0.44236\n",
      "17: 0.43749000000000005\n",
      "18: 0.43479999999999996\n",
      "19: 0.43392\n",
      "20: 0.43521\n",
      "21: 0.43520000000000003\n",
      "22: 0.43045999999999995\n",
      "23: 0.42744000000000004\n",
      "24: 0.42227000000000003\n",
      "25: 0.41162\n",
      "26: 0.40556000000000003\n",
      "27: 0.40095000000000003\n",
      "28: 0.39727\n",
      "29: 0.39368000000000003\n",
      "30: 0.38956999999999997\n",
      "31: 0.38631000000000004\n",
      "32: 0.38339999999999996\n",
      "33: 0.37456999999999996\n",
      "34: 0.37463\n",
      "35: 0.37129999999999996\n",
      "36: 0.36889000000000005\n",
      "37: 0.37082000000000004\n",
      "38: 0.36646999999999996\n",
      "39: 0.36090999999999995\n",
      "40: 0.35680999999999996\n",
      "41: 0.34926999999999997\n",
      "42: 0.34619999999999995\n",
      "43: 0.34184000000000003\n",
      "44: 0.33921999999999997\n",
      "45: 0.33307\n",
      "46: 0.33016999999999996\n",
      "47: 0.32503000000000004\n",
      "48: 0.32062999999999997\n",
      "49: 0.31536\n",
      "50: 0.3013\n",
      "51: 0.29268000000000005\n",
      "52: 0.27814000000000005\n",
      "53: 0.26556\n",
      "54: 0.25317\n",
      "55: 0.24041\n",
      "56: 0.22352000000000005\n",
      "57: 0.21303000000000005\n",
      "58: 0.19535999999999998\n",
      "59: 0.18169999999999997\n",
      "60: 0.17166000000000003\n",
      "61: 0.15944999999999998\n",
      "62: 0.14912000000000003\n",
      "63: 0.13878999999999997\n",
      "64: 0.12695\n",
      "65: 0.11787000000000003\n",
      "66: 0.10799999999999998\n",
      "67: 0.09985\n",
      "68: 0.09204999999999997\n",
      "69: 0.08257999999999999\n",
      "70: 0.07481000000000004\n",
      "71: 0.06908000000000003\n",
      "72: 0.06240000000000001\n",
      "73: 0.05596000000000001\n",
      "74: 0.05176999999999998\n",
      "75: 0.04639000000000004\n",
      "76: 0.04300999999999999\n",
      "77: 0.041590000000000016\n",
      "78: 0.04020999999999997\n",
      "79: 0.040220000000000034\n",
      "80: 0.03917000000000004\n",
      "81: 0.03910999999999998\n",
      "82: 0.037739999999999996\n",
      "83: 0.036640000000000006\n",
      "84: 0.035290000000000044\n",
      "85: 0.03524000000000005\n",
      "86: 0.03413999999999995\n",
      "87: 0.032989999999999964\n",
      "88: 0.033009999999999984\n",
      "89: 0.03125\n",
      "90: 0.03076000000000001\n",
      "91: 0.028830000000000022\n",
      "92: 0.02895000000000003\n",
      "93: 0.02698999999999996\n",
      "94: 0.026109999999999967\n",
      "95: 0.025419999999999998\n",
      "96: 0.024349999999999983\n",
      "97: 0.024950000000000028\n",
      "98: 0.024930000000000008\n",
      "99: 0.02414000000000005\n",
      "100: 0.02322000000000002\n",
      "101: 0.02261000000000002\n",
      "102: 0.023399999999999976\n",
      "103: 0.022519999999999984\n",
      "104: 0.022399999999999975\n",
      "105: 0.023009999999999975\n",
      "106: 0.023259999999999947\n",
      "107: 0.02324000000000004\n",
      "108: 0.023209999999999953\n",
      "109: 0.022649999999999948\n",
      "110: 0.021440000000000015\n",
      "111: 0.02171999999999996\n",
      "112: 0.02127000000000001\n",
      "113: 0.021660000000000013\n",
      "114: 0.021140000000000048\n",
      "115: 0.020469999999999988\n",
      "116: 0.021220000000000017\n",
      "117: 0.021660000000000013\n",
      "118: 0.020079999999999987\n",
      "119: 0.019669999999999965\n",
      "120: 0.020029999999999992\n",
      "121: 0.01985999999999999\n",
      "122: 0.01929000000000003\n",
      "123: 0.019320000000000004\n",
      "124: 0.019589999999999996\n",
      "125: 0.01963999999999999\n",
      "126: 0.020540000000000003\n",
      "127: 0.01819000000000004\n",
      "128: 0.019140000000000046\n",
      "129: 0.018079999999999985\n",
      "130: 0.019140000000000046\n",
      "131: 0.018589999999999995\n",
      "132: 0.018320000000000003\n",
      "133: 0.01905000000000001\n",
      "134: 0.018730000000000024\n",
      "135: 0.01809000000000005\n",
      "136: 0.018469999999999986\n",
      "137: 0.017939999999999956\n",
      "138: 0.01805000000000001\n",
      "139: 0.017809999999999993\n",
      "140: 0.017959999999999976\n",
      "141: 0.01737999999999995\n",
      "142: 0.017340000000000022\n",
      "143: 0.01790999999999998\n",
      "144: 0.017750000000000044\n",
      "145: 0.017710000000000004\n",
      "146: 0.01676999999999995\n",
      "147: 0.016650000000000054\n",
      "148: 0.01741999999999999\n",
      "149: 0.016859999999999986\n",
      "150: 0.01741999999999999\n",
      "151: 0.017320000000000002\n",
      "152: 0.01790999999999998\n",
      "153: 0.017549999999999955\n",
      "154: 0.017220000000000013\n",
      "155: 0.016549999999999954\n",
      "156: 0.016589999999999994\n",
      "157: 0.017229999999999968\n",
      "158: 0.01758000000000004\n",
      "159: 0.016249999999999987\n",
      "160: 0.01654\n",
      "161: 0.017040000000000055\n",
      "162: 0.016469999999999985\n",
      "163: 0.016329999999999956\n",
      "164: 0.017059999999999964\n",
      "165: 0.01609000000000005\n",
      "166: 0.016100000000000003\n",
      "167: 0.01749999999999996\n",
      "168: 0.016819999999999946\n",
      "169: 0.015750000000000042\n",
      "170: 0.01687000000000005\n",
      "171: 0.016159999999999952\n",
      "172: 0.016329999999999956\n",
      "173: 0.01649999999999996\n",
      "174: 0.016220000000000012\n",
      "175: 0.015240000000000031\n",
      "176: 0.015900000000000025\n",
      "177: 0.016979999999999995\n",
      "178: 0.01585000000000003\n",
      "179: 0.015569999999999973\n",
      "180: 0.015939999999999954\n",
      "181: 0.015800000000000036\n",
      "182: 0.016260000000000052\n",
      "183: 0.016170000000000018\n",
      "184: 0.015129999999999977\n",
      "185: 0.015759999999999996\n",
      "186: 0.01632\n",
      "187: 0.015730000000000022\n",
      "188: 0.016349999999999976\n",
      "189: 0.015240000000000031\n",
      "190: 0.01637999999999995\n",
      "191: 0.015090000000000048\n",
      "192: 0.015499999999999958\n",
      "193: 0.01607000000000003\n",
      "194: 0.015070000000000028\n",
      "195: 0.015819999999999945\n",
      "196: 0.015510000000000024\n",
      "197: 0.01580999999999999\n",
      "198: 0.016040000000000054\n",
      "199: 0.01429999999999998\n",
      "200: 0.014989999999999948\n",
      "201: 0.015179999999999971\n",
      "202: 0.014599999999999946\n",
      "203: 0.015260000000000051\n",
      "204: 0.014390000000000014\n",
      "205: 0.015020000000000033\n",
      "206: 0.014440000000000008\n",
      "207: 0.014650000000000052\n",
      "208: 0.014510000000000023\n",
      "209: 0.01476999999999995\n",
      "210: 0.014410000000000034\n",
      "211: 0.015070000000000028\n",
      "212: 0.014390000000000014\n",
      "213: 0.015209999999999946\n"
     ]
    },
    {
     "name": "stderr",
     "output_type": "stream",
     "text": [
      "Process ForkProcess-5241:\n",
      "Process ForkProcess-5242:\n",
      "Process ForkProcess-5238:\n",
      "Process ForkProcess-5234:\n",
      "Process ForkProcess-5233:\n",
      "Process ForkProcess-5239:\n",
      "Process ForkProcess-5240:\n",
      "Process ForkProcess-5243:\n",
      "Process ForkProcess-5237:\n",
      "Process ForkProcess-5236:\n",
      "Process ForkProcess-5235:\n",
      "Traceback (most recent call last):\n",
      "Traceback (most recent call last):\n",
      "  File \"/home/kristian/anaconda3/envs/env_qiskit/lib/python3.9/multiprocessing/process.py\", line 315, in _bootstrap\n",
      "    self.run()\n",
      "Traceback (most recent call last):\n",
      "  File \"/home/kristian/anaconda3/envs/env_qiskit/lib/python3.9/multiprocessing/process.py\", line 315, in _bootstrap\n",
      "    self.run()\n",
      "Traceback (most recent call last):\n",
      "Traceback (most recent call last):\n",
      "Traceback (most recent call last):\n",
      "Traceback (most recent call last):\n",
      "  File \"/home/kristian/anaconda3/envs/env_qiskit/lib/python3.9/multiprocessing/process.py\", line 315, in _bootstrap\n",
      "    self.run()\n",
      "  File \"/home/kristian/anaconda3/envs/env_qiskit/lib/python3.9/multiprocessing/process.py\", line 315, in _bootstrap\n",
      "    self.run()\n",
      "Traceback (most recent call last):\n",
      "Traceback (most recent call last):\n",
      "  File \"/home/kristian/anaconda3/envs/env_qiskit/lib/python3.9/multiprocessing/process.py\", line 108, in run\n",
      "    self._target(*self._args, **self._kwargs)\n",
      "  File \"/home/kristian/anaconda3/envs/env_qiskit/lib/python3.9/multiprocessing/process.py\", line 315, in _bootstrap\n",
      "    self.run()\n",
      "  File \"/home/kristian/anaconda3/envs/env_qiskit/lib/python3.9/multiprocessing/process.py\", line 108, in run\n",
      "    self._target(*self._args, **self._kwargs)\n",
      "Traceback (most recent call last):\n"
     ]
    }
   ],
   "source": [
    "rco_amplitude_encoder3.fit(circuit)"
   ]
  },
  {
   "cell_type": "code",
   "execution_count": null,
   "metadata": {},
   "outputs": [],
   "source": [
    "np.random.seed(42)\n",
    "rco_amplitude_encoder4 = RCO(ansatz = Ansatz(blocks = [\"entangle\", \"ry\", \"rz\"], reps = 5), \n",
    "                       sampler = AverageBit(), \n",
    "                       optimizer = Adam(lr=0.1),\n",
    "                       divisor = 5, \n",
    "                       shots = 100000,\n",
    "                       tol = 1e-3,\n",
    "                       warm_start=False)"
   ]
  },
  {
   "cell_type": "code",
   "execution_count": null,
   "metadata": {},
   "outputs": [],
   "source": [
    "rco_amplitude_encoder4.fit(circuit)"
   ]
  },
  {
   "cell_type": "code",
   "execution_count": null,
   "metadata": {},
   "outputs": [],
   "source": []
  }
 ],
 "metadata": {
  "kernelspec": {
   "display_name": "env_qiskit",
   "language": "python",
   "name": "env_qiskit"
  },
  "language_info": {
   "codemirror_mode": {
    "name": "ipython",
    "version": 3
   },
   "file_extension": ".py",
   "mimetype": "text/x-python",
   "name": "python",
   "nbconvert_exporter": "python",
   "pygments_lexer": "ipython3",
   "version": "3.9.1"
  }
 },
 "nbformat": 4,
 "nbformat_minor": 4
}
