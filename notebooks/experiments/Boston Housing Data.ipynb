{
 "cells": [
  {
   "cell_type": "code",
   "execution_count": 17,
   "metadata": {},
   "outputs": [
    {
     "name": "stdout",
     "output_type": "stream",
     "text": [
      "The autoreload extension is already loaded. To reload it, use:\n",
      "  %reload_ext autoreload\n"
     ]
    }
   ],
   "source": [
    "import numpy as np\n",
    "import qiskit as qk\n",
    "import matplotlib.pyplot as plt\n",
    "\n",
    "from qiskit import Aer\n",
    "from tqdm.notebook import tqdm\n",
    "from sklearn.datasets import load_boston\n",
    "from sklearn.model_selection import train_test_split\n",
    "from sklearn.decomposition import PCA\n",
    "import multiprocessing as mp\n",
    "\n",
    "import sys\n",
    "sys.path.insert(0, '../../src/')\n",
    "from neuralnetwork import *\n",
    "from analysis import *\n",
    "\n",
    "#%matplotlib notebook\n",
    "%matplotlib inline\n",
    "%load_ext autoreload\n",
    "%autoreload 2\n",
    "\n",
    "np.set_printoptions(precision=4, suppress=None)"
   ]
  },
  {
   "cell_type": "code",
   "execution_count": 18,
   "metadata": {},
   "outputs": [],
   "source": [
    "def parallel(args):\n",
    "    model = args[0]\n",
    "    x = args[1]\n",
    "    y = args[2]\n",
    "    verbose = args[3]\n",
    "    \n",
    "    model.train(x, y, verbose = verbose)\n",
    "    \n",
    "    return model"
   ]
  },
  {
   "cell_type": "markdown",
   "metadata": {},
   "source": [
    "# Boston Housing Data"
   ]
  },
  {
   "cell_type": "markdown",
   "metadata": {},
   "source": [
    "### Load Data"
   ]
  },
  {
   "cell_type": "code",
   "execution_count": 19,
   "metadata": {},
   "outputs": [],
   "source": [
    "data = load_boston()\n",
    "x = data.data\n",
    "\n",
    "y = data.target.reshape(-1, 1)\n",
    "y = scaler(y, a=0, b=1)\n",
    "\n",
    "np.random.seed(42)\n",
    "x_train, x_test, y_train, y_test = train_test_split(x, y, train_size=100, test_size=100)"
   ]
  },
  {
   "cell_type": "markdown",
   "metadata": {},
   "source": [
    "## PCA"
   ]
  },
  {
   "cell_type": "code",
   "execution_count": 20,
   "metadata": {},
   "outputs": [],
   "source": [
    "#x_train_scaled = scaler(x_train, mode=\"standard\")\n",
    "pca = PCA(n_components=4)\n",
    "x_train_pca = pca.fit_transform(x_train)\n",
    "x_test_pca = pca.transform(x_test)"
   ]
  },
  {
   "cell_type": "code",
   "execution_count": 21,
   "metadata": {},
   "outputs": [],
   "source": [
    "x_train_qcn = scaler(x_train_pca, mode=\"uniform\", a=-np.pi/2, b=np.pi/2)\n",
    "x_train_dnn = scaler(x_train_pca, mode=\"standard\")\n",
    "\n",
    "x_test_qcn = scaler(x_test_pca, mode=\"uniform\", a=-np.pi/2, b=np.pi/2)\n",
    "x_test_dnn = scaler(x_test_pca, mode=\"standard\")"
   ]
  },
  {
   "cell_type": "code",
   "execution_count": 22,
   "metadata": {},
   "outputs": [
    {
     "data": {
      "text/plain": [
       "[<matplotlib.lines.Line2D at 0x7f131c5f3d30>]"
      ]
     },
     "execution_count": 22,
     "metadata": {},
     "output_type": "execute_result"
    },
    {
     "data": {
      "image/png": "[encoded data removed]",
      "text/plain": [
       "<Figure size 432x288 with 1 Axes>"
      ]
     },
     "metadata": {
      "needs_background": "light"
     },
     "output_type": "display_data"
    }
   ],
   "source": [
    "plt.plot(x_train_qcn[:,3], y_train,\"o\")"
   ]
  },
  {
   "cell_type": "markdown",
   "metadata": {},
   "source": [
    "## DNN"
   ]
  },
  {
   "cell_type": "code",
   "execution_count": 23,
   "metadata": {},
   "outputs": [
    {
     "data": {
      "application/vnd.jupyter.widget-view+json": {
       "model_id": "3a07c0c789c54c718b960c711666f9ef",
       "version_major": 2,
       "version_minor": 0
      },
      "text/plain": [
       "  0%|          | 0/10 [00:00<?, ?it/s]"
      ]
     },
     "metadata": {},
     "output_type": "display_data"
    },
    {
     "data": {
      "image/png": "[encoded data removed]",
      "text/plain": [
       "<Figure size 432x288 with 1 Axes>"
      ]
     },
     "metadata": {
      "needs_background": "light"
     },
     "output_type": "display_data"
    }
   ],
   "source": [
    "np.random.seed(42)\n",
    "\n",
    "dnn_list = []\n",
    "for i in tqdm(range(10)):\n",
    "    dnn = sequential_dnn(dim = [4, 5, 1])\n",
    "    dnn.train(x_train_dnn, y_train, epochs = 100)\n",
    "    dnn_list.append(dnn)\n",
    "    \n",
    "saver(dnn_list, data_path(\"cancer_dnn_pca\"))\n",
    "plt.plot(dnn_list[0].loss)\n",
    "plt.show()"
   ]
  },
  {
   "cell_type": "code",
   "execution_count": 24,
   "metadata": {},
   "outputs": [
    {
     "name": "stdout",
     "output_type": "stream",
     "text": [
      "0.024074952603410416\n",
      "0.03376278665749582\n"
     ]
    }
   ],
   "source": [
    "print(dnn_list[0].loss[-1])\n",
    "\n",
    "y_pred = dnn_list[0].predict(x_test_dnn)\n",
    "loss = np.mean((y_pred - y_test)**2)\n",
    "print(loss)"
   ]
  },
  {
   "cell_type": "markdown",
   "metadata": {},
   "source": [
    "## QCN"
   ]
  },
  {
   "cell_type": "code",
   "execution_count": 25,
   "metadata": {},
   "outputs": [
    {
     "name": "stdout",
     "output_type": "stream",
     "text": [
      "epoch: 0, loss: 0.057368539433307955\n",
      "epoch: 1, loss: 0.03962613686114909\n",
      "epoch: 2, loss: 0.03102650837400285\n",
      "epoch: 3, loss: 0.03453093213486116\n",
      "epoch: 4, loss: 0.03300046311718556\n",
      "epoch: 5, loss: 0.029667497682462036\n",
      "epoch: 6, loss: 0.029179484980538687\n",
      "epoch: 7, loss: 0.02975365939643656\n",
      "epoch: 8, loss: 0.02971644181077214\n",
      "epoch: 9, loss: 0.02932572051129529\n",
      "epoch: 10, loss: 0.028731105146330572\n",
      "epoch: 11, loss: 0.027894786284279105\n",
      "epoch: 12, loss: 0.027240572941465774\n",
      "epoch: 13, loss: 0.027075553613743124\n",
      "epoch: 14, loss: 0.026993869512484673\n",
      "epoch: 15, loss: 0.02652681316189658\n",
      "epoch: 16, loss: 0.025938915931547308\n",
      "epoch: 17, loss: 0.025624569374243764\n",
      "epoch: 18, loss: 0.025566779791647135\n",
      "epoch: 19, loss: 0.025527032188358674\n",
      "epoch: 20, loss: 0.02535448304713634\n",
      "epoch: 21, loss: 0.025110027845084794\n",
      "epoch: 22, loss: 0.024950685975199928\n",
      "epoch: 23, loss: 0.024864997209932613\n",
      "epoch: 24, loss: 0.02471560760322196\n",
      "epoch: 25, loss: 0.024608090407100956\n",
      "epoch: 26, loss: 0.02467566581484236\n",
      "epoch: 27, loss: 0.024713910101018442\n",
      "epoch: 28, loss: 0.024573527831344213\n",
      "epoch: 29, loss: 0.024412925317845245\n",
      "epoch: 30, loss: 0.024346565455870214\n",
      "epoch: 31, loss: 0.024269002393280132\n",
      "epoch: 32, loss: 0.024128150186925913\n",
      "epoch: 33, loss: 0.024019149743446055\n",
      "epoch: 34, loss: 0.023985611045656833\n",
      "epoch: 35, loss: 0.02397980415638763\n",
      "epoch: 36, loss: 0.023967169894758174\n",
      "epoch: 37, loss: 0.02393592456552923\n",
      "epoch: 38, loss: 0.023856586484205463\n",
      "epoch: 39, loss: 0.02373861601973982\n",
      "epoch: 40, loss: 0.023652462663784245\n",
      "epoch: 41, loss: 0.023612618579050185\n",
      "epoch: 42, loss: 0.02356590549193978\n",
      "epoch: 43, loss: 0.02350968183539848\n",
      "epoch: 44, loss: 0.023468873470163677\n",
      "epoch: 45, loss: 0.02341936014344134\n",
      "epoch: 46, loss: 0.023356765156224202\n",
      "epoch: 47, loss: 0.023296541253395097\n",
      "epoch: 48, loss: 0.02322196715950991\n",
      "epoch: 49, loss: 0.02314906748729601\n",
      "epoch: 50, loss: 0.023097571394409232\n",
      "epoch: 51, loss: 0.023039679130500056\n",
      "epoch: 52, loss: 0.022985384251183506\n",
      "epoch: 53, loss: 0.022944143596037934\n",
      "epoch: 54, loss: 0.022892508783102797\n",
      "epoch: 55, loss: 0.02284931315657197\n",
      "epoch: 56, loss: 0.022807283477907635\n",
      "epoch: 57, loss: 0.022750407144550566\n",
      "epoch: 58, loss: 0.02269859260188258\n",
      "epoch: 59, loss: 0.022646432974206432\n",
      "epoch: 60, loss: 0.02260863986119396\n",
      "epoch: 61, loss: 0.02255970527915296\n",
      "epoch: 62, loss: 0.022511324202798888\n",
      "epoch: 63, loss: 0.022469600919488224\n",
      "epoch: 64, loss: 0.022425384517551047\n",
      "epoch: 65, loss: 0.022380112122420148\n",
      "epoch: 66, loss: 0.022328431422325795\n",
      "epoch: 67, loss: 0.022285086534094892\n",
      "epoch: 68, loss: 0.022244940841877538\n",
      "epoch: 69, loss: 0.02220940128900362\n",
      "epoch: 70, loss: 0.022170963742443633\n",
      "epoch: 71, loss: 0.022140115492915186\n",
      "epoch: 72, loss: 0.022109110877020662\n",
      "epoch: 73, loss: 0.022076543499949194\n",
      "epoch: 74, loss: 0.02203854471920413\n",
      "epoch: 75, loss: 0.021999910598285415\n",
      "epoch: 76, loss: 0.02196308269953364\n",
      "epoch: 77, loss: 0.021924795797581113\n",
      "epoch: 78, loss: 0.021885648567173586\n",
      "epoch: 79, loss: 0.0218430315018364\n",
      "epoch: 80, loss: 0.021801728107912696\n",
      "epoch: 81, loss: 0.021759409170912264\n",
      "epoch: 82, loss: 0.02171737600244581\n",
      "epoch: 83, loss: 0.021676537641885554\n",
      "epoch: 84, loss: 0.021636045092378306\n",
      "epoch: 85, loss: 0.0215988169224331\n",
      "epoch: 86, loss: 0.021562418715540557\n",
      "epoch: 87, loss: 0.021525805598869394\n",
      "epoch: 88, loss: 0.02149020940682652\n",
      "epoch: 89, loss: 0.02145482125869755\n",
      "epoch: 90, loss: 0.021420015495082274\n",
      "epoch: 91, loss: 0.021384484620057306\n",
      "epoch: 92, loss: 0.021347430732220715\n",
      "epoch: 93, loss: 0.021310749389856488\n",
      "epoch: 94, loss: 0.021274161311709852\n",
      "epoch: 95, loss: 0.021236525256155558\n",
      "epoch: 96, loss: 0.021198608529782142\n",
      "epoch: 97, loss: 0.02116085948973287\n",
      "epoch: 98, loss: 0.02112257854011444\n",
      "epoch: 99, loss: 0.021083441095516207\n"
     ]
    }
   ],
   "source": [
    "np.random.seed(42)\n",
    "qcn_list = []\n",
    "for i in range(10):\n",
    "    qcn = sequential_qnn(n_qubits = [4, 4],\n",
    "                         dim = [4, 4, 1],\n",
    "                         encoder= Encoder(),\n",
    "                         ansatz = Ansatz(blocks = [\"entangle\", \"ry\"], reps=2),\n",
    "                         sampler = Parity(),\n",
    "                         cost = MSE(),\n",
    "                         optimizer = Adam(lr=0.1),\n",
    "                         shots=0)\n",
    "    \n",
    "    qcn_list.append([qcn, x_train_qcn, y_train, False])\n",
    "\n",
    "qcn_list[0][3] = True    \n",
    "    \n",
    "with mp.Pool(10) as p:\n",
    "    qcn_list = p.map(parallel, qcn_list)     \n",
    "    \n",
    "saver(qcn_list, data_path(\"boston_qcn\"))"
   ]
  },
  {
   "cell_type": "code",
   "execution_count": 35,
   "metadata": {},
   "outputs": [
    {
     "data": {
      "text/plain": [
       "0.021287216506500273"
      ]
     },
     "execution_count": 35,
     "metadata": {},
     "output_type": "execute_result"
    }
   ],
   "source": [
    "qcn_list = loader(data_path(\"boston_qcn\"))\n",
    "qcn_list[4].loss[-1]"
   ]
  },
  {
   "cell_type": "code",
   "execution_count": 30,
   "metadata": {},
   "outputs": [
    {
     "name": "stdout",
     "output_type": "stream",
     "text": [
      "0.02283515368581525\n"
     ]
    }
   ],
   "source": [
    "qcn_list = loader(data_path(\"boston_qcn\"))\n",
    "\n",
    "y_pred = qcn_list[4].predict(x_test_qcn)\n",
    "loss = np.mean((y_pred - y_test)**2)\n",
    "print(loss)"
   ]
  }
 ],
 "metadata": {
  "kernelspec": {
   "display_name": "env_qiskit",
   "language": "python",
   "name": "env_qiskit"
  },
  "language_info": {
   "codemirror_mode": {
    "name": "ipython",
    "version": 3
   },
   "file_extension": ".py",
   "mimetype": "text/x-python",
   "name": "python",
   "nbconvert_exporter": "python",
   "pygments_lexer": "ipython3",
   "version": "3.9.1"
  }
 },
 "nbformat": 4,
 "nbformat_minor": 4
}
