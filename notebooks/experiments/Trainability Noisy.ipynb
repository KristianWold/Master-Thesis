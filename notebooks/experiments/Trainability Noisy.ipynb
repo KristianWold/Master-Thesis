{
 "cells": [
  {
   "cell_type": "code",
   "execution_count": 13,
   "metadata": {},
   "outputs": [
    {
     "name": "stdout",
     "output_type": "stream",
     "text": [
      "The autoreload extension is already loaded. To reload it, use:\n",
      "  %reload_ext autoreload\n"
     ]
    }
   ],
   "source": [
    "import numpy as np\n",
    "import qiskit as qk\n",
    "import matplotlib.pyplot as plt\n",
    "from qiskit import Aer\n",
    "from tqdm.notebook import tqdm\n",
    "import multiprocessing as mp\n",
    "\n",
    "import sys\n",
    "sys.path.insert(0, '../../src/')\n",
    "from neuralnetwork import *\n",
    "from analysis import *\n",
    "from utils import *\n",
    "\n",
    "#%matplotlib notebook\n",
    "%matplotlib inline\n",
    "%load_ext autoreload\n",
    "%autoreload 2"
   ]
  },
  {
   "cell_type": "code",
   "execution_count": 14,
   "metadata": {},
   "outputs": [],
   "source": [
    "backend = Aer.get_backend('qasm_simulator')\n",
    "\n",
    "def parallel(args):\n",
    "    model = args[0]\n",
    "    x = args[1]\n",
    "    y = args[2]\n",
    "    verbose = args[3]\n",
    "    seed = args[4]\n",
    "    np.random.seed(seed)\n",
    "    \n",
    "    model.train(x, y, epochs=100, verbose = verbose)\n",
    "    \n",
    "    return model"
   ]
  },
  {
   "cell_type": "code",
   "execution_count": 15,
   "metadata": {},
   "outputs": [],
   "source": [
    "backend_santiago = pickle.load(open(\"backend_santiago\", \"rb\"))"
   ]
  },
  {
   "cell_type": "markdown",
   "metadata": {},
   "source": [
    "# Trainability, Ideal"
   ]
  },
  {
   "cell_type": "markdown",
   "metadata": {},
   "source": [
    "## 1D, Gaussian Function"
   ]
  },
  {
   "cell_type": "markdown",
   "metadata": {},
   "source": [
    "### Generate Data"
   ]
  },
  {
   "cell_type": "code",
   "execution_count": 16,
   "metadata": {},
   "outputs": [
    {
     "name": "stdout",
     "output_type": "stream",
     "text": [
      "(100, 1)\n"
     ]
    }
   ],
   "source": [
    "n = 100\n",
    "x, y = generate_1D_mixed_gaussian()\n",
    "\n",
    "x_qcn = scaler(x, a=-np.pi/2, b=np.pi/2)\n",
    "x_qnn = np.hstack([x_qcn, x_qcn, x_qcn])\n",
    "x_dnn = scaler(x, mode=\"standard\")\n",
    "y = scaler(y, a=0, b=1)\n",
    "print(y.shape)"
   ]
  },
  {
   "cell_type": "code",
   "execution_count": 17,
   "metadata": {
    "scrolled": true
   },
   "outputs": [
    {
     "data": {
      "image/png": "[encoded data removed]",
      "text/plain": [
       "<Figure size 432x288 with 1 Axes>"
      ]
     },
     "metadata": {
      "needs_background": "light"
     },
     "output_type": "display_data"
    }
   ],
   "source": [
    "plt.plot(x_qcn, y, 'o')\n",
    "plt.show()"
   ]
  },
  {
   "cell_type": "markdown",
   "metadata": {},
   "source": [
    "### Training Models"
   ]
  },
  {
   "cell_type": "markdown",
   "metadata": {},
   "source": [
    "### QNN"
   ]
  },
  {
   "cell_type": "code",
   "execution_count": 18,
   "metadata": {},
   "outputs": [
    {
     "name": "stdout",
     "output_type": "stream",
     "text": [
      "epoch: 0, loss: 0.1250108875208522\n",
      "epoch: 1, loss: 0.11418874077248779\n",
      "epoch: 2, loss: 0.10579220874363993\n",
      "epoch: 3, loss: 0.09835602233383221\n",
      "epoch: 4, loss: 0.09267529398884239\n",
      "epoch: 5, loss: 0.08538963658356825\n",
      "epoch: 6, loss: 0.08007576327249477\n",
      "epoch: 7, loss: 0.079299683729087\n",
      "epoch: 8, loss: 0.08060911119238794\n",
      "epoch: 9, loss: 0.07171116766535544\n",
      "epoch: 10, loss: 0.07091830916144404\n",
      "epoch: 11, loss: 0.06860147438427734\n",
      "epoch: 12, loss: 0.07299916565928583\n",
      "epoch: 13, loss: 0.073372372381899\n",
      "epoch: 14, loss: 0.06970504110146797\n",
      "epoch: 15, loss: 0.07009587030451053\n",
      "epoch: 16, loss: 0.06807364730222554\n",
      "epoch: 17, loss: 0.06955677872704787\n",
      "epoch: 18, loss: 0.06889644909592821\n",
      "epoch: 19, loss: 0.06702779316398769\n",
      "epoch: 20, loss: 0.06902778011165417\n",
      "epoch: 21, loss: 0.06788485968956408\n",
      "epoch: 22, loss: 0.0684743200754863\n",
      "epoch: 23, loss: 0.06882437575281837\n",
      "epoch: 24, loss: 0.06739807170629245\n",
      "epoch: 25, loss: 0.06458535690861122\n",
      "epoch: 26, loss: 0.06758638910645058\n",
      "epoch: 27, loss: 0.06740972314204004\n",
      "epoch: 28, loss: 0.06639924069728133\n",
      "epoch: 29, loss: 0.06696461347825082\n",
      "epoch: 30, loss: 0.06623176591980866\n",
      "epoch: 31, loss: 0.06743684391636587\n",
      "epoch: 32, loss: 0.0667321784047111\n",
      "epoch: 33, loss: 0.06666293769547994\n",
      "epoch: 34, loss: 0.06481332237617317\n",
      "epoch: 35, loss: 0.06489578283351684\n",
      "epoch: 36, loss: 0.0638569055671773\n",
      "epoch: 37, loss: 0.06672678130687242\n",
      "epoch: 38, loss: 0.06661859532212272\n",
      "epoch: 39, loss: 0.06612482734226012\n",
      "epoch: 40, loss: 0.06598593293417025\n",
      "epoch: 41, loss: 0.06508633356898695\n",
      "epoch: 42, loss: 0.06709294894749597\n",
      "epoch: 43, loss: 0.06593414432096384\n",
      "epoch: 44, loss: 0.0645016653204049\n",
      "epoch: 45, loss: 0.06634392066625375\n",
      "epoch: 46, loss: 0.06500913348281548\n",
      "epoch: 47, loss: 0.06421347867409459\n",
      "epoch: 48, loss: 0.06773130750960799\n",
      "epoch: 49, loss: 0.06712894594981417\n",
      "epoch: 50, loss: 0.06532143715699312\n",
      "epoch: 51, loss: 0.06577215749315045\n",
      "epoch: 52, loss: 0.06511494461469819\n",
      "epoch: 53, loss: 0.0651214415404106\n",
      "epoch: 54, loss: 0.06307435275355648\n",
      "epoch: 55, loss: 0.06743683848834224\n",
      "epoch: 56, loss: 0.06707301708029444\n",
      "epoch: 57, loss: 0.06442232301280133\n",
      "epoch: 58, loss: 0.06480233075844863\n",
      "epoch: 59, loss: 0.06602356701981199\n",
      "epoch: 60, loss: 0.06376249040227833\n",
      "epoch: 61, loss: 0.06501947504303175\n",
      "epoch: 62, loss: 0.0642026875893854\n",
      "epoch: 63, loss: 0.0671027723975543\n",
      "epoch: 64, loss: 0.0657272943804258\n",
      "epoch: 65, loss: 0.06519157979875159\n",
      "epoch: 66, loss: 0.06393958655279666\n",
      "epoch: 67, loss: 0.06679994890918083\n",
      "epoch: 68, loss: 0.0643011103325003\n",
      "epoch: 69, loss: 0.06382804539705059\n",
      "epoch: 70, loss: 0.06588469157000788\n",
      "epoch: 71, loss: 0.06742846208450887\n",
      "epoch: 72, loss: 0.0652509936590021\n",
      "epoch: 73, loss: 0.06457610348032078\n",
      "epoch: 74, loss: 0.06689223847470781\n",
      "epoch: 75, loss: 0.06562561881579372\n",
      "epoch: 76, loss: 0.06399284506760869\n",
      "epoch: 77, loss: 0.06562994046705545\n",
      "epoch: 78, loss: 0.06741248837846635\n",
      "epoch: 79, loss: 0.06542615622953879\n",
      "epoch: 80, loss: 0.06517052982115057\n",
      "epoch: 81, loss: 0.06621825567171377\n",
      "epoch: 82, loss: 0.0669196602092611\n",
      "epoch: 83, loss: 0.06546414130766219\n",
      "epoch: 84, loss: 0.06487918482640809\n",
      "epoch: 85, loss: 0.06416254778828534\n",
      "epoch: 86, loss: 0.06576035123950136\n",
      "epoch: 87, loss: 0.0662676040732968\n",
      "epoch: 88, loss: 0.06333576525127198\n",
      "epoch: 89, loss: 0.06613771064771592\n",
      "epoch: 90, loss: 0.06642009597789465\n",
      "epoch: 91, loss: 0.06461050043938595\n",
      "epoch: 92, loss: 0.06535675294911804\n",
      "epoch: 93, loss: 0.0654581355420583\n",
      "epoch: 94, loss: 0.06172947363845238\n",
      "epoch: 95, loss: 0.06565277939520635\n",
      "epoch: 96, loss: 0.06529375904050537\n",
      "epoch: 97, loss: 0.06528424485586919\n",
      "epoch: 98, loss: 0.06215042981379693\n",
      "epoch: 99, loss: 0.06687663631499903\n",
      "epoch: 100, loss: 0.06455497513530521\n"
     ]
    }
   ],
   "source": [
    "np.random.seed(42)\n",
    "\n",
    "qnn_list = []\n",
    "for i in range(10):\n",
    "    qnn = sequential_qnn(n_qubits = [4],\n",
    "                         dim = [3,1],\n",
    "                         encoder = RZZEncoder(),\n",
    "                         ansatz = Ansatz(blocks=[\"entangle\", \"ry\"], reps=5),\n",
    "                         sampler = Parity(),\n",
    "                         cost = MSE(),\n",
    "                         optimizer = Adam(lr=0.1),\n",
    "                         backend=backend_santiago,\n",
    "                         shots = 1024)\n",
    "    \n",
    "    qnn_list.append([qnn, x_qnn, y, False, 42 + i])\n",
    "\n",
    "    \n",
    "qnn_list[0][3] = True\n",
    "\n",
    "with mp.Pool(10) as p:\n",
    "    qnn_list = p.map(parallel, qnn_list) \n",
    "    \n",
    "    \n",
    "saver(qnn_list, data_path(\"trainability_qnn_1D_noisy\"))"
   ]
  },
  {
   "cell_type": "markdown",
   "metadata": {},
   "source": [
    "### QCN"
   ]
  },
  {
   "cell_type": "code",
   "execution_count": 7,
   "metadata": {},
   "outputs": [
    {
     "name": "stdout",
     "output_type": "stream",
     "text": [
      "epoch: 0, loss: 0.13782207310031894\n",
      "epoch: 1, loss: 0.12082813943569562\n",
      "epoch: 2, loss: 0.11319703495806706\n",
      "epoch: 3, loss: 0.10431275842392589\n",
      "epoch: 4, loss: 0.09879752203290255\n",
      "epoch: 5, loss: 0.08643947659328453\n",
      "epoch: 6, loss: 0.0738450300917962\n",
      "epoch: 7, loss: 0.06140143395760164\n",
      "epoch: 8, loss: 0.051247305430959844\n",
      "epoch: 9, loss: 0.04852302304843979\n",
      "epoch: 10, loss: 0.04412173447191851\n",
      "epoch: 11, loss: 0.03911248681394623\n",
      "epoch: 12, loss: 0.03657841147341408\n",
      "epoch: 13, loss: 0.034990440362007345\n",
      "epoch: 14, loss: 0.030513398168545515\n",
      "epoch: 15, loss: 0.026355867379136564\n",
      "epoch: 16, loss: 0.02203043299792694\n",
      "epoch: 17, loss: 0.02144178522249634\n",
      "epoch: 18, loss: 0.020126110713316495\n",
      "epoch: 19, loss: 0.02028877300728014\n",
      "epoch: 20, loss: 0.019519681936064737\n",
      "epoch: 21, loss: 0.01763435737095374\n",
      "epoch: 22, loss: 0.01796364711781339\n",
      "epoch: 23, loss: 0.016071515812282427\n",
      "epoch: 24, loss: 0.014534456203442833\n",
      "epoch: 25, loss: 0.01387192740748806\n",
      "epoch: 26, loss: 0.013829977823685342\n",
      "epoch: 27, loss: 0.014339052983073655\n",
      "epoch: 28, loss: 0.01210557273531447\n",
      "epoch: 29, loss: 0.01241971444598345\n",
      "epoch: 30, loss: 0.012855687820125987\n",
      "epoch: 31, loss: 0.010745567474224022\n",
      "epoch: 32, loss: 0.010690106550019493\n",
      "epoch: 33, loss: 0.010204133058113997\n",
      "epoch: 34, loss: 0.010088946800320393\n",
      "epoch: 35, loss: 0.009965372621438269\n",
      "epoch: 36, loss: 0.009648421497475003\n",
      "epoch: 37, loss: 0.00875275285825989\n",
      "epoch: 38, loss: 0.009189721835466444\n",
      "epoch: 39, loss: 0.008834014999940347\n",
      "epoch: 40, loss: 0.008095964935498443\n",
      "epoch: 41, loss: 0.008363076858497066\n",
      "epoch: 42, loss: 0.006795810718414188\n",
      "epoch: 43, loss: 0.007912983519079377\n",
      "epoch: 44, loss: 0.008032868396173202\n",
      "epoch: 45, loss: 0.008181500618124407\n",
      "epoch: 46, loss: 0.008215194385762537\n",
      "epoch: 47, loss: 0.008187405133857885\n",
      "epoch: 48, loss: 0.006957880907433425\n",
      "epoch: 49, loss: 0.008172085172797139\n",
      "epoch: 50, loss: 0.008185458036444522\n",
      "epoch: 51, loss: 0.00822014955006656\n",
      "epoch: 52, loss: 0.008507419375138582\n",
      "epoch: 53, loss: 0.008297824298247533\n",
      "epoch: 54, loss: 0.0076111133229540325\n",
      "epoch: 55, loss: 0.008104813655498241\n",
      "epoch: 56, loss: 0.007598415162246436\n",
      "epoch: 57, loss: 0.007834315695660378\n",
      "epoch: 58, loss: 0.007784409236575453\n",
      "epoch: 59, loss: 0.00802734355563212\n",
      "epoch: 60, loss: 0.006943207179630444\n",
      "epoch: 61, loss: 0.00739707372551819\n",
      "epoch: 62, loss: 0.007132579563745206\n",
      "epoch: 63, loss: 0.007051713242377202\n",
      "epoch: 64, loss: 0.007008729540301467\n",
      "epoch: 65, loss: 0.006767003612739576\n",
      "epoch: 66, loss: 0.0077406869347596795\n",
      "epoch: 67, loss: 0.0068031856575789165\n",
      "epoch: 68, loss: 0.006560671690871018\n",
      "epoch: 69, loss: 0.00774146980107499\n",
      "epoch: 70, loss: 0.007652079571660801\n",
      "epoch: 71, loss: 0.007363062185103586\n",
      "epoch: 72, loss: 0.007311007233040207\n",
      "epoch: 73, loss: 0.0075023355134454725\n",
      "epoch: 74, loss: 0.006871058816599748\n",
      "epoch: 75, loss: 0.007450245694635349\n",
      "epoch: 76, loss: 0.00725432219674031\n",
      "epoch: 77, loss: 0.007139178133913675\n",
      "epoch: 78, loss: 0.00880889068622948\n",
      "epoch: 79, loss: 0.007451309627622384\n",
      "epoch: 80, loss: 0.007838883068485798\n",
      "epoch: 81, loss: 0.007437118323110024\n",
      "epoch: 82, loss: 0.006712449127837714\n",
      "epoch: 83, loss: 0.006782826579092015\n",
      "epoch: 84, loss: 0.007678682481590812\n",
      "epoch: 85, loss: 0.007480097214022909\n",
      "epoch: 86, loss: 0.00763998401282368\n",
      "epoch: 87, loss: 0.007084154301041605\n",
      "epoch: 88, loss: 0.007223479978280954\n",
      "epoch: 89, loss: 0.007053329862685564\n",
      "epoch: 90, loss: 0.006970099277305247\n",
      "epoch: 91, loss: 0.006936230246378506\n",
      "epoch: 92, loss: 0.006986564726995833\n",
      "epoch: 93, loss: 0.007303304028995674\n",
      "epoch: 94, loss: 0.0069486874707269265\n",
      "epoch: 95, loss: 0.008071433322442178\n",
      "epoch: 96, loss: 0.00657689070924714\n",
      "epoch: 97, loss: 0.0066578159494958536\n",
      "epoch: 98, loss: 0.0075872908786951306\n",
      "epoch: 99, loss: 0.00704545180373538\n",
      "epoch: 100, loss: 0.007440597433989009\n"
     ]
    }
   ],
   "source": [
    "np.random.seed(42)\n",
    "\n",
    "qcn_list = []\n",
    "for i in range(10):\n",
    "    qcn = sequential_qnn(n_qubits = [4, 4],\n",
    "                         dim = [1, 4, 1],\n",
    "                         encoder = Encoder(),\n",
    "                         ansatz = Ansatz(blocks = [\"entangle\", \"ry\"], reps=1),\n",
    "                         sampler = Parity(),\n",
    "                         cost = MSE(),\n",
    "                         optimizer = Adam(lr=0.1),\n",
    "                         backend = backend_santiago,\n",
    "                         shots = 1024)\n",
    "    \n",
    "    qcn_list.append([qcn, x_qcn, y, False, 42 + i])\n",
    "\n",
    "    \n",
    "qcn_list[0][3] = True\n",
    "\n",
    "with mp.Pool(10) as p:\n",
    "    qcn_list = p.map(parallel, qcn_list) \n",
    "    \n",
    "    \n",
    "saver(qcn_list, data_path(\"trainability_qcn_1D_reps_1_noisy\"))"
   ]
  },
  {
   "cell_type": "code",
   "execution_count": 7,
   "metadata": {},
   "outputs": [
    {
     "name": "stdout",
     "output_type": "stream",
     "text": [
      "epoch: 0, loss: 0.1593583265595664\n",
      "epoch: 1, loss: 0.08846082761067726\n",
      "epoch: 2, loss: 0.08847660208377212\n",
      "epoch: 3, loss: 0.0798060818086736\n",
      "epoch: 4, loss: 0.058430023534644555\n"
     ]
    },
    {
     "ename": "KeyboardInterrupt",
     "evalue": "",
     "output_type": "error",
     "traceback": [
      "\u001b[0;31m---------------------------------------------------------------------------\u001b[0m",
      "\u001b[0;31mKeyboardInterrupt\u001b[0m                         Traceback (most recent call last)",
      "\u001b[0;32m<ipython-input-7-ef07aae8ad5e>\u001b[0m in \u001b[0;36m<module>\u001b[0;34m\u001b[0m\n\u001b[1;32m     18\u001b[0m \u001b[0;34m\u001b[0m\u001b[0m\n\u001b[1;32m     19\u001b[0m \u001b[0;32mwith\u001b[0m \u001b[0mmp\u001b[0m\u001b[0;34m.\u001b[0m\u001b[0mPool\u001b[0m\u001b[0;34m(\u001b[0m\u001b[0;36m10\u001b[0m\u001b[0;34m)\u001b[0m \u001b[0;32mas\u001b[0m \u001b[0mp\u001b[0m\u001b[0;34m:\u001b[0m\u001b[0;34m\u001b[0m\u001b[0;34m\u001b[0m\u001b[0m\n\u001b[0;32m---> 20\u001b[0;31m     \u001b[0mqcn_list\u001b[0m \u001b[0;34m=\u001b[0m \u001b[0mp\u001b[0m\u001b[0;34m.\u001b[0m\u001b[0mmap\u001b[0m\u001b[0;34m(\u001b[0m\u001b[0mparallel\u001b[0m\u001b[0;34m,\u001b[0m \u001b[0mqcn_list\u001b[0m\u001b[0;34m)\u001b[0m\u001b[0;34m\u001b[0m\u001b[0;34m\u001b[0m\u001b[0m\n\u001b[0m\u001b[1;32m     21\u001b[0m \u001b[0;34m\u001b[0m\u001b[0m\n\u001b[1;32m     22\u001b[0m \u001b[0msaver\u001b[0m\u001b[0;34m(\u001b[0m\u001b[0mqcn_list\u001b[0m\u001b[0;34m,\u001b[0m \u001b[0mdata_path\u001b[0m\u001b[0;34m(\u001b[0m\u001b[0;34m\"trainability_qcn_1D_reps_2_noisy\"\u001b[0m\u001b[0;34m)\u001b[0m\u001b[0;34m)\u001b[0m\u001b[0;34m\u001b[0m\u001b[0;34m\u001b[0m\u001b[0m\n",
      "\u001b[0;32m~/anaconda3/envs/env_qiskit/lib/python3.9/multiprocessing/pool.py\u001b[0m in \u001b[0;36mmap\u001b[0;34m(self, func, iterable, chunksize)\u001b[0m\n\u001b[1;32m    362\u001b[0m         \u001b[0;32min\u001b[0m \u001b[0ma\u001b[0m \u001b[0mlist\u001b[0m \u001b[0mthat\u001b[0m \u001b[0;32mis\u001b[0m \u001b[0mreturned\u001b[0m\u001b[0;34m.\u001b[0m\u001b[0;34m\u001b[0m\u001b[0;34m\u001b[0m\u001b[0m\n\u001b[1;32m    363\u001b[0m         '''\n\u001b[0;32m--> 364\u001b[0;31m         \u001b[0;32mreturn\u001b[0m \u001b[0mself\u001b[0m\u001b[0;34m.\u001b[0m\u001b[0m_map_async\u001b[0m\u001b[0;34m(\u001b[0m\u001b[0mfunc\u001b[0m\u001b[0;34m,\u001b[0m \u001b[0miterable\u001b[0m\u001b[0;34m,\u001b[0m \u001b[0mmapstar\u001b[0m\u001b[0;34m,\u001b[0m \u001b[0mchunksize\u001b[0m\u001b[0;34m)\u001b[0m\u001b[0;34m.\u001b[0m\u001b[0mget\u001b[0m\u001b[0;34m(\u001b[0m\u001b[0;34m)\u001b[0m\u001b[0;34m\u001b[0m\u001b[0;34m\u001b[0m\u001b[0m\n\u001b[0m\u001b[1;32m    365\u001b[0m \u001b[0;34m\u001b[0m\u001b[0m\n\u001b[1;32m    366\u001b[0m     \u001b[0;32mdef\u001b[0m \u001b[0mstarmap\u001b[0m\u001b[0;34m(\u001b[0m\u001b[0mself\u001b[0m\u001b[0;34m,\u001b[0m \u001b[0mfunc\u001b[0m\u001b[0;34m,\u001b[0m \u001b[0miterable\u001b[0m\u001b[0;34m,\u001b[0m \u001b[0mchunksize\u001b[0m\u001b[0;34m=\u001b[0m\u001b[0;32mNone\u001b[0m\u001b[0;34m)\u001b[0m\u001b[0;34m:\u001b[0m\u001b[0;34m\u001b[0m\u001b[0;34m\u001b[0m\u001b[0m\n",
      "\u001b[0;32m~/anaconda3/envs/env_qiskit/lib/python3.9/multiprocessing/pool.py\u001b[0m in \u001b[0;36mget\u001b[0;34m(self, timeout)\u001b[0m\n\u001b[1;32m    763\u001b[0m \u001b[0;34m\u001b[0m\u001b[0m\n\u001b[1;32m    764\u001b[0m     \u001b[0;32mdef\u001b[0m \u001b[0mget\u001b[0m\u001b[0;34m(\u001b[0m\u001b[0mself\u001b[0m\u001b[0;34m,\u001b[0m \u001b[0mtimeout\u001b[0m\u001b[0;34m=\u001b[0m\u001b[0;32mNone\u001b[0m\u001b[0;34m)\u001b[0m\u001b[0;34m:\u001b[0m\u001b[0;34m\u001b[0m\u001b[0;34m\u001b[0m\u001b[0m\n\u001b[0;32m--> 765\u001b[0;31m         \u001b[0mself\u001b[0m\u001b[0;34m.\u001b[0m\u001b[0mwait\u001b[0m\u001b[0;34m(\u001b[0m\u001b[0mtimeout\u001b[0m\u001b[0;34m)\u001b[0m\u001b[0;34m\u001b[0m\u001b[0;34m\u001b[0m\u001b[0m\n\u001b[0m\u001b[1;32m    766\u001b[0m         \u001b[0;32mif\u001b[0m \u001b[0;32mnot\u001b[0m \u001b[0mself\u001b[0m\u001b[0;34m.\u001b[0m\u001b[0mready\u001b[0m\u001b[0;34m(\u001b[0m\u001b[0;34m)\u001b[0m\u001b[0;34m:\u001b[0m\u001b[0;34m\u001b[0m\u001b[0;34m\u001b[0m\u001b[0m\n\u001b[1;32m    767\u001b[0m             \u001b[0;32mraise\u001b[0m \u001b[0mTimeoutError\u001b[0m\u001b[0;34m\u001b[0m\u001b[0;34m\u001b[0m\u001b[0m\n",
      "\u001b[0;32m~/anaconda3/envs/env_qiskit/lib/python3.9/multiprocessing/pool.py\u001b[0m in \u001b[0;36mwait\u001b[0;34m(self, timeout)\u001b[0m\n\u001b[1;32m    760\u001b[0m \u001b[0;34m\u001b[0m\u001b[0m\n\u001b[1;32m    761\u001b[0m     \u001b[0;32mdef\u001b[0m \u001b[0mwait\u001b[0m\u001b[0;34m(\u001b[0m\u001b[0mself\u001b[0m\u001b[0;34m,\u001b[0m \u001b[0mtimeout\u001b[0m\u001b[0;34m=\u001b[0m\u001b[0;32mNone\u001b[0m\u001b[0;34m)\u001b[0m\u001b[0;34m:\u001b[0m\u001b[0;34m\u001b[0m\u001b[0;34m\u001b[0m\u001b[0m\n\u001b[0;32m--> 762\u001b[0;31m         \u001b[0mself\u001b[0m\u001b[0;34m.\u001b[0m\u001b[0m_event\u001b[0m\u001b[0;34m.\u001b[0m\u001b[0mwait\u001b[0m\u001b[0;34m(\u001b[0m\u001b[0mtimeout\u001b[0m\u001b[0;34m)\u001b[0m\u001b[0;34m\u001b[0m\u001b[0;34m\u001b[0m\u001b[0m\n\u001b[0m\u001b[1;32m    763\u001b[0m \u001b[0;34m\u001b[0m\u001b[0m\n\u001b[1;32m    764\u001b[0m     \u001b[0;32mdef\u001b[0m \u001b[0mget\u001b[0m\u001b[0;34m(\u001b[0m\u001b[0mself\u001b[0m\u001b[0;34m,\u001b[0m \u001b[0mtimeout\u001b[0m\u001b[0;34m=\u001b[0m\u001b[0;32mNone\u001b[0m\u001b[0;34m)\u001b[0m\u001b[0;34m:\u001b[0m\u001b[0;34m\u001b[0m\u001b[0;34m\u001b[0m\u001b[0m\n",
      "\u001b[0;32m~/anaconda3/envs/env_qiskit/lib/python3.9/threading.py\u001b[0m in \u001b[0;36mwait\u001b[0;34m(self, timeout)\u001b[0m\n\u001b[1;32m    572\u001b[0m             \u001b[0msignaled\u001b[0m \u001b[0;34m=\u001b[0m \u001b[0mself\u001b[0m\u001b[0;34m.\u001b[0m\u001b[0m_flag\u001b[0m\u001b[0;34m\u001b[0m\u001b[0;34m\u001b[0m\u001b[0m\n\u001b[1;32m    573\u001b[0m             \u001b[0;32mif\u001b[0m \u001b[0;32mnot\u001b[0m \u001b[0msignaled\u001b[0m\u001b[0;34m:\u001b[0m\u001b[0;34m\u001b[0m\u001b[0;34m\u001b[0m\u001b[0m\n\u001b[0;32m--> 574\u001b[0;31m                 \u001b[0msignaled\u001b[0m \u001b[0;34m=\u001b[0m \u001b[0mself\u001b[0m\u001b[0;34m.\u001b[0m\u001b[0m_cond\u001b[0m\u001b[0;34m.\u001b[0m\u001b[0mwait\u001b[0m\u001b[0;34m(\u001b[0m\u001b[0mtimeout\u001b[0m\u001b[0;34m)\u001b[0m\u001b[0;34m\u001b[0m\u001b[0;34m\u001b[0m\u001b[0m\n\u001b[0m\u001b[1;32m    575\u001b[0m             \u001b[0;32mreturn\u001b[0m \u001b[0msignaled\u001b[0m\u001b[0;34m\u001b[0m\u001b[0;34m\u001b[0m\u001b[0m\n\u001b[1;32m    576\u001b[0m \u001b[0;34m\u001b[0m\u001b[0m\n",
      "\u001b[0;32m~/anaconda3/envs/env_qiskit/lib/python3.9/threading.py\u001b[0m in \u001b[0;36mwait\u001b[0;34m(self, timeout)\u001b[0m\n\u001b[1;32m    310\u001b[0m         \u001b[0;32mtry\u001b[0m\u001b[0;34m:\u001b[0m    \u001b[0;31m# restore state no matter what (e.g., KeyboardInterrupt)\u001b[0m\u001b[0;34m\u001b[0m\u001b[0;34m\u001b[0m\u001b[0m\n\u001b[1;32m    311\u001b[0m             \u001b[0;32mif\u001b[0m \u001b[0mtimeout\u001b[0m \u001b[0;32mis\u001b[0m \u001b[0;32mNone\u001b[0m\u001b[0;34m:\u001b[0m\u001b[0;34m\u001b[0m\u001b[0;34m\u001b[0m\u001b[0m\n\u001b[0;32m--> 312\u001b[0;31m                 \u001b[0mwaiter\u001b[0m\u001b[0;34m.\u001b[0m\u001b[0macquire\u001b[0m\u001b[0;34m(\u001b[0m\u001b[0;34m)\u001b[0m\u001b[0;34m\u001b[0m\u001b[0;34m\u001b[0m\u001b[0m\n\u001b[0m\u001b[1;32m    313\u001b[0m                 \u001b[0mgotit\u001b[0m \u001b[0;34m=\u001b[0m \u001b[0;32mTrue\u001b[0m\u001b[0;34m\u001b[0m\u001b[0;34m\u001b[0m\u001b[0m\n\u001b[1;32m    314\u001b[0m             \u001b[0;32melse\u001b[0m\u001b[0;34m:\u001b[0m\u001b[0;34m\u001b[0m\u001b[0;34m\u001b[0m\u001b[0m\n",
      "\u001b[0;31mKeyboardInterrupt\u001b[0m: "
     ]
    }
   ],
   "source": [
    "np.random.seed(42)\n",
    "\n",
    "qcn_list = []\n",
    "for i in range(10):\n",
    "    qcn = sequential_qnn(n_qubits = [4, 4],\n",
    "                         dim = [1, 4, 1],\n",
    "                         encoder= Encoder(),\n",
    "                         ansatz = Ansatz(blocks = [\"entangle\", \"ry\"], reps=2),\n",
    "                         sampler = Parity(),\n",
    "                         cost = MSE(),\n",
    "                         optimizer = Adam(lr=0.1),\n",
    "                         backend = backend_santiago,\n",
    "                         shots=1024)\n",
    "    \n",
    "    qcn_list.append([qcn, x_qcn, y, False, 42 + i])\n",
    "\n",
    "qcn_list[0][3] = True    \n",
    "    \n",
    "with mp.Pool(10) as p:\n",
    "    qcn_list = p.map(parallel, qcn_list)     \n",
    "    \n",
    "saver(qcn_list, data_path(\"trainability_qcn_1D_reps_2_noisy\"))"
   ]
  },
  {
   "cell_type": "markdown",
   "metadata": {},
   "source": [
    "## 2D function"
   ]
  },
  {
   "cell_type": "markdown",
   "metadata": {},
   "source": [
    "### Generate Data"
   ]
  },
  {
   "cell_type": "code",
   "execution_count": 19,
   "metadata": {},
   "outputs": [],
   "source": [
    "np.random.seed(42)\n",
    "\n",
    "n = 12\n",
    "x, y = generate_2D_mixed_gaussian()\n",
    "x_qcn = scaler(x, a=-np.pi/2, b=np.pi/2)\n",
    "x_qnn = np.hstack([x_qcn, x_qcn[:,0:1]])\n",
    "x_dnn = scaler(x, mode=\"standard\")"
   ]
  },
  {
   "cell_type": "code",
   "execution_count": 20,
   "metadata": {},
   "outputs": [
    {
     "data": {
      "image/png": "[encoded data removed]",
      "text/plain": [
       "<Figure size 432x288 with 1 Axes>"
      ]
     },
     "metadata": {
      "needs_background": "light"
     },
     "output_type": "display_data"
    }
   ],
   "source": [
    "plt.imshow(y.reshape(n,n))\n",
    "plt.show()"
   ]
  },
  {
   "cell_type": "markdown",
   "metadata": {},
   "source": [
    "### Training Models"
   ]
  },
  {
   "cell_type": "markdown",
   "metadata": {},
   "source": [
    "### QNN"
   ]
  },
  {
   "cell_type": "code",
   "execution_count": null,
   "metadata": {},
   "outputs": [
    {
     "name": "stdout",
     "output_type": "stream",
     "text": [
      "epoch: 0, loss: 0.05777732523959974\n",
      "epoch: 1, loss: 0.04909658908121595\n",
      "epoch: 2, loss: 0.047891614270907976\n",
      "epoch: 3, loss: 0.04322710223180416\n",
      "epoch: 4, loss: 0.04233272851411164\n",
      "epoch: 5, loss: 0.04135988753965448\n",
      "epoch: 6, loss: 0.04408967088698249\n",
      "epoch: 7, loss: 0.04214160562540736\n",
      "epoch: 8, loss: 0.041721544752526554\n",
      "epoch: 9, loss: 0.04031522101502592\n",
      "epoch: 10, loss: 0.04044076571424692\n",
      "epoch: 11, loss: 0.04118954673621841\n",
      "epoch: 12, loss: 0.040844065684088555\n",
      "epoch: 13, loss: 0.0404410801047117\n",
      "epoch: 14, loss: 0.03961719447107835\n",
      "epoch: 15, loss: 0.04224788888963492\n",
      "epoch: 16, loss: 0.04005397334177991\n",
      "epoch: 17, loss: 0.04175337418430271\n",
      "epoch: 18, loss: 0.041042229163429395\n",
      "epoch: 19, loss: 0.03907600493918278\n",
      "epoch: 20, loss: 0.04111054046576898\n",
      "epoch: 21, loss: 0.03939753064463653\n",
      "epoch: 22, loss: 0.04037866043499897\n",
      "epoch: 23, loss: 0.04177211191251313\n",
      "epoch: 24, loss: 0.040186990209926284\n",
      "epoch: 25, loss: 0.03986312402239983\n",
      "epoch: 26, loss: 0.04029832903555655\n",
      "epoch: 27, loss: 0.04044161212291586\n",
      "epoch: 28, loss: 0.04091885759484684\n",
      "epoch: 29, loss: 0.04295929099676593\n",
      "epoch: 30, loss: 0.040951408625049854\n",
      "epoch: 31, loss: 0.03899156361280451\n",
      "epoch: 32, loss: 0.04118894779162882\n",
      "epoch: 33, loss: 0.04026924739707255\n",
      "epoch: 34, loss: 0.0417548483882078\n",
      "epoch: 35, loss: 0.0415006827445375\n",
      "epoch: 36, loss: 0.038711236091167375\n",
      "epoch: 37, loss: 0.04115889174151216\n",
      "epoch: 38, loss: 0.040068542288728345\n",
      "epoch: 39, loss: 0.03858333165357349\n",
      "epoch: 40, loss: 0.039356204086312824\n",
      "epoch: 41, loss: 0.040044375275021596\n",
      "epoch: 42, loss: 0.039980026666425\n",
      "epoch: 43, loss: 0.03902614157021113\n",
      "epoch: 44, loss: 0.041794266696420244\n",
      "epoch: 45, loss: 0.03971787639972741\n",
      "epoch: 46, loss: 0.040572134337445644\n",
      "epoch: 47, loss: 0.03864440411075007\n",
      "epoch: 48, loss: 0.039962916301174004\n",
      "epoch: 49, loss: 0.04014940237662067\n"
     ]
    }
   ],
   "source": [
    "np.random.seed(42)\n",
    "\n",
    "qnn_list = []\n",
    "for i in range(10):\n",
    "    qnn = sequential_qnn(n_qubits = [4],\n",
    "                         dim = [3,1],\n",
    "                         encoder = RZZEncoder(),\n",
    "                         ansatz = Ansatz(blocks=[\"entangle\", \"ry\"], reps=10),\n",
    "                         sampler = Parity(),\n",
    "                         cost = MSE(),\n",
    "                         optimizer = Adam(lr=0.1),\n",
    "                         backend = backend_santiago,\n",
    "                         shots=1024)\n",
    "    \n",
    "    qnn_list.append([qnn, x_qnn, y, False, 42 + i])\n",
    "\n",
    "    \n",
    "qnn_list[0][3] = True\n",
    "\n",
    "with mp.Pool(10) as p:\n",
    "    qnn_list = p.map(parallel, qnn_list) \n",
    "    \n",
    "    \n",
    "saver(qnn_list, data_path(\"trainability_qnn_2D_noisy\"))"
   ]
  },
  {
   "cell_type": "markdown",
   "metadata": {},
   "source": [
    "### QCN"
   ]
  },
  {
   "cell_type": "code",
   "execution_count": 7,
   "metadata": {},
   "outputs": [
    {
     "ename": "KeyboardInterrupt",
     "evalue": "",
     "output_type": "error",
     "traceback": [
      "\u001b[0;31m---------------------------------------------------------------------------\u001b[0m",
      "\u001b[0;31mKeyboardInterrupt\u001b[0m                         Traceback (most recent call last)",
      "\u001b[0;32m<ipython-input-7-b162846bc2b9>\u001b[0m in \u001b[0;36m<module>\u001b[0;34m\u001b[0m\n\u001b[1;32m     17\u001b[0m \u001b[0;34m\u001b[0m\u001b[0m\n\u001b[1;32m     18\u001b[0m \u001b[0;32mwith\u001b[0m \u001b[0mmp\u001b[0m\u001b[0;34m.\u001b[0m\u001b[0mPool\u001b[0m\u001b[0;34m(\u001b[0m\u001b[0;36m10\u001b[0m\u001b[0;34m)\u001b[0m \u001b[0;32mas\u001b[0m \u001b[0mp\u001b[0m\u001b[0;34m:\u001b[0m\u001b[0;34m\u001b[0m\u001b[0;34m\u001b[0m\u001b[0m\n\u001b[0;32m---> 19\u001b[0;31m     \u001b[0mqcn_list\u001b[0m \u001b[0;34m=\u001b[0m \u001b[0mp\u001b[0m\u001b[0;34m.\u001b[0m\u001b[0mmap\u001b[0m\u001b[0;34m(\u001b[0m\u001b[0mparallel\u001b[0m\u001b[0;34m,\u001b[0m \u001b[0mqcn_list\u001b[0m\u001b[0;34m)\u001b[0m\u001b[0;34m\u001b[0m\u001b[0;34m\u001b[0m\u001b[0m\n\u001b[0m\u001b[1;32m     20\u001b[0m \u001b[0;34m\u001b[0m\u001b[0m\n\u001b[1;32m     21\u001b[0m \u001b[0msaver\u001b[0m\u001b[0;34m(\u001b[0m\u001b[0mqcn_list\u001b[0m\u001b[0;34m,\u001b[0m \u001b[0mdata_path\u001b[0m\u001b[0;34m(\u001b[0m\u001b[0;34m\"trainability_qcn_2D_reps_1_noisy\"\u001b[0m\u001b[0;34m)\u001b[0m\u001b[0;34m)\u001b[0m\u001b[0;34m\u001b[0m\u001b[0;34m\u001b[0m\u001b[0m\n",
      "\u001b[0;32m~/anaconda3/envs/env_qiskit/lib/python3.9/multiprocessing/pool.py\u001b[0m in \u001b[0;36mmap\u001b[0;34m(self, func, iterable, chunksize)\u001b[0m\n\u001b[1;32m    362\u001b[0m         \u001b[0;32min\u001b[0m \u001b[0ma\u001b[0m \u001b[0mlist\u001b[0m \u001b[0mthat\u001b[0m \u001b[0;32mis\u001b[0m \u001b[0mreturned\u001b[0m\u001b[0;34m.\u001b[0m\u001b[0;34m\u001b[0m\u001b[0;34m\u001b[0m\u001b[0m\n\u001b[1;32m    363\u001b[0m         '''\n\u001b[0;32m--> 364\u001b[0;31m         \u001b[0;32mreturn\u001b[0m \u001b[0mself\u001b[0m\u001b[0;34m.\u001b[0m\u001b[0m_map_async\u001b[0m\u001b[0;34m(\u001b[0m\u001b[0mfunc\u001b[0m\u001b[0;34m,\u001b[0m \u001b[0miterable\u001b[0m\u001b[0;34m,\u001b[0m \u001b[0mmapstar\u001b[0m\u001b[0;34m,\u001b[0m \u001b[0mchunksize\u001b[0m\u001b[0;34m)\u001b[0m\u001b[0;34m.\u001b[0m\u001b[0mget\u001b[0m\u001b[0;34m(\u001b[0m\u001b[0;34m)\u001b[0m\u001b[0;34m\u001b[0m\u001b[0;34m\u001b[0m\u001b[0m\n\u001b[0m\u001b[1;32m    365\u001b[0m \u001b[0;34m\u001b[0m\u001b[0m\n\u001b[1;32m    366\u001b[0m     \u001b[0;32mdef\u001b[0m \u001b[0mstarmap\u001b[0m\u001b[0;34m(\u001b[0m\u001b[0mself\u001b[0m\u001b[0;34m,\u001b[0m \u001b[0mfunc\u001b[0m\u001b[0;34m,\u001b[0m \u001b[0miterable\u001b[0m\u001b[0;34m,\u001b[0m \u001b[0mchunksize\u001b[0m\u001b[0;34m=\u001b[0m\u001b[0;32mNone\u001b[0m\u001b[0;34m)\u001b[0m\u001b[0;34m:\u001b[0m\u001b[0;34m\u001b[0m\u001b[0;34m\u001b[0m\u001b[0m\n",
      "\u001b[0;32m~/anaconda3/envs/env_qiskit/lib/python3.9/multiprocessing/pool.py\u001b[0m in \u001b[0;36mget\u001b[0;34m(self, timeout)\u001b[0m\n\u001b[1;32m    763\u001b[0m \u001b[0;34m\u001b[0m\u001b[0m\n\u001b[1;32m    764\u001b[0m     \u001b[0;32mdef\u001b[0m \u001b[0mget\u001b[0m\u001b[0;34m(\u001b[0m\u001b[0mself\u001b[0m\u001b[0;34m,\u001b[0m \u001b[0mtimeout\u001b[0m\u001b[0;34m=\u001b[0m\u001b[0;32mNone\u001b[0m\u001b[0;34m)\u001b[0m\u001b[0;34m:\u001b[0m\u001b[0;34m\u001b[0m\u001b[0;34m\u001b[0m\u001b[0m\n\u001b[0;32m--> 765\u001b[0;31m         \u001b[0mself\u001b[0m\u001b[0;34m.\u001b[0m\u001b[0mwait\u001b[0m\u001b[0;34m(\u001b[0m\u001b[0mtimeout\u001b[0m\u001b[0;34m)\u001b[0m\u001b[0;34m\u001b[0m\u001b[0;34m\u001b[0m\u001b[0m\n\u001b[0m\u001b[1;32m    766\u001b[0m         \u001b[0;32mif\u001b[0m \u001b[0;32mnot\u001b[0m \u001b[0mself\u001b[0m\u001b[0;34m.\u001b[0m\u001b[0mready\u001b[0m\u001b[0;34m(\u001b[0m\u001b[0;34m)\u001b[0m\u001b[0;34m:\u001b[0m\u001b[0;34m\u001b[0m\u001b[0;34m\u001b[0m\u001b[0m\n\u001b[1;32m    767\u001b[0m             \u001b[0;32mraise\u001b[0m \u001b[0mTimeoutError\u001b[0m\u001b[0;34m\u001b[0m\u001b[0;34m\u001b[0m\u001b[0m\n",
      "\u001b[0;32m~/anaconda3/envs/env_qiskit/lib/python3.9/multiprocessing/pool.py\u001b[0m in \u001b[0;36mwait\u001b[0;34m(self, timeout)\u001b[0m\n\u001b[1;32m    760\u001b[0m \u001b[0;34m\u001b[0m\u001b[0m\n\u001b[1;32m    761\u001b[0m     \u001b[0;32mdef\u001b[0m \u001b[0mwait\u001b[0m\u001b[0;34m(\u001b[0m\u001b[0mself\u001b[0m\u001b[0;34m,\u001b[0m \u001b[0mtimeout\u001b[0m\u001b[0;34m=\u001b[0m\u001b[0;32mNone\u001b[0m\u001b[0;34m)\u001b[0m\u001b[0;34m:\u001b[0m\u001b[0;34m\u001b[0m\u001b[0;34m\u001b[0m\u001b[0m\n\u001b[0;32m--> 762\u001b[0;31m         \u001b[0mself\u001b[0m\u001b[0;34m.\u001b[0m\u001b[0m_event\u001b[0m\u001b[0;34m.\u001b[0m\u001b[0mwait\u001b[0m\u001b[0;34m(\u001b[0m\u001b[0mtimeout\u001b[0m\u001b[0;34m)\u001b[0m\u001b[0;34m\u001b[0m\u001b[0;34m\u001b[0m\u001b[0m\n\u001b[0m\u001b[1;32m    763\u001b[0m \u001b[0;34m\u001b[0m\u001b[0m\n\u001b[1;32m    764\u001b[0m     \u001b[0;32mdef\u001b[0m \u001b[0mget\u001b[0m\u001b[0;34m(\u001b[0m\u001b[0mself\u001b[0m\u001b[0;34m,\u001b[0m \u001b[0mtimeout\u001b[0m\u001b[0;34m=\u001b[0m\u001b[0;32mNone\u001b[0m\u001b[0;34m)\u001b[0m\u001b[0;34m:\u001b[0m\u001b[0;34m\u001b[0m\u001b[0;34m\u001b[0m\u001b[0m\n",
      "\u001b[0;32m~/anaconda3/envs/env_qiskit/lib/python3.9/threading.py\u001b[0m in \u001b[0;36mwait\u001b[0;34m(self, timeout)\u001b[0m\n\u001b[1;32m    572\u001b[0m             \u001b[0msignaled\u001b[0m \u001b[0;34m=\u001b[0m \u001b[0mself\u001b[0m\u001b[0;34m.\u001b[0m\u001b[0m_flag\u001b[0m\u001b[0;34m\u001b[0m\u001b[0;34m\u001b[0m\u001b[0m\n\u001b[1;32m    573\u001b[0m             \u001b[0;32mif\u001b[0m \u001b[0;32mnot\u001b[0m \u001b[0msignaled\u001b[0m\u001b[0;34m:\u001b[0m\u001b[0;34m\u001b[0m\u001b[0;34m\u001b[0m\u001b[0m\n\u001b[0;32m--> 574\u001b[0;31m                 \u001b[0msignaled\u001b[0m \u001b[0;34m=\u001b[0m \u001b[0mself\u001b[0m\u001b[0;34m.\u001b[0m\u001b[0m_cond\u001b[0m\u001b[0;34m.\u001b[0m\u001b[0mwait\u001b[0m\u001b[0;34m(\u001b[0m\u001b[0mtimeout\u001b[0m\u001b[0;34m)\u001b[0m\u001b[0;34m\u001b[0m\u001b[0;34m\u001b[0m\u001b[0m\n\u001b[0m\u001b[1;32m    575\u001b[0m             \u001b[0;32mreturn\u001b[0m \u001b[0msignaled\u001b[0m\u001b[0;34m\u001b[0m\u001b[0;34m\u001b[0m\u001b[0m\n\u001b[1;32m    576\u001b[0m \u001b[0;34m\u001b[0m\u001b[0m\n",
      "\u001b[0;32m~/anaconda3/envs/env_qiskit/lib/python3.9/threading.py\u001b[0m in \u001b[0;36mwait\u001b[0;34m(self, timeout)\u001b[0m\n\u001b[1;32m    310\u001b[0m         \u001b[0;32mtry\u001b[0m\u001b[0;34m:\u001b[0m    \u001b[0;31m# restore state no matter what (e.g., KeyboardInterrupt)\u001b[0m\u001b[0;34m\u001b[0m\u001b[0;34m\u001b[0m\u001b[0m\n\u001b[1;32m    311\u001b[0m             \u001b[0;32mif\u001b[0m \u001b[0mtimeout\u001b[0m \u001b[0;32mis\u001b[0m \u001b[0;32mNone\u001b[0m\u001b[0;34m:\u001b[0m\u001b[0;34m\u001b[0m\u001b[0;34m\u001b[0m\u001b[0m\n\u001b[0;32m--> 312\u001b[0;31m                 \u001b[0mwaiter\u001b[0m\u001b[0;34m.\u001b[0m\u001b[0macquire\u001b[0m\u001b[0;34m(\u001b[0m\u001b[0;34m)\u001b[0m\u001b[0;34m\u001b[0m\u001b[0;34m\u001b[0m\u001b[0m\n\u001b[0m\u001b[1;32m    313\u001b[0m                 \u001b[0mgotit\u001b[0m \u001b[0;34m=\u001b[0m \u001b[0;32mTrue\u001b[0m\u001b[0;34m\u001b[0m\u001b[0;34m\u001b[0m\u001b[0m\n\u001b[1;32m    314\u001b[0m             \u001b[0;32melse\u001b[0m\u001b[0;34m:\u001b[0m\u001b[0;34m\u001b[0m\u001b[0;34m\u001b[0m\u001b[0m\n",
      "\u001b[0;31mKeyboardInterrupt\u001b[0m: "
     ]
    }
   ],
   "source": [
    "np.random.seed(42)\n",
    "\n",
    "qcn_list = []\n",
    "for i in range(10):\n",
    "    qcn = sequential_qnn(n_qubits = [4, 4, 4],\n",
    "                         dim = [2, 4, 4, 1],\n",
    "                         encoder= Encoder(),\n",
    "                         ansatz = Ansatz(blocks = [\"entangle\", \"ry\"], reps=1),\n",
    "                         sampler = Parity(),\n",
    "                         cost = MSE(),\n",
    "                         optimizer = Adam(lr=0.1),\n",
    "                         backend = backend_santiago,\n",
    "                         shots=1024)\n",
    "    qcn_list.append([qcn, x_qcn, y, False, 42 + i])\n",
    "    \n",
    "qcn_list[0][3] = True    \n",
    "    \n",
    "with mp.Pool(10) as p:\n",
    "    qcn_list = p.map(parallel, qcn_list)\n",
    "\n",
    "saver(qcn_list, data_path(\"trainability_qcn_2D_reps_1_noisy\"))"
   ]
  },
  {
   "cell_type": "code",
   "execution_count": null,
   "metadata": {},
   "outputs": [],
   "source": [
    "np.random.seed(42)\n",
    "\n",
    "qcn_list = []\n",
    "for i in range(10):\n",
    "    qcn = sequential_qnn(n_qubits = [4, 4, 4],\n",
    "                         dim = [2, 4, 4, 1],\n",
    "                         encoder= Encoder(),\n",
    "                         ansatz = Ansatz(blocks = [\"entangle\", \"ry\"], reps=2),\n",
    "                         sampler = Parity(),\n",
    "                         cost = MSE(),\n",
    "                         optimizer = Adam(lr=0.1),\n",
    "                         backend = backend_santiago,\n",
    "                         shots=1024)\n",
    "   \n",
    "    qcn_list.append([qcn, x_qcn, y, False, 42 + i])\n",
    "\n",
    "qcn_list[0][3] = True    \n",
    "    \n",
    "with mp.Pool(10) as p:\n",
    "    qcn_list = p.map(parallel, qcn_list)   \n",
    "    \n",
    "saver(qcn_list, data_path(\"trainability_qcn_2D_reps_2_noisy\"))"
   ]
  },
  {
   "cell_type": "code",
   "execution_count": null,
   "metadata": {},
   "outputs": [],
   "source": [
    "qcn_list = loader(data_path(\"trainability_qcn_2D_reps_2_noisy\"))\n",
    "qcn_list = [[qcn, x_qcn, y, False] for qcn in qcn_list]\n",
    "qcn_list[0][3] = True  \n",
    "\n",
    "with mp.Pool(10) as p:\n",
    "    qcn_list = p.map(parallel, qcn_list)   \n",
    "    \n",
    "saver(qcn_list, data_path(\"trainability_qcn_2D_reps_2_noisy_2\"))"
   ]
  },
  {
   "cell_type": "code",
   "execution_count": null,
   "metadata": {},
   "outputs": [],
   "source": [
    "qcn_list = loader(data_path(\"trainability_qcn_2D_reps_2_noisy_2\"))\n",
    "qcn_list = [[qcn, x_qcn, y, False] for qcn in qcn_list]\n",
    "qcn_list[0][3] = True  \n",
    "\n",
    "with mp.Pool(10) as p:\n",
    "    qcn_list = p.map(parallel, qcn_list)   \n",
    "    \n",
    "saver(qcn_list, data_path(\"trainability_qcn_2D_reps_2_noisy_3\"))"
   ]
  },
  {
   "cell_type": "code",
   "execution_count": null,
   "metadata": {},
   "outputs": [],
   "source": [
    "qcn_list = loader(data_path(\"trainability_qcn_2D_reps_2_noisy_3\"))\n",
    "qcn_list = [[qcn, x_qcn, y, False] for qcn in qcn_list]\n",
    "qcn_list[0][3] = True  \n",
    "\n",
    "with mp.Pool(10) as p:\n",
    "    qcn_list = p.map(parallel, qcn_list)   \n",
    "    \n",
    "saver(qcn_list, data_path(\"trainability_qcn_2D_reps_2_noisy_4\"))"
   ]
  }
 ],
 "metadata": {
  "kernelspec": {
   "display_name": "env_qiskit",
   "language": "python",
   "name": "env_qiskit"
  },
  "language_info": {
   "codemirror_mode": {
    "name": "ipython",
    "version": 3
   },
   "file_extension": ".py",
   "mimetype": "text/x-python",
   "name": "python",
   "nbconvert_exporter": "python",
   "pygments_lexer": "ipython3",
   "version": "3.9.1"
  }
 },
 "nbformat": 4,
 "nbformat_minor": 4
}
