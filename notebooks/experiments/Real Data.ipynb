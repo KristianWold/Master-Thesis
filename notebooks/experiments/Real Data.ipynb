{
 "cells": [
  {
   "cell_type": "code",
   "execution_count": 36,
   "metadata": {},
   "outputs": [
    {
     "name": "stdout",
     "output_type": "stream",
     "text": [
      "The autoreload extension is already loaded. To reload it, use:\n",
      "  %reload_ext autoreload\n"
     ]
    }
   ],
   "source": [
    "import numpy as np\n",
    "import qiskit as qk\n",
    "import matplotlib.pyplot as plt\n",
    "\n",
    "from qiskit import Aer\n",
    "from tqdm.notebook import tqdm\n",
    "from sklearn.datasets import load_boston\n",
    "from sklearn.datasets import load_breast_cancer\n",
    "from sklearn.model_selection import train_test_split\n",
    "from sklearn.decomposition import PCA\n",
    "from sklearn.preprocessing import StandardScaler, MinMaxScaler\n",
    "import multiprocessing as mp\n",
    "\n",
    "import sys\n",
    "sys.path.insert(0, '../../src/')\n",
    "from neuralnetwork import *\n",
    "from analysis import *\n",
    "from utils import *\n",
    "\n",
    "#%matplotlib notebook\n",
    "%matplotlib inline\n",
    "%load_ext autoreload\n",
    "%autoreload 2\n",
    "\n",
    "np.set_printoptions(precision=4, suppress=None)"
   ]
  },
  {
   "cell_type": "code",
   "execution_count": 37,
   "metadata": {},
   "outputs": [],
   "source": [
    "def parallel(args):\n",
    "    model = args[0]\n",
    "    x = args[1]\n",
    "    y = args[2]\n",
    "    x_test = args[3]\n",
    "    y_test = args[4]\n",
    "    verbose = args[5]\n",
    "    \n",
    "    model.train(x, y, x_test=x_test, y_test=y_test, verbose = verbose)\n",
    "    \n",
    "    return model"
   ]
  },
  {
   "cell_type": "markdown",
   "metadata": {},
   "source": [
    "# Boston Housing Data"
   ]
  },
  {
   "cell_type": "markdown",
   "metadata": {},
   "source": [
    "### Load Data"
   ]
  },
  {
   "cell_type": "code",
   "execution_count": 43,
   "metadata": {},
   "outputs": [],
   "source": [
    "data = load_boston()\n",
    "x = data.data\n",
    "y = data.target.reshape(-1, 1)\n",
    "y = scaler(y, a=0, b=1)\n",
    "\n",
    "np.random.seed(42)\n",
    "x_train, x_test, y_train, y_test = train_test_split(x, y, train_size=100, test_size=100)"
   ]
  },
  {
   "cell_type": "markdown",
   "metadata": {},
   "source": [
    "### PCA"
   ]
  },
  {
   "cell_type": "code",
   "execution_count": 44,
   "metadata": {},
   "outputs": [
    {
     "data": {
      "text/plain": [
       "0.7885399244727873"
      ]
     },
     "execution_count": 44,
     "metadata": {},
     "output_type": "execute_result"
    }
   ],
   "source": [
    "standard = StandardScaler()\n",
    "x_train = standard.fit_transform(x_train)\n",
    "x_test = standard.transform(x_test)\n",
    "\n",
    "pca = PCA(n_components=4)\n",
    "x_train = pca.fit_transform(x_train)\n",
    "x_test = pca.fit_transform(x_test)\n",
    "\n",
    "np.sum(pca.explained_variance_ratio_)"
   ]
  },
  {
   "cell_type": "markdown",
   "metadata": {},
   "source": [
    "### Normalize"
   ]
  },
  {
   "cell_type": "code",
   "execution_count": 17,
   "metadata": {},
   "outputs": [],
   "source": [
    "standard = StandardScaler()\n",
    "minmax = MinMaxScaler(feature_range=(-np.pi/2, np.pi/2))\n",
    "\n",
    "x_train_dnn = standard.fit_transform(x_train)\n",
    "x_test_dnn = standard.transform(x_test)\n",
    "\n",
    "x_train_qcn = minmax.fit_transform(x_train)\n",
    "x_test_qcn = minmax.transform(x_test)"
   ]
  },
  {
   "cell_type": "markdown",
   "metadata": {},
   "source": [
    "### QCN"
   ]
  },
  {
   "cell_type": "code",
   "execution_count": 7,
   "metadata": {},
   "outputs": [
    {
     "name": "stdout",
     "output_type": "stream",
     "text": [
      "epoch: 0, loss: 0.0658711415464872\n",
      "epoch: 1, loss: 0.05782016211729164\n",
      "epoch: 2, loss: 0.03486954280531398\n",
      "epoch: 3, loss: 0.025404502675076542\n",
      "epoch: 4, loss: 0.02870207093687224\n",
      "epoch: 5, loss: 0.0277165331511739\n",
      "epoch: 6, loss: 0.022892339071935452\n",
      "epoch: 7, loss: 0.018349265511192307\n",
      "epoch: 8, loss: 0.017548911848127305\n",
      "epoch: 9, loss: 0.01807855758564733\n",
      "epoch: 10, loss: 0.01681401888772038\n",
      "epoch: 11, loss: 0.0152901766764616\n",
      "epoch: 12, loss: 0.014977027436819652\n",
      "epoch: 13, loss: 0.014863512723221102\n",
      "epoch: 14, loss: 0.013820230545686622\n",
      "epoch: 15, loss: 0.012431797016853954\n",
      "epoch: 16, loss: 0.01193566972586254\n",
      "epoch: 17, loss: 0.012248559399780519\n",
      "epoch: 18, loss: 0.011875344528691788\n",
      "epoch: 19, loss: 0.011155846999958212\n",
      "epoch: 20, loss: 0.01120868603968067\n",
      "epoch: 21, loss: 0.010908207282832608\n",
      "epoch: 22, loss: 0.009970868197945936\n",
      "epoch: 23, loss: 0.00988450089628382\n",
      "epoch: 24, loss: 0.009895840907791583\n",
      "epoch: 25, loss: 0.009448122356138984\n",
      "epoch: 26, loss: 0.009365592573512455\n",
      "epoch: 27, loss: 0.009188764855957298\n",
      "epoch: 28, loss: 0.00871862126996359\n",
      "epoch: 29, loss: 0.008460862700142117\n",
      "epoch: 30, loss: 0.008287043359712462\n",
      "epoch: 31, loss: 0.008038379130540674\n",
      "epoch: 32, loss: 0.007890722335854172\n",
      "epoch: 33, loss: 0.007718425405355461\n",
      "epoch: 34, loss: 0.007509570682327545\n",
      "epoch: 35, loss: 0.007365529714896746\n",
      "epoch: 36, loss: 0.007217066688505611\n",
      "epoch: 37, loss: 0.007089518979857798\n",
      "epoch: 38, loss: 0.007025325383336651\n",
      "epoch: 39, loss: 0.006927806939324846\n",
      "epoch: 40, loss: 0.006806202547090615\n",
      "epoch: 41, loss: 0.0067174410423451935\n",
      "epoch: 42, loss: 0.0066286109187574304\n",
      "epoch: 43, loss: 0.006588246094587179\n",
      "epoch: 44, loss: 0.006545152681924139\n",
      "epoch: 45, loss: 0.006449200355494054\n",
      "epoch: 46, loss: 0.0063530456722005035\n",
      "epoch: 47, loss: 0.006239353003830179\n",
      "epoch: 48, loss: 0.006162840963307449\n",
      "epoch: 49, loss: 0.006071918576757429\n",
      "epoch: 50, loss: 0.00599928567478942\n",
      "epoch: 51, loss: 0.005936795861388736\n",
      "epoch: 52, loss: 0.005888570801404345\n",
      "epoch: 53, loss: 0.005840484971718752\n",
      "epoch: 54, loss: 0.005777083485569763\n",
      "epoch: 55, loss: 0.005715444824792891\n",
      "epoch: 56, loss: 0.005652953725978592\n",
      "epoch: 57, loss: 0.005603823872542943\n",
      "epoch: 58, loss: 0.00555616957301772\n",
      "epoch: 59, loss: 0.005507943128301699\n",
      "epoch: 60, loss: 0.005459621094689222\n",
      "epoch: 61, loss: 0.005405369211905291\n",
      "epoch: 62, loss: 0.005360244473290679\n",
      "epoch: 63, loss: 0.0053079965048653185\n",
      "epoch: 64, loss: 0.005259416786184155\n",
      "epoch: 65, loss: 0.005213147860930355\n",
      "epoch: 66, loss: 0.005170208742895001\n",
      "epoch: 67, loss: 0.0051376739759706165\n",
      "epoch: 68, loss: 0.00510272427915936\n",
      "epoch: 69, loss: 0.005066673732501873\n",
      "epoch: 70, loss: 0.0050372635084663196\n",
      "epoch: 71, loss: 0.005008932245236086\n",
      "epoch: 72, loss: 0.004978908288062696\n",
      "epoch: 73, loss: 0.004950834715798349\n",
      "epoch: 74, loss: 0.004924501087635614\n",
      "epoch: 75, loss: 0.004896411700920147\n",
      "epoch: 76, loss: 0.004865663501451398\n",
      "epoch: 77, loss: 0.004835903453986165\n",
      "epoch: 78, loss: 0.004809516843717212\n",
      "epoch: 79, loss: 0.004784326295686967\n",
      "epoch: 80, loss: 0.004758118991030483\n",
      "epoch: 81, loss: 0.004731680903104059\n",
      "epoch: 82, loss: 0.004706318756460776\n",
      "epoch: 83, loss: 0.004681662594144511\n",
      "epoch: 84, loss: 0.004658273804183832\n",
      "epoch: 85, loss: 0.004637051605667328\n",
      "epoch: 86, loss: 0.004616944382581499\n",
      "epoch: 87, loss: 0.004596824344718553\n",
      "epoch: 88, loss: 0.004577449255470942\n",
      "epoch: 89, loss: 0.004561090516418985\n",
      "epoch: 90, loss: 0.00455227179820945\n",
      "epoch: 91, loss: 0.0045592689023673735\n",
      "epoch: 92, loss: 0.004613905534022703\n",
      "epoch: 93, loss: 0.004671294311905094\n",
      "epoch: 94, loss: 0.004716441045090691\n",
      "epoch: 95, loss: 0.004508593012797266\n",
      "epoch: 96, loss: 0.004453375359816917\n",
      "epoch: 97, loss: 0.00456160478832406\n",
      "epoch: 98, loss: 0.0044803560090720665\n",
      "epoch: 99, loss: 0.004398959217362128\n",
      "epoch: 100, loss: 0.004454649407919887\n"
     ]
    }
   ],
   "source": [
    "np.random.seed(42)\n",
    "qcn_list = []\n",
    "for i in range(10):\n",
    "    qcn = sequential_qnn(n_qubits = [4, 4],\n",
    "                         dim = [4, 4, 1],\n",
    "                         encoder= Encoder(),\n",
    "                         ansatz = Ansatz(blocks = [\"entangle\", \"ry\"], reps=2),\n",
    "                         sampler = Parity(),\n",
    "                         cost = MSE(),\n",
    "                         optimizer = Adam(lr=0.1),\n",
    "                         shots=0)\n",
    "    \n",
    "    qcn_list.append([qcn, x_train_qcn, y_train, x_test_qcn, y_test, False])\n",
    "\n",
    "qcn_list[0][5] = True    \n",
    "    \n",
    "with mp.Pool(10) as p:\n",
    "    qcn_list = p.map(parallel, qcn_list)     \n",
    "    \n",
    "saver(qcn_list, data_path(\"boston_qcn\"))"
   ]
  },
  {
   "cell_type": "markdown",
   "metadata": {},
   "source": [
    "### DNN"
   ]
  },
  {
   "cell_type": "code",
   "execution_count": 20,
   "metadata": {},
   "outputs": [
    {
     "data": {
      "application/vnd.jupyter.widget-view+json": {
       "model_id": "02a54b18cd8c40b7bff27c162e182e54",
       "version_major": 2,
       "version_minor": 0
      },
      "text/plain": [
       "  0%|          | 0/10 [00:00<?, ?it/s]"
      ]
     },
     "metadata": {},
     "output_type": "display_data"
    }
   ],
   "source": [
    "np.random.seed(42)\n",
    "\n",
    "dnn_list = []\n",
    "for i in tqdm(range(10)):\n",
    "    dnn = sequential_dnn(dim = [4, 6, 1], activation=[Tanh(), Identity()])\n",
    "    dnn.train(x_train_dnn, y_train, x_test=x_test_dnn, y_test=y_test, epochs = 100)\n",
    "    dnn_list.append(dnn)\n",
    "    \n",
    "saver(dnn_list, data_path(\"boston_dnn_pca\"))"
   ]
  },
  {
   "cell_type": "markdown",
   "metadata": {},
   "source": [
    "## Hybrid"
   ]
  },
  {
   "cell_type": "code",
   "execution_count": 21,
   "metadata": {},
   "outputs": [],
   "source": [
    "data = load_boston()\n",
    "x = data.data\n",
    "y = data.target.reshape(-1, 1)\n",
    "y = scaler(y, a=0, b=1)\n",
    "\n",
    "x_train, x_test, y_train, y_test = train_test_split(x, y, train_size=100, test_size=100)"
   ]
  },
  {
   "cell_type": "code",
   "execution_count": 22,
   "metadata": {},
   "outputs": [],
   "source": [
    "standard = StandardScaler()\n",
    "\n",
    "x_train = standard.fit_transform(x_train)\n",
    "x_test = standard.transform(x_test)"
   ]
  },
  {
   "cell_type": "code",
   "execution_count": 10,
   "metadata": {},
   "outputs": [
    {
     "name": "stdout",
     "output_type": "stream",
     "text": [
      "epoch: 0, loss: 0.07490305916345207\n",
      "epoch: 1, loss: 0.02624174469944178\n",
      "epoch: 2, loss: 0.022680772485249922\n",
      "epoch: 3, loss: 0.0225476232040407\n",
      "epoch: 4, loss: 0.020191068826272897\n",
      "epoch: 5, loss: 0.019810127508495576\n",
      "epoch: 6, loss: 0.019715861223466212\n",
      "epoch: 7, loss: 0.019066190551433056\n",
      "epoch: 8, loss: 0.017297092297728633\n",
      "epoch: 9, loss: 0.017524813439122378\n",
      "epoch: 10, loss: 0.0177074498076755\n",
      "epoch: 11, loss: 0.01748887222531164\n",
      "epoch: 12, loss: 0.01635706843709467\n",
      "epoch: 13, loss: 0.01546489726182827\n",
      "epoch: 14, loss: 0.015463095157658096\n",
      "epoch: 15, loss: 0.014333597996150662\n",
      "epoch: 16, loss: 0.013164563132785688\n",
      "epoch: 17, loss: 0.013034883160617157\n",
      "epoch: 18, loss: 0.013150991949354884\n",
      "epoch: 19, loss: 0.012857628237764407\n",
      "epoch: 20, loss: 0.01242954017279705\n",
      "epoch: 21, loss: 0.012525146354032162\n",
      "epoch: 22, loss: 0.012527561141585916\n",
      "epoch: 23, loss: 0.01204132263614635\n",
      "epoch: 24, loss: 0.011410283083634792\n",
      "epoch: 25, loss: 0.01118395543358558\n",
      "epoch: 26, loss: 0.011016608891426678\n",
      "epoch: 27, loss: 0.010864786306247645\n",
      "epoch: 28, loss: 0.010574746880971743\n",
      "epoch: 29, loss: 0.01027809086280877\n",
      "epoch: 30, loss: 0.009993777577210188\n",
      "epoch: 31, loss: 0.00970248874893333\n",
      "epoch: 32, loss: 0.00932975292043187\n",
      "epoch: 33, loss: 0.009038754366042727\n",
      "epoch: 34, loss: 0.00872715745661262\n",
      "epoch: 35, loss: 0.008296787286181611\n",
      "epoch: 36, loss: 0.008028718122589934\n",
      "epoch: 37, loss: 0.007850008638938933\n",
      "epoch: 38, loss: 0.007450696958862936\n",
      "epoch: 39, loss: 0.007069734128184173\n",
      "epoch: 40, loss: 0.006926851442042784\n",
      "epoch: 41, loss: 0.006890991081640349\n",
      "epoch: 42, loss: 0.006921358848896319\n",
      "epoch: 43, loss: 0.00717626733438509\n",
      "epoch: 44, loss: 0.008308159095649355\n",
      "epoch: 45, loss: 0.006536746931664225\n",
      "epoch: 46, loss: 0.007897361376776338\n",
      "epoch: 47, loss: 0.01032232203348318\n",
      "epoch: 48, loss: 0.008452092880893176\n",
      "epoch: 49, loss: 0.00792194858294989\n",
      "epoch: 50, loss: 0.00726587360164332\n",
      "epoch: 51, loss: 0.007053220917761161\n",
      "epoch: 52, loss: 0.007902799917984617\n",
      "epoch: 53, loss: 0.006467762575872912\n",
      "epoch: 54, loss: 0.007537175854279334\n",
      "epoch: 55, loss: 0.006070286912863698\n",
      "epoch: 56, loss: 0.006736475116371407\n",
      "epoch: 57, loss: 0.006051711898961286\n",
      "epoch: 58, loss: 0.00607863594887945\n",
      "epoch: 59, loss: 0.005515690104654585\n",
      "epoch: 60, loss: 0.005684157353324222\n",
      "epoch: 61, loss: 0.005658759608591698\n",
      "epoch: 62, loss: 0.005357202006368289\n",
      "epoch: 63, loss: 0.005170457383641889\n",
      "epoch: 64, loss: 0.004794283012617937\n",
      "epoch: 65, loss: 0.004836190886742298\n",
      "epoch: 66, loss: 0.0045929586839676875\n",
      "epoch: 67, loss: 0.004514221554142031\n",
      "epoch: 68, loss: 0.004347453267669125\n",
      "epoch: 69, loss: 0.004288062939561748\n",
      "epoch: 70, loss: 0.004269765137807332\n",
      "epoch: 71, loss: 0.004112151149632674\n",
      "epoch: 72, loss: 0.004075725892539026\n",
      "epoch: 73, loss: 0.004015756084971215\n",
      "epoch: 74, loss: 0.0040225361178501465\n",
      "epoch: 75, loss: 0.003967671776971754\n",
      "epoch: 76, loss: 0.0039574814868077\n",
      "epoch: 77, loss: 0.003947414603985199\n",
      "epoch: 78, loss: 0.0038447588513279398\n",
      "epoch: 79, loss: 0.003716606633116561\n",
      "epoch: 80, loss: 0.003667859266500924\n",
      "epoch: 81, loss: 0.003727450673781802\n",
      "epoch: 82, loss: 0.0037552590982869363\n",
      "epoch: 83, loss: 0.003692917671221705\n",
      "epoch: 84, loss: 0.003553757172356475\n",
      "epoch: 85, loss: 0.0034806542489990017\n",
      "epoch: 86, loss: 0.003496893929855517\n",
      "epoch: 87, loss: 0.003494539516270133\n",
      "epoch: 88, loss: 0.0034303213171599607\n",
      "epoch: 89, loss: 0.0033484852989514985\n",
      "epoch: 90, loss: 0.0033068376213525753\n",
      "epoch: 91, loss: 0.0032926738178145143\n",
      "epoch: 92, loss: 0.003348827267851278\n",
      "epoch: 93, loss: 0.0035106338805456993\n",
      "epoch: 94, loss: 0.00381369279931057\n",
      "epoch: 95, loss: 0.0038598424694628384\n",
      "epoch: 96, loss: 0.0034222925124317237\n",
      "epoch: 97, loss: 0.0029820493683713023\n",
      "epoch: 98, loss: 0.00309231222813412\n",
      "epoch: 99, loss: 0.0035679274422061097\n",
      "epoch: 100, loss: 0.003894592775797098\n"
     ]
    }
   ],
   "source": [
    "np.random.seed(42)\n",
    "hybrid_list = []\n",
    "for i in range(10):\n",
    "    layer1 = Dense(n_features = 13, \n",
    "                   n_targets = 4,\n",
    "                   activation = Tanh(),\n",
    "                   scale=np.pi)\n",
    "\n",
    "    layer2 = QLayer(n_qubits = 4,\n",
    "                    n_features = 4, \n",
    "                    n_targets = 4, \n",
    "                    encoder = Encoder(), \n",
    "                    ansatz = Ansatz(blocks = [\"entangle\", \"ry\"], reps=2),\n",
    "                    sampler=Parity(),\n",
    "                    shots=0)\n",
    "\n",
    "    layer3 = QLayer(n_qubits = 4,\n",
    "                    n_features = 4, \n",
    "                    n_targets = 1, \n",
    "                    encoder = Encoder(), \n",
    "                    ansatz = Ansatz(blocks = [\"entangle\", \"ry\"], reps=2),\n",
    "                    sampler=Parity(),\n",
    "                    shots=0)\n",
    "\n",
    "    layers = [layer1, layer2, layer3]\n",
    "    hybrid = NeuralNetwork(layers)\n",
    "    \n",
    "    hybrid_list.append([hybrid, x_train, y_train, x_test, y_test, False])\n",
    "\n",
    "hybrid_list[0][5] = True    \n",
    "    \n",
    "with mp.Pool(10) as p:\n",
    "    hybrid_list = p.map(parallel, hybrid_list)     \n",
    "    \n",
    "saver(hybrid_list, data_path(\"boston_hybrid\"))"
   ]
  },
  {
   "cell_type": "code",
   "execution_count": 24,
   "metadata": {},
   "outputs": [
    {
     "data": {
      "application/vnd.jupyter.widget-view+json": {
       "model_id": "8c88280343d447d4a99d03022ba5f928",
       "version_major": 2,
       "version_minor": 0
      },
      "text/plain": [
       "  0%|          | 0/10 [00:00<?, ?it/s]"
      ]
     },
     "metadata": {},
     "output_type": "display_data"
    }
   ],
   "source": [
    "np.random.seed(42)\n",
    "\n",
    "dnn_list = []\n",
    "for i in tqdm(range(10)):\n",
    "    dnn = sequential_dnn(dim = [13, 5, 5, 1], activation = [Tanh(), Tanh(), Identity()])\n",
    "    dnn.train(x_train, y_train, x_test=x_test, y_test=y_test, epochs = 100)\n",
    "    dnn_list.append(dnn)\n",
    "    \n",
    "saver(dnn_list, data_path(\"boston_dnn_full\"))"
   ]
  },
  {
   "cell_type": "markdown",
   "metadata": {},
   "source": [
    "# Breast Cancer Data"
   ]
  },
  {
   "cell_type": "markdown",
   "metadata": {},
   "source": [
    "## Load Data"
   ]
  },
  {
   "cell_type": "code",
   "execution_count": 45,
   "metadata": {},
   "outputs": [],
   "source": [
    "data = load_breast_cancer()\n",
    "x = data.data\n",
    "y = data.target.reshape(-1, 1)\n",
    "y = scaler(y, a=0, b=1)\n",
    "\n",
    "np.random.seed(42)\n",
    "x_train, x_test, y_train, y_test = train_test_split(x, y, train_size=100, test_size=100)"
   ]
  },
  {
   "cell_type": "markdown",
   "metadata": {},
   "source": [
    "### PCA"
   ]
  },
  {
   "cell_type": "code",
   "execution_count": 46,
   "metadata": {},
   "outputs": [
    {
     "data": {
      "text/plain": [
       "0.8361695759671096"
      ]
     },
     "execution_count": 46,
     "metadata": {},
     "output_type": "execute_result"
    }
   ],
   "source": [
    "standard = StandardScaler()\n",
    "x_train = standard.fit_transform(x_train)\n",
    "x_test = standard.transform(x_test)\n",
    "\n",
    "pca = PCA(n_components=4)\n",
    "x_train = pca.fit_transform(x_train)\n",
    "x_test = pca.fit_transform(x_test)\n",
    "\n",
    "np.sum(pca.explained_variance_ratio_)"
   ]
  },
  {
   "cell_type": "markdown",
   "metadata": {},
   "source": [
    "### Standardize"
   ]
  },
  {
   "cell_type": "code",
   "execution_count": 29,
   "metadata": {},
   "outputs": [],
   "source": [
    "standard = StandardScaler()\n",
    "minmax = MinMaxScaler(feature_range=(-np.pi/2, np.pi/2))\n",
    "\n",
    "x_train_dnn = standard.fit_transform(x_train)\n",
    "x_test_dnn = standard.transform(x_test)\n",
    "\n",
    "x_train_qcn = minmax.fit_transform(x_train)\n",
    "x_test_qcn = minmax.transform(x_test)"
   ]
  },
  {
   "cell_type": "markdown",
   "metadata": {},
   "source": [
    "### QCN"
   ]
  },
  {
   "cell_type": "code",
   "execution_count": null,
   "metadata": {},
   "outputs": [],
   "source": [
    "np.random.seed(42)\n",
    "qcn_list = []\n",
    "for i in range(10):\n",
    "    qcn = sequential_qnn(n_qubits = [4, 4],\n",
    "                         dim = [4, 4, 1],\n",
    "                         encoder= Encoder(),\n",
    "                         ansatz = Ansatz(blocks = [\"entangle\", \"ry\"], reps=2),\n",
    "                         sampler = Parity(),\n",
    "                         cost = MSE(),\n",
    "                         optimizer = Adam(lr=0.1),\n",
    "                         shots=0)\n",
    "    \n",
    "    qcn_list.append([qcn, x_train_qcn, y_train, x_test_qcn, y_test, False])\n",
    "\n",
    "qcn_list[0][5] = True    \n",
    "    \n",
    "with mp.Pool(10) as p:\n",
    "    qcn_list = p.map(parallel, qcn_list)     \n",
    "    \n",
    "saver(qcn_list, data_path(\"cancer_qcn\"))"
   ]
  },
  {
   "cell_type": "markdown",
   "metadata": {},
   "source": [
    "### DNN"
   ]
  },
  {
   "cell_type": "code",
   "execution_count": 16,
   "metadata": {},
   "outputs": [
    {
     "data": {
      "application/vnd.jupyter.widget-view+json": {
       "model_id": "440dedc4eda84c58bf46a61a63abd30b",
       "version_major": 2,
       "version_minor": 0
      },
      "text/plain": [
       "  0%|          | 0/10 [00:00<?, ?it/s]"
      ]
     },
     "metadata": {},
     "output_type": "display_data"
    }
   ],
   "source": [
    "np.random.seed(42)\n",
    "\n",
    "dnn_list = []\n",
    "for i in tqdm(range(10)):\n",
    "    dnn = sequential_dnn(dim = [4, 6, 1], activation=[Tanh(), Sigmoid()])\n",
    "    dnn.train(x_train_dnn, y_train, x_test=x_test_dnn, y_test=y_test, epochs = 100)\n",
    "    dnn_list.append(dnn)\n",
    "    \n",
    "saver(dnn_list, data_path(\"cancer_dnn_pca\"))"
   ]
  },
  {
   "cell_type": "markdown",
   "metadata": {},
   "source": [
    "### Accuracy"
   ]
  },
  {
   "cell_type": "code",
   "execution_count": 30,
   "metadata": {},
   "outputs": [],
   "source": [
    "qcn_pca_list = loader(data_path(\"cancer_qcn\"))\n",
    "dnn_pca_list = loader(data_path(\"cancer_dnn_pca\"))\n",
    "\n",
    "acc_qcn = 0\n",
    "acc_dnn = 0\n",
    "\n",
    "for model in qcn_pca_list:\n",
    "    y_pred = model.predict(x_test_qcn)\n",
    "    acc_qcn += accuracy(y_pred, y_test)\n",
    "\n",
    "acc_qcn /= len(qcn_pca_list) \n",
    "    \n",
    "for model in dnn_pca_list:\n",
    "    y_pred = model.predict(x_test_dnn)\n",
    "    acc_dnn += accuracy(y_pred, y_test)\n",
    "    \n",
    "acc_dnn /= len(dnn_pca_list)"
   ]
  },
  {
   "cell_type": "code",
   "execution_count": 31,
   "metadata": {},
   "outputs": [
    {
     "name": "stdout",
     "output_type": "stream",
     "text": [
      "QCN test acc: 0.947\n",
      "DNN test acc: 0.965\n"
     ]
    }
   ],
   "source": [
    "print(f\"QCN test acc: {acc_qcn:.3f}\")\n",
    "print(f\"DNN test acc: {acc_dnn:.3f}\")"
   ]
  },
  {
   "cell_type": "markdown",
   "metadata": {},
   "source": [
    "## Hybrid"
   ]
  },
  {
   "cell_type": "code",
   "execution_count": 32,
   "metadata": {},
   "outputs": [],
   "source": [
    "data = load_breast_cancer()\n",
    "x = data.data\n",
    "y = data.target.reshape(-1, 1)\n",
    "y = scaler(y, a=0, b=1)\n",
    "\n",
    "np.random.seed(42)\n",
    "x_train, x_test, y_train, y_test = train_test_split(x, y, train_size=100, test_size=100)"
   ]
  },
  {
   "cell_type": "code",
   "execution_count": 33,
   "metadata": {},
   "outputs": [],
   "source": [
    "standard = StandardScaler()\n",
    "\n",
    "x_train = standard.fit_transform(x_train)\n",
    "x_test = standard.transform(x_test)"
   ]
  },
  {
   "cell_type": "code",
   "execution_count": 19,
   "metadata": {},
   "outputs": [
    {
     "name": "stdout",
     "output_type": "stream",
     "text": [
      "epoch: 0, loss: 0.22339399646443062\n",
      "epoch: 1, loss: 0.23102399929656606\n",
      "epoch: 2, loss: 0.20416002128632008\n",
      "epoch: 3, loss: 0.20637724887955525\n",
      "epoch: 4, loss: 0.20125966090467717\n",
      "epoch: 5, loss: 0.19369623205279157\n",
      "epoch: 6, loss: 0.1865618165679604\n",
      "epoch: 7, loss: 0.17613548795399894\n",
      "epoch: 8, loss: 0.16685967152924575\n",
      "epoch: 9, loss: 0.15043353402611367\n",
      "epoch: 10, loss: 0.13571890068823594\n",
      "epoch: 11, loss: 0.1284785694424141\n",
      "epoch: 12, loss: 0.11478194520588195\n",
      "epoch: 13, loss: 0.10586830244152495\n",
      "epoch: 14, loss: 0.11505670768832299\n",
      "epoch: 15, loss: 0.10687315150767963\n",
      "epoch: 16, loss: 0.09592633596754721\n",
      "epoch: 17, loss: 0.09187218640634391\n",
      "epoch: 18, loss: 0.07559093176805864\n",
      "epoch: 19, loss: 0.07560170741343232\n",
      "epoch: 20, loss: 0.07059533073729723\n",
      "epoch: 21, loss: 0.06852437694655861\n",
      "epoch: 22, loss: 0.06045894424953241\n",
      "epoch: 23, loss: 0.05405697512665698\n",
      "epoch: 24, loss: 0.04778995703803264\n",
      "epoch: 25, loss: 0.04695359661731901\n",
      "epoch: 26, loss: 0.04429725705462993\n",
      "epoch: 27, loss: 0.045351110824313985\n",
      "epoch: 28, loss: 0.0462235301629346\n",
      "epoch: 29, loss: 0.04537666351911205\n",
      "epoch: 30, loss: 0.04598153435683112\n",
      "epoch: 31, loss: 0.04380522083413378\n",
      "epoch: 32, loss: 0.04241644725575989\n",
      "epoch: 33, loss: 0.040095590748062404\n",
      "epoch: 34, loss: 0.03942028624587288\n",
      "epoch: 35, loss: 0.03831062740037271\n",
      "epoch: 36, loss: 0.03610226048782938\n",
      "epoch: 37, loss: 0.03552221010845506\n",
      "epoch: 38, loss: 0.03494124352749321\n",
      "epoch: 39, loss: 0.034377163616168785\n",
      "epoch: 40, loss: 0.033777707516616844\n",
      "epoch: 41, loss: 0.03330264117325273\n",
      "epoch: 42, loss: 0.03281595751738429\n",
      "epoch: 43, loss: 0.0325920528811941\n",
      "epoch: 44, loss: 0.0318204173074855\n",
      "epoch: 45, loss: 0.03172973121610274\n",
      "epoch: 46, loss: 0.03169597576374506\n",
      "epoch: 47, loss: 0.031038788215136927\n",
      "epoch: 48, loss: 0.03064396713759451\n",
      "epoch: 49, loss: 0.030513887049080916\n",
      "epoch: 50, loss: 0.030221271731462402\n",
      "epoch: 51, loss: 0.030089058903238982\n",
      "epoch: 52, loss: 0.02987140707608454\n",
      "epoch: 53, loss: 0.02947351629636528\n",
      "epoch: 54, loss: 0.02918417803428192\n",
      "epoch: 55, loss: 0.029063660080814336\n",
      "epoch: 56, loss: 0.028799342769379854\n",
      "epoch: 57, loss: 0.028523518913148263\n",
      "epoch: 58, loss: 0.02847006542113236\n",
      "epoch: 59, loss: 0.02839166661476627\n",
      "epoch: 60, loss: 0.028172132196760583\n",
      "epoch: 61, loss: 0.027989238188527287\n",
      "epoch: 62, loss: 0.028029480194190107\n",
      "epoch: 63, loss: 0.02796253645208091\n",
      "epoch: 64, loss: 0.027781194714888078\n",
      "epoch: 65, loss: 0.02760423339217314\n",
      "epoch: 66, loss: 0.02758110943956576\n",
      "epoch: 67, loss: 0.02741180850067715\n",
      "epoch: 68, loss: 0.02725104770680781\n",
      "epoch: 69, loss: 0.02712534325531032\n",
      "epoch: 70, loss: 0.027001816012840716\n",
      "epoch: 71, loss: 0.026873807875450514\n",
      "epoch: 72, loss: 0.026701852269600902\n",
      "epoch: 73, loss: 0.026584013805221306\n",
      "epoch: 74, loss: 0.026439961973259013\n",
      "epoch: 75, loss: 0.02632203254450535\n",
      "epoch: 76, loss: 0.0261414565415951\n",
      "epoch: 77, loss: 0.02599889735003778\n",
      "epoch: 78, loss: 0.025850258215050433\n",
      "epoch: 79, loss: 0.025697524657489694\n",
      "epoch: 80, loss: 0.02558385811857016\n",
      "epoch: 81, loss: 0.025465537935659907\n",
      "epoch: 82, loss: 0.02537171927927909\n",
      "epoch: 83, loss: 0.02527992922554635\n",
      "epoch: 84, loss: 0.02521929572466083\n",
      "epoch: 85, loss: 0.02517640457187432\n",
      "epoch: 86, loss: 0.025156517963885346\n",
      "epoch: 87, loss: 0.025157057187698995\n",
      "epoch: 88, loss: 0.025155103201583092\n",
      "epoch: 89, loss: 0.0251734772862162\n",
      "epoch: 90, loss: 0.02518599681674429\n",
      "epoch: 91, loss: 0.02518669964344183\n",
      "epoch: 92, loss: 0.0251829975437238\n",
      "epoch: 93, loss: 0.02516550846444281\n",
      "epoch: 94, loss: 0.025140043121628892\n",
      "epoch: 95, loss: 0.025106005053710058\n",
      "epoch: 96, loss: 0.02507244743889186\n",
      "epoch: 97, loss: 0.02504525996545134\n",
      "epoch: 98, loss: 0.02502793536565941\n",
      "epoch: 99, loss: 0.02505018411003209\n",
      "epoch: 100, loss: 0.02512213100249396\n"
     ]
    }
   ],
   "source": [
    "np.random.seed(42)\n",
    "hybrid_list = []\n",
    "for i in range(10):\n",
    "    layer1 = Dense(n_features = 30, \n",
    "                   n_targets = 4,\n",
    "                   activation = Tanh(),\n",
    "                   scale=np.pi)\n",
    "\n",
    "    layer2 = QLayer(n_qubits = 4,\n",
    "                    n_features = 4, \n",
    "                    n_targets = 4, \n",
    "                    encoder = Encoder(), \n",
    "                    ansatz = Ansatz(blocks = [\"entangle\", \"ry\"], reps=2),\n",
    "                    sampler=Parity(),\n",
    "                    shots=0)\n",
    "\n",
    "    layer3 = QLayer(n_qubits = 4,\n",
    "                    n_features = 4, \n",
    "                    n_targets = 1, \n",
    "                    encoder = Encoder(), \n",
    "                    ansatz = Ansatz(blocks = [\"entangle\", \"ry\"], reps=2),\n",
    "                    sampler=Parity(),\n",
    "                    shots=0)\n",
    "\n",
    "    layers = [layer1, layer2, layer3]\n",
    "    hybrid = NeuralNetwork(layers)\n",
    "    \n",
    "    hybrid_list.append([hybrid, x_train, y_train, x_test, y_test, False])\n",
    "\n",
    "hybrid_list[0][5] = True    \n",
    "    \n",
    "with mp.Pool(10) as p:\n",
    "    hybrid_list = p.map(parallel, hybrid_list)     \n",
    "    \n",
    "saver(hybrid_list, data_path(\"cancer_hybrid\"))"
   ]
  },
  {
   "cell_type": "code",
   "execution_count": 24,
   "metadata": {},
   "outputs": [
    {
     "data": {
      "application/vnd.jupyter.widget-view+json": {
       "model_id": "b44ec2c0aabb4a6c9d821059622536e2",
       "version_major": 2,
       "version_minor": 0
      },
      "text/plain": [
       "  0%|          | 0/10 [00:00<?, ?it/s]"
      ]
     },
     "metadata": {},
     "output_type": "display_data"
    }
   ],
   "source": [
    "np.random.seed(42)\n",
    "\n",
    "dnn_list = []\n",
    "for i in tqdm(range(10)):\n",
    "    dnn = sequential_dnn(dim = [30, 5, 5, 1], activation=[Tanh(), Tanh(), Sigmoid()])\n",
    "    dnn.train(x_train, y_train, x_test=x_test, y_test=y_test, epochs = 100)\n",
    "    dnn_list.append(dnn)\n",
    "    \n",
    "saver(dnn_list, data_path(\"cancer_dnn_full\"))"
   ]
  },
  {
   "cell_type": "markdown",
   "metadata": {},
   "source": [
    "### Accuracy"
   ]
  },
  {
   "cell_type": "code",
   "execution_count": 34,
   "metadata": {},
   "outputs": [],
   "source": [
    "hybrid_list = loader(data_path(\"cancer_hybrid\"))\n",
    "dnn_full_list = loader(data_path(\"cancer_dnn_full\"))\n",
    "\n",
    "acc_hybrid = 0\n",
    "acc_dnn_full = 0\n",
    "\n",
    "for model in hybrid_list:\n",
    "    y_pred = model.predict(x_test)\n",
    "    acc_hybrid += accuracy(y_pred, y_test)\n",
    "\n",
    "acc_hybrid /= len(hybrid_list) \n",
    "    \n",
    "for model in dnn_full_list:\n",
    "    y_pred = model.predict(x_test)\n",
    "    acc_dnn_full += accuracy(y_pred, y_test)\n",
    "    \n",
    "acc_dnn_full /= len(dnn_full_list)"
   ]
  },
  {
   "cell_type": "code",
   "execution_count": 35,
   "metadata": {},
   "outputs": [
    {
     "name": "stdout",
     "output_type": "stream",
     "text": [
      "Hybrid test acc: 0.875\n",
      "DNN all features test acc: 0.954\n"
     ]
    }
   ],
   "source": [
    "print(f\"Hybrid test acc: {acc_hybrid:.3f}\")\n",
    "print(f\"DNN all features test acc: {acc_dnn_full:.3f}\")"
   ]
  },
  {
   "cell_type": "code",
   "execution_count": null,
   "metadata": {},
   "outputs": [],
   "source": []
  }
 ],
 "metadata": {
  "kernelspec": {
   "display_name": "env_qiskit",
   "language": "python",
   "name": "env_qiskit"
  },
  "language_info": {
   "codemirror_mode": {
    "name": "ipython",
    "version": 3
   },
   "file_extension": ".py",
   "mimetype": "text/x-python",
   "name": "python",
   "nbconvert_exporter": "python",
   "pygments_lexer": "ipython3",
   "version": "3.9.1"
  }
 },
 "nbformat": 4,
 "nbformat_minor": 4
}
