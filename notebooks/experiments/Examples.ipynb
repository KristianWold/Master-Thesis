{
 "cells": [
  {
   "cell_type": "code",
   "execution_count": 11,
   "metadata": {},
   "outputs": [
    {
     "name": "stdout",
     "output_type": "stream",
     "text": [
      "[[5.19619425 4.29769875]\n",
      " [3.84530941 2.14256619]\n",
      " [3.08504399 2.19283167]\n",
      " [4.09663682 2.58867235]]\n"
     ]
    }
   ],
   "source": [
    "import sys\n",
    "sys.path.insert(0, '../../src/')\n",
    "import numpy as np\n",
    "\n",
    "import qiskit as qk\n",
    "from layers import QLayer\n",
    "from data_encoders import Encoder\n",
    "from ansatzes import Ansatz\n",
    "from samplers import Parity\n",
    "backend = qk.Aer.get_backend(\"qasm_simulator\")\n",
    "\n",
    "x = np.random.normal(0, 1, (4,3))\n",
    "\n",
    "np.random.seed(42)\n",
    "qlayer = QLayer(n_qubits = 3,\n",
    "                n_features = 3,\n",
    "                n_targets = 2,\n",
    "                scale = 2*np.pi,\n",
    "                encoder = Encoder(),\n",
    "                ansatz = Ansatz(blocks=[\"entangle\", \"ry\"],\n",
    "                                reps = 2),\n",
    "                sampler = Parity(),\n",
    "                backend = backend,\n",
    "                shots=1000)\n",
    "\n",
    "y_pred = qlayer(x)\n",
    "print(y_pred)"
   ]
  },
  {
   "cell_type": "code",
   "execution_count": null,
   "metadata": {},
   "outputs": [],
   "source": []
  }
 ],
 "metadata": {
  "kernelspec": {
   "display_name": "env_qiskit",
   "language": "python",
   "name": "env_qiskit"
  },
  "language_info": {
   "codemirror_mode": {
    "name": "ipython",
    "version": 3
   },
   "file_extension": ".py",
   "mimetype": "text/x-python",
   "name": "python",
   "nbconvert_exporter": "python",
   "pygments_lexer": "ipython3",
   "version": "3.9.1"
  }
 },
 "nbformat": 4,
 "nbformat_minor": 4
}
