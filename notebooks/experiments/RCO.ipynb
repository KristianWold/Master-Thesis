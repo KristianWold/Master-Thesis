{
 "cells": [
  {
   "cell_type": "code",
   "execution_count": 1,
   "metadata": {},
   "outputs": [],
   "source": [
    "import numpy as np\n",
    "import qiskit as qk\n",
    "import matplotlib.pyplot as plt\n",
    "from qiskit import Aer\n",
    "from tqdm.notebook import tqdm\n",
    "\n",
    "import sys\n",
    "sys.path.insert(0, '../../src/')\n",
    "from neuralnetwork import *\n",
    "from analysis import *\n",
    "from utils import *\n",
    "from rco import *\n",
    "from qiskit.circuit.random import random_circuit\n",
    "\n",
    "#%matplotlib notebook\n",
    "%matplotlib inline\n",
    "%load_ext autoreload\n",
    "%autoreload 2\n",
    "\n",
    "np.set_printoptions(precision=4)"
   ]
  },
  {
   "cell_type": "code",
   "execution_count": 2,
   "metadata": {},
   "outputs": [],
   "source": [
    "np.random.seed(42)\n",
    "\n",
    "n_qubits = 4\n",
    "depth = 20\n",
    "circuit = random_circuit(n_qubits, depth)"
   ]
  },
  {
   "cell_type": "code",
   "execution_count": 6,
   "metadata": {},
   "outputs": [],
   "source": [
    "np.random.seed(42)\n",
    "rco1 = RCO(ansatz = Ansatz(reps = 4), \n",
    "           sampler = AverageBit(), \n",
    "           optimizer = Adam(lr=0.1),\n",
    "           divisor = 5, \n",
    "           shots = 100000,\n",
    "           tol = 1e-3,\n",
    "           warm_start=True)"
   ]
  },
  {
   "cell_type": "code",
   "execution_count": null,
   "metadata": {},
   "outputs": [
    {
     "name": "stdout",
     "output_type": "stream",
     "text": [
      "0/5 iterations\n",
      "1: 0.3621675\n",
      "2: 0.301005\n",
      "3: 0.2591075\n",
      "4: 0.2315825\n",
      "5: 0.21272\n",
      "6: 0.1924025\n",
      "7: 0.16812\n",
      "8: 0.136845\n",
      "9: 0.1004475\n",
      "10: 0.068845\n",
      "11: 0.0446\n",
      "12: 0.03275\n",
      "13: 0.028855\n",
      "14: 0.02704\n",
      "15: 0.0258775\n",
      "16: 0.02041\n",
      "17: 0.0158075\n",
      "18: 0.01374\n",
      "19: 0.012355\n",
      "20: 0.0123375\n",
      "21: 0.0119025\n",
      "22: 0.010475\n",
      "23: 0.0093975\n",
      "24: 0.008825\n",
      "25: 0.0071225\n",
      "26: 0.0054225\n",
      "27: 0.00423\n",
      "28: 0.0041475\n",
      "29: 0.0047475\n",
      "30: 0.005555\n",
      "31: 0.0056475\n",
      "32: 0.005135\n",
      "33: 0.0037\n",
      "34: 0.0023375\n",
      "35: 0.0019975\n",
      "36: 0.002105\n",
      "37: 0.002565\n",
      "38: 0.00273\n",
      "39: 0.002475\n",
      "40: 0.0020375\n",
      "41: 0.0020375\n",
      "42: 0.0019625\n",
      "43: 0.001855\n",
      "44: 0.001685\n",
      "45: 0.0016225\n",
      "46: 0.00132\n",
      "47: 0.0013575\n",
      "48: 0.00106\n",
      "49: 0.0009325\n",
      "50: 0.0009325\n",
      "1/5 iterations\n",
      "1: 0.3307875\n",
      "2: 0.26779\n",
      "3: 0.217315\n",
      "4: 0.177095\n",
      "5: 0.1517175\n",
      "6: 0.1382475\n",
      "7: 0.12827\n",
      "8: 0.119075\n",
      "9: 0.1112275\n",
      "10: 0.1063375\n",
      "11: 0.0968275\n",
      "12: 0.085495\n",
      "13: 0.070355\n",
      "14: 0.05835\n",
      "15: 0.0487125\n",
      "16: 0.041345\n",
      "17: 0.03491\n",
      "18: 0.0298075\n",
      "19: 0.026215\n",
      "20: 0.0251375\n",
      "21: 0.0227125\n",
      "22: 0.02009\n",
      "23: 0.0180475\n",
      "24: 0.01628\n",
      "25: 0.0133475\n",
      "26: 0.01166\n",
      "27: 0.009885\n",
      "28: 0.008055\n",
      "29: 0.006955\n",
      "30: 0.00617\n",
      "31: 0.0053825\n",
      "32: 0.0054375\n",
      "33: 0.005215\n",
      "34: 0.00504\n",
      "35: 0.0045925\n",
      "36: 0.00415\n"
     ]
    }
   ],
   "source": [
    "np.random.seed(42)\n",
    "rco1.fit(circuit)"
   ]
  },
  {
   "cell_type": "code",
   "execution_count": null,
   "metadata": {},
   "outputs": [],
   "source": [
    "print(rco1.params)\n",
    "rco1.predict(circuit)"
   ]
  },
  {
   "cell_type": "code",
   "execution_count": null,
   "metadata": {},
   "outputs": [],
   "source": [
    "rco2 = RCO(ansatz = Ansatz(reps = 4), \n",
    "           sampler = ZeroBit(), \n",
    "           optimizer = Adam(lr=0.1),\n",
    "           divisor = 5, \n",
    "           shots = 100000,\n",
    "           tol = 1e-3,\n",
    "           warm_start=True)"
   ]
  },
  {
   "cell_type": "code",
   "execution_count": null,
   "metadata": {},
   "outputs": [],
   "source": [
    "np.random.seed(42)\n",
    "rco2.fit(circuit)"
   ]
  },
  {
   "cell_type": "code",
   "execution_count": null,
   "metadata": {},
   "outputs": [],
   "source": []
  }
 ],
 "metadata": {
  "kernelspec": {
   "display_name": "env_qiskit",
   "language": "python",
   "name": "env_qiskit"
  },
  "language_info": {
   "codemirror_mode": {
    "name": "ipython",
    "version": 3
   },
   "file_extension": ".py",
   "mimetype": "text/x-python",
   "name": "python",
   "nbconvert_exporter": "python",
   "pygments_lexer": "ipython3",
   "version": "3.9.1"
  }
 },
 "nbformat": 4,
 "nbformat_minor": 4
}
