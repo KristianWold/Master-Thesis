{
 "cells": [
  {
   "cell_type": "code",
   "execution_count": null,
   "metadata": {},
   "outputs": [],
   "source": [
    "import numpy as np\n",
    "import qiskit as qk\n",
    "import matplotlib.pyplot as plt\n",
    "from qiskit import Aer\n",
    "from qiskit.circuit.random import random_circuit\n",
    "from tqdm.notebook import tqdm\n",
    "\n",
    "import sys\n",
    "sys.path.insert(0, '../../src/')\n",
    "from neuralnetwork import *\n",
    "from analysis import *\n",
    "from utils import *\n",
    "from rco import *\n",
    "from data_encoders import *\n",
    "\n",
    "\n",
    "#%matplotlib notebook\n",
    "%matplotlib inline\n",
    "%load_ext autoreload\n",
    "%autoreload 2\n",
    "\n",
    "np.set_printoptions(precision=4)"
   ]
  },
  {
   "cell_type": "markdown",
   "metadata": {},
   "source": [
    "### Fitting Random Circuits"
   ]
  },
  {
   "cell_type": "code",
   "execution_count": null,
   "metadata": {},
   "outputs": [],
   "source": [
    "np.random.seed(42)\n",
    "\n",
    "n_qubits = 4\n",
    "depth = 20\n",
    "circuit = random_circuit(n_qubits, depth)"
   ]
  },
  {
   "cell_type": "code",
   "execution_count": null,
   "metadata": {},
   "outputs": [],
   "source": [
    "np.random.seed(42)\n",
    "rco1 = RCO(ansatz = Ansatz(blocks = [\"entangle\", \"ry\", \"rz\"], reps = 4), \n",
    "           sampler = AverageBit(), \n",
    "           optimizer = Adam(lr=0.1),\n",
    "           divisor = 5, \n",
    "           shots = 100000,\n",
    "           tol = 1e-3,\n",
    "           warm_start=True)"
   ]
  },
  {
   "cell_type": "code",
   "execution_count": null,
   "metadata": {},
   "outputs": [],
   "source": [
    "np.random.seed(42)\n",
    "rco1.fit(circuit)"
   ]
  },
  {
   "cell_type": "code",
   "execution_count": null,
   "metadata": {},
   "outputs": [],
   "source": [
    "rco1.predict(circuit)"
   ]
  },
  {
   "cell_type": "code",
   "execution_count": null,
   "metadata": {},
   "outputs": [],
   "source": [
    "rco2 = RCO(ansatz = Ansatz(reps = 4), \n",
    "           sampler = ZeroBit(), \n",
    "           optimizer = Adam(lr=0.1),\n",
    "           divisor = 5, \n",
    "           shots = 100000,\n",
    "           tol = 1e-3,\n",
    "           warm_start=True)"
   ]
  },
  {
   "cell_type": "code",
   "execution_count": null,
   "metadata": {},
   "outputs": [],
   "source": [
    "np.random.seed(42)\n",
    "rco2.fit(circuit)"
   ]
  },
  {
   "cell_type": "code",
   "execution_count": null,
   "metadata": {},
   "outputs": [],
   "source": [
    "rco2.predict(circuit)"
   ]
  },
  {
   "cell_type": "markdown",
   "metadata": {},
   "source": [
    "### Fitting Amplitude Encoding"
   ]
  },
  {
   "cell_type": "code",
   "execution_count": null,
   "metadata": {},
   "outputs": [],
   "source": [
    "np.random.seed(42)\n",
    "x = np.random.normal(0, 1, (16))\n",
    "x = x/np.sqrt(np.sum(x**2))\n",
    "\n",
    "storage = qk.QuantumRegister(4)\n",
    "circuit = qk.QuantumCircuit(storage)\n",
    "circuit = amplitude_encoding(x, circuit, storage)\n",
    "print(len(circuit))"
   ]
  },
  {
   "cell_type": "code",
   "execution_count": null,
   "metadata": {},
   "outputs": [],
   "source": [
    "np.random.seed(42)\n",
    "rco_amplitude_encoder1 = RCO(ansatz = Ansatz(blocks = [\"entangle\", \"ry\", \"rz\"], reps = 4), \n",
    "                       sampler = AverageBit(), \n",
    "                       optimizer = Adam(lr=0.1),\n",
    "                       divisor = 1, \n",
    "                       shots = 100000,\n",
    "                       tol = 1e-3,\n",
    "                       warm_start=True)"
   ]
  },
  {
   "cell_type": "code",
   "execution_count": null,
   "metadata": {},
   "outputs": [],
   "source": [
    "rco_amplitude_encoder1.fit(circuit)"
   ]
  },
  {
   "cell_type": "code",
   "execution_count": null,
   "metadata": {},
   "outputs": [],
   "source": [
    "np.random.seed(42)\n",
    "rco_amplitude_encoder2 = RCO(ansatz = Ansatz(blocks = [\"entangle\", \"ry\", \"rz\"], reps = 4), \n",
    "                       sampler = AverageBit(), \n",
    "                       optimizer = Adam(lr=0.1),\n",
    "                       divisor = 5, \n",
    "                       shots = 100000,\n",
    "                       tol = 1e-3,\n",
    "                       warm_start=False)"
   ]
  },
  {
   "cell_type": "code",
   "execution_count": null,
   "metadata": {},
   "outputs": [],
   "source": [
    "rco_amplitude_encoder2.fit(circuit)"
   ]
  }
 ],
 "metadata": {
  "kernelspec": {
   "display_name": "env_qiskit",
   "language": "python",
   "name": "env_qiskit"
  },
  "language_info": {
   "codemirror_mode": {
    "name": "ipython",
    "version": 3
   },
   "file_extension": ".py",
   "mimetype": "text/x-python",
   "name": "python",
   "nbconvert_exporter": "python",
   "pygments_lexer": "ipython3",
   "version": "3.9.1"
  }
 },
 "nbformat": 4,
 "nbformat_minor": 4
}
