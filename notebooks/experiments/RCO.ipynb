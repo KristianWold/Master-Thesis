{
 "cells": [
  {
   "cell_type": "code",
   "execution_count": 21,
   "metadata": {},
   "outputs": [
    {
     "name": "stdout",
     "output_type": "stream",
     "text": [
      "The autoreload extension is already loaded. To reload it, use:\n",
      "  %reload_ext autoreload\n"
     ]
    }
   ],
   "source": [
    "import numpy as np\n",
    "import qiskit as qk\n",
    "import matplotlib.pyplot as plt\n",
    "from qiskit import Aer\n",
    "from tqdm.notebook import tqdm\n",
    "\n",
    "import sys\n",
    "sys.path.insert(0, '../../src/')\n",
    "from neuralnetwork import *\n",
    "from analysis import *\n",
    "from utils import *\n",
    "from rco import *\n",
    "from qiskit.circuit.random import random_circuit\n",
    "\n",
    "#%matplotlib notebook\n",
    "%matplotlib inline\n",
    "%load_ext autoreload\n",
    "%autoreload 2"
   ]
  },
  {
   "cell_type": "code",
   "execution_count": 22,
   "metadata": {},
   "outputs": [],
   "source": [
    "backend = Aer.get_backend('qasm_simulator')"
   ]
  },
  {
   "cell_type": "code",
   "execution_count": 14,
   "metadata": {},
   "outputs": [
    {
     "name": "stdout",
     "output_type": "stream",
     "text": [
      "     ┌───┐┌───────────────────────────┐┌───┐┌───┐                        »\n",
      "q_0: ┤ X ├┤ U3(4.2136,0.76276,5.1861) ├┤ H ├┤ X ├─────────────────────■──»\n",
      "     └─┬─┘└──────────┬─────┬──────────┘├───┤└───┘     ┌────────────┐  │  »\n",
      "q_1: ──┼─────────────┤ TDG ├───────────┤ X ├──■────■──┤ U1(2.8022) ├──┼──»\n",
      "       │             └┬───┬┘           └───┘┌─┴─┐  │  ├────────────┤  │  »\n",
      "q_2: ──■──────────────┤ T ├─────────────────┤ X ├──┼──┤ RX(5.2685) ├──■──»\n",
      "       │             ┌┴───┴┐                └─┬─┘┌─┴─┐└────────────┘┌─┴─┐»\n",
      "q_3: ──■─────────────┤ SDG ├──────────────────■──┤ Y ├──────────────┤ X ├»\n",
      "                     └─────┘                     └───┘              └───┘»\n",
      "«     ┌─────┐      ┌───────────────────┐                                ┌───┐»\n",
      "«q_0: ┤ SDG ├─X────┤ U2(3.9184,4.7393) ├────────────────────────────────┤ X ├»\n",
      "«     └─────┘ │    └───┬───────────┬───┘   ┌───────────────────────────┐└─┬─┘»\n",
      "«q_1: ───X────┼────────┤ RY(2.018) ├───────┤ U3(2.6267,3.9081,0.88396) ├──■──»\n",
      "«        │    │        └───────────┘       └─────────────┬─────────────┘  │  »\n",
      "«q_2: ───X────X──────────────────────────────────────────■────────────────■──»\n",
      "«        │    │ ┌─────────────────────────┐           ┌─────┐                »\n",
      "«q_3: ───■────■─┤ U3(1.253,3.6201,3.2965) ├───────────┤ TDG ├────────────────»\n",
      "«               └─────────────────────────┘           └─────┘                »\n",
      "«                      \n",
      "«q_0: ─X───────────────\n",
      "«      │     ┌───┐     \n",
      "«q_1: ─┼─────┤ S ├─────\n",
      "«      │ ┌───┴───┴────┐\n",
      "«q_2: ─┼─┤ RY(5.4517) ├\n",
      "«      │ └────────────┘\n",
      "«q_3: ─X───────────────\n",
      "«                      \n",
      "25\n"
     ]
    }
   ],
   "source": [
    "np.random.seed(42)\n",
    "\n",
    "n_qubits = 4\n",
    "depth = 10\n",
    "circuit = random_circuit(n_qubits,depth)\n",
    "print(circuit)\n",
    "print(len(circuit))"
   ]
  },
  {
   "cell_type": "code",
   "execution_count": 12,
   "metadata": {},
   "outputs": [],
   "source": [
    "rco = RCO(ansatz = Ansatz(), \n",
    "          sampler = AverageBit(), \n",
    "          optimizer = Adam(lr=0.1),\n",
    "          divisor=5)"
   ]
  },
  {
   "cell_type": "code",
   "execution_count": 25,
   "metadata": {},
   "outputs": [
    {
     "name": "stdout",
     "output_type": "stream",
     "text": [
      "4\n"
     ]
    }
   ],
   "source": [
    "print(circuit.num_qubits)"
   ]
  },
  {
   "cell_type": "code",
   "execution_count": null,
   "metadata": {},
   "outputs": [],
   "source": []
  }
 ],
 "metadata": {
  "kernelspec": {
   "display_name": "env_qiskit",
   "language": "python",
   "name": "env_qiskit"
  },
  "language_info": {
   "codemirror_mode": {
    "name": "ipython",
    "version": 3
   },
   "file_extension": ".py",
   "mimetype": "text/x-python",
   "name": "python",
   "nbconvert_exporter": "python",
   "pygments_lexer": "ipython3",
   "version": "3.9.1"
  }
 },
 "nbformat": 4,
 "nbformat_minor": 4
}
