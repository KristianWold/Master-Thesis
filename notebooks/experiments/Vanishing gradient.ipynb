{
 "cells": [
  {
   "cell_type": "code",
   "execution_count": 7,
   "metadata": {},
   "outputs": [
    {
     "name": "stdout",
     "output_type": "stream",
     "text": [
      "The autoreload extension is already loaded. To reload it, use:\n",
      "  %reload_ext autoreload\n"
     ]
    }
   ],
   "source": [
    "import numpy as np\n",
    "import qiskit as qk\n",
    "import matplotlib.pyplot as plt\n",
    "from qiskit import Aer\n",
    "from tqdm.notebook import tqdm\n",
    "from multiprocessing import Pool\n",
    "\n",
    "\n",
    "import sys\n",
    "sys.path.insert(0, '../../src/')\n",
    "from neuralnetwork import *\n",
    "from costfunction import *\n",
    "\n",
    "#%matplotlib notebook\n",
    "%matplotlib inline\n",
    "%load_ext autoreload\n",
    "%autoreload 2\n",
    "np.set_printoptions(precision=3)"
   ]
  },
  {
   "cell_type": "markdown",
   "metadata": {},
   "source": [
    "# Vanishing Gradient, Data Generation"
   ]
  },
  {
   "cell_type": "code",
   "execution_count": 8,
   "metadata": {},
   "outputs": [],
   "source": [
    "np.random.seed(42)\n",
    "x = np.random.uniform(0, 1, (100, 10))\n",
    "x_qnn = scaler(x, a=-np.pi/2, b=np.pi/2)\n",
    "x_dnn = scaler(x, mode=\"standard\")\n",
    "\n",
    "n = 10\n",
    "d = 8\n",
    "\n",
    "def parallel(model):\n",
    "    model.backward(x_qnn[:,:model.n_inputs])\n",
    "    return model"
   ]
  },
  {
   "cell_type": "markdown",
   "metadata": {},
   "source": [
    "## QNN"
   ]
  },
  {
   "cell_type": "code",
   "execution_count": 9,
   "metadata": {},
   "outputs": [],
   "source": [
    "np.random.seed(42)\n",
    "models = []\n",
    "\n",
    "for n_qubits in [4, 6, 8, 10, 12]:\n",
    "    for reps in [1, 2, 5, 10, 20]:\n",
    "        qnn = sequential_qnn(n_qubits = [n_qubits],\n",
    "                             dim = [n_qubits, 1],\n",
    "                             encoder = Encoder(),\n",
    "                             ansatz = Ansatz(blocks=[\"entangle\", \"ry\"], reps=reps),\n",
    "                             sampler = Parity(),\n",
    "                             cost = NoCost(),\n",
    "                             shots = 0)\n",
    "        models.append(qnn)\n",
    "        \n",
    "with Pool(n) as p:\n",
    "    models = p.map(parallel, models) \n",
    "\n",
    "saver(models, data_path(\"vanishing_grad_QNN\"))"
   ]
  },
  {
   "cell_type": "markdown",
   "metadata": {},
   "source": [
    "## QCN"
   ]
  },
  {
   "cell_type": "markdown",
   "metadata": {},
   "source": [
    "### 4 Qubits"
   ]
  },
  {
   "cell_type": "code",
   "execution_count": null,
   "metadata": {},
   "outputs": [],
   "source": [
    "np.random.seed(42)\n",
    "models = []\n",
    "n_qubits = 4\n",
    "\n",
    "for i in range(n):\n",
    "    network = sequential_qnn(n_qubits = d*[n_qubits],\n",
    "                             dim = d*[n_qubits] + [n_qubits],\n",
    "                             scale = (d+1)*[[-np.pi, np.pi]],\n",
    "                             encoder = Encoder(),\n",
    "                             ansatz = Ansatz(blocks=[\"entangle\", \"ry\"], reps=2),\n",
    "                             sampler = Parity(),\n",
    "                             cost = NoCost(),\n",
    "                             optimizer = Adam(lr=0.1),\n",
    "                             shots = 0)\n",
    "\n",
    "    models.append(network)\n",
    "\n",
    "\n",
    "with Pool(n) as p:\n",
    "        models = p.map(parallel, models) \n",
    "\n",
    "saver(models, data_path(\"vanishing_grad_width_4_reps_2\"))"
   ]
  },
  {
   "cell_type": "markdown",
   "metadata": {},
   "source": [
    "### 5 Qubits"
   ]
  },
  {
   "cell_type": "code",
   "execution_count": null,
   "metadata": {},
   "outputs": [],
   "source": [
    "np.random.seed(42)\n",
    "models = []\n",
    "n_qubits = 5\n",
    "\n",
    "for i in range(n):\n",
    "    network = sequential_qnn(n_qubits = d*[n_qubits],\n",
    "                             dim = d*[n_qubits] + [n_qubits],\n",
    "                             scale = (d+1)*[[-np.pi, np.pi]],\n",
    "                             encoder = Encoder(),\n",
    "                             ansatz = Ansatz(blocks=[\"entangle\", \"ry\"], reps=2),\n",
    "                             sampler = Parity(),\n",
    "                             cost = NoCost(),\n",
    "                             optimizer = Adam(lr=0.1),\n",
    "                             shots = 0)\n",
    "\n",
    "    models.append(network)\n",
    "\n",
    "with Pool(n) as p:\n",
    "        models = p.map(parallel, models) \n",
    "\n",
    "saver(models, data_path(\"vanishing_grad_width_5_reps_2\"))"
   ]
  },
  {
   "cell_type": "markdown",
   "metadata": {},
   "source": [
    "### 6 Qubits"
   ]
  },
  {
   "cell_type": "code",
   "execution_count": null,
   "metadata": {},
   "outputs": [],
   "source": [
    "np.random.seed(42)\n",
    "models = []\n",
    "n_qubits = 6\n",
    "\n",
    "for i in range(n):\n",
    "    network = sequential_qnn(n_qubits = d*[n_qubits],\n",
    "                             dim = d*[n_qubits] + [n_qubits],\n",
    "                             scale = (d+1)*[[-np.pi, np.pi]],\n",
    "                             encoder = Encoder(),\n",
    "                             ansatz = Ansatz(blocks=[\"entangle\", \"ry\"], reps=2),\n",
    "                             sampler = Parity(),\n",
    "                             cost = NoCost(),\n",
    "                             optimizer = Adam(lr=0.1),\n",
    "                             shots = 0)\n",
    "\n",
    "    models.append(network)\n",
    "\n",
    "with Pool(n) as p:\n",
    "        models = p.map(parallel, models) \n",
    "\n",
    "saver(models, data_path(\"vanishing_grad_width_6_reps_2\"))"
   ]
  },
  {
   "cell_type": "markdown",
   "metadata": {},
   "source": [
    "### 7 Qubits"
   ]
  },
  {
   "cell_type": "code",
   "execution_count": null,
   "metadata": {},
   "outputs": [],
   "source": [
    "np.random.seed(42)\n",
    "models = []\n",
    "n_qubits = 7\n",
    "\n",
    "for i in range(n):\n",
    "    network = sequential_qnn(n_qubits = d*[n_qubits],\n",
    "                             dim = d*[n_qubits] + [n_qubits],\n",
    "                             scale = (d+1)*[[-np.pi, np.pi]],\n",
    "                             encoder = Encoder(),\n",
    "                             ansatz = Ansatz(blocks=[\"entangle\", \"ry\"], reps=2),\n",
    "                             sampler = Parity(),\n",
    "                             cost = NoCost(),\n",
    "                             optimizer = Adam(lr=0.1),\n",
    "                             shots = 0)\n",
    "\n",
    "    models.append(network)\n",
    "\n",
    "with Pool(n) as p:\n",
    "        models = p.map(parallel, models) \n",
    "\n",
    "saver(models, data_path(\"vanishing_grad_width_7_reps_2\"))"
   ]
  },
  {
   "cell_type": "markdown",
   "metadata": {},
   "source": [
    "### 8 Qubits"
   ]
  },
  {
   "cell_type": "code",
   "execution_count": null,
   "metadata": {},
   "outputs": [],
   "source": [
    "np.random.seed(42)\n",
    "models = []\n",
    "n_qubits = 8\n",
    "\n",
    "for i in range(n):\n",
    "    network = sequential_qnn(n_qubits = d*[n_qubits],\n",
    "                             dim = d*[n_qubits] + [n_qubits],\n",
    "                             scale = (d+1)*[[-np.pi, np.pi]],\n",
    "                             encoder = Encoder(),\n",
    "                             ansatz = Ansatz(blocks=[\"entangle\", \"ry\"], reps=2),\n",
    "                             sampler = Parity(),\n",
    "                             cost = NoCost(),\n",
    "                             optimizer = Adam(lr=0.1),\n",
    "                             shots = 0)\n",
    "\n",
    "    models.append(network)\n",
    "\n",
    "with Pool(n) as p:\n",
    "        models = p.map(parallel, models) \n",
    "\n",
    "saver(models, data_path(\"vanishing_grad_width_8_reps_2\"))"
   ]
  },
  {
   "cell_type": "markdown",
   "metadata": {},
   "source": [
    "## Classical Neural Network"
   ]
  },
  {
   "cell_type": "code",
   "execution_count": null,
   "metadata": {},
   "outputs": [],
   "source": [
    "np.random.seed(42)\n",
    "grad_average = np.zeros((n, d))\n",
    "\n",
    "models = []\n",
    "\n",
    "for i in tqdm(range(n)):\n",
    "    network = sequential_dnn(dim=d*[5] + [5], cost=NoCost(), optimizer=Adam(lr=0.1))\n",
    "    \n",
    "    network.backward(x_dnn[:,:5])\n",
    "    models.append(network)\n",
    "\n",
    "saver(models, data_path(\"vanishing_grad_dnn\"))"
   ]
  }
 ],
 "metadata": {
  "kernelspec": {
   "display_name": "env_qiskit",
   "language": "python",
   "name": "env_qiskit"
  },
  "language_info": {
   "codemirror_mode": {
    "name": "ipython",
    "version": 3
   },
   "file_extension": ".py",
   "mimetype": "text/x-python",
   "name": "python",
   "nbconvert_exporter": "python",
   "pygments_lexer": "ipython3",
   "version": "3.9.1"
  }
 },
 "nbformat": 4,
 "nbformat_minor": 4
}
