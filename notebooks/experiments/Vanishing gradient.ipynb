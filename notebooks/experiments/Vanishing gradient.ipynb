{
 "cells": [
  {
   "cell_type": "code",
   "execution_count": 4,
   "metadata": {},
   "outputs": [
    {
     "name": "stdout",
     "output_type": "stream",
     "text": [
      "The autoreload extension is already loaded. To reload it, use:\n",
      "  %reload_ext autoreload\n"
     ]
    }
   ],
   "source": [
    "import numpy as np\n",
    "import qiskit as qk\n",
    "import matplotlib.pyplot as plt\n",
    "from qiskit import Aer\n",
    "from tqdm.notebook import tqdm\n",
    "from multiprocessing import Pool\n",
    "\n",
    "\n",
    "import sys\n",
    "sys.path.insert(0, '../../src/')\n",
    "from neuralnetwork import *\n",
    "from costfunction import *\n",
    "\n",
    "#%matplotlib notebook\n",
    "%matplotlib inline\n",
    "%load_ext autoreload\n",
    "%autoreload 2\n",
    "np.set_printoptions(precision=3)"
   ]
  },
  {
   "cell_type": "markdown",
   "metadata": {},
   "source": [
    "# Vanishing Gradient, Data Generation"
   ]
  },
  {
   "cell_type": "code",
   "execution_count": 5,
   "metadata": {},
   "outputs": [],
   "source": [
    "backend = Aer.get_backend('qasm_simulator')\n",
    "\n",
    "np.random.seed(42)\n",
    "x = np.random.uniform(-np.pi/2, np.pi/2, (100, 20))\n",
    "n = 10\n",
    "d = 8\n",
    "\n",
    "def parallel(model):\n",
    "        model.backward(x[:,:n_qubits])\n",
    "        return model"
   ]
  },
  {
   "cell_type": "markdown",
   "metadata": {},
   "source": [
    "### Parity"
   ]
  },
  {
   "cell_type": "markdown",
   "metadata": {},
   "source": [
    "### 4 Qubits"
   ]
  },
  {
   "cell_type": "code",
   "execution_count": 6,
   "metadata": {},
   "outputs": [
    {
     "name": "stderr",
     "output_type": "stream",
     "text": [
      "Process ForkPoolWorker-34:\n",
      "Process ForkPoolWorker-38:\n",
      "Process ForkPoolWorker-36:\n",
      "Process ForkPoolWorker-31:\n",
      "Process ForkPoolWorker-39:\n",
      "Process ForkPoolWorker-32:\n",
      "Exception ignored in: <Finalize object, dead>\n",
      "Traceback (most recent call last):\n",
      "  File \"/home/kristian/anaconda3/envs/env_qiskit/lib/python3.9/multiprocessing/util.py\", line 224, in __call__\n",
      "    res = self._callback(*self._args, **self._kwargs)\n",
      "  File \"/home/kristian/anaconda3/envs/env_qiskit/lib/python3.9/multiprocessing/pool.py\", line 692, in _terminate_pool\n",
      "    cls._help_stuff_finish(inqueue, task_handler, len(pool))\n",
      "  File \"/home/kristian/anaconda3/envs/env_qiskit/lib/python3.9/multiprocessing/pool.py\", line 672, in _help_stuff_finish\n",
      "    inqueue._rlock.acquire()\n",
      "KeyboardInterrupt: \n",
      "Process ForkPoolWorker-40:\n",
      "Traceback (most recent call last):\n",
      "Process ForkPoolWorker-33:\n",
      "Traceback (most recent call last):\n",
      "Process ForkPoolWorker-35:\n",
      "Traceback (most recent call last):\n",
      "  File \"/home/kristian/anaconda3/envs/env_qiskit/lib/python3.9/multiprocessing/process.py\", line 315, in _bootstrap\n",
      "    self.run()\n",
      "Traceback (most recent call last):\n",
      "Traceback (most recent call last):\n",
      "Traceback (most recent call last):\n",
      "  File \"/home/kristian/anaconda3/envs/env_qiskit/lib/python3.9/multiprocessing/process.py\", line 315, in _bootstrap\n",
      "    self.run()\n",
      "  File \"/home/kristian/anaconda3/envs/env_qiskit/lib/python3.9/multiprocessing/process.py\", line 315, in _bootstrap\n",
      "    self.run()\n",
      "  File \"/home/kristian/anaconda3/envs/env_qiskit/lib/python3.9/multiprocessing/pool.py\", line 114, in worker\n",
      "    task = get()\n",
      "  File \"/home/kristian/anaconda3/envs/env_qiskit/lib/python3.9/multiprocessing/process.py\", line 315, in _bootstrap\n",
      "    self.run()\n",
      "  File \"/home/kristian/anaconda3/envs/env_qiskit/lib/python3.9/multiprocessing/process.py\", line 315, in _bootstrap\n",
      "    self.run()\n",
      "  File \"/home/kristian/anaconda3/envs/env_qiskit/lib/python3.9/multiprocessing/process.py\", line 315, in _bootstrap\n",
      "    self.run()\n",
      "  File \"/home/kristian/anaconda3/envs/env_qiskit/lib/python3.9/multiprocessing/process.py\", line 108, in run\n",
      "    self._target(*self._args, **self._kwargs)\n",
      "Traceback (most recent call last):\n",
      "Traceback (most recent call last):\n",
      "  File \"/home/kristian/anaconda3/envs/env_qiskit/lib/python3.9/multiprocessing/process.py\", line 108, in run\n",
      "    self._target(*self._args, **self._kwargs)\n",
      "Traceback (most recent call last):\n",
      "  File \"/home/kristian/anaconda3/envs/env_qiskit/lib/python3.9/multiprocessing/process.py\", line 108, in run\n",
      "    self._target(*self._args, **self._kwargs)\n",
      "  File \"/home/kristian/anaconda3/envs/env_qiskit/lib/python3.9/multiprocessing/process.py\", line 108, in run\n",
      "    self._target(*self._args, **self._kwargs)\n",
      "  File \"/home/kristian/anaconda3/envs/env_qiskit/lib/python3.9/multiprocessing/process.py\", line 108, in run\n",
      "    self._target(*self._args, **self._kwargs)\n",
      "  File \"/home/kristian/anaconda3/envs/env_qiskit/lib/python3.9/multiprocessing/process.py\", line 108, in run\n",
      "    self._target(*self._args, **self._kwargs)\n",
      "  File \"/home/kristian/anaconda3/envs/env_qiskit/lib/python3.9/multiprocessing/pool.py\", line 114, in worker\n",
      "    task = get()\n",
      "  File \"/home/kristian/anaconda3/envs/env_qiskit/lib/python3.9/multiprocessing/process.py\", line 315, in _bootstrap\n",
      "    self.run()\n",
      "  File \"/home/kristian/anaconda3/envs/env_qiskit/lib/python3.9/multiprocessing/process.py\", line 315, in _bootstrap\n",
      "    self.run()\n",
      "  File \"/home/kristian/anaconda3/envs/env_qiskit/lib/python3.9/multiprocessing/process.py\", line 315, in _bootstrap\n",
      "    self.run()\n",
      "  File \"/home/kristian/anaconda3/envs/env_qiskit/lib/python3.9/multiprocessing/pool.py\", line 114, in worker\n",
      "    task = get()\n",
      "  File \"/home/kristian/anaconda3/envs/env_qiskit/lib/python3.9/multiprocessing/pool.py\", line 114, in worker\n",
      "    task = get()\n",
      "  File \"/home/kristian/anaconda3/envs/env_qiskit/lib/python3.9/multiprocessing/queues.py\", line 365, in get\n",
      "    with self._rlock:\n",
      "  File \"/home/kristian/anaconda3/envs/env_qiskit/lib/python3.9/multiprocessing/queues.py\", line 365, in get\n",
      "    with self._rlock:\n",
      "  File \"/home/kristian/anaconda3/envs/env_qiskit/lib/python3.9/multiprocessing/pool.py\", line 114, in worker\n",
      "    task = get()\n",
      "  File \"/home/kristian/anaconda3/envs/env_qiskit/lib/python3.9/multiprocessing/process.py\", line 108, in run\n",
      "    self._target(*self._args, **self._kwargs)\n",
      "  File \"/home/kristian/anaconda3/envs/env_qiskit/lib/python3.9/multiprocessing/process.py\", line 108, in run\n",
      "    self._target(*self._args, **self._kwargs)\n",
      "  File \"/home/kristian/anaconda3/envs/env_qiskit/lib/python3.9/multiprocessing/pool.py\", line 114, in worker\n",
      "    task = get()\n",
      "  File \"/home/kristian/anaconda3/envs/env_qiskit/lib/python3.9/multiprocessing/process.py\", line 108, in run\n",
      "    self._target(*self._args, **self._kwargs)\n",
      "  File \"/home/kristian/anaconda3/envs/env_qiskit/lib/python3.9/multiprocessing/queues.py\", line 365, in get\n",
      "    with self._rlock:\n",
      "  File \"/home/kristian/anaconda3/envs/env_qiskit/lib/python3.9/multiprocessing/synchronize.py\", line 95, in __enter__\n",
      "    return self._semlock.__enter__()\n",
      "  File \"/home/kristian/anaconda3/envs/env_qiskit/lib/python3.9/multiprocessing/synchronize.py\", line 95, in __enter__\n",
      "    return self._semlock.__enter__()\n",
      "  File \"/home/kristian/anaconda3/envs/env_qiskit/lib/python3.9/multiprocessing/queues.py\", line 366, in get\n",
      "    res = self._reader.recv_bytes()\n",
      "  File \"/home/kristian/anaconda3/envs/env_qiskit/lib/python3.9/multiprocessing/pool.py\", line 114, in worker\n",
      "    task = get()\n",
      "  File \"/home/kristian/anaconda3/envs/env_qiskit/lib/python3.9/multiprocessing/pool.py\", line 114, in worker\n",
      "    task = get()\n",
      "  File \"/home/kristian/anaconda3/envs/env_qiskit/lib/python3.9/multiprocessing/queues.py\", line 365, in get\n",
      "    with self._rlock:\n",
      "KeyboardInterrupt\n",
      "  File \"/home/kristian/anaconda3/envs/env_qiskit/lib/python3.9/multiprocessing/synchronize.py\", line 95, in __enter__\n",
      "    return self._semlock.__enter__()\n",
      "KeyboardInterrupt\n",
      "  File \"/home/kristian/anaconda3/envs/env_qiskit/lib/python3.9/multiprocessing/pool.py\", line 114, in worker\n",
      "    task = get()\n",
      "  File \"/home/kristian/anaconda3/envs/env_qiskit/lib/python3.9/multiprocessing/queues.py\", line 365, in get\n",
      "    with self._rlock:\n",
      "  File \"/home/kristian/anaconda3/envs/env_qiskit/lib/python3.9/multiprocessing/queues.py\", line 365, in get\n",
      "    with self._rlock:\n",
      "KeyboardInterrupt\n",
      "  File \"/home/kristian/anaconda3/envs/env_qiskit/lib/python3.9/multiprocessing/queues.py\", line 365, in get\n",
      "    with self._rlock:\n",
      "  File \"/home/kristian/anaconda3/envs/env_qiskit/lib/python3.9/multiprocessing/synchronize.py\", line 95, in __enter__\n",
      "    return self._semlock.__enter__()\n"
     ]
    }
   ],
   "source": [
    "np.random.seed(42)\n",
    "models = []\n",
    "n_qubits = 4\n",
    "\n",
    "for i in range(n):\n",
    "    network = sequential_qnn(n_qubits = d*[n_qubits],\n",
    "                             dim = d*[n_qubits] + [n_qubits],\n",
    "                             scale = (d+1)*[[-np.pi, np.pi]],\n",
    "                             encoder = Encoder(),\n",
    "                             ansatz = Ansatz(blocks=[\"entangle\", \"ry\"], reps=2),\n",
    "                             sampler = Parity(),\n",
    "                             cost = NoCost(),\n",
    "                             optimizer = Adam(lr=0.1),\n",
    "                             backend = backend,\n",
    "                             shots = 0)\n",
    "\n",
    "    models.append(network)\n",
    "\n",
    "\n",
    "pool = Pool(n) \n",
    "with Pool(n) as p:\n",
    "        models = p.map(parallel, models) \n",
    "\n",
    "saver(models, data_path(\"vanishing_grad_width_4_reps_2\"))"
   ]
  },
  {
   "cell_type": "markdown",
   "metadata": {},
   "source": [
    "### 5 Qubits"
   ]
  },
  {
   "cell_type": "code",
   "execution_count": null,
   "metadata": {},
   "outputs": [],
   "source": [
    "np.random.seed(42)\n",
    "models = []\n",
    "n_qubits = 5\n",
    "\n",
    "for i in range(n):\n",
    "    network = sequential_qnn(n_qubits = d*[n_qubits],\n",
    "                             dim = d*[n_qubits] + [n_qubits],\n",
    "                             scale = (d+1)*[[-np.pi, np.pi]],\n",
    "                             encoder = Encoder(),\n",
    "                             ansatz = Ansatz(blocks=[\"entangle\", \"ry\"], reps=2),\n",
    "                             sampler = Parity(),\n",
    "                             cost = NoCost(),\n",
    "                             optimizer = Adam(lr=0.1),\n",
    "                             backend = backend,\n",
    "                             shots = 0)\n",
    "\n",
    "    models.append(network)\n",
    "\n",
    "pool = Pool(n) \n",
    "with Pool(n) as p:\n",
    "        models = p.map(parallel, models) \n",
    "\n",
    "saver(models, data_path(\"vanishing_grad_width_5_reps_2\"))"
   ]
  },
  {
   "cell_type": "markdown",
   "metadata": {},
   "source": [
    "### 6 Qubits"
   ]
  },
  {
   "cell_type": "code",
   "execution_count": null,
   "metadata": {},
   "outputs": [],
   "source": [
    "np.random.seed(42)\n",
    "models = []\n",
    "n_qubits = 6\n",
    "\n",
    "for i in range(n):\n",
    "    network = sequential_qnn(n_qubits = d*[n_qubits],\n",
    "                             dim = d*[n_qubits] + [n_qubits],\n",
    "                             scale = (d+1)*[[-np.pi, np.pi]],\n",
    "                             encoder = Encoder(),\n",
    "                             ansatz = Ansatz(blocks=[\"entangle\", \"ry\"], reps=2),\n",
    "                             sampler = Parity(),\n",
    "                             cost = NoCost(),\n",
    "                             optimizer = Adam(lr=0.1),\n",
    "                             backend = backend,\n",
    "                             shots = 0)\n",
    "\n",
    "    models.append(network)\n",
    "\n",
    "pool = Pool(n) \n",
    "with Pool(n) as p:\n",
    "        models = p.map(parallel, models) \n",
    "\n",
    "saver(models, data_path(\"vanishing_grad_width_6_reps_2\"))"
   ]
  },
  {
   "cell_type": "markdown",
   "metadata": {},
   "source": [
    "### 7 Qubits"
   ]
  },
  {
   "cell_type": "code",
   "execution_count": null,
   "metadata": {},
   "outputs": [],
   "source": [
    "np.random.seed(42)\n",
    "models = []\n",
    "n_qubits = 7\n",
    "\n",
    "for i in range(n):\n",
    "    network = sequential_qnn(n_qubits = d*[n_qubits],\n",
    "                             dim = d*[n_qubits] + [n_qubits],\n",
    "                             scale = (d+1)*[[-np.pi, np.pi]],\n",
    "                             encoder = Encoder(),\n",
    "                             ansatz = Ansatz(blocks=[\"entangle\", \"ry\"], reps=2),\n",
    "                             sampler = Parity(),\n",
    "                             cost = NoCost(),\n",
    "                             optimizer = Adam(lr=0.1),\n",
    "                             backend = backend,\n",
    "                             shots = 0)\n",
    "\n",
    "    models.append(network)\n",
    "\n",
    "pool = Pool(n) \n",
    "with Pool(n) as p:\n",
    "        models = p.map(parallel, models) \n",
    "\n",
    "saver(models, data_path(\"vanishing_grad_width_7_reps_2\"))"
   ]
  },
  {
   "cell_type": "markdown",
   "metadata": {},
   "source": [
    "### 8 Qubits"
   ]
  },
  {
   "cell_type": "code",
   "execution_count": null,
   "metadata": {},
   "outputs": [],
   "source": [
    "np.random.seed(42)\n",
    "models = []\n",
    "n_qubits = 8\n",
    "\n",
    "for i in range(n):\n",
    "    network = sequential_qnn(n_qubits = d*[n_qubits],\n",
    "                             dim = d*[n_qubits] + [n_qubits],\n",
    "                             scale = (d+1)*[[-np.pi, np.pi]],\n",
    "                             encoder = Encoder(),\n",
    "                             ansatz = Ansatz(blocks=[\"entangle\", \"ry\"], reps=2),\n",
    "                             sampler = Parity(),\n",
    "                             cost = NoCost(),\n",
    "                             optimizer = Adam(lr=0.1),\n",
    "                             backend = backend,\n",
    "                             shots = 0)\n",
    "\n",
    "    models.append(network)\n",
    "\n",
    "pool = Pool(n) \n",
    "with Pool(n) as p:\n",
    "        models = p.map(parallel, models) \n",
    "\n",
    "saver(models, data_path(\"vanishing_grad_width_8_reps_2\"))"
   ]
  },
  {
   "cell_type": "markdown",
   "metadata": {},
   "source": [
    "## Classical Neural Network"
   ]
  },
  {
   "cell_type": "code",
   "execution_count": null,
   "metadata": {},
   "outputs": [],
   "source": [
    "np.random.seed(42)\n",
    "grad_average = np.zeros((n, d))\n",
    "\n",
    "models = []\n",
    "\n",
    "for i in tqdm(range(n)):\n",
    "    network = sequential_dnn(dim=d*[5] + [5], cost=NoCost(), optimizer=Adam(lr=0.1))\n",
    "    \n",
    "    network.backward(x[:,:5])\n",
    "    models.append(network)\n",
    "\n",
    "saver(models, data_path(\"vanishing_grad_dnn\"))"
   ]
  },
  {
   "cell_type": "markdown",
   "metadata": {},
   "source": [
    "#### LastBit"
   ]
  },
  {
   "cell_type": "code",
   "execution_count": null,
   "metadata": {},
   "outputs": [],
   "source": [
    "np.random.seed(42)\n",
    "grad_average = np.zeros((n, d))\n",
    "\n",
    "models = []\n",
    "\n",
    "for i in tqdm(range(n)):\n",
    "    network = sequential_qnn(n_qubits = d*[4],\n",
    "                             dim = d*[4] + [4],\n",
    "                             scale = (d+1)*[[-np.pi, np.pi]],\n",
    "                             encoder = Encoder(),\n",
    "                             ansatz = Ansatz(blocks=[\"entangle\", \"ry\"], reps=2),\n",
    "                             sampler = LastBit(),\n",
    "                             cost = NoCost(),\n",
    "                             optimizer = Adam(lr=0.1),\n",
    "                             backend = backend,\n",
    "                             shots = 100000)\n",
    "    \n",
    "    network.backward(x[:,:4])\n",
    "    models.append(network)\n",
    "    \n",
    "saver(models, data_path(\"vanishing_grad_width_4_reps_2_lastbit\"))"
   ]
  },
  {
   "cell_type": "code",
   "execution_count": null,
   "metadata": {},
   "outputs": [],
   "source": [
    "np.random.seed(42)\n",
    "grad_average = np.zeros((n, d))\n",
    "\n",
    "models = []\n",
    "\n",
    "for i in tqdm(range(1)):\n",
    "    network = sequential_qnn(n_qubits = d*[8],\n",
    "                             dim = d*[8] + [8],\n",
    "                             scale = (d+1)*[[-np.pi, np.pi]],\n",
    "                             encoder = Encoder(),\n",
    "                             ansatz = Ansatz(blocks=[\"entangle\", \"ry\"], reps=2),\n",
    "                             sampler = LastBit(),\n",
    "                             cost = NoCost(),\n",
    "                             optimizer = Adam(lr=0.1),\n",
    "                             backend = backend,\n",
    "                             shots = 100000)\n",
    "    \n",
    "    network.backward(x[:,:8])\n",
    "    models.append(network)\n",
    "    \n",
    "saver(models, data_path(\"vanishing_grad_width_8_reps_2_lastbit\"))"
   ]
  },
  {
   "cell_type": "code",
   "execution_count": null,
   "metadata": {},
   "outputs": [],
   "source": [
    "np.random.seed(42)\n",
    "grad_average = np.zeros((n, d))\n",
    "\n",
    "models = []\n",
    "\n",
    "for i in tqdm(range(1)):\n",
    "    network = sequential_qnn(n_qubits = d*[12],\n",
    "                             dim = d*[12] + [12],\n",
    "                             scale = (d+1)*[[-np.pi, np.pi]],\n",
    "                             encoder = Encoder(),\n",
    "                             ansatz = Ansatz(blocks=[\"entangle\", \"ry\"], reps=2),\n",
    "                             sampler = LastBit(),\n",
    "                             cost = NoCost(),\n",
    "                             optimizer = Adam(lr=0.1),\n",
    "                             backend = backend,\n",
    "                             shots = 100000)\n",
    "    \n",
    "    network.backward(x[:,:12])\n",
    "    models.append(network)\n",
    "    \n",
    "saver(models, data_path(\"vanishing_grad_width_12_reps_2_lastbit\"))"
   ]
  },
  {
   "cell_type": "code",
   "execution_count": null,
   "metadata": {},
   "outputs": [],
   "source": []
  }
 ],
 "metadata": {
  "kernelspec": {
   "display_name": "env_qiskit",
   "language": "python",
   "name": "env_qiskit"
  },
  "language_info": {
   "codemirror_mode": {
    "name": "ipython",
    "version": 3
   },
   "file_extension": ".py",
   "mimetype": "text/x-python",
   "name": "python",
   "nbconvert_exporter": "python",
   "pygments_lexer": "ipython3",
   "version": "3.9.1"
  }
 },
 "nbformat": 4,
 "nbformat_minor": 4
}
