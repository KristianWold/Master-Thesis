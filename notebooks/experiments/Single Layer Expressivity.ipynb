{
 "cells": [
  {
   "cell_type": "code",
   "execution_count": null,
   "metadata": {},
   "outputs": [],
   "source": [
    "import numpy as np\n",
    "import qiskit as qk\n",
    "import matplotlib.pyplot as plt\n",
    "from qiskit import Aer\n",
    "from tqdm.notebook import tqdm\n",
    "\n",
    "import sys\n",
    "sys.path.insert(0, '../../src/')\n",
    "from neuralnetwork import *\n",
    "from samplers import *\n",
    "\n",
    "#%matplotlib notebook\n",
    "%matplotlib inline\n",
    "%load_ext autoreload\n",
    "%autoreload 2"
   ]
  },
  {
   "cell_type": "markdown",
   "metadata": {},
   "source": [
    "## QNN"
   ]
  },
  {
   "cell_type": "markdown",
   "metadata": {},
   "source": [
    "#### Sigmoid"
   ]
  },
  {
   "cell_type": "code",
   "execution_count": null,
   "metadata": {},
   "outputs": [],
   "source": [
    "np.random.seed(42)\n",
    "x = np.random.uniform(-np.pi/2, np.pi/2, (100, 3))\n",
    "beta = np.array([1,1,1]).reshape(-1,1)\n",
    "\n",
    "z = x@beta\n",
    "y = 1/(1+np.exp(-2*z))\n",
    "y = scaler(y, a=0.1, b=0.9)\n",
    "\n",
    "\n",
    "plt.plot(z, y, \"o\")\n",
    "plt.show()"
   ]
  },
  {
   "cell_type": "code",
   "execution_count": null,
   "metadata": {},
   "outputs": [],
   "source": [
    "np.random.seed(42)\n",
    "backend = Aer.get_backend('qasm_simulator')\n",
    "\n",
    "model = sequential_qnn(q_bits = [3],\n",
    "                     dim = [3, 1],\n",
    "                     reps = 2,\n",
    "                     backend=backend,\n",
    "                     shots=10000,\n",
    "                     lr = 0.1)\n",
    "\n",
    "model.train(x, y, epochs=100, verbose=True)"
   ]
  },
  {
   "cell_type": "code",
   "execution_count": null,
   "metadata": {},
   "outputs": [],
   "source": [
    "y_pred = model.predict(x)"
   ]
  },
  {
   "cell_type": "code",
   "execution_count": null,
   "metadata": {},
   "outputs": [],
   "source": [
    "plt.plot(z, y, \"o\")\n",
    "plt.plot(z, y_pred, \"o\")\n",
    "plt.show()"
   ]
  },
  {
   "cell_type": "markdown",
   "metadata": {},
   "source": [
    "#### Radial Basis"
   ]
  },
  {
   "cell_type": "code",
   "execution_count": 2,
   "metadata": {},
   "outputs": [
    {
     "data": {
      "image/png": "[encoded data removed]",
      "text/plain": [
       "<Figure size 432x288 with 1 Axes>"
      ]
     },
     "metadata": {
      "needs_background": "light"
     },
     "output_type": "display_data"
    }
   ],
   "source": [
    "np.random.seed(42)\n",
    "x = np.random.uniform(-np.pi/2, np.pi/2, (20, 3))\n",
    "beta = np.array([1/3,-2/3,1/3]).reshape(-1,1)\n",
    "z = x@beta\n",
    "y = np.exp(-(z**2)/0.2)\n",
    "y = scaler(y, a=0.1, b=0.9)\n",
    "\n",
    "plt.plot(z, y, \"o\")\n",
    "plt.show()"
   ]
  },
  {
   "cell_type": "code",
   "execution_count": 3,
   "metadata": {},
   "outputs": [
    {
     "data": {
      "application/vnd.jupyter.widget-view+json": {
       "model_id": "a11aec8ec51b442aa76fcf419478e557",
       "version_major": 2,
       "version_minor": 0
      },
      "text/plain": [
       "  0%|          | 0/100 [00:00<?, ?it/s]"
      ]
     },
     "metadata": {},
     "output_type": "display_data"
    },
    {
     "name": "stdout",
     "output_type": "stream",
     "text": [
      "epoch: 0, loss: 0.1607147507410934\n",
      "epoch: 1, loss: 0.12045823759239889\n",
      "epoch: 2, loss: 0.08680031674193717\n",
      "epoch: 3, loss: 0.0688485827756828\n",
      "epoch: 4, loss: 0.06408895930353947\n",
      "epoch: 5, loss: 0.06309435134545262\n",
      "epoch: 6, loss: 0.06221562783996317\n",
      "epoch: 7, loss: 0.05920186598046527\n",
      "epoch: 8, loss: 0.0542332311072103\n",
      "epoch: 9, loss: 0.049642219306654765\n",
      "epoch: 10, loss: 0.04491974647361891\n",
      "epoch: 11, loss: 0.04060686665886858\n",
      "epoch: 12, loss: 0.03811675497220845\n",
      "epoch: 13, loss: 0.03611888810681312\n",
      "epoch: 14, loss: 0.03557465776660814\n",
      "epoch: 15, loss: 0.03554917726777231\n",
      "epoch: 16, loss: 0.03624746322887211\n",
      "epoch: 17, loss: 0.03723781415038138\n",
      "epoch: 18, loss: 0.037810914110668295\n",
      "epoch: 19, loss: 0.03850468446394576\n",
      "epoch: 20, loss: 0.03778317037296152\n",
      "epoch: 21, loss: 0.036985384719279965\n",
      "epoch: 22, loss: 0.035441607590199084\n",
      "epoch: 23, loss: 0.034024679198744745\n",
      "epoch: 24, loss: 0.03258671622333018\n",
      "epoch: 25, loss: 0.0321600107242371\n",
      "epoch: 26, loss: 0.031064066543335555\n",
      "epoch: 27, loss: 0.030297789187511488\n",
      "epoch: 28, loss: 0.030207176692975346\n",
      "epoch: 29, loss: 0.03030934099584378\n",
      "epoch: 30, loss: 0.03041200444997789\n",
      "epoch: 31, loss: 0.029676510319798354\n",
      "epoch: 32, loss: 0.029349933925921983\n",
      "epoch: 33, loss: 0.02923361021924456\n",
      "epoch: 34, loss: 0.028828283587679478\n",
      "epoch: 35, loss: 0.027091207747493195\n",
      "epoch: 36, loss: 0.026674746781839093\n",
      "epoch: 37, loss: 0.025525728489947896\n",
      "epoch: 38, loss: 0.02529699176454946\n",
      "epoch: 39, loss: 0.024681792898813736\n",
      "epoch: 40, loss: 0.024667262153160018\n",
      "epoch: 41, loss: 0.024746102359616252\n",
      "epoch: 42, loss: 0.024579244186267175\n",
      "epoch: 43, loss: 0.024706469610885896\n",
      "epoch: 44, loss: 0.024608312265170205\n",
      "epoch: 45, loss: 0.024118084086849227\n",
      "epoch: 46, loss: 0.023321382935363177\n",
      "epoch: 47, loss: 0.023227962543186924\n",
      "epoch: 48, loss: 0.023265116014025495\n",
      "epoch: 49, loss: 0.023210740155045734\n",
      "epoch: 50, loss: 0.023568218664207274\n",
      "epoch: 51, loss: 0.023426190371712834\n",
      "epoch: 52, loss: 0.023515195256086925\n",
      "epoch: 53, loss: 0.0242297340627983\n",
      "epoch: 54, loss: 0.023587745827536772\n",
      "epoch: 55, loss: 0.023383065055473225\n",
      "epoch: 56, loss: 0.023115539538259868\n",
      "epoch: 57, loss: 0.022985146376088887\n",
      "epoch: 58, loss: 0.02276900578950874\n",
      "epoch: 59, loss: 0.0239136443390053\n",
      "epoch: 60, loss: 0.02274025681619156\n",
      "epoch: 61, loss: 0.023334652726055765\n",
      "epoch: 62, loss: 0.022724763290019195\n",
      "epoch: 63, loss: 0.02289215548611029\n",
      "epoch: 64, loss: 0.022740261668271557\n",
      "epoch: 65, loss: 0.0226392417488266\n",
      "epoch: 66, loss: 0.023034653156375345\n",
      "epoch: 67, loss: 0.022915354406479196\n",
      "epoch: 68, loss: 0.023015849537554433\n",
      "epoch: 69, loss: 0.022202390286259085\n",
      "epoch: 70, loss: 0.02212105347664966\n",
      "epoch: 71, loss: 0.02186595891373291\n",
      "epoch: 72, loss: 0.022651297792455706\n",
      "epoch: 73, loss: 0.022869308053852743\n",
      "epoch: 74, loss: 0.022055872073867323\n",
      "epoch: 75, loss: 0.02289496990711413\n",
      "epoch: 76, loss: 0.022626654482753535\n",
      "epoch: 77, loss: 0.021675619054489486\n",
      "epoch: 78, loss: 0.022290806691957245\n",
      "epoch: 79, loss: 0.022125665650035636\n",
      "epoch: 80, loss: 0.02219834207132945\n",
      "epoch: 81, loss: 0.02261781651360399\n",
      "epoch: 82, loss: 0.021897216554361935\n",
      "epoch: 83, loss: 0.022226229085467408\n",
      "epoch: 84, loss: 0.02134736305691015\n",
      "epoch: 85, loss: 0.022079665952536666\n",
      "epoch: 86, loss: 0.021669816891719065\n",
      "epoch: 87, loss: 0.02180493013006886\n",
      "epoch: 88, loss: 0.022258214107225453\n",
      "epoch: 89, loss: 0.02192151102131947\n",
      "epoch: 90, loss: 0.02177896190635583\n",
      "epoch: 91, loss: 0.021659654080437723\n",
      "epoch: 92, loss: 0.02175395749195671\n",
      "epoch: 93, loss: 0.021506717961352083\n",
      "epoch: 94, loss: 0.0217334109437086\n",
      "epoch: 95, loss: 0.021572851094718376\n",
      "epoch: 96, loss: 0.021455424475715402\n",
      "epoch: 97, loss: 0.021848374607476677\n",
      "epoch: 98, loss: 0.021792532150241854\n",
      "epoch: 99, loss: 0.021161980810134647\n"
     ]
    }
   ],
   "source": [
    "np.random.seed(42)\n",
    "backend = Aer.get_backend('qasm_simulator')\n",
    "\n",
    "model = sequential_qnn(q_bits = [3],\n",
    "                     dim = [3, 1],\n",
    "                     reps = 2,\n",
    "                     backend=backend,\n",
    "                     shots=10000,\n",
    "                     lr = 0.1)\n",
    "\n",
    "model.train(x, y, epochs=100, verbose=True)"
   ]
  },
  {
   "cell_type": "code",
   "execution_count": 4,
   "metadata": {},
   "outputs": [],
   "source": [
    "y_pred = model.predict(x)"
   ]
  },
  {
   "cell_type": "code",
   "execution_count": 5,
   "metadata": {},
   "outputs": [
    {
     "data": {
      "image/png": "[encoded data removed]",
      "text/plain": [
       "<Figure size 432x288 with 1 Axes>"
      ]
     },
     "metadata": {
      "needs_background": "light"
     },
     "output_type": "display_data"
    }
   ],
   "source": [
    "plt.plot(z, y, \"o\")\n",
    "plt.plot(z, y_pred, \"o\")\n",
    "plt.show()"
   ]
  },
  {
   "cell_type": "markdown",
   "metadata": {},
   "source": [
    "#### Step Function"
   ]
  },
  {
   "cell_type": "code",
   "execution_count": null,
   "metadata": {},
   "outputs": [],
   "source": [
    "np.random.seed(42)\n",
    "x = np.random.uniform(-np.pi/2, np.pi/2, (100, 3))\n",
    "z = np.sum(x, axis=1)\n",
    "y = np.array(z > 0, dtype=np.float32).reshape(-1,1)\n",
    "y = scaler(y, a=0.1, b=0.9)\n",
    "\n",
    "plt.plot(z, y, \"o\")\n",
    "plt.show()"
   ]
  },
  {
   "cell_type": "code",
   "execution_count": null,
   "metadata": {},
   "outputs": [],
   "source": [
    "np.random.seed(42)\n",
    "\n",
    "model3 = sequential_qnn(q_bits = [3],\n",
    "                     dim = [3, 1],\n",
    "                     reps = 2,\n",
    "                     backend=backend,\n",
    "                     shots=10000,\n",
    "                     lr = 0.1)\n",
    "\n",
    "model3.train(x, y, epochs=100, verbose=True)"
   ]
  },
  {
   "cell_type": "code",
   "execution_count": null,
   "metadata": {},
   "outputs": [],
   "source": [
    "y_pred = model3.predict(x)"
   ]
  },
  {
   "cell_type": "code",
   "execution_count": null,
   "metadata": {},
   "outputs": [],
   "source": [
    "plt.plot(z, y, \"o\")\n",
    "plt.plot(z, y_pred, \"o\")\n",
    "plt.show()"
   ]
  },
  {
   "cell_type": "code",
   "execution_count": null,
   "metadata": {},
   "outputs": [],
   "source": []
  }
 ],
 "metadata": {
  "kernelspec": {
   "display_name": "env_qiskit",
   "language": "python",
   "name": "env_qiskit"
  },
  "language_info": {
   "codemirror_mode": {
    "name": "ipython",
    "version": 3
   },
   "file_extension": ".py",
   "mimetype": "text/x-python",
   "name": "python",
   "nbconvert_exporter": "python",
   "pygments_lexer": "ipython3",
   "version": "3.9.1"
  }
 },
 "nbformat": 4,
 "nbformat_minor": 4
}
