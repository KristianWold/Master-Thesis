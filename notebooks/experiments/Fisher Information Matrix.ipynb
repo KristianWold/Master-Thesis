{
 "cells": [
  {
   "cell_type": "code",
   "execution_count": 1,
   "metadata": {},
   "outputs": [],
   "source": [
    "import numpy as np\n",
    "import qiskit as qk\n",
    "import matplotlib.pyplot as plt\n",
    "from qiskit import Aer\n",
    "from tqdm.notebook import tqdm\n",
    "\n",
    "import sys\n",
    "sys.path.insert(0, '../../src/')\n",
    "from neuralnetwork import *\n",
    "from analysis import *\n",
    "from costfunction import *\n",
    "\n",
    "#%matplotlib notebook\n",
    "%matplotlib inline\n",
    "%load_ext autoreload\n",
    "%autoreload 2"
   ]
  },
  {
   "cell_type": "markdown",
   "metadata": {},
   "source": [
    "# Fisher Information Matrix, Data Generation"
   ]
  },
  {
   "cell_type": "code",
   "execution_count": 2,
   "metadata": {},
   "outputs": [],
   "source": [
    "backend = Aer.get_backend('qasm_simulator')\n",
    "\n",
    "np.random.seed(42)\n",
    "x = np.random.uniform(0, 1, (200, 10))\n",
    "x_qnn = scaler(x, a=-np.pi/2, b=np.pi/2)\n",
    "x_dnn = scaler(x, mode=\"standard\")"
   ]
  },
  {
   "cell_type": "markdown",
   "metadata": {},
   "source": [
    "### QNN vs QKN vs DNN"
   ]
  },
  {
   "cell_type": "markdown",
   "metadata": {},
   "source": [
    "#### 4 Qubits"
   ]
  },
  {
   "cell_type": "code",
   "execution_count": 3,
   "metadata": {},
   "outputs": [],
   "source": [
    "n = 4"
   ]
  },
  {
   "cell_type": "code",
   "execution_count": 4,
   "metadata": {},
   "outputs": [
    {
     "data": {
      "application/vnd.jupyter.widget-view+json": {
       "model_id": "44e71133cdb94fb9b2f6e1971478daad",
       "version_major": 2,
       "version_minor": 0
      },
      "text/plain": [
       "  0%|          | 0/10 [00:00<?, ?it/s]"
      ]
     },
     "metadata": {},
     "output_type": "display_data"
    }
   ],
   "source": [
    "np.random.seed(42)\n",
    "\n",
    "models = []\n",
    "\n",
    "for i in tqdm(range(10)):\n",
    "    network = sequential_qnn(n_qubits = [n],\n",
    "                             dim = [n, 1],\n",
    "                             encoder = RZZEncoder(),\n",
    "                             ansatz = Ansatz(blocks = [\"entangle\", \"ry\"], reps=18),\n",
    "                             sampler = Parity(),\n",
    "                             cost = NoCost(),\n",
    "                             backend = backend,\n",
    "                             shots = 0)\n",
    "\n",
    "    fim = FIM(network)\n",
    "    fim.fit(x_qnn[:,:n])\n",
    "    \n",
    "    models.append(fim)\n",
    "    \n",
    "saver(models, data_path(\"fim_QCN_depth_1_width_4_reps_18\"))"
   ]
  },
  {
   "cell_type": "code",
   "execution_count": 5,
   "metadata": {},
   "outputs": [
    {
     "data": {
      "application/vnd.jupyter.widget-view+json": {
       "model_id": "1a46494f557745f29e61448fa6e62ef1",
       "version_major": 2,
       "version_minor": 0
      },
      "text/plain": [
       "  0%|          | 0/10 [00:00<?, ?it/s]"
      ]
     },
     "metadata": {},
     "output_type": "display_data"
    }
   ],
   "source": [
    "np.random.seed(42)\n",
    "\n",
    "models = []\n",
    "\n",
    "for i in tqdm(range(10)):\n",
    "    network = sequential_qnn(n_qubits = [n, n],\n",
    "                             dim = [n, n, 1],\n",
    "                             encoder = Encoder(),\n",
    "                             ansatz = Ansatz(blocks = [\"entangle\", \"ry\"], reps=3),\n",
    "                             sampler = Parity(),\n",
    "                             cost = NoCost(),\n",
    "                             backend = backend,\n",
    "                             shots = 0)\n",
    "\n",
    "    fim = FIM(network)\n",
    "    fim.fit(x_qnn[:,:n])\n",
    "    \n",
    "    models.append(fim)\n",
    "    \n",
    "saver(models, data_path(\"fim_QCN_depth_2_width_4_reps_3\"))"
   ]
  },
  {
   "cell_type": "code",
   "execution_count": 6,
   "metadata": {},
   "outputs": [
    {
     "data": {
      "application/vnd.jupyter.widget-view+json": {
       "model_id": "75c43ba81cf7439c94e86fc883ac0fdc",
       "version_major": 2,
       "version_minor": 0
      },
      "text/plain": [
       "  0%|          | 0/10 [00:00<?, ?it/s]"
      ]
     },
     "metadata": {},
     "output_type": "display_data"
    }
   ],
   "source": [
    "np.random.seed(42)\n",
    "\n",
    "models = []\n",
    "\n",
    "for i in tqdm(range(10)):\n",
    "    network = sequential_qnn(n_qubits = [n, n, n],\n",
    "                             dim = [n, n, n, 1],\n",
    "                             encoder = Encoder(),\n",
    "                             ansatz = Ansatz(blocks = [\"entangle\", \"ry\"], reps=2),\n",
    "                             sampler = Parity(),\n",
    "                             cost = NoCost(),\n",
    "                             backend = backend,\n",
    "                             shots = 0)\n",
    "\n",
    "    fim = FIM(network)\n",
    "    fim.fit(x_qnn[:,:n])\n",
    "    \n",
    "    models.append(fim)\n",
    "    \n",
    "saver(models, data_path(\"fim_QCN_depth_3_width_4_reps_2\"))"
   ]
  },
  {
   "cell_type": "code",
   "execution_count": 7,
   "metadata": {},
   "outputs": [
    {
     "data": {
      "application/vnd.jupyter.widget-view+json": {
       "model_id": "dfe294ebd55b40b29ee10ccf477da562",
       "version_major": 2,
       "version_minor": 0
      },
      "text/plain": [
       "  0%|          | 0/10 [00:00<?, ?it/s]"
      ]
     },
     "metadata": {},
     "output_type": "display_data"
    }
   ],
   "source": [
    "np.random.seed(42)\n",
    "\n",
    "models = []\n",
    "\n",
    "for i in tqdm(range(10)):\n",
    "    network = sequential_qnn(n_qubits = [n, n, n, n, n],\n",
    "                             dim = [n, n, n, n, n, 1],\n",
    "                             encoder = Encoder(),\n",
    "                             ansatz = Ansatz(blocks = [\"entangle\", \"ry\"], reps=1),\n",
    "                             sampler = Parity(),\n",
    "                             cost = NoCost(),\n",
    "                             backend = backend,\n",
    "                             shots = 0)\n",
    "\n",
    "    fim = FIM(network)\n",
    "    fim.fit(x_qnn[:,:n])\n",
    "    \n",
    "    models.append(fim)\n",
    "    \n",
    "saver(models, data_path(\"fim_QCN_depth_5_width_4_reps_1\"))"
   ]
  },
  {
   "cell_type": "code",
   "execution_count": 8,
   "metadata": {},
   "outputs": [
    {
     "data": {
      "application/vnd.jupyter.widget-view+json": {
       "model_id": "cc9a3d917cfb46e6afc1c5f92e84cbe0",
       "version_major": 2,
       "version_minor": 0
      },
      "text/plain": [
       "  0%|          | 0/10 [00:00<?, ?it/s]"
      ]
     },
     "metadata": {},
     "output_type": "display_data"
    }
   ],
   "source": [
    "np.random.seed(42)\n",
    "\n",
    "models = []\n",
    "\n",
    "for i in tqdm(range(10)):\n",
    "    network = sequential_dnn(dim = [4, 4, 4, 4, 4, 1], bias=False, cost = NoCost())\n",
    "\n",
    "    fim = FIM(network)\n",
    "    fim.fit(x_dnn[:,:4])\n",
    "    \n",
    "    models.append(fim)\n",
    "    \n",
    "saver(models, data_path(\"fim_DNN_depth_5_width_4\"))"
   ]
  },
  {
   "cell_type": "markdown",
   "metadata": {},
   "source": [
    "#### 6 Qubits"
   ]
  },
  {
   "cell_type": "code",
   "execution_count": 9,
   "metadata": {},
   "outputs": [],
   "source": [
    "n = 6"
   ]
  },
  {
   "cell_type": "code",
   "execution_count": null,
   "metadata": {},
   "outputs": [
    {
     "data": {
      "application/vnd.jupyter.widget-view+json": {
       "model_id": "70a0f77285bc44be97517c12ef9568e3",
       "version_major": 2,
       "version_minor": 0
      },
      "text/plain": [
       "  0%|          | 0/10 [00:00<?, ?it/s]"
      ]
     },
     "metadata": {},
     "output_type": "display_data"
    }
   ],
   "source": [
    "np.random.seed(42)\n",
    "\n",
    "models = []\n",
    "\n",
    "for i in tqdm(range(10)):\n",
    "    network = sequential_qnn(n_qubits = [n],\n",
    "                             dim = [n, 1],\n",
    "                             encoder = RZZEncoder(),\n",
    "                             ansatz = Ansatz(blocks = [\"entangle\", \"ry\"], reps=26),\n",
    "                             sampler = Parity(),\n",
    "                             cost = NoCost(),\n",
    "                             backend = backend,\n",
    "                             shots = 0)\n",
    "\n",
    "    fim = FIM(network)\n",
    "    fim.fit(x_qnn[:,:n])\n",
    "    \n",
    "    models.append(fim)\n",
    "    \n",
    "saver(models, data_path(\"fim_QCN_depth_1_width_6_reps_26\"))"
   ]
  },
  {
   "cell_type": "code",
   "execution_count": null,
   "metadata": {},
   "outputs": [],
   "source": [
    "np.random.seed(42)\n",
    "\n",
    "models = []\n",
    "\n",
    "for i in tqdm(range(10)):\n",
    "    network = sequential_qnn(n_qubits = [n, n],\n",
    "                             dim = [n, n, 1],\n",
    "                             encoder = Encoder(),\n",
    "                             ansatz = Ansatz(blocks = [\"entangle\", \"ry\"], reps=4),\n",
    "                             sampler = Parity(),\n",
    "                             cost = NoCost(),\n",
    "                             backend = backend,\n",
    "                             shots = 0)\n",
    "\n",
    "    fim = FIM(network)\n",
    "    fim.fit(x_qnn[:,:n])\n",
    "    \n",
    "    models.append(fim)\n",
    "    \n",
    "saver(models, data_path(\"fim_QCN_depth_2_width_6_reps_4\"))"
   ]
  },
  {
   "cell_type": "code",
   "execution_count": null,
   "metadata": {},
   "outputs": [],
   "source": [
    "np.random.seed(42)\n",
    "\n",
    "models = []\n",
    "\n",
    "for i in tqdm(range(10)):\n",
    "    network = sequential_qnn(n_qubits = [n, n, n],\n",
    "                             dim = [n, n, n, 1],\n",
    "                             encoder = Encoder(),\n",
    "                             ansatz = Ansatz(blocks = [\"entangle\", \"ry\"], reps=2),\n",
    "                             sampler = Parity(),\n",
    "                             cost = NoCost(),\n",
    "                             backend = backend,\n",
    "                             shots = 0)\n",
    "\n",
    "    fim = FIM(network)\n",
    "    fim.fit(x_qnn[:,:n])\n",
    "    \n",
    "    models.append(fim)\n",
    "    \n",
    "saver(models, data_path(\"fim_QCN_depth_3_width_6_reps_2\"))"
   ]
  },
  {
   "cell_type": "code",
   "execution_count": null,
   "metadata": {},
   "outputs": [],
   "source": [
    "np.random.seed(42)\n",
    "\n",
    "models = []\n",
    "\n",
    "for i in tqdm(range(10)):\n",
    "    network = sequential_qnn(n_qubits = [n, n, n, n, n],\n",
    "                             dim = [n, n, n, n, n, 1],\n",
    "                             encoder = Encoder(),\n",
    "                             ansatz = Ansatz(blocks = [\"entangle\", \"ry\"], reps=1),\n",
    "                             sampler = Parity(),\n",
    "                             cost = NoCost(),\n",
    "                             backend = backend,\n",
    "                             shots = 0)\n",
    "\n",
    "    fim = FIM(network)\n",
    "    fim.fit(x_qnn[:,:n])\n",
    "    \n",
    "    models.append(fim)\n",
    "    \n",
    "saver(models, data_path(\"fim_QCN_depth_5_width_6_reps_1\"))"
   ]
  },
  {
   "cell_type": "code",
   "execution_count": null,
   "metadata": {},
   "outputs": [],
   "source": [
    "np.random.seed(42)\n",
    "\n",
    "models = []\n",
    "\n",
    "for i in tqdm(range(10)):\n",
    "    network = sequential_dnn(dim = [6, 6, 6, 6, 6, 1], bias=False, cost = NoCost())\n",
    "\n",
    "    fim = FIM(network)\n",
    "    fim.fit(x_dnn[:,:6])\n",
    "    \n",
    "    models.append(fim)\n",
    "    \n",
    "saver(models, data_path(\"fim_DNN_depth_5_width_6\"))"
   ]
  },
  {
   "cell_type": "code",
   "execution_count": null,
   "metadata": {},
   "outputs": [],
   "source": []
  }
 ],
 "metadata": {
  "kernelspec": {
   "display_name": "env_qiskit",
   "language": "python",
   "name": "env_qiskit"
  },
  "language_info": {
   "codemirror_mode": {
    "name": "ipython",
    "version": 3
   },
   "file_extension": ".py",
   "mimetype": "text/x-python",
   "name": "python",
   "nbconvert_exporter": "python",
   "pygments_lexer": "ipython3",
   "version": "3.9.1"
  }
 },
 "nbformat": 4,
 "nbformat_minor": 4
}
