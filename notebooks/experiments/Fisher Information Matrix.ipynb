{
 "cells": [
  {
   "cell_type": "code",
   "execution_count": 1,
   "metadata": {},
   "outputs": [],
   "source": [
    "import numpy as np\n",
    "import qiskit as qk\n",
    "import matplotlib.pyplot as plt\n",
    "from qiskit import Aer\n",
    "from tqdm.notebook import tqdm\n",
    "\n",
    "import sys\n",
    "sys.path.insert(0, '../../src/')\n",
    "from neuralnetwork import *\n",
    "from analysis import *\n",
    "from costfunction import *\n",
    "\n",
    "#%matplotlib notebook\n",
    "%matplotlib inline\n",
    "%load_ext autoreload\n",
    "%autoreload 2"
   ]
  },
  {
   "cell_type": "markdown",
   "metadata": {},
   "source": [
    "# Fisher Information Matrix, Data Generation"
   ]
  },
  {
   "cell_type": "code",
   "execution_count": 2,
   "metadata": {},
   "outputs": [],
   "source": [
    "backend = Aer.get_backend('qasm_simulator')\n",
    "\n",
    "np.random.seed(42)\n",
    "x = np.random.uniform(0, 1, (100, 10))\n",
    "x_qnn = scaler(x, a=-np.pi/2, b=np.pi/2)\n",
    "x_dnn = scaler(x, mode=\"standard\")"
   ]
  },
  {
   "cell_type": "markdown",
   "metadata": {},
   "source": [
    "### Single-Circuit vs QKN vs DNN"
   ]
  },
  {
   "cell_type": "markdown",
   "metadata": {},
   "source": [
    "#### 4 Qubits"
   ]
  },
  {
   "cell_type": "code",
   "execution_count": 3,
   "metadata": {},
   "outputs": [],
   "source": [
    "n = 4"
   ]
  },
  {
   "cell_type": "code",
   "execution_count": null,
   "metadata": {},
   "outputs": [],
   "source": [
    "np.random.seed(42)\n",
    "\n",
    "network = sequential_qnn(n_qubits = [n],\n",
    "                         dim = [n, n],\n",
    "                         encoder = Encoder(),\n",
    "                         ansatz = Ansatz(blocks = [\"entangle\", \"ry\"], reps=6),\n",
    "                         sampler = Parity(),\n",
    "                         cost = NoCost(),\n",
    "                         backend = backend,\n",
    "                         shots = 100000)\n",
    "\n",
    "fim = FIM(network)\n",
    "fim.fit(x_qnn[:,:n])\n",
    "saver(fim, data_path(\"fim_QKN_depth_1_width_4_reps_6_shots_100k\"))"
   ]
  },
  {
   "cell_type": "code",
   "execution_count": null,
   "metadata": {},
   "outputs": [],
   "source": [
    "np.random.seed(42)\n",
    "\n",
    "network = sequential_qnn(n_qubits = [n, n],\n",
    "                         dim = [n, n, n],\n",
    "                         encoder = Encoder(),\n",
    "                         ansatz = Ansatz(blocks = [\"entangle\", \"ry\"], reps=3),\n",
    "                         sampler = Parity(),\n",
    "                         cost = NoCost(),\n",
    "                         backend = backend,\n",
    "                         shots = 100000)\n",
    "\n",
    "fim = FIM(network)\n",
    "fim.fit(x_qnn[:,:n])\n",
    "saver(fim, data_path(\"fim_QKN_depth_2_width_4_reps_3_shots_100k\"))"
   ]
  },
  {
   "cell_type": "code",
   "execution_count": null,
   "metadata": {},
   "outputs": [],
   "source": [
    "np.random.seed(42)\n",
    "\n",
    "network = sequential_qnn(n_qubits = [n, n, n],\n",
    "                         dim = [n, n, n, n],\n",
    "                         encoder = Encoder(),\n",
    "                         ansatz = Ansatz(blocks = [\"entangle\", \"ry\"], reps=2),\n",
    "                         sampler = Parity(),\n",
    "                         cost = NoCost(),\n",
    "                         backend = backend,\n",
    "                         shots = 100000)\n",
    "\n",
    "fim = FIM(network)\n",
    "fim.fit(x_qnn[:,:n])\n",
    "saver(fim, data_path(\"fim_QKN_depth_3_width_4_reps_2_shots_100k\"))"
   ]
  },
  {
   "cell_type": "code",
   "execution_count": null,
   "metadata": {},
   "outputs": [],
   "source": [
    "np.random.seed(42)\n",
    "\n",
    "network = sequential_qnn(n_qubits = [n, n, n, n, n, n],\n",
    "                         dim = [n, n, n, n, n, n, n],\n",
    "                         encoder = Encoder(),\n",
    "                         ansatz = Ansatz(blocks = [\"entangle\", \"ry\"], reps=1),\n",
    "                         sampler = Parity(),\n",
    "                         cost = NoCost(),\n",
    "                         backend = backend,\n",
    "                         shots = 100000)\n",
    "\n",
    "fim = FIM(network)\n",
    "fim.fit(x_qnn[:,:n])\n",
    "saver(fim, data_path(\"fim_QKN_depth_6_width_4_reps_1_shots_100k\"))"
   ]
  },
  {
   "cell_type": "code",
   "execution_count": null,
   "metadata": {},
   "outputs": [],
   "source": [
    "np.random.seed(42)\n",
    "\n",
    "network = sequential_dnn(dim = [n, n, n, n, n, n, n], \n",
    "                         bias=False,\n",
    "                         cost=NoCost())\n",
    "\n",
    "fim = FIM(network)\n",
    "fim.fit(x_dnn[:,:n])\n",
    "saver(fim, data_path(\"fim_DNN_depth_6_width_4\"))"
   ]
  },
  {
   "cell_type": "markdown",
   "metadata": {},
   "source": [
    "#### 6 Qubits"
   ]
  },
  {
   "cell_type": "code",
   "execution_count": 4,
   "metadata": {},
   "outputs": [],
   "source": [
    "n = 6"
   ]
  },
  {
   "cell_type": "code",
   "execution_count": null,
   "metadata": {},
   "outputs": [],
   "source": [
    "np.random.seed(42)\n",
    "\n",
    "network = sequential_qnn(n_qubits = [n],\n",
    "                         dim = [n, n],\n",
    "                         encoder = Encoder(),\n",
    "                         ansatz = Ansatz(blocks = [\"entangle\", \"ry\"], reps=6),\n",
    "                         sampler = Parity(),\n",
    "                         cost = NoCost(),\n",
    "                         backend = backend,\n",
    "                         shots = 100000)\n",
    "\n",
    "fim = FIM(network)\n",
    "fim.fit(x_qnn[:,:n])\n",
    "saver(fim, data_path(\"fim_QKN_depth_1_width_6_reps_6_shots_100k\"))"
   ]
  },
  {
   "cell_type": "code",
   "execution_count": null,
   "metadata": {},
   "outputs": [],
   "source": [
    "np.random.seed(42)\n",
    "\n",
    "network = sequential_qnn(n_qubits = [n, n],\n",
    "                         dim = [n, n, n],\n",
    "                         encoder = Encoder(),\n",
    "                         ansatz = Ansatz(blocks = [\"entangle\", \"ry\"], reps=3),\n",
    "                         sampler = Parity(),\n",
    "                         cost = NoCost(),\n",
    "                         backend = backend,\n",
    "                         shots = 100000)\n",
    "\n",
    "fim = FIM(network)\n",
    "fim.fit(x_qnn[:,:n])\n",
    "saver(fim, data_path(\"fim_QKN_depth_2_width_6_reps_3_shots_100k\"))"
   ]
  },
  {
   "cell_type": "code",
   "execution_count": null,
   "metadata": {},
   "outputs": [],
   "source": [
    "np.random.seed(42)\n",
    "\n",
    "network = sequential_qnn(n_qubits = [n, n, n],\n",
    "                         dim = [n, n, n, n],\n",
    "                         encoder = Encoder(),\n",
    "                         ansatz = Ansatz(blocks = [\"entangle\", \"ry\"], reps=2),\n",
    "                         sampler = Parity(),\n",
    "                         cost = NoCost(),\n",
    "                         backend = backend,\n",
    "                         shots = 100000)\n",
    "\n",
    "fim = FIM(network)\n",
    "fim.fit(x_qnn[:,:n])\n",
    "saver(fim, data_path(\"fim_QKN_depth_3_width_6_reps_2_shots_100k\"))"
   ]
  },
  {
   "cell_type": "code",
   "execution_count": 5,
   "metadata": {},
   "outputs": [],
   "source": [
    "np.random.seed(42)\n",
    "\n",
    "network = sequential_qnn(n_qubits = [n, n, n, n, n, n],\n",
    "                         dim = [n, n, n, n, n, n, n],\n",
    "                         encoder = Encoder(),\n",
    "                         ansatz = Ansatz(blocks = [\"entangle\", \"ry\"], reps=1),\n",
    "                         sampler = Parity(),\n",
    "                         cost = NoCost(),\n",
    "                         backend = backend,\n",
    "                         shots = 100000)\n",
    "\n",
    "fim = FIM(network)\n",
    "fim.fit(x_qnn[:,:n])\n",
    "saver(fim, data_path(\"fim_QKN_depth_6_width_6_reps_1_shots_100k\"))"
   ]
  },
  {
   "cell_type": "code",
   "execution_count": 6,
   "metadata": {},
   "outputs": [],
   "source": [
    "np.random.seed(42)\n",
    "\n",
    "network = sequential_dnn(dim = [n, n, n, n, n, n, n], \n",
    "                         bias = False,\n",
    "                         cost = NoCost())\n",
    "\n",
    "fim = FIM(network)\n",
    "fim.fit(x_dnn[:,:n])\n",
    "saver(fim, data_path(\"fim_DNN_depth_6_width_6\"))"
   ]
  },
  {
   "cell_type": "markdown",
   "metadata": {},
   "source": [
    "## Sensitivity wrt Shots"
   ]
  },
  {
   "cell_type": "code",
   "execution_count": null,
   "metadata": {},
   "outputs": [],
   "source": [
    "np.random.seed(42)\n",
    "\n",
    "network = sequential_qnn(n_qubits = [5, 5],\n",
    "                         dim = [5, 5, 5],\n",
    "                         encoder = Encoder(),\n",
    "                         ansatz = Ansatz(blocks = [\"entangle\", \"ry\"], reps=2),\n",
    "                         sampler = Parity(),\n",
    "                         cost = NoCost(),\n",
    "                         backend = backend,\n",
    "                         shots = 1000)\n",
    "\n",
    "fim = FIM(network)\n",
    "fim.fit(x[:,:5])\n",
    "saver(fim, data_path(\"fim_QKN_depth_2_width_5_reps_2_shots_1k\"))"
   ]
  },
  {
   "cell_type": "code",
   "execution_count": null,
   "metadata": {},
   "outputs": [],
   "source": [
    "np.random.seed(42)\n",
    "\n",
    "network = sequential_qnn(n_qubits = [5, 5],\n",
    "                         dim = [5, 5, 5],\n",
    "                         encoder = Encoder(),\n",
    "                         ansatz = Ansatz(blocks = [\"entangle\", \"ry\"], reps=2),\n",
    "                         sampler = Parity(),\n",
    "                         cost = NoCost(),\n",
    "                         backend = backend,\n",
    "                         shots = 10000)\n",
    "\n",
    "fim = FIM(network)\n",
    "fim.fit(x[:,:5])\n",
    "saver(fim, data_path(\"fim_QKN_depth_2_width_5_reps_2_shots_10k\"))"
   ]
  },
  {
   "cell_type": "code",
   "execution_count": null,
   "metadata": {},
   "outputs": [],
   "source": [
    "np.random.seed(42)\n",
    "\n",
    "network = sequential_qnn(n_qubits = [5, 5],\n",
    "                         dim = [5, 5, 5],\n",
    "                         encoder = Encoder(),\n",
    "                         ansatz = Ansatz(blocks = [\"entangle\", \"ry\"], reps=2),\n",
    "                         sampler = Parity(),\n",
    "                         cost = NoCost(),\n",
    "                         backend = backend,\n",
    "                         shots = 100000)\n",
    "\n",
    "fim = FIM(network)\n",
    "fim.fit(x[:,:5])\n",
    "saver(fim, data_path(\"fim_QKN_depth_2_width_5_reps_2_shots_100k\"))"
   ]
  },
  {
   "cell_type": "code",
   "execution_count": null,
   "metadata": {},
   "outputs": [],
   "source": [
    "np.random.seed(42)\n",
    "\n",
    "network = sequential_qnn(n_qubits = [5, 5],\n",
    "                         dim = [5, 5, 5],\n",
    "                         encoder = Encoder(),\n",
    "                         ansatz = Ansatz(blocks = [\"entangle\", \"ry\"], reps=2),\n",
    "                         sampler = Parity(),\n",
    "                         cost = NoCost(),\n",
    "                         backend = backend,\n",
    "                         shots = 1000000)\n",
    "\n",
    "fim = FIM(network)\n",
    "fim.fit(x[:,:5])\n",
    "saver(fim, data_path(\"fim_QKN_depth_2_width_5_reps_2_shots_1000k\"))"
   ]
  }
 ],
 "metadata": {
  "kernelspec": {
   "display_name": "env_qiskit",
   "language": "python",
   "name": "env_qiskit"
  },
  "language_info": {
   "codemirror_mode": {
    "name": "ipython",
    "version": 3
   },
   "file_extension": ".py",
   "mimetype": "text/x-python",
   "name": "python",
   "nbconvert_exporter": "python",
   "pygments_lexer": "ipython3",
   "version": "3.9.1"
  }
 },
 "nbformat": 4,
 "nbformat_minor": 4
}
