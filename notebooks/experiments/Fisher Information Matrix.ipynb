{
 "cells": [
  {
   "cell_type": "code",
   "execution_count": 1,
   "metadata": {},
   "outputs": [],
   "source": [
    "import numpy as np\n",
    "import qiskit as qk\n",
    "import matplotlib.pyplot as plt\n",
    "from qiskit import Aer\n",
    "from tqdm.notebook import tqdm\n",
    "\n",
    "import sys\n",
    "sys.path.insert(0, '../../src/')\n",
    "from neuralnetwork import *\n",
    "from analysis import *\n",
    "from costfunction import *\n",
    "\n",
    "#%matplotlib notebook\n",
    "%matplotlib inline\n",
    "%load_ext autoreload\n",
    "%autoreload 2"
   ]
  },
  {
   "cell_type": "markdown",
   "metadata": {},
   "source": [
    "# Fisher Information Matrix, Data Generation"
   ]
  },
  {
   "cell_type": "code",
   "execution_count": 2,
   "metadata": {},
   "outputs": [],
   "source": [
    "backend = Aer.get_backend('qasm_simulator')\n",
    "\n",
    "np.random.seed(42)\n",
    "x = np.random.uniform(0, 1, (100, 10))\n",
    "x_qnn = scaler(x, a=-np.pi/2, b=np.pi/2)\n",
    "x_dnn = scaler(x, mode=\"standard\")"
   ]
  },
  {
   "cell_type": "markdown",
   "metadata": {},
   "source": [
    "### Single-Circuit vs QKN vs DNN"
   ]
  },
  {
   "cell_type": "markdown",
   "metadata": {},
   "source": [
    "#### 4 Qubits"
   ]
  },
  {
   "cell_type": "code",
   "execution_count": 3,
   "metadata": {},
   "outputs": [],
   "source": [
    "n = 4"
   ]
  },
  {
   "cell_type": "code",
   "execution_count": null,
   "metadata": {},
   "outputs": [],
   "source": [
    "np.random.seed(42)\n",
    "\n",
    "models = []\n",
    "\n",
    "for i in tqdm(range(1)):\n",
    "    network = sequential_qnn(n_qubits = [n],\n",
    "                             dim = [n, 1],\n",
    "                             encoder = Encoder(),\n",
    "                             ansatz = Ansatz(blocks = [\"entangle\", \"ry\"], reps=10),\n",
    "                             sampler = Parity(),\n",
    "                             cost = NoCost(),\n",
    "                             backend = backend,\n",
    "                             shots = 0)\n",
    "\n",
    "    fim = FIM(network)\n",
    "    fim.fit(x_qnn[:,:n])\n",
    "    \n",
    "    models.append(fim)\n",
    "    \n",
    "saver(models, data_path(\"fim_QKN_depth_1_width_4_reps_6\"))"
   ]
  },
  {
   "cell_type": "code",
   "execution_count": null,
   "metadata": {},
   "outputs": [],
   "source": [
    "np.random.seed(42)\n",
    "\n",
    "models = []\n",
    "\n",
    "for i in tqdm(range(1)):\n",
    "    network = sequential_qnn(n_qubits = [n, n],\n",
    "                             dim = [n, n, 1],\n",
    "                             encoder = Encoder(),\n",
    "                             ansatz = Ansatz(blocks = [\"entangle\", \"ry\"], reps=2),\n",
    "                             sampler = Parity(),\n",
    "                             cost = NoCost(),\n",
    "                             backend = backend,\n",
    "                             shots = 0)\n",
    "\n",
    "    fim = FIM(network)\n",
    "    fim.fit(x_qnn[:,:n])\n",
    "    \n",
    "    models.append(fim)\n",
    "    \n",
    "saver(models, data_path(\"fim_QKN_depth_2_width_4_reps_2\"))"
   ]
  },
  {
   "cell_type": "code",
   "execution_count": 4,
   "metadata": {},
   "outputs": [
    {
     "data": {
      "application/vnd.jupyter.widget-view+json": {
       "model_id": "b356c4915dc143029275d7567de39a87",
       "version_major": 2,
       "version_minor": 0
      },
      "text/plain": [
       "  0%|          | 0/1 [00:00<?, ?it/s]"
      ]
     },
     "metadata": {},
     "output_type": "display_data"
    }
   ],
   "source": [
    "np.random.seed(42)\n",
    "\n",
    "models = []\n",
    "\n",
    "for i in tqdm(range(1)):\n",
    "    network = sequential_dnn(dim = [5, 5, 1], cost = NoCost())\n",
    "\n",
    "    fim = FIM(network)\n",
    "    fim.fit(x_dnn[:,:5])\n",
    "    \n",
    "    models.append(fim)\n",
    "    \n",
    "saver(models, data_path(\"fim_DNN_depth_2_width_5\"))"
   ]
  },
  {
   "cell_type": "markdown",
   "metadata": {},
   "source": [
    "#### 6 Qubits"
   ]
  },
  {
   "cell_type": "code",
   "execution_count": 11,
   "metadata": {},
   "outputs": [],
   "source": [
    "n = 6"
   ]
  },
  {
   "cell_type": "code",
   "execution_count": 12,
   "metadata": {},
   "outputs": [
    {
     "data": {
      "application/vnd.jupyter.widget-view+json": {
       "model_id": "cf9675a26e1c429ba296b3e8a7a5cf07",
       "version_major": 2,
       "version_minor": 0
      },
      "text/plain": [
       "  0%|          | 0/1 [00:00<?, ?it/s]"
      ]
     },
     "metadata": {},
     "output_type": "display_data"
    }
   ],
   "source": [
    "np.random.seed(42)\n",
    "\n",
    "models = []\n",
    "\n",
    "for i in tqdm(range(1)):\n",
    "    network = sequential_qnn(n_qubits = [n],\n",
    "                             dim = [n, 1],\n",
    "                             encoder = Encoder(),\n",
    "                             ansatz = Ansatz(blocks = [\"entangle\", \"ry\"], reps=12),\n",
    "                             sampler = Parity(),\n",
    "                             cost = NoCost(),\n",
    "                             backend = backend,\n",
    "                             shots = 0)\n",
    "\n",
    "    fim = FIM(network)\n",
    "    fim.fit(x_qnn[:,:n])\n",
    "    \n",
    "    models.append(fim)\n",
    "    \n",
    "saver(models, data_path(\"fim_QKN_depth_1_width_6_reps_12\"))"
   ]
  },
  {
   "cell_type": "code",
   "execution_count": null,
   "metadata": {},
   "outputs": [],
   "source": [
    "np.random.seed(42)\n",
    "\n",
    "models = []\n",
    "\n",
    "for i in tqdm(range(1)):\n",
    "    network = sequential_qnn(n_qubits = [n, n],\n",
    "                             dim = [n, n, 1],\n",
    "                             encoder = Encoder(),\n",
    "                             ansatz = Ansatz(blocks = [\"entangle\", \"ry\"], reps=2),\n",
    "                             sampler = Parity(),\n",
    "                             cost = NoCost(),\n",
    "                             backend = backend,\n",
    "                             shots = 0)\n",
    "\n",
    "    fim = FIM(network)\n",
    "    fim.fit(x_qnn[:,:n])\n",
    "    \n",
    "    models.append(fim)\n",
    "    \n",
    "saver(models, data_path(\"fim_QKN_depth_2_width_6_reps_2\"))"
   ]
  },
  {
   "cell_type": "code",
   "execution_count": 10,
   "metadata": {},
   "outputs": [
    {
     "data": {
      "application/vnd.jupyter.widget-view+json": {
       "model_id": "fd62d16b0c294206a0436bdf95ea395f",
       "version_major": 2,
       "version_minor": 0
      },
      "text/plain": [
       "  0%|          | 0/5 [00:00<?, ?it/s]"
      ]
     },
     "metadata": {},
     "output_type": "display_data"
    }
   ],
   "source": [
    "np.random.seed(42)\n",
    "\n",
    "models = []\n",
    "\n",
    "for i in tqdm(range(5)):\n",
    "    network = sequential_dnn(dim = [8, 8, 1], cost = NoCost())\n",
    "\n",
    "    fim = FIM(network)\n",
    "    fim.fit(x_dnn[:,:8])\n",
    "    \n",
    "    models.append(fim)\n",
    "    \n",
    "saver(models, data_path(\"fim_DNN_depth_2_width_8\"))"
   ]
  },
  {
   "cell_type": "code",
   "execution_count": null,
   "metadata": {},
   "outputs": [],
   "source": []
  }
 ],
 "metadata": {
  "kernelspec": {
   "display_name": "env_qiskit",
   "language": "python",
   "name": "env_qiskit"
  },
  "language_info": {
   "codemirror_mode": {
    "name": "ipython",
    "version": 3
   },
   "file_extension": ".py",
   "mimetype": "text/x-python",
   "name": "python",
   "nbconvert_exporter": "python",
   "pygments_lexer": "ipython3",
   "version": "3.9.1"
  }
 },
 "nbformat": 4,
 "nbformat_minor": 4
}
