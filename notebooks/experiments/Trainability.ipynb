{
 "cells": [
  {
   "cell_type": "code",
   "execution_count": 8,
   "metadata": {},
   "outputs": [
    {
     "name": "stdout",
     "output_type": "stream",
     "text": [
      "The autoreload extension is already loaded. To reload it, use:\n",
      "  %reload_ext autoreload\n"
     ]
    }
   ],
   "source": [
    "import numpy as np\n",
    "import qiskit as qk\n",
    "import matplotlib.pyplot as plt\n",
    "from qiskit import Aer\n",
    "from tqdm.notebook import tqdm\n",
    "import multiprocessing as mp\n",
    "\n",
    "import sys\n",
    "sys.path.insert(0, '../../src/')\n",
    "from neuralnetwork import *\n",
    "from analysis import *\n",
    "from utils import *\n",
    "\n",
    "#%matplotlib notebook\n",
    "%matplotlib inline\n",
    "%load_ext autoreload\n",
    "%autoreload 2"
   ]
  },
  {
   "cell_type": "code",
   "execution_count": 9,
   "metadata": {},
   "outputs": [],
   "source": [
    "backend = Aer.get_backend('qasm_simulator')\n",
    "\n",
    "def parallel(args):\n",
    "    model = args[0]\n",
    "    x = args[1]\n",
    "    y = args[2]\n",
    "    verbose = args[3]\n",
    "    \n",
    "    model.train(x, y, verbose = verbose)\n",
    "    \n",
    "    return model"
   ]
  },
  {
   "cell_type": "markdown",
   "metadata": {},
   "source": [
    "# Trainability, Ideal"
   ]
  },
  {
   "cell_type": "markdown",
   "metadata": {},
   "source": [
    "## 1D, Gaussian Function"
   ]
  },
  {
   "cell_type": "markdown",
   "metadata": {},
   "source": [
    "### Generate Data"
   ]
  },
  {
   "cell_type": "code",
   "execution_count": 10,
   "metadata": {},
   "outputs": [],
   "source": [
    "x, y = generate_1D_mixed_gaussian()\n",
    "\n",
    "x_qcn = scaler(x, a=-np.pi/2, b=np.pi/2)\n",
    "x_qnn = np.hstack([x_qcn, x_qcn, x_qcn])\n",
    "x_dnn = scaler(x, mode=\"standard\")"
   ]
  },
  {
   "cell_type": "code",
   "execution_count": 11,
   "metadata": {
    "scrolled": true
   },
   "outputs": [
    {
     "data": {
      "image/png": "[encoded data removed]",
      "text/plain": [
       "<Figure size 432x288 with 1 Axes>"
      ]
     },
     "metadata": {
      "needs_background": "light"
     },
     "output_type": "display_data"
    }
   ],
   "source": [
    "plt.plot(x, y, 'o')\n",
    "plt.show()"
   ]
  },
  {
   "cell_type": "markdown",
   "metadata": {},
   "source": [
    "### Training Models"
   ]
  },
  {
   "cell_type": "markdown",
   "metadata": {},
   "source": [
    "### QNN"
   ]
  },
  {
   "cell_type": "code",
   "execution_count": 5,
   "metadata": {},
   "outputs": [
    {
     "name": "stdout",
     "output_type": "stream",
     "text": [
      "epoch: 0, loss: 0.13209024177543846\n",
      "epoch: 1, loss: 0.11440680469598491\n",
      "epoch: 2, loss: 0.1027552604707016\n",
      "epoch: 3, loss: 0.08988679141641795\n",
      "epoch: 4, loss: 0.07959109915967323\n",
      "epoch: 5, loss: 0.07347983770870156\n",
      "epoch: 6, loss: 0.06956901619041175\n",
      "epoch: 7, loss: 0.06526933723665074\n",
      "epoch: 8, loss: 0.06101588426182048\n",
      "epoch: 9, loss: 0.057893622879691825\n",
      "epoch: 10, loss: 0.0557600065117\n",
      "epoch: 11, loss: 0.05441768451676799\n",
      "epoch: 12, loss: 0.05419954928904867\n",
      "epoch: 13, loss: 0.05495167901644336\n",
      "epoch: 14, loss: 0.055578014299572605\n",
      "epoch: 15, loss: 0.05541153859407137\n",
      "epoch: 16, loss: 0.05483193376059643\n",
      "epoch: 17, loss: 0.05427750924699657\n",
      "epoch: 18, loss: 0.05373289165851596\n",
      "epoch: 19, loss: 0.053153225810155344\n",
      "epoch: 20, loss: 0.05267760833608299\n",
      "epoch: 21, loss: 0.05235811083020934\n",
      "epoch: 22, loss: 0.052040251168435844\n",
      "epoch: 23, loss: 0.051589435459180814\n",
      "epoch: 24, loss: 0.051096392355337146\n",
      "epoch: 25, loss: 0.0507572895697857\n",
      "epoch: 26, loss: 0.050605738215689235\n",
      "epoch: 27, loss: 0.05050100490036324\n",
      "epoch: 28, loss: 0.05036454315066761\n",
      "epoch: 29, loss: 0.050243313904485394\n",
      "epoch: 30, loss: 0.05014735999964227\n",
      "epoch: 31, loss: 0.05000436153768516\n",
      "epoch: 32, loss: 0.049807045235255455\n",
      "epoch: 33, loss: 0.04964477519645419\n",
      "epoch: 34, loss: 0.0495414598076203\n",
      "epoch: 35, loss: 0.04942151909050591\n",
      "epoch: 36, loss: 0.04926827156041381\n",
      "epoch: 37, loss: 0.04913719884261056\n",
      "epoch: 38, loss: 0.04901992208567237\n",
      "epoch: 39, loss: 0.04886077585137523\n",
      "epoch: 40, loss: 0.04866927284146434\n",
      "epoch: 41, loss: 0.04848349623574727\n",
      "epoch: 42, loss: 0.04828973632690612\n",
      "epoch: 43, loss: 0.0480727701156461\n",
      "epoch: 44, loss: 0.04786643544853108\n",
      "epoch: 45, loss: 0.04768856055522421\n",
      "epoch: 46, loss: 0.047504755906168664\n",
      "epoch: 47, loss: 0.04730256939727014\n",
      "epoch: 48, loss: 0.0471116476257318\n",
      "epoch: 49, loss: 0.04694250722767594\n",
      "epoch: 50, loss: 0.046796423983571235\n",
      "epoch: 51, loss: 0.04669130259085269\n",
      "epoch: 52, loss: 0.04661772728086347\n",
      "epoch: 53, loss: 0.046552004703369926\n",
      "epoch: 54, loss: 0.046503502662541586\n",
      "epoch: 55, loss: 0.046474589940202676\n",
      "epoch: 56, loss: 0.04645091129269589\n",
      "epoch: 57, loss: 0.046438555859911676\n",
      "epoch: 58, loss: 0.04643420445119808\n",
      "epoch: 59, loss: 0.04642532741659351\n",
      "epoch: 60, loss: 0.04642105496891702\n",
      "epoch: 61, loss: 0.04642055805577162\n",
      "epoch: 62, loss: 0.046417698091893216\n",
      "epoch: 63, loss: 0.04641588098272896\n",
      "epoch: 64, loss: 0.04640519713419567\n",
      "epoch: 65, loss: 0.04638472958334485\n",
      "epoch: 66, loss: 0.04636214348857319\n",
      "epoch: 67, loss: 0.04633552517911469\n",
      "epoch: 68, loss: 0.0463103491944387\n",
      "epoch: 69, loss: 0.04628582661667613\n",
      "epoch: 70, loss: 0.046257487525705104\n",
      "epoch: 71, loss: 0.04623003998640971\n",
      "epoch: 72, loss: 0.04620311059320066\n",
      "epoch: 73, loss: 0.04617987019927357\n",
      "epoch: 74, loss: 0.046162525209384346\n",
      "epoch: 75, loss: 0.04614699051363757\n",
      "epoch: 76, loss: 0.04613366523733622\n",
      "epoch: 77, loss: 0.04612067149517103\n",
      "epoch: 78, loss: 0.04610848888626076\n",
      "epoch: 79, loss: 0.046099869053436306\n",
      "epoch: 80, loss: 0.0460935929501839\n",
      "epoch: 81, loss: 0.04609007721565533\n",
      "epoch: 82, loss: 0.04608748785117919\n",
      "epoch: 83, loss: 0.04608434783172258\n",
      "epoch: 84, loss: 0.04608161656354331\n",
      "epoch: 85, loss: 0.046078829834694614\n",
      "epoch: 86, loss: 0.04607700281316471\n",
      "epoch: 87, loss: 0.046075640613628746\n",
      "epoch: 88, loss: 0.046073811839251494\n",
      "epoch: 89, loss: 0.04607179416966839\n",
      "epoch: 90, loss: 0.04606917402529171\n",
      "epoch: 91, loss: 0.04606687044616625\n",
      "epoch: 92, loss: 0.04606490317928784\n",
      "epoch: 93, loss: 0.0460629681873132\n",
      "epoch: 94, loss: 0.04606105752809141\n",
      "epoch: 95, loss: 0.04605871415091829\n",
      "epoch: 96, loss: 0.04605649953069147\n",
      "epoch: 97, loss: 0.04605446154613618\n",
      "epoch: 98, loss: 0.04605273724358263\n",
      "epoch: 99, loss: 0.04605128607363785\n",
      "epoch: 100, loss: 0.04604980306601525\n"
     ]
    }
   ],
   "source": [
    "np.random.seed(42)\n",
    "\n",
    "qnn_list = []\n",
    "for i in range(10):\n",
    "    qnn = sequential_qnn(n_qubits = [4],\n",
    "                         dim = [3,1],\n",
    "                         encoder = RZZEncoder(),\n",
    "                         ansatz = Ansatz(blocks=[\"entangle\", \"ry\"], reps=5),\n",
    "                         sampler = Parity(),\n",
    "                         cost = MSE(),\n",
    "                         optimizer = Adam(lr=0.1),\n",
    "                         shots = 0)\n",
    "    \n",
    "    qnn_list.append([qnn, x_qnn, y, False])\n",
    "\n",
    "    \n",
    "qnn_list[0][3] = True\n",
    "\n",
    "with mp.Pool(10) as p:\n",
    "    qnn_list = p.map(parallel, qnn_list) \n",
    "    \n",
    "    \n",
    "saver(qnn_list, data_path(\"trainability_qnn_1D\"))"
   ]
  },
  {
   "cell_type": "code",
   "execution_count": 6,
   "metadata": {},
   "outputs": [
    {
     "name": "stdout",
     "output_type": "stream",
     "text": [
      "epoch: 0, loss: 0.10532612648318006\n",
      "epoch: 1, loss: 0.0950843681266217\n",
      "epoch: 2, loss: 0.08589157214200861\n",
      "epoch: 3, loss: 0.0777693878709735\n",
      "epoch: 4, loss: 0.07129066464678031\n",
      "epoch: 5, loss: 0.06629647770597295\n",
      "epoch: 6, loss: 0.06252594506100619\n",
      "epoch: 7, loss: 0.0602326223104478\n",
      "epoch: 8, loss: 0.0592359634198268\n",
      "epoch: 9, loss: 0.05924097904375527\n",
      "epoch: 10, loss: 0.05965542875470903\n",
      "epoch: 11, loss: 0.059611619885659654\n",
      "epoch: 12, loss: 0.058893081281640614\n",
      "epoch: 13, loss: 0.05772891565949274\n",
      "epoch: 14, loss: 0.05642512360412467\n",
      "epoch: 15, loss: 0.055284531702181304\n",
      "epoch: 16, loss: 0.054563968765456494\n",
      "epoch: 17, loss: 0.05436133692937492\n",
      "epoch: 18, loss: 0.05450374523915266\n",
      "epoch: 19, loss: 0.054678068815129294\n",
      "epoch: 20, loss: 0.05464460989884012\n",
      "epoch: 21, loss: 0.05430397373458801\n",
      "epoch: 22, loss: 0.05370520651100903\n",
      "epoch: 23, loss: 0.05302790169193508\n",
      "epoch: 24, loss: 0.05248668964940049\n",
      "epoch: 25, loss: 0.05219213999514818\n",
      "epoch: 26, loss: 0.052100321907955716\n",
      "epoch: 27, loss: 0.05208570934121162\n",
      "epoch: 28, loss: 0.052008773613865064\n",
      "epoch: 29, loss: 0.051762900463049315\n",
      "epoch: 30, loss: 0.05136489101933349\n",
      "epoch: 31, loss: 0.050951553093947236\n",
      "epoch: 32, loss: 0.05064891954640954\n",
      "epoch: 33, loss: 0.05044824072468683\n",
      "epoch: 34, loss: 0.050262153400391245\n",
      "epoch: 35, loss: 0.0501116067463749\n",
      "epoch: 36, loss: 0.050066124416806274\n",
      "epoch: 37, loss: 0.050035591017362435\n",
      "epoch: 38, loss: 0.049910555896129714\n",
      "epoch: 39, loss: 0.04972039243743021\n",
      "epoch: 40, loss: 0.04948807633742272\n",
      "epoch: 41, loss: 0.049258168487507754\n",
      "epoch: 42, loss: 0.049143710387920064\n",
      "epoch: 43, loss: 0.04913527797248916\n",
      "epoch: 44, loss: 0.04914260740679944\n",
      "epoch: 45, loss: 0.04913522132189306\n",
      "epoch: 46, loss: 0.04911018382310672\n",
      "epoch: 47, loss: 0.04907658412879504\n",
      "epoch: 48, loss: 0.04905628469269216\n",
      "epoch: 49, loss: 0.04903331127766743\n",
      "epoch: 50, loss: 0.04898704526991384\n",
      "epoch: 51, loss: 0.04894085194999383\n",
      "epoch: 52, loss: 0.04891852893844764\n",
      "epoch: 53, loss: 0.048921686565609274\n",
      "epoch: 54, loss: 0.04894325577699738\n",
      "epoch: 55, loss: 0.048962735316670274\n",
      "epoch: 56, loss: 0.048962052958055564\n",
      "epoch: 57, loss: 0.04895028082423363\n",
      "epoch: 58, loss: 0.048943100690595376\n",
      "epoch: 59, loss: 0.04893844179239307\n",
      "epoch: 60, loss: 0.04893024523546618\n",
      "epoch: 61, loss: 0.048917737950065154\n",
      "epoch: 62, loss: 0.04890390564891915\n",
      "epoch: 63, loss: 0.04889725844992181\n",
      "epoch: 64, loss: 0.048897613900768064\n",
      "epoch: 65, loss: 0.048893483478227945\n",
      "epoch: 66, loss: 0.048883255155552974\n",
      "epoch: 67, loss: 0.048873145381368464\n",
      "epoch: 68, loss: 0.04886574655191429\n",
      "epoch: 69, loss: 0.048861961223973106\n",
      "epoch: 70, loss: 0.04885878329610426\n",
      "epoch: 71, loss: 0.04885420255853897\n",
      "epoch: 72, loss: 0.04885147935008303\n",
      "epoch: 73, loss: 0.048850137876573524\n",
      "epoch: 74, loss: 0.048847700732089244\n",
      "epoch: 75, loss: 0.04884402632254793\n",
      "epoch: 76, loss: 0.04883857100869588\n",
      "epoch: 77, loss: 0.04883297987764489\n",
      "epoch: 78, loss: 0.04882928420819181\n",
      "epoch: 79, loss: 0.048826829065432155\n",
      "epoch: 80, loss: 0.04882551969304415\n",
      "epoch: 81, loss: 0.04882451295940858\n",
      "epoch: 82, loss: 0.04882323923540098\n",
      "epoch: 83, loss: 0.048822366469174615\n",
      "epoch: 84, loss: 0.04882080146708689\n",
      "epoch: 85, loss: 0.04881837943446042\n",
      "epoch: 86, loss: 0.04881567917475379\n",
      "epoch: 87, loss: 0.04881333057938554\n",
      "epoch: 88, loss: 0.048812068190533554\n",
      "epoch: 89, loss: 0.048811066924182196\n",
      "epoch: 90, loss: 0.048810152831687964\n",
      "epoch: 91, loss: 0.0488092492760169\n",
      "epoch: 92, loss: 0.04880817435192689\n",
      "epoch: 93, loss: 0.048807049376473746\n",
      "epoch: 94, loss: 0.04880560156028066\n",
      "epoch: 95, loss: 0.048804227506125016\n",
      "epoch: 96, loss: 0.04880303326251443\n",
      "epoch: 97, loss: 0.048802084811572756\n",
      "epoch: 98, loss: 0.048801303040613905\n",
      "epoch: 99, loss: 0.048800364020433175\n",
      "epoch: 100, loss: 0.04879934466561025\n"
     ]
    }
   ],
   "source": [
    "np.random.seed(42)\n",
    "\n",
    "qnn_list = []\n",
    "for i in range(10):\n",
    "    qnn = sequential_qnn(n_qubits = [5],\n",
    "                         dim = [3,1],\n",
    "                         encoder = RZZEncoder(),\n",
    "                         ansatz = Ansatz(blocks=[\"entangle\", \"ry\"], reps=4),\n",
    "                         sampler = Parity(),\n",
    "                         cost = MSE(),\n",
    "                         optimizer = Adam(lr=0.1),\n",
    "                         shots = 0)\n",
    "    \n",
    "    qnn_list.append([qnn, x_qnn, y, False])\n",
    "\n",
    "    \n",
    "qnn_list[0][3] = True\n",
    "\n",
    "with mp.Pool(10) as p:\n",
    "    qnn_list = p.map(parallel, qnn_list) \n",
    "    \n",
    "    \n",
    "saver(qnn_list, data_path(\"trainability_qnn_1D_2\"))"
   ]
  },
  {
   "cell_type": "code",
   "execution_count": 7,
   "metadata": {},
   "outputs": [
    {
     "name": "stdout",
     "output_type": "stream",
     "text": [
      "epoch: 0, loss: 0.13088905684647234\n",
      "epoch: 1, loss: 0.11819851186573099\n",
      "epoch: 2, loss: 0.11339199316912929\n",
      "epoch: 3, loss: 0.11183678777995237\n",
      "epoch: 4, loss: 0.11051236598865995\n",
      "epoch: 5, loss: 0.1085382550070879\n",
      "epoch: 6, loss: 0.1050031136827332\n",
      "epoch: 7, loss: 0.10000858790799574\n",
      "epoch: 8, loss: 0.09486052322526753\n",
      "epoch: 9, loss: 0.09107681776214108\n",
      "epoch: 10, loss: 0.08874730260326996\n",
      "epoch: 11, loss: 0.08680296812548682\n",
      "epoch: 12, loss: 0.0850651046088233\n",
      "epoch: 13, loss: 0.08399551461270911\n",
      "epoch: 14, loss: 0.08353067847712811\n",
      "epoch: 15, loss: 0.08288069801994323\n",
      "epoch: 16, loss: 0.08158729711270936\n",
      "epoch: 17, loss: 0.07983539872092713\n",
      "epoch: 18, loss: 0.07809801901391611\n",
      "epoch: 19, loss: 0.07685574990720458\n",
      "epoch: 20, loss: 0.07627560469216299\n",
      "epoch: 21, loss: 0.07591716495432159\n",
      "epoch: 22, loss: 0.075234927121309\n",
      "epoch: 23, loss: 0.07425813485697944\n",
      "epoch: 24, loss: 0.07326838138738241\n",
      "epoch: 25, loss: 0.07223814702059121\n",
      "epoch: 26, loss: 0.07088289476606348\n",
      "epoch: 27, loss: 0.06901223320153732\n",
      "epoch: 28, loss: 0.06664848485024394\n",
      "epoch: 29, loss: 0.06403614797143074\n",
      "epoch: 30, loss: 0.06166901404383785\n",
      "epoch: 31, loss: 0.06011512347973365\n",
      "epoch: 32, loss: 0.059502140467888535\n",
      "epoch: 33, loss: 0.0592042031274083\n",
      "epoch: 34, loss: 0.05852196481256853\n",
      "epoch: 35, loss: 0.05751259981223383\n",
      "epoch: 36, loss: 0.05675499845515896\n",
      "epoch: 37, loss: 0.056599560582891596\n",
      "epoch: 38, loss: 0.05683339408545942\n",
      "epoch: 39, loss: 0.05703923459441956\n",
      "epoch: 40, loss: 0.05697367360474899\n",
      "epoch: 41, loss: 0.05652525442536954\n",
      "epoch: 42, loss: 0.0556975729133515\n",
      "epoch: 43, loss: 0.05481454479106208\n",
      "epoch: 44, loss: 0.054401610100864514\n",
      "epoch: 45, loss: 0.054346380001024326\n",
      "epoch: 46, loss: 0.05386639334857053\n",
      "epoch: 47, loss: 0.05306654376624292\n",
      "epoch: 48, loss: 0.0527693112978745\n",
      "epoch: 49, loss: 0.05288521476523708\n",
      "epoch: 50, loss: 0.05281921955598449\n",
      "epoch: 51, loss: 0.05273702592324333\n",
      "epoch: 52, loss: 0.05271657405491603\n",
      "epoch: 53, loss: 0.05241041657352862\n",
      "epoch: 54, loss: 0.05204506941994689\n",
      "epoch: 55, loss: 0.05201268384203914\n",
      "epoch: 56, loss: 0.052011852598987086\n",
      "epoch: 57, loss: 0.05178686294529033\n",
      "epoch: 58, loss: 0.051553206068200054\n",
      "epoch: 59, loss: 0.051393671393129024\n",
      "epoch: 60, loss: 0.051260359205592174\n",
      "epoch: 61, loss: 0.051210094890058205\n",
      "epoch: 62, loss: 0.05114862747390075\n",
      "epoch: 63, loss: 0.05092553077876158\n",
      "epoch: 64, loss: 0.05066541687436696\n"
     ]
    },
    {
     "name": "stderr",
     "output_type": "stream",
     "text": [
      "Process ForkPoolWorker-29:\n",
      "Process ForkPoolWorker-25:\n",
      "Process ForkPoolWorker-22:\n",
      "Process ForkPoolWorker-26:\n",
      "Process ForkPoolWorker-30:\n",
      "Process ForkPoolWorker-24:\n",
      "Process ForkPoolWorker-28:\n"
     ]
    },
    {
     "ename": "KeyboardInterrupt",
     "evalue": "",
     "output_type": "error",
     "traceback": [
      "\u001b[0;31m---------------------------------------------------------------------------\u001b[0m",
      "\u001b[0;31mKeyboardInterrupt\u001b[0m                         Traceback (most recent call last)",
      "\u001b[0;32m<ipython-input-7-ed38528d34fe>\u001b[0m in \u001b[0;36m<module>\u001b[0;34m\u001b[0m\n\u001b[1;32m     18\u001b[0m \u001b[0;34m\u001b[0m\u001b[0m\n\u001b[1;32m     19\u001b[0m \u001b[0;32mwith\u001b[0m \u001b[0mmp\u001b[0m\u001b[0;34m.\u001b[0m\u001b[0mPool\u001b[0m\u001b[0;34m(\u001b[0m\u001b[0;36m10\u001b[0m\u001b[0;34m)\u001b[0m \u001b[0;32mas\u001b[0m \u001b[0mp\u001b[0m\u001b[0;34m:\u001b[0m\u001b[0;34m\u001b[0m\u001b[0;34m\u001b[0m\u001b[0m\n\u001b[0;32m---> 20\u001b[0;31m     \u001b[0mqnn_list\u001b[0m \u001b[0;34m=\u001b[0m \u001b[0mp\u001b[0m\u001b[0;34m.\u001b[0m\u001b[0mmap\u001b[0m\u001b[0;34m(\u001b[0m\u001b[0mparallel\u001b[0m\u001b[0;34m,\u001b[0m \u001b[0mqnn_list\u001b[0m\u001b[0;34m)\u001b[0m\u001b[0;34m\u001b[0m\u001b[0;34m\u001b[0m\u001b[0m\n\u001b[0m\u001b[1;32m     21\u001b[0m \u001b[0;34m\u001b[0m\u001b[0m\n\u001b[1;32m     22\u001b[0m \u001b[0;34m\u001b[0m\u001b[0m\n",
      "\u001b[0;32m~/anaconda3/envs/env_qiskit/lib/python3.9/multiprocessing/pool.py\u001b[0m in \u001b[0;36mmap\u001b[0;34m(self, func, iterable, chunksize)\u001b[0m\n\u001b[1;32m    362\u001b[0m         \u001b[0;32min\u001b[0m \u001b[0ma\u001b[0m \u001b[0mlist\u001b[0m \u001b[0mthat\u001b[0m \u001b[0;32mis\u001b[0m \u001b[0mreturned\u001b[0m\u001b[0;34m.\u001b[0m\u001b[0;34m\u001b[0m\u001b[0;34m\u001b[0m\u001b[0m\n\u001b[1;32m    363\u001b[0m         '''\n\u001b[0;32m--> 364\u001b[0;31m         \u001b[0;32mreturn\u001b[0m \u001b[0mself\u001b[0m\u001b[0;34m.\u001b[0m\u001b[0m_map_async\u001b[0m\u001b[0;34m(\u001b[0m\u001b[0mfunc\u001b[0m\u001b[0;34m,\u001b[0m \u001b[0miterable\u001b[0m\u001b[0;34m,\u001b[0m \u001b[0mmapstar\u001b[0m\u001b[0;34m,\u001b[0m \u001b[0mchunksize\u001b[0m\u001b[0;34m)\u001b[0m\u001b[0;34m.\u001b[0m\u001b[0mget\u001b[0m\u001b[0;34m(\u001b[0m\u001b[0;34m)\u001b[0m\u001b[0;34m\u001b[0m\u001b[0;34m\u001b[0m\u001b[0m\n\u001b[0m\u001b[1;32m    365\u001b[0m \u001b[0;34m\u001b[0m\u001b[0m\n\u001b[1;32m    366\u001b[0m     \u001b[0;32mdef\u001b[0m \u001b[0mstarmap\u001b[0m\u001b[0;34m(\u001b[0m\u001b[0mself\u001b[0m\u001b[0;34m,\u001b[0m \u001b[0mfunc\u001b[0m\u001b[0;34m,\u001b[0m \u001b[0miterable\u001b[0m\u001b[0;34m,\u001b[0m \u001b[0mchunksize\u001b[0m\u001b[0;34m=\u001b[0m\u001b[0;32mNone\u001b[0m\u001b[0;34m)\u001b[0m\u001b[0;34m:\u001b[0m\u001b[0;34m\u001b[0m\u001b[0;34m\u001b[0m\u001b[0m\n",
      "\u001b[0;32m~/anaconda3/envs/env_qiskit/lib/python3.9/multiprocessing/pool.py\u001b[0m in \u001b[0;36mget\u001b[0;34m(self, timeout)\u001b[0m\n\u001b[1;32m    763\u001b[0m \u001b[0;34m\u001b[0m\u001b[0m\n\u001b[1;32m    764\u001b[0m     \u001b[0;32mdef\u001b[0m \u001b[0mget\u001b[0m\u001b[0;34m(\u001b[0m\u001b[0mself\u001b[0m\u001b[0;34m,\u001b[0m \u001b[0mtimeout\u001b[0m\u001b[0;34m=\u001b[0m\u001b[0;32mNone\u001b[0m\u001b[0;34m)\u001b[0m\u001b[0;34m:\u001b[0m\u001b[0;34m\u001b[0m\u001b[0;34m\u001b[0m\u001b[0m\n\u001b[0;32m--> 765\u001b[0;31m         \u001b[0mself\u001b[0m\u001b[0;34m.\u001b[0m\u001b[0mwait\u001b[0m\u001b[0;34m(\u001b[0m\u001b[0mtimeout\u001b[0m\u001b[0;34m)\u001b[0m\u001b[0;34m\u001b[0m\u001b[0;34m\u001b[0m\u001b[0m\n\u001b[0m\u001b[1;32m    766\u001b[0m         \u001b[0;32mif\u001b[0m \u001b[0;32mnot\u001b[0m \u001b[0mself\u001b[0m\u001b[0;34m.\u001b[0m\u001b[0mready\u001b[0m\u001b[0;34m(\u001b[0m\u001b[0;34m)\u001b[0m\u001b[0;34m:\u001b[0m\u001b[0;34m\u001b[0m\u001b[0;34m\u001b[0m\u001b[0m\n\u001b[1;32m    767\u001b[0m             \u001b[0;32mraise\u001b[0m \u001b[0mTimeoutError\u001b[0m\u001b[0;34m\u001b[0m\u001b[0;34m\u001b[0m\u001b[0m\n",
      "\u001b[0;32m~/anaconda3/envs/env_qiskit/lib/python3.9/multiprocessing/pool.py\u001b[0m in \u001b[0;36mwait\u001b[0;34m(self, timeout)\u001b[0m\n\u001b[1;32m    760\u001b[0m \u001b[0;34m\u001b[0m\u001b[0m\n\u001b[1;32m    761\u001b[0m     \u001b[0;32mdef\u001b[0m \u001b[0mwait\u001b[0m\u001b[0;34m(\u001b[0m\u001b[0mself\u001b[0m\u001b[0;34m,\u001b[0m \u001b[0mtimeout\u001b[0m\u001b[0;34m=\u001b[0m\u001b[0;32mNone\u001b[0m\u001b[0;34m)\u001b[0m\u001b[0;34m:\u001b[0m\u001b[0;34m\u001b[0m\u001b[0;34m\u001b[0m\u001b[0m\n\u001b[0;32m--> 762\u001b[0;31m         \u001b[0mself\u001b[0m\u001b[0;34m.\u001b[0m\u001b[0m_event\u001b[0m\u001b[0;34m.\u001b[0m\u001b[0mwait\u001b[0m\u001b[0;34m(\u001b[0m\u001b[0mtimeout\u001b[0m\u001b[0;34m)\u001b[0m\u001b[0;34m\u001b[0m\u001b[0;34m\u001b[0m\u001b[0m\n\u001b[0m\u001b[1;32m    763\u001b[0m \u001b[0;34m\u001b[0m\u001b[0m\n\u001b[1;32m    764\u001b[0m     \u001b[0;32mdef\u001b[0m \u001b[0mget\u001b[0m\u001b[0;34m(\u001b[0m\u001b[0mself\u001b[0m\u001b[0;34m,\u001b[0m \u001b[0mtimeout\u001b[0m\u001b[0;34m=\u001b[0m\u001b[0;32mNone\u001b[0m\u001b[0;34m)\u001b[0m\u001b[0;34m:\u001b[0m\u001b[0;34m\u001b[0m\u001b[0;34m\u001b[0m\u001b[0m\n",
      "\u001b[0;32m~/anaconda3/envs/env_qiskit/lib/python3.9/threading.py\u001b[0m in \u001b[0;36mwait\u001b[0;34m(self, timeout)\u001b[0m\n\u001b[1;32m    572\u001b[0m             \u001b[0msignaled\u001b[0m \u001b[0;34m=\u001b[0m \u001b[0mself\u001b[0m\u001b[0;34m.\u001b[0m\u001b[0m_flag\u001b[0m\u001b[0;34m\u001b[0m\u001b[0;34m\u001b[0m\u001b[0m\n\u001b[1;32m    573\u001b[0m             \u001b[0;32mif\u001b[0m \u001b[0;32mnot\u001b[0m \u001b[0msignaled\u001b[0m\u001b[0;34m:\u001b[0m\u001b[0;34m\u001b[0m\u001b[0;34m\u001b[0m\u001b[0m\n\u001b[0;32m--> 574\u001b[0;31m                 \u001b[0msignaled\u001b[0m \u001b[0;34m=\u001b[0m \u001b[0mself\u001b[0m\u001b[0;34m.\u001b[0m\u001b[0m_cond\u001b[0m\u001b[0;34m.\u001b[0m\u001b[0mwait\u001b[0m\u001b[0;34m(\u001b[0m\u001b[0mtimeout\u001b[0m\u001b[0;34m)\u001b[0m\u001b[0;34m\u001b[0m\u001b[0;34m\u001b[0m\u001b[0m\n\u001b[0m\u001b[1;32m    575\u001b[0m             \u001b[0;32mreturn\u001b[0m \u001b[0msignaled\u001b[0m\u001b[0;34m\u001b[0m\u001b[0;34m\u001b[0m\u001b[0m\n\u001b[1;32m    576\u001b[0m \u001b[0;34m\u001b[0m\u001b[0m\n",
      "\u001b[0;32m~/anaconda3/envs/env_qiskit/lib/python3.9/threading.py\u001b[0m in \u001b[0;36mwait\u001b[0;34m(self, timeout)\u001b[0m\n\u001b[1;32m    310\u001b[0m         \u001b[0;32mtry\u001b[0m\u001b[0;34m:\u001b[0m    \u001b[0;31m# restore state no matter what (e.g., KeyboardInterrupt)\u001b[0m\u001b[0;34m\u001b[0m\u001b[0;34m\u001b[0m\u001b[0m\n\u001b[1;32m    311\u001b[0m             \u001b[0;32mif\u001b[0m \u001b[0mtimeout\u001b[0m \u001b[0;32mis\u001b[0m \u001b[0;32mNone\u001b[0m\u001b[0;34m:\u001b[0m\u001b[0;34m\u001b[0m\u001b[0;34m\u001b[0m\u001b[0m\n\u001b[0;32m--> 312\u001b[0;31m                 \u001b[0mwaiter\u001b[0m\u001b[0;34m.\u001b[0m\u001b[0macquire\u001b[0m\u001b[0;34m(\u001b[0m\u001b[0;34m)\u001b[0m\u001b[0;34m\u001b[0m\u001b[0;34m\u001b[0m\u001b[0m\n\u001b[0m\u001b[1;32m    313\u001b[0m                 \u001b[0mgotit\u001b[0m \u001b[0;34m=\u001b[0m \u001b[0;32mTrue\u001b[0m\u001b[0;34m\u001b[0m\u001b[0;34m\u001b[0m\u001b[0m\n\u001b[1;32m    314\u001b[0m             \u001b[0;32melse\u001b[0m\u001b[0;34m:\u001b[0m\u001b[0;34m\u001b[0m\u001b[0;34m\u001b[0m\u001b[0m\n",
      "\u001b[0;31mKeyboardInterrupt\u001b[0m: "
     ]
    }
   ],
   "source": [
    "np.random.seed(42)\n",
    "\n",
    "qnn_list = []\n",
    "for i in range(10):\n",
    "    qnn = sequential_qnn(n_qubits = [6],\n",
    "                         dim = [3,1],\n",
    "                         encoder = RZZEncoder(),\n",
    "                         ansatz = Ansatz(blocks=[\"entangle\", \"ry\"], reps=3),\n",
    "                         sampler = Parity(),\n",
    "                         cost = MSE(),\n",
    "                         optimizer = Adam(lr=0.1),\n",
    "                         shots = 0)\n",
    "    \n",
    "    qnn_list.append([qnn, x_qnn, y, False])\n",
    "\n",
    "    \n",
    "qnn_list[0][3] = True\n",
    "\n",
    "with mp.Pool(10) as p:\n",
    "    qnn_list = p.map(parallel, qnn_list) \n",
    "    \n",
    "    \n",
    "saver(qnn_list, data_path(\"trainability_qnn_1D_3\"))"
   ]
  },
  {
   "cell_type": "markdown",
   "metadata": {},
   "source": [
    "### QCN"
   ]
  },
  {
   "cell_type": "code",
   "execution_count": null,
   "metadata": {},
   "outputs": [],
   "source": [
    "np.random.seed(42)\n",
    "\n",
    "qcn_list = []\n",
    "for i in range(10):\n",
    "    qcn = sequential_qnn(n_qubits = [4, 4],\n",
    "                         dim = [1, 4, 1],\n",
    "                         encoder = Encoder(),\n",
    "                         ansatz = Ansatz(blocks = [\"entangle\", \"ry\"], reps=1),\n",
    "                         sampler = Parity(),\n",
    "                         cost = MSE(),\n",
    "                         optimizer = Adam(lr=0.1),\n",
    "                         shots = 0)\n",
    "    \n",
    "    qcn_list.append([qcn, x_qcn, y, False])\n",
    "\n",
    "    \n",
    "qcn_list[0][3] = True\n",
    "\n",
    "with mp.Pool(10) as p:\n",
    "    qcn_list = p.map(parallel, qcn_list) \n",
    "    \n",
    "    \n",
    "saver(qcn_list, data_path(\"trainability_qcn_1D_reps_1\"))"
   ]
  },
  {
   "cell_type": "code",
   "execution_count": null,
   "metadata": {},
   "outputs": [],
   "source": [
    "np.random.seed(42)\n",
    "\n",
    "qcn_list = []\n",
    "for i in range(10):\n",
    "    qcn = sequential_qnn(n_qubits = [4, 4],\n",
    "                         dim = [1, 4, 1],\n",
    "                         encoder= Encoder(),\n",
    "                         ansatz = Ansatz(blocks = [\"entangle\", \"ry\"], reps=2),\n",
    "                         sampler = Parity(),\n",
    "                         cost = MSE(),\n",
    "                         optimizer = Adam(lr=0.1),\n",
    "                         shots=0)\n",
    "    \n",
    "    qcn_list.append([qcn, x_qcn, y, False])\n",
    "\n",
    "qcn_list[0][3] = True    \n",
    "    \n",
    "with mp.Pool(10) as p:\n",
    "    qcn_list = p.map(parallel, qcn_list)     \n",
    "    \n",
    "saver(qcn_list, data_path(\"trainability_qcn_1D_reps_2\"))"
   ]
  },
  {
   "cell_type": "markdown",
   "metadata": {},
   "source": [
    "### DNN"
   ]
  },
  {
   "cell_type": "code",
   "execution_count": 9,
   "metadata": {},
   "outputs": [],
   "source": [
    "np.random.seed(42)\n",
    "dnn_list = []\n",
    "for i in range(10):\n",
    "    dnn = sequential_dnn(dim = [1, 5, 1],\n",
    "                         activation = [Tanh(), Identity()],\n",
    "                         optimizer = Adam(lr=0.1))\n",
    "    \n",
    "    dnn.train(x_dnn, y, epochs=100)\n",
    "    dnn_list.append(dnn)\n",
    "\n",
    "saver(dnn_list, data_path(\"trainability_dnn_1D_epochs_100\"))"
   ]
  },
  {
   "cell_type": "code",
   "execution_count": 10,
   "metadata": {},
   "outputs": [],
   "source": [
    "np.random.seed(42)\n",
    "dnn_list = []\n",
    "for i in range(10):\n",
    "    dnn = sequential_dnn(dim = [1, 5, 1],\n",
    "                         activation = [Tanh(), Identity()],\n",
    "                         optimizer = Adam(lr=0.1))\n",
    "    \n",
    "    dnn.train(x_dnn, y, epochs=10000)\n",
    "    dnn_list.append(dnn)\n",
    "\n",
    "saver(dnn_list, data_path(\"trainability_dnn_1D_epochs_10000\"))"
   ]
  },
  {
   "cell_type": "markdown",
   "metadata": {},
   "source": [
    "## 2D function"
   ]
  },
  {
   "cell_type": "markdown",
   "metadata": {},
   "source": [
    "### Generate Data"
   ]
  },
  {
   "cell_type": "code",
   "execution_count": 11,
   "metadata": {},
   "outputs": [],
   "source": [
    "n = 12\n",
    "x, y = generate_2D_mixed_gaussian()\n",
    "x_qcn = scaler(x, a=-np.pi/2, b=np.pi/2)\n",
    "x_qnn = np.hstack([x_qcn, x_qcn[:,0:1]])\n",
    "x_dnn = scaler(x, mode=\"standard\")"
   ]
  },
  {
   "cell_type": "code",
   "execution_count": 12,
   "metadata": {},
   "outputs": [
    {
     "data": {
      "image/png": "[encoded data removed]",
      "text/plain": [
       "<Figure size 432x288 with 2 Axes>"
      ]
     },
     "metadata": {
      "needs_background": "light"
     },
     "output_type": "display_data"
    }
   ],
   "source": [
    "plt.imshow(y.reshape(n,n))\n",
    "plt.colorbar()\n",
    "plt.show()"
   ]
  },
  {
   "cell_type": "markdown",
   "metadata": {},
   "source": [
    "### Training Models"
   ]
  },
  {
   "cell_type": "markdown",
   "metadata": {},
   "source": [
    "### QNN"
   ]
  },
  {
   "cell_type": "code",
   "execution_count": 8,
   "metadata": {},
   "outputs": [
    {
     "name": "stdout",
     "output_type": "stream",
     "text": [
      "epoch: 0, loss: 0.07013283589351635\n",
      "epoch: 1, loss: 0.056516319964252215\n",
      "epoch: 2, loss: 0.04798150173865559\n",
      "epoch: 3, loss: 0.04581213403154008\n",
      "epoch: 4, loss: 0.043839570096269855\n",
      "epoch: 5, loss: 0.04058047904438728\n",
      "epoch: 6, loss: 0.03946655111334087\n",
      "epoch: 7, loss: 0.039806303326709945\n",
      "epoch: 8, loss: 0.03998617955479706\n",
      "epoch: 9, loss: 0.03985229308172952\n",
      "epoch: 10, loss: 0.03919460809280099\n",
      "epoch: 11, loss: 0.03853872247052692\n",
      "epoch: 12, loss: 0.038358171719759776\n",
      "epoch: 13, loss: 0.03826562721150733\n",
      "epoch: 14, loss: 0.03790829679298562\n",
      "epoch: 15, loss: 0.03749627249837904\n",
      "epoch: 16, loss: 0.03716034898954449\n",
      "epoch: 17, loss: 0.036800166623352615\n",
      "epoch: 18, loss: 0.0364610411337796\n",
      "epoch: 19, loss: 0.03635221485813865\n",
      "epoch: 20, loss: 0.03648092999756507\n",
      "epoch: 21, loss: 0.03660774693341411\n",
      "epoch: 22, loss: 0.036603276253938194\n",
      "epoch: 23, loss: 0.0365365372103302\n",
      "epoch: 24, loss: 0.03649109307086237\n",
      "epoch: 25, loss: 0.03643578830342303\n",
      "epoch: 26, loss: 0.03631939214511516\n",
      "epoch: 27, loss: 0.03621240680637117\n",
      "epoch: 28, loss: 0.0361792321913699\n",
      "epoch: 29, loss: 0.036136348120308\n",
      "epoch: 30, loss: 0.03602296668983259\n",
      "epoch: 31, loss: 0.03592149021495338\n",
      "epoch: 32, loss: 0.035898771414439805\n",
      "epoch: 33, loss: 0.03590533512225178\n",
      "epoch: 34, loss: 0.03587822471086912\n",
      "epoch: 35, loss: 0.03583512373409255\n",
      "epoch: 36, loss: 0.03582478773052941\n",
      "epoch: 37, loss: 0.03583566138038753\n",
      "epoch: 38, loss: 0.03582027445127593\n",
      "epoch: 39, loss: 0.03578331580367747\n",
      "epoch: 40, loss: 0.03576631376959491\n",
      "epoch: 41, loss: 0.03576907566523568\n",
      "epoch: 42, loss: 0.03575440334697228\n",
      "epoch: 43, loss: 0.03571693069040101\n",
      "epoch: 44, loss: 0.03569298881773592\n",
      "epoch: 45, loss: 0.035696926266189526\n",
      "epoch: 46, loss: 0.035697153812177716\n",
      "epoch: 47, loss: 0.03567666454047366\n",
      "epoch: 48, loss: 0.03566056694331955\n",
      "epoch: 49, loss: 0.035660635983242116\n",
      "epoch: 50, loss: 0.03565477483940505\n",
      "epoch: 51, loss: 0.03563686790219773\n",
      "epoch: 52, loss: 0.035627881302432836\n",
      "epoch: 53, loss: 0.03563000240329665\n",
      "epoch: 54, loss: 0.03562535757213125\n",
      "epoch: 55, loss: 0.03561674726496229\n",
      "epoch: 56, loss: 0.0356161232845426\n",
      "epoch: 57, loss: 0.035614113122565336\n",
      "epoch: 58, loss: 0.03560306375997893\n",
      "epoch: 59, loss: 0.03559607150706415\n",
      "epoch: 60, loss: 0.03559757797612284\n",
      "epoch: 61, loss: 0.035596079144384146\n",
      "epoch: 62, loss: 0.035592683052081714\n",
      "epoch: 63, loss: 0.0355936317290051\n",
      "epoch: 64, loss: 0.03559194108695724\n",
      "epoch: 65, loss: 0.03558596954573426\n",
      "epoch: 66, loss: 0.0355839522722904\n",
      "epoch: 67, loss: 0.03558408328257793\n",
      "epoch: 68, loss: 0.03558119497026099\n",
      "epoch: 69, loss: 0.035579468030932156\n",
      "epoch: 70, loss: 0.03557983362868603\n",
      "epoch: 71, loss: 0.035577879924907074\n",
      "epoch: 72, loss: 0.0355756123495142\n",
      "epoch: 73, loss: 0.035575459778032184\n",
      "epoch: 74, loss: 0.035574108008794694\n",
      "epoch: 75, loss: 0.03557196510505302\n",
      "epoch: 76, loss: 0.035572005872401356\n",
      "epoch: 77, loss: 0.03557196454003458\n",
      "epoch: 78, loss: 0.03557053508515452\n",
      "epoch: 79, loss: 0.0355700546149535\n",
      "epoch: 80, loss: 0.03556986006749409\n",
      "epoch: 81, loss: 0.035568781589262334\n",
      "epoch: 82, loss: 0.03556844831962794\n",
      "epoch: 83, loss: 0.03556844846898161\n",
      "epoch: 84, loss: 0.03556746113683863\n",
      "epoch: 85, loss: 0.03556675906893173\n",
      "epoch: 86, loss: 0.035566588170852426\n",
      "epoch: 87, loss: 0.03556587385996289\n",
      "epoch: 88, loss: 0.03556525477447414\n",
      "epoch: 89, loss: 0.035564921850758574\n",
      "epoch: 90, loss: 0.03556417961041962\n",
      "epoch: 91, loss: 0.03556361925101639\n",
      "epoch: 92, loss: 0.03556339845033768\n",
      "epoch: 93, loss: 0.03556289008918604\n",
      "epoch: 94, loss: 0.03556248721107529\n",
      "epoch: 95, loss: 0.035562296736534424\n",
      "epoch: 96, loss: 0.035561872796090986\n",
      "epoch: 97, loss: 0.035561521634335916\n",
      "epoch: 98, loss: 0.03556128585709119\n",
      "epoch: 99, loss: 0.03556090267278879\n",
      "epoch: 100, loss: 0.03556066800597982\n"
     ]
    }
   ],
   "source": [
    "np.random.seed(42)\n",
    "\n",
    "qnn_list = []\n",
    "for i in range(10):\n",
    "    qnn = sequential_qnn(n_qubits = [4],\n",
    "                         dim = [3,1],\n",
    "                         encoder = RZZEncoder(),\n",
    "                         ansatz = Ansatz(blocks=[\"entangle\", \"ry\"], reps=10),\n",
    "                         sampler = Parity(),\n",
    "                         cost = MSE(),\n",
    "                         optimizer = Adam(lr=0.1),\n",
    "                         shots = 0)\n",
    "    \n",
    "    qnn_list.append([qnn, x_qnn, y, False])\n",
    "\n",
    "    \n",
    "qnn_list[0][3] = True\n",
    "\n",
    "with mp.Pool(10) as p:\n",
    "    qnn_list = p.map(parallel, qnn_list) \n",
    "    \n",
    "    \n",
    "saver(qnn_list, data_path(\"trainability_qnn_2D\"))"
   ]
  },
  {
   "cell_type": "markdown",
   "metadata": {},
   "source": [
    "### QCN"
   ]
  },
  {
   "cell_type": "code",
   "execution_count": null,
   "metadata": {},
   "outputs": [],
   "source": [
    "np.random.seed(42)\n",
    "\n",
    "qcn_list = []\n",
    "for i in range(10):\n",
    "    qcn = sequential_qnn(n_qubits = [4, 4, 4],\n",
    "                         dim = [2, 4, 4, 1],\n",
    "                         encoder= Encoder(),\n",
    "                         ansatz = Ansatz(blocks = [\"entangle\", \"ry\"], reps=1),\n",
    "                         sampler = Parity(),\n",
    "                         cost = MSE(),\n",
    "                         optimizer = Adam(lr=0.1),\n",
    "                         backend=backend,\n",
    "                         shots=0)\n",
    "    qcn_list.append([qcn, x_qcn, y, False])\n",
    "    \n",
    "qcn_list[0][3] = True    \n",
    "    \n",
    "with mp.Pool(10) as p:\n",
    "    qcn_list = p.map(parallel, qcn_list)   \n",
    "\n",
    "saver(qcn_list, data_path(\"trainability_qcn_2D_reps_1\"))"
   ]
  },
  {
   "cell_type": "code",
   "execution_count": null,
   "metadata": {},
   "outputs": [],
   "source": [
    "np.random.seed(42)\n",
    "\n",
    "qcn_list = []\n",
    "for i in range(10):\n",
    "    qcn = sequential_qnn(n_qubits = [4, 4, 4],\n",
    "                         dim = [2, 4, 4, 1],\n",
    "                         encoder= Encoder(),\n",
    "                         ansatz = Ansatz(blocks = [\"entangle\", \"ry\"], reps=2),\n",
    "                         sampler = Parity(),\n",
    "                         cost = MSE(),\n",
    "                         optimizer = Adam(lr=0.1),\n",
    "                         backend=backend,\n",
    "                         shots=0)\n",
    "   \n",
    "    qcn_list.append([qcn, x_qcn, y, False])\n",
    "\n",
    "qcn_list[0][3] = True    \n",
    "    \n",
    "with mp.Pool(10) as p:\n",
    "    qcn_list = p.map(parallel, qcn_list)   \n",
    "    \n",
    "saver(qcn_list, data_path(\"trainability_qcn_2D_reps_2\"))"
   ]
  },
  {
   "cell_type": "markdown",
   "metadata": {},
   "source": [
    "### DNN"
   ]
  },
  {
   "cell_type": "code",
   "execution_count": 13,
   "metadata": {},
   "outputs": [],
   "source": [
    "np.random.seed(42)\n",
    "dnn_list = []\n",
    "for i in range(10):\n",
    "    dnn = sequential_dnn(dim = [2, 5, 5, 1],\n",
    "                         activation = [Tanh(), Tanh(), Identity()],\n",
    "                         optimizer = Adam(lr=0.1))\n",
    "    \n",
    "    dnn.train(x_dnn, y, epochs=100)\n",
    "    dnn_list.append(dnn)\n",
    "\n",
    "saver(dnn_list, data_path(\"trainability_dnn_2D_epochs_100\"))"
   ]
  },
  {
   "cell_type": "code",
   "execution_count": 14,
   "metadata": {},
   "outputs": [],
   "source": [
    "np.random.seed(42)\n",
    "dnn_list = []\n",
    "for i in range(10):\n",
    "    dnn = sequential_dnn(dim = [2, 5, 5, 1],\n",
    "                         activation = [Tanh(), Tanh(), Identity()],\n",
    "                         optimizer = Adam(lr=0.1))\n",
    "    \n",
    "    dnn.train(x_dnn, y, epochs=10000)\n",
    "    dnn_list.append(dnn)\n",
    "\n",
    "saver(dnn_list, data_path(\"trainability_dnn_2D_epochs_10000\"))"
   ]
  },
  {
   "cell_type": "markdown",
   "metadata": {},
   "source": [
    "## 3D function"
   ]
  },
  {
   "cell_type": "markdown",
   "metadata": {},
   "source": [
    "### Generate Data"
   ]
  },
  {
   "cell_type": "code",
   "execution_count": 15,
   "metadata": {},
   "outputs": [],
   "source": [
    "n = 6\n",
    "x, y = generate_3D_mixed_gaussian()\n",
    "x_qcn = scaler(x, a=-np.pi/2, b=np.pi/2)\n",
    "x_qnn = x_qcn\n",
    "x_dnn = scaler(x, mode=\"standard\")"
   ]
  },
  {
   "cell_type": "code",
   "execution_count": 16,
   "metadata": {},
   "outputs": [
    {
     "data": {
      "image/png": "[encoded data removed]",
      "text/plain": [
       "<Figure size 432x288 with 2 Axes>"
      ]
     },
     "metadata": {
      "needs_background": "light"
     },
     "output_type": "display_data"
    }
   ],
   "source": [
    "plt.imshow(y.reshape(n,n,n)[1])\n",
    "plt.colorbar()\n",
    "plt.show()"
   ]
  },
  {
   "cell_type": "markdown",
   "metadata": {},
   "source": [
    "### QNN"
   ]
  },
  {
   "cell_type": "code",
   "execution_count": 11,
   "metadata": {},
   "outputs": [
    {
     "name": "stdout",
     "output_type": "stream",
     "text": [
      "epoch: 0, loss: 0.030833617985558084\n",
      "epoch: 1, loss: 0.030247041311208728\n",
      "epoch: 2, loss: 0.02350912040519421\n",
      "epoch: 3, loss: 0.024701122495593916\n",
      "epoch: 4, loss: 0.024100254928790334\n",
      "epoch: 5, loss: 0.021488260858062977\n",
      "epoch: 6, loss: 0.02145526409352309\n",
      "epoch: 7, loss: 0.021906443126305936\n",
      "epoch: 8, loss: 0.021193105270017214\n",
      "epoch: 9, loss: 0.020614032134376487\n",
      "epoch: 10, loss: 0.020683446724597536\n",
      "epoch: 11, loss: 0.02085096565639248\n",
      "epoch: 12, loss: 0.020821605405740153\n",
      "epoch: 13, loss: 0.020676847037667683\n",
      "epoch: 14, loss: 0.020479998449086087\n",
      "epoch: 15, loss: 0.020262769665705484\n",
      "epoch: 16, loss: 0.020112797587682193\n",
      "epoch: 17, loss: 0.02008149999197412\n",
      "epoch: 18, loss: 0.020096317895330333\n",
      "epoch: 19, loss: 0.02006682295727245\n",
      "epoch: 20, loss: 0.019985547343352453\n",
      "epoch: 21, loss: 0.019898218877782124\n",
      "epoch: 22, loss: 0.019834762390935106\n",
      "epoch: 23, loss: 0.01979418512657666\n",
      "epoch: 24, loss: 0.01977105507279797\n",
      "epoch: 25, loss: 0.019754667853251893\n",
      "epoch: 26, loss: 0.019726370279944946\n",
      "epoch: 27, loss: 0.019682434313265232\n",
      "epoch: 28, loss: 0.019642040139727323\n",
      "epoch: 29, loss: 0.01962197230898072\n",
      "epoch: 30, loss: 0.019616476777239766\n",
      "epoch: 31, loss: 0.019609571528744887\n",
      "epoch: 32, loss: 0.01959704069509116\n",
      "epoch: 33, loss: 0.01958733720441473\n",
      "epoch: 34, loss: 0.019584833600901512\n",
      "epoch: 35, loss: 0.01958242361911636\n",
      "epoch: 36, loss: 0.019572397518290124\n",
      "epoch: 37, loss: 0.019557353977615\n",
      "epoch: 38, loss: 0.01954494137432205\n",
      "epoch: 39, loss: 0.01953634904191028\n",
      "epoch: 40, loss: 0.01952801199261068\n",
      "epoch: 41, loss: 0.01952054888798911\n",
      "epoch: 42, loss: 0.019516803860746265\n",
      "epoch: 43, loss: 0.019514319435789258\n",
      "epoch: 44, loss: 0.019507143291765856\n",
      "epoch: 45, loss: 0.019494452227052754\n",
      "epoch: 46, loss: 0.019483096619939574\n",
      "epoch: 47, loss: 0.0194795494849697\n",
      "epoch: 48, loss: 0.01948188676401039\n",
      "epoch: 49, loss: 0.01948386831490488\n",
      "epoch: 50, loss: 0.019483821356900983\n",
      "epoch: 51, loss: 0.019483451917235425\n",
      "epoch: 52, loss: 0.019482275919788097\n",
      "epoch: 53, loss: 0.019479658387693086\n",
      "epoch: 54, loss: 0.019478096846256922\n",
      "epoch: 55, loss: 0.01947934728696983\n",
      "epoch: 56, loss: 0.0194806493154789\n",
      "epoch: 57, loss: 0.019478926046246146\n",
      "epoch: 58, loss: 0.01947569374470726\n",
      "epoch: 59, loss: 0.0194740171706733\n",
      "epoch: 60, loss: 0.019473731766994545\n",
      "epoch: 61, loss: 0.019473019932785673\n",
      "epoch: 62, loss: 0.019471759853975895\n",
      "epoch: 63, loss: 0.019470550538684833\n",
      "epoch: 64, loss: 0.019469023841125574\n",
      "epoch: 65, loss: 0.019467297773788264\n",
      "epoch: 66, loss: 0.01946673735857312\n",
      "epoch: 67, loss: 0.019467723734136883\n",
      "epoch: 68, loss: 0.019468654931558756\n",
      "epoch: 69, loss: 0.019468196489905668\n",
      "epoch: 70, loss: 0.019467014257196432\n",
      "epoch: 71, loss: 0.019466412548257917\n",
      "epoch: 72, loss: 0.019466518007910837\n",
      "epoch: 73, loss: 0.019466729684450762\n",
      "epoch: 74, loss: 0.019466819094067642\n",
      "epoch: 75, loss: 0.01946672785848175\n",
      "epoch: 76, loss: 0.019466281262418592\n",
      "epoch: 77, loss: 0.01946566801005191\n",
      "epoch: 78, loss: 0.019465351064910076\n",
      "epoch: 79, loss: 0.019465350545956633\n",
      "epoch: 80, loss: 0.019465346850406462\n",
      "epoch: 81, loss: 0.019465301741829196\n",
      "epoch: 82, loss: 0.019465344826573097\n",
      "epoch: 83, loss: 0.019465384895807698\n",
      "epoch: 84, loss: 0.019465297117612065\n",
      "epoch: 85, loss: 0.019465150315673117\n",
      "epoch: 86, loss: 0.019465032749144143\n",
      "epoch: 87, loss: 0.01946495082924121\n",
      "epoch: 88, loss: 0.01946491514778427\n",
      "epoch: 89, loss: 0.019464916262989226\n",
      "epoch: 90, loss: 0.019464890560872777\n",
      "epoch: 91, loss: 0.019464811624441764\n",
      "epoch: 92, loss: 0.019464732648662598\n",
      "epoch: 93, loss: 0.019464705469643708\n",
      "epoch: 94, loss: 0.019464708245754594\n",
      "epoch: 95, loss: 0.01946469095234809\n",
      "epoch: 96, loss: 0.0194646670568527\n",
      "epoch: 97, loss: 0.019464677726570526\n",
      "epoch: 98, loss: 0.019464694490009565\n",
      "epoch: 99, loss: 0.01946466645950213\n",
      "epoch: 100, loss: 0.019464615234113993\n"
     ]
    }
   ],
   "source": [
    "np.random.seed(42)\n",
    "\n",
    "qnn_list = []\n",
    "for i in range(10):\n",
    "    qnn = sequential_qnn(n_qubits = [5],\n",
    "                         dim = [3,1],\n",
    "                         encoder = RZZEncoder(),\n",
    "                         ansatz = Ansatz(blocks=[\"entangle\", \"ry\"], reps=11),\n",
    "                         sampler = Parity(),\n",
    "                         cost = MSE(),\n",
    "                         optimizer = Adam(lr=0.1),\n",
    "                         shots = 0)\n",
    "    \n",
    "    qnn_list.append([qnn, x_qnn, y, False])\n",
    "\n",
    "    \n",
    "qnn_list[0][3] = True\n",
    "\n",
    "with mp.Pool(10) as p:\n",
    "    qnn_list = p.map(parallel, qnn_list) \n",
    "    \n",
    "    \n",
    "saver(qnn_list, data_path(\"trainability_qnn_3D\"))"
   ]
  },
  {
   "cell_type": "markdown",
   "metadata": {},
   "source": [
    "### QCN"
   ]
  },
  {
   "cell_type": "code",
   "execution_count": null,
   "metadata": {},
   "outputs": [],
   "source": [
    "np.random.seed(42)\n",
    "\n",
    "qcn_list = []\n",
    "for i in range(10):\n",
    "    qcn = sequential_qnn(n_qubits = [5, 5, 5],\n",
    "                         dim = [3, 5, 5, 1],\n",
    "                         encoder= Encoder(),\n",
    "                         ansatz = Ansatz(blocks = [\"entangle\", \"ry\"], reps = 1),\n",
    "                         sampler = Parity(),\n",
    "                         cost = MSE(),\n",
    "                         optimizer = Adam(lr=0.1),\n",
    "                         backend = backend,\n",
    "                         shots = 0)\n",
    "\n",
    "    qcn_list.append([qcn, x_qcn, y, False])\n",
    "\n",
    "qcn_list[0][3] = True    \n",
    "    \n",
    "with mp.Pool(10) as p:\n",
    "    qcn_list = p.map(parallel, qcn_list) \n",
    "    \n",
    "saver(qcn_list, data_path(\"trainability_qcn_3D_reps_1\"))"
   ]
  },
  {
   "cell_type": "code",
   "execution_count": null,
   "metadata": {},
   "outputs": [],
   "source": [
    "np.random.seed(42)\n",
    "\n",
    "qcn_list = []\n",
    "for i in range(10):\n",
    "    qcn = sequential_qnn(n_qubits = [5, 5, 5],\n",
    "                         dim = [3, 5, 5, 1],\n",
    "                         encoder= Encoder(),\n",
    "                         ansatz = Ansatz(blocks = [\"entangle\", \"ry\"], reps = 2),\n",
    "                         sampler = Parity(),\n",
    "                         cost = MSE(),\n",
    "                         optimizer = Adam(lr=0.1),\n",
    "                         backend = backend,\n",
    "                         shots = 0)\n",
    "\n",
    "    qcn_list.append([qcn, x_qcn, y, False])\n",
    "\n",
    "qcn_list[0][3] = True    \n",
    "    \n",
    "with mp.Pool(10) as p:\n",
    "    qcn_list = p.map(parallel, qcn_list) \n",
    "    \n",
    "saver(qcn_list, data_path(\"trainability_qcn_3D_reps_2\"))"
   ]
  },
  {
   "cell_type": "markdown",
   "metadata": {},
   "source": [
    "### DNN"
   ]
  },
  {
   "cell_type": "code",
   "execution_count": null,
   "metadata": {},
   "outputs": [],
   "source": [
    "np.random.seed(42)\n",
    "dnn_list = []\n",
    "for i in range(10):\n",
    "    dnn = sequential_dnn(dim = [3, 8, 8, 1],\n",
    "                         activation = [Tanh(), Tanh(), Identity()],\n",
    "                         optimizer = Adam(lr=0.1))\n",
    "    \n",
    "    dnn.train(x_dnn, y, epochs=100)\n",
    "    dnn_list.append(dnn)\n",
    "\n",
    "saver(dnn_list, data_path(\"trainability_dnn_3D_epochs_100\"))"
   ]
  },
  {
   "cell_type": "code",
   "execution_count": null,
   "metadata": {},
   "outputs": [],
   "source": [
    "np.random.seed(42)\n",
    "dnn_list = []\n",
    "for i in range(10):\n",
    "    dnn = sequential_dnn(dim = [3, 8, 8, 1],\n",
    "                         activation = [Tanh(), Tanh(), Identity()],\n",
    "                         optimizer = Adam(lr=0.1))\n",
    "    \n",
    "    dnn.train(x_dnn, y, epochs=10000)\n",
    "    dnn_list.append(dnn)\n",
    "\n",
    "saver(dnn_list, data_path(\"trainability_dnn_3D_epochs_10000\"))"
   ]
  }
 ],
 "metadata": {
  "kernelspec": {
   "display_name": "env_qiskit",
   "language": "python",
   "name": "env_qiskit"
  },
  "language_info": {
   "codemirror_mode": {
    "name": "ipython",
    "version": 3
   },
   "file_extension": ".py",
   "mimetype": "text/x-python",
   "name": "python",
   "nbconvert_exporter": "python",
   "pygments_lexer": "ipython3",
   "version": "3.9.1"
  }
 },
 "nbformat": 4,
 "nbformat_minor": 4
}
