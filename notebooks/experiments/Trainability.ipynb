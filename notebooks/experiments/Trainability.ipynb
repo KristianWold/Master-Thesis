{
 "cells": [
  {
   "cell_type": "code",
   "execution_count": 1,
   "metadata": {},
   "outputs": [],
   "source": [
    "import numpy as np\n",
    "import qiskit as qk\n",
    "import matplotlib.pyplot as plt\n",
    "from qiskit import Aer\n",
    "from sklearn.decomposition import PCA\n",
    "from tqdm.notebook import tqdm\n",
    "\n",
    "import sys\n",
    "sys.path.insert(0, '../../src/')\n",
    "from neuralnetwork import *\n",
    "from analysis import *\n",
    "from utils import *\n",
    "\n",
    "#%matplotlib notebook\n",
    "%matplotlib inline\n",
    "%load_ext autoreload\n",
    "%autoreload 2"
   ]
  },
  {
   "cell_type": "code",
   "execution_count": 2,
   "metadata": {},
   "outputs": [],
   "source": [
    "backend = Aer.get_backend('qasm_simulator')"
   ]
  },
  {
   "cell_type": "markdown",
   "metadata": {},
   "source": [
    "# Trainability"
   ]
  },
  {
   "cell_type": "markdown",
   "metadata": {},
   "source": [
    "## 1D, Gaussian Function"
   ]
  },
  {
   "cell_type": "markdown",
   "metadata": {},
   "source": [
    "### Generate Data"
   ]
  },
  {
   "cell_type": "code",
   "execution_count": 18,
   "metadata": {},
   "outputs": [
    {
     "name": "stdout",
     "output_type": "stream",
     "text": [
      "(100, 1)\n"
     ]
    }
   ],
   "source": [
    "n = 100\n",
    "x = np.linspace(0, 1, n).reshape(-1,1)\n",
    "y = gaussian(x, 0.5, 0.01)-gaussian(x, 0.2, 0.01) - gaussian(x, 0.8, 0.01) \n",
    "\n",
    "x_qnn = scaler(x, a=-np.pi/2, b=np.pi/2)\n",
    "x_dnn = scaler(x, mode=\"standard\")\n",
    "y = scaler(y, a=0, b=1)\n",
    "print(y.shape)"
   ]
  },
  {
   "cell_type": "code",
   "execution_count": 19,
   "metadata": {
    "scrolled": true
   },
   "outputs": [
    {
     "data": {
      "image/png": "[encoded data removed]",
      "text/plain": [
       "<Figure size 432x288 with 1 Axes>"
      ]
     },
     "metadata": {
      "needs_background": "light"
     },
     "output_type": "display_data"
    }
   ],
   "source": [
    "plt.plot(x_qnn, y, 'o')\n",
    "plt.show()"
   ]
  },
  {
   "cell_type": "markdown",
   "metadata": {},
   "source": [
    "### Training Models"
   ]
  },
  {
   "cell_type": "code",
   "execution_count": 20,
   "metadata": {},
   "outputs": [
    {
     "data": {
      "application/vnd.jupyter.widget-view+json": {
       "model_id": "a5e5aa9e7b324b5a98e5f56d5b59d7be",
       "version_major": 2,
       "version_minor": 0
      },
      "text/plain": [
       "  0%|          | 0/1 [00:00<?, ?it/s]"
      ]
     },
     "metadata": {},
     "output_type": "display_data"
    },
    {
     "data": {
      "application/vnd.jupyter.widget-view+json": {
       "model_id": "1323c656aba841b7a8e16b5f4307639f",
       "version_major": 2,
       "version_minor": 0
      },
      "text/plain": [
       "  0%|          | 0/100 [00:00<?, ?it/s]"
      ]
     },
     "metadata": {},
     "output_type": "display_data"
    },
    {
     "name": "stdout",
     "output_type": "stream",
     "text": [
      "epoch: 0, loss: 0.15369222831778623\n",
      "epoch: 1, loss: 0.12208509365613653\n",
      "epoch: 2, loss: 0.10056557230256587\n",
      "epoch: 3, loss: 0.08793734228161769\n",
      "epoch: 4, loss: 0.07797110098134745\n",
      "epoch: 5, loss: 0.06700043841494065\n",
      "epoch: 6, loss: 0.05770790533655073\n",
      "epoch: 7, loss: 0.05141550853768334\n",
      "epoch: 8, loss: 0.04580491423423064\n",
      "epoch: 9, loss: 0.03886285432013398\n",
      "epoch: 10, loss: 0.03188263986433291\n",
      "epoch: 11, loss: 0.02614546570939757\n",
      "epoch: 12, loss: 0.02149772603759839\n",
      "epoch: 13, loss: 0.018619523666665565\n",
      "epoch: 14, loss: 0.01784537656869776\n",
      "epoch: 15, loss: 0.017564328323453823\n",
      "epoch: 16, loss: 0.017302863801686136\n",
      "epoch: 17, loss: 0.016142919266751016\n",
      "epoch: 18, loss: 0.015143859529852158\n",
      "epoch: 19, loss: 0.015749363288939916\n",
      "epoch: 20, loss: 0.017049352855453934\n",
      "epoch: 21, loss: 0.017701185492414458\n",
      "epoch: 22, loss: 0.015979539527611702\n",
      "epoch: 23, loss: 0.014823229041111465\n",
      "epoch: 24, loss: 0.014934766000597937\n",
      "epoch: 25, loss: 0.015224847241302903\n",
      "epoch: 26, loss: 0.014785884307297317\n",
      "epoch: 27, loss: 0.013719881143145677\n",
      "epoch: 28, loss: 0.012844891115044223\n",
      "epoch: 29, loss: 0.01358120835657316\n",
      "epoch: 30, loss: 0.013270883969934083\n",
      "epoch: 31, loss: 0.012850014302085863\n",
      "epoch: 32, loss: 0.012331961013609328\n",
      "epoch: 33, loss: 0.012420954768738137\n",
      "epoch: 34, loss: 0.0128232349279297\n",
      "epoch: 35, loss: 0.012759039603812075\n",
      "epoch: 36, loss: 0.01243974876034093\n",
      "epoch: 37, loss: 0.012379164836761531\n",
      "epoch: 38, loss: 0.012883256635502792\n",
      "epoch: 39, loss: 0.012952880284571533\n",
      "epoch: 40, loss: 0.01220549099674837\n",
      "epoch: 41, loss: 0.012444708493585331\n",
      "epoch: 42, loss: 0.012402463691358178\n",
      "epoch: 43, loss: 0.01229839270845596\n",
      "epoch: 44, loss: 0.012665238918705874\n",
      "epoch: 45, loss: 0.011564048331802248\n",
      "epoch: 46, loss: 0.012221853915849411\n",
      "epoch: 47, loss: 0.012089907512821494\n",
      "epoch: 48, loss: 0.011849727573642022\n",
      "epoch: 49, loss: 0.01167160635969323\n",
      "epoch: 50, loss: 0.011887305630655676\n",
      "epoch: 51, loss: 0.011531000228692792\n",
      "epoch: 52, loss: 0.011641301723026886\n",
      "epoch: 53, loss: 0.011298255411620323\n",
      "epoch: 54, loss: 0.011359476166345013\n",
      "epoch: 55, loss: 0.010672291246005619\n",
      "epoch: 56, loss: 0.010927350215690579\n",
      "epoch: 57, loss: 0.010775646539423638\n",
      "epoch: 58, loss: 0.009971467452767164\n",
      "epoch: 59, loss: 0.00992141476056728\n",
      "epoch: 60, loss: 0.009650806559016978\n",
      "epoch: 61, loss: 0.009262078704078195\n",
      "epoch: 62, loss: 0.00908840330595569\n",
      "epoch: 63, loss: 0.008887090677046811\n",
      "epoch: 64, loss: 0.00847212064042993\n",
      "epoch: 65, loss: 0.008729502906572654\n",
      "epoch: 66, loss: 0.008181459345661045\n",
      "epoch: 67, loss: 0.007976952744447883\n",
      "epoch: 68, loss: 0.007649453116140091\n",
      "epoch: 69, loss: 0.007611121620433238\n",
      "epoch: 70, loss: 0.0071600196532096835\n",
      "epoch: 71, loss: 0.006863391664158593\n",
      "epoch: 72, loss: 0.006629191811592634\n",
      "epoch: 73, loss: 0.0069216710570216165\n",
      "epoch: 74, loss: 0.006832690472700674\n",
      "epoch: 75, loss: 0.007011985548158668\n",
      "epoch: 76, loss: 0.006881017675609793\n",
      "epoch: 77, loss: 0.006728229593939107\n",
      "epoch: 78, loss: 0.006606894556272066\n",
      "epoch: 79, loss: 0.006708394533514871\n",
      "epoch: 80, loss: 0.006659962802270184\n",
      "epoch: 81, loss: 0.006524860086051655\n",
      "epoch: 82, loss: 0.006630500740404563\n",
      "epoch: 83, loss: 0.006467033321440472\n",
      "epoch: 84, loss: 0.006561725407723722\n",
      "epoch: 85, loss: 0.006633782694521569\n",
      "epoch: 86, loss: 0.006592744941694143\n",
      "epoch: 87, loss: 0.006432935157966474\n",
      "epoch: 88, loss: 0.006450420350890334\n",
      "epoch: 89, loss: 0.006219756298917329\n",
      "epoch: 90, loss: 0.006321524054741381\n",
      "epoch: 91, loss: 0.006483981732535793\n",
      "epoch: 92, loss: 0.006388190455823092\n",
      "epoch: 93, loss: 0.006417360738316396\n",
      "epoch: 94, loss: 0.0064440208470242675\n",
      "epoch: 95, loss: 0.006368349996103996\n",
      "epoch: 96, loss: 0.0064253972856135\n",
      "epoch: 97, loss: 0.00633265137162008\n",
      "epoch: 98, loss: 0.006574202778149653\n",
      "epoch: 99, loss: 0.006365736909397236\n"
     ]
    }
   ],
   "source": [
    "np.random.seed(42)\n",
    "\n",
    "qnn_list = []\n",
    "for i in tqdm(range(1)):\n",
    "    qnn = sequential_qnn(n_qubits = [1, 4],\n",
    "                         dim = [1, 4, 1],\n",
    "                         encoder= Encoder(),\n",
    "                         ansatz = Ansatz(reps=1),\n",
    "                         sampler = Parity(),\n",
    "                         cost = MSE(),\n",
    "                         optimizer = Adam(lr=0.1),\n",
    "                         backend=backend,\n",
    "                         shots=10000)\n",
    "    qnn.train(x_qnn, y, epochs=100, verbose=True)\n",
    "    qnn_list.append(qnn)\n",
    "\n",
    "saver(qnn_list, data_path(\"trainability_qnn_1D_reps_1\"))"
   ]
  },
  {
   "cell_type": "code",
   "execution_count": 21,
   "metadata": {},
   "outputs": [
    {
     "data": {
      "application/vnd.jupyter.widget-view+json": {
       "model_id": "7fa365eeddd24927a6665a21460d0755",
       "version_major": 2,
       "version_minor": 0
      },
      "text/plain": [
       "  0%|          | 0/1 [00:00<?, ?it/s]"
      ]
     },
     "metadata": {},
     "output_type": "display_data"
    },
    {
     "data": {
      "application/vnd.jupyter.widget-view+json": {
       "model_id": "d6f519e18d784ce2a358336cdbd3af56",
       "version_major": 2,
       "version_minor": 0
      },
      "text/plain": [
       "  0%|          | 0/100 [00:00<?, ?it/s]"
      ]
     },
     "metadata": {},
     "output_type": "display_data"
    },
    {
     "name": "stdout",
     "output_type": "stream",
     "text": [
      "epoch: 0, loss: 0.1445368595146391\n",
      "epoch: 1, loss: 0.06841401516435647\n",
      "epoch: 2, loss: 0.047479166450129374\n",
      "epoch: 3, loss: 0.045477873104951744\n",
      "epoch: 4, loss: 0.03933610239178473\n",
      "epoch: 5, loss: 0.03750499747974437\n",
      "epoch: 6, loss: 0.039526133813479206\n",
      "epoch: 7, loss: 0.0426253032454786\n",
      "epoch: 8, loss: 0.04160680561318068\n",
      "epoch: 9, loss: 0.03805711114891128\n",
      "epoch: 10, loss: 0.03366188888845172\n",
      "epoch: 11, loss: 0.031047359818558266\n",
      "epoch: 12, loss: 0.030246718247898766\n",
      "epoch: 13, loss: 0.03073652858823144\n",
      "epoch: 14, loss: 0.030738794098927408\n",
      "epoch: 15, loss: 0.029195094060621245\n",
      "epoch: 16, loss: 0.027868953835251342\n",
      "epoch: 17, loss: 0.02684252751258179\n",
      "epoch: 18, loss: 0.026942857147041237\n",
      "epoch: 19, loss: 0.026822450436171597\n",
      "epoch: 20, loss: 0.02683538055039833\n",
      "epoch: 21, loss: 0.026631527200020252\n",
      "epoch: 22, loss: 0.026636493709978518\n",
      "epoch: 23, loss: 0.02657727143227913\n",
      "epoch: 24, loss: 0.026511761620906876\n",
      "epoch: 25, loss: 0.02575586195063696\n",
      "epoch: 26, loss: 0.02454424379502913\n",
      "epoch: 27, loss: 0.024677682828931777\n",
      "epoch: 28, loss: 0.023954925588765073\n",
      "epoch: 29, loss: 0.023718994734526835\n",
      "epoch: 30, loss: 0.023411368437418555\n",
      "epoch: 31, loss: 0.022979987760884727\n",
      "epoch: 32, loss: 0.022781540945867308\n",
      "epoch: 33, loss: 0.022083504957487125\n",
      "epoch: 34, loss: 0.02194164239928387\n",
      "epoch: 35, loss: 0.021632490452425598\n",
      "epoch: 36, loss: 0.020885040369657264\n",
      "epoch: 37, loss: 0.02073035737564929\n",
      "epoch: 38, loss: 0.02067632996669114\n",
      "epoch: 39, loss: 0.02031843050736932\n",
      "epoch: 40, loss: 0.019844241022730042\n",
      "epoch: 41, loss: 0.01948502239056733\n",
      "epoch: 42, loss: 0.01909557314254045\n",
      "epoch: 43, loss: 0.018728434909471244\n",
      "epoch: 44, loss: 0.01854077737992477\n",
      "epoch: 45, loss: 0.018344201775971083\n",
      "epoch: 46, loss: 0.01726788187391619\n",
      "epoch: 47, loss: 0.01722408060854447\n",
      "epoch: 48, loss: 0.017199630576440583\n",
      "epoch: 49, loss: 0.017014523161721928\n",
      "epoch: 50, loss: 0.01644861703682716\n",
      "epoch: 51, loss: 0.015667429195797757\n",
      "epoch: 52, loss: 0.015645936100375808\n",
      "epoch: 53, loss: 0.01558048139056128\n",
      "epoch: 54, loss: 0.015321434083143506\n",
      "epoch: 55, loss: 0.014574036023512886\n",
      "epoch: 56, loss: 0.014294192469683688\n",
      "epoch: 57, loss: 0.013898498319327865\n",
      "epoch: 58, loss: 0.0136633496475689\n",
      "epoch: 59, loss: 0.013206708050062115\n",
      "epoch: 60, loss: 0.01273620823472156\n",
      "epoch: 61, loss: 0.01253353275583015\n",
      "epoch: 62, loss: 0.01187142212213039\n",
      "epoch: 63, loss: 0.011119618752983798\n",
      "epoch: 64, loss: 0.010224187125473863\n",
      "epoch: 65, loss: 0.00960188966869362\n",
      "epoch: 66, loss: 0.008584532960140624\n",
      "epoch: 67, loss: 0.007681081124764857\n",
      "epoch: 68, loss: 0.006684131282372646\n",
      "epoch: 69, loss: 0.006106963863231819\n",
      "epoch: 70, loss: 0.005861441789480678\n",
      "epoch: 71, loss: 0.005612063190925629\n",
      "epoch: 72, loss: 0.005263979265696138\n",
      "epoch: 73, loss: 0.005148315032895089\n",
      "epoch: 74, loss: 0.005271669732068817\n",
      "epoch: 75, loss: 0.004979656256918734\n",
      "epoch: 76, loss: 0.004684284360862051\n",
      "epoch: 77, loss: 0.004538628574508689\n",
      "epoch: 78, loss: 0.00443020567848084\n",
      "epoch: 79, loss: 0.004328948688904438\n",
      "epoch: 80, loss: 0.004125720933847965\n",
      "epoch: 81, loss: 0.004082029960349815\n",
      "epoch: 82, loss: 0.004142523442142467\n",
      "epoch: 83, loss: 0.0040259060630431324\n",
      "epoch: 84, loss: 0.004035078666017012\n",
      "epoch: 85, loss: 0.004065351078331775\n",
      "epoch: 86, loss: 0.0038327382707832357\n",
      "epoch: 87, loss: 0.0038066017033387234\n",
      "epoch: 88, loss: 0.003915130125016504\n",
      "epoch: 89, loss: 0.003882555181913843\n",
      "epoch: 90, loss: 0.0037605409562264064\n",
      "epoch: 91, loss: 0.00362845979468524\n",
      "epoch: 92, loss: 0.0036080753786797083\n",
      "epoch: 93, loss: 0.003515569286482998\n",
      "epoch: 94, loss: 0.0033281127266178924\n",
      "epoch: 95, loss: 0.0032228769404655765\n",
      "epoch: 96, loss: 0.0032100327794261363\n",
      "epoch: 97, loss: 0.0030467413932744134\n",
      "epoch: 98, loss: 0.0031003495757551767\n",
      "epoch: 99, loss: 0.002966834330339066\n"
     ]
    }
   ],
   "source": [
    "np.random.seed(42)\n",
    "\n",
    "qnn_list = []\n",
    "for i in tqdm(range(1)):\n",
    "    qnn = sequential_qnn(n_qubits = [1, 4],\n",
    "                         dim = [1, 4, 1],\n",
    "                         encoder= Encoder(),\n",
    "                         ansatz = Ansatz(reps=2),\n",
    "                         sampler = Parity(),\n",
    "                         cost = MSE(),\n",
    "                         optimizer = Adam(lr=0.1),\n",
    "                         backend=backend,\n",
    "                         shots=10000)\n",
    "    qnn.train(x_qnn, y, epochs=100, verbose=True)\n",
    "    qnn_list.append(qnn)\n",
    "\n",
    "saver(qnn_list, data_path(\"trainability_qnn_1D_reps_2\"))"
   ]
  },
  {
   "cell_type": "code",
   "execution_count": 22,
   "metadata": {},
   "outputs": [],
   "source": [
    "np.random.seed(42)\n",
    "dnn_list = []\n",
    "for i in range(1):\n",
    "    dnn = sequential_dnn(dim = [1, 5, 1],\n",
    "                         optimizer = Adam(lr=0.1))\n",
    "    \n",
    "    dnn.train(x_dnn, y, epochs=1000)\n",
    "    dnn_list.append(dnn)\n",
    "\n",
    "saver(dnn_list, data_path(\"trainability_dnn_1D\"))"
   ]
  },
  {
   "cell_type": "markdown",
   "metadata": {},
   "source": [
    "## 2D function"
   ]
  },
  {
   "cell_type": "markdown",
   "metadata": {},
   "source": [
    "### Generate Data"
   ]
  },
  {
   "cell_type": "code",
   "execution_count": 23,
   "metadata": {},
   "outputs": [
    {
     "name": "stdout",
     "output_type": "stream",
     "text": [
      "(100, 1)\n"
     ]
    }
   ],
   "source": [
    "np.random.seed(42)\n",
    "\n",
    "n = 10\n",
    "x = np.linspace(0, 1, n)\n",
    "x = generate_meshgrid([x,x])\n",
    "\n",
    "mean1 = np.array([[0.25, 0.75]])\n",
    "var1 = np.array([[0.02, 0], [0, 0.02]])\n",
    "\n",
    "mean2 = np.array([[0.75, 0.25]])\n",
    "var2 = np.array([[0.02, 0], [0, 0.02]])\n",
    "\n",
    "mean3 = np.array([[0.25, 0.25]])\n",
    "var3 = np.array([[0.02, 0], [0, 0.02]])\n",
    "\n",
    "mean4 = np.array([[0.75, 0.75]])\n",
    "var4 = np.array([[0.02, 0], [0, 0.02]])\n",
    "\n",
    "y = gaussian(x, mean1, var1) + gaussian(x, mean2, var2) - gaussian(x, mean3, var3) - gaussian(x, mean4, var4)\n",
    "\n",
    "\n",
    "x_qnn = scaler(x, a=-np.pi/2, b=np.pi/2)\n",
    "x_dnn = scaler(x, mode=\"standard\")\n",
    "y = scaler(y, a=0, b=1)\n",
    "print(y.shape)"
   ]
  },
  {
   "cell_type": "code",
   "execution_count": 24,
   "metadata": {},
   "outputs": [
    {
     "data": {
      "image/png": "[encoded data removed]",
      "text/plain": [
       "<Figure size 432x288 with 1 Axes>"
      ]
     },
     "metadata": {
      "needs_background": "light"
     },
     "output_type": "display_data"
    }
   ],
   "source": [
    "plt.imshow(y.reshape(n,n))\n",
    "plt.show()"
   ]
  },
  {
   "cell_type": "markdown",
   "metadata": {},
   "source": [
    "### Training Models"
   ]
  },
  {
   "cell_type": "code",
   "execution_count": 25,
   "metadata": {},
   "outputs": [
    {
     "data": {
      "application/vnd.jupyter.widget-view+json": {
       "model_id": "b98a61e1bfa140d38f8462912eae4c4f",
       "version_major": 2,
       "version_minor": 0
      },
      "text/plain": [
       "  0%|          | 0/1 [00:00<?, ?it/s]"
      ]
     },
     "metadata": {},
     "output_type": "display_data"
    },
    {
     "data": {
      "application/vnd.jupyter.widget-view+json": {
       "model_id": "008e0705ce6140c0b304e52c47c87c6d",
       "version_major": 2,
       "version_minor": 0
      },
      "text/plain": [
       "  0%|          | 0/100 [00:00<?, ?it/s]"
      ]
     },
     "metadata": {},
     "output_type": "display_data"
    },
    {
     "name": "stdout",
     "output_type": "stream",
     "text": [
      "epoch: 0, loss: 0.06888349877810346\n",
      "epoch: 1, loss: 0.04170716387217396\n",
      "epoch: 2, loss: 0.043755696919734334\n",
      "epoch: 3, loss: 0.0453672583612064\n",
      "epoch: 4, loss: 0.04274064408140063\n",
      "epoch: 5, loss: 0.03873392912509385\n",
      "epoch: 6, loss: 0.03408471229252329\n",
      "epoch: 7, loss: 0.03244407722240227\n",
      "epoch: 8, loss: 0.031560987084855746\n",
      "epoch: 9, loss: 0.030312792199642162\n",
      "epoch: 10, loss: 0.02816102409869636\n",
      "epoch: 11, loss: 0.026351246356797454\n",
      "epoch: 12, loss: 0.027056061156669375\n",
      "epoch: 13, loss: 0.026790699569576054\n",
      "epoch: 14, loss: 0.02656153377497302\n",
      "epoch: 15, loss: 0.02566933974551545\n",
      "epoch: 16, loss: 0.025348860695189407\n",
      "epoch: 17, loss: 0.02480803673936906\n",
      "epoch: 18, loss: 0.023732094606699592\n",
      "epoch: 19, loss: 0.022265464436078318\n",
      "epoch: 20, loss: 0.020810488726352053\n",
      "epoch: 21, loss: 0.01916129491303538\n",
      "epoch: 22, loss: 0.018121649154711445\n",
      "epoch: 23, loss: 0.016592859461028463\n",
      "epoch: 24, loss: 0.014778237972468314\n",
      "epoch: 25, loss: 0.013481882429890417\n",
      "epoch: 26, loss: 0.012969959865064027\n",
      "epoch: 27, loss: 0.012646285180985746\n",
      "epoch: 28, loss: 0.013337360503096536\n",
      "epoch: 29, loss: 0.01320113792560657\n",
      "epoch: 30, loss: 0.012214617402801407\n",
      "epoch: 31, loss: 0.011830726605319551\n",
      "epoch: 32, loss: 0.012246419485327835\n",
      "epoch: 33, loss: 0.012714191416246348\n",
      "epoch: 34, loss: 0.01293390015322965\n",
      "epoch: 35, loss: 0.012734987812387077\n",
      "epoch: 36, loss: 0.012655777005068087\n",
      "epoch: 37, loss: 0.012321055925739923\n",
      "epoch: 38, loss: 0.01208326687344586\n",
      "epoch: 39, loss: 0.012548557776760918\n",
      "epoch: 40, loss: 0.012194926911999956\n",
      "epoch: 41, loss: 0.012165015334631766\n",
      "epoch: 42, loss: 0.01213995229415313\n",
      "epoch: 43, loss: 0.011868096067180112\n",
      "epoch: 44, loss: 0.011664909671401073\n",
      "epoch: 45, loss: 0.011474881630851301\n",
      "epoch: 46, loss: 0.011242921180137868\n",
      "epoch: 47, loss: 0.01171513979827138\n",
      "epoch: 48, loss: 0.011971770643071224\n",
      "epoch: 49, loss: 0.011011444969593135\n",
      "epoch: 50, loss: 0.011475215700458903\n",
      "epoch: 51, loss: 0.011362458612602482\n",
      "epoch: 52, loss: 0.011168140486467653\n",
      "epoch: 53, loss: 0.011601886641629615\n",
      "epoch: 54, loss: 0.011352916455317044\n",
      "epoch: 55, loss: 0.011331106933986283\n",
      "epoch: 56, loss: 0.011208760089935614\n",
      "epoch: 57, loss: 0.011247801385893224\n",
      "epoch: 58, loss: 0.01123267055069269\n",
      "epoch: 59, loss: 0.011326252546312775\n",
      "epoch: 60, loss: 0.011183634790515548\n",
      "epoch: 61, loss: 0.010848970841594877\n",
      "epoch: 62, loss: 0.010910864902562713\n",
      "epoch: 63, loss: 0.011170940893228998\n",
      "epoch: 64, loss: 0.01102649400049355\n",
      "epoch: 65, loss: 0.01138772214098292\n",
      "epoch: 66, loss: 0.010886362059659916\n",
      "epoch: 67, loss: 0.011004212492311089\n",
      "epoch: 68, loss: 0.010785932713671566\n",
      "epoch: 69, loss: 0.010826883700863946\n",
      "epoch: 70, loss: 0.010921296502164805\n",
      "epoch: 71, loss: 0.010855027576544319\n",
      "epoch: 72, loss: 0.010796949656865142\n",
      "epoch: 73, loss: 0.01084890065304257\n",
      "epoch: 74, loss: 0.010731260457163914\n",
      "epoch: 75, loss: 0.011098010582613083\n",
      "epoch: 76, loss: 0.011123352356016358\n",
      "epoch: 77, loss: 0.010974628670853472\n",
      "epoch: 78, loss: 0.010949933007224084\n",
      "epoch: 79, loss: 0.010883171991860063\n",
      "epoch: 80, loss: 0.010881068027420464\n",
      "epoch: 81, loss: 0.011064865076319153\n",
      "epoch: 82, loss: 0.010751066370545782\n",
      "epoch: 83, loss: 0.010720347056399843\n",
      "epoch: 84, loss: 0.010781917755151938\n",
      "epoch: 85, loss: 0.01104763661709033\n",
      "epoch: 86, loss: 0.010866761219710828\n",
      "epoch: 87, loss: 0.011063134009940367\n",
      "epoch: 88, loss: 0.01103561678423916\n",
      "epoch: 89, loss: 0.010595528890926478\n",
      "epoch: 90, loss: 0.010977700623258303\n",
      "epoch: 91, loss: 0.011401486048516197\n",
      "epoch: 92, loss: 0.010612174890434709\n",
      "epoch: 93, loss: 0.010704152461785386\n",
      "epoch: 94, loss: 0.011008226272866784\n",
      "epoch: 95, loss: 0.010817969960600471\n",
      "epoch: 96, loss: 0.010817431220695449\n",
      "epoch: 97, loss: 0.011145407632834427\n",
      "epoch: 98, loss: 0.01103128867034173\n",
      "epoch: 99, loss: 0.010749457814318906\n"
     ]
    }
   ],
   "source": [
    "np.random.seed(42)\n",
    "\n",
    "qnn_list = []\n",
    "for i in tqdm(range(1)):\n",
    "    qnn = sequential_qnn(n_qubits = [2, 4],\n",
    "                         dim = [2, 4, 1],\n",
    "                         encoder= Encoder(),\n",
    "                         ansatz = Ansatz(reps=1),\n",
    "                         sampler = Parity(),\n",
    "                         cost = MSE(),\n",
    "                         optimizer = Adam(lr=0.1),\n",
    "                         backend=backend,\n",
    "                         shots=10000)\n",
    "    qnn.train(x_qnn, y, epochs=100, verbose=True)\n",
    "    qnn_list.append(qnn)\n",
    "\n",
    "saver(qnn_list, data_path(\"trainability_qnn_2D_reps_1\"))"
   ]
  },
  {
   "cell_type": "code",
   "execution_count": 26,
   "metadata": {},
   "outputs": [
    {
     "data": {
      "application/vnd.jupyter.widget-view+json": {
       "model_id": "c5261857ffe14c57aff8e9b837278b3f",
       "version_major": 2,
       "version_minor": 0
      },
      "text/plain": [
       "  0%|          | 0/1 [00:00<?, ?it/s]"
      ]
     },
     "metadata": {},
     "output_type": "display_data"
    },
    {
     "data": {
      "application/vnd.jupyter.widget-view+json": {
       "model_id": "5c948ab5a6bf4b4296ecfb4cfe5ec51c",
       "version_major": 2,
       "version_minor": 0
      },
      "text/plain": [
       "  0%|          | 0/100 [00:00<?, ?it/s]"
      ]
     },
     "metadata": {},
     "output_type": "display_data"
    },
    {
     "name": "stdout",
     "output_type": "stream",
     "text": [
      "epoch: 0, loss: 0.09344144196765708\n",
      "epoch: 1, loss: 0.03847494491469224\n",
      "epoch: 2, loss: 0.028334790012879325\n",
      "epoch: 3, loss: 0.02495161731408011\n",
      "epoch: 4, loss: 0.024239566616645038\n",
      "epoch: 5, loss: 0.023856188574478104\n",
      "epoch: 6, loss: 0.02182787111281192\n",
      "epoch: 7, loss: 0.018893749163490278\n",
      "epoch: 8, loss: 0.019241795566183603\n",
      "epoch: 9, loss: 0.020946829747305967\n",
      "epoch: 10, loss: 0.02187300112929908\n",
      "epoch: 11, loss: 0.020225437488098557\n",
      "epoch: 12, loss: 0.016985978703174122\n",
      "epoch: 13, loss: 0.015029558187575716\n",
      "epoch: 14, loss: 0.014204430495884402\n",
      "epoch: 15, loss: 0.014762027512510243\n",
      "epoch: 16, loss: 0.013815195434878899\n",
      "epoch: 17, loss: 0.012364054012737461\n",
      "epoch: 18, loss: 0.010042147366427967\n",
      "epoch: 19, loss: 0.009233064572284629\n",
      "epoch: 20, loss: 0.009349347363728366\n",
      "epoch: 21, loss: 0.010080882088469889\n",
      "epoch: 22, loss: 0.009836438901947138\n",
      "epoch: 23, loss: 0.008961684332381264\n",
      "epoch: 24, loss: 0.007860536838856841\n",
      "epoch: 25, loss: 0.007952361875293548\n",
      "epoch: 26, loss: 0.008067514256388289\n",
      "epoch: 27, loss: 0.007995107376177958\n",
      "epoch: 28, loss: 0.00768837015499336\n",
      "epoch: 29, loss: 0.007185839742360403\n",
      "epoch: 30, loss: 0.006877211117314891\n",
      "epoch: 31, loss: 0.006819337472911798\n",
      "epoch: 32, loss: 0.007187569872596547\n",
      "epoch: 33, loss: 0.007072830411336486\n",
      "epoch: 34, loss: 0.007017108076191716\n",
      "epoch: 35, loss: 0.006117456905194945\n",
      "epoch: 36, loss: 0.006195593788193752\n",
      "epoch: 37, loss: 0.006440986049055284\n",
      "epoch: 38, loss: 0.006372356201828083\n",
      "epoch: 39, loss: 0.006085963462304624\n",
      "epoch: 40, loss: 0.006131424063524015\n",
      "epoch: 41, loss: 0.005791214948876103\n",
      "epoch: 42, loss: 0.005958164740090866\n",
      "epoch: 43, loss: 0.006110775943742363\n",
      "epoch: 44, loss: 0.005821269262934612\n",
      "epoch: 45, loss: 0.005555436885668199\n",
      "epoch: 46, loss: 0.00566520802803962\n",
      "epoch: 47, loss: 0.005965273203002579\n",
      "epoch: 48, loss: 0.005920993908021497\n",
      "epoch: 49, loss: 0.00585789067219229\n",
      "epoch: 50, loss: 0.005531506516078494\n",
      "epoch: 51, loss: 0.005560345949678111\n",
      "epoch: 52, loss: 0.005484526296263953\n",
      "epoch: 53, loss: 0.005330947139358371\n",
      "epoch: 54, loss: 0.005182183765136736\n",
      "epoch: 55, loss: 0.005145986057055696\n",
      "epoch: 56, loss: 0.005161621211204524\n",
      "epoch: 57, loss: 0.0053791192708095605\n",
      "epoch: 58, loss: 0.005055031532940062\n",
      "epoch: 59, loss: 0.005013850309199617\n",
      "epoch: 60, loss: 0.004967883260894872\n",
      "epoch: 61, loss: 0.0048807672192603705\n",
      "epoch: 62, loss: 0.004893151911946371\n",
      "epoch: 63, loss: 0.005061962376725173\n",
      "epoch: 64, loss: 0.0048841142366571775\n",
      "epoch: 65, loss: 0.004667361386019775\n",
      "epoch: 66, loss: 0.0046644428420184285\n",
      "epoch: 67, loss: 0.004473217223747193\n",
      "epoch: 68, loss: 0.004627465300975067\n",
      "epoch: 69, loss: 0.00474351358050594\n",
      "epoch: 70, loss: 0.004536619513882515\n",
      "epoch: 71, loss: 0.004528383989088985\n",
      "epoch: 72, loss: 0.0046248392175883115\n",
      "epoch: 73, loss: 0.004316877103968292\n",
      "epoch: 74, loss: 0.004365436606351274\n",
      "epoch: 75, loss: 0.004430334585470659\n",
      "epoch: 76, loss: 0.004392076449437608\n",
      "epoch: 77, loss: 0.004525193352402143\n",
      "epoch: 78, loss: 0.0042998502508126354\n",
      "epoch: 79, loss: 0.0042464055262159016\n",
      "epoch: 80, loss: 0.0042141739568711785\n",
      "epoch: 81, loss: 0.004394476346067636\n",
      "epoch: 82, loss: 0.004530264277480292\n",
      "epoch: 83, loss: 0.004328159117754549\n",
      "epoch: 84, loss: 0.004271188465589083\n",
      "epoch: 85, loss: 0.0042032862854409145\n",
      "epoch: 86, loss: 0.004301428985634836\n",
      "epoch: 87, loss: 0.0042502401014594\n",
      "epoch: 88, loss: 0.004293470225664026\n",
      "epoch: 89, loss: 0.0041178072123667815\n",
      "epoch: 90, loss: 0.004084493184223764\n",
      "epoch: 91, loss: 0.004270067111339903\n",
      "epoch: 92, loss: 0.004229165299874443\n",
      "epoch: 93, loss: 0.004344144591460303\n",
      "epoch: 94, loss: 0.004012697190590982\n",
      "epoch: 95, loss: 0.004077130816344105\n",
      "epoch: 96, loss: 0.004434541712360079\n",
      "epoch: 97, loss: 0.0041469689528505225\n",
      "epoch: 98, loss: 0.00427356899874385\n",
      "epoch: 99, loss: 0.004142683089464516\n"
     ]
    }
   ],
   "source": [
    "np.random.seed(42)\n",
    "\n",
    "qnn_list = []\n",
    "for i in tqdm(range(1)):\n",
    "    qnn = sequential_qnn(n_qubits = [2, 4],\n",
    "                         dim = [2, 4, 1],\n",
    "                         encoder= Encoder(),\n",
    "                         ansatz = Ansatz(reps=2),\n",
    "                         sampler = Parity(),\n",
    "                         cost = MSE(),\n",
    "                         optimizer = Adam(lr=0.1),\n",
    "                         backend=backend,\n",
    "                         shots=10000)\n",
    "    qnn.train(x_qnn, y, epochs=100, verbose=True)\n",
    "    qnn_list.append(qnn)\n",
    "\n",
    "saver(qnn_list, data_path(\"trainability_qnn_2D_reps_2\"))"
   ]
  },
  {
   "cell_type": "code",
   "execution_count": 27,
   "metadata": {},
   "outputs": [],
   "source": [
    "np.random.seed(42)\n",
    "dnn_list = []\n",
    "for i in range(1):\n",
    "    dnn = sequential_dnn(dim = [2, 5, 1],\n",
    "                         optimizer = Adam(lr=0.1))\n",
    "    \n",
    "    dnn.train(x_dnn, y, epochs=1000)\n",
    "    dnn_list.append(dnn)\n",
    "\n",
    "saver(dnn_list, data_path(\"trainability_dnn_2D\"))"
   ]
  },
  {
   "cell_type": "markdown",
   "metadata": {},
   "source": [
    "## 3D function"
   ]
  },
  {
   "cell_type": "markdown",
   "metadata": {},
   "source": [
    "### Generate Data"
   ]
  },
  {
   "cell_type": "code",
   "execution_count": 28,
   "metadata": {},
   "outputs": [
    {
     "name": "stdout",
     "output_type": "stream",
     "text": [
      "(216, 1)\n"
     ]
    }
   ],
   "source": [
    "np.random.seed(42)\n",
    "\n",
    "n = 6\n",
    "x = np.linspace(0, 1, n)\n",
    "x = generate_meshgrid([x, x, x])\n",
    "\n",
    "mean1 = np.array([[0.25, 0.25, 0.25]])\n",
    "mean2 = np.array([[0.25, 0.25, 0.75]])\n",
    "mean3 = np.array([[0.25, 0.75, 0.75]])\n",
    "mean4 = np.array([[0.25, 0.75, 0.25]])\n",
    "\n",
    "mean5 = np.array([[0.75, 0.25, 0.25]])\n",
    "mean6 = np.array([[0.75, 0.25, 0.75]])\n",
    "mean7 = np.array([[0.75, 0.75, 0.75]])\n",
    "mean8 = np.array([[0.75, 0.75, 0.25]])\n",
    "\n",
    "var = np.array([[0.02, 0, 0], [0, 0.02, 0], [0, 0, 0.02]])\n",
    "\n",
    "y = gaussian(x, mean1, var) - gaussian(x, mean2, var) + gaussian(x, mean3, var) - gaussian(x, mean4, var) - gaussian(x, mean5, var) + gaussian(x, mean6, var) - gaussian(x, mean7, var) + gaussian(x, mean8, var)\n",
    "\n",
    "x_qnn = scaler(x, a=-np.pi/2, b=np.pi/2)\n",
    "x_dnn = scaler(x, mode=\"standard\")\n",
    "y = scaler(y, a=0, b=1)\n",
    "print(y.shape)"
   ]
  },
  {
   "cell_type": "code",
   "execution_count": 29,
   "metadata": {},
   "outputs": [
    {
     "data": {
      "image/png": "[encoded data removed]",
      "text/plain": [
       "<Figure size 432x288 with 1 Axes>"
      ]
     },
     "metadata": {
      "needs_background": "light"
     },
     "output_type": "display_data"
    }
   ],
   "source": [
    "plt.imshow(y.reshape(n,n,n)[0])\n",
    "plt.show()"
   ]
  },
  {
   "cell_type": "code",
   "execution_count": 30,
   "metadata": {},
   "outputs": [
    {
     "data": {
      "application/vnd.jupyter.widget-view+json": {
       "model_id": "01d551be12464f2b94dc281e6dfe8458",
       "version_major": 2,
       "version_minor": 0
      },
      "text/plain": [
       "  0%|          | 0/1 [00:00<?, ?it/s]"
      ]
     },
     "metadata": {},
     "output_type": "display_data"
    },
    {
     "data": {
      "application/vnd.jupyter.widget-view+json": {
       "model_id": "183c24d9c661427cbafc3cf8e9bc2c24",
       "version_major": 2,
       "version_minor": 0
      },
      "text/plain": [
       "  0%|          | 0/100 [00:00<?, ?it/s]"
      ]
     },
     "metadata": {},
     "output_type": "display_data"
    },
    {
     "name": "stdout",
     "output_type": "stream",
     "text": [
      "epoch: 0, loss: 0.09503080111188264\n",
      "epoch: 1, loss: 0.07131605341456128\n",
      "epoch: 2, loss: 0.05539257297823354\n",
      "epoch: 3, loss: 0.04538109141473199\n",
      "epoch: 4, loss: 0.040166461106920744\n",
      "epoch: 5, loss: 0.036581912672133406\n",
      "epoch: 6, loss: 0.032114736520677055\n",
      "epoch: 7, loss: 0.029519013548821457\n",
      "epoch: 8, loss: 0.029390661543155807\n",
      "epoch: 9, loss: 0.029852533316691878\n",
      "epoch: 10, loss: 0.029911282064185488\n",
      "epoch: 11, loss: 0.030425309633529258\n",
      "epoch: 12, loss: 0.030589562716429323\n",
      "epoch: 13, loss: 0.03068986841226526\n",
      "epoch: 14, loss: 0.029724535768319193\n",
      "epoch: 15, loss: 0.02815935853515242\n",
      "epoch: 16, loss: 0.0273586572666215\n",
      "epoch: 17, loss: 0.027149160357953204\n",
      "epoch: 18, loss: 0.02732380740905134\n",
      "epoch: 19, loss: 0.027826753518855777\n",
      "epoch: 20, loss: 0.026736642497674285\n",
      "epoch: 21, loss: 0.0256362054139416\n",
      "epoch: 22, loss: 0.024637133565924944\n",
      "epoch: 23, loss: 0.02443166603913308\n",
      "epoch: 24, loss: 0.02358062692154877\n",
      "epoch: 25, loss: 0.02353253292606469\n",
      "epoch: 26, loss: 0.023030713519849626\n",
      "epoch: 27, loss: 0.022445733072574716\n",
      "epoch: 28, loss: 0.022045560172803354\n",
      "epoch: 29, loss: 0.021288819903489218\n",
      "epoch: 30, loss: 0.02083823002517385\n",
      "epoch: 31, loss: 0.020831161486643858\n",
      "epoch: 32, loss: 0.02043414351284849\n",
      "epoch: 33, loss: 0.020053975480213287\n",
      "epoch: 34, loss: 0.020069192250763552\n",
      "epoch: 35, loss: 0.019785519822282507\n",
      "epoch: 36, loss: 0.01953215894915729\n",
      "epoch: 37, loss: 0.019514255718495542\n",
      "epoch: 38, loss: 0.019422530874645176\n",
      "epoch: 39, loss: 0.019333870724669036\n",
      "epoch: 40, loss: 0.018976469007733997\n",
      "epoch: 41, loss: 0.018900999270833347\n",
      "epoch: 42, loss: 0.018513027187907097\n",
      "epoch: 43, loss: 0.018638540726085513\n",
      "epoch: 44, loss: 0.018110676325319885\n",
      "epoch: 45, loss: 0.018063881358812612\n",
      "epoch: 46, loss: 0.01755536159171703\n",
      "epoch: 47, loss: 0.01658408641193667\n",
      "epoch: 48, loss: 0.015901022297832895\n",
      "epoch: 49, loss: 0.014874138006870895\n",
      "epoch: 50, loss: 0.013507712267883035\n",
      "epoch: 51, loss: 0.012158268614812005\n",
      "epoch: 52, loss: 0.010862734306863754\n",
      "epoch: 53, loss: 0.01021816262894144\n",
      "epoch: 54, loss: 0.010313775424998924\n",
      "epoch: 55, loss: 0.01060574959394728\n",
      "epoch: 56, loss: 0.010284593093442894\n",
      "epoch: 57, loss: 0.009756039313056068\n",
      "epoch: 58, loss: 0.009652744772641938\n",
      "epoch: 59, loss: 0.009709121919535426\n",
      "epoch: 60, loss: 0.00908887255810407\n",
      "epoch: 61, loss: 0.009279318257149626\n",
      "epoch: 62, loss: 0.00914465714858266\n",
      "epoch: 63, loss: 0.009464256449058009\n",
      "epoch: 64, loss: 0.009362484241527965\n",
      "epoch: 65, loss: 0.009024991381982147\n",
      "epoch: 66, loss: 0.008881605356245584\n",
      "epoch: 67, loss: 0.008880192492277414\n",
      "epoch: 68, loss: 0.009010546395288239\n",
      "epoch: 69, loss: 0.00887951947760071\n",
      "epoch: 70, loss: 0.008542233818110987\n",
      "epoch: 71, loss: 0.008667139987023275\n",
      "epoch: 72, loss: 0.008343019460944463\n",
      "epoch: 73, loss: 0.008347544863242405\n",
      "epoch: 74, loss: 0.0080683146029679\n",
      "epoch: 75, loss: 0.007984183635433927\n",
      "epoch: 76, loss: 0.007904460645312519\n",
      "epoch: 77, loss: 0.008184639643657912\n",
      "epoch: 78, loss: 0.007794432358755012\n",
      "epoch: 79, loss: 0.007418694076320519\n",
      "epoch: 80, loss: 0.007305453503411775\n",
      "epoch: 81, loss: 0.007294431541908323\n",
      "epoch: 82, loss: 0.007298157025022608\n",
      "epoch: 83, loss: 0.0071459069711777\n",
      "epoch: 84, loss: 0.006879718484251036\n",
      "epoch: 85, loss: 0.006990224847724009\n",
      "epoch: 86, loss: 0.0068776591475157986\n",
      "epoch: 87, loss: 0.006683023214811949\n",
      "epoch: 88, loss: 0.0069084833899225135\n",
      "epoch: 89, loss: 0.006789228031101073\n",
      "epoch: 90, loss: 0.006794804819115346\n",
      "epoch: 91, loss: 0.006654470944089597\n",
      "epoch: 92, loss: 0.006454210606885445\n",
      "epoch: 93, loss: 0.007029719221541812\n",
      "epoch: 94, loss: 0.006724372151919241\n",
      "epoch: 95, loss: 0.006723080210047413\n",
      "epoch: 96, loss: 0.006615971343955251\n",
      "epoch: 97, loss: 0.006771375516118588\n",
      "epoch: 98, loss: 0.006451635746704489\n",
      "epoch: 99, loss: 0.006624818045739811\n"
     ]
    }
   ],
   "source": [
    "np.random.seed(42)\n",
    "\n",
    "qnn_list = []\n",
    "for i in tqdm(range(1)):\n",
    "    qnn = sequential_qnn(n_qubits = [3, 4],\n",
    "                         dim = [3, 4, 1],\n",
    "                         encoder= Encoder(),\n",
    "                         ansatz = Ansatz(reps = 1),\n",
    "                         sampler = Parity(),\n",
    "                         cost = MSE(),\n",
    "                         optimizer = Adam(lr=0.1),\n",
    "                         backend = backend,\n",
    "                         shots = 10000)\n",
    "    qnn.train(x_qnn, y, epochs=100, verbose=True)\n",
    "    qnn_list.append(qnn)\n",
    "\n",
    "saver(qnn_list, data_path(\"trainability_qnn_3D_reps_1\"))"
   ]
  },
  {
   "cell_type": "code",
   "execution_count": 31,
   "metadata": {},
   "outputs": [
    {
     "data": {
      "application/vnd.jupyter.widget-view+json": {
       "model_id": "a969af6826c744769ccbeb7e3ab59364",
       "version_major": 2,
       "version_minor": 0
      },
      "text/plain": [
       "  0%|          | 0/1 [00:00<?, ?it/s]"
      ]
     },
     "metadata": {},
     "output_type": "display_data"
    },
    {
     "data": {
      "application/vnd.jupyter.widget-view+json": {
       "model_id": "3e82a7550a0748c694439b659fb774ec",
       "version_major": 2,
       "version_minor": 0
      },
      "text/plain": [
       "  0%|          | 0/100 [00:00<?, ?it/s]"
      ]
     },
     "metadata": {},
     "output_type": "display_data"
    },
    {
     "name": "stdout",
     "output_type": "stream",
     "text": [
      "epoch: 0, loss: 0.04929826013089703\n",
      "epoch: 1, loss: 0.031981478279415304\n",
      "epoch: 2, loss: 0.024375019904732606\n",
      "epoch: 3, loss: 0.021731959567876387\n",
      "epoch: 4, loss: 0.02175370798865817\n",
      "epoch: 5, loss: 0.022650170500369323\n",
      "epoch: 6, loss: 0.023383846321195608\n",
      "epoch: 7, loss: 0.02317652981565656\n",
      "epoch: 8, loss: 0.02290383975880445\n",
      "epoch: 9, loss: 0.022275046638121056\n",
      "epoch: 10, loss: 0.021996478110726296\n",
      "epoch: 11, loss: 0.0214250106453271\n",
      "epoch: 12, loss: 0.020719401625186432\n",
      "epoch: 13, loss: 0.01998516272853687\n",
      "epoch: 14, loss: 0.019070362821057705\n",
      "epoch: 15, loss: 0.017605081274046617\n",
      "epoch: 16, loss: 0.015176424650923297\n",
      "epoch: 17, loss: 0.012464493072753132\n",
      "epoch: 18, loss: 0.010324536917289786\n",
      "epoch: 19, loss: 0.009549416798254686\n",
      "epoch: 20, loss: 0.009447713508234472\n",
      "epoch: 21, loss: 0.00923994430357399\n",
      "epoch: 22, loss: 0.009105743478709967\n",
      "epoch: 23, loss: 0.009068213425285266\n",
      "epoch: 24, loss: 0.00886527972086152\n",
      "epoch: 25, loss: 0.009051811703317298\n",
      "epoch: 26, loss: 0.00918969228216809\n",
      "epoch: 27, loss: 0.008892516454612694\n",
      "epoch: 28, loss: 0.008598133386422326\n",
      "epoch: 29, loss: 0.00822752095144814\n",
      "epoch: 30, loss: 0.007817288259130481\n",
      "epoch: 31, loss: 0.0077717824688353695\n",
      "epoch: 32, loss: 0.007480971003190089\n",
      "epoch: 33, loss: 0.007293474707400304\n",
      "epoch: 34, loss: 0.007161640601765442\n",
      "epoch: 35, loss: 0.007029530558076698\n",
      "epoch: 36, loss: 0.0072470465661002405\n",
      "epoch: 37, loss: 0.007158741234461081\n",
      "epoch: 38, loss: 0.007173874936861213\n",
      "epoch: 39, loss: 0.007272091580317893\n",
      "epoch: 40, loss: 0.007027466999139876\n",
      "epoch: 41, loss: 0.006829512320578877\n",
      "epoch: 42, loss: 0.00700332736883006\n",
      "epoch: 43, loss: 0.006948813034039885\n",
      "epoch: 44, loss: 0.0069688197805941\n",
      "epoch: 45, loss: 0.006825605482201382\n",
      "epoch: 46, loss: 0.006608045578976795\n",
      "epoch: 47, loss: 0.006636858865246049\n",
      "epoch: 48, loss: 0.006678565576863059\n",
      "epoch: 49, loss: 0.00664425866937179\n",
      "epoch: 50, loss: 0.006496328620452646\n",
      "epoch: 51, loss: 0.006521816980095435\n",
      "epoch: 52, loss: 0.006429987287923065\n",
      "epoch: 53, loss: 0.006517710155612156\n",
      "epoch: 54, loss: 0.006213913846228535\n",
      "epoch: 55, loss: 0.006274886261617228\n",
      "epoch: 56, loss: 0.006265057476980718\n",
      "epoch: 57, loss: 0.006154611518699855\n",
      "epoch: 58, loss: 0.006229250673777122\n",
      "epoch: 59, loss: 0.006227277295969208\n",
      "epoch: 60, loss: 0.005939082891905705\n",
      "epoch: 61, loss: 0.006048337097774\n",
      "epoch: 62, loss: 0.006238854047112889\n",
      "epoch: 63, loss: 0.005984438295837863\n",
      "epoch: 64, loss: 0.0058464531457049825\n",
      "epoch: 65, loss: 0.005951990984237897\n",
      "epoch: 66, loss: 0.005973768932931034\n",
      "epoch: 67, loss: 0.0059310630793304045\n",
      "epoch: 68, loss: 0.005799203376131918\n",
      "epoch: 69, loss: 0.005908606679505729\n",
      "epoch: 70, loss: 0.006057574423744688\n",
      "epoch: 71, loss: 0.005959411809326126\n",
      "epoch: 72, loss: 0.006016037837671375\n",
      "epoch: 73, loss: 0.006017586950292859\n",
      "epoch: 74, loss: 0.0059230410284953645\n",
      "epoch: 75, loss: 0.005810869730045242\n",
      "epoch: 76, loss: 0.006120822292443874\n",
      "epoch: 77, loss: 0.005877993790150232\n",
      "epoch: 78, loss: 0.006002088253180302\n",
      "epoch: 79, loss: 0.0058710274528698154\n",
      "epoch: 80, loss: 0.005973597058350283\n",
      "epoch: 81, loss: 0.005806601037814052\n",
      "epoch: 82, loss: 0.005932065099214504\n",
      "epoch: 83, loss: 0.0059197257504203776\n",
      "epoch: 84, loss: 0.005861304619297605\n",
      "epoch: 85, loss: 0.005839051011930801\n",
      "epoch: 86, loss: 0.0059301079217481565\n",
      "epoch: 87, loss: 0.005830174652155816\n",
      "epoch: 88, loss: 0.0058894844460912425\n",
      "epoch: 89, loss: 0.005806486027350582\n",
      "epoch: 90, loss: 0.005899762050846151\n",
      "epoch: 91, loss: 0.005869707201585609\n",
      "epoch: 92, loss: 0.0059079399971462615\n",
      "epoch: 93, loss: 0.005813926357609428\n",
      "epoch: 94, loss: 0.0059865371924497385\n",
      "epoch: 95, loss: 0.00584776689901479\n",
      "epoch: 96, loss: 0.005859044425150121\n",
      "epoch: 97, loss: 0.005936910664117463\n",
      "epoch: 98, loss: 0.00608599571005442\n",
      "epoch: 99, loss: 0.005851227829012068\n"
     ]
    }
   ],
   "source": [
    "np.random.seed(42)\n",
    "\n",
    "qnn_list = []\n",
    "for i in tqdm(range(1)):\n",
    "    qnn = sequential_qnn(n_qubits = [3, 4],\n",
    "                         dim = [3, 4, 1],\n",
    "                         encoder= Encoder(),\n",
    "                         ansatz = Ansatz(reps = 2),\n",
    "                         sampler = Parity(),\n",
    "                         cost = MSE(),\n",
    "                         optimizer = Adam(lr=0.1),\n",
    "                         backend = backend,\n",
    "                         shots = 10000)\n",
    "    qnn.train(x_qnn, y, epochs=100, verbose=True)\n",
    "    qnn_list.append(qnn)\n",
    "\n",
    "saver(qnn_list, data_path(\"trainability_qnn_3D_reps_2\"))"
   ]
  },
  {
   "cell_type": "code",
   "execution_count": 32,
   "metadata": {},
   "outputs": [],
   "source": [
    "np.random.seed(42)\n",
    "dnn_list = []\n",
    "for i in range(1):\n",
    "    dnn = sequential_dnn(dim = [3, 5, 1],\n",
    "                         optimizer = Adam(lr=0.1))\n",
    "    \n",
    "    dnn.train(x_dnn, y, epochs=1000)\n",
    "    dnn_list.append(dnn)\n",
    "\n",
    "saver(dnn_list, data_path(\"trainability_dnn_3D\"))"
   ]
  },
  {
   "cell_type": "markdown",
   "metadata": {},
   "source": [
    "### Deep QKN"
   ]
  },
  {
   "cell_type": "code",
   "execution_count": null,
   "metadata": {},
   "outputs": [],
   "source": [
    "np.random.seed(42)\n",
    "\n",
    "n = 6\n",
    "x = np.linspace(0, 1, n)\n",
    "x = generate_meshgrid([x, x, x])\n",
    "\n",
    "mean1 = np.array([[0.25, 0.25, 0.25]])\n",
    "mean2 = np.array([[0.25, 0.25, 0.75]])\n",
    "mean3 = np.array([[0.25, 0.75, 0.75]])\n",
    "mean4 = np.array([[0.25, 0.75, 0.25]])\n",
    "\n",
    "mean5 = np.array([[0.75, 0.25, 0.25]])\n",
    "mean6 = np.array([[0.75, 0.25, 0.75]])\n",
    "mean7 = np.array([[0.75, 0.75, 0.75]])\n",
    "mean8 = np.array([[0.75, 0.75, 0.25]])\n",
    "\n",
    "var = np.array([[0.02, 0, 0], [0, 0.02, 0], [0, 0, 0.02]])\n",
    "\n",
    "y = gaussian(x, mean1, var) - gaussian(x, mean2, var) + gaussian(x, mean3, var) - gaussian(x, mean4, var) - gaussian(x, mean5, var) + gaussian(x, mean6, var) - gaussian(x, mean7, var) + gaussian(x, mean8, var)\n",
    "\n",
    "x = scaler(x, a=0, b=np.pi)\n",
    "y = scaler(y, a=0, b=1)"
   ]
  },
  {
   "cell_type": "code",
   "execution_count": null,
   "metadata": {},
   "outputs": [],
   "source": [
    "plt.imshow(y.reshape(n,n,n)[0])\n",
    "plt.show()"
   ]
  },
  {
   "cell_type": "code",
   "execution_count": null,
   "metadata": {},
   "outputs": [],
   "source": [
    "np.random.seed(42)\n",
    "\n",
    "\n",
    "qnn = sequential_qnn(q_bits = [3, 4, 4],\n",
    "                     dim = [3, 4, 4, 1],\n",
    "                     reps = 2,\n",
    "                     backend=backend,\n",
    "                     shots=10000,\n",
    "                     lr = 0.1)\n",
    "\n",
    "qnn.train(x, y, epochs=200, verbose=True)\n",
    "    \n",
    "saver(qnn, data_path(\"trainability_qnn_3D_deep\"))"
   ]
  },
  {
   "cell_type": "code",
   "execution_count": null,
   "metadata": {},
   "outputs": [],
   "source": [
    "x = scaler(x, mode=\"standard\")\n",
    "\n",
    "dnn = sequential_dnn(dim = [3, 6, 5, 1], lr = 0.1)\n",
    "\n",
    "dnn.train(x, y, epochs=1000, verbose=True)"
   ]
  },
  {
   "cell_type": "code",
   "execution_count": null,
   "metadata": {},
   "outputs": [],
   "source": [
    "plt.plot(qnn.loss)\n",
    "plt.plot(dnn.loss)\n",
    "plt.show()"
   ]
  },
  {
   "cell_type": "markdown",
   "metadata": {},
   "source": [
    "### Hybrid Neural Network"
   ]
  },
  {
   "cell_type": "code",
   "execution_count": null,
   "metadata": {},
   "outputs": [],
   "source": [
    "np.random.seed(42)\n",
    "\n",
    "n = 6\n",
    "x = np.linspace(0, 1, n)\n",
    "x = generate_meshgrid([x, x, x])\n",
    "\n",
    "mean1 = np.array([[0.25, 0.25, 0.25]])\n",
    "mean2 = np.array([[0.25, 0.25, 0.75]])\n",
    "mean3 = np.array([[0.25, 0.75, 0.75]])\n",
    "mean4 = np.array([[0.25, 0.75, 0.25]])\n",
    "\n",
    "mean5 = np.array([[0.75, 0.25, 0.25]])\n",
    "mean6 = np.array([[0.75, 0.25, 0.75]])\n",
    "mean7 = np.array([[0.75, 0.75, 0.75]])\n",
    "mean8 = np.array([[0.75, 0.75, 0.25]])\n",
    "\n",
    "var = np.array([[0.02, 0, 0], [0, 0.02, 0], [0, 0, 0.02]])\n",
    "\n",
    "y = gaussian(x, mean1, var) - gaussian(x, mean2, var) + gaussian(x, mean3, var) - gaussian(x, mean4, var) - gaussian(x, mean5, var) + gaussian(x, mean6, var) - gaussian(x, mean7, var) + gaussian(x, mean8, var)\n",
    "\n",
    "x = scaler(x, a=0, b=np.pi)\n",
    "y = scaler(y, a=-2, b=2)"
   ]
  },
  {
   "cell_type": "code",
   "execution_count": null,
   "metadata": {},
   "outputs": [],
   "source": [
    "np.random.seed(42)\n",
    "\n",
    "layer1 = QLayer(n_qubits=3, n_features=3, n_targets=3, encoder=Encoder(), ansatz=Ansatz(), sampler=Parity(), reps=2, scale=1, backend=backend, shots=10000)\n",
    "layer2 = Dense(n_features=3, n_targets=1, activation=Identity())\n",
    "layers = [layer1, layer2]\n",
    "network = NeuralNetwork(layers=layers, optimizer = Adam(lr=0.1))"
   ]
  },
  {
   "cell_type": "code",
   "execution_count": null,
   "metadata": {},
   "outputs": [],
   "source": [
    "network.train(x, y, epochs=100, verbose=True)\n",
    "saver(network, data_path(\"trainability_hybrid_2_layer\"))"
   ]
  },
  {
   "cell_type": "markdown",
   "metadata": {},
   "source": [
    "## Single Circuit"
   ]
  },
  {
   "cell_type": "code",
   "execution_count": null,
   "metadata": {},
   "outputs": [],
   "source": [
    "n = 100\n",
    "x = np.linspace(0, 1, n).reshape(-1,1)\n",
    "y = gaussian(x, 0.3, 0.02) - gaussian(x, 0.7, 0.02) \n",
    "\n",
    "x = scaler(x, a=0, b=np.pi)\n",
    "y = scaler(y, a=0.1, b=0.9)\n"
   ]
  },
  {
   "cell_type": "code",
   "execution_count": null,
   "metadata": {},
   "outputs": [],
   "source": [
    "plt.plot(x,y)"
   ]
  },
  {
   "cell_type": "code",
   "execution_count": null,
   "metadata": {},
   "outputs": [],
   "source": [
    "qnn = sequential_qnn(q_bits = [3],\n",
    "                         dim = [3, 1],\n",
    "                         reps = 3,\n",
    "                         backend=backend,\n",
    "                         shots=10000,\n",
    "                         lr = 0.1)"
   ]
  },
  {
   "cell_type": "code",
   "execution_count": null,
   "metadata": {},
   "outputs": [],
   "source": [
    "qnn.train(x, y, verbose=True)"
   ]
  },
  {
   "cell_type": "code",
   "execution_count": null,
   "metadata": {},
   "outputs": [],
   "source": []
  }
 ],
 "metadata": {
  "kernelspec": {
   "display_name": "env_qiskit",
   "language": "python",
   "name": "env_qiskit"
  },
  "language_info": {
   "codemirror_mode": {
    "name": "ipython",
    "version": 3
   },
   "file_extension": ".py",
   "mimetype": "text/x-python",
   "name": "python",
   "nbconvert_exporter": "python",
   "pygments_lexer": "ipython3",
   "version": "3.9.1"
  }
 },
 "nbformat": 4,
 "nbformat_minor": 4
}
