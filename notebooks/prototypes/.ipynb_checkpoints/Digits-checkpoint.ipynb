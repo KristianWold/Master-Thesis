{
 "cells": [
  {
   "cell_type": "code",
   "execution_count": 3,
   "metadata": {},
   "outputs": [
    {
     "name": "stdout",
     "output_type": "stream",
     "text": [
      "The autoreload extension is already loaded. To reload it, use:\n",
      "  %reload_ext autoreload\n"
     ]
    }
   ],
   "source": [
    "import numpy as np\n",
    "import qiskit as qk\n",
    "import matplotlib.pyplot as plt\n",
    "\n",
    "from qiskit import Aer\n",
    "from tqdm.notebook import tqdm\n",
    "from sklearn.datasets import load_digits\n",
    "from sklearn.model_selection import train_test_split\n",
    "\n",
    "import sys\n",
    "sys.path.insert(0, '../../src/')\n",
    "from neuralnetwork import *\n",
    "from analysis import *\n",
    "\n",
    "%matplotlib notebook\n",
    "#%matplotlib inline\n",
    "%load_ext autoreload\n",
    "%autoreload 2"
   ]
  },
  {
   "cell_type": "markdown",
   "metadata": {},
   "source": [
    "### Digits data"
   ]
  },
  {
   "cell_type": "code",
   "execution_count": 4,
   "metadata": {},
   "outputs": [],
   "source": [
    "digits = load_digits()\n",
    "zero_idx = (digits.target == 0)\n",
    "one_idx = (digits.target == 1)\n",
    "two_idx = (digits.target == 2)"
   ]
  },
  {
   "cell_type": "code",
   "execution_count": 5,
   "metadata": {},
   "outputs": [
    {
     "name": "stdout",
     "output_type": "stream",
     "text": [
      "[[1. 0. 0.]\n",
      " [1. 0. 0.]\n",
      " [1. 0. 0.]\n",
      " ...\n",
      " [0. 0. 1.]\n",
      " [0. 0. 1.]\n",
      " [0. 0. 1.]]\n"
     ]
    }
   ],
   "source": [
    "zeros = digits.data[zero_idx]\n",
    "ones =  digits.data[one_idx]\n",
    "twos = digits.data[two_idx]\n",
    "#threes = digits.data[three_idx]\n",
    "\n",
    "x = np.concatenate((zeros, ones, twos))\n",
    "x = x - np.mean(x)\n",
    "x = x/np.max(np.abs(x))\n",
    "\n",
    "y = np.zeros((x.shape[0], 3))\n",
    "y[:len(zeros), 0] = 1\n",
    "y[len(zeros):(len(zeros)+len(ones)), 1] = 1\n",
    "y[(len(zeros)+len(ones)):, 2] = 1\n",
    "#y[(len(zeros)+len(ones) + len(twos)):, 3] = 1\n",
    "print(y)"
   ]
  },
  {
   "cell_type": "code",
   "execution_count": 8,
   "metadata": {},
   "outputs": [
    {
     "name": "stdout",
     "output_type": "stream",
     "text": [
      "(100, 64)\n"
     ]
    }
   ],
   "source": [
    "np.random.seed(42)\n",
    "x_train, x_test, y_train, y_test = train_test_split(x, y, train_size=100)\n",
    "print(x_train.shape)"
   ]
  },
  {
   "cell_type": "markdown",
   "metadata": {},
   "source": [
    "### Network"
   ]
  },
  {
   "cell_type": "code",
   "execution_count": 6,
   "metadata": {},
   "outputs": [],
   "source": [
    "np.random.seed(42)\n",
    "optimizer = Adam(lr=1e-1)\n",
    "backend = Aer.get_backend('qasm_simulator')\n",
    "\n",
    "layer1 = Dense(n_features=64, \n",
    "               n_targets=4, \n",
    "               scale = 2*np.pi, \n",
    "               activation = Sigmoid())\n",
    "\n",
    "layer2 = QLayer(n_qubits=4, \n",
    "                n_features=4, \n",
    "                n_targets=4, \n",
    "                encoder=Encoder(), \n",
    "                ansatz=Ansatz(), \n",
    "                sampler = Parity(),\n",
    "                reps=2, \n",
    "                scale=2*np.pi, \n",
    "                backend=backend, \n",
    "                shots=10000)\n",
    "\n",
    "layer3 = QLayer(n_qubits=4, \n",
    "                n_features=4, \n",
    "                n_targets=3, \n",
    "                encoder=Encoder(), \n",
    "                ansatz=Ansatz(), \n",
    "                sampler = Parity(),\n",
    "                reps=2, \n",
    "                scale=1, \n",
    "                backend=backend, \n",
    "                shots=10000)\n",
    "\n",
    "layers =[layer1, layer2, layer3]\n",
    "network1 = NeuralNetwork(layers, optimizer)"
   ]
  },
  {
   "cell_type": "markdown",
   "metadata": {},
   "source": [
    "### Training"
   ]
  },
  {
   "cell_type": "code",
   "execution_count": 9,
   "metadata": {},
   "outputs": [
    {
     "data": {
      "application/vnd.jupyter.widget-view+json": {
       "model_id": "305ca7b34be04f87ba545ad98c125017",
       "version_major": 2,
       "version_minor": 0
      },
      "text/plain": [
       "  0%|          | 0/100 [00:00<?, ?it/s]"
      ]
     },
     "metadata": {},
     "output_type": "display_data"
    },
    {
     "name": "stdout",
     "output_type": "stream",
     "text": [
      "epoch: 0, loss: 0.2365946545\n",
      "epoch: 1, loss: 0.22740445376666665\n",
      "epoch: 2, loss: 0.21449529763333336\n",
      "epoch: 3, loss: 0.20415897486666665\n",
      "epoch: 4, loss: 0.19490069389999998\n",
      "epoch: 5, loss: 0.18890555009999999\n",
      "epoch: 6, loss: 0.18198538290000002\n",
      "epoch: 7, loss: 0.17622997463333334\n",
      "epoch: 8, loss: 0.16975302983333335\n",
      "epoch: 9, loss: 0.16163181546666666\n",
      "epoch: 10, loss: 0.15811551136666666\n",
      "epoch: 11, loss: 0.15630093736666667\n",
      "epoch: 12, loss: 0.15302991956666667\n",
      "epoch: 13, loss: 0.14429670983333334\n",
      "epoch: 14, loss: 0.14325384136666666\n",
      "epoch: 15, loss: 0.13632775540000003\n",
      "epoch: 16, loss: 0.1302377248\n",
      "epoch: 17, loss: 0.1267588375\n",
      "epoch: 18, loss: 0.11594938119999999\n",
      "epoch: 19, loss: 0.11624018669999998\n",
      "epoch: 20, loss: 0.11011944896666667\n",
      "epoch: 21, loss: 0.10475016223333335\n",
      "epoch: 22, loss: 0.09986549930000001\n",
      "epoch: 23, loss: 0.09423325786666666\n",
      "epoch: 24, loss: 0.08621936000000001\n",
      "epoch: 25, loss: 0.08250243476666667\n",
      "epoch: 26, loss: 0.08210166633333335\n",
      "epoch: 27, loss: 0.07604378133333332\n",
      "epoch: 28, loss: 0.07148121683333333\n",
      "epoch: 29, loss: 0.06806089036666667\n",
      "epoch: 30, loss: 0.0702159808\n",
      "epoch: 31, loss: 0.06506050153333334\n",
      "epoch: 32, loss: 0.056560129833333334\n",
      "epoch: 33, loss: 0.05717719209999998\n",
      "epoch: 34, loss: 0.054640899500000006\n",
      "epoch: 35, loss: 0.04959440173333333\n",
      "epoch: 36, loss: 0.046224033600000006\n",
      "epoch: 37, loss: 0.04279058576666667\n",
      "epoch: 38, loss: 0.04075496873333334\n",
      "epoch: 39, loss: 0.04283909876666667\n",
      "epoch: 40, loss: 0.04239201443333333\n",
      "epoch: 41, loss: 0.0326545724\n",
      "epoch: 42, loss: 0.03174022343333333\n",
      "epoch: 43, loss: 0.031947858\n",
      "epoch: 44, loss: 0.031000551900000003\n",
      "epoch: 45, loss: 0.030308516933333335\n",
      "epoch: 46, loss: 0.025667659866666668\n",
      "epoch: 47, loss: 0.0207897731\n",
      "epoch: 48, loss: 0.018737888933333332\n",
      "epoch: 49, loss: 0.020919856733333332\n",
      "epoch: 50, loss: 0.021561327166666668\n",
      "epoch: 51, loss: 0.018751381233333333\n",
      "epoch: 52, loss: 0.015364624933333335\n",
      "epoch: 53, loss: 0.015297184333333333\n",
      "epoch: 54, loss: 0.015810231933333335\n",
      "epoch: 55, loss: 0.016248039933333333\n",
      "epoch: 56, loss: 0.014624833866666668\n",
      "epoch: 57, loss: 0.013448900000000001\n",
      "epoch: 58, loss: 0.013129898933333332\n",
      "epoch: 59, loss: 0.012980606233333332\n",
      "epoch: 60, loss: 0.013499818899999998\n",
      "epoch: 61, loss: 0.011851797966666666\n",
      "epoch: 62, loss: 0.011072934133333334\n",
      "epoch: 63, loss: 0.0103642614\n",
      "epoch: 64, loss: 0.010830249066666665\n",
      "epoch: 65, loss: 0.010596592600000001\n",
      "epoch: 66, loss: 0.010348289833333333\n",
      "epoch: 67, loss: 0.010007930033333333\n",
      "epoch: 68, loss: 0.009349555133333333\n",
      "epoch: 69, loss: 0.008969996933333333\n",
      "epoch: 70, loss: 0.0093355918\n",
      "epoch: 71, loss: 0.008854397766666668\n",
      "epoch: 72, loss: 0.0085415126\n",
      "epoch: 73, loss: 0.008122022033333334\n",
      "epoch: 74, loss: 0.007947978900000001\n",
      "epoch: 75, loss: 0.007983579066666666\n",
      "epoch: 76, loss: 0.007737912900000001\n",
      "epoch: 77, loss: 0.007657479699999999\n",
      "epoch: 78, loss: 0.007454808633333334\n",
      "epoch: 79, loss: 0.007352522833333334\n",
      "epoch: 80, loss: 0.007443630566666666\n",
      "epoch: 81, loss: 0.007145820466666667\n",
      "epoch: 82, loss: 0.006881529533333334\n",
      "epoch: 83, loss: 0.006803802500000001\n",
      "epoch: 84, loss: 0.006717032833333333\n",
      "epoch: 85, loss: 0.006782928866666666\n",
      "epoch: 86, loss: 0.0066962182666666665\n",
      "epoch: 87, loss: 0.006595612066666667\n",
      "epoch: 88, loss: 0.0064020343\n",
      "epoch: 89, loss: 0.006267558933333334\n",
      "epoch: 90, loss: 0.0061982487\n",
      "epoch: 91, loss: 0.006305756766666668\n",
      "epoch: 92, loss: 0.0062355314\n",
      "epoch: 93, loss: 0.005978330299999999\n",
      "epoch: 94, loss: 0.006006569233333333\n",
      "epoch: 95, loss: 0.005874003533333333\n",
      "epoch: 96, loss: 0.0057418584333333335\n",
      "epoch: 97, loss: 0.0058021803\n",
      "epoch: 98, loss: 0.0056552203666666665\n",
      "epoch: 99, loss: 0.005698573199999999\n"
     ]
    }
   ],
   "source": [
    "network1.train(x_train, y_train, epochs=100, verbose=True)\n",
    "saver(network1, data_path(\"digits_hybrid_layers_3\"))"
   ]
  },
  {
   "cell_type": "code",
   "execution_count": 10,
   "metadata": {},
   "outputs": [],
   "source": [
    "np.random.seed(42)\n",
    "network2 = sequential_dnn(dim=[64, 4, 4, 3], lr=0.1)"
   ]
  },
  {
   "cell_type": "code",
   "execution_count": 11,
   "metadata": {},
   "outputs": [
    {
     "data": {
      "application/vnd.jupyter.widget-view+json": {
       "model_id": "c3bfdba93fa74f02802c8aaf6a76989e",
       "version_major": 2,
       "version_minor": 0
      },
      "text/plain": [
       "  0%|          | 0/100 [00:00<?, ?it/s]"
      ]
     },
     "metadata": {},
     "output_type": "display_data"
    },
    {
     "name": "stdout",
     "output_type": "stream",
     "text": [
      "epoch: 0, loss: 0.37241333163555157\n",
      "epoch: 1, loss: 0.32650439400317066\n",
      "epoch: 2, loss: 0.2908751550939861\n",
      "epoch: 3, loss: 0.26978843214073506\n",
      "epoch: 4, loss: 0.2538358824088277\n",
      "epoch: 5, loss: 0.24057315912469301\n",
      "epoch: 6, loss: 0.2298832325398529\n",
      "epoch: 7, loss: 0.22178879179664293\n",
      "epoch: 8, loss: 0.21571441753373904\n",
      "epoch: 9, loss: 0.21122334142640356\n",
      "epoch: 10, loss: 0.20824004611955535\n",
      "epoch: 11, loss: 0.20637317887815376\n",
      "epoch: 12, loss: 0.2044346576011082\n",
      "epoch: 13, loss: 0.20086124902268043\n",
      "epoch: 14, loss: 0.1940848561195667\n",
      "epoch: 15, loss: 0.1861402259515153\n",
      "epoch: 16, loss: 0.18011905052276916\n",
      "epoch: 17, loss: 0.17504055039645144\n",
      "epoch: 18, loss: 0.1699537192254483\n",
      "epoch: 19, loss: 0.16430975373672735\n",
      "epoch: 20, loss: 0.15789826619730887\n",
      "epoch: 21, loss: 0.1507910436393874\n",
      "epoch: 22, loss: 0.1428924849869262\n",
      "epoch: 23, loss: 0.1340404501419498\n",
      "epoch: 24, loss: 0.1253583420181962\n",
      "epoch: 25, loss: 0.11747388728810859\n",
      "epoch: 26, loss: 0.1097264322629123\n",
      "epoch: 27, loss: 0.10160673021796553\n",
      "epoch: 28, loss: 0.09316566212115815\n",
      "epoch: 29, loss: 0.08475552663622661\n",
      "epoch: 30, loss: 0.07663792492195316\n",
      "epoch: 31, loss: 0.06843692116903442\n",
      "epoch: 32, loss: 0.06176982460859053\n",
      "epoch: 33, loss: 0.056883704120448575\n",
      "epoch: 34, loss: 0.05013773490148858\n",
      "epoch: 35, loss: 0.04343394558724929\n",
      "epoch: 36, loss: 0.03862075944140249\n",
      "epoch: 37, loss: 0.035163467801314165\n",
      "epoch: 38, loss: 0.03188280350915104\n",
      "epoch: 39, loss: 0.02832027504273533\n",
      "epoch: 40, loss: 0.025177318269665884\n",
      "epoch: 41, loss: 0.022877185797918108\n",
      "epoch: 42, loss: 0.021034920512385296\n",
      "epoch: 43, loss: 0.019439073038484023\n",
      "epoch: 44, loss: 0.017991232394793694\n",
      "epoch: 45, loss: 0.016646134299298433\n",
      "epoch: 46, loss: 0.015386317959098497\n",
      "epoch: 47, loss: 0.01421364013301117\n",
      "epoch: 48, loss: 0.013137334856736944\n",
      "epoch: 49, loss: 0.012162590626163953\n",
      "epoch: 50, loss: 0.011287205786768582\n",
      "epoch: 51, loss: 0.010504368875341655\n",
      "epoch: 52, loss: 0.009805804541971488\n",
      "epoch: 53, loss: 0.009182157980716772\n",
      "epoch: 54, loss: 0.008621995336172698\n",
      "epoch: 55, loss: 0.008112253200235547\n",
      "epoch: 56, loss: 0.0076407737035947085\n",
      "epoch: 57, loss: 0.007200322072622608\n",
      "epoch: 58, loss: 0.006790624790339474\n",
      "epoch: 59, loss: 0.006414662347101392\n",
      "epoch: 60, loss: 0.006073306480611459\n",
      "epoch: 61, loss: 0.005763910246247679\n",
      "epoch: 62, loss: 0.005481915557300274\n",
      "epoch: 63, loss: 0.005222536646583062\n",
      "epoch: 64, loss: 0.004981569170330948\n",
      "epoch: 65, loss: 0.004755584396765924\n",
      "epoch: 66, loss: 0.004541874404242721\n",
      "epoch: 67, loss: 0.004338372831536988\n",
      "epoch: 68, loss: 0.004143666804666521\n",
      "epoch: 69, loss: 0.003957104884754806\n",
      "epoch: 70, loss: 0.003778832262683575\n",
      "epoch: 71, loss: 0.00360947023640867\n",
      "epoch: 72, loss: 0.003449511294235301\n",
      "epoch: 73, loss: 0.0032992930491517005\n",
      "epoch: 74, loss: 0.003160108371633413\n",
      "epoch: 75, loss: 0.0030347033373416933\n",
      "epoch: 76, loss: 0.0029250826383693147\n",
      "epoch: 77, loss: 0.0028300611926080185\n",
      "epoch: 78, loss: 0.002745814697290733\n",
      "epoch: 79, loss: 0.0026679469620933915\n",
      "epoch: 80, loss: 0.0025930583607599476\n",
      "epoch: 81, loss: 0.0025195899936491842\n",
      "epoch: 82, loss: 0.002447755492987875\n",
      "epoch: 83, loss: 0.00237858367009376\n",
      "epoch: 84, loss: 0.0023129257952954263\n",
      "epoch: 85, loss: 0.002251087771216491\n",
      "epoch: 86, loss: 0.0021929433573313066\n",
      "epoch: 87, loss: 0.002138155380163932\n",
      "epoch: 88, loss: 0.002086330966208078\n",
      "epoch: 89, loss: 0.002037098016701366\n",
      "epoch: 90, loss: 0.0019901331053207108\n",
      "epoch: 91, loss: 0.0019451657296608068\n",
      "epoch: 92, loss: 0.0019019728397362424\n",
      "epoch: 93, loss: 0.0018603706651146156\n",
      "epoch: 94, loss: 0.0018202074443543943\n",
      "epoch: 95, loss: 0.0017813589552416495\n",
      "epoch: 96, loss: 0.0017437276339335398\n",
      "epoch: 97, loss: 0.0017072449797718432\n",
      "epoch: 98, loss: 0.0016718756264581284\n",
      "epoch: 99, loss: 0.001637620036578364\n"
     ]
    }
   ],
   "source": [
    "network2.train(x_train, y_train, epochs=100, verbose=True)"
   ]
  },
  {
   "cell_type": "code",
   "execution_count": 12,
   "metadata": {},
   "outputs": [
    {
     "ename": "NameError",
     "evalue": "name 'network' is not defined",
     "output_type": "error",
     "traceback": [
      "\u001b[0;31m---------------------------------------------------------------------------\u001b[0m",
      "\u001b[0;31mNameError\u001b[0m                                 Traceback (most recent call last)",
      "\u001b[0;32m<ipython-input-12-81bdc812ad66>\u001b[0m in \u001b[0;36m<module>\u001b[0;34m\u001b[0m\n\u001b[0;32m----> 1\u001b[0;31m \u001b[0my_pred\u001b[0m \u001b[0;34m=\u001b[0m \u001b[0mnp\u001b[0m\u001b[0;34m.\u001b[0m\u001b[0mround\u001b[0m\u001b[0;34m(\u001b[0m\u001b[0mnetwork\u001b[0m\u001b[0;34m.\u001b[0m\u001b[0mpredict\u001b[0m\u001b[0;34m(\u001b[0m\u001b[0mx_train\u001b[0m\u001b[0;34m)\u001b[0m\u001b[0;34m)\u001b[0m\u001b[0;34m\u001b[0m\u001b[0;34m\u001b[0m\u001b[0m\n\u001b[0m\u001b[1;32m      2\u001b[0m \u001b[0mprint\u001b[0m\u001b[0;34m(\u001b[0m\u001b[0mnp\u001b[0m\u001b[0;34m.\u001b[0m\u001b[0mmean\u001b[0m\u001b[0;34m(\u001b[0m\u001b[0my_pred\u001b[0m \u001b[0;34m==\u001b[0m \u001b[0my_train\u001b[0m\u001b[0;34m)\u001b[0m\u001b[0;34m)\u001b[0m\u001b[0;34m\u001b[0m\u001b[0;34m\u001b[0m\u001b[0m\n",
      "\u001b[0;31mNameError\u001b[0m: name 'network' is not defined"
     ]
    }
   ],
   "source": [
    "y_pred = np.round(network1.predict(x_train))\n",
    "print(np.mean(y_pred == y_train))"
   ]
  },
  {
   "cell_type": "code",
   "execution_count": null,
   "metadata": {},
   "outputs": [],
   "source": [
    "y_pred = np.round(network2.predict(x_train))\n",
    "print(np.mean(y_pred == y_train))"
   ]
  },
  {
   "cell_type": "code",
   "execution_count": null,
   "metadata": {},
   "outputs": [],
   "source": []
  }
 ],
 "metadata": {
  "kernelspec": {
   "display_name": "env_qiskit",
   "language": "python",
   "name": "env_qiskit"
  },
  "language_info": {
   "codemirror_mode": {
    "name": "ipython",
    "version": 3
   },
   "file_extension": ".py",
   "mimetype": "text/x-python",
   "name": "python",
   "nbconvert_exporter": "python",
   "pygments_lexer": "ipython3",
   "version": "3.9.1"
  }
 },
 "nbformat": 4,
 "nbformat_minor": 4
}
