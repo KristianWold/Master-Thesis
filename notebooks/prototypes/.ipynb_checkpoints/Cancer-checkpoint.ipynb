{
 "cells": [
  {
   "cell_type": "code",
   "execution_count": 1,
   "metadata": {},
   "outputs": [],
   "source": [
    "import numpy as np\n",
    "import qiskit as qk\n",
    "import matplotlib.pyplot as plt\n",
    "\n",
    "from qiskit import Aer\n",
    "from tqdm.notebook import tqdm\n",
    "from sklearn.datasets import load_breast_cancer\n",
    "from sklearn.model_selection import train_test_split\n",
    "from sklearn.decomposition import PCA\n",
    "from sklearn.linear_model import LogisticRegression\n",
    "\n",
    "import sys\n",
    "sys.path.insert(0, '../../src/')\n",
    "from neuralnetwork import *\n",
    "from analysis import *\n",
    "\n",
    "#%matplotlib notebook\n",
    "%matplotlib inline\n",
    "%load_ext autoreload\n",
    "%autoreload 2\n",
    "\n",
    "np.set_printoptions(precision=4, suppress=None)"
   ]
  },
  {
   "cell_type": "markdown",
   "metadata": {},
   "source": [
    "# Breast Cancer Data"
   ]
  },
  {
   "cell_type": "markdown",
   "metadata": {},
   "source": [
    "### Load Data"
   ]
  },
  {
   "cell_type": "code",
   "execution_count": 2,
   "metadata": {},
   "outputs": [],
   "source": [
    "data = load_breast_cancer()\n",
    "x = data.data\n",
    "y = data.target.reshape(-1, 1)\n",
    "\n",
    "np.random.seed(42)\n",
    "x_train, x_test, y_train, y_test = train_test_split(x, y, train_size=100, test_size=100)"
   ]
  },
  {
   "cell_type": "markdown",
   "metadata": {},
   "source": [
    "## PCA"
   ]
  },
  {
   "cell_type": "code",
   "execution_count": 3,
   "metadata": {},
   "outputs": [],
   "source": [
    "#x_train_scaled = scaler(x_train, mode=\"standard\")\n",
    "pca = PCA(n_components=4)\n",
    "x_train_pca = pca.fit_transform(x_train)\n",
    "x_test_pca = pca.transform(x_test)"
   ]
  },
  {
   "cell_type": "code",
   "execution_count": 4,
   "metadata": {},
   "outputs": [],
   "source": [
    "x_train_qcn = scaler(x_train_pca, mode=\"uniform\", a=-np.pi/2, b=np.pi/2)\n",
    "x_train_dnn = scaler(x_train_pca, mode=\"standard\")\n",
    "\n",
    "x_test_qcn = scaler(x_test_pca, mode=\"uniform\", a=-np.pi/2, b=np.pi/2)\n",
    "x_test_dnn = scaler(x_test_pca, mode=\"standard\")"
   ]
  },
  {
   "cell_type": "code",
   "execution_count": 6,
   "metadata": {},
   "outputs": [
    {
     "data": {
      "text/plain": [
       "[<matplotlib.lines.Line2D at 0x7f14507b7790>]"
      ]
     },
     "execution_count": 6,
     "metadata": {},
     "output_type": "execute_result"
    },
    {
     "data": {
      "image/png": "[encoded data removed]",
      "text/plain": [
       "<Figure size 432x288 with 1 Axes>"
      ]
     },
     "metadata": {
      "needs_background": "light"
     },
     "output_type": "display_data"
    }
   ],
   "source": [
    "plt.plot(x_train_qcn[:,3], y_train,\"o\")"
   ]
  },
  {
   "cell_type": "code",
   "execution_count": 16,
   "metadata": {},
   "outputs": [
    {
     "data": {
      "application/vnd.jupyter.widget-view+json": {
       "model_id": "36ac69e7aff445fabd70fadc127b95ec",
       "version_major": 2,
       "version_minor": 0
      },
      "text/plain": [
       "  0%|          | 0/10 [00:00<?, ?it/s]"
      ]
     },
     "metadata": {},
     "output_type": "display_data"
    },
    {
     "data": {
      "image/png": "[encoded data removed]",
      "text/plain": [
       "<Figure size 432x288 with 1 Axes>"
      ]
     },
     "metadata": {
      "needs_background": "light"
     },
     "output_type": "display_data"
    },
    {
     "name": "stdout",
     "output_type": "stream",
     "text": [
      "0.33195363760353497\n"
     ]
    }
   ],
   "source": [
    "np.random.seed(42)\n",
    "\n",
    "dnn_list = []\n",
    "for i in tqdm(range(10)):\n",
    "    dnn = sequential_dnn(dim = [4, 5, 1])\n",
    "    dnn.train(x_train_dnn, y_train, epochs = 100)\n",
    "    dnn_list.append(dnn)\n",
    "    \n",
    "saver(dnn_list, data_path(\"cancer_dnn_pca\"))\n",
    "plt.plot(dnn_list[0].loss)\n",
    "plt.show()\n",
    "print(dnn_list[7].loss[-1])"
   ]
  },
  {
   "cell_type": "code",
   "execution_count": 93,
   "metadata": {},
   "outputs": [
    {
     "name": "stdout",
     "output_type": "stream",
     "text": [
      "0.028894029497670976\n"
     ]
    }
   ],
   "source": [
    "y_pred = dnn_list[0].predict(x_test_dnn)\n",
    "loss = np.mean((y_pred - y_test)**2)\n",
    "print(loss)"
   ]
  },
  {
   "cell_type": "code",
   "execution_count": 94,
   "metadata": {},
   "outputs": [
    {
     "data": {
      "application/vnd.jupyter.widget-view+json": {
       "model_id": "5d045d36206f41cd868307e72463f385",
       "version_major": 2,
       "version_minor": 0
      },
      "text/plain": [
       "  0%|          | 0/1 [00:00<?, ?it/s]"
      ]
     },
     "metadata": {},
     "output_type": "display_data"
    },
    {
     "data": {
      "application/vnd.jupyter.widget-view+json": {
       "model_id": "6a3218938d5b43208cc0abeb007785c0",
       "version_major": 2,
       "version_minor": 0
      },
      "text/plain": [
       "  0%|          | 0/100 [00:00<?, ?it/s]"
      ]
     },
     "metadata": {},
     "output_type": "display_data"
    },
    {
     "name": "stdout",
     "output_type": "stream",
     "text": [
      "epoch: 0, loss: 0.3584266139380151\n",
      "epoch: 1, loss: 0.27295350147651926\n",
      "epoch: 2, loss: 0.23003118156834904\n",
      "epoch: 3, loss: 0.214439635694633\n",
      "epoch: 4, loss: 0.20465587943377683\n",
      "epoch: 5, loss: 0.19156366307444106\n",
      "epoch: 6, loss: 0.1770251541666193\n",
      "epoch: 7, loss: 0.16488837054866212\n",
      "epoch: 8, loss: 0.15711169801724278\n",
      "epoch: 9, loss: 0.15358090075295838\n",
      "epoch: 10, loss: 0.1532378920913299\n",
      "epoch: 11, loss: 0.15311585649669288\n",
      "epoch: 12, loss: 0.15081909972319935\n",
      "epoch: 13, loss: 0.14565007841045893\n",
      "epoch: 14, loss: 0.13764730818183307\n",
      "epoch: 15, loss: 0.12762520340986597\n",
      "epoch: 16, loss: 0.11764531199184161\n",
      "epoch: 17, loss: 0.11008702081222788\n",
      "epoch: 18, loss: 0.10515921773304156\n",
      "epoch: 19, loss: 0.10096548633301511\n",
      "epoch: 20, loss: 0.09714495415716025\n",
      "epoch: 21, loss: 0.09468407431167393\n",
      "epoch: 22, loss: 0.09393855044194685\n",
      "epoch: 23, loss: 0.09420904802740385\n",
      "epoch: 24, loss: 0.0945614212647934\n",
      "epoch: 25, loss: 0.09438107597200919\n",
      "epoch: 26, loss: 0.09340858748825365\n",
      "epoch: 27, loss: 0.09164525396056701\n",
      "epoch: 28, loss: 0.08929463140116405\n",
      "epoch: 29, loss: 0.08669762332579177\n",
      "epoch: 30, loss: 0.08420512978387525\n",
      "epoch: 31, loss: 0.08207930330551846\n",
      "epoch: 32, loss: 0.08052154865188368\n",
      "epoch: 33, loss: 0.07964769126636705\n",
      "epoch: 34, loss: 0.07930679426183158\n",
      "epoch: 35, loss: 0.07914944240192061\n",
      "epoch: 36, loss: 0.07897412244989535\n",
      "epoch: 37, loss: 0.07874768444885658\n",
      "epoch: 38, loss: 0.07845709774449322\n",
      "epoch: 39, loss: 0.07813551213303903\n",
      "epoch: 40, loss: 0.07783446585850876\n",
      "epoch: 41, loss: 0.07743433421944376\n",
      "epoch: 42, loss: 0.0766739625403457\n",
      "epoch: 43, loss: 0.07553167460169846\n",
      "epoch: 44, loss: 0.0743479015042632\n",
      "epoch: 45, loss: 0.0734555161760164\n",
      "epoch: 46, loss: 0.07289177796242881\n",
      "epoch: 47, loss: 0.07250382384384046\n",
      "epoch: 48, loss: 0.07216182561449183\n",
      "epoch: 49, loss: 0.07179203029356909\n",
      "epoch: 50, loss: 0.07129255205879004\n",
      "epoch: 51, loss: 0.07057267107720873\n",
      "epoch: 52, loss: 0.06968341968241308\n",
      "epoch: 53, loss: 0.06876434273961286\n",
      "epoch: 54, loss: 0.06786229611069508\n",
      "epoch: 55, loss: 0.06690994738077075\n",
      "epoch: 56, loss: 0.06585651892608235\n",
      "epoch: 57, loss: 0.06473817388218339\n",
      "epoch: 58, loss: 0.0636366741293174\n",
      "epoch: 59, loss: 0.0626335646954809\n",
      "epoch: 60, loss: 0.06179783175412263\n",
      "epoch: 61, loss: 0.061145956745554376\n",
      "epoch: 62, loss: 0.060605759418825816\n",
      "epoch: 63, loss: 0.06008711402353626\n",
      "epoch: 64, loss: 0.05957947247337029\n",
      "epoch: 65, loss: 0.05911255711632991\n",
      "epoch: 66, loss: 0.058657210494520606\n",
      "epoch: 67, loss: 0.05815081241721616\n",
      "epoch: 68, loss: 0.05759004935403534\n",
      "epoch: 69, loss: 0.057019650544709234\n",
      "epoch: 70, loss: 0.05645405972146804\n",
      "epoch: 71, loss: 0.055880619276968614\n",
      "epoch: 72, loss: 0.055312723969259237\n",
      "epoch: 73, loss: 0.05476144583641219\n",
      "epoch: 74, loss: 0.05423133976274509\n",
      "epoch: 75, loss: 0.05377701466047749\n",
      "epoch: 76, loss: 0.053391727493696965\n",
      "epoch: 77, loss: 0.053060869106140836\n",
      "epoch: 78, loss: 0.05276077693728068\n",
      "epoch: 79, loss: 0.052494468967106626\n",
      "epoch: 80, loss: 0.0522614726771687\n",
      "epoch: 81, loss: 0.0520861119409616\n",
      "epoch: 82, loss: 0.05194673534791309\n",
      "epoch: 83, loss: 0.05184490778639674\n",
      "epoch: 84, loss: 0.05175998155672731\n",
      "epoch: 85, loss: 0.05168077029280242\n",
      "epoch: 86, loss: 0.051621078732886065\n",
      "epoch: 87, loss: 0.05156978600738564\n",
      "epoch: 88, loss: 0.05151260607708541\n",
      "epoch: 89, loss: 0.051441389446925195\n",
      "epoch: 90, loss: 0.05134124981361676\n",
      "epoch: 91, loss: 0.051217477354851076\n",
      "epoch: 92, loss: 0.051087487683707355\n",
      "epoch: 93, loss: 0.05095605263896326\n",
      "epoch: 94, loss: 0.05082141871019783\n",
      "epoch: 95, loss: 0.0506843993769619\n",
      "epoch: 96, loss: 0.050544065648771314\n",
      "epoch: 97, loss: 0.05040532186411145\n",
      "epoch: 98, loss: 0.0502801456740415\n",
      "epoch: 99, loss: 0.05017208001980685\n"
     ]
    }
   ],
   "source": [
    "np.random.seed(42)\n",
    "\n",
    "qcn_list = []\n",
    "for i in tqdm(range(1)):\n",
    "    qcn = sequential_qnn(n_qubits = [4, 4],\n",
    "                         dim = [4, 4, 1],\n",
    "                         ansatz = Ansatz(blocks=[\"entangle\", \"ry\"], reps=2),\n",
    "                         shots=0)\n",
    "    \n",
    "    qcn.train(x_train_qcn, y_train, epochs=100, verbose=True)\n",
    "    qcn_list.append(qcn)\n",
    "\n",
    "saver(qcn_list, data_path(\"cancer_qnn_pca\"))"
   ]
  },
  {
   "cell_type": "code",
   "execution_count": 14,
   "metadata": {},
   "outputs": [],
   "source": [
    "qcn_list = loader(data_path(\"cancer_qnn_pca\"))\n",
    "y_pred = qcn_list[0].predict(x_test_qcn)\n",
    "y_pred1 = dnn_list[0].predict(x_test_dnn)\n",
    "#loss = np.mean((y_pred - y_test)**2)\n",
    "#print(loss)"
   ]
  },
  {
   "cell_type": "code",
   "execution_count": 15,
   "metadata": {},
   "outputs": [
    {
     "name": "stdout",
     "output_type": "stream",
     "text": [
      "0.93\n",
      "0.98\n"
     ]
    }
   ],
   "source": [
    "print(np.mean(np.round(y_pred).flatten() == y_test.flatten()))\n",
    "print(np.mean(np.round(y_pred1).flatten() == y_test.flatten()))"
   ]
  },
  {
   "cell_type": "code",
   "execution_count": 95,
   "metadata": {},
   "outputs": [],
   "source": [
    "qcn = sequential_qnn(n_qubits = [4,],\n",
    "                         dim = [4, 1],\n",
    "                         ansatz = Ansatz(blocks=[\"entangle\", \"ry\"], reps=4),\n",
    "                         shots=0)"
   ]
  },
  {
   "cell_type": "code",
   "execution_count": 96,
   "metadata": {},
   "outputs": [
    {
     "data": {
      "application/vnd.jupyter.widget-view+json": {
       "model_id": "110afedcb2d54c6fa955fc46daf96381",
       "version_major": 2,
       "version_minor": 0
      },
      "text/plain": [
       "  0%|          | 0/100 [00:00<?, ?it/s]"
      ]
     },
     "metadata": {},
     "output_type": "display_data"
    },
    {
     "name": "stdout",
     "output_type": "stream",
     "text": [
      "epoch: 0, loss: 0.2100215167989977\n",
      "epoch: 1, loss: 0.1772130143688329\n",
      "epoch: 2, loss: 0.15497718796025717\n",
      "epoch: 3, loss: 0.13884683714798812\n",
      "epoch: 4, loss: 0.1285231125985276\n",
      "epoch: 5, loss: 0.12277142503865507\n",
      "epoch: 6, loss: 0.11917154130438717\n",
      "epoch: 7, loss: 0.1167829342971624\n",
      "epoch: 8, loss: 0.11523303428085412\n",
      "epoch: 9, loss: 0.11403899742812311\n",
      "epoch: 10, loss: 0.1128903138537837\n",
      "epoch: 11, loss: 0.11161213531840812\n",
      "epoch: 12, loss: 0.11014908215203947\n",
      "epoch: 13, loss: 0.10855007284660889\n",
      "epoch: 14, loss: 0.10688927618168298\n",
      "epoch: 15, loss: 0.1053111072228333\n",
      "epoch: 16, loss: 0.10402688833050988\n",
      "epoch: 17, loss: 0.10322266003228632\n",
      "epoch: 18, loss: 0.1029510818001866\n",
      "epoch: 19, loss: 0.10305478294177893\n",
      "epoch: 20, loss: 0.10321099526182265\n",
      "epoch: 21, loss: 0.1031401085134676\n",
      "epoch: 22, loss: 0.10277499773593267\n",
      "epoch: 23, loss: 0.10222353860022365\n",
      "epoch: 24, loss: 0.10162696783558363\n",
      "epoch: 25, loss: 0.10105662347058317\n",
      "epoch: 26, loss: 0.10048988885966241\n",
      "epoch: 27, loss: 0.09985595346178172\n",
      "epoch: 28, loss: 0.09912283591869206\n",
      "epoch: 29, loss: 0.09836273358294145\n",
      "epoch: 30, loss: 0.09773305354020706\n",
      "epoch: 31, loss: 0.0973813750500589\n",
      "epoch: 32, loss: 0.09735080421941684\n",
      "epoch: 33, loss: 0.09755309600389335\n",
      "epoch: 34, loss: 0.09781578734588522\n",
      "epoch: 35, loss: 0.09796534606899603\n",
      "epoch: 36, loss: 0.09790225193125174\n",
      "epoch: 37, loss: 0.09763345648108342\n",
      "epoch: 38, loss: 0.09724968377135823\n",
      "epoch: 39, loss: 0.09686827100268984\n",
      "epoch: 40, loss: 0.09657839488582892\n",
      "epoch: 41, loss: 0.09641355924743272\n",
      "epoch: 42, loss: 0.09635445145976052\n",
      "epoch: 43, loss: 0.09635056875190624\n",
      "epoch: 44, loss: 0.09634551145227352\n",
      "epoch: 45, loss: 0.09629598397523584\n",
      "epoch: 46, loss: 0.09618204786790933\n",
      "epoch: 47, loss: 0.09600955086256954\n",
      "epoch: 48, loss: 0.09580481601644208\n",
      "epoch: 49, loss: 0.09560214729168846\n",
      "epoch: 50, loss: 0.09542883194295826\n",
      "epoch: 51, loss: 0.09529519631437626\n",
      "epoch: 52, loss: 0.09519406644247513\n",
      "epoch: 53, loss: 0.09510766780198822\n",
      "epoch: 54, loss: 0.0950170940270649\n",
      "epoch: 55, loss: 0.0949107204359458\n",
      "epoch: 56, loss: 0.09478902682275811\n",
      "epoch: 57, loss: 0.09466338846495714\n",
      "epoch: 58, loss: 0.0945489468358165\n",
      "epoch: 59, loss: 0.0944562944768921\n",
      "epoch: 60, loss: 0.09438768300235582\n",
      "epoch: 61, loss: 0.09433886689184862\n",
      "epoch: 62, loss: 0.09430318317493334\n",
      "epoch: 63, loss: 0.09427470324772681\n",
      "epoch: 64, loss: 0.09424975162789999\n",
      "epoch: 65, loss: 0.09422683785500276\n",
      "epoch: 66, loss: 0.0942050912828297\n",
      "epoch: 67, loss: 0.09418268916097848\n",
      "epoch: 68, loss: 0.09415728385522495\n",
      "epoch: 69, loss: 0.09412787294307678\n",
      "epoch: 70, loss: 0.09409539527068148\n",
      "epoch: 71, loss: 0.0940613185888914\n",
      "epoch: 72, loss: 0.09402644914309716\n",
      "epoch: 73, loss: 0.09399128762551488\n",
      "epoch: 74, loss: 0.0939566206594968\n",
      "epoch: 75, loss: 0.09392341859757913\n",
      "epoch: 76, loss: 0.09389281738813515\n",
      "epoch: 77, loss: 0.09386627077056044\n",
      "epoch: 78, loss: 0.09384494266160102\n",
      "epoch: 79, loss: 0.09382875302270116\n",
      "epoch: 80, loss: 0.09381648674205594\n",
      "epoch: 81, loss: 0.09380678810094704\n",
      "epoch: 82, loss: 0.09379865809193648\n",
      "epoch: 83, loss: 0.09379129001466847\n",
      "epoch: 84, loss: 0.09378404681656492\n",
      "epoch: 85, loss: 0.09377658839698556\n",
      "epoch: 86, loss: 0.0937687595725584\n",
      "epoch: 87, loss: 0.09376052758553928\n",
      "epoch: 88, loss: 0.09375218009748391\n",
      "epoch: 89, loss: 0.09374426199871898\n",
      "epoch: 90, loss: 0.0937370915580248\n",
      "epoch: 91, loss: 0.09373052946938641\n",
      "epoch: 92, loss: 0.09372429147428837\n",
      "epoch: 93, loss: 0.09371830060524104\n",
      "epoch: 94, loss: 0.093712761457293\n",
      "epoch: 95, loss: 0.09370808015345647\n",
      "epoch: 96, loss: 0.0937046430622749\n",
      "epoch: 97, loss: 0.09370249080460936\n",
      "epoch: 98, loss: 0.09370123386039401\n",
      "epoch: 99, loss: 0.093700344670795\n"
     ]
    }
   ],
   "source": [
    "qcn.train(x_train_qcn, y_train, epochs=100, verbose=True)"
   ]
  },
  {
   "cell_type": "code",
   "execution_count": 100,
   "metadata": {},
   "outputs": [],
   "source": [
    "qcn1 = sequential_qnn(n_qubits = [4],\n",
    "                         dim = [4, 1],\n",
    "                         encoder = RZZEncoder(),\n",
    "                         ansatz = Ansatz(blocks=[\"entangle\", \"ry\"], reps=4),\n",
    "                         shots=0)"
   ]
  },
  {
   "cell_type": "code",
   "execution_count": 101,
   "metadata": {},
   "outputs": [
    {
     "data": {
      "application/vnd.jupyter.widget-view+json": {
       "model_id": "4727414e25c4476691e20284f278cbe9",
       "version_major": 2,
       "version_minor": 0
      },
      "text/plain": [
       "  0%|          | 0/100 [00:00<?, ?it/s]"
      ]
     },
     "metadata": {},
     "output_type": "display_data"
    },
    {
     "name": "stdout",
     "output_type": "stream",
     "text": [
      "epoch: 0, loss: 0.25243861014523516\n",
      "epoch: 1, loss: 0.2415227818665963\n",
      "epoch: 2, loss: 0.23747885401915916\n",
      "epoch: 3, loss: 0.23517347951176423\n",
      "epoch: 4, loss: 0.23219387699679817\n",
      "epoch: 5, loss: 0.22901829155397596\n",
      "epoch: 6, loss: 0.22655297069709138\n",
      "epoch: 7, loss: 0.22533693278334144\n",
      "epoch: 8, loss: 0.2250091575093417\n",
      "epoch: 9, loss: 0.2246643508991472\n",
      "epoch: 10, loss: 0.22370383626311374\n",
      "epoch: 11, loss: 0.2221106432483083\n",
      "epoch: 12, loss: 0.22019298487773853\n",
      "epoch: 13, loss: 0.21823148873321357\n",
      "epoch: 14, loss: 0.21631654031169695\n",
      "epoch: 15, loss: 0.21439764947679354\n",
      "epoch: 16, loss: 0.21244245845438023\n",
      "epoch: 17, loss: 0.21051324287265913\n",
      "epoch: 18, loss: 0.2086678137502682\n",
      "epoch: 19, loss: 0.20682728244401943\n",
      "epoch: 20, loss: 0.20476023472523888\n",
      "epoch: 21, loss: 0.20218379757115312\n",
      "epoch: 22, loss: 0.19890385626417417\n",
      "epoch: 23, loss: 0.19491691247773815\n",
      "epoch: 24, loss: 0.1904004525014473\n",
      "epoch: 25, loss: 0.18563211916937367\n",
      "epoch: 26, loss: 0.1810236113409773\n",
      "epoch: 27, loss: 0.1773026484452289\n",
      "epoch: 28, loss: 0.1753778639688487\n",
      "epoch: 29, loss: 0.17563938117694725\n",
      "epoch: 30, loss: 0.17731604708095688\n",
      "epoch: 31, loss: 0.1788874845460002\n",
      "epoch: 32, loss: 0.17938397095647104\n",
      "epoch: 33, loss: 0.1787805946379918\n",
      "epoch: 34, loss: 0.1775527457153828\n",
      "epoch: 35, loss: 0.1762609259408783\n",
      "epoch: 36, loss: 0.1753193488501008\n",
      "epoch: 37, loss: 0.17490052413118956\n",
      "epoch: 38, loss: 0.17493045797023335\n",
      "epoch: 39, loss: 0.1751561690688913\n",
      "epoch: 40, loss: 0.17528617280496786\n",
      "epoch: 41, loss: 0.17514709207438797\n",
      "epoch: 42, loss: 0.17474427035371862\n",
      "epoch: 43, loss: 0.17419345891307955\n",
      "epoch: 44, loss: 0.1736151630850087\n",
      "epoch: 45, loss: 0.1730839728824148\n",
      "epoch: 46, loss: 0.17263846899863708\n",
      "epoch: 47, loss: 0.17230645658383067\n",
      "epoch: 48, loss: 0.17210959450821964\n",
      "epoch: 49, loss: 0.17204437590062288\n",
      "epoch: 50, loss: 0.17206497990807626\n",
      "epoch: 51, loss: 0.17209748414241927\n",
      "epoch: 52, loss: 0.17208336933022975\n",
      "epoch: 53, loss: 0.1720135784742368\n",
      "epoch: 54, loss: 0.1719231067468397\n",
      "epoch: 55, loss: 0.17185497515688414\n",
      "epoch: 56, loss: 0.17182451684765263\n",
      "epoch: 57, loss: 0.17181123589454642\n",
      "epoch: 58, loss: 0.17178208259551742\n",
      "epoch: 59, loss: 0.17172159971056344\n",
      "epoch: 60, loss: 0.1716411247144599\n",
      "epoch: 61, loss: 0.171563817688269\n",
      "epoch: 62, loss: 0.17150392071106052\n",
      "epoch: 63, loss: 0.17145899811963625\n",
      "epoch: 64, loss: 0.17141859746796495\n",
      "epoch: 65, loss: 0.17137732727919797\n",
      "epoch: 66, loss: 0.17133917595085474\n",
      "epoch: 67, loss: 0.17131180720879505\n",
      "epoch: 68, loss: 0.1712989732902475\n",
      "epoch: 69, loss: 0.17129777329630202\n",
      "epoch: 70, loss: 0.1713012685725581\n",
      "epoch: 71, loss: 0.17130299998468565\n",
      "epoch: 72, loss: 0.17129969788465757\n",
      "epoch: 73, loss: 0.171291049659795\n",
      "epoch: 74, loss: 0.17127821883373337\n",
      "epoch: 75, loss: 0.17126296961076304\n",
      "epoch: 76, loss: 0.17124746561472753\n",
      "epoch: 77, loss: 0.1712339674016252\n",
      "epoch: 78, loss: 0.17122420309815292\n",
      "epoch: 79, loss: 0.1712186439267248\n",
      "epoch: 80, loss: 0.1712159699128798\n",
      "epoch: 81, loss: 0.17121331024583308\n",
      "epoch: 82, loss: 0.17120784995308294\n",
      "epoch: 83, loss: 0.1711991378252107\n",
      "epoch: 84, loss: 0.17119000170546697\n",
      "epoch: 85, loss: 0.17118464076695422\n",
      "epoch: 86, loss: 0.1711851720094464\n",
      "epoch: 87, loss: 0.17118973435476015\n",
      "epoch: 88, loss: 0.17119392209027431\n",
      "epoch: 89, loss: 0.17119414743499747\n",
      "epoch: 90, loss: 0.17118990831246422\n",
      "epoch: 91, loss: 0.17118334883544825\n",
      "epoch: 92, loss: 0.17117712534041968\n",
      "epoch: 93, loss: 0.17117272825609292\n",
      "epoch: 94, loss: 0.1711703389341275\n",
      "epoch: 95, loss: 0.1711695796204743\n",
      "epoch: 96, loss: 0.17116999473994754\n",
      "epoch: 97, loss: 0.1711709696185196\n",
      "epoch: 98, loss: 0.17117167978910053\n",
      "epoch: 99, loss: 0.17117149530127093\n"
     ]
    }
   ],
   "source": [
    "qcn1.train(x_train_qcn, y_train, epochs=100, verbose=True)"
   ]
  },
  {
   "cell_type": "code",
   "execution_count": null,
   "metadata": {},
   "outputs": [],
   "source": []
  }
 ],
 "metadata": {
  "kernelspec": {
   "display_name": "env_qiskit",
   "language": "python",
   "name": "env_qiskit"
  },
  "language_info": {
   "codemirror_mode": {
    "name": "ipython",
    "version": 3
   },
   "file_extension": ".py",
   "mimetype": "text/x-python",
   "name": "python",
   "nbconvert_exporter": "python",
   "pygments_lexer": "ipython3",
   "version": "3.9.1"
  }
 },
 "nbformat": 4,
 "nbformat_minor": 4
}
