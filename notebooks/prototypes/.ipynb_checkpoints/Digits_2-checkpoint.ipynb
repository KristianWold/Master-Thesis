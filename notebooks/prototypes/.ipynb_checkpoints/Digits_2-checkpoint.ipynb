{
 "cells": [
  {
   "cell_type": "code",
   "execution_count": 1,
   "metadata": {},
   "outputs": [],
   "source": [
    "import numpy as np\n",
    "import qiskit as qk\n",
    "import matplotlib.pyplot as plt\n",
    "\n",
    "from qiskit import Aer\n",
    "from tqdm.notebook import tqdm\n",
    "from sklearn.datasets import load_digits\n",
    "from sklearn.model_selection import train_test_split\n",
    "\n",
    "import sys\n",
    "sys.path.insert(0, '../../src/')\n",
    "from neuralnetwork import *\n",
    "from analysis import *\n",
    "\n",
    "%matplotlib notebook\n",
    "#%matplotlib inline\n",
    "%load_ext autoreload\n",
    "%autoreload 2"
   ]
  },
  {
   "cell_type": "markdown",
   "metadata": {},
   "source": [
    "### Digits data"
   ]
  },
  {
   "cell_type": "code",
   "execution_count": 2,
   "metadata": {},
   "outputs": [],
   "source": [
    "digits = load_digits()\n",
    "zero_idx = (digits.target == 0)\n",
    "one_idx = (digits.target == 1)\n",
    "two_idx = (digits.target == 2)"
   ]
  },
  {
   "cell_type": "code",
   "execution_count": 3,
   "metadata": {},
   "outputs": [
    {
     "name": "stdout",
     "output_type": "stream",
     "text": [
      "[[1. 0. 0.]\n",
      " [1. 0. 0.]\n",
      " [1. 0. 0.]\n",
      " ...\n",
      " [0. 0. 1.]\n",
      " [0. 0. 1.]\n",
      " [0. 0. 1.]]\n"
     ]
    }
   ],
   "source": [
    "zeros = digits.data[zero_idx]\n",
    "ones =  digits.data[one_idx]\n",
    "twos = digits.data[two_idx]\n",
    "#threes = digits.data[three_idx]\n",
    "\n",
    "x = np.concatenate((zeros, ones, twos))\n",
    "x = x - np.mean(x)\n",
    "x = x/np.max(np.abs(x))\n",
    "\n",
    "y = np.zeros((x.shape[0], 3))\n",
    "y[:len(zeros), 0] = 1\n",
    "y[len(zeros):(len(zeros)+len(ones)), 1] = 1\n",
    "y[(len(zeros)+len(ones)):, 2] = 1\n",
    "#y[(len(zeros)+len(ones) + len(twos)):, 3] = 1\n",
    "print(y)"
   ]
  },
  {
   "cell_type": "code",
   "execution_count": 4,
   "metadata": {},
   "outputs": [
    {
     "name": "stdout",
     "output_type": "stream",
     "text": [
      "(100, 64)\n"
     ]
    }
   ],
   "source": [
    "np.random.seed(42)\n",
    "x_train, x_test, y_train, y_test = train_test_split(x, y, train_size=100)\n",
    "print(x_train.shape)"
   ]
  },
  {
   "cell_type": "markdown",
   "metadata": {},
   "source": [
    "### Network"
   ]
  },
  {
   "cell_type": "code",
   "execution_count": 5,
   "metadata": {},
   "outputs": [],
   "source": [
    "np.random.seed(42)\n",
    "optimizer = Adam(lr=1e-1)\n",
    "backend = Aer.get_backend('qasm_simulator')\n",
    "\n",
    "layer1 = Dense(n_features=64, \n",
    "               n_targets=4, \n",
    "               scale = 2*np.pi, \n",
    "               activation = Identity())\n",
    "\n",
    "layer2 = QLayer(n_qubits=4, \n",
    "                n_features=4, \n",
    "                n_targets=4, \n",
    "                encoder=Encoder(), \n",
    "                ansatz=Ansatz(), \n",
    "                sampler = Parity(),\n",
    "                reps=2, \n",
    "                scale=2*np.pi, \n",
    "                backend=backend, \n",
    "                shots=10000)\n",
    "\n",
    "layer3 = QLayer(n_qubits=4, \n",
    "                n_features=4, \n",
    "                n_targets=3, \n",
    "                encoder=Encoder(), \n",
    "                ansatz=Ansatz(), \n",
    "                sampler = Parity(),\n",
    "                reps=2, \n",
    "                scale=1, \n",
    "                backend=backend, \n",
    "                shots=10000)\n",
    "\n",
    "layers =[layer1, layer2, layer3]\n",
    "network1 = NeuralNetwork(layers, optimizer)"
   ]
  },
  {
   "cell_type": "markdown",
   "metadata": {},
   "source": [
    "### Training"
   ]
  },
  {
   "cell_type": "code",
   "execution_count": null,
   "metadata": {},
   "outputs": [
    {
     "data": {
      "application/vnd.jupyter.widget-view+json": {
       "model_id": "b239ff85296c466e8fbd68f452886613",
       "version_major": 2,
       "version_minor": 0
      },
      "text/plain": [
       "  0%|          | 0/100 [00:00<?, ?it/s]"
      ]
     },
     "metadata": {},
     "output_type": "display_data"
    },
    {
     "name": "stdout",
     "output_type": "stream",
     "text": [
      "epoch: 0, loss: 0.2700916664333333\n"
     ]
    }
   ],
   "source": [
    "network1.train(x_train, y_train, epochs=100, verbose=True)\n",
    "saver(network1, data_path(\"digits_hybrid_layers_3\"))"
   ]
  },
  {
   "cell_type": "code",
   "execution_count": 10,
   "metadata": {},
   "outputs": [],
   "source": [
    "np.random.seed(42)\n",
    "network2 = sequential_dnn(dim=[64, 4, 4, 3], lr=0.1)"
   ]
  },
  {
   "cell_type": "code",
   "execution_count": 11,
   "metadata": {},
   "outputs": [
    {
     "data": {
      "application/vnd.jupyter.widget-view+json": {
       "model_id": "c3bfdba93fa74f02802c8aaf6a76989e",
       "version_major": 2,
       "version_minor": 0
      },
      "text/plain": [
       "  0%|          | 0/100 [00:00<?, ?it/s]"
      ]
     },
     "metadata": {},
     "output_type": "display_data"
    },
    {
     "name": "stdout",
     "output_type": "stream",
     "text": [
      "epoch: 0, loss: 0.37241333163555157\n",
      "epoch: 1, loss: 0.32650439400317066\n",
      "epoch: 2, loss: 0.2908751550939861\n",
      "epoch: 3, loss: 0.26978843214073506\n",
      "epoch: 4, loss: 0.2538358824088277\n",
      "epoch: 5, loss: 0.24057315912469301\n",
      "epoch: 6, loss: 0.2298832325398529\n",
      "epoch: 7, loss: 0.22178879179664293\n",
      "epoch: 8, loss: 0.21571441753373904\n",
      "epoch: 9, loss: 0.21122334142640356\n",
      "epoch: 10, loss: 0.20824004611955535\n",
      "epoch: 11, loss: 0.20637317887815376\n",
      "epoch: 12, loss: 0.2044346576011082\n",
      "epoch: 13, loss: 0.20086124902268043\n",
      "epoch: 14, loss: 0.1940848561195667\n",
      "epoch: 15, loss: 0.1861402259515153\n",
      "epoch: 16, loss: 0.18011905052276916\n",
      "epoch: 17, loss: 0.17504055039645144\n",
      "epoch: 18, loss: 0.1699537192254483\n",
      "epoch: 19, loss: 0.16430975373672735\n",
      "epoch: 20, loss: 0.15789826619730887\n",
      "epoch: 21, loss: 0.1507910436393874\n",
      "epoch: 22, loss: 0.1428924849869262\n",
      "epoch: 23, loss: 0.1340404501419498\n",
      "epoch: 24, loss: 0.1253583420181962\n",
      "epoch: 25, loss: 0.11747388728810859\n",
      "epoch: 26, loss: 0.1097264322629123\n",
      "epoch: 27, loss: 0.10160673021796553\n",
      "epoch: 28, loss: 0.09316566212115815\n",
      "epoch: 29, loss: 0.08475552663622661\n",
      "epoch: 30, loss: 0.07663792492195316\n",
      "epoch: 31, loss: 0.06843692116903442\n",
      "epoch: 32, loss: 0.06176982460859053\n",
      "epoch: 33, loss: 0.056883704120448575\n",
      "epoch: 34, loss: 0.05013773490148858\n",
      "epoch: 35, loss: 0.04343394558724929\n",
      "epoch: 36, loss: 0.03862075944140249\n",
      "epoch: 37, loss: 0.035163467801314165\n",
      "epoch: 38, loss: 0.03188280350915104\n",
      "epoch: 39, loss: 0.02832027504273533\n",
      "epoch: 40, loss: 0.025177318269665884\n",
      "epoch: 41, loss: 0.022877185797918108\n",
      "epoch: 42, loss: 0.021034920512385296\n",
      "epoch: 43, loss: 0.019439073038484023\n",
      "epoch: 44, loss: 0.017991232394793694\n",
      "epoch: 45, loss: 0.016646134299298433\n",
      "epoch: 46, loss: 0.015386317959098497\n",
      "epoch: 47, loss: 0.01421364013301117\n",
      "epoch: 48, loss: 0.013137334856736944\n",
      "epoch: 49, loss: 0.012162590626163953\n",
      "epoch: 50, loss: 0.011287205786768582\n",
      "epoch: 51, loss: 0.010504368875341655\n",
      "epoch: 52, loss: 0.009805804541971488\n",
      "epoch: 53, loss: 0.009182157980716772\n",
      "epoch: 54, loss: 0.008621995336172698\n",
      "epoch: 55, loss: 0.008112253200235547\n",
      "epoch: 56, loss: 0.0076407737035947085\n",
      "epoch: 57, loss: 0.007200322072622608\n",
      "epoch: 58, loss: 0.006790624790339474\n",
      "epoch: 59, loss: 0.006414662347101392\n",
      "epoch: 60, loss: 0.006073306480611459\n",
      "epoch: 61, loss: 0.005763910246247679\n",
      "epoch: 62, loss: 0.005481915557300274\n",
      "epoch: 63, loss: 0.005222536646583062\n",
      "epoch: 64, loss: 0.004981569170330948\n",
      "epoch: 65, loss: 0.004755584396765924\n",
      "epoch: 66, loss: 0.004541874404242721\n",
      "epoch: 67, loss: 0.004338372831536988\n",
      "epoch: 68, loss: 0.004143666804666521\n",
      "epoch: 69, loss: 0.003957104884754806\n",
      "epoch: 70, loss: 0.003778832262683575\n",
      "epoch: 71, loss: 0.00360947023640867\n",
      "epoch: 72, loss: 0.003449511294235301\n",
      "epoch: 73, loss: 0.0032992930491517005\n",
      "epoch: 74, loss: 0.003160108371633413\n",
      "epoch: 75, loss: 0.0030347033373416933\n",
      "epoch: 76, loss: 0.0029250826383693147\n",
      "epoch: 77, loss: 0.0028300611926080185\n",
      "epoch: 78, loss: 0.002745814697290733\n",
      "epoch: 79, loss: 0.0026679469620933915\n",
      "epoch: 80, loss: 0.0025930583607599476\n",
      "epoch: 81, loss: 0.0025195899936491842\n",
      "epoch: 82, loss: 0.002447755492987875\n",
      "epoch: 83, loss: 0.00237858367009376\n",
      "epoch: 84, loss: 0.0023129257952954263\n",
      "epoch: 85, loss: 0.002251087771216491\n",
      "epoch: 86, loss: 0.0021929433573313066\n",
      "epoch: 87, loss: 0.002138155380163932\n",
      "epoch: 88, loss: 0.002086330966208078\n",
      "epoch: 89, loss: 0.002037098016701366\n",
      "epoch: 90, loss: 0.0019901331053207108\n",
      "epoch: 91, loss: 0.0019451657296608068\n",
      "epoch: 92, loss: 0.0019019728397362424\n",
      "epoch: 93, loss: 0.0018603706651146156\n",
      "epoch: 94, loss: 0.0018202074443543943\n",
      "epoch: 95, loss: 0.0017813589552416495\n",
      "epoch: 96, loss: 0.0017437276339335398\n",
      "epoch: 97, loss: 0.0017072449797718432\n",
      "epoch: 98, loss: 0.0016718756264581284\n",
      "epoch: 99, loss: 0.001637620036578364\n"
     ]
    }
   ],
   "source": [
    "network2.train(x_train, y_train, epochs=100, verbose=True)"
   ]
  },
  {
   "cell_type": "code",
   "execution_count": 13,
   "metadata": {},
   "outputs": [
    {
     "name": "stdout",
     "output_type": "stream",
     "text": [
      "1.0\n"
     ]
    }
   ],
   "source": [
    "y_pred = np.round(network1.predict(x_train))\n",
    "print(np.mean(y_pred == y_train))"
   ]
  },
  {
   "cell_type": "code",
   "execution_count": 14,
   "metadata": {},
   "outputs": [
    {
     "name": "stdout",
     "output_type": "stream",
     "text": [
      "1.0\n"
     ]
    }
   ],
   "source": [
    "y_pred = np.round(network2.predict(x_train))\n",
    "print(np.mean(y_pred == y_train))"
   ]
  },
  {
   "cell_type": "code",
   "execution_count": null,
   "metadata": {},
   "outputs": [],
   "source": []
  }
 ],
 "metadata": {
  "kernelspec": {
   "display_name": "env_qiskit",
   "language": "python",
   "name": "env_qiskit"
  },
  "language_info": {
   "codemirror_mode": {
    "name": "ipython",
    "version": 3
   },
   "file_extension": ".py",
   "mimetype": "text/x-python",
   "name": "python",
   "nbconvert_exporter": "python",
   "pygments_lexer": "ipython3",
   "version": "3.9.1"
  },
  "widgets": {
   "application/vnd.jupyter.widget-state+json": {
    "state": {
     "3ad36f3fd4934d3ba5311937db936940": {
      "model_module": "@jupyter-widgets/base",
      "model_module_version": "1.2.0",
      "model_name": "LayoutModel",
      "state": {}
     },
     "463c92ef25a441699d4e95d8b03572b0": {
      "model_module": "@jupyter-widgets/controls",
      "model_module_version": "1.5.0",
      "model_name": "DescriptionStyleModel",
      "state": {
       "description_width": ""
      }
     },
     "55e932b3e954428b93599744d6e90607": {
      "model_module": "@jupyter-widgets/base",
      "model_module_version": "1.2.0",
      "model_name": "LayoutModel",
      "state": {}
     },
     "861a2e7c86684bd6aa7cb9266e5aacc3": {
      "model_module": "@jupyter-widgets/controls",
      "model_module_version": "1.5.0",
      "model_name": "HTMLModel",
      "state": {
       "layout": "IPY_MODEL_bb5e3c6ac347492eac23aee797041001",
       "style": "IPY_MODEL_463c92ef25a441699d4e95d8b03572b0",
       "value": "  0%"
      }
     },
     "8a8a3b7262874093818021848428159c": {
      "model_module": "@jupyter-widgets/base",
      "model_module_version": "1.2.0",
      "model_name": "LayoutModel",
      "state": {}
     },
     "935e14892ed54555a457c91408a08f0d": {
      "model_module": "@jupyter-widgets/controls",
      "model_module_version": "1.5.0",
      "model_name": "DescriptionStyleModel",
      "state": {
       "description_width": ""
      }
     },
     "b239ff85296c466e8fbd68f452886613": {
      "model_module": "@jupyter-widgets/controls",
      "model_module_version": "1.5.0",
      "model_name": "HBoxModel",
      "state": {
       "children": [
        "IPY_MODEL_861a2e7c86684bd6aa7cb9266e5aacc3",
        "IPY_MODEL_b5c40d580b3f44568576b6542e8714b8",
        "IPY_MODEL_b8b9f5aeb5fd4a6db7ede377343ee8e8"
       ],
       "layout": "IPY_MODEL_3ad36f3fd4934d3ba5311937db936940"
      }
     },
     "b5c40d580b3f44568576b6542e8714b8": {
      "model_module": "@jupyter-widgets/controls",
      "model_module_version": "1.5.0",
      "model_name": "FloatProgressModel",
      "state": {
       "layout": "IPY_MODEL_55e932b3e954428b93599744d6e90607",
       "style": "IPY_MODEL_ede2587168da431f8822c53b936e3fc4"
      }
     },
     "b8b9f5aeb5fd4a6db7ede377343ee8e8": {
      "model_module": "@jupyter-widgets/controls",
      "model_module_version": "1.5.0",
      "model_name": "HTMLModel",
      "state": {
       "layout": "IPY_MODEL_8a8a3b7262874093818021848428159c",
       "style": "IPY_MODEL_935e14892ed54555a457c91408a08f0d",
       "value": " 0/100 [00:00&lt;?, ?it/s]"
      }
     },
     "bb5e3c6ac347492eac23aee797041001": {
      "model_module": "@jupyter-widgets/base",
      "model_module_version": "1.2.0",
      "model_name": "LayoutModel",
      "state": {}
     },
     "ede2587168da431f8822c53b936e3fc4": {
      "model_module": "@jupyter-widgets/controls",
      "model_module_version": "1.5.0",
      "model_name": "ProgressStyleModel",
      "state": {
       "description_width": ""
      }
     }
    },
    "version_major": 2,
    "version_minor": 0
   }
  }
 },
 "nbformat": 4,
 "nbformat_minor": 4
}
