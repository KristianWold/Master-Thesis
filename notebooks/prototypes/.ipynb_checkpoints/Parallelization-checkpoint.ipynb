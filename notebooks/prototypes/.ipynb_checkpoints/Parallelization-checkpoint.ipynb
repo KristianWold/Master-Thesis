{
 "cells": [
  {
   "cell_type": "code",
   "execution_count": 13,
   "metadata": {},
   "outputs": [
    {
     "name": "stdout",
     "output_type": "stream",
     "text": [
      "The autoreload extension is already loaded. To reload it, use:\n",
      "  %reload_ext autoreload\n"
     ]
    }
   ],
   "source": [
    "import numpy as np\n",
    "import qiskit as qk\n",
    "from qiskit import Aer\n",
    "from qiskit.compiler import transpile, assemble\n",
    "import time\n",
    "\n",
    "import sys\n",
    "sys.path.insert(0, '../../src/')\n",
    "from neuralnetwork import *\n",
    "from samplers import *\n",
    "\n",
    "%load_ext autoreload\n",
    "%autoreload 2"
   ]
  },
  {
   "cell_type": "markdown",
   "metadata": {},
   "source": [
    "### Looping over Circuits vs. Assembled Circuits Benchmark"
   ]
  },
  {
   "cell_type": "code",
   "execution_count": 14,
   "metadata": {},
   "outputs": [],
   "source": [
    "backend = Aer.get_backend(\"qasm_simulator\")\n",
    "\n",
    "n_qubits = 4\n",
    "repeats = 1000\n",
    "shots = 100000"
   ]
  },
  {
   "cell_type": "code",
   "execution_count": null,
   "metadata": {},
   "outputs": [],
   "source": [
    "np.random.seed(42)\n",
    "start = time.time()\n",
    "counts_list = []\n",
    "for i in range(repeats):\n",
    "    storage = qk.QuantumRegister(n_qubits)\n",
    "    clas_reg = qk.ClassicalRegister(1)\n",
    "    \n",
    "    circuit = qk.QuantumCircuit(storage, clas_reg)\n",
    "    \n",
    "    for j in range(n_qubits):\n",
    "        circuit.ry(np.random.uniform(0, 2*np.pi), storage[j])\n",
    "\n",
    "    for j in range(n_qubits - 1):\n",
    "        circuit.cx(storage[j], storage[j + 1])\n",
    "    \n",
    "    for j in range(n_qubits):\n",
    "        circuit.ry(np.random.uniform(0, 2*np.pi), storage[j])\n",
    "        \n",
    "    for j in range(n_qubits - 1):\n",
    "        circuit.cx(storage[j], storage[j + 1])\n",
    "       \n",
    "    circuit.measure(storage[-1], clas_reg)\n",
    "    \n",
    "    job = qk.execute(circuit, backend, shots=shots)\n",
    "    counts = job.result().get_counts()\n",
    "    counts_list.append(counts)\n",
    "\n",
    "end = time.time()\n",
    "print(end-start)"
   ]
  },
  {
   "cell_type": "code",
   "execution_count": null,
   "metadata": {},
   "outputs": [],
   "source": [
    "print(sum(counts.values()))\n",
    "for bitstring, samples in counts.items():\n",
    "    print(bitstring, samples)"
   ]
  },
  {
   "cell_type": "code",
   "execution_count": null,
   "metadata": {},
   "outputs": [],
   "source": [
    "np.random.seed(42)\n",
    "start = time.time()\n",
    "circuit_list = []\n",
    "for i in range(repeats):\n",
    "    storage = qk.QuantumRegister(n_qubits)\n",
    "    clas_reg = qk.ClassicalRegister(1)\n",
    "\n",
    "    circuit = qk.QuantumCircuit(storage, clas_reg)\n",
    "    \n",
    "    for j in range(n_qubits):\n",
    "        circuit.ry(np.random.uniform(0, 2*np.pi), storage[j])\n",
    "\n",
    "    for j in range(n_qubits - 1):\n",
    "        circuit.cx(storage[j], storage[j + 1])\n",
    "    \n",
    "    for j in range(n_qubits):\n",
    "        circuit.ry(np.random.uniform(0, 2*np.pi), storage[j])\n",
    "        \n",
    "    for j in range(n_qubits - 1):\n",
    "        circuit.cx(storage[j], storage[j + 1])\n",
    "    \n",
    "    circuit.measure(storage[-1], clas_reg)\n",
    "    \n",
    "    circuit_list.append(circuit) \n",
    "    \n",
    "\n",
    "transpiled_list = transpile(circuit_list, backend=backend)\n",
    "qobject_list = assemble(transpiled_list, backend=backend, shots=shots, max_parallel_shots = 1, max_parallel_experiments = 0)\n",
    "job = backend.run(qobject_list)\n",
    "\n",
    "end = time.time()\n",
    "print(end-start)"
   ]
  },
  {
   "cell_type": "code",
   "execution_count": null,
   "metadata": {},
   "outputs": [],
   "source": [
    "count_list = []\n",
    "for circuit in circuit_list:   \n",
    "    count_list.append(job.result().get_counts(circuit))"
   ]
  },
  {
   "cell_type": "markdown",
   "metadata": {},
   "source": [
    "### Stateverctor based circuit"
   ]
  },
  {
   "cell_type": "code",
   "execution_count": 17,
   "metadata": {},
   "outputs": [],
   "source": [
    "backend = qk.providers.aer.StatevectorSimulator()\n",
    "\n",
    "n_qubits = 4\n",
    "repeats = 10000"
   ]
  },
  {
   "cell_type": "code",
   "execution_count": 18,
   "metadata": {},
   "outputs": [
    {
     "name": "stdout",
     "output_type": "stream",
     "text": [
      "20.751400232315063\n"
     ]
    }
   ],
   "source": [
    "np.random.seed(42)\n",
    "start = time.time()\n",
    "circuit_list = []\n",
    "for i in range(repeats):\n",
    "    storage = qk.QuantumRegister(n_qubits)\n",
    "\n",
    "    circuit = qk.QuantumCircuit(storage)\n",
    "    \n",
    "    for j in range(n_qubits):\n",
    "        circuit.ry(np.random.uniform(0, 2*np.pi), storage[j])\n",
    "\n",
    "    for j in range(n_qubits - 1):\n",
    "        circuit.cx(storage[j], storage[j + 1])\n",
    "    \n",
    "    for j in range(n_qubits):\n",
    "        circuit.ry(np.random.uniform(0, 2*np.pi), storage[j])\n",
    "        \n",
    "    for j in range(n_qubits - 1):\n",
    "        circuit.cx(storage[j], storage[j + 1])\n",
    "        \n",
    "    job = qk.execute(circuit, backend)\n",
    "    statevector = job.result().get_statevector(circuit)\n",
    "\n",
    "end = time.time()\n",
    "print(end-start)"
   ]
  },
  {
   "cell_type": "code",
   "execution_count": 19,
   "metadata": {},
   "outputs": [
    {
     "name": "stdout",
     "output_type": "stream",
     "text": [
      "4.660489797592163\n",
      "8.47504997253418\n",
      "8.475589990615845\n",
      "33.70025181770325\n"
     ]
    }
   ],
   "source": [
    "np.random.seed(42)\n",
    "start = time.time()\n",
    "circuit_list = []\n",
    "for i in range(repeats):\n",
    "    storage = qk.QuantumRegister(n_qubits)\n",
    "    clas_reg = qk.ClassicalRegister(1)\n",
    "\n",
    "    circuit = qk.QuantumCircuit(storage, clas_reg)\n",
    "    \n",
    "    for j in range(n_qubits):\n",
    "        circuit.ry(np.random.uniform(0, 2*np.pi), storage[j])\n",
    "\n",
    "    for j in range(n_qubits - 1):\n",
    "        circuit.cx(storage[j], storage[j + 1])\n",
    "    \n",
    "    for j in range(n_qubits):\n",
    "        circuit.ry(np.random.uniform(0, 2*np.pi), storage[j])\n",
    "        \n",
    "    for j in range(n_qubits - 1):\n",
    "        circuit.cx(storage[j], storage[j + 1])\n",
    "    \n",
    "    circuit_list.append(circuit) \n",
    "    \n",
    "end = time.time()\n",
    "print(end-start)\n",
    "\n",
    "#transpiled_list = transpile(circuit_list, backend=backend)\n",
    "#end = time.time()\n",
    "#print(end-start)\n",
    "\n",
    "#qobject_list = assemble(circuit_list, backend=backend)\n",
    "#end = time.time()\n",
    "#print(end-start)\n",
    "\n",
    "#job = backend.run(qobject_list)\n",
    "#end = time.time()\n",
    "#print(end-start)\n",
    "\n",
    "for circuit in circuit_list:\n",
    "    job = backend.run(circuit)\n",
    "    job.result().get_statevector(circuit)\n",
    "\n",
    "end = time.time()\n",
    "print(end-start)"
   ]
  },
  {
   "cell_type": "code",
   "execution_count": null,
   "metadata": {},
   "outputs": [],
   "source": [
    "#print(statevector_list)\n",
    "print(output_list[:10])"
   ]
  },
  {
   "cell_type": "markdown",
   "metadata": {},
   "source": [
    "### Multiple samples feed-forward layer"
   ]
  },
  {
   "cell_type": "code",
   "execution_count": null,
   "metadata": {},
   "outputs": [],
   "source": [
    "x = np.array([[1,2,3], [4,5,6], [7,8,9], [10,11,12]])"
   ]
  },
  {
   "cell_type": "code",
   "execution_count": null,
   "metadata": {},
   "outputs": [],
   "source": [
    "np.random.seed(42)\n",
    "layer = QLayer(n_qubits=3, \n",
    "               n_features=3, \n",
    "               n_targets=2, \n",
    "               encoder=Encoder(), \n",
    "               ansatz=Ansatz(), \n",
    "               reps=1, \n",
    "               scale=np.pi, \n",
    "               backend=backend, \n",
    "               shots=100000)"
   ]
  },
  {
   "cell_type": "code",
   "execution_count": null,
   "metadata": {},
   "outputs": [],
   "source": [
    "y = [layer(x_.reshape(1,-1)) for x_ in x]\n",
    "print(y)"
   ]
  },
  {
   "cell_type": "code",
   "execution_count": null,
   "metadata": {},
   "outputs": [],
   "source": [
    "y = layer(x)\n",
    "print(y)"
   ]
  },
  {
   "cell_type": "markdown",
   "metadata": {},
   "source": [
    "### Multiple samples backward"
   ]
  },
  {
   "cell_type": "code",
   "execution_count": null,
   "metadata": {},
   "outputs": [],
   "source": [
    "x = np.array([[1,2,3], [4,5,6], [7,8,9], [10,11,12]], dtype=\"float64\")\n",
    "y = np.array([[1], [2], [3], [4]])"
   ]
  },
  {
   "cell_type": "code",
   "execution_count": null,
   "metadata": {},
   "outputs": [],
   "source": [
    "np.random.seed(42)\n",
    "layer1 = QLayer(n_qubits=3, \n",
    "                n_features=3, \n",
    "                n_targets=2, \n",
    "                encoder=Encoder(), \n",
    "                ansatz=Ansatz(), \n",
    "                reps=1, \n",
    "                scale=np.pi, \n",
    "                backend=backend, \n",
    "                shots=10000)\n",
    "\n",
    "layer2 = QLayer(n_qubits=2, \n",
    "                n_features=2, \n",
    "                n_targets=1, \n",
    "                encoder=Encoder(), \n",
    "                ansatz=Ansatz(), \n",
    "                reps=1, \n",
    "                scale=np.pi, \n",
    "                backend=backend, \n",
    "                shots=10000)\n",
    "layer = [layer1, layer2]\n",
    "\n",
    "optimizer = Adam()\n",
    "\n",
    "network = NeuralNetwork(layer, optimizer)"
   ]
  },
  {
   "cell_type": "code",
   "execution_count": null,
   "metadata": {},
   "outputs": [],
   "source": [
    "print(network.predict(x))"
   ]
  },
  {
   "cell_type": "code",
   "execution_count": null,
   "metadata": {},
   "outputs": [],
   "source": [
    "network.backward(x,y)"
   ]
  },
  {
   "cell_type": "code",
   "execution_count": null,
   "metadata": {},
   "outputs": [],
   "source": [
    "print(network.weight_gradient_list)"
   ]
  },
  {
   "cell_type": "code",
   "execution_count": null,
   "metadata": {},
   "outputs": [],
   "source": [
    "network.step()"
   ]
  },
  {
   "cell_type": "markdown",
   "metadata": {},
   "source": [
    "### Statevector backend"
   ]
  },
  {
   "cell_type": "code",
   "execution_count": null,
   "metadata": {},
   "outputs": [],
   "source": [
    "np.random.seed(42)\n",
    "\n",
    "backend = Aer.get_backend(\"statevector_simulator\")\n",
    "n_qubits = 10\n",
    "#shots=100"
   ]
  },
  {
   "cell_type": "code",
   "execution_count": null,
   "metadata": {},
   "outputs": [],
   "source": [
    "storage = qk.QuantumRegister(n_qubits)\n",
    "#clas_reg = qk.ClassicalRegister(1)\n",
    "\n",
    "circuit = qk.QuantumCircuit(storage)\n",
    "\n",
    "for j in range(n_qubits):\n",
    "    circuit.ry(np.random.uniform(0, 2*np.pi), storage[j])\n",
    "\n",
    "for j in range(n_qubits - 1):\n",
    "    circuit.cx(storage[j], storage[j + 1])\n",
    "\n",
    "for j in range(n_qubits):\n",
    "    circuit.ry(np.random.uniform(0, 2*np.pi), storage[j])\n",
    "\n",
    "for j in range(n_qubits - 1):\n",
    "    circuit.cx(storage[j], storage[j + 1])\n",
    "\n",
    "job = qk.execute(circuit, backend)\n",
    "counts = job.result().get_statevector()\n",
    "print(counts)"
   ]
  },
  {
   "cell_type": "code",
   "execution_count": null,
   "metadata": {},
   "outputs": [],
   "source": [
    "print(circuit)"
   ]
  },
  {
   "cell_type": "code",
   "execution_count": null,
   "metadata": {},
   "outputs": [],
   "source": []
  }
 ],
 "metadata": {
  "kernelspec": {
   "display_name": "env_qiskit",
   "language": "python",
   "name": "env_qiskit"
  },
  "language_info": {
   "codemirror_mode": {
    "name": "ipython",
    "version": 3
   },
   "file_extension": ".py",
   "mimetype": "text/x-python",
   "name": "python",
   "nbconvert_exporter": "python",
   "pygments_lexer": "ipython3",
   "version": "3.9.1"
  }
 },
 "nbformat": 4,
 "nbformat_minor": 4
}
