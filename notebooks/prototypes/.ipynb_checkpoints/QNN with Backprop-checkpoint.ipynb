{
 "cells": [
  {
   "cell_type": "code",
   "execution_count": null,
   "metadata": {},
   "outputs": [],
   "source": [
    "import numpy as np\n",
    "import qiskit as qk\n",
    "import matplotlib.pyplot as plt\n",
    "from qiskit import Aer\n",
    "from tqdm.notebook import tqdm\n",
    "\n",
    "import sys\n",
    "sys.path.insert(0, '../../src/')\n",
    "from neuralnetwork import *\n",
    "from samplers import *\n",
    "\n",
    "%matplotlib notebook\n",
    "#%matplotlib inline\n",
    "%load_ext autoreload\n",
    "%autoreload 2"
   ]
  },
  {
   "cell_type": "markdown",
   "metadata": {},
   "source": [
    "## QNN"
   ]
  },
  {
   "cell_type": "markdown",
   "metadata": {},
   "source": [
    "### Fitting Gaussian"
   ]
  },
  {
   "cell_type": "code",
   "execution_count": null,
   "metadata": {},
   "outputs": [],
   "source": [
    "np.random.seed(42)\n",
    "backend = Aer.get_backend('qasm_simulator')\n",
    "\n",
    "layer1 = QLayer(n_qubits=1, \n",
    "                n_features=1, \n",
    "                n_targets=3, \n",
    "                encoder=Encoder(), \n",
    "                ansatz=Ansatz(blocks=[\"entangle\", \"ry\"]), \n",
    "                sampler=AverageBit(), \n",
    "                scale=[-np.pi, np.pi], \n",
    "                backend=backend, \n",
    "                shots=0)\n",
    "\n",
    "layer2 = QLayer(n_qubits=3, \n",
    "                n_features=3, \n",
    "                n_targets=1, \n",
    "                encoder=Encoder(), \n",
    "                ansatz=Ansatz(blocks=[\"entangle\", \"ry\"], reps=2), \n",
    "                sampler=AverageBit(),\n",
    "                scale=1, \n",
    "                backend=backend, \n",
    "                shots=0)\n",
    "\n",
    "\n",
    "layers = [layer1, layer2]\n",
    "\n",
    "optimizer = Adam(lr=0.1)\n",
    "network = NeuralNetwork(layers)"
   ]
  },
  {
   "cell_type": "code",
   "execution_count": null,
   "metadata": {},
   "outputs": [],
   "source": [
    "x = np.linspace(0, np.pi, 100).reshape(-1,1)\n",
    "y = 0.9*np.exp(-3*(x-np.pi/2)**2) + 0.05\n",
    "\n",
    "x = scaler(x, a=-np.pi/2, b=np.pi/2)\n",
    "\n",
    "fig = plt.figure()\n",
    "ax = fig.add_subplot(111)\n",
    "plt.ion()\n",
    "\n",
    "fig.show()\n",
    "fig.canvas.draw()\n",
    "\n",
    "\n",
    "for i in tqdm(range(100)):\n",
    "    network.backward(x, y)\n",
    "    network.step()\n",
    "    y_pred = network.predict(x)\n",
    "    \n",
    "    ax.clear()\n",
    "    ax.plot(x, y)\n",
    "    ax.plot(x, y_pred)\n",
    "    ax.set_ylim([0, 1])\n",
    "    fig.canvas.draw()"
   ]
  },
  {
   "cell_type": "markdown",
   "metadata": {},
   "source": [
    "### Derivative"
   ]
  },
  {
   "cell_type": "code",
   "execution_count": null,
   "metadata": {},
   "outputs": [],
   "source": [
    "y_pred = network.predict(x)\n",
    "deriv = network.deriv(x)"
   ]
  },
  {
   "cell_type": "code",
   "execution_count": null,
   "metadata": {},
   "outputs": [],
   "source": [
    "y_deriv_num = (y[1:] - y[:-1])/(x[1]-x[0])"
   ]
  },
  {
   "cell_type": "code",
   "execution_count": null,
   "metadata": {},
   "outputs": [],
   "source": [
    "#plt.plot(x,y)\n",
    "#plt.plot(x,y_pred)\n",
    "plt.plot(x[:-1], y_deriv_num)\n",
    "plt.plot(x, deriv)\n",
    "plt.show()"
   ]
  },
  {
   "cell_type": "markdown",
   "metadata": {},
   "source": [
    "### Sequential"
   ]
  },
  {
   "cell_type": "code",
   "execution_count": null,
   "metadata": {},
   "outputs": [],
   "source": [
    "np.random.seed(42)\n",
    "network = sequential_qnn(q_bits = [1, 3, 3],\n",
    "                         dim = [1, 3, 3, 1],\n",
    "                         reps=1,\n",
    "                         backend = backend,\n",
    "                         shots = 10000)"
   ]
  },
  {
   "cell_type": "code",
   "execution_count": null,
   "metadata": {},
   "outputs": [],
   "source": [
    "x = np.linspace(0, np.pi, 21).reshape(-1,1)\n",
    "y = 0.9*np.exp(-3*(x-np.pi/2)**2) + 0.05\n",
    "\n",
    "#network.train(x, y, epochs=100, verbose=True)\n",
    "\n",
    "fig = plt.figure()\n",
    "ax = fig.add_subplot(111)\n",
    "plt.ion()\n",
    "\n",
    "fig.show()\n",
    "fig.canvas.draw()\n",
    "\n",
    "\n",
    "for i in tqdm(range(100)):\n",
    "    network.backward(x, y)\n",
    "    network.step()\n",
    "    y_pred = network.predict(x)\n",
    "    \n",
    "    ax.clear()\n",
    "    ax.plot(x, y)\n",
    "    ax.plot(x, y_pred)\n",
    "    ax.set_ylim([0, 1])\n",
    "    fig.canvas.draw()"
   ]
  },
  {
   "cell_type": "markdown",
   "metadata": {},
   "source": [
    "#### Chaotic"
   ]
  },
  {
   "cell_type": "code",
   "execution_count": null,
   "metadata": {},
   "outputs": [],
   "source": [
    "np.random.seed(42)\n",
    "backend = Aer.get_backend('qasm_simulator')\n",
    "\n",
    "layer1 = QLayer(n_qubits=1, n_features=1, n_targets=3, encoder=Encoder(), ansatz=Ansatz(), reps=1, scale=np.pi, backend=backend, shots=2000)\n",
    "layer2 = QLayer(n_qubits=3, n_features=3, n_targets=3, encoder=Encoder(), ansatz=Ansatz(), reps=1, scale=np.pi, backend=backend, shots=2000)\n",
    "layer3 = QLayer(n_qubits=3, n_features=3, n_targets=1, encoder=Encoder(), ansatz=Ansatz(), reps=1, scale=1, backend=backend, shots=2000)\n",
    "\n",
    "\n",
    "layers = [layer1, layer2, layer3]\n",
    "\n",
    "optimizer = Adam(lr=0.01)\n",
    "network = NeuralNetwork(layers, optimizer)"
   ]
  },
  {
   "cell_type": "code",
   "execution_count": null,
   "metadata": {},
   "outputs": [],
   "source": [
    "np.random.seed(42)\n",
    "x = np.linspace(0, 1, 10).reshape(-1,1)\n",
    "y = np.random.uniform(0, 1, 10).reshape(-1,1)\n",
    "\n",
    "network.backward(x, y)\n",
    "\n",
    "\n",
    "fig = plt.figure()\n",
    "ax = fig.add_subplot(111)\n",
    "plt.ion()\n",
    "\n",
    "fig.show()\n",
    "fig.canvas.draw()\n",
    "\n",
    "\n",
    "\n",
    "for i in tqdm(range(100)):\n",
    "    \n",
    "    y_pred = network.predict(x)\n",
    "    \n",
    "    network.backward(x, y)\n",
    "    network.step()\n",
    "    ax.clear()\n",
    "    ax.plot(x, y)\n",
    "    ax.plot(x, y_pred)\n",
    "    ax.set_ylim([0, 1])\n",
    "    fig.canvas.draw()"
   ]
  },
  {
   "cell_type": "markdown",
   "metadata": {},
   "source": [
    "#### Sigmoid"
   ]
  },
  {
   "cell_type": "code",
   "execution_count": null,
   "metadata": {},
   "outputs": [],
   "source": [
    "np.random.seed(42)\n",
    "x = np.random.uniform(0, np.pi/2, (20, 3))\n",
    "beta = np.array([1,1,1]).reshape(-1,1)\n",
    "\n",
    "z = (x-np.pi/4)@beta\n",
    "y = 1/(1+np.exp(-2*z))\n",
    "\n",
    "\n",
    "plt.plot(z, y, \"o\")\n",
    "plt.show()"
   ]
  },
  {
   "cell_type": "code",
   "execution_count": null,
   "metadata": {},
   "outputs": [],
   "source": [
    "np.random.seed(42)\n",
    "backend = Aer.get_backend('qasm_simulator')\n",
    "\n",
    "model = sequential_qnn(q_bits = [3],\n",
    "                     dim = [3, 1],\n",
    "                     reps = 2,\n",
    "                     backend=backend,\n",
    "                     shots=10000,\n",
    "                     lr = 0.1)\n",
    "\n",
    "model.train(x, y, epochs=50, verbose=True)"
   ]
  },
  {
   "cell_type": "code",
   "execution_count": null,
   "metadata": {},
   "outputs": [],
   "source": [
    "y_pred = model.predict(x)"
   ]
  },
  {
   "cell_type": "code",
   "execution_count": null,
   "metadata": {},
   "outputs": [],
   "source": [
    "plt.plot(z, y, \"o\")\n",
    "plt.plot(z, y_pred, \"o\")\n",
    "plt.show()"
   ]
  },
  {
   "cell_type": "markdown",
   "metadata": {},
   "source": [
    "#### ReLu"
   ]
  },
  {
   "cell_type": "code",
   "execution_count": null,
   "metadata": {},
   "outputs": [],
   "source": [
    "np.random.seed(42)\n",
    "x = np.random.uniform(0, np.pi/2, (20, 3))\n",
    "beta = np.array([1/3,-2/3,1/3]).reshape(-1,1)\n",
    "z = x@beta\n",
    "y = z*(0<z).astype(float)+0.1\n",
    "\n",
    "#plt.plot(z, y, \"o\")\n",
    "#plt.show()"
   ]
  },
  {
   "cell_type": "code",
   "execution_count": null,
   "metadata": {},
   "outputs": [],
   "source": [
    "np.random.seed(39)\n",
    "backend = Aer.get_backend('qasm_simulator')\n",
    "\n",
    "layer1 = QLayer(n_qubits=3, n_inputs=3, n_outputs=1, encoder=Encoder(), ansatz=Ansatz(), reps=3, scale=1, backend=backend, shots=1000)\n",
    "layers = [layer1]\n",
    "\n",
    "optimizer = Adam(lr=0.01)\n",
    "network = QNN(layers, optimizer)"
   ]
  },
  {
   "cell_type": "code",
   "execution_count": null,
   "metadata": {},
   "outputs": [],
   "source": [
    "fig = plt.figure()\n",
    "ax = fig.add_subplot(111)\n",
    "plt.ion()\n",
    "\n",
    "fig.show()\n",
    "fig.canvas.draw()\n",
    "\n",
    "\n",
    "for i in tqdm(range(200)):\n",
    "    network.backward(x, y)\n",
    "\n",
    "    y_pred = []\n",
    "    for x_ in x:\n",
    "        network(x_)\n",
    "        y_pred.append(network.a[-1])\n",
    "    \n",
    "    network.step()\n",
    "    \n",
    "    ax.clear()\n",
    "    ax.plot(z, y, \"o\")\n",
    "    ax.plot(z, y_pred, \"o\")\n",
    "    ax.set_ylim([0, 1])\n",
    "    fig.canvas.draw()"
   ]
  },
  {
   "cell_type": "markdown",
   "metadata": {},
   "source": [
    "#### Radial Basis"
   ]
  },
  {
   "cell_type": "code",
   "execution_count": null,
   "metadata": {},
   "outputs": [],
   "source": [
    "np.random.seed(42)\n",
    "x = np.random.uniform(0, np.pi/2, (20, 3))\n",
    "beta = np.array([1/3,-2/3,1/3]).reshape(-1,1)\n",
    "z = x@beta\n",
    "y = 0.8*np.exp(-(z**2)/0.1) + 0.1\n",
    "\n",
    "plt.plot(z, y, \"o\")\n",
    "plt.show()"
   ]
  },
  {
   "cell_type": "code",
   "execution_count": null,
   "metadata": {},
   "outputs": [],
   "source": [
    "np.random.seed(42)\n",
    "backend = Aer.get_backend('qasm_simulator')\n",
    "\n",
    "model = sequential_qnn(q_bits = [3],\n",
    "                     dim = [3, 1],\n",
    "                     reps = 2,\n",
    "                     backend=backend,\n",
    "                     shots=10000,\n",
    "                     lr = 0.1)\n",
    "\n",
    "model.train(x, y, epochs=100, verbose=True)"
   ]
  },
  {
   "cell_type": "code",
   "execution_count": null,
   "metadata": {},
   "outputs": [],
   "source": [
    "y_pred = model.predict(x)"
   ]
  },
  {
   "cell_type": "code",
   "execution_count": null,
   "metadata": {},
   "outputs": [],
   "source": [
    "plt.plot(z, y, \"o\")\n",
    "plt.plot(z, y_pred, \"o\")\n",
    "plt.show()"
   ]
  },
  {
   "cell_type": "markdown",
   "metadata": {},
   "source": [
    "#### Classical NN"
   ]
  },
  {
   "cell_type": "code",
   "execution_count": null,
   "metadata": {},
   "outputs": [],
   "source": [
    "class Model(nn.Module):\n",
    "    def __init__(self):\n",
    "        super(Model, self).__init__()\n",
    "        \n",
    "        self.layer1 = nn.Linear(3, 2)\n",
    "        self.layer2 = nn.Linear(2, 1)\n",
    "\n",
    "    def forward(self, x):\n",
    "        x = torch.tanh(self.layer1(x))\n",
    "        x = self.layer2(x)\n",
    "        return x"
   ]
  },
  {
   "cell_type": "code",
   "execution_count": null,
   "metadata": {},
   "outputs": [],
   "source": [
    "np.random.seed(42)\n",
    "x = np.random.uniform(0, np.pi/2, (20, 3))\n",
    "beta = np.array([1/3,-2/3,1/3]).reshape(-1,1)\n",
    "#z = (x-np.pi/4)@beta\n",
    "\n",
    "z = x@beta\n",
    "#y = 1/(1+np.exp(-3*z))\n",
    "\n",
    "y = 0.8*np.exp(-(z**2)/0.1) + 0.1\n",
    "#y = z*(0<z).astype(float)+0.1\n",
    "\n",
    "\n",
    "x = torch.tensor(x, dtype = torch.float, requires_grad=False)\n",
    "y = torch.tensor(y, dtype = torch.float, requires_grad=False)\n",
    "\n",
    "model = Model()\n",
    "loss_func = nn.MSELoss()\n",
    "optimizer = torch.optim.Adam(model.parameters(), lr=0.01)"
   ]
  },
  {
   "cell_type": "code",
   "execution_count": null,
   "metadata": {},
   "outputs": [],
   "source": [
    "fig = plt.figure()\n",
    "ax = fig.add_subplot(111)\n",
    "plt.ion()\n",
    "\n",
    "fig.show()\n",
    "fig.canvas.draw()\n",
    "\n",
    "for i in tqdm(range(200)):\n",
    "    optimizer.zero_grad()\n",
    "    y_pred = model(x)\n",
    "    loss = loss_func(y_pred, y)\n",
    "    loss.backward()\n",
    "    print(loss.detach())\n",
    "    optimizer.step()\n",
    "    \n",
    "    ax.clear()\n",
    "    ax.plot(z, y.detach(), \"o\")\n",
    "    ax.plot(z, y_pred.detach(), \"o\")\n",
    "    ax.set_ylim([-0.2, 1.2])\n",
    "    fig.canvas.draw()"
   ]
  },
  {
   "cell_type": "markdown",
   "metadata": {},
   "source": [
    "#### Ost"
   ]
  },
  {
   "cell_type": "code",
   "execution_count": null,
   "metadata": {},
   "outputs": [],
   "source": [
    "np.random.seed(42)\n",
    "backend = Aer.get_backend('qasm_simulator')\n",
    "\n",
    "layer1 = CLayer(n_inputs=1, n_outputs=3, scale = 1, activation = torch.tanh)\n",
    "layer2 = CLayer(n_inputs=3, n_outputs=1, scale = 1, activation = torch.tanh)\n",
    "layers = [layer1, layer2]\n",
    "\n",
    "optimizer = Adam(lr=0.01)\n",
    "network = QNN(layers, optimizer)"
   ]
  },
  {
   "cell_type": "code",
   "execution_count": null,
   "metadata": {},
   "outputs": [],
   "source": [
    "x = np.linspace(0, 1, 10).reshape(-1,1)\n",
    "y = 0.9*np.exp(-10*(x-0.5)**2)\n",
    "\n",
    "fig = plt.figure()\n",
    "ax = fig.add_subplot(111)\n",
    "plt.ion()\n",
    "\n",
    "fig.show()\n",
    "fig.canvas.draw()\n",
    "\n",
    "for i in tqdm(range(100)):\n",
    "    network.backward(x, y)\n",
    "\n",
    "    y_pred = []\n",
    "    for x_ in x:\n",
    "        network(x_)\n",
    "        y_pred.append(network.a[-1])\n",
    "    \n",
    "    network.step()\n",
    "    ax.clear()\n",
    "    ax.plot(x, y)\n",
    "    ax.plot(x, y_pred)\n",
    "    ax.set_ylim([0, 1])\n",
    "    fig.canvas.draw()"
   ]
  },
  {
   "cell_type": "code",
   "execution_count": null,
   "metadata": {},
   "outputs": [],
   "source": [
    "x = np.linspace(-np.pi/2, np.pi/2, 30)\n",
    "\n",
    "x = generate_meshgrid([x,x])"
   ]
  },
  {
   "cell_type": "code",
   "execution_count": null,
   "metadata": {},
   "outputs": [],
   "source": [
    "print(x.shape)"
   ]
  },
  {
   "cell_type": "code",
   "execution_count": null,
   "metadata": {},
   "outputs": [],
   "source": [
    "np.random.seed(44)\n",
    "backend = Aer.get_backend('qasm_simulator')\n",
    "\n",
    "qkn1 = sequential_qnn(n_qubits = [2],\n",
    "                         dim = [2, 1],\n",
    "                         encoder = Encoder(),\n",
    "                         ansatz = Ansatz(blocks=[\"entangle\", \"ry\"], reps=2),\n",
    "                         sampler = Parity(),\n",
    "                         backend = backend,\n",
    "                         shots = 10000)\n",
    "\n",
    "qkn2 = sequential_qnn(n_qubits = [2, 4],\n",
    "                         dim = [2, 4, 1],\n",
    "                         encoder = Encoder(),\n",
    "                         ansatz = Ansatz(blocks=[\"entangle\", \"ry\"], reps=2),\n",
    "                         sampler = Parity(),\n",
    "                         backend = backend,\n",
    "                         shots = 10000)\n",
    "\n",
    "qkn3 = sequential_qnn(n_qubits = [2, 4, 4],\n",
    "                         dim = [2, 4, 4, 1],\n",
    "                         encoder = Encoder(),\n",
    "                         sampler = Parity(),\n",
    "                         ansatz = Ansatz(blocks=[\"entangle\", \"ry\"], reps=2),\n",
    "                         backend = backend,\n",
    "                         shots = 10000)\n",
    "\n",
    "qkn4 = sequential_qnn(n_qubits = [2, 4, 4, 4],\n",
    "                         dim = [2, 4, 4, 4, 1],\n",
    "                         encoder = Encoder(),\n",
    "                         ansatz = Ansatz(blocks=[\"entangle\", \"ry\"], reps=2),\n",
    "                         sampler = Parity(),\n",
    "                         backend = backend,\n",
    "                         shots = 10000)"
   ]
  },
  {
   "cell_type": "code",
   "execution_count": null,
   "metadata": {},
   "outputs": [],
   "source": [
    "y_pred1 = qkn1.predict(x).reshape(30,30)\n",
    "y_pred2 = qkn2.predict(x).reshape(30,30)\n",
    "y_pred3 = qkn3.predict(x).reshape(30,30)\n",
    "y_pred4 = qkn4.predict(x).reshape(30,30)"
   ]
  },
  {
   "cell_type": "code",
   "execution_count": null,
   "metadata": {},
   "outputs": [],
   "source": [
    "plt.imshow(y_pred1)\n",
    "plt.colorbar()\n",
    "plt.show()\n",
    "\n",
    "plt.imshow(y_pred2)\n",
    "plt.colorbar()\n",
    "plt.show()\n",
    "\n",
    "plt.imshow(y_pred3)\n",
    "plt.colorbar()\n",
    "plt.show()\n",
    "\n",
    "plt.imshow(y_pred4)\n",
    "plt.colorbar()\n",
    "plt.show()"
   ]
  },
  {
   "cell_type": "code",
   "execution_count": null,
   "metadata": {},
   "outputs": [],
   "source": [
    "np.random.seed(43)\n",
    "\n",
    "dnn1 = sequential_dnn(dim = [2, 1],)\n",
    "dnn2 = sequential_dnn(dim = [2, 6, 1])\n",
    "dnn3 = sequential_dnn(dim = [2, 6, 6, 1])\n",
    "dnn4 = sequential_dnn(dim = [2, 6, 6, 6, 1])"
   ]
  },
  {
   "cell_type": "code",
   "execution_count": null,
   "metadata": {},
   "outputs": [],
   "source": [
    "x = scaler(x, mode=\"standard\")"
   ]
  },
  {
   "cell_type": "code",
   "execution_count": null,
   "metadata": {},
   "outputs": [],
   "source": [
    "y_pred5 = dnn1.predict(x).reshape(30,30)\n",
    "y_pred6 = dnn2.predict(x).reshape(30,30)\n",
    "y_pred7 = dnn3.predict(x).reshape(30,30)\n",
    "y_pred8 = dnn4.predict(x).reshape(30,30)"
   ]
  },
  {
   "cell_type": "code",
   "execution_count": null,
   "metadata": {},
   "outputs": [],
   "source": [
    "plt.imshow(y_pred5)\n",
    "plt.colorbar()\n",
    "plt.show()\n",
    "\n",
    "plt.imshow(y_pred6)\n",
    "plt.colorbar()\n",
    "plt.show()\n",
    "\n",
    "plt.imshow(y_pred7)\n",
    "plt.colorbar()\n",
    "plt.show()\n",
    "\n",
    "plt.imshow(y_pred8)\n",
    "plt.colorbar()\n",
    "plt.show()"
   ]
  }
 ],
 "metadata": {
  "kernelspec": {
   "display_name": "env_qiskit",
   "language": "python",
   "name": "env_qiskit"
  },
  "language_info": {
   "codemirror_mode": {
    "name": "ipython",
    "version": 3
   },
   "file_extension": ".py",
   "mimetype": "text/x-python",
   "name": "python",
   "nbconvert_exporter": "python",
   "pygments_lexer": "ipython3",
   "version": "3.9.1"
  }
 },
 "nbformat": 4,
 "nbformat_minor": 4
}
