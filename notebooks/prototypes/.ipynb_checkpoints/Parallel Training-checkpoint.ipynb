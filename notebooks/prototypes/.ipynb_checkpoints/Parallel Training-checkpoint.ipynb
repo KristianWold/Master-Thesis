{
 "cells": [
  {
   "cell_type": "code",
   "execution_count": 1,
   "metadata": {},
   "outputs": [],
   "source": [
    "import numpy as np\n",
    "import qiskit as qk\n",
    "import matplotlib.pyplot as plt\n",
    "from qiskit import Aer\n",
    "from tqdm.notebook import tqdm\n",
    "\n",
    "import sys\n",
    "sys.path.insert(0, '../../src/')\n",
    "from neuralnetwork import *\n",
    "from analysis import *\n",
    "from data_encoders import *\n",
    "from parametrizations import *\n",
    "\n",
    "#%matplotlib notebook\n",
    "%matplotlib inline\n",
    "%load_ext autoreload\n",
    "%autoreload 2\n",
    "\n",
    "np.set_printoptions(formatter={'float': lambda x: \"{0:0.3f}\".format(x)})"
   ]
  },
  {
   "cell_type": "markdown",
   "metadata": {},
   "source": [
    "### Generate data"
   ]
  },
  {
   "cell_type": "code",
   "execution_count": 2,
   "metadata": {},
   "outputs": [
    {
     "name": "stdout",
     "output_type": "stream",
     "text": [
      "[[0.000 0.000]\n",
      " [3.142 3.142]]\n",
      "[[0.500]\n",
      " [2.071]]\n"
     ]
    }
   ],
   "source": [
    "backend = Aer.get_backend('qasm_simulator')\n",
    "n_samples = 2\n",
    "n_features = 2\n",
    "n_targets = 1\n",
    "\n",
    "x = np.linspace(0, 2, n_samples)\n",
    "y = x**2\n",
    "y = y - np.min(y)\n",
    "y = y/np.max(y)\n",
    "y = np.pi/2 *y\n",
    "y = y.reshape(-1,1) + 0.5\n",
    "\n",
    "X = np.zeros((n_samples, n_features))\n",
    "X[:,0] = x\n",
    "X[:,1] = x**2\n",
    "#X[:,2] = x**3\n",
    "#X[:,3] = x**4\n",
    "\n",
    "\n",
    "\n",
    "X = X - np.min(X, axis=0).reshape(1,-1)\n",
    "X = X/np.max(X, axis=0).reshape(1,-1)\n",
    "X = np.pi * X\n",
    "\n",
    "print(X)\n",
    "print(y)"
   ]
  },
  {
   "cell_type": "code",
   "execution_count": 41,
   "metadata": {},
   "outputs": [
    {
     "name": "stdout",
     "output_type": "stream",
     "text": [
      "[[1.177 2.987]\n",
      " [2.300 1.881]]\n",
      "[[0.000]\n",
      " [3.142]]\n"
     ]
    }
   ],
   "source": [
    "backend = Aer.get_backend('qasm_simulator')\n",
    "n_samples = 2\n",
    "n_features = 2\n",
    "n_targets = 1\n",
    "\n",
    "np.random.seed(42)\n",
    "X = np.random.uniform(0, np.pi, (n_samples, n_features))\n",
    "y = np.array([[0], [np.pi]])\n",
    "\n",
    "print(X)\n",
    "print(y)"
   ]
  },
  {
   "cell_type": "markdown",
   "metadata": {},
   "source": [
    "### Parallel Model"
   ]
  },
  {
   "cell_type": "code",
   "execution_count": 65,
   "metadata": {},
   "outputs": [],
   "source": [
    "reps = 2\n",
    "np.random.seed(42)\n",
    "model = ParallelModel(n_features=n_features,\n",
    "                      n_targets=n_targets,\n",
    "                      reps=reps,\n",
    "                      backend=backend, \n",
    "                      shots=100000)\n",
    "\n",
    "optimizer = Adam()\n",
    "optimizer.initialize(model.theta.shape)"
   ]
  },
  {
   "cell_type": "code",
   "execution_count": 66,
   "metadata": {
    "scrolled": true
   },
   "outputs": [
    {
     "data": {
      "application/vnd.jupyter.widget-view+json": {
       "model_id": "9066bffdd01f4d27890de9023c7be700",
       "version_major": 2,
       "version_minor": 0
      },
      "text/plain": [
       "  0%|          | 0/1 [00:00<?, ?it/s]"
      ]
     },
     "metadata": {},
     "output_type": "display_data"
    },
    {
     "name": "stdout",
     "output_type": "stream",
     "text": [
      "                   ┌────────────┐                       ┌────────────┐»\n",
      "       features_0: ┤ RY(1.1767) ├───────────────────────┤ RY(2.2996) ├»\n",
      "                   └─────┬──────┘┌────────────┐         └─────┬──────┘»\n",
      "       features_1: ──────┼───────┤ RY(2.9868) ├───────────────┼───────»\n",
      "                         │       └─────┬──────┘  ┌───┐        │       »\n",
      "ancilla_feature_0: ──────■─────────────■─────────┤ X ├────────■───────»\n",
      "                                                 └───┘                »\n",
      "    predictions_0: ───────────────────────────────────────────────────»\n",
      "                     ┌───────┐                 ┌───────┐              »\n",
      "        targets_0: ──┤ RY(0) ├─────────────────┤ RY(π) ├──────────────»\n",
      "                     └───┬───┘       ┌───┐     └───┬───┘    ┌───┐     »\n",
      " ancilla_target_0: ──────■───────────┤ X ├─────────■────────┤ X ├─────»\n",
      "                                     └───┘                  └───┘     »\n",
      "           swap_0: ───────────────────────────────────────────────────»\n",
      "                                                                      »\n",
      "          c2158: 1/═══════════════════════════════════════════════════»\n",
      "                                                                      »\n",
      "«                                       ░ ┌────────────┐     ┌────────────┐»\n",
      "«       features_0: ────────────────■───░─┤ RY(2.3533) ├──■──┤ RY(4.5993) ├»\n",
      "«                   ┌────────────┐┌─┴─┐ ░ ├────────────┤┌─┴─┐├────────────┤»\n",
      "«       features_1: ┤ RY(1.8807) ├┤ X ├─░─┤ RY(5.9735) ├┤ X ├┤ RY(3.7615) ├»\n",
      "«                   └─────┬──────┘├───┤ ░ └────────────┘└───┘└────────────┘»\n",
      "«ancilla_feature_0: ──────■───────┤ X ├─░──────────────────────────────────»\n",
      "«                                 └───┘ ░                                  »\n",
      "«    predictions_0: ────────────────────░──────────────────────────────────»\n",
      "«                                       ░                                  »\n",
      "«        targets_0: ────────────────────░──────────────────────────────────»\n",
      "«                                       ░                                  »\n",
      "« ancilla_target_0: ────────────────────░──────────────────────────────────»\n",
      "«                                       ░                                  »\n",
      "«           swap_0: ────────────────────░──────────────────────────────────»\n",
      "«                                       ░                                  »\n",
      "«          c2158: 1/═══════════════════════════════════════════════════════»\n",
      "«                                                                          »\n",
      "«                         ░                         \n",
      "«       features_0: ──■───░───■─────────────────────\n",
      "«                   ┌─┴─┐ ░   │                     \n",
      "«       features_1: ┤ X ├─░───┼────■────────────────\n",
      "«                   └───┘ ░   │    │                \n",
      "«ancilla_feature_0: ──────░───┼────┼──────X─────────\n",
      "«                         ░ ┌─┴─┐┌─┴─┐    │         \n",
      "«    predictions_0: ──────░─┤ X ├┤ X ├─X──┼─────────\n",
      "«                         ░ └───┘└───┘ │  │         \n",
      "«        targets_0: ──────░────────────X──┼─────────\n",
      "«                         ░            │  │         \n",
      "« ancilla_target_0: ──────░────────────┼──X─────────\n",
      "«                         ░ ┌───┐      │  │ ┌───┐┌─┐\n",
      "«           swap_0: ──────░─┤ H ├──────■──■─┤ H ├┤M├\n",
      "«                         ░ └───┘           └───┘└╥┘\n",
      "«          c2158: 1/══════════════════════════════╩═\n",
      "«                                                 0 \n"
     ]
    }
   ],
   "source": [
    "for i in tqdm(range(1)):\n",
    "    #grad = [model.gradient(X, y)]\n",
    "    #grad = optimizer(grad)\n",
    "   # model.theta += 0.05*grad[0]\n",
    "    y_pred = model.predict(X)\n",
    "    #mse = np.mean((y_pred - y)**2)\n",
    "    #loss = model.loss(X,y)\n",
    "    #print(loss)\n",
    "    #print(loss, model.theta, y_pred.flatten())\n",
    "    #print(f\"{loss=:.3f}, {mse=:.3f}, {y_pred.flatten()=}\")"
   ]
  },
  {
   "cell_type": "markdown",
   "metadata": {},
   "source": [
    "### Single-Layer Quantum Neural Network"
   ]
  },
  {
   "cell_type": "code",
   "execution_count": 142,
   "metadata": {},
   "outputs": [],
   "source": [
    "np.random.seed(42)\n",
    "network = sequential_qnn(q_bits=[3],\n",
    "                         dim=[3, 1],\n",
    "                         reps = 1,\n",
    "                         scale = [2*np.pi],\n",
    "                         backend=backend,\n",
    "                         shots=10000,\n",
    "                         lr=0.05\n",
    "                         )"
   ]
  },
  {
   "cell_type": "code",
   "execution_count": 143,
   "metadata": {},
   "outputs": [
    {
     "data": {
      "application/vnd.jupyter.widget-view+json": {
       "model_id": "b6821d02448e4c24a3cff91058f121c9",
       "version_major": 2,
       "version_minor": 0
      },
      "text/plain": [
       "  0%|          | 0/50 [00:00<?, ?it/s]"
      ]
     },
     "metadata": {},
     "output_type": "display_data"
    },
    {
     "name": "stdout",
     "output_type": "stream",
     "text": [
      "epoch: 0, loss: 8.193679674311664\n",
      "epoch: 1, loss: 7.495601826956253\n",
      "epoch: 2, loss: 7.020641342356033\n",
      "epoch: 3, loss: 6.351164121565445\n",
      "epoch: 4, loss: 6.0358710013610075\n",
      "epoch: 5, loss: 5.520674330890984\n",
      "epoch: 6, loss: 5.562985219362489\n",
      "epoch: 7, loss: 5.226416685863533\n",
      "epoch: 8, loss: 5.349069155446584\n",
      "epoch: 9, loss: 4.969325299670549\n",
      "epoch: 10, loss: 4.895931547157998\n",
      "epoch: 11, loss: 4.560273496233378\n",
      "epoch: 12, loss: 4.534577473470142\n",
      "epoch: 13, loss: 4.308888074115077\n",
      "epoch: 14, loss: 3.856226874240236\n",
      "epoch: 15, loss: 3.6226704451300558\n",
      "epoch: 16, loss: 3.142794779657863\n",
      "epoch: 17, loss: 2.888011938870995\n",
      "epoch: 18, loss: 2.5432682039411123\n",
      "epoch: 19, loss: 2.2145696335878715\n",
      "epoch: 20, loss: 2.0104928140897815\n",
      "epoch: 21, loss: 1.650924968401179\n",
      "epoch: 22, loss: 1.346955972949928\n",
      "epoch: 23, loss: 1.1471010600716651\n",
      "epoch: 24, loss: 0.9720810936042443\n",
      "epoch: 25, loss: 0.8107246040375287\n",
      "epoch: 26, loss: 0.6789408351184673\n",
      "epoch: 27, loss: 0.5496966430160615\n",
      "epoch: 28, loss: 0.47800495872863125\n",
      "epoch: 29, loss: 0.41475689409872346\n",
      "epoch: 30, loss: 0.30388112545956125\n",
      "epoch: 31, loss: 0.2806357923758051\n",
      "epoch: 32, loss: 0.24902242771423255\n",
      "epoch: 33, loss: 0.24975246239187862\n",
      "epoch: 34, loss: 0.1963636510501146\n",
      "epoch: 35, loss: 0.2312673866697036\n",
      "epoch: 36, loss: 0.20262953683858398\n",
      "epoch: 37, loss: 0.184964170470346\n",
      "epoch: 38, loss: 0.17762530897585568\n",
      "epoch: 39, loss: 0.1818938458355692\n",
      "epoch: 40, loss: 0.17313828497026945\n",
      "epoch: 41, loss: 0.17458575045231484\n",
      "epoch: 42, loss: 0.1576200971636772\n",
      "epoch: 43, loss: 0.17638018624682458\n",
      "epoch: 44, loss: 0.18160755722207725\n",
      "epoch: 45, loss: 0.17074035424847184\n",
      "epoch: 46, loss: 0.15503316762656255\n",
      "epoch: 47, loss: 0.16744713430023592\n",
      "epoch: 48, loss: 0.14795802803955696\n",
      "epoch: 49, loss: 0.1818085274052102\n"
     ]
    }
   ],
   "source": [
    "network.train(X,y, epochs=50, verbose=True)"
   ]
  },
  {
   "cell_type": "code",
   "execution_count": 62,
   "metadata": {},
   "outputs": [
    {
     "name": "stdout",
     "output_type": "stream",
     "text": [
      "[1.352 0.863 1.935 2.091]\n",
      "[1.340 0.767 1.800 1.855]\n"
     ]
    }
   ],
   "source": [
    "print(network.predict(X).flatten())\n",
    "print(y.flatten())"
   ]
  },
  {
   "cell_type": "markdown",
   "metadata": {},
   "source": [
    "# Test"
   ]
  },
  {
   "cell_type": "code",
   "execution_count": 7,
   "metadata": {},
   "outputs": [
    {
     "name": "stdout",
     "output_type": "stream",
     "text": [
      "                            \n",
      "q575_0: ────────────────────\n",
      "        ┌───────┐           \n",
      "q576_0: ┤ RY(2) ├─X─────────\n",
      "        ├───────┤ │         \n",
      "q577_0: ┤ RY(2) ├─X─────────\n",
      "        └─┬───┬─┘ │ ┌───┐┌─┐\n",
      "q578_0: ──┤ H ├───■─┤ H ├┤M├\n",
      "          └───┘     └───┘└╥┘\n",
      " c80: 1/══════════════════╩═\n",
      "                          0 \n",
      "1.0\n"
     ]
    }
   ],
   "source": [
    "backend = Aer.get_backend('qasm_simulator')\n",
    "shots = 1000000\n",
    "\n",
    "register1 = qk.QuantumRegister(1)\n",
    "register2 = qk.QuantumRegister(1)\n",
    "register3 = qk.QuantumRegister(1)\n",
    "ancilla = qk.QuantumRegister(1)\n",
    "classical = qk.ClassicalRegister(1)\n",
    "registers = [register1, register2, register3, ancilla, classical]\n",
    "\n",
    "circuit = qk.QuantumCircuit(*registers)\n",
    "\n",
    "circuit.ry(2, register2)\n",
    "circuit.ry(2, register3)\n",
    "\n",
    "circuit.h(ancilla)\n",
    "circuit.cswap(ancilla, register2, register3)\n",
    "circuit.h(ancilla)\n",
    "\n",
    "circuit.measure(ancilla, classical)\n",
    "\n",
    "job = qk.execute(circuit, backend, shots=shots)\n",
    "counts = job.result().get_counts(circuit)\n",
    "if \"0\" in counts:\n",
    "    value = counts[\"0\"] / shots\n",
    "else:\n",
    "    value = 0\n",
    "\n",
    "print(circuit)\n",
    "print(value)"
   ]
  },
  {
   "cell_type": "code",
   "execution_count": 11,
   "metadata": {},
   "outputs": [
    {
     "name": "stdout",
     "output_type": "stream",
     "text": [
      "        ┌───────┐                \n",
      "q610_0: ┤ RY(π) ├──■─────────────\n",
      "        └───────┘┌─┴─┐           \n",
      "q611_0: ─────────┤ X ├─X─────────\n",
      "        ┌───────┐└───┘ │         \n",
      "q612_0: ┤ RY(π) ├──────X─────────\n",
      "        └─┬───┬─┘      │ ┌───┐┌─┐\n",
      "q613_0: ──┤ H ├────────■─┤ H ├┤M├\n",
      "          └───┘          └───┘└╥┘\n",
      " c84: 1/═══════════════════════╩═\n",
      "                               0 \n",
      "1.0\n"
     ]
    }
   ],
   "source": [
    "backend = Aer.get_backend('qasm_simulator')\n",
    "shots = 100000\n",
    "\n",
    "register1 = qk.QuantumRegister(1)\n",
    "register2 = qk.QuantumRegister(1)\n",
    "register3 = qk.QuantumRegister(1)\n",
    "ancilla = qk.QuantumRegister(1)\n",
    "classical = qk.ClassicalRegister(1)\n",
    "registers = [register1, register2, register3, ancilla, classical]\n",
    "\n",
    "circuit = qk.QuantumCircuit(*registers)\n",
    "\n",
    "circuit.ry(np.pi, register1)\n",
    "circuit.cx(register1, register2)\n",
    "circuit.ry(np.pi, register3)\n",
    "\n",
    "circuit.h(ancilla)\n",
    "circuit.cswap(ancilla, register2, register3)\n",
    "circuit.h(ancilla)\n",
    "\n",
    "circuit.measure(ancilla, classical)\n",
    "\n",
    "job = qk.execute(circuit, backend, shots=shots)\n",
    "counts = job.result().get_counts(circuit)\n",
    "if \"0\" in counts:\n",
    "    value = counts[\"0\"] / shots\n",
    "else:\n",
    "    value = 0\n",
    "\n",
    "print(circuit)\n",
    "print(value)"
   ]
  },
  {
   "cell_type": "code",
   "execution_count": 62,
   "metadata": {},
   "outputs": [
    {
     "name": "stdout",
     "output_type": "stream",
     "text": [
      "                    ┌───────┐     ┌─────────────┐                        \n",
      "    feature_0: ─────┤ RY(0) ├─────┤ RY(-1.8584) ├───────■────────────────\n",
      "               ┌───┐└───┬───┘┌───┐└──────┬──────┘┌───┐  │                \n",
      "anc_feature_0: ┤ H ├────■────┤ X ├───────■───────┤ X ├──┼──────X─────────\n",
      "               └───┘         └───┘               └───┘┌─┴─┐    │         \n",
      "    predict_0: ───────────────────────────────────────┤ X ├─X──┼─────────\n",
      "                    ┌───────┐        ┌───────┐        └───┘ │  │         \n",
      "     target_0: ─────┤ RY(0) ├────────┤ RY(π) ├──────────────X──┼─────────\n",
      "               ┌───┐└───┬───┘┌───┐   └───┬───┘   ┌───┐      │  │         \n",
      " anc_target_0: ┤ H ├────■────┤ X ├───────■───────┤ X ├──────┼──X─────────\n",
      "               ├───┤         └───┘               └───┘      │  │ ┌───┐┌─┐\n",
      "       swap_0: ┤ H ├────────────────────────────────────────■──■─┤ H ├┤M├\n",
      "               └───┘                                             └───┘└╥┘\n",
      "      c2138: 1/════════════════════════════════════════════════════════╩═\n",
      "                                                                       0 \n",
      "0.704809\n"
     ]
    }
   ],
   "source": [
    "backend = Aer.get_backend('qasm_simulator')\n",
    "shots = 1000000\n",
    "\n",
    "\n",
    "\n",
    "feature = qk.QuantumRegister(1, name=\"feature\")\n",
    "ancilla_feature = qk.QuantumRegister(1, name=\"anc_feature\")\n",
    "predict = qk.QuantumRegister(1, name=\"predict\")\n",
    "\n",
    "target = qk.QuantumRegister(1, name=\"target\")\n",
    "ancilla_target = qk.QuantumRegister(1, name=\"anc_target\")\n",
    "\n",
    "\n",
    "ancilla_swap = qk.QuantumRegister(1, name=\"swap\")\n",
    "classical = qk.ClassicalRegister(1)\n",
    "\n",
    "registers = [feature, ancilla_feature, predict, target, ancilla_target, ancilla_swap, classical]\n",
    "\n",
    "circuit = qk.QuantumCircuit(*registers)\n",
    "\n",
    "\n",
    "circuit.h(ancilla_feature)\n",
    "circuit.h(ancilla_target)\n",
    "\n",
    "circuit.cry(0, ancilla_feature, feature)\n",
    "circuit.x(ancilla_feature)\n",
    "circuit.cry(np.pi-5, ancilla_feature, feature)\n",
    "circuit.x(ancilla_feature)\n",
    "circuit.cx(feature, predict)\n",
    "\n",
    "circuit.cry(0, ancilla_target, target)\n",
    "circuit.x(ancilla_target)\n",
    "circuit.cry(np.pi, ancilla_target, target)\n",
    "circuit.x(ancilla_target)\n",
    "\n",
    "circuit.h(ancilla_swap)\n",
    "circuit.cswap(ancilla_swap, target, predict)\n",
    "circuit.cswap(ancilla_swap, ancilla_target, ancilla_feature)\n",
    "circuit.h(ancilla_swap)\n",
    "\n",
    "\n",
    "circuit.measure(ancilla_swap, classical)\n",
    "\n",
    "job = qk.execute(circuit, backend, shots=shots)\n",
    "counts = job.result().get_counts(circuit)\n",
    "if \"0\" in counts:\n",
    "    value = counts[\"0\"] / shots\n",
    "else:\n",
    "    value = 0\n",
    "\n",
    "print(circuit)\n",
    "print(value)"
   ]
  },
  {
   "cell_type": "code",
   "execution_count": null,
   "metadata": {},
   "outputs": [],
   "source": []
  }
 ],
 "metadata": {
  "kernelspec": {
   "display_name": "env_qiskit",
   "language": "python",
   "name": "env_qiskit"
  },
  "language_info": {
   "codemirror_mode": {
    "name": "ipython",
    "version": 3
   },
   "file_extension": ".py",
   "mimetype": "text/x-python",
   "name": "python",
   "nbconvert_exporter": "python",
   "pygments_lexer": "ipython3",
   "version": "3.9.1"
  }
 },
 "nbformat": 4,
 "nbformat_minor": 4
}
