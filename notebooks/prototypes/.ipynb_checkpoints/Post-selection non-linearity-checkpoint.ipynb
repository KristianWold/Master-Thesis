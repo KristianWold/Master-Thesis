{
 "cells": [
  {
   "cell_type": "code",
   "execution_count": 27,
   "metadata": {},
   "outputs": [
    {
     "name": "stdout",
     "output_type": "stream",
     "text": [
      "The autoreload extension is already loaded. To reload it, use:\n",
      "  %reload_ext autoreload\n"
     ]
    }
   ],
   "source": [
    "import numpy as np\n",
    "import qiskit as qk\n",
    "import matplotlib.pyplot as plt\n",
    "from qiskit import Aer\n",
    "from src.dnn import *\n",
    "from src.data_encoders import *\n",
    "%matplotlib inline\n",
    "%load_ext autoreload\n",
    "%autoreload 2"
   ]
  },
  {
   "cell_type": "markdown",
   "metadata": {},
   "source": [
    "## Post selection non-linearity"
   ]
  },
  {
   "cell_type": "code",
   "execution_count": 28,
   "metadata": {},
   "outputs": [],
   "source": [
    "def non_linearity(x, weights, shots=1000):\n",
    "    n = weights.shape[0]\n",
    "    \n",
    "    storage = qk.QuantumRegister(n, name=\"storage\")\n",
    "    clas_reg = qk.ClassicalRegister(2, name=\"clas_reg\")\n",
    "    registers = [storage, clas_reg]\n",
    "    circuit = qk.QuantumCircuit(*registers)\n",
    "\n",
    "    circuit.ry(x, storage[0])\n",
    "    circuit.barrier()\n",
    "\n",
    "    for i in range(n - 1):\n",
    "        circuit.cx(storage[i], storage[i + 1])\n",
    "\n",
    "    circuit.barrier()\n",
    "\n",
    "    for i, w in enumerate(weights):\n",
    "        circuit.ry(2*w, storage[i])\n",
    "\n",
    "    circuit.barrier()    \n",
    "\n",
    "    for i in range(n - 1):\n",
    "        circuit.cx(storage[i], storage[i + 1])\n",
    "\n",
    "    circuit.measure([storage[0], storage[-1]], clas_reg)\n",
    "    \n",
    "    job = qk.execute(circuit, backend, shots=shots)\n",
    "    result = job.result()\n",
    "    counts = result.get_counts(circuit)\n",
    "    \n",
    "    states = [\"00\", \"01\", \"10\", \"11\"]\n",
    "    \n",
    "    for state in states:\n",
    "        if state not in counts:\n",
    "            counts[state] = 0\n",
    "        \n",
    "    return (counts[\"11\"])/(counts[\"01\"] + counts[\"11\"]), (counts[\"01\"] + counts[\"11\"])/shots, circuit\n",
    "\n",
    "\n",
    "def gradient(x, y, weights, shots=1000):\n",
    "    n = weights.shape[0]\n",
    "    gradient = np.zeros(weights.shape)\n",
    "    \n",
    "    for i in range(n): \n",
    "        A, B, _ = non_linearity(x, weights, shots)\n",
    "        weights[i] +=np.pi/4\n",
    "        c, d, _ = non_linearity(x, weights, shots)\n",
    "        weights[i] -=np.pi/2\n",
    "        e, f, _ = non_linearity(x, weights, shots)\n",
    "        weights[i] +=np.pi/4\n",
    "\n",
    "        C = 0.5*(c-e)\n",
    "        D = 0.5*(d-f)\n",
    "        \n",
    "        gradient = C + 0.5*A*D/B\n",
    "        \n",
    "        gradient = (A - y)*gradient\n",
    "\n",
    "    \n",
    "    return gradient\n",
    "    "
   ]
  },
  {
   "cell_type": "code",
   "execution_count": 29,
   "metadata": {},
   "outputs": [],
   "source": [
    "np.random.seed(42)\n",
    "backend = Aer.get_backend('qasm_simulator')\n",
    "n = 4\n",
    "weights = np.random.uniform(0, np.pi, n)\n",
    "x = np.array([0, np.pi/2])\n",
    "y = np.array([0.3, 0.7])\n"
   ]
  },
  {
   "cell_type": "code",
   "execution_count": 30,
   "metadata": {},
   "outputs": [
    {
     "name": "stdout",
     "output_type": "stream",
     "text": [
      "[0.5456885456885456, 0.5972444089456869]\n",
      "[0.5454969125014564, 0.6034448624034845]\n",
      "[0.5530561771287246, 0.5942672587807832]\n",
      "[0.545957396728257, 0.604572564612326]\n",
      "[0.5412768942937325, 0.601054125278735]\n",
      "[0.5432273262661955, 0.6014434643143545]\n",
      "[0.5512400561534861, 0.5913008618961716]\n",
      "[0.546572934973638, 0.5920783993466721]\n",
      "[0.5442089237615646, 0.5885951065509076]\n",
      "[0.5464038484101842, 0.6041501976284585]\n",
      "[0.5452105938630265, 0.5930536036940374]\n",
      "[0.5522948702899402, 0.5959616153538585]\n",
      "[0.5547565719674643, 0.6049062624650977]\n",
      "[0.5480346752167201, 0.5967094703049759]\n",
      "[0.5501294422216992, 0.6084792993630573]\n",
      "[0.5370937352802638, 0.6037059175134489]\n",
      "[0.5568678398488248, 0.6115884115884116]\n",
      "[0.5505470980019029, 0.6023025651383559]\n",
      "[0.5617122473246136, 0.5981346309813463]\n",
      "[0.5630684538056486, 0.5944278606965174]\n",
      "[0.555239449976292, 0.6068993180906538]\n",
      "[0.5599668167812277, 0.60156406657309]\n",
      "[0.5496192289386007, 0.6020510758093706]\n",
      "[0.5595364786567341, 0.6172077275443139]\n",
      "[0.5611416288512061, 0.6046138415245738]\n",
      "[0.568320382546324, 0.600080064051241]\n",
      "[0.5539619935460739, 0.606030549494148]\n",
      "[0.5553562888570062, 0.6142202748456482]\n",
      "[0.5600528465049244, 0.6041290839847665]\n",
      "[0.5570285441299415, 0.606911883589329]\n",
      "[0.5763605849916087, 0.6148045247072832]\n",
      "[0.5694394430440524, 0.6078548644338118]\n",
      "[0.5665312947921644, 0.6113010255379047]\n",
      "[0.5678746561416098, 0.6152014288549316]\n",
      "[0.5645587881702332, 0.6081953976584578]\n",
      "[0.5648001943398518, 0.6053327905556687]\n",
      "[0.5676354503049874, 0.6157489638839551]\n",
      "[0.5704106280193236, 0.6107556977209116]\n",
      "[0.574391126115264, 0.6155578300921187]\n",
      "[0.5752993830893915, 0.5998397756859604]\n",
      "[0.5752459613749544, 0.6240934730056407]\n",
      "[0.5764848484848485, 0.6248034591194969]\n",
      "[0.5702349237103415, 0.6263758254952971]\n",
      "[0.5716358360536815, 0.6285144566301096]\n",
      "[0.5667555124787982, 0.6312561819980218]\n",
      "[0.5768714128709244, 0.6276617319002231]\n",
      "[0.575602004644909, 0.6203303185214314]\n",
      "[0.5788960643353235, 0.6339765267555202]\n",
      "[0.5815123987232997, 0.6232659532302814]\n",
      "[0.579958399608467, 0.6268776286801522]\n"
     ]
    }
   ],
   "source": [
    "grad = np.zeros(weights.shape)\n",
    "m = x.shape[0]\n",
    "\n",
    "for i in range(50):\n",
    "    y_pred = []\n",
    "    \n",
    "    for x_, y_ in zip(x,y):\n",
    "        grad += gradient(x_, y_, weights, shots=10000)\n",
    "        y = non_linearity(x_, weights, shots=10000)\n",
    "        y_pred.append(y[0])\n",
    "        #print(y[1])\n",
    "    \n",
    "    grad = grad/m \n",
    "    \n",
    "    weights += -0.1*grad\n",
    "    print(y_pred)"
   ]
  },
  {
   "cell_type": "code",
   "execution_count": null,
   "metadata": {},
   "outputs": [],
   "source": [
    "y_pred, y_anc, circuit = non_linearity(0.3, weights, shots=10000)\n",
    "print(y_pred, y_anc)\n",
    "print(circuit)"
   ]
  },
  {
   "cell_type": "code",
   "execution_count": null,
   "metadata": {},
   "outputs": [],
   "source": []
  }
 ],
 "metadata": {
  "kernelspec": {
   "display_name": "qiskit",
   "language": "python",
   "name": "qiskit"
  },
  "language_info": {
   "codemirror_mode": {
    "name": "ipython",
    "version": 3
   },
   "file_extension": ".py",
   "mimetype": "text/x-python",
   "name": "python",
   "nbconvert_exporter": "python",
   "pygments_lexer": "ipython3",
   "version": "3.8.5"
  }
 },
 "nbformat": 4,
 "nbformat_minor": 4
}
