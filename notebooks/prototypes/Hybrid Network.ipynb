{
 "cells": [
  {
   "cell_type": "code",
   "execution_count": 1,
   "metadata": {},
   "outputs": [],
   "source": [
    "import numpy as np\n",
    "import qiskit as qk\n",
    "import matplotlib.pyplot as plt\n",
    "import torch\n",
    "\n",
    "from qiskit import Aer\n",
    "from tqdm.notebook import tqdm\n",
    "\n",
    "import sys\n",
    "sys.path.insert(0, '../../src/')\n",
    "from neuralnetwork import *\n",
    "from analysis import *\n",
    "from samplers import *\n",
    "\n",
    "%matplotlib notebook\n",
    "#%matplotlib inline\n",
    "%load_ext autoreload\n",
    "%autoreload 2"
   ]
  },
  {
   "cell_type": "markdown",
   "metadata": {},
   "source": [
    "### Pytorch network"
   ]
  },
  {
   "cell_type": "code",
   "execution_count": null,
   "metadata": {},
   "outputs": [],
   "source": [
    "class Model(torch.nn.Module):\n",
    "    def __init__(self):\n",
    "        super().__init__()\n",
    "        self.layer1 = torch.nn.Linear(1, 3)\n",
    "        self.layer2 = torch.nn.Linear(3, 3)\n",
    "        self.layer3 = torch.nn.Linear(3, 1)\n",
    "        \n",
    "        self.act = torch.nn.Sigmoid()\n",
    "\n",
    "    def forward(self, x):\n",
    "        x = self.act(self.layer1(x))\n",
    "        x = self.act(self.layer2(x))\n",
    "        x = self.layer3(x)\n",
    "        \n",
    "        return x\n",
    "\n",
    "torch.manual_seed(42)\n",
    "model = Model()\n",
    "optimizer = torch.optim.Adam(model.parameters(), lr=1e-1)\n",
    "\n",
    "np.random.seed(42)\n",
    "#x = torch.linspace(0, 1, 10).reshape(-1,1)\n",
    "#y = torch.tensor(np.random.uniform(0, 1, 10).reshape(-1,1))\n",
    "\n",
    "x = torch.linspace(0, np.pi, 11).reshape(-1,1)\n",
    "y = 0.9*torch.exp(-3*(x-np.pi/2)**2) + 0.05"
   ]
  },
  {
   "cell_type": "code",
   "execution_count": null,
   "metadata": {},
   "outputs": [],
   "source": [
    "fig = plt.figure()\n",
    "ax = fig.add_subplot(111)\n",
    "plt.ion()\n",
    "\n",
    "fig.show()\n",
    "fig.canvas.draw()\n",
    "for i in tqdm(range(200)):\n",
    "    y_pred = model(x)\n",
    "    loss = torch.mean((y_pred - y)**2)\n",
    "    \n",
    "\n",
    "    optimizer.zero_grad()\n",
    "    loss.backward()\n",
    "    optimizer.step()\n",
    "    \n",
    "    ax.clear()\n",
    "    ax.plot(x.detach(), y.detach(), \"o\")\n",
    "    ax.plot(x.detach(), y_pred.detach(), \"o\")\n",
    "    ax.set_ylim([0, 1])\n",
    "    fig.canvas.draw()"
   ]
  },
  {
   "cell_type": "markdown",
   "metadata": {},
   "source": [
    "### Classical network"
   ]
  },
  {
   "cell_type": "code",
   "execution_count": null,
   "metadata": {},
   "outputs": [],
   "source": [
    "np.random.seed(42)\n",
    "optimizer = Adam(lr=1e-1)\n",
    "\n",
    "layer1 = Dense(n_features=1, n_targets=5, scale = 1, activation = Sigmoid())\n",
    "layer2 = Dense(n_features=5, n_targets=5, scale = 1, activation = Sigmoid())\n",
    "layer3 = Dense(n_features=5, n_targets=1, scale = 1, activation = Identity())\n",
    "layers =[layer1, layer2, layer3]\n",
    "network = NeuralNetwork(layers, optimizer)\n",
    "\n",
    "\n",
    "x = np.linspace(0, np.pi, 11).reshape(-1,1)\n",
    "y = 0.9*np.exp(-3*(x-np.pi/2)**2) + 0.05"
   ]
  },
  {
   "cell_type": "code",
   "execution_count": null,
   "metadata": {},
   "outputs": [],
   "source": [
    "fig = plt.figure()\n",
    "ax = fig.add_subplot(111)\n",
    "plt.ion()\n",
    "\n",
    "fig.show()\n",
    "fig.canvas.draw()\n",
    "for i in tqdm(range(200)):\n",
    "    network.backward(x, y)\n",
    "    network.step()\n",
    "    y_pred = network.predict(x)\n",
    "    \n",
    "    loss = np.mean((y_pred - y)**2)\n",
    "    \n",
    "    \n",
    "    ax.clear()\n",
    "    ax.plot(x, y, \"o\")\n",
    "    ax.plot(x, y_pred, \"o\")\n",
    "    ax.set_ylim([0, 1])\n",
    "    fig.canvas.draw()"
   ]
  },
  {
   "cell_type": "markdown",
   "metadata": {},
   "source": [
    "### Hybrid network"
   ]
  },
  {
   "cell_type": "code",
   "execution_count": 8,
   "metadata": {},
   "outputs": [],
   "source": [
    "np.random.seed(42)\n",
    "optimizer = Adam(lr=1e-1)\n",
    "backend = Aer.get_backend('qasm_simulator')\n",
    "\n",
    "layer1 = Dense(n_features=1, \n",
    "               n_targets=3, \n",
    "               scale = 2*np.pi, \n",
    "               activation = Sigmoid())\n",
    "\n",
    "layer2 = QLayer(n_qubits=3, \n",
    "                n_features=3, \n",
    "                n_targets=3, \n",
    "                encoder=Encoder(), \n",
    "                ansatz=Ansatz(), \n",
    "                sampler = Parity(),\n",
    "                reps=2, \n",
    "                scale=2*np.pi, \n",
    "                backend=backend, shots=10000)\n",
    "\n",
    "layer3 = QLayer(n_qubits=3, \n",
    "                n_features=3, \n",
    "                n_targets=3, \n",
    "                encoder=Encoder(), \n",
    "                ansatz=Ansatz(), \n",
    "                sampler = Parity(),\n",
    "                reps=2, \n",
    "                scale=1, \n",
    "                backend=backend, shots=10000)\n",
    "\n",
    "layer4 = Dense(n_features=3, \n",
    "               n_targets=1, \n",
    "               scale = 1, \n",
    "               activation = Identity())\n",
    "\n",
    "layers =[layer1, layer2, layer3, layer4]\n",
    "network = NeuralNetwork(layers, optimizer)"
   ]
  },
  {
   "cell_type": "code",
   "execution_count": 9,
   "metadata": {},
   "outputs": [],
   "source": [
    "x = np.linspace(0, 1, 100).reshape(-1,1)\n",
    "y = np.exp(-10*(x-0.5)**2)\n",
    "y = scaler(y, a=-2, b=2)"
   ]
  },
  {
   "cell_type": "code",
   "execution_count": null,
   "metadata": {},
   "outputs": [],
   "source": [
    "fig = plt.figure()\n",
    "ax = fig.add_subplot(111)\n",
    "plt.ion()\n",
    "\n",
    "fig.show()\n",
    "fig.canvas.draw()\n",
    "for i in tqdm(range(100)):\n",
    "    network.backward(x, y)\n",
    "    \n",
    "    y_pred = network.predict(x)\n",
    "    \n",
    "    loss = np.mean((y_pred - y)**2)\n",
    "    network.step()\n",
    "    \n",
    "    ax.clear()\n",
    "    ax.plot(x, y, \"o\")\n",
    "    ax.plot(x, y_pred, \"o\")\n",
    "    ax.set_ylim([-2, 2])\n",
    "    fig.canvas.draw()"
   ]
  },
  {
   "cell_type": "code",
   "execution_count": null,
   "metadata": {},
   "outputs": [],
   "source": []
  }
 ],
 "metadata": {
  "kernelspec": {
   "display_name": "env_qiskit",
   "language": "python",
   "name": "env_qiskit"
  },
  "language_info": {
   "codemirror_mode": {
    "name": "ipython",
    "version": 3
   },
   "file_extension": ".py",
   "mimetype": "text/x-python",
   "name": "python",
   "nbconvert_exporter": "python",
   "pygments_lexer": "ipython3",
   "version": "3.9.1"
  }
 },
 "nbformat": 4,
 "nbformat_minor": 4
}
