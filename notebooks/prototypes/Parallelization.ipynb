{
 "cells": [
  {
   "cell_type": "code",
   "execution_count": 1,
   "metadata": {},
   "outputs": [],
   "source": [
    "import numpy as np\n",
    "import qiskit as qk\n",
    "from qiskit import Aer\n",
    "from qiskit.compiler import transpile, assemble\n",
    "import time\n",
    "\n",
    "import sys\n",
    "sys.path.insert(0, '../../src/')\n",
    "from neuralnetwork import *\n",
    "from samplers import *\n",
    "\n",
    "%load_ext autoreload\n",
    "%autoreload 2"
   ]
  },
  {
   "cell_type": "markdown",
   "metadata": {},
   "source": [
    "### Looping over Circuits vs. Assembled Circuits Benchmark"
   ]
  },
  {
   "cell_type": "code",
   "execution_count": null,
   "metadata": {},
   "outputs": [],
   "source": [
    "backend = Aer.get_backend(\"qasm_simulator\")\n",
    "\n",
    "n_qubits = 4\n",
    "repeats = 1000\n",
    "shots = 100000"
   ]
  },
  {
   "cell_type": "code",
   "execution_count": null,
   "metadata": {},
   "outputs": [],
   "source": [
    "np.random.seed(42)\n",
    "start = time.time()\n",
    "counts_list = []\n",
    "for i in range(repeats):\n",
    "    storage = qk.QuantumRegister(n_qubits)\n",
    "    clas_reg = qk.ClassicalRegister(1)\n",
    "    \n",
    "    circuit = qk.QuantumCircuit(storage, clas_reg)\n",
    "    \n",
    "    for j in range(n_qubits):\n",
    "        circuit.ry(np.random.uniform(0, 2*np.pi), storage[j])\n",
    "\n",
    "    for j in range(n_qubits - 1):\n",
    "        circuit.cx(storage[j], storage[j + 1])\n",
    "    \n",
    "    for j in range(n_qubits):\n",
    "        circuit.ry(np.random.uniform(0, 2*np.pi), storage[j])\n",
    "        \n",
    "    for j in range(n_qubits - 1):\n",
    "        circuit.cx(storage[j], storage[j + 1])\n",
    "       \n",
    "    circuit.measure(storage[-1], clas_reg)\n",
    "    \n",
    "    job = qk.execute(circuit, backend, shots=shots)\n",
    "    counts = job.result().get_counts()\n",
    "    counts_list.append(counts)\n",
    "\n",
    "end = time.time()\n",
    "print(end-start)"
   ]
  },
  {
   "cell_type": "code",
   "execution_count": null,
   "metadata": {},
   "outputs": [],
   "source": [
    "print(sum(counts.values()))\n",
    "for bitstring, samples in counts.items():\n",
    "    print(bitstring, samples)"
   ]
  },
  {
   "cell_type": "code",
   "execution_count": null,
   "metadata": {},
   "outputs": [],
   "source": [
    "np.random.seed(42)\n",
    "start = time.time()\n",
    "circuit_list = []\n",
    "for i in range(repeats):\n",
    "    storage = qk.QuantumRegister(n_qubits)\n",
    "    clas_reg = qk.ClassicalRegister(1)\n",
    "\n",
    "    circuit = qk.QuantumCircuit(storage, clas_reg)\n",
    "    \n",
    "    for j in range(n_qubits):\n",
    "        circuit.ry(np.random.uniform(0, 2*np.pi), storage[j])\n",
    "\n",
    "    for j in range(n_qubits - 1):\n",
    "        circuit.cx(storage[j], storage[j + 1])\n",
    "    \n",
    "    for j in range(n_qubits):\n",
    "        circuit.ry(np.random.uniform(0, 2*np.pi), storage[j])\n",
    "        \n",
    "    for j in range(n_qubits - 1):\n",
    "        circuit.cx(storage[j], storage[j + 1])\n",
    "    \n",
    "    circuit.measure(storage[-1], clas_reg)\n",
    "    \n",
    "    circuit_list.append(circuit) \n",
    "    \n",
    "\n",
    "transpiled_list = transpile(circuit_list, backend=backend)\n",
    "qobject_list = assemble(transpiled_list, backend=backend, shots=shots, max_parallel_shots = 1, max_parallel_experiments = 0)\n",
    "job = backend.run(qobject_list)\n",
    "\n",
    "end = time.time()\n",
    "print(end-start)"
   ]
  },
  {
   "cell_type": "code",
   "execution_count": null,
   "metadata": {},
   "outputs": [],
   "source": [
    "count_list = []\n",
    "for circuit in circuit_list:   \n",
    "    count_list.append(job.result().get_counts(circuit))"
   ]
  },
  {
   "cell_type": "markdown",
   "metadata": {},
   "source": [
    "### Stateverctor based circuit"
   ]
  },
  {
   "cell_type": "code",
   "execution_count": 6,
   "metadata": {},
   "outputs": [],
   "source": [
    "backend = qk.providers.aer.StatevectorSimulator(max_parallel_threads=0, max_parallel_experiments=0)\n",
    "\n",
    "n_qubits = 4\n",
    "repeats = 10000"
   ]
  },
  {
   "cell_type": "code",
   "execution_count": 3,
   "metadata": {},
   "outputs": [
    {
     "name": "stdout",
     "output_type": "stream",
     "text": [
      "20.243107080459595\n"
     ]
    }
   ],
   "source": [
    "np.random.seed(42)\n",
    "start = time.time()\n",
    "circuit_list = []\n",
    "for i in range(repeats):\n",
    "    storage = qk.QuantumRegister(n_qubits)\n",
    "\n",
    "    circuit = qk.QuantumCircuit(storage)\n",
    "    \n",
    "    for j in range(n_qubits):\n",
    "        circuit.ry(np.random.uniform(0, 2*np.pi), storage[j])\n",
    "\n",
    "    for j in range(n_qubits - 1):\n",
    "        circuit.cx(storage[j], storage[j + 1])\n",
    "    \n",
    "    for j in range(n_qubits):\n",
    "        circuit.ry(np.random.uniform(0, 2*np.pi), storage[j])\n",
    "        \n",
    "    for j in range(n_qubits - 1):\n",
    "        circuit.cx(storage[j], storage[j + 1])\n",
    "        \n",
    "    job = qk.execute(circuit, backend)\n",
    "    statevector = job.result().get_statevector(circuit)\n",
    "\n",
    "end = time.time()\n",
    "print(end-start)"
   ]
  },
  {
   "cell_type": "code",
   "execution_count": 7,
   "metadata": {},
   "outputs": [
    {
     "name": "stdout",
     "output_type": "stream",
     "text": [
      "4.623112201690674\n",
      "8.941648006439209\n",
      "8.991270542144775\n"
     ]
    },
    {
     "ename": "KeyboardInterrupt",
     "evalue": "",
     "output_type": "error",
     "traceback": [
      "\u001b[0;31m---------------------------------------------------------------------------\u001b[0m",
      "\u001b[0;31mKeyboardInterrupt\u001b[0m                         Traceback (most recent call last)",
      "\u001b[0;32m<ipython-input-7-0f76d201ce96>\u001b[0m in \u001b[0;36m<module>\u001b[0;34m\u001b[0m\n\u001b[1;32m     38\u001b[0m \u001b[0;34m\u001b[0m\u001b[0m\n\u001b[1;32m     39\u001b[0m \u001b[0;32mfor\u001b[0m \u001b[0mcircuit\u001b[0m \u001b[0;32min\u001b[0m \u001b[0mcircuit_list\u001b[0m\u001b[0;34m:\u001b[0m\u001b[0;34m\u001b[0m\u001b[0;34m\u001b[0m\u001b[0m\n\u001b[0;32m---> 40\u001b[0;31m     \u001b[0mjob\u001b[0m\u001b[0;34m.\u001b[0m\u001b[0mresult\u001b[0m\u001b[0;34m(\u001b[0m\u001b[0;34m)\u001b[0m\u001b[0;34m.\u001b[0m\u001b[0mget_statevector\u001b[0m\u001b[0;34m(\u001b[0m\u001b[0mcircuit\u001b[0m\u001b[0;34m)\u001b[0m\u001b[0;34m\u001b[0m\u001b[0;34m\u001b[0m\u001b[0m\n\u001b[0m\u001b[1;32m     41\u001b[0m \u001b[0;34m\u001b[0m\u001b[0m\n\u001b[1;32m     42\u001b[0m \u001b[0mend\u001b[0m \u001b[0;34m=\u001b[0m \u001b[0mtime\u001b[0m\u001b[0;34m.\u001b[0m\u001b[0mtime\u001b[0m\u001b[0;34m(\u001b[0m\u001b[0;34m)\u001b[0m\u001b[0;34m\u001b[0m\u001b[0;34m\u001b[0m\u001b[0m\n",
      "\u001b[0;32m~/anaconda3/envs/env_qiskit/lib/python3.9/site-packages/qiskit/result/result.py\u001b[0m in \u001b[0;36mget_statevector\u001b[0;34m(self, experiment, decimals)\u001b[0m\n\u001b[1;32m    299\u001b[0m         \"\"\"\n\u001b[1;32m    300\u001b[0m         \u001b[0;32mtry\u001b[0m\u001b[0;34m:\u001b[0m\u001b[0;34m\u001b[0m\u001b[0;34m\u001b[0m\u001b[0m\n\u001b[0;32m--> 301\u001b[0;31m             return postprocess.format_statevector(self.data(experiment)['statevector'],\n\u001b[0m\u001b[1;32m    302\u001b[0m                                                   decimals=decimals)\n\u001b[1;32m    303\u001b[0m         \u001b[0;32mexcept\u001b[0m \u001b[0mKeyError\u001b[0m\u001b[0;34m:\u001b[0m\u001b[0;34m\u001b[0m\u001b[0;34m\u001b[0m\u001b[0m\n",
      "\u001b[0;32m~/anaconda3/envs/env_qiskit/lib/python3.9/site-packages/qiskit/result/result.py\u001b[0m in \u001b[0;36mdata\u001b[0;34m(self, experiment)\u001b[0m\n\u001b[1;32m    179\u001b[0m         \"\"\"\n\u001b[1;32m    180\u001b[0m         \u001b[0;32mtry\u001b[0m\u001b[0;34m:\u001b[0m\u001b[0;34m\u001b[0m\u001b[0;34m\u001b[0m\u001b[0m\n\u001b[0;32m--> 181\u001b[0;31m             \u001b[0;32mreturn\u001b[0m \u001b[0mself\u001b[0m\u001b[0;34m.\u001b[0m\u001b[0m_get_experiment\u001b[0m\u001b[0;34m(\u001b[0m\u001b[0mexperiment\u001b[0m\u001b[0;34m)\u001b[0m\u001b[0;34m.\u001b[0m\u001b[0mdata\u001b[0m\u001b[0;34m.\u001b[0m\u001b[0mto_dict\u001b[0m\u001b[0;34m(\u001b[0m\u001b[0;34m)\u001b[0m\u001b[0;34m\u001b[0m\u001b[0;34m\u001b[0m\u001b[0m\n\u001b[0m\u001b[1;32m    182\u001b[0m         \u001b[0;32mexcept\u001b[0m \u001b[0;34m(\u001b[0m\u001b[0mKeyError\u001b[0m\u001b[0;34m,\u001b[0m \u001b[0mTypeError\u001b[0m\u001b[0;34m)\u001b[0m\u001b[0;34m:\u001b[0m\u001b[0;34m\u001b[0m\u001b[0;34m\u001b[0m\u001b[0m\n\u001b[1;32m    183\u001b[0m             \u001b[0;32mraise\u001b[0m \u001b[0mQiskitError\u001b[0m\u001b[0;34m(\u001b[0m\u001b[0;34m'No data for experiment \"{}\"'\u001b[0m\u001b[0;34m.\u001b[0m\u001b[0mformat\u001b[0m\u001b[0;34m(\u001b[0m\u001b[0mexperiment\u001b[0m\u001b[0;34m)\u001b[0m\u001b[0;34m)\u001b[0m\u001b[0;34m\u001b[0m\u001b[0;34m\u001b[0m\u001b[0m\n",
      "\u001b[0;32m~/anaconda3/envs/env_qiskit/lib/python3.9/site-packages/qiskit/result/result.py\u001b[0m in \u001b[0;36m_get_experiment\u001b[0;34m(self, key)\u001b[0m\n\u001b[1;32m    356\u001b[0m         \u001b[0;32melse\u001b[0m\u001b[0;34m:\u001b[0m\u001b[0;34m\u001b[0m\u001b[0;34m\u001b[0m\u001b[0m\n\u001b[1;32m    357\u001b[0m             \u001b[0;31m# Look into `result[x].header.name` for the names.\u001b[0m\u001b[0;34m\u001b[0m\u001b[0;34m\u001b[0m\u001b[0;34m\u001b[0m\u001b[0m\n\u001b[0;32m--> 358\u001b[0;31m             exp = [result for result in self.results\n\u001b[0m\u001b[1;32m    359\u001b[0m                    if getattr(getattr(result, 'header', None),\n\u001b[1;32m    360\u001b[0m                               'name', '') == key]\n",
      "\u001b[0;32m~/anaconda3/envs/env_qiskit/lib/python3.9/site-packages/qiskit/result/result.py\u001b[0m in \u001b[0;36m<listcomp>\u001b[0;34m(.0)\u001b[0m\n\u001b[1;32m    357\u001b[0m             \u001b[0;31m# Look into `result[x].header.name` for the names.\u001b[0m\u001b[0;34m\u001b[0m\u001b[0;34m\u001b[0m\u001b[0;34m\u001b[0m\u001b[0m\n\u001b[1;32m    358\u001b[0m             exp = [result for result in self.results\n\u001b[0;32m--> 359\u001b[0;31m                    if getattr(getattr(result, 'header', None),\n\u001b[0m\u001b[1;32m    360\u001b[0m                               'name', '') == key]\n\u001b[1;32m    361\u001b[0m \u001b[0;34m\u001b[0m\u001b[0m\n",
      "\u001b[0;31mKeyboardInterrupt\u001b[0m: "
     ]
    }
   ],
   "source": [
    "np.random.seed(42)\n",
    "start = time.time()\n",
    "circuit_list = []\n",
    "for i in range(repeats):\n",
    "    storage = qk.QuantumRegister(n_qubits)\n",
    "    clas_reg = qk.ClassicalRegister(1)\n",
    "\n",
    "    circuit = qk.QuantumCircuit(storage, clas_reg)\n",
    "    \n",
    "    for j in range(n_qubits):\n",
    "        circuit.ry(np.random.uniform(0, 2*np.pi), storage[j])\n",
    "\n",
    "    for j in range(n_qubits - 1):\n",
    "        circuit.cx(storage[j], storage[j + 1])\n",
    "    \n",
    "    for j in range(n_qubits):\n",
    "        circuit.ry(np.random.uniform(0, 2*np.pi), storage[j])\n",
    "        \n",
    "    for j in range(n_qubits - 1):\n",
    "        circuit.cx(storage[j], storage[j + 1])\n",
    "    \n",
    "    circuit_list.append(circuit) \n",
    "    \n",
    "end = time.time()\n",
    "print(end-start)\n",
    "\n",
    "#transpiled_list = transpile(circuit_list, backend=backend)\n",
    "#end = time.time()\n",
    "#print(end-start)\n",
    "\n",
    "qobject_list = assemble(circuit_list, backend=backend)\n",
    "end = time.time()\n",
    "print(end-start)\n",
    "\n",
    "job = backend.run(qobject_list)\n",
    "end = time.time()\n",
    "print(end-start)\n",
    "\n",
    "for circuit in circuit_list:\n",
    "    job.result().get_statevector(circuit)\n",
    "\n",
    "end = time.time()\n",
    "print(end-start)"
   ]
  },
  {
   "cell_type": "code",
   "execution_count": null,
   "metadata": {},
   "outputs": [],
   "source": [
    "#print(statevector_list)\n",
    "print(output_list[:10])"
   ]
  },
  {
   "cell_type": "markdown",
   "metadata": {},
   "source": [
    "### Multiple samples feed-forward layer"
   ]
  },
  {
   "cell_type": "code",
   "execution_count": null,
   "metadata": {},
   "outputs": [],
   "source": [
    "x = np.array([[1,2,3], [4,5,6], [7,8,9], [10,11,12]])"
   ]
  },
  {
   "cell_type": "code",
   "execution_count": null,
   "metadata": {},
   "outputs": [],
   "source": [
    "np.random.seed(42)\n",
    "layer = QLayer(n_qubits=3, \n",
    "               n_features=3, \n",
    "               n_targets=2, \n",
    "               encoder=Encoder(), \n",
    "               ansatz=Ansatz(), \n",
    "               reps=1, \n",
    "               scale=np.pi, \n",
    "               backend=backend, \n",
    "               shots=100000)"
   ]
  },
  {
   "cell_type": "code",
   "execution_count": null,
   "metadata": {},
   "outputs": [],
   "source": [
    "y = [layer(x_.reshape(1,-1)) for x_ in x]\n",
    "print(y)"
   ]
  },
  {
   "cell_type": "code",
   "execution_count": null,
   "metadata": {},
   "outputs": [],
   "source": [
    "y = layer(x)\n",
    "print(y)"
   ]
  },
  {
   "cell_type": "markdown",
   "metadata": {},
   "source": [
    "### Multiple samples backward"
   ]
  },
  {
   "cell_type": "code",
   "execution_count": null,
   "metadata": {},
   "outputs": [],
   "source": [
    "x = np.array([[1,2,3], [4,5,6], [7,8,9], [10,11,12]], dtype=\"float64\")\n",
    "y = np.array([[1], [2], [3], [4]])"
   ]
  },
  {
   "cell_type": "code",
   "execution_count": null,
   "metadata": {},
   "outputs": [],
   "source": [
    "np.random.seed(42)\n",
    "layer1 = QLayer(n_qubits=3, \n",
    "                n_features=3, \n",
    "                n_targets=2, \n",
    "                encoder=Encoder(), \n",
    "                ansatz=Ansatz(), \n",
    "                reps=1, \n",
    "                scale=np.pi, \n",
    "                backend=backend, \n",
    "                shots=10000)\n",
    "\n",
    "layer2 = QLayer(n_qubits=2, \n",
    "                n_features=2, \n",
    "                n_targets=1, \n",
    "                encoder=Encoder(), \n",
    "                ansatz=Ansatz(), \n",
    "                reps=1, \n",
    "                scale=np.pi, \n",
    "                backend=backend, \n",
    "                shots=10000)\n",
    "layer = [layer1, layer2]\n",
    "\n",
    "optimizer = Adam()\n",
    "\n",
    "network = NeuralNetwork(layer, optimizer)"
   ]
  },
  {
   "cell_type": "code",
   "execution_count": null,
   "metadata": {},
   "outputs": [],
   "source": [
    "print(network.predict(x))"
   ]
  },
  {
   "cell_type": "code",
   "execution_count": null,
   "metadata": {},
   "outputs": [],
   "source": [
    "network.backward(x,y)"
   ]
  },
  {
   "cell_type": "code",
   "execution_count": null,
   "metadata": {},
   "outputs": [],
   "source": [
    "print(network.weight_gradient_list)"
   ]
  },
  {
   "cell_type": "code",
   "execution_count": null,
   "metadata": {},
   "outputs": [],
   "source": [
    "network.step()"
   ]
  },
  {
   "cell_type": "markdown",
   "metadata": {},
   "source": [
    "### Statevector backend"
   ]
  },
  {
   "cell_type": "code",
   "execution_count": null,
   "metadata": {},
   "outputs": [],
   "source": [
    "np.random.seed(42)\n",
    "\n",
    "backend = Aer.get_backend(\"statevector_simulator\")\n",
    "n_qubits = 10\n",
    "#shots=100"
   ]
  },
  {
   "cell_type": "code",
   "execution_count": null,
   "metadata": {},
   "outputs": [],
   "source": [
    "storage = qk.QuantumRegister(n_qubits)\n",
    "#clas_reg = qk.ClassicalRegister(1)\n",
    "\n",
    "circuit = qk.QuantumCircuit(storage)\n",
    "\n",
    "for j in range(n_qubits):\n",
    "    circuit.ry(np.random.uniform(0, 2*np.pi), storage[j])\n",
    "\n",
    "for j in range(n_qubits - 1):\n",
    "    circuit.cx(storage[j], storage[j + 1])\n",
    "\n",
    "for j in range(n_qubits):\n",
    "    circuit.ry(np.random.uniform(0, 2*np.pi), storage[j])\n",
    "\n",
    "for j in range(n_qubits - 1):\n",
    "    circuit.cx(storage[j], storage[j + 1])\n",
    "\n",
    "job = qk.execute(circuit, backend)\n",
    "counts = job.result().get_statevector()\n",
    "print(counts)"
   ]
  },
  {
   "cell_type": "code",
   "execution_count": null,
   "metadata": {},
   "outputs": [],
   "source": [
    "print(circuit)"
   ]
  },
  {
   "cell_type": "code",
   "execution_count": null,
   "metadata": {},
   "outputs": [],
   "source": []
  }
 ],
 "metadata": {
  "kernelspec": {
   "display_name": "env_qiskit",
   "language": "python",
   "name": "env_qiskit"
  },
  "language_info": {
   "codemirror_mode": {
    "name": "ipython",
    "version": 3
   },
   "file_extension": ".py",
   "mimetype": "text/x-python",
   "name": "python",
   "nbconvert_exporter": "python",
   "pygments_lexer": "ipython3",
   "version": "3.9.1"
  }
 },
 "nbformat": 4,
 "nbformat_minor": 4
}
