{
 "cells": [
  {
   "cell_type": "code",
   "execution_count": 12,
   "metadata": {},
   "outputs": [
    {
     "name": "stdout",
     "output_type": "stream",
     "text": [
      "The autoreload extension is already loaded. To reload it, use:\n",
      "  %reload_ext autoreload\n"
     ]
    }
   ],
   "source": [
    "import numpy as np\n",
    "import qiskit as qk\n",
    "import matplotlib.pyplot as plt\n",
    "\n",
    "from qiskit import Aer\n",
    "from tqdm.notebook import tqdm\n",
    "from sklearn.datasets import load_iris\n",
    "from sklearn.model_selection import train_test_split\n",
    "from sklearn.decomposition import PCA\n",
    "from sklearn.linear_model import LogisticRegression\n",
    "\n",
    "import sys\n",
    "sys.path.insert(0, '../../src/')\n",
    "from neuralnetwork import *\n",
    "from analysis import *\n",
    "\n",
    "#%matplotlib notebook\n",
    "%matplotlib inline\n",
    "%load_ext autoreload\n",
    "%autoreload 2\n",
    "\n",
    "np.set_printoptions(precision=4, suppress=None)"
   ]
  },
  {
   "cell_type": "markdown",
   "metadata": {},
   "source": [
    "# Iris"
   ]
  },
  {
   "cell_type": "markdown",
   "metadata": {},
   "source": [
    "### Load Data"
   ]
  },
  {
   "cell_type": "code",
   "execution_count": 13,
   "metadata": {},
   "outputs": [
    {
     "name": "stdout",
     "output_type": "stream",
     "text": [
      "(100, 4) (100, 1)\n"
     ]
    }
   ],
   "source": [
    "iris = load_iris()\n",
    "\n",
    "x = iris.data\n",
    "y = iris.target\n",
    "\n",
    "x = x[y != 2]\n",
    "y = y[y != 2].reshape(-1,1)\n",
    "y = scaler(y, a=0, b=1)\n",
    "\n",
    "print(x.shape, y.shape)"
   ]
  },
  {
   "cell_type": "code",
   "execution_count": 14,
   "metadata": {},
   "outputs": [],
   "source": [
    "x_dnn = scaler(x, mode=\"standard\")\n",
    "x_qcn = scaler(x, a=-np.pi/2, b=np.pi/2)"
   ]
  },
  {
   "cell_type": "code",
   "execution_count": 15,
   "metadata": {},
   "outputs": [
    {
     "data": {
      "application/vnd.jupyter.widget-view+json": {
       "model_id": "81939e88618b44839ff2d5449989de2a",
       "version_major": 2,
       "version_minor": 0
      },
      "text/plain": [
       "  0%|          | 0/10 [00:00<?, ?it/s]"
      ]
     },
     "metadata": {},
     "output_type": "display_data"
    },
    {
     "data": {
      "image/png": "[encoded data removed]",
      "text/plain": [
       "<Figure size 432x288 with 1 Axes>"
      ]
     },
     "metadata": {
      "needs_background": "light"
     },
     "output_type": "display_data"
    },
    {
     "name": "stdout",
     "output_type": "stream",
     "text": [
      "[0.4088561484389508, 0.09905650009484464, 0.05896811635646364, 0.04280552760292202, 0.01885665931155531, 0.011847538186250848, 0.020555441336601858, 0.02284766678430207, 0.01421652297730136, 0.00527852646397564, 0.005207225542702071, 0.010211194760332984, 0.011316968694972538, 0.007045048358520283, 0.002618602930343349, 0.0025660008369898235, 0.0055463937957117284, 0.006886880236343731, 0.004799347201113939, 0.0017835280567367932, 0.0010411682179334034, 0.002632961433317595, 0.0038399063569411495, 0.0029663779501476594, 0.001190410988906998, 0.0006504218863263473, 0.001646228531432231, 0.0024824560604257443, 0.001953645565838279, 0.0008176127144065531, 0.0005086132426224087, 0.0011586818231700516, 0.0016135389785598526, 0.0011839637065498918, 0.0004932221909069124, 0.00043016091192086284, 0.0008858220322342979, 0.0010505740705804537, 0.0006664478225248549, 0.0003058792313050703, 0.00042200038511222804, 0.0007104730444080326, 0.0006718771370170037, 0.00037486388156007425, 0.00026367296408009045, 0.0004357217229436657, 0.0005469682967890177, 0.0004060132851814875, 0.0002434523125220377, 0.00028711337359424503, 0.00040670211469412057, 0.0003761468126378376, 0.000246780725269677, 0.00022073002368624156, 0.00030170983236396486, 0.00032069638250037846, 0.00024036028191596554, 0.00019502602067121403, 0.00023973452421336558, 0.0002711508362397113, 0.00022715934113220218, 0.0001850177003095192, 0.00020672341231572303, 0.000234899357606866, 0.00021151192278797318, 0.0001789012003773421, 0.0001888206629559231, 0.00020955157148425116, 0.00019603386704266124, 0.0001724367802111761, 0.00017718276691319236, 0.00019112344676258962, 0.00018197704962357743, 0.0001655907891012228, 0.00016866886754789986, 0.00017752727016748934, 0.00017038386193361443, 0.0001594603420864449, 0.0001622125098684734, 0.00016739482116997638, 0.00016130123970329872, 0.0001543758133392105, 0.00015698455582440328, 0.00015937713433702, 0.00015405363402427348, 0.0001500025835937939, 0.00015222627948161197, 0.0001525503466373534, 0.00014808272397028743, 0.00014605964129713224, 0.00014761834862644574, 0.00014656694236671504, 0.00014315554196042503, 0.00014245081100428816, 0.00014317173878235424, 0.00014140840082802364, 0.00013911412440844868, 0.0001390450939654227, 0.00013889860958844505, 0.0001369876671752729, 0.00013565698824950147]\n"
     ]
    }
   ],
   "source": [
    "np.random.seed(42)\n",
    "\n",
    "dnn_list = []\n",
    "for i in tqdm(range(10)):\n",
    "    dnn = sequential_dnn(dim = [4, 5, 1])\n",
    "    dnn.train(x_dnn, y, epochs = 100)\n",
    "    dnn_list.append(dnn)\n",
    "    \n",
    "saver(dnn_list, data_path(\"cancer_dnn_pca\"))\n",
    "plt.plot(dnn_list[0].loss)\n",
    "plt.show()\n",
    "print(dnn_list[0].loss)"
   ]
  },
  {
   "cell_type": "code",
   "execution_count": 16,
   "metadata": {},
   "outputs": [
    {
     "data": {
      "application/vnd.jupyter.widget-view+json": {
       "model_id": "84e9968f83ab4dd7b1cf10ab08bb3127",
       "version_major": 2,
       "version_minor": 0
      },
      "text/plain": [
       "  0%|          | 0/1 [00:00<?, ?it/s]"
      ]
     },
     "metadata": {},
     "output_type": "display_data"
    },
    {
     "data": {
      "application/vnd.jupyter.widget-view+json": {
       "model_id": "2ce882b90ce74c25a1a8ec1810e10ed7",
       "version_major": 2,
       "version_minor": 0
      },
      "text/plain": [
       "  0%|          | 0/100 [00:00<?, ?it/s]"
      ]
     },
     "metadata": {},
     "output_type": "display_data"
    },
    {
     "name": "stdout",
     "output_type": "stream",
     "text": [
      "epoch: 0, loss: 0.28318573604871766\n",
      "epoch: 1, loss: 0.1522765285698429\n",
      "epoch: 2, loss: 0.09595343726895728\n",
      "epoch: 3, loss: 0.06323082277680558\n",
      "epoch: 4, loss: 0.04430828845183041\n",
      "epoch: 5, loss: 0.03330503481128719\n",
      "epoch: 6, loss: 0.026322295621707147\n",
      "epoch: 7, loss: 0.021088695042845173\n",
      "epoch: 8, loss: 0.016867472192119887\n",
      "epoch: 9, loss: 0.013740445823300522\n",
      "epoch: 10, loss: 0.0117569343162878\n",
      "epoch: 11, loss: 0.010586665520152977\n",
      "epoch: 12, loss: 0.009711852036674245\n",
      "epoch: 13, loss: 0.008816900100575419\n",
      "epoch: 14, loss: 0.007891499066509322\n",
      "epoch: 15, loss: 0.007061888784991951\n",
      "epoch: 16, loss: 0.006429234183678883\n",
      "epoch: 17, loss: 0.006009541695478943\n",
      "epoch: 18, loss: 0.005750989054773796\n",
      "epoch: 19, loss: 0.005576352654196618\n",
      "epoch: 20, loss: 0.005416348513134848\n",
      "epoch: 21, loss: 0.005226731292483672\n",
      "epoch: 22, loss: 0.004994528119356326\n",
      "epoch: 23, loss: 0.004737721958190141\n",
      "epoch: 24, loss: 0.004498187428916299\n",
      "epoch: 25, loss: 0.0043264376575969715\n",
      "epoch: 26, loss: 0.00426000113127557\n",
      "epoch: 27, loss: 0.0043029930957437686\n",
      "epoch: 28, loss: 0.004418241264886505\n",
      "epoch: 29, loss: 0.0045396565949348605\n",
      "epoch: 30, loss: 0.004600667753275987\n",
      "epoch: 31, loss: 0.004562356083962184\n",
      "epoch: 32, loss: 0.004424456025138128\n",
      "epoch: 33, loss: 0.004216299534315158\n",
      "epoch: 34, loss: 0.003978001124196783\n",
      "epoch: 35, loss: 0.003743309429308175\n",
      "epoch: 36, loss: 0.003530201358095468\n",
      "epoch: 37, loss: 0.003340564680050052\n",
      "epoch: 38, loss: 0.003166886024309907\n",
      "epoch: 39, loss: 0.0030012975537391023\n",
      "epoch: 40, loss: 0.002842032383355964\n",
      "epoch: 41, loss: 0.002694699845495298\n",
      "epoch: 42, loss: 0.0025688551777413027\n",
      "epoch: 43, loss: 0.002472428187143881\n",
      "epoch: 44, loss: 0.0024074752603615466\n",
      "epoch: 45, loss: 0.0023696325136472554\n",
      "epoch: 46, loss: 0.002349556077486331\n",
      "epoch: 47, loss: 0.0023325907007339546\n",
      "epoch: 48, loss: 0.002299935375895819\n",
      "epoch: 49, loss: 0.00223896920831595\n",
      "epoch: 50, loss: 0.0021566152674286753\n",
      "epoch: 51, loss: 0.0020777035697526333\n",
      "epoch: 52, loss: 0.0020244875566349206\n",
      "epoch: 53, loss: 0.0019960231187375445\n",
      "epoch: 54, loss: 0.0019694101342475983\n",
      "epoch: 55, loss: 0.0019235918502948507\n",
      "epoch: 56, loss: 0.0018585234318556259\n",
      "epoch: 57, loss: 0.0017885410451251743\n",
      "epoch: 58, loss: 0.0017243522671684208\n",
      "epoch: 59, loss: 0.0016669208014774481\n",
      "epoch: 60, loss: 0.001614874597489081\n",
      "epoch: 61, loss: 0.0015716392519358328\n",
      "epoch: 62, loss: 0.0015429955825866477\n",
      "epoch: 63, loss: 0.0015287295075070923\n",
      "epoch: 64, loss: 0.0015188725755160904\n",
      "epoch: 65, loss: 0.0015009257088240912\n",
      "epoch: 66, loss: 0.0014710384397071086\n",
      "epoch: 67, loss: 0.001435041321271236\n",
      "epoch: 68, loss: 0.0013994580779494647\n",
      "epoch: 69, loss: 0.0013659332192729615\n",
      "epoch: 70, loss: 0.0013342330732979651\n",
      "epoch: 71, loss: 0.0013066000153434821\n",
      "epoch: 72, loss: 0.001286704838636172\n",
      "epoch: 73, loss: 0.0012748783909505806\n",
      "epoch: 74, loss: 0.0012663583701812437\n",
      "epoch: 75, loss: 0.0012557649475680947\n",
      "epoch: 76, loss: 0.0012427793714412094\n",
      "epoch: 77, loss: 0.0012315137793733855\n",
      "epoch: 78, loss: 0.0012243366823938143\n",
      "epoch: 79, loss: 0.0012188889448598616\n",
      "epoch: 80, loss: 0.0012122598215280674\n",
      "epoch: 81, loss: 0.0012051990147003923\n",
      "epoch: 82, loss: 0.0011996142058196984\n",
      "epoch: 83, loss: 0.0011943729260959508\n",
      "epoch: 84, loss: 0.001187083047978145\n",
      "epoch: 85, loss: 0.0011785037282565527\n",
      "epoch: 86, loss: 0.0011717681061880468\n",
      "epoch: 87, loss: 0.0011680935166275717\n",
      "epoch: 88, loss: 0.001165912162478307\n",
      "epoch: 89, loss: 0.0011637076793111854\n",
      "epoch: 90, loss: 0.0011615528945966673\n",
      "epoch: 91, loss: 0.0011597396380412758\n",
      "epoch: 92, loss: 0.0011575711561948548\n",
      "epoch: 93, loss: 0.0011543201397050775\n",
      "epoch: 94, loss: 0.0011505131812409343\n",
      "epoch: 95, loss: 0.0011473267190820063\n",
      "epoch: 96, loss: 0.0011450462696573\n",
      "epoch: 97, loss: 0.001142958456465437\n",
      "epoch: 98, loss: 0.001140594706758719\n",
      "epoch: 99, loss: 0.0011381742678384927\n"
     ]
    }
   ],
   "source": [
    "np.random.seed(42)\n",
    "\n",
    "qcn_list = []\n",
    "for i in tqdm(range(1)):\n",
    "    qcn = sequential_qnn(n_qubits = [4, 4],\n",
    "                         dim = [4, 4, 1],\n",
    "                         ansatz = Ansatz(blocks=[\"entangle\", \"ry\"], reps=2),\n",
    "                         shots=0)\n",
    "    \n",
    "    qcn.train(x_qcn, y, epochs=100, verbose=True)\n",
    "    qcn_list.append(qcn)\n",
    "\n",
    "saver(qcn_list, data_path(\"iris_qcn\"))"
   ]
  },
  {
   "cell_type": "code",
   "execution_count": 23,
   "metadata": {},
   "outputs": [],
   "source": [
    "qcn = sequential_qnn(n_qubits = [4],\n",
    "                         dim = [4, 1],\n",
    "                         ansatz = Ansatz(blocks=[\"entangle\", \"ry\"], reps=4),\n",
    "                         shots=0)"
   ]
  },
  {
   "cell_type": "code",
   "execution_count": 24,
   "metadata": {},
   "outputs": [
    {
     "data": {
      "application/vnd.jupyter.widget-view+json": {
       "model_id": "3096f18b86be4a8fbc2dd5b88c64b0cd",
       "version_major": 2,
       "version_minor": 0
      },
      "text/plain": [
       "  0%|          | 0/100 [00:00<?, ?it/s]"
      ]
     },
     "metadata": {},
     "output_type": "display_data"
    },
    {
     "name": "stdout",
     "output_type": "stream",
     "text": [
      "epoch: 0, loss: 0.12461200990647886\n",
      "epoch: 1, loss: 0.06893472339071643\n",
      "epoch: 2, loss: 0.04387625014892052\n",
      "epoch: 3, loss: 0.03705505040035764\n",
      "epoch: 4, loss: 0.03873863337214828\n",
      "epoch: 5, loss: 0.041913811182075635\n",
      "epoch: 6, loss: 0.04176556753337566\n",
      "epoch: 7, loss: 0.03759378555325641\n",
      "epoch: 8, loss: 0.031549816059830246\n",
      "epoch: 9, loss: 0.025962449577014414\n",
      "epoch: 10, loss: 0.021985406597956354\n",
      "epoch: 11, loss: 0.01965583248956616\n",
      "epoch: 12, loss: 0.018452497521488004\n",
      "epoch: 13, loss: 0.01774813097544409\n",
      "epoch: 14, loss: 0.017061692435546557\n",
      "epoch: 15, loss: 0.01616405331019448\n",
      "epoch: 16, loss: 0.0150656923065986\n",
      "epoch: 17, loss: 0.013925337004344531\n",
      "epoch: 18, loss: 0.012937290995183832\n",
      "epoch: 19, loss: 0.01224292747019093\n",
      "epoch: 20, loss: 0.011884969276587663\n",
      "epoch: 21, loss: 0.011803723933679722\n",
      "epoch: 22, loss: 0.011868044558474178\n",
      "epoch: 23, loss: 0.011929187401980018\n",
      "epoch: 24, loss: 0.01187534125470629\n",
      "epoch: 25, loss: 0.011661815004779594\n",
      "epoch: 26, loss: 0.01130771614826628\n",
      "epoch: 27, loss: 0.010870234232345653\n",
      "epoch: 28, loss: 0.010414230348622187\n",
      "epoch: 29, loss: 0.009988942579611441\n",
      "epoch: 30, loss: 0.009616151901634501\n",
      "epoch: 31, loss: 0.009289945601341712\n",
      "epoch: 32, loss: 0.008985906473165703\n",
      "epoch: 33, loss: 0.008675706872956983\n",
      "epoch: 34, loss: 0.008341882958787959\n",
      "epoch: 35, loss: 0.007987311113797798\n",
      "epoch: 36, loss: 0.007635249882223062\n",
      "epoch: 37, loss: 0.007319794686553051\n",
      "epoch: 38, loss: 0.007071675505818498\n",
      "epoch: 39, loss: 0.006906433627266365\n",
      "epoch: 40, loss: 0.006819668979751175\n",
      "epoch: 41, loss: 0.006789983296639368\n",
      "epoch: 42, loss: 0.0067873376466713155\n",
      "epoch: 43, loss: 0.006783262801048058\n",
      "epoch: 44, loss: 0.006759181746660002\n",
      "epoch: 45, loss: 0.006710018699936713\n",
      "epoch: 46, loss: 0.006642274916933563\n",
      "epoch: 47, loss: 0.0065680615498676705\n",
      "epoch: 48, loss: 0.006498084016553781\n",
      "epoch: 49, loss: 0.006436700339971465\n",
      "epoch: 50, loss: 0.006381004182575025\n",
      "epoch: 51, loss: 0.006323847842174721\n",
      "epoch: 52, loss: 0.006258674959259937\n",
      "epoch: 53, loss: 0.006183196570178574\n",
      "epoch: 54, loss: 0.006100000968351576\n",
      "epoch: 55, loss: 0.006014371127162672\n",
      "epoch: 56, loss: 0.005931219446271122\n",
      "epoch: 57, loss: 0.005853109518216716\n",
      "epoch: 58, loss: 0.005780165916688613\n",
      "epoch: 59, loss: 0.005711350789552652\n",
      "epoch: 60, loss: 0.005645929269937852\n",
      "epoch: 61, loss: 0.005584124963040603\n",
      "epoch: 62, loss: 0.005526678922487275\n",
      "epoch: 63, loss: 0.0054738003196625525\n",
      "epoch: 64, loss: 0.005424404994953693\n",
      "epoch: 65, loss: 0.005376333761411959\n",
      "epoch: 66, loss: 0.005327514502410641\n",
      "epoch: 67, loss: 0.005277266653755385\n",
      "epoch: 68, loss: 0.005226765474978853\n",
      "epoch: 69, loss: 0.005178291091577419\n",
      "epoch: 70, loss: 0.005133789146866641\n",
      "epoch: 71, loss: 0.005093715635233489\n",
      "epoch: 72, loss: 0.005056841210889431\n",
      "epoch: 73, loss: 0.005020999734991454\n",
      "epoch: 74, loss: 0.004984224664518321\n",
      "epoch: 75, loss: 0.004945609998705231\n",
      "epoch: 76, loss: 0.004905506163721858\n",
      "epoch: 77, loss: 0.004865082532902324\n",
      "epoch: 78, loss: 0.00482561394416188\n",
      "epoch: 79, loss: 0.004787927549903016\n",
      "epoch: 80, loss: 0.004752268990837005\n",
      "epoch: 81, loss: 0.0047185429835954334\n",
      "epoch: 82, loss: 0.004686654225647408\n",
      "epoch: 83, loss: 0.004656667653470768\n",
      "epoch: 84, loss: 0.004628705762421896\n",
      "epoch: 85, loss: 0.004602731900285717\n",
      "epoch: 86, loss: 0.004578447143442018\n",
      "epoch: 87, loss: 0.004555410980498919\n",
      "epoch: 88, loss: 0.0045333001583712056\n",
      "epoch: 89, loss: 0.004512108382501813\n",
      "epoch: 90, loss: 0.0044921383868653155\n",
      "epoch: 91, loss: 0.004473794561729834\n",
      "epoch: 92, loss: 0.004457324178467326\n",
      "epoch: 93, loss: 0.004442678692954476\n",
      "epoch: 94, loss: 0.004429566599246284\n",
      "epoch: 95, loss: 0.0044176294354172614\n",
      "epoch: 96, loss: 0.004406600319893326\n",
      "epoch: 97, loss: 0.004396346689667294\n",
      "epoch: 98, loss: 0.004386806981329995\n",
      "epoch: 99, loss: 0.004377908603283664\n"
     ]
    }
   ],
   "source": [
    "qcn.train(x_qcn, y, epochs=100, verbose=True)"
   ]
  },
  {
   "cell_type": "code",
   "execution_count": 25,
   "metadata": {},
   "outputs": [],
   "source": [
    "qcn1 = sequential_qnn(n_qubits = [4,],\n",
    "                         dim = [4, 1],\n",
    "                         encoder = RZZEncoder(),\n",
    "                         ansatz = Ansatz(blocks=[\"entangle\", \"ry\"], reps=4),\n",
    "                         shots=0)"
   ]
  },
  {
   "cell_type": "code",
   "execution_count": 27,
   "metadata": {},
   "outputs": [
    {
     "data": {
      "application/vnd.jupyter.widget-view+json": {
       "model_id": "8b9493c74afc4c3993dbc49d70c9ea71",
       "version_major": 2,
       "version_minor": 0
      },
      "text/plain": [
       "  0%|          | 0/100 [00:00<?, ?it/s]"
      ]
     },
     "metadata": {},
     "output_type": "display_data"
    },
    {
     "name": "stdout",
     "output_type": "stream",
     "text": [
      "epoch: 0, loss: 0.270771821145492\n",
      "epoch: 1, loss: 0.2399078273279585\n",
      "epoch: 2, loss: 0.2145811500867437\n",
      "epoch: 3, loss: 0.19934545893924432\n",
      "epoch: 4, loss: 0.19024622910758737\n",
      "epoch: 5, loss: 0.18300699298466608\n",
      "epoch: 6, loss: 0.17704155656875536\n",
      "epoch: 7, loss: 0.17285163149880683\n",
      "epoch: 8, loss: 0.17051883353398778\n",
      "epoch: 9, loss: 0.16959400117568588\n",
      "epoch: 10, loss: 0.169556299118209\n",
      "epoch: 11, loss: 0.17002532557510755\n",
      "epoch: 12, loss: 0.17070677118694888\n",
      "epoch: 13, loss: 0.17132160196698354\n",
      "epoch: 14, loss: 0.1716019165039932\n",
      "epoch: 15, loss: 0.1713447806951584\n",
      "epoch: 16, loss: 0.1704811549473585\n",
      "epoch: 17, loss: 0.1691137846396107\n",
      "epoch: 18, loss: 0.16749794169875204\n",
      "epoch: 19, loss: 0.16596806893234056\n",
      "epoch: 20, loss: 0.16483379826965958\n",
      "epoch: 21, loss: 0.16427658645963697\n",
      "epoch: 22, loss: 0.1642828541888483\n",
      "epoch: 23, loss: 0.16465030190621782\n",
      "epoch: 24, loss: 0.16507932444300116\n",
      "epoch: 25, loss: 0.16530442530829176\n",
      "epoch: 26, loss: 0.1651863635437367\n",
      "epoch: 27, loss: 0.1647261511960724\n",
      "epoch: 28, loss: 0.16402483313853783\n",
      "epoch: 29, loss: 0.16323093665203328\n",
      "epoch: 30, loss: 0.1624996421355975\n",
      "epoch: 31, loss: 0.16196504537903034\n",
      "epoch: 32, loss: 0.16171391601773102\n",
      "epoch: 33, loss: 0.16175532988400562\n",
      "epoch: 34, loss: 0.16200263523771186\n",
      "epoch: 35, loss: 0.16229693553938782\n",
      "epoch: 36, loss: 0.1624772124252166\n",
      "epoch: 37, loss: 0.16245536497802096\n",
      "epoch: 38, loss: 0.16224322394493357\n",
      "epoch: 39, loss: 0.1619211092933227\n",
      "epoch: 40, loss: 0.16157999084975266\n",
      "epoch: 41, loss: 0.16127603539339383\n",
      "epoch: 42, loss: 0.1610183857838874\n",
      "epoch: 43, loss: 0.16078552536395566\n",
      "epoch: 44, loss: 0.16054860069999868\n",
      "epoch: 45, loss: 0.16028345917368253\n",
      "epoch: 46, loss: 0.1599688721166412\n",
      "epoch: 47, loss: 0.15957975426650858\n",
      "epoch: 48, loss: 0.15908480108463216\n",
      "epoch: 49, loss: 0.1584518016308299\n",
      "epoch: 50, loss: 0.15765779192157395\n",
      "epoch: 51, loss: 0.15669912943825215\n",
      "epoch: 52, loss: 0.15559813259986854\n",
      "epoch: 53, loss: 0.1544057828117893\n",
      "epoch: 54, loss: 0.1532008383157741\n",
      "epoch: 55, loss: 0.15208260792716383\n",
      "epoch: 56, loss: 0.15115191922810017\n",
      "epoch: 57, loss: 0.15048014344010427\n",
      "epoch: 58, loss: 0.1500785875345807\n",
      "epoch: 59, loss: 0.14988740418989407\n",
      "epoch: 60, loss: 0.14979412555951452\n",
      "epoch: 61, loss: 0.14967416893151236\n",
      "epoch: 62, loss: 0.1494341375745413\n",
      "epoch: 63, loss: 0.14903768861135458\n",
      "epoch: 64, loss: 0.14850474605670644\n",
      "epoch: 65, loss: 0.14789470334185362\n",
      "epoch: 66, loss: 0.14728883137260898\n",
      "epoch: 67, loss: 0.146770015691727\n",
      "epoch: 68, loss: 0.1463923795524985\n",
      "epoch: 69, loss: 0.1461525739792665\n",
      "epoch: 70, loss: 0.14598960000720942\n",
      "epoch: 71, loss: 0.1458254753427983\n",
      "epoch: 72, loss: 0.14562179299083444\n",
      "epoch: 73, loss: 0.1454055900534579\n",
      "epoch: 74, loss: 0.14524394034487065\n",
      "epoch: 75, loss: 0.14519261438656964\n",
      "epoch: 76, loss: 0.14525878110456156\n",
      "epoch: 77, loss: 0.14539767753556582\n",
      "epoch: 78, loss: 0.14553782967618145\n",
      "epoch: 79, loss: 0.14561577174866\n",
      "epoch: 80, loss: 0.14560072293214557\n",
      "epoch: 81, loss: 0.14549986373597468\n",
      "epoch: 82, loss: 0.14534753874418496\n",
      "epoch: 83, loss: 0.1451876329006972\n",
      "epoch: 84, loss: 0.14505727951454858\n",
      "epoch: 85, loss: 0.14497654549686856\n",
      "epoch: 86, loss: 0.14494540332765027\n",
      "epoch: 87, loss: 0.14494751714218432\n",
      "epoch: 88, loss: 0.14495976788671366\n",
      "epoch: 89, loss: 0.14496438685967583\n",
      "epoch: 90, loss: 0.14495729752201184\n",
      "epoch: 91, loss: 0.14494685419069187\n",
      "epoch: 92, loss: 0.14494389276246825\n",
      "epoch: 93, loss: 0.14495115826882635\n",
      "epoch: 94, loss: 0.14496043688172275\n",
      "epoch: 95, loss: 0.144958824809391\n",
      "epoch: 96, loss: 0.1449382502764524\n",
      "epoch: 97, loss: 0.14490087668061866\n",
      "epoch: 98, loss: 0.14485731725578727\n",
      "epoch: 99, loss: 0.14482004279033275\n"
     ]
    }
   ],
   "source": [
    "qcn1.train(x_qcn, y, epochs=100, verbose=True)"
   ]
  },
  {
   "cell_type": "code",
   "execution_count": null,
   "metadata": {},
   "outputs": [],
   "source": []
  }
 ],
 "metadata": {
  "kernelspec": {
   "display_name": "env_qiskit",
   "language": "python",
   "name": "env_qiskit"
  },
  "language_info": {
   "codemirror_mode": {
    "name": "ipython",
    "version": 3
   },
   "file_extension": ".py",
   "mimetype": "text/x-python",
   "name": "python",
   "nbconvert_exporter": "python",
   "pygments_lexer": "ipython3",
   "version": "3.9.1"
  }
 },
 "nbformat": 4,
 "nbformat_minor": 4
}
