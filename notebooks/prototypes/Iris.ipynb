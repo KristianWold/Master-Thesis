{
 "cells": [
  {
   "cell_type": "code",
   "execution_count": 2,
   "metadata": {},
   "outputs": [],
   "source": [
    "import numpy as np\n",
    "import qiskit as qk\n",
    "import matplotlib.pyplot as plt\n",
    "\n",
    "from qiskit import Aer\n",
    "from tqdm.notebook import tqdm\n",
    "from sklearn.datasets import load_iris\n",
    "\n",
    "import sys\n",
    "sys.path.insert(0, '../../src/')\n",
    "from neuralnetwork import *\n",
    "from analysis import *\n",
    "\n",
    "#%matplotlib notebook\n",
    "%matplotlib inline\n",
    "%load_ext autoreload\n",
    "%autoreload 2"
   ]
  },
  {
   "cell_type": "markdown",
   "metadata": {},
   "source": [
    "# Iris Data"
   ]
  },
  {
   "cell_type": "markdown",
   "metadata": {},
   "source": [
    "## Data Preparation"
   ]
  },
  {
   "cell_type": "code",
   "execution_count": 3,
   "metadata": {},
   "outputs": [],
   "source": [
    "iris = load_iris()"
   ]
  },
  {
   "cell_type": "code",
   "execution_count": 4,
   "metadata": {},
   "outputs": [],
   "source": [
    "x = iris.data\n",
    "y = iris.target"
   ]
  },
  {
   "cell_type": "markdown",
   "metadata": {},
   "source": [
    "### Only first two classes"
   ]
  },
  {
   "cell_type": "code",
   "execution_count": 5,
   "metadata": {},
   "outputs": [
    {
     "name": "stdout",
     "output_type": "stream",
     "text": [
      "(100, 4) (100, 1)\n"
     ]
    }
   ],
   "source": [
    "x = x[y != 2]\n",
    "y = y[y != 2].reshape(-1,1)\n",
    "print(x.shape, y.shape)"
   ]
  },
  {
   "cell_type": "markdown",
   "metadata": {},
   "source": [
    "### Normalize Input Data"
   ]
  },
  {
   "cell_type": "code",
   "execution_count": 6,
   "metadata": {},
   "outputs": [],
   "source": [
    "x = x - np.amin(x, axis = 0)\n",
    "x = x/np.max(x, axis = 0)\n",
    "x = np.pi*x"
   ]
  },
  {
   "cell_type": "markdown",
   "metadata": {},
   "source": [
    "## Train Model"
   ]
  },
  {
   "cell_type": "code",
   "execution_count": 7,
   "metadata": {},
   "outputs": [],
   "source": [
    "backend = Aer.get_backend('qasm_simulator')"
   ]
  },
  {
   "cell_type": "code",
   "execution_count": 14,
   "metadata": {},
   "outputs": [],
   "source": [
    "np.random.seed(42)\n",
    "network1 = sequential_qnn(q_bits = [4, 2],\n",
    "                         dim = [4, 2, 1],\n",
    "                         reps = 1,\n",
    "                         backend = backend,\n",
    "                         shots = 10000,\n",
    "                         lr = 0.1)"
   ]
  },
  {
   "cell_type": "code",
   "execution_count": 15,
   "metadata": {},
   "outputs": [
    {
     "data": {
      "application/vnd.jupyter.widget-view+json": {
       "model_id": "a02fd052b3554b32a3814700b99f6648",
       "version_major": 2,
       "version_minor": 0
      },
      "text/plain": [
       "  0%|          | 0/100 [00:00<?, ?it/s]"
      ]
     },
     "metadata": {},
     "output_type": "display_data"
    },
    {
     "name": "stdout",
     "output_type": "stream",
     "text": [
      "epoch: 0, loss: 0.5788790835000001\n",
      "epoch: 1, loss: 0.4805341947999999\n",
      "epoch: 2, loss: 0.36734657559999995\n",
      "epoch: 3, loss: 0.24142560069999994\n",
      "epoch: 4, loss: 0.1448321174\n",
      "epoch: 5, loss: 0.09726094109999998\n",
      "epoch: 6, loss: 0.08667548360000003\n",
      "epoch: 7, loss: 0.08514999210000002\n",
      "epoch: 8, loss: 0.0804845379\n",
      "epoch: 9, loss: 0.0678246025\n",
      "epoch: 10, loss: 0.053489795900000005\n",
      "epoch: 11, loss: 0.0440829248\n",
      "epoch: 12, loss: 0.040439301100000005\n",
      "epoch: 13, loss: 0.04105677399999999\n",
      "epoch: 14, loss: 0.04237602509999999\n",
      "epoch: 15, loss: 0.04286654769999999\n",
      "epoch: 16, loss: 0.039595537199999996\n",
      "epoch: 17, loss: 0.03445564269999999\n",
      "epoch: 18, loss: 0.0288372589\n",
      "epoch: 19, loss: 0.0249826926\n",
      "epoch: 20, loss: 0.02168046250000001\n",
      "epoch: 21, loss: 0.020443570799999998\n",
      "epoch: 22, loss: 0.0194516836\n",
      "epoch: 23, loss: 0.019663131200000003\n",
      "epoch: 24, loss: 0.019789652499999998\n",
      "epoch: 25, loss: 0.020639381000000002\n",
      "epoch: 26, loss: 0.0207310339\n",
      "epoch: 27, loss: 0.0200557313\n",
      "epoch: 28, loss: 0.0178224285\n",
      "epoch: 29, loss: 0.0169437588\n",
      "epoch: 30, loss: 0.0156887775\n",
      "epoch: 31, loss: 0.014510554900000002\n",
      "epoch: 32, loss: 0.015131798599999998\n",
      "epoch: 33, loss: 0.0150968647\n",
      "epoch: 34, loss: 0.015982409999999996\n",
      "epoch: 35, loss: 0.0160248211\n",
      "epoch: 36, loss: 0.0157587642\n",
      "epoch: 37, loss: 0.0155602259\n",
      "epoch: 38, loss: 0.015288916999999999\n",
      "epoch: 39, loss: 0.014844386600000002\n",
      "epoch: 40, loss: 0.013864496100000002\n",
      "epoch: 41, loss: 0.013690954600000001\n",
      "epoch: 42, loss: 0.013592374600000002\n",
      "epoch: 43, loss: 0.0137050295\n",
      "epoch: 44, loss: 0.013768968299999997\n",
      "epoch: 45, loss: 0.013740439799999999\n",
      "epoch: 46, loss: 0.0139753619\n",
      "epoch: 47, loss: 0.013486660900000001\n",
      "epoch: 48, loss: 0.014088191199999997\n",
      "epoch: 49, loss: 0.013350501099999997\n",
      "epoch: 50, loss: 0.012700573800000002\n",
      "epoch: 51, loss: 0.013200689499999996\n",
      "epoch: 52, loss: 0.013037369399999998\n",
      "epoch: 53, loss: 0.013575819199999999\n",
      "epoch: 54, loss: 0.0136909758\n",
      "epoch: 55, loss: 0.0128191858\n",
      "epoch: 56, loss: 0.0130891546\n",
      "epoch: 57, loss: 0.0133178378\n",
      "epoch: 58, loss: 0.013633499700000001\n",
      "epoch: 59, loss: 0.012874966600000003\n",
      "epoch: 60, loss: 0.013277213400000001\n",
      "epoch: 61, loss: 0.0126500046\n",
      "epoch: 62, loss: 0.012980529799999998\n",
      "epoch: 63, loss: 0.012875846000000002\n",
      "epoch: 64, loss: 0.013448686799999998\n",
      "epoch: 65, loss: 0.0129582138\n",
      "epoch: 66, loss: 0.0126100003\n",
      "epoch: 67, loss: 0.0124750184\n",
      "epoch: 68, loss: 0.0124968206\n",
      "epoch: 69, loss: 0.012447300400000003\n",
      "epoch: 70, loss: 0.012333068599999998\n",
      "epoch: 71, loss: 0.0128352442\n",
      "epoch: 72, loss: 0.0126786368\n",
      "epoch: 73, loss: 0.013019286400000002\n",
      "epoch: 74, loss: 0.012567221699999999\n",
      "epoch: 75, loss: 0.0125359907\n",
      "epoch: 76, loss: 0.0126287567\n",
      "epoch: 77, loss: 0.012495716200000001\n",
      "epoch: 78, loss: 0.012263516999999996\n",
      "epoch: 79, loss: 0.012382374799999998\n",
      "epoch: 80, loss: 0.011889151200000002\n",
      "epoch: 81, loss: 0.0125478975\n",
      "epoch: 82, loss: 0.012303752899999998\n",
      "epoch: 83, loss: 0.012157665199999999\n",
      "epoch: 84, loss: 0.012616653999999998\n",
      "epoch: 85, loss: 0.011939088199999998\n",
      "epoch: 86, loss: 0.012243777100000002\n",
      "epoch: 87, loss: 0.012066495300000004\n",
      "epoch: 88, loss: 0.012655950000000001\n",
      "epoch: 89, loss: 0.0124725498\n",
      "epoch: 90, loss: 0.012892467900000003\n",
      "epoch: 91, loss: 0.012521950799999997\n",
      "epoch: 92, loss: 0.012296991299999999\n",
      "epoch: 93, loss: 0.0121105865\n",
      "epoch: 94, loss: 0.0123230337\n",
      "epoch: 95, loss: 0.012705469500000004\n",
      "epoch: 96, loss: 0.013120748500000001\n",
      "epoch: 97, loss: 0.0125189299\n",
      "epoch: 98, loss: 0.012614295499999999\n",
      "epoch: 99, loss: 0.012682348299999997\n"
     ]
    }
   ],
   "source": [
    "network1.train(x,y, epochs = 100, verbose = True)"
   ]
  },
  {
   "cell_type": "code",
   "execution_count": 16,
   "metadata": {},
   "outputs": [
    {
     "data": {
      "text/plain": [
       "[<matplotlib.lines.Line2D at 0x7f92ddd34b50>]"
      ]
     },
     "execution_count": 16,
     "metadata": {},
     "output_type": "execute_result"
    },
    {
     "data": {
      "image/png": "[encoded data removed]",
      "text/plain": [
       "<Figure size 432x288 with 1 Axes>"
      ]
     },
     "metadata": {
      "needs_background": "light"
     },
     "output_type": "display_data"
    }
   ],
   "source": [
    "plt.plot(network1.loss)"
   ]
  },
  {
   "cell_type": "code",
   "execution_count": 8,
   "metadata": {},
   "outputs": [],
   "source": [
    "#saver(network1, data_path(\"Iris_qnn1\"))\n",
    "network1 = loader(data_path(\"Iris_qnn1\"))"
   ]
  },
  {
   "cell_type": "code",
   "execution_count": 9,
   "metadata": {},
   "outputs": [],
   "source": [
    "np.random.seed(40)\n",
    "network2 = sequential_dnn(dim=[4, 2, 1], bias=False, lr=0.1)"
   ]
  },
  {
   "cell_type": "code",
   "execution_count": 10,
   "metadata": {},
   "outputs": [
    {
     "data": {
      "application/vnd.jupyter.widget-view+json": {
       "model_id": "6d92ad6b2a3a4518a56f7f75cd1fe53a",
       "version_major": 2,
       "version_minor": 0
      },
      "text/plain": [
       "  0%|          | 0/100 [00:00<?, ?it/s]"
      ]
     },
     "metadata": {},
     "output_type": "display_data"
    },
    {
     "name": "stdout",
     "output_type": "stream",
     "text": [
      "epoch: 0, loss: 0.30929178919588485\n",
      "epoch: 1, loss: 0.28878133677447804\n",
      "epoch: 2, loss: 0.27193748507053106\n",
      "epoch: 3, loss: 0.2575688549974009\n",
      "epoch: 4, loss: 0.24399934167430135\n",
      "epoch: 5, loss: 0.23086094820509165\n",
      "epoch: 6, loss: 0.21843641555269414\n",
      "epoch: 7, loss: 0.20697538124246478\n",
      "epoch: 8, loss: 0.19658291336608857\n",
      "epoch: 9, loss: 0.1872916687330534\n",
      "epoch: 10, loss: 0.17909677373015584\n",
      "epoch: 11, loss: 0.17192687068537565\n",
      "epoch: 12, loss: 0.1656305139373356\n",
      "epoch: 13, loss: 0.16000796067266576\n",
      "epoch: 14, loss: 0.1548588669913979\n",
      "epoch: 15, loss: 0.15001157433125056\n",
      "epoch: 16, loss: 0.14532526571944218\n",
      "epoch: 17, loss: 0.14067570141853106\n",
      "epoch: 18, loss: 0.13593807866574617\n",
      "epoch: 19, loss: 0.13097590067852985\n",
      "epoch: 20, loss: 0.12564075962182764\n",
      "epoch: 21, loss: 0.1197860771615617\n",
      "epoch: 22, loss: 0.11329610417498062\n",
      "epoch: 23, loss: 0.10612706318169768\n",
      "epoch: 24, loss: 0.09834816242969781\n",
      "epoch: 25, loss: 0.09015940320732442\n",
      "epoch: 26, loss: 0.08186371597208279\n",
      "epoch: 27, loss: 0.07379494406167803\n",
      "epoch: 28, loss: 0.06623599266542293\n",
      "epoch: 29, loss: 0.059368426440273986\n",
      "epoch: 30, loss: 0.05326779748262334\n",
      "epoch: 31, loss: 0.04792902656218679\n",
      "epoch: 32, loss: 0.0432987811198644\n",
      "epoch: 33, loss: 0.03930131373761807\n",
      "epoch: 34, loss: 0.03585476684091357\n",
      "epoch: 35, loss: 0.032879976150832206\n",
      "epoch: 36, loss: 0.030304632890689794\n",
      "epoch: 37, loss: 0.028064918547730296\n",
      "epoch: 38, loss: 0.02610584392263692\n",
      "epoch: 39, loss: 0.024380926599688112\n",
      "epoch: 40, loss: 0.022851519438157726\n",
      "epoch: 41, loss: 0.021485953164094403\n",
      "epoch: 42, loss: 0.020258592527927527\n",
      "epoch: 43, loss: 0.01914887739539893\n",
      "epoch: 44, loss: 0.018140403513458837\n",
      "epoch: 45, loss: 0.01722008335020111\n",
      "epoch: 46, loss: 0.01637741319937466\n",
      "epoch: 47, loss: 0.015603859224892516\n",
      "epoch: 48, loss: 0.014892363458633779\n",
      "epoch: 49, loss: 0.01423696183060185\n",
      "epoch: 50, loss: 0.013632500435707063\n",
      "epoch: 51, loss: 0.013074433254998179\n",
      "epoch: 52, loss: 0.012558683939345373\n",
      "epoch: 53, loss: 0.012081555361999768\n",
      "epoch: 54, loss: 0.011639672781562993\n",
      "epoch: 55, loss: 0.011229949055410091\n",
      "epoch: 56, loss: 0.010849562979227003\n",
      "epoch: 57, loss: 0.010495944228773018\n",
      "epoch: 58, loss: 0.010166760407628374\n",
      "epoch: 59, loss: 0.009859903325018286\n",
      "epoch: 60, loss: 0.009573472876024284\n",
      "epoch: 61, loss: 0.00930575784795367\n",
      "epoch: 62, loss: 0.009055213722496893\n",
      "epoch: 63, loss: 0.008820438169911436\n",
      "epoch: 64, loss: 0.00860014550048481\n",
      "epoch: 65, loss: 0.008393141865575727\n",
      "epoch: 66, loss: 0.008198303434085981\n",
      "epoch: 67, loss: 0.00801455997975723\n",
      "epoch: 68, loss: 0.00784088610611951\n",
      "epoch: 69, loss: 0.007676301515486764\n",
      "epoch: 70, loss: 0.00751988022189758\n",
      "epoch: 71, loss: 0.0073707666011266874\n",
      "epoch: 72, loss: 0.007228194183069696\n",
      "epoch: 73, loss: 0.00709150187389059\n",
      "epoch: 74, loss: 0.0069601425169125665\n",
      "epoch: 75, loss: 0.006833680551340041\n",
      "epoch: 76, loss: 0.006711778490808686\n",
      "epoch: 77, loss: 0.006594174962485448\n",
      "epoch: 78, loss: 0.006480659029865131\n",
      "epoch: 79, loss: 0.00637104587726505\n",
      "epoch: 80, loss: 0.006265157795345786\n",
      "epoch: 81, loss: 0.006162812447339453\n",
      "epoch: 82, loss: 0.0060638184142818765\n",
      "epoch: 83, loss: 0.005967976584748366\n",
      "epoch: 84, loss: 0.00587508527517917\n",
      "epoch: 85, loss: 0.005784946946094724\n",
      "epoch: 86, loss: 0.005697374777529248\n",
      "epoch: 87, loss: 0.005612197936770234\n",
      "epoch: 88, loss: 0.005529264933333056\n",
      "epoch: 89, loss: 0.005448444913814215\n",
      "epoch: 90, loss: 0.005369627072775554\n",
      "epoch: 91, loss: 0.005292718554227828\n",
      "epoch: 92, loss: 0.005217641316882669\n",
      "epoch: 93, loss: 0.005144328461915318\n",
      "epoch: 94, loss: 0.005072720495926171\n",
      "epoch: 95, loss: 0.0050027619386416675\n",
      "epoch: 96, loss: 0.004934398593949809\n",
      "epoch: 97, loss: 0.004867575691149241\n",
      "epoch: 98, loss: 0.004802236978599796\n",
      "epoch: 99, loss: 0.00473832472497266\n"
     ]
    }
   ],
   "source": [
    "network2.train(x,y, epochs = 100, verbose = True)"
   ]
  },
  {
   "cell_type": "code",
   "execution_count": 16,
   "metadata": {},
   "outputs": [
    {
     "data": {
      "image/png": "[encoded data removed]",
      "text/plain": [
       "<Figure size 432x288 with 1 Axes>"
      ]
     },
     "metadata": {
      "needs_background": "light"
     },
     "output_type": "display_data"
    }
   ],
   "source": [
    "network1 = loader(data_path(\"Iris_qnn1\"))\n",
    "plt.plot(network1.loss)\n",
    "plt.plot(network2.loss)\n",
    "plt.show()\n",
    "\n",
    "y_pred = np.round(network2.predict(x)).astype(int)"
   ]
  },
  {
   "cell_type": "code",
   "execution_count": 17,
   "metadata": {},
   "outputs": [
    {
     "name": "stdout",
     "output_type": "stream",
     "text": [
      "[0 0 0 0 0 0 0 0 0 0 0 0 0 0 0 0 0 0 0 0 0 0 0 0 0 0 0 0 0 0 0 0 0 0 0 0 0\n",
      " 0 0 0 0 0 0 0 0 0 0 0 0 0 1 1 1 1 1 1 1 1 1 1 1 1 1 1 1 1 1 1 1 1 1 1 1 1\n",
      " 1 1 1 1 1 1 1 1 1 1 1 1 1 1 1 1 1 1 1 1 1 1 1 1 1 1]\n",
      "[0 0 0 0 0 0 0 0 0 0 0 0 0 0 0 0 0 0 0 0 0 0 0 0 0 0 0 0 0 0 0 0 0 0 0 0 0\n",
      " 0 0 0 0 0 0 0 0 0 0 0 0 0 1 1 1 1 1 1 1 1 1 1 1 1 1 1 1 1 1 1 1 1 1 1 1 1\n",
      " 1 1 1 1 1 1 1 1 1 1 1 1 1 1 1 1 1 1 1 1 1 1 1 1 1 1]\n"
     ]
    }
   ],
   "source": [
    "print(y_pred.flatten())\n",
    "print(y.flatten())"
   ]
  },
  {
   "cell_type": "code",
   "execution_count": 20,
   "metadata": {},
   "outputs": [
    {
     "name": "stdout",
     "output_type": "stream",
     "text": [
      "1.0\n"
     ]
    }
   ],
   "source": [
    "print(np.mean(y_pred == y))"
   ]
  },
  {
   "cell_type": "code",
   "execution_count": null,
   "metadata": {},
   "outputs": [],
   "source": []
  }
 ],
 "metadata": {
  "kernelspec": {
   "display_name": "env_qiskit",
   "language": "python",
   "name": "env_qiskit"
  },
  "language_info": {
   "codemirror_mode": {
    "name": "ipython",
    "version": 3
   },
   "file_extension": ".py",
   "mimetype": "text/x-python",
   "name": "python",
   "nbconvert_exporter": "python",
   "pygments_lexer": "ipython3",
   "version": "3.9.1"
  }
 },
 "nbformat": 4,
 "nbformat_minor": 4
}
